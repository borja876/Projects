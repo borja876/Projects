{
 "cells": [
  {
   "cell_type": "markdown",
   "metadata": {},
   "source": [
    "#### 1. The Sith Lords are concerned that their recruiting slogan, \"Give In to Your Anger,\" isn't very effective. Darth Vader develops an alternative slogan, \"Together We Can Rule the Galaxy.\" They compare the slogans on two groups of 50 captured droids each. In one group, Emperor Palpatine delivers the \"Anger\" slogan. In the other, Dark Vader presents the \"Together\" slogan. 20 droids convert to the Dark Side after hearing Palpatine's slogan, while only 5 droids convert after hearing Vader's. The Sith's data scientist concludes that \"Anger\" is a more effective slogan and should continue to be used.\n",
    "**Flaws:** We have two different observers delivering the message, Emperor Palpatine and Dark Vader. In this case the message is delivered to 2 different groups of drones, most probably by Dark Vader. Hence there is a bias in terms of Emperor Palpatine delivering the message of \"anger\" to angry droids as they have been camptured. Moreover, most probably was Dark Vader the one that was capturing the droids, so there´s little room to do \"things together\" as they have been forced to be there by him\n",
    "**Proposal:** Emperor Palpatine or Dark Vader should be the one delivering the message to both groups. It could be delivered not to captured droids but to droids in general so that they is no selection biased and contextual bias."
   ]
  },
  {
   "cell_type": "markdown",
   "metadata": {},
   "source": [
    "#### 2. In the past, the Jedi have had difficulty with public relations. They send two envoys, Jar Jar Binks and Mace Windu, to four friendly and four unfriendly planets respectively, with the goal of promoting favorable feelings toward the Jedi. Upon their return, the envoys learn that Jar Jar was much more effective than Windu: Over 75% of the people surveyed said their attitudes had become more favorable after speaking with Jar Jar, while only 65% said their attitudes had become more favorable after speaking with Windu. This makes Windu angry, because he is sure that he had a better success rate than Jar Jar on every planet. The Jedi choose Jar Jar to be their representative in the future.\n",
    "**Flaws:** Two different observers have been sent to two groups that are totally different, four friendly and four unfriendly planets. Jar Jar was sent to the friendly ones so its reasonable that they have a positive respnse as their starting point regarding their relationship with Jedis is better than the one in the unfriendly planets. Additionally, it should be checked what is more positive to have a 65% of positive reactions in unfriendly planets or to have 70% of positive reaction in friendly planets. Also as in case 1, we have 2 different observers delivering the message and personality traits can impact the way in which they are perceived in each case\n",
    "**Proposal:** Have one Jedi delivering the message to both friendly and unfriendly planets and see the result. Afterwards, with some time in between, repeat the experiment with different populations in each of the planets by the other Jedi."
   ]
  },
  {
   "cell_type": "markdown",
   "metadata": {},
   "source": [
    "#### 3. A company with work sites in five different countries has sent you data on employee satisfaction rates for workers in Human Resources and workers in Information Technology. Most HR workers are concentrated in three of the countries, while IT workers are equally distributed across worksites. The company requests a report on satisfaction for each job type. You calculate average job satisfaction for HR and for IT and present the report.\n",
    "**Flaws:** HR employees are concentrated in three countries in which maybe the company is not doing that well or the conomy of the country is not doing so well than in the other 2. The employee satisfaction survey for the IT workers show the general feeling across 5 countries therefore across the company while the HR survey will only show satisfaction in 3 of the 5 locations but not across the company.\n",
    "**Proposal:** Split the results and report in 2 individual reports without averaging the results between HR and IT workers. This will give the company the satisfaction report for IT workers and the satisfaction report for HR workers."
   ]
  },
  {
   "cell_type": "markdown",
   "metadata": {},
   "source": [
    "#### 4. When people install the Happy Days Fitness Tracker app, they are asked to \"opt in\" to a data collection scheme where their level of physical activity data is automatically sent to the company for product research purposes. During your interview with the company, they tell you that the app is very effective because after installing the app, the data show that people's activity levels rise steadily.\n",
    "**Flaws:** People that are not exercising regularly or not in a good shape might have not \"opted in\" as they don´t want their data to be collected and shared. Hence the only data that is gathered is from people that are really into sport and that are porud of their exercising data.\n",
    "**Proposal:** It should be done anonimously and give something back to the users. Instead of collecting the data for product research purposes, they can collect the data to help them to improve their physical activity and track it from day one. That will give users the correct incentive to \"opt in\". The messaging in this case is key."
   ]
  },
  {
   "cell_type": "markdown",
   "metadata": {},
   "source": [
    "#### 5. To prevent cheating, a teacher writes three versions of a test. She stacks the three versions together, first all copies of Version A, then all copies of Version B, then all copies of Version C. As students arrive for the exam, each student takes a test. When grading the test, the teacher finds that students who took Version B scored higher than students who took either Version A or Version C. She concludes from this that Version B is easier, and discards it.\n",
    "**Flaws:** Students that arrived to the exam after the first ones are the ones that are taking version B. In this case, they will be the ones that can see how the exam is and the ones that already have version A can share the questions with them. This will give them advantage when answering the questions. The ones that receive version C are the last ones to enter so they might not have time to discuss the questions or see what others are doing. Additionlly, students arriving later can sit together with the same examn in distant rows so that is easier for them to cheat. We don´t know the students population, maybe they are better students, less anxious about the exam.\n",
    "**Proposal:** Instead of giving out the copies of the exam as the students arrive. Let them sit in different rows and give out Version A, B and C to students that are sitting next to each other. Then repeat the process with each row until the last students receives the exam. That will introduce randomness in the way in which the versions are given out."
   ]
  }
 ],
 "metadata": {
  "kernelspec": {
   "display_name": "Python 3",
   "language": "python",
   "name": "python3"
  },
  "language_info": {
   "codemirror_mode": {
    "name": "ipython",
    "version": 3
   },
   "file_extension": ".py",
   "mimetype": "text/x-python",
   "name": "python",
   "nbconvert_exporter": "python",
   "pygments_lexer": "ipython3",
   "version": "3.6.1"
  }
 },
 "nbformat": 4,
 "nbformat_minor": 2
}
