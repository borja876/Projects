{
 "cells": [
  {
   "cell_type": "code",
   "execution_count": 1,
   "metadata": {
    "collapsed": true
   },
   "outputs": [],
   "source": [
    "%matplotlib inline\n",
    "import numpy as np\n",
    "import pandas as pd\n",
    "import scipy\n",
    "import sklearn\n",
    "import matplotlib.pyplot as plt\n",
    "import seaborn as sns\n",
    "import math\n",
    "from sklearn.model_selection import cross_val_score, KFold, cross_val_predict, train_test_split\n",
    "import matplotlib.pyplot as plt\n",
    "from sklearn.linear_model import LogisticRegression\n",
    "from sklearn.utils import resample\n",
    "from sklearn.ensemble import RandomForestClassifier\n",
    "from sklearn.naive_bayes import BernoulliNB\n",
    "import json\n",
    "import seaborn as sns\n",
    "from sklearn.metrics import roc_curve, auc, precision_recall_curve, confusion_matrix, classification_report, accuracy_score\n",
    "from sklearn.feature_extraction.text import ENGLISH_STOP_WORDS\n",
    "from sklearn.neighbors import KNeighborsClassifier\n",
    "from sklearn.pipeline import make_pipeline\n",
    "from sklearn.model_selection import GridSearchCV\n",
    "from sklearn.feature_extraction.text import TfidfVectorizer, CountVectorizer"
   ]
  },
  {
   "cell_type": "markdown",
   "metadata": {},
   "source": [
    "***Import & Analize Data***"
   ]
  },
  {
   "cell_type": "code",
   "execution_count": 2,
   "metadata": {},
   "outputs": [
    {
     "data": {
      "text/html": [
       "<div>\n",
       "<style>\n",
       "    .dataframe thead tr:only-child th {\n",
       "        text-align: right;\n",
       "    }\n",
       "\n",
       "    .dataframe thead th {\n",
       "        text-align: left;\n",
       "    }\n",
       "\n",
       "    .dataframe tbody tr th {\n",
       "        vertical-align: top;\n",
       "    }\n",
       "</style>\n",
       "<table border=\"1\" class=\"dataframe\">\n",
       "  <thead>\n",
       "    <tr style=\"text-align: right;\">\n",
       "      <th></th>\n",
       "      <th>overall</th>\n",
       "      <th>reviewText</th>\n",
       "    </tr>\n",
       "  </thead>\n",
       "  <tbody>\n",
       "    <tr>\n",
       "      <th>0</th>\n",
       "      <td>5</td>\n",
       "      <td>It's hard to believe \"Memory of Trees\" came ou...</td>\n",
       "    </tr>\n",
       "    <tr>\n",
       "      <th>1</th>\n",
       "      <td>5</td>\n",
       "      <td>A clasically-styled and introverted album, Mem...</td>\n",
       "    </tr>\n",
       "    <tr>\n",
       "      <th>2</th>\n",
       "      <td>5</td>\n",
       "      <td>I never thought Enya would reach the sublime h...</td>\n",
       "    </tr>\n",
       "    <tr>\n",
       "      <th>3</th>\n",
       "      <td>5</td>\n",
       "      <td>This is the third review of an irish album I w...</td>\n",
       "    </tr>\n",
       "    <tr>\n",
       "      <th>4</th>\n",
       "      <td>4</td>\n",
       "      <td>Enya, despite being a successful recording art...</td>\n",
       "    </tr>\n",
       "  </tbody>\n",
       "</table>\n",
       "</div>"
      ],
      "text/plain": [
       "   overall                                         reviewText\n",
       "0        5  It's hard to believe \"Memory of Trees\" came ou...\n",
       "1        5  A clasically-styled and introverted album, Mem...\n",
       "2        5  I never thought Enya would reach the sublime h...\n",
       "3        5  This is the third review of an irish album I w...\n",
       "4        4  Enya, despite being a successful recording art..."
      ]
     },
     "execution_count": 2,
     "metadata": {},
     "output_type": "execute_result"
    }
   ],
   "source": [
    "#Import data from json file and create a list\n",
    "\n",
    "data = []\n",
    "with open('Digital_Music_5.json') as f:\n",
    "    for line in f:\n",
    "        data.append(json.loads(line))\n",
    "\n",
    "#Create a dataframe with the columns that are interesting for this exercise\n",
    "#Columns left out: 'helpful', 'reviewTime', 'reviewerID','reviewerName'\n",
    "names = [\"overall\", \"reviewText\"]\n",
    "amazonraw = pd.DataFrame(data, columns=names)\n",
    "amazonraw['overall'] = amazonraw['overall'].astype(int)\n",
    "amazonraw.head()"
   ]
  },
  {
   "cell_type": "code",
   "execution_count": 3,
   "metadata": {},
   "outputs": [
    {
     "name": "stdout",
     "output_type": "stream",
     "text": [
      "<class 'pandas.core.frame.DataFrame'>\n",
      "RangeIndex: 64706 entries, 0 to 64705\n",
      "Data columns (total 2 columns):\n",
      "overall       64706 non-null int32\n",
      "reviewText    64706 non-null object\n",
      "dtypes: int32(1), object(1)\n",
      "memory usage: 758.4+ KB\n"
     ]
    },
    {
     "data": {
      "text/plain": [
       "overall        int32\n",
       "reviewText    object\n",
       "dtype: object"
      ]
     },
     "execution_count": 3,
     "metadata": {},
     "output_type": "execute_result"
    }
   ],
   "source": [
    "#Analyse the dataset: types, length of the dataframe and NaN\n",
    "amazonraw.info()\n",
    "amazonraw.dtypes"
   ]
  },
  {
   "cell_type": "markdown",
   "metadata": {},
   "source": [
    "***Build Sentiment Scores and Categories***"
   ]
  },
  {
   "cell_type": "code",
   "execution_count": 4,
   "metadata": {},
   "outputs": [
    {
     "data": {
      "text/plain": [
       "count    64706.000000\n",
       "mean         4.222514\n",
       "std          1.086081\n",
       "min          1.000000\n",
       "25%          4.000000\n",
       "50%          5.000000\n",
       "75%          5.000000\n",
       "max          5.000000\n",
       "Name: overall, dtype: float64"
      ]
     },
     "execution_count": 4,
     "metadata": {},
     "output_type": "execute_result"
    }
   ],
   "source": [
    "amazonraw.overall.describe()"
   ]
  },
  {
   "cell_type": "code",
   "execution_count": 5,
   "metadata": {
    "collapsed": true
   },
   "outputs": [],
   "source": [
    "#Change the Overall variable into a categorical variable\n",
    "#Ratings equal or lower than 3 have been considered negative as the mean is 4.25.\n",
    "#The hypothesis is that although the abovmentioned ratings could be considered positive they are negative\n",
    "\n",
    "amazonraw.loc[amazonraw['overall'] <= 3, 'Sentiment'] = 0\n",
    "amazonraw.loc[amazonraw['overall'] >=4 , 'Sentiment'] = 1\n",
    "amazonraw.loc[amazonraw['Sentiment'] == 0, 'Category'] ='Negative'\n",
    "amazonraw.loc[amazonraw['Sentiment'] == 1, 'Category'] = 'Positive'"
   ]
  },
  {
   "cell_type": "code",
   "execution_count": 6,
   "metadata": {},
   "outputs": [
    {
     "name": "stdout",
     "output_type": "stream",
     "text": [
      "Number of ocurrencies:\n",
      " Positive    52116\n",
      "Negative    12590\n",
      "dtype: int64\n",
      "\n",
      "\n",
      "Frequency of each value:\n",
      " Positive    0.805428\n",
      "Negative    0.194572\n",
      "Name: Category, dtype: float64\n"
     ]
    }
   ],
   "source": [
    "#Count the each of the categories\n",
    "\n",
    "a = amazonraw['Category'].value_counts('Positive')\n",
    "b = pd.value_counts(amazonraw['Category'].values, sort=False)\n",
    "\n",
    "print('Number of ocurrencies:\\n', b)\n",
    "print('\\n')\n",
    "print('Frequency of each value:\\n', a)"
   ]
  },
  {
   "cell_type": "code",
   "execution_count": 7,
   "metadata": {},
   "outputs": [
    {
     "data": {
      "text/plain": [
       "Negative    12590\n",
       "Positive    12590\n",
       "Name: Category, dtype: int64"
      ]
     },
     "execution_count": 7,
     "metadata": {},
     "output_type": "execute_result"
    }
   ],
   "source": [
    "#Downsample majority class (due to computational restrictions we downsample the majority instead of upsampling the minority)\n",
    "\n",
    "# Separate majority and minority classes\n",
    "amazon_majority = amazonraw[amazonraw.Sentiment == 1]\n",
    "amazon_minority = amazonraw[amazonraw.Sentiment == 0]\n",
    " \n",
    "# Downsample mairlinesass\n",
    "amazon_majority_downsampled = resample(amazon_majority, replace=False, n_samples=12590, random_state=123) \n",
    " \n",
    "# Combine minority class with downsampled majority class\n",
    "amazon = pd.concat([amazon_majority_downsampled, amazon_minority])\n",
    " \n",
    "# Display new class counts\n",
    "amazon.Category.value_counts()"
   ]
  },
  {
   "cell_type": "code",
   "execution_count": 8,
   "metadata": {},
   "outputs": [
    {
     "data": {
      "text/plain": [
       "Text(0.5,1,'Categories in the downsampled dataset')"
      ]
     },
     "execution_count": 8,
     "metadata": {},
     "output_type": "execute_result"
    },
    {
     "data": {
      "image/png": "[encoded data removed]",
      "text/plain": [
       "<matplotlib.figure.Figure at 0x21e817a3ac8>"
      ]
     },
     "metadata": {},
     "output_type": "display_data"
    }
   ],
   "source": [
    "#Graphical representation of the positive and negative reviews\n",
    "\n",
    "plt.figure(figsize=(20, 5))\n",
    "\n",
    "plt.subplot(1, 2, 1)\n",
    "\n",
    "sns.set(style=\"white\")\n",
    "ax = sns.countplot(x=\"overall\", data=amazonraw)\n",
    "plt.title('Amazon Ratings')\n",
    "\n",
    "plt.subplot(1, 2, 2)\n",
    "sns.set(style=\"white\")\n",
    "ax = sns.countplot(x=\"Category\", data=amazon)\n",
    "plt.title('Categories in the downsampled dataset')"
   ]
  },
  {
   "cell_type": "code",
   "execution_count": 9,
   "metadata": {},
   "outputs": [
    {
     "data": {
      "text/html": [
       "<div>\n",
       "<style>\n",
       "    .dataframe thead tr:only-child th {\n",
       "        text-align: right;\n",
       "    }\n",
       "\n",
       "    .dataframe thead th {\n",
       "        text-align: left;\n",
       "    }\n",
       "\n",
       "    .dataframe tbody tr th {\n",
       "        vertical-align: top;\n",
       "    }\n",
       "</style>\n",
       "<table border=\"1\" class=\"dataframe\">\n",
       "  <thead>\n",
       "    <tr style=\"text-align: right;\">\n",
       "      <th></th>\n",
       "      <th>overall</th>\n",
       "      <th>reviewText</th>\n",
       "      <th>Sentiment</th>\n",
       "      <th>Category</th>\n",
       "    </tr>\n",
       "  </thead>\n",
       "  <tbody>\n",
       "    <tr>\n",
       "      <th>59643</th>\n",
       "      <td>5</td>\n",
       "      <td>This is a great song that will stand the test ...</td>\n",
       "      <td>1.0</td>\n",
       "      <td>Positive</td>\n",
       "    </tr>\n",
       "    <tr>\n",
       "      <th>55386</th>\n",
       "      <td>5</td>\n",
       "      <td>I am ashamed to say that such a high rating on...</td>\n",
       "      <td>1.0</td>\n",
       "      <td>Positive</td>\n",
       "    </tr>\n",
       "    <tr>\n",
       "      <th>29299</th>\n",
       "      <td>4</td>\n",
       "      <td>Mobb deep have never disapointed fans , with a...</td>\n",
       "      <td>1.0</td>\n",
       "      <td>Positive</td>\n",
       "    </tr>\n",
       "    <tr>\n",
       "      <th>61457</th>\n",
       "      <td>4</td>\n",
       "      <td>I first learned of Sharon Van Etten when Rolli...</td>\n",
       "      <td>1.0</td>\n",
       "      <td>Positive</td>\n",
       "    </tr>\n",
       "    <tr>\n",
       "      <th>41719</th>\n",
       "      <td>4</td>\n",
       "      <td>In a similar line as contemporary acts The Vin...</td>\n",
       "      <td>1.0</td>\n",
       "      <td>Positive</td>\n",
       "    </tr>\n",
       "  </tbody>\n",
       "</table>\n",
       "</div>"
      ],
      "text/plain": [
       "       overall                                         reviewText  Sentiment  \\\n",
       "59643        5  This is a great song that will stand the test ...        1.0   \n",
       "55386        5  I am ashamed to say that such a high rating on...        1.0   \n",
       "29299        4  Mobb deep have never disapointed fans , with a...        1.0   \n",
       "61457        4  I first learned of Sharon Van Etten when Rolli...        1.0   \n",
       "41719        4  In a similar line as contemporary acts The Vin...        1.0   \n",
       "\n",
       "       Category  \n",
       "59643  Positive  \n",
       "55386  Positive  \n",
       "29299  Positive  \n",
       "61457  Positive  \n",
       "41719  Positive  "
      ]
     },
     "execution_count": 9,
     "metadata": {},
     "output_type": "execute_result"
    }
   ],
   "source": [
    "#Create new dataframe that has the Categories, Overall scores, Sentiment and ReviewText\n",
    "names = ['Category',\"overall\",'Sentiment', \"reviewText\"]\n",
    "amazon1 = pd.DataFrame(amazon, columns=names)\n",
    "amazon.head()"
   ]
  },
  {
   "cell_type": "code",
   "execution_count": 10,
   "metadata": {
    "collapsed": true
   },
   "outputs": [],
   "source": [
    "#Lines are reshuffled and 50% of the dataset is used to reduce the computing effort\n",
    "amazon2 = amazon1.sample(frac=1, random_state=7)"
   ]
  },
  {
   "cell_type": "code",
   "execution_count": 11,
   "metadata": {
    "collapsed": true
   },
   "outputs": [],
   "source": [
    "#Predictors and prediced variables are formed\n",
    "\n",
    "X = amazon2['reviewText']\n",
    "y = amazon2['Sentiment']\n",
    "\n",
    "#Split the data set into train and test 70/30\n",
    "X_train, X_test, y_train, y_test  = train_test_split(X,y, test_size=0.3, random_state=135)\n",
    "\n",
    "#KFold for cross validation analysis\n",
    "kf = KFold(5)"
   ]
  },
  {
   "cell_type": "markdown",
   "metadata": {},
   "source": [
    "### Bag of Words ###"
   ]
  },
  {
   "cell_type": "code",
   "execution_count": 12,
   "metadata": {},
   "outputs": [],
   "source": [
    "#Analysis starts with Bag of Words and common English words are extracted\n",
    "\n",
    "vect = CountVectorizer(analyzer = 'word', stop_words='english').fit(X_train)\n",
    "\n",
    "X_trainvec = vect.transform(X_train)\n",
    "X_testvec = vect.transform(X_test)"
   ]
  },
  {
   "cell_type": "code",
   "execution_count": 13,
   "metadata": {},
   "outputs": [
    {
     "name": "stdout",
     "output_type": "stream",
     "text": [
      "Number of stop words is : 318 \n",
      "\n",
      "Examples:  ['ourselves', 'see', 'but', 'will', 'latterly', 'de', 'noone', 'never', 'that', 'except', 'hereby', 'thence', 'them', 'here', 'it', 'off', 'seem', 'first', 'between', 'together', 'seemed', 'become', 'whereby', 'last', 'she', 'whereas', 'many', 'nevertheless', 'moreover', 'whose', 'himself', 'over']\n"
     ]
    }
   ],
   "source": [
    "#Count the number of english words and take a look at the type of words that are extracted\n",
    "\n",
    "print(\"Number of stop words is :\", len(ENGLISH_STOP_WORDS), \"\\n\")\n",
    "print(\"Examples: \", list(ENGLISH_STOP_WORDS)[::10])"
   ]
  },
  {
   "cell_type": "code",
   "execution_count": 14,
   "metadata": {},
   "outputs": [
    {
     "name": "stdout",
     "output_type": "stream",
     "text": [
      "59374\n",
      "\n",
      "\n",
      "['00', '000', '000x', '0051', '006', '007', '00am', '00s', '01', '01so', '02', '02604', '029', '03', '0304', '04', '0403', '047', '05', '054']\n",
      "\n",
      "\n",
      "['zulu', 'zumba', 'zune', 'zup', 'zutons', 'zwan', 'zwizany', 'zydeco', 'zygote', 'zz', 'zztop', 'zzz', 'zzzzzzzz', 'zzzzzzzzz', 'zzzzzzzzzz', 'zzzzzzzzzzz', 'zzzzzzzzzzzzz', 'zzzzzzzzzzzzzz', 'zzzzzzzzzzzzzzzzzzzzzzzzzzzzzzzzzzzzzzz', 'zzzzzzzzzzzzzzzzzzzzzzzzzzzzzzzzzzzzzzzz']\n"
     ]
    }
   ],
   "source": [
    "#Take a look at the features identified by bag of words\n",
    "\n",
    "features_names = vect.get_feature_names()\n",
    "print(len(features_names))\n",
    "print(\"\\n\")\n",
    "# print first 20 features\n",
    "print(features_names[:20])\n",
    "print(\"\\n\")\n",
    "# print last 20 features\n",
    "print(features_names[-20:])"
   ]
  },
  {
   "cell_type": "code",
   "execution_count": 15,
   "metadata": {},
   "outputs": [
    {
     "name": "stdout",
     "output_type": "stream",
     "text": [
      "(17626, 59374)\n"
     ]
    },
    {
     "data": {
      "text/plain": [
       "<17626x59374 sparse matrix of type '<class 'numpy.int64'>'\n",
       "\twith 1288564 stored elements in Compressed Sparse Row format>"
      ]
     },
     "execution_count": 15,
     "metadata": {},
     "output_type": "execute_result"
    }
   ],
   "source": [
    "#Size of the X_trainvector sparse matrix\n",
    "print(X_trainvec.shape)\n",
    "X_trainvec"
   ]
  },
  {
   "cell_type": "code",
   "execution_count": 16,
   "metadata": {},
   "outputs": [
    {
     "data": {
      "text/plain": [
       "(17626,)"
      ]
     },
     "execution_count": 16,
     "metadata": {},
     "output_type": "execute_result"
    }
   ],
   "source": [
    "#Check the size of the y_train vector to avoid problems when running the logistic regression model\n",
    "y_train.shape"
   ]
  },
  {
   "cell_type": "markdown",
   "metadata": {},
   "source": [
    "***Bernoulli***"
   ]
  },
  {
   "cell_type": "code",
   "execution_count": 17,
   "metadata": {},
   "outputs": [],
   "source": [
    "# Initialize and fit the model.\n",
    "\n",
    "l3 = BernoulliNB()\n",
    "\n",
    "param_grid = {'alpha': [0.01, 0.1, 1, 10, 100]}\n",
    "\n",
    "grid = GridSearchCV(l3, param_grid, scoring='roc_auc', refit=True, cv=kf)\n",
    "\n",
    "l3 = grid.fit(X_trainvec, y_train)\n",
    "\n",
    "# Predict on training set\n",
    "predtrain_y = grid.predict(X_trainvec)"
   ]
  },
  {
   "cell_type": "code",
   "execution_count": 18,
   "metadata": {},
   "outputs": [
    {
     "name": "stdout",
     "output_type": "stream",
     "text": [
      "             precision    recall  f1-score   support\n",
      "\n",
      "        0.0       0.58      0.94      0.72      8812\n",
      "        1.0       0.84      0.32      0.46      8814\n",
      "\n",
      "avg / total       0.71      0.63      0.59     17626\n",
      "\n",
      "[[8262  550]\n",
      " [6017 2797]]\n",
      "Training set accuracy: 0.7830242894762277\n",
      "Percent Type I errors: 0.031203903324634064\n",
      "Percent Type II errors: 0.34137070237149664\n",
      "\n",
      "\n"
     ]
    }
   ],
   "source": [
    "#Evaluation of model (training set)\n",
    "target_names = ['0.0', '1.0']\n",
    "print(classification_report(y_train, predtrain_y, target_names=target_names))\n",
    "\n",
    "confusion = confusion_matrix(y_train, predtrain_y)\n",
    "print(confusion)\n",
    "\n",
    "# Accuracy tables.\n",
    "table_train = pd.crosstab(y_train, predtrain_y, margins=True)\n",
    "\n",
    "train_tI_errors = table_train.loc[0.0,1.0] / table_train.loc['All','All']\n",
    "train_tII_errors = table_train.loc[1.0,0.0] / table_train.loc['All','All']\n",
    "\n",
    "print((\n",
    "    'Training set accuracy: {}\\n'\n",
    "    'Percent Type I errors: {}\\n'\n",
    "    'Percent Type II errors: {}\\n\\n'\n",
    ").format(cross_val_score(l3,X_trainvec,y_train,cv=kf).mean(),train_tI_errors, train_tII_errors))"
   ]
  },
  {
   "cell_type": "code",
   "execution_count": 19,
   "metadata": {},
   "outputs": [],
   "source": [
    "#Predicting on the test set\n",
    "\n",
    "l3 = BernoulliNB()\n",
    "\n",
    "param_grid = {'alpha': [0.01, 0.1, 1, 10, 100]}\n",
    "\n",
    "grid = GridSearchCV(l3, param_grid, scoring='roc_auc', refit=True, cv=kf)\n",
    "\n",
    "l3 = grid.fit(X_testvec, y_test)\n",
    "\n",
    "# Predict on training set\n",
    "predtest_y = grid.predict(X_testvec)"
   ]
  },
  {
   "cell_type": "code",
   "execution_count": 20,
   "metadata": {},
   "outputs": [
    {
     "name": "stdout",
     "output_type": "stream",
     "text": [
      "             precision    recall  f1-score   support\n",
      "\n",
      "        0.0       0.58      0.97      0.72      3778\n",
      "        1.0       0.91      0.29      0.44      3776\n",
      "\n",
      "avg / total       0.74      0.63      0.58      7554\n",
      "\n",
      "[[3664  114]\n",
      " [2690 1086]]\n",
      "Training set accuracy: 0.796462037665769\n",
      "Percent Type I errors: 0.015091342335186657\n",
      "Percent Type II errors: 0.356102727032036\n",
      "\n",
      "\n"
     ]
    }
   ],
   "source": [
    "#Evaluation of the model (testing)\n",
    "\n",
    "target_names = ['0.0', '1.0']\n",
    "print(classification_report(y_test, predtest_y, target_names=target_names))\n",
    "\n",
    "confusion = confusion_matrix(y_test, predtest_y)\n",
    "print(confusion)\n",
    "\n",
    "# Accuracy tables.\n",
    "table_test = pd.crosstab(y_test, predtest_y, margins=True)\n",
    "\n",
    "test_tI_errors = table_test.loc[0.0,1.0] / table_test.loc['All','All']\n",
    "test_tII_errors = table_test.loc[1.0,0.0] / table_test.loc['All','All']\n",
    "\n",
    "print((\n",
    "    'Training set accuracy: {}\\n'\n",
    "    'Percent Type I errors: {}\\n'\n",
    "    'Percent Type II errors: {}\\n\\n'\n",
    ").format(cross_val_score(l3,X_testvec,y_test,cv=kf).mean(),test_tI_errors, test_tII_errors))"
   ]
  },
  {
   "cell_type": "markdown",
   "metadata": {},
   "source": [
    "***Logistic Model***"
   ]
  },
  {
   "cell_type": "code",
   "execution_count": 21,
   "metadata": {},
   "outputs": [],
   "source": [
    "# Initialize and fit the model.\n",
    "\n",
    "lr = LogisticRegression(class_weight='balanced')\n",
    "\n",
    "param_grid = {'C': [0.01, 0.1, 1, 10, 100]}\n",
    "\n",
    "grid = GridSearchCV(lr, param_grid, scoring='roc_auc', cv=kf)\n",
    "\n",
    "lr = grid.fit(X_trainvec, y_train)\n",
    "\n",
    "# Predict on training set\n",
    "predtrain_y = lr.predict(X_trainvec)"
   ]
  },
  {
   "cell_type": "code",
   "execution_count": 22,
   "metadata": {},
   "outputs": [
    {
     "name": "stdout",
     "output_type": "stream",
     "text": [
      "             precision    recall  f1-score   support\n",
      "\n",
      "        0.0       0.92      0.93      0.93      8812\n",
      "        1.0       0.93      0.92      0.93      8814\n",
      "\n",
      "avg / total       0.93      0.93      0.93     17626\n",
      "\n",
      "[[8165  647]\n",
      " [ 665 8149]]\n",
      "Training set accuracy: 0.8654090672647274\n",
      "Percent Type I errors: 0.03670713718370589\n",
      "Percent Type II errors: 0.03772835583796664\n",
      "\n",
      "\n"
     ]
    }
   ],
   "source": [
    "\n",
    "target_names = ['0.0', '1.0']\n",
    "print(classification_report(y_train, predtrain_y, target_names=target_names))\n",
    "\n",
    "confusion = confusion_matrix(y_train, predtrain_y)\n",
    "print(confusion)\n",
    "\n",
    "# Accuracy tables.\n",
    "table_train = pd.crosstab(y_train, predtrain_y, margins=True)\n",
    "\n",
    "train_tI_errors = table_train.loc[0.0,1.0] / table_train.loc['All','All']\n",
    "train_tII_errors = table_train.loc[1.0,0.0] / table_train.loc['All','All']\n",
    "\n",
    "print((\n",
    "    'Training set accuracy: {}\\n'\n",
    "    'Percent Type I errors: {}\\n'\n",
    "    'Percent Type II errors: {}\\n\\n'\n",
    ").format(cross_val_score(lr,X_trainvec,y_train,cv=kf).mean(),train_tI_errors, train_tII_errors))"
   ]
  },
  {
   "cell_type": "code",
   "execution_count": 23,
   "metadata": {
    "collapsed": true
   },
   "outputs": [],
   "source": [
    "#Once the model has been trained test it on the test dataset\n",
    "lr = grid.fit(X_testvec, y_test)\n",
    "\n",
    "# Predict on test set\n",
    "predtest_y = grid.predict(X_testvec)"
   ]
  },
  {
   "cell_type": "code",
   "execution_count": 24,
   "metadata": {},
   "outputs": [
    {
     "name": "stdout",
     "output_type": "stream",
     "text": [
      "             precision    recall  f1-score   support\n",
      "\n",
      "        0.0       0.94      0.94      0.94      3778\n",
      "        1.0       0.94      0.94      0.94      3776\n",
      "\n",
      "avg / total       0.94      0.94      0.94      7554\n",
      "\n",
      "[[3569  209]\n",
      " [ 215 3561]]\n",
      "Training set accuracy: 0.8366741973989711\n",
      "Percent Type I errors: 0.027667460947842202\n",
      "Percent Type II errors: 0.028461742123378344\n",
      "\n",
      "\n"
     ]
    }
   ],
   "source": [
    "\n",
    "target_names = ['0.0', '1.0']\n",
    "print(classification_report(y_test, predtest_y, target_names=target_names))\n",
    "\n",
    "confusion = confusion_matrix(y_test, predtest_y)\n",
    "print(confusion)\n",
    "\n",
    "# Accuracy tables.\n",
    "table_test = pd.crosstab(y_test, predtest_y, margins=True)\n",
    "\n",
    "test_tI_errors = table_test.loc[0.0,1.0] / table_test.loc['All','All']\n",
    "test_tII_errors = table_test.loc[1.0,0.0] / table_test.loc['All','All']\n",
    "\n",
    "print((\n",
    "    'Training set accuracy: {}\\n'\n",
    "    'Percent Type I errors: {}\\n'\n",
    "    'Percent Type II errors: {}\\n\\n'\n",
    ").format(cross_val_score(lr,X_testvec,y_test,cv=kf).mean(),test_tI_errors, test_tII_errors))"
   ]
  },
  {
   "cell_type": "code",
   "execution_count": 25,
   "metadata": {},
   "outputs": [
    {
     "data": {
      "text/plain": [
       "<matplotlib.legend.Legend at 0x21e83773cc0>"
      ]
     },
     "execution_count": 25,
     "metadata": {},
     "output_type": "execute_result"
    },
    {
     "data": {
      "image/png": "[encoded data removed]",
      "text/plain": [
       "<matplotlib.figure.Figure at 0x21e83568be0>"
      ]
     },
     "metadata": {},
     "output_type": "display_data"
    }
   ],
   "source": [
    "from sklearn.metrics import roc_curve\n",
    "from sklearn.metrics import precision_recall_curve\n",
    "from sklearn.metrics import auc\n",
    "\n",
    "# find threshold closest to zero:\n",
    "fpr, tpr, thresholds = roc_curve(y_test, grid.decision_function(X_testvec))\n",
    "\n",
    "plt.figure(figsize=(20, 5))\n",
    "\n",
    "plt.subplot(1, 2, 1)\n",
    "close_zero = np.argmin(np.abs(thresholds))\n",
    "plt.plot(fpr[close_zero], tpr[close_zero], 'o', markersize=10, label='threshold zero(default)', fillstyle='none', c='k', mew=2)\n",
    "plt.plot([0,1], linestyle='--', lw=2, color='r', label='random', alpha=0.8)\n",
    "plt.legend(loc=4)\n",
    "plt.plot(fpr, tpr, label='ROC Curve')\n",
    "plt.xlabel('False Positive Rate')\n",
    "plt.ylabel('True Positive Rate (recall)')\n",
    "plt.title('ROC Curve')\n",
    "\n",
    "precision, recall, thresholds = precision_recall_curve(y_test, grid.decision_function(X_testvec))\n",
    "\n",
    "plt.subplot(1, 2, 2)\n",
    "close_zero = np.argmin(np.abs(thresholds))\n",
    "plt.plot(precision[close_zero], recall[close_zero], 'o', markersize=10, label=\"threhold zero\", fillstyle=\"none\", c=\"k\", mew=2)\n",
    "plt.plot(precision, recall, label=\"precision recall curve\")\n",
    "plt.xlabel(\"precision\")\n",
    "plt.ylabel(\"recall\")\n",
    "plt.title(\"Precision Recall Curve\")\n",
    "plt.legend(loc=\"best\")"
   ]
  },
  {
   "cell_type": "markdown",
   "metadata": {},
   "source": [
    "***TFIDF***"
   ]
  },
  {
   "cell_type": "code",
   "execution_count": 26,
   "metadata": {},
   "outputs": [],
   "source": [
    "\n",
    "vect2 = TfidfVectorizer(min_df=20, analyzer = 'word', stop_words = 'english',\n",
    "                        ngram_range = (1,2)\n",
    "                       ).fit(X_train)\n",
    "\n",
    "X_train_vectorized = vect2.transform(X_train)\n",
    "X_test_vectorized = vect2.transform(X_test)"
   ]
  },
  {
   "cell_type": "code",
   "execution_count": 27,
   "metadata": {},
   "outputs": [
    {
     "name": "stdout",
     "output_type": "stream",
     "text": [
      "11926\n"
     ]
    }
   ],
   "source": [
    "features_names = vect2.get_feature_names()\n",
    "print(len(features_names))"
   ]
  },
  {
   "cell_type": "markdown",
   "metadata": {},
   "source": [
    "***Logistic Model***"
   ]
  },
  {
   "cell_type": "code",
   "execution_count": 28,
   "metadata": {
    "collapsed": true
   },
   "outputs": [],
   "source": [
    "# Initialize and fit the model.\n",
    "\n",
    "lr2 = LogisticRegression(class_weight='balanced')\n",
    "\n",
    "param_grid = {'C': [0.01, 0.1, 1, 10, 100]}\n",
    "\n",
    "grid = GridSearchCV(lr2, param_grid, scoring='roc_auc', refit=True, cv=kf)\n",
    "\n",
    "lr2 = grid.fit(X_train_vectorized, y_train)\n",
    "\n",
    "# Predict on training set\n",
    "predtrain2_y = lr2.predict(X_train_vectorized)"
   ]
  },
  {
   "cell_type": "code",
   "execution_count": 29,
   "metadata": {},
   "outputs": [
    {
     "name": "stdout",
     "output_type": "stream",
     "text": [
      "             precision    recall  f1-score   support\n",
      "\n",
      "        0.0       0.89      0.87      0.88      8812\n",
      "        1.0       0.87      0.89      0.88      8814\n",
      "\n",
      "avg / total       0.88      0.88      0.88     17626\n",
      "\n",
      "[[7655 1157]\n",
      " [ 976 7838]]\n",
      "Training set accuracy: 0.887109776407718\n",
      "Percent Type I errors: 0.06564166572109384\n",
      "Percent Type II errors: 0.05537274480880518\n",
      "\n",
      "\n"
     ]
    }
   ],
   "source": [
    "#Training Scores\n",
    "target_names = ['0.0', '1.0']\n",
    "print(classification_report(y_train, predtrain2_y, target_names=target_names))\n",
    "\n",
    "confusion = confusion_matrix(y_train, predtrain2_y)\n",
    "print(confusion)\n",
    "\n",
    "# Accuracy tables.\n",
    "table_train = pd.crosstab(y_train, predtrain2_y, margins=True)\n",
    "\n",
    "train_tI_errors = table_train.loc[0.0,1.0] / table_train.loc['All','All']\n",
    "train_tII_errors = table_train.loc[1.0,0.0] / table_train.loc['All','All']\n",
    "\n",
    "print((\n",
    "    'Training set accuracy: {}\\n'\n",
    "    'Percent Type I errors: {}\\n'\n",
    "    'Percent Type II errors: {}\\n\\n'\n",
    ").format(cross_val_score(lr2,X_train_vectorized,y_train,cv=kf).mean(),train_tI_errors, train_tII_errors))"
   ]
  },
  {
   "cell_type": "code",
   "execution_count": 30,
   "metadata": {},
   "outputs": [],
   "source": [
    "#Once the model has been trained test it on the test dataset\n",
    "lr2 = grid.fit(X_test_vectorized, y_test)\n",
    "\n",
    "# Predict on test set\n",
    "predtest2_y = lr2.predict(X_test_vectorized)"
   ]
  },
  {
   "cell_type": "code",
   "execution_count": 31,
   "metadata": {},
   "outputs": [
    {
     "name": "stdout",
     "output_type": "stream",
     "text": [
      "             precision    recall  f1-score   support\n",
      "\n",
      "        0.0       0.89      0.88      0.89      3778\n",
      "        1.0       0.88      0.89      0.89      3776\n",
      "\n",
      "avg / total       0.89      0.89      0.89      7554\n",
      "\n",
      "[[3336  442]\n",
      " [ 397 3379]]\n",
      "Test set accuracy: 0.860150950189537\n",
      "Percent Type I errors: 0.058512046597828965\n",
      "Percent Type II errors: 0.05255493778130792\n",
      "\n",
      "\n"
     ]
    }
   ],
   "source": [
    "#Evaluate model (test set)\n",
    "target_names = ['0.0', '1.0']\n",
    "print(classification_report(y_test, predtest2_y, target_names=target_names))\n",
    "\n",
    "confusion = confusion_matrix(y_test, predtest2_y)\n",
    "print(confusion)\n",
    "\n",
    "# Accuracy tables.\n",
    "table_test = pd.crosstab(y_test, predtest2_y, margins=True)\n",
    "\n",
    "test_tI_errors = table_test.loc[0.0,1.0] / table_test.loc['All','All']\n",
    "test_tII_errors = table_test.loc[1.0,0.0] / table_test.loc['All','All']\n",
    "\n",
    "print((\n",
    "    'Test set accuracy: {}\\n'\n",
    "    'Percent Type I errors: {}\\n'\n",
    "    'Percent Type II errors: {}\\n\\n'\n",
    ").format(cross_val_score(lr2,X_test_vectorized,y_test,cv=kf).mean(),test_tI_errors, test_tII_errors))"
   ]
  },
  {
   "cell_type": "code",
   "execution_count": 32,
   "metadata": {},
   "outputs": [
    {
     "data": {
      "text/plain": [
       "<matplotlib.legend.Legend at 0x21e8cefc080>"
      ]
     },
     "execution_count": 32,
     "metadata": {},
     "output_type": "execute_result"
    },
    {
     "data": {
      "image/png": "[encoded data removed]",
      "text/plain": [
       "<matplotlib.figure.Figure at 0x21e8efe5208>"
      ]
     },
     "metadata": {},
     "output_type": "display_data"
    }
   ],
   "source": [
    "#AUC and precision-recall curves\n",
    "\n",
    "# find threshold closest to zero:\n",
    "fpr, tpr, thresholds = roc_curve(y_test, lr2.decision_function(X_test_vectorized))\n",
    "\n",
    "plt.figure(figsize=(20, 5))\n",
    "\n",
    "plt.subplot(1, 2, 1)\n",
    "close_zero = np.argmin(np.abs(thresholds))\n",
    "plt.plot(fpr[close_zero], tpr[close_zero], 'o', markersize=10, label='threshold zero(default)', fillstyle='none', c='k', mew=2)\n",
    "plt.plot([0,1], linestyle='--', lw=2, color='r', label='random', alpha=0.8)\n",
    "plt.legend(loc=4)\n",
    "plt.plot(fpr, tpr, label='ROC Curve')\n",
    "plt.xlabel('False Positive Rate')\n",
    "plt.ylabel('True Positive Rate (recall)')\n",
    "plt.title('ROC Curve')\n",
    "\n",
    "precision, recall, thresholds = precision_recall_curve(y_test, lr2.decision_function(X_test_vectorized))\n",
    "\n",
    "plt.subplot(1, 2, 2)\n",
    "close_zero = np.argmin(np.abs(thresholds))\n",
    "plt.plot(precision[close_zero], recall[close_zero], 'o', markersize=10, label=\"threhold zero\", fillstyle=\"none\", c=\"k\", mew=2)\n",
    "plt.plot(precision, recall, label=\"precision recall curve\")\n",
    "plt.xlabel(\"precision\")\n",
    "plt.ylabel(\"recall\")\n",
    "plt.title(\"Precision Recall Curve\")\n",
    "plt.legend(loc=\"best\")\n"
   ]
  },
  {
   "cell_type": "markdown",
   "metadata": {},
   "source": [
    "***Bernouilli Model***"
   ]
  },
  {
   "cell_type": "code",
   "execution_count": 33,
   "metadata": {},
   "outputs": [],
   "source": [
    "# Initialize and fit the model.\n",
    "\n",
    "l3 = BernoulliNB()\n",
    "\n",
    "param_grid = {'alpha': [0.01, 0.1, 1, 10, 100]}\n",
    "\n",
    "grid = GridSearchCV(l3, param_grid, scoring='roc_auc', refit=True, cv=kf)\n",
    "\n",
    "l3 = grid.fit(X_train_vectorized, y_train)\n",
    "\n",
    "# Predict on training set\n",
    "predtrain3_y = grid.predict(X_train_vectorized)"
   ]
  },
  {
   "cell_type": "code",
   "execution_count": 34,
   "metadata": {},
   "outputs": [
    {
     "name": "stdout",
     "output_type": "stream",
     "text": [
      "             precision    recall  f1-score   support\n",
      "\n",
      "        0.0       0.92      0.93      0.93      8812\n",
      "        1.0       0.93      0.92      0.93      8814\n",
      "\n",
      "avg / total       0.93      0.93      0.93     17626\n",
      "\n",
      "[[8165  647]\n",
      " [ 665 8149]]\n",
      "Training set accuracy: 0.8018090261119195\n",
      "Percent Type I errors: 0.03670713718370589\n",
      "Percent Type II errors: 0.03772835583796664\n",
      "\n",
      "\n"
     ]
    }
   ],
   "source": [
    "#Evaluate Model (training set)\n",
    "\n",
    "target_names = ['0.0', '1.0']\n",
    "print(classification_report(y_train, predtrain_y, target_names=target_names))\n",
    "\n",
    "confusion = confusion_matrix(y_train, predtrain_y)\n",
    "print(confusion)\n",
    "\n",
    "# Accuracy tables.\n",
    "table_train = pd.crosstab(y_train, predtrain_y, margins=True)\n",
    "\n",
    "train_tI_errors = table_train.loc[0.0,1.0] / table_train.loc['All','All']\n",
    "train_tII_errors = table_train.loc[1.0,0.0] / table_train.loc['All','All']\n",
    "\n",
    "print((\n",
    "    'Training set accuracy: {}\\n'\n",
    "    'Percent Type I errors: {}\\n'\n",
    "    'Percent Type II errors: {}\\n\\n'\n",
    ").format(cross_val_score(l3,X_train_vectorized,y_train,cv=kf).mean(),train_tI_errors, train_tII_errors))"
   ]
  },
  {
   "cell_type": "code",
   "execution_count": 35,
   "metadata": {
    "collapsed": true
   },
   "outputs": [],
   "source": [
    "# Predict on the test data set\n",
    "\n",
    "l3 = BernoulliNB()\n",
    "\n",
    "param_grid = {'alpha': [0.01, 0.1, 1, 10, 100]}\n",
    "\n",
    "grid = GridSearchCV(l3, param_grid, scoring='roc_auc', refit=True, cv=kf)\n",
    "\n",
    "l3 = grid.fit(X_test_vectorized, y_test)\n",
    "\n",
    "# Predict on training set\n",
    "predtest3_y = grid.predict(X_test_vectorized)"
   ]
  },
  {
   "cell_type": "code",
   "execution_count": 36,
   "metadata": {},
   "outputs": [
    {
     "name": "stdout",
     "output_type": "stream",
     "text": [
      "             precision    recall  f1-score   support\n",
      "\n",
      "        0.0       0.72      0.89      0.79      3778\n",
      "        1.0       0.85      0.65      0.74      3776\n",
      "\n",
      "avg / total       0.78      0.77      0.76      7554\n",
      "\n",
      "[[3358  420]\n",
      " [1337 2439]]\n",
      "Training set accuracy: 0.8083484864545237\n",
      "Percent Type I errors: 0.05559968228752978\n",
      "Percent Type II errors: 0.17699232194863648\n",
      "\n",
      "\n"
     ]
    }
   ],
   "source": [
    "#Evaluation of the model (testing)\n",
    "\n",
    "target_names = ['0.0', '1.0']\n",
    "print(classification_report(y_test, predtest3_y, target_names=target_names))\n",
    "\n",
    "confusion = confusion_matrix(y_test, predtest3_y)\n",
    "print(confusion)\n",
    "\n",
    "# Accuracy tables.\n",
    "table_test = pd.crosstab(y_test, predtest3_y, margins=True)\n",
    "\n",
    "test_tI_errors = table_test.loc[0.0,1.0] / table_test.loc['All','All']\n",
    "test_tII_errors = table_test.loc[1.0,0.0] / table_test.loc['All','All']\n",
    "\n",
    "print((\n",
    "    'Training set accuracy: {}\\n'\n",
    "    'Percent Type I errors: {}\\n'\n",
    "    'Percent Type II errors: {}\\n\\n'\n",
    ").format(cross_val_score(l3,X_test_vectorized,y_test,cv=kf).mean(),test_tI_errors, test_tII_errors))"
   ]
  },
  {
   "cell_type": "markdown",
   "metadata": {},
   "source": [
    "***KNN model***"
   ]
  },
  {
   "cell_type": "code",
   "execution_count": 37,
   "metadata": {
    "collapsed": true
   },
   "outputs": [],
   "source": [
    "# Initialize and fit the model\n",
    "KNN = KNeighborsClassifier()\n",
    "\n",
    "param_grid = {'n_neighbors': [1, 3, 5]}\n",
    "\n",
    "grid = GridSearchCV(KNN, param_grid, scoring='roc_auc', refit=True, cv=kf)\n",
    "\n",
    "KNN = grid.fit(X_train_vectorized, y_train)\n",
    "\n",
    "# Predict on training set\n",
    "predtrain3_y = grid.predict(X_train_vectorized)"
   ]
  },
  {
   "cell_type": "code",
   "execution_count": 38,
   "metadata": {
    "scrolled": true
   },
   "outputs": [
    {
     "name": "stdout",
     "output_type": "stream",
     "text": [
      "             precision    recall  f1-score   support\n",
      "\n",
      "        0.0       0.75      0.84      0.79      8812\n",
      "        1.0       0.82      0.72      0.77      8814\n",
      "\n",
      "avg / total       0.79      0.78      0.78     17626\n",
      "\n",
      "[[7438 1374]\n",
      " [2488 6326]]\n",
      "Training set accuracy: 0.6709910940534166\n",
      "Percent Type I errors: 0.07795302394190401\n",
      "Percent Type II errors: 0.14115511176670828\n",
      "\n",
      "\n"
     ]
    }
   ],
   "source": [
    "#Evaluate model on the training set\n",
    "target_names = ['0.0', '1.0']\n",
    "print(classification_report(y_train, predtrain3_y, target_names=target_names))\n",
    "\n",
    "confusion = confusion_matrix(y_train, predtrain3_y)\n",
    "print(confusion)\n",
    "\n",
    "# Accuracy tables.\n",
    "table_train = pd.crosstab(y_train, predtrain3_y, margins=True)\n",
    "\n",
    "train_tI_errors = table_train.loc[0.0,1.0] / table_train.loc['All','All']\n",
    "train_tII_errors = table_train.loc[1.0,0.0] / table_train.loc['All','All']\n",
    "\n",
    "print((\n",
    "    'Training set accuracy: {}\\n'\n",
    "    'Percent Type I errors: {}\\n'\n",
    "    'Percent Type II errors: {}\\n\\n'\n",
    ").format(cross_val_score(KNN,X_train_vectorized,y_train,cv=kf).mean(),train_tI_errors, train_tII_errors))"
   ]
  },
  {
   "cell_type": "code",
   "execution_count": 39,
   "metadata": {
    "collapsed": true
   },
   "outputs": [],
   "source": [
    "# Initialize and fit the model\n",
    "KNN = KNeighborsClassifier()\n",
    "\n",
    "param_grid = {'n_neighbors': [1, 3, 5]}\n",
    "\n",
    "grid = GridSearchCV(KNN, param_grid, scoring='roc_auc', refit=True, cv=kf)\n",
    "\n",
    "KNN = grid.fit(X_test_vectorized, y_test)\n",
    "\n",
    "# Predict on training set\n",
    "predtest3_y = grid.predict(X_test_vectorized)"
   ]
  },
  {
   "cell_type": "code",
   "execution_count": 40,
   "metadata": {},
   "outputs": [
    {
     "name": "stdout",
     "output_type": "stream",
     "text": [
      "             precision    recall  f1-score   support\n",
      "\n",
      "        0.0       0.73      0.84      0.78      3778\n",
      "        1.0       0.82      0.69      0.75      3776\n",
      "\n",
      "avg / total       0.77      0.77      0.77      7554\n",
      "\n",
      "[[3188  590]\n",
      " [1172 2604]]\n",
      "Training set accuracy: 0.6561079182800065\n",
      "Percent Type I errors: 0.07810431559438707\n",
      "Percent Type II errors: 0.15514958962139264\n",
      "\n",
      "\n"
     ]
    }
   ],
   "source": [
    "#Evaluate model on the training set\n",
    "target_names = ['0.0', '1.0']\n",
    "print(classification_report(y_test, predtest3_y, target_names=target_names))\n",
    "\n",
    "confusion = confusion_matrix(y_test, predtest3_y)\n",
    "print(confusion)\n",
    "\n",
    "# Accuracy tables.\n",
    "table_test = pd.crosstab(y_test, predtest3_y, margins=True)\n",
    "\n",
    "test_tI_errors = table_test.loc[0.0,1.0] / table_test.loc['All','All']\n",
    "test_tII_errors = table_test.loc[1.0,0.0] / table_test.loc['All','All']\n",
    "\n",
    "print((\n",
    "    'Training set accuracy: {}\\n'\n",
    "    'Percent Type I errors: {}\\n'\n",
    "    'Percent Type II errors: {}\\n\\n'\n",
    ").format(cross_val_score(KNN,X_test_vectorized,y_test,cv=kf).mean(),test_tI_errors, test_tII_errors))"
   ]
  },
  {
   "cell_type": "markdown",
   "metadata": {},
   "source": [
    "***Random Forest***"
   ]
  },
  {
   "cell_type": "code",
   "execution_count": 41,
   "metadata": {
    "collapsed": true
   },
   "outputs": [],
   "source": [
    "# Train model\n",
    "rf = RandomForestClassifier()\n",
    "rf.fit(X_train_vectorized, y_train)\n",
    "rf.fit(X_test_vectorized, y_test)\n",
    "\n",
    "# Predict on training set\n",
    "predtrainrf_y = rf.predict(X_train_vectorized)\n",
    "predtestrf_y = rf.predict(X_test_vectorized)"
   ]
  },
  {
   "cell_type": "code",
   "execution_count": 42,
   "metadata": {},
   "outputs": [
    {
     "name": "stdout",
     "output_type": "stream",
     "text": [
      "             precision    recall  f1-score   support\n",
      "\n",
      "          0       0.68      0.78      0.73      8812\n",
      "          1       0.74      0.64      0.69      8814\n",
      "\n",
      "avg / total       0.71      0.71      0.71     17626\n",
      "\n",
      "[[6830 1982]\n",
      " [3166 5648]]\n",
      "Training set accuracy:0.713718572871033\n",
      "Percent Type I errors: 0.11244752070804494\n",
      "Percent Type II errors: 0.1796210144105299\n",
      "\n",
      "\n"
     ]
    }
   ],
   "source": [
    "#Training Scores\n",
    "target_names = ['0', '1']\n",
    "print(classification_report(y_train, predtrainrf_y, target_names=target_names))\n",
    "cnf = confusion_matrix(y_train, predtrainrf_y)\n",
    "print(cnf)\n",
    "\n",
    "# Accuracy tables.\n",
    "table_train = pd.crosstab(y_train, predtrainrf_y, margins=True)\n",
    "\n",
    "train_tI_errors = table_train.loc[0.0,1.0] / table_train.loc['All','All']\n",
    "train_tII_errors = table_train.loc[1.0,0.0] / table_train.loc['All','All']\n",
    "\n",
    "print((\n",
    "    'Training set accuracy:{}\\n'\n",
    "    'Percent Type I errors: {}\\n'\n",
    "    'Percent Type II errors: {}\\n\\n'\n",
    ").format(cross_val_score(rf,X_train_vectorized,y_train,cv=kf).mean(),train_tI_errors, train_tII_errors))"
   ]
  },
  {
   "cell_type": "code",
   "execution_count": 43,
   "metadata": {},
   "outputs": [
    {
     "name": "stdout",
     "output_type": "stream",
     "text": [
      "             precision    recall  f1-score   support\n",
      "\n",
      "          0       0.98      1.00      0.99      3778\n",
      "          1       1.00      0.98      0.99      3776\n",
      "\n",
      "avg / total       0.99      0.99      0.99      7554\n",
      "\n",
      "[[3767   11]\n",
      " [  73 3703]]\n",
      "Test set accuracy:0.7005553972852503\n",
      "Percent Type I errors: 0.0014561821551495897\n",
      "Percent Type II errors: 0.009663754302356367\n"
     ]
    }
   ],
   "source": [
    "#Test Scores\n",
    "target_names = ['0', '1']\n",
    "print(classification_report(y_test, predtestrf_y, target_names=target_names))\n",
    "cnf = confusion_matrix(y_test, predtestrf_y)\n",
    "print(cnf)\n",
    "\n",
    "table_test = pd.crosstab(y_test, predtestrf_y, margins=True)\n",
    "\n",
    "test_tI_errors = table_test.loc[0.0,1.0]/table_test.loc['All','All']\n",
    "test_tII_errors = table_test.loc[1.0,0.0]/table_test.loc['All','All']\n",
    "\n",
    "print((\n",
    "    'Test set accuracy:{}\\n'\n",
    "    'Percent Type I errors: {}\\n'\n",
    "    'Percent Type II errors: {}'\n",
    ").format(cross_val_score(rf,X_test_vectorized,y_test,cv=kf).mean(),test_tI_errors, test_tII_errors))"
   ]
  },
  {
   "cell_type": "markdown",
   "metadata": {},
   "source": [
    "In the amazon reviews analysis the digital music dataset has been used. To create both categories, ratings 1-3 have been included as negative and 4-5 as positive. This has been done because in the raw data, ratings are skewed to the positive side being the average around 4.0. Data once categorized has been downsampled to reduce the biased towards the positive reviews of the models that have been run. \n",
    "\n",
    "To build up the features the bag of words and the TFIDF has been used. In both cases, stop words in English have been extracted so that the number of features is reduced. From the bag of words, 59374 features were built. Additionally, only those that appear in more than 20 reviews have been used. The TFIDF was applied considering n-grams (1,3) and the number of features was reduced to 11926.\n",
    "\n",
    "Models used have been Naïve-Bayes, Random Forest, KNN, and logistics models in a 70\\30 split of the dataset (train, test). Results are improved in all cases when TFIDF is used to build the features. From all the models, logistics regression is the one that is better when predicting with an accuracy of 86%. \n",
    "\n",
    "To avoid bias on the classifier two measures have been taken. The first one is to downsample the majority so that the risk of overfitting the positive sentiment is reduced. Additionally, instead of working on increasing the accuracy, the measure that has been used is auc-roc so that both precision and recall are balanced. Hence, the logistic regression classifier works on both categorires. "
   ]
  }
 ],
 "metadata": {
  "kernelspec": {
   "display_name": "Python 3",
   "language": "python",
   "name": "python3"
  },
  "language_info": {
   "codemirror_mode": {
    "name": "ipython",
    "version": 3
   },
   "file_extension": ".py",
   "mimetype": "text/x-python",
   "name": "python",
   "nbconvert_exporter": "python",
   "pygments_lexer": "ipython3",
   "version": "3.5.4"
  }
 },
 "nbformat": 4,
 "nbformat_minor": 2
}
