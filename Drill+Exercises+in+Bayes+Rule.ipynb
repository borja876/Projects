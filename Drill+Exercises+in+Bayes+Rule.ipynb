{
 "cells": [
  {
   "cell_type": "markdown",
   "metadata": {},
   "source": [
    "P(Positive test|Sufferer) = 98%\n",
    "P(Positive test|healthy) = 10%\n",
    "P(sufferer) = 0.5%\n",
    "P(healthy) = 95%"
   ]
  },
  {
   "cell_type": "markdown",
   "metadata": {},
   "source": [
    "1 Be positive\n",
    "\n",
    "P(Positive test) = P(Positive Test|Sufferer)*P(Sufferer) +`P(Positive Test|healthy)*P(healthy) = 0.98*0.005 + 0.1*0.95= 0.0999 (9.99%)"
   ]
  },
  {
   "cell_type": "markdown",
   "metadata": {},
   "source": [
    "2 Correctly diagnose a sufferer of Thripshaw's\n",
    "\n",
    "P(Sufferer|Positive Test) = P(Positive test|sufferer)*P(sufferer)/P(positive test) = 0.98*0.005/0.0999 = 0.049 (4.9%)"
   ]
  },
  {
   "cell_type": "markdown",
   "metadata": {},
   "source": [
    "3 Correctly identify a non-sufferer of Thripshaw's\n",
    "\n",
    "P(healthy|negative test)= P(negative test|healthy)*P(healthy)/P(negative test) = (1-0.1)*(1-0.005)/(1-0.0999) = 0.9948 (99.48%)\n"
   ]
  },
  {
   "cell_type": "markdown",
   "metadata": {},
   "source": [
    "4 Misclassify the person\n",
    "\n",
    "P(Positive test|healthy)*P(negative test|sufferer) = (1-0.1)*(1-0.98)= 0.018 (1.8%)"
   ]
  }
 ],
 "metadata": {
  "kernelspec": {
   "display_name": "Python 3",
   "language": "python",
   "name": "python3"
  },
  "language_info": {
   "codemirror_mode": {
    "name": "ipython",
    "version": 3
   },
   "file_extension": ".py",
   "mimetype": "text/x-python",
   "name": "python",
   "nbconvert_exporter": "python",
   "pygments_lexer": "ipython3",
   "version": "3.6.1"
  }
 },
 "nbformat": 4,
 "nbformat_minor": 2
}
