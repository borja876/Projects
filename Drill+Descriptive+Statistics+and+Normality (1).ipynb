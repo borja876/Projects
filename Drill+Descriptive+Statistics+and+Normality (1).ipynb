{
 "cells": [
  {
   "cell_type": "code",
   "execution_count": 234,
   "metadata": {
    "collapsed": true
   },
   "outputs": [],
   "source": [
    "import numpy as np\n",
    "import pandas as pd\n",
    "import matplotlib.pyplot as plt\n",
    "%matplotlib inline"
   ]
  },
  {
   "cell_type": "markdown",
   "metadata": {},
   "source": [
    "Chisquare distribution"
   ]
  },
  {
   "cell_type": "code",
   "execution_count": 235,
   "metadata": {},
   "outputs": [],
   "source": [
    "#Generate a random variable with 100 datapoints for a Chisquare distribution\n",
    "chisquare = np.random.chisquare(2, 100)"
   ]
  },
  {
   "cell_type": "code",
   "execution_count": 236,
   "metadata": {},
   "outputs": [
    {
     "data": {
      "image/png": "[encoded data removed]",
      "text/plain": [
       "<matplotlib.figure.Figure at 0x1889150>"
      ]
     },
     "metadata": {},
     "output_type": "display_data"
    }
   ],
   "source": [
    "#plot Chisquare distribution using a histogram\n",
    "plt.hist(chisquare)\n",
    "plt.show()"
   ]
  },
  {
   "cell_type": "code",
   "execution_count": 237,
   "metadata": {},
   "outputs": [
    {
     "data": {
      "image/png": "[encoded data removed]",
      "text/plain": [
       "<matplotlib.figure.Figure at 0x7b08690>"
      ]
     },
     "metadata": {},
     "output_type": "display_data"
    }
   ],
   "source": [
    "#Compute mean and standard deviation & plot as vertical lines on the histogram\n",
    "plt.hist(chisquare)\n",
    "plt.axvline(chisquare.mean(), color='b', linestyle='solid', linewidth=2)\n",
    "plt.axvline(chisquare.mean() + chisquare.std(), color='b', linestyle='dashed', linewidth=2)\n",
    "plt.axvline(chisquare.mean()-chisquare.std(), color='b', linestyle='dashed', linewidth=2)\n",
    "plt.show()"
   ]
  },
  {
   "cell_type": "markdown",
   "metadata": {},
   "source": [
    "In the chisquare distribution:\n",
    " - Mean equates to the degrees of freedom.\n",
    " - Standard deviation equates to sqrt(2) the sqrt(degrees of freedom)\n",
    " - Variance equates 2 times the degrees of freedom\n",
    " - As the degrees of freedom increases the chisquare distribution gets similar to a normal distribution"
   ]
  },
  {
   "cell_type": "markdown",
   "metadata": {},
   "source": [
    "Dirichlet distribution"
   ]
  },
  {
   "cell_type": "code",
   "execution_count": 238,
   "metadata": {},
   "outputs": [],
   "source": [
    "#Generate a random variable with 100 datapoints for a Chisquare distribution\n",
    "dirichlet = np.random.dirichlet((1,2), 100)"
   ]
  },
  {
   "cell_type": "code",
   "execution_count": 239,
   "metadata": {},
   "outputs": [
    {
     "data": {
      "image/png": "[encoded data removed]",
      "text/plain": [
       "<matplotlib.figure.Figure at 0x1889e30>"
      ]
     },
     "metadata": {},
     "output_type": "display_data"
    }
   ],
   "source": [
    "#plot Dirichlet distribution using a histogram\n",
    "plt.hist(dirichlet)\n",
    "plt.show()"
   ]
  },
  {
   "cell_type": "code",
   "execution_count": 240,
   "metadata": {},
   "outputs": [
    {
     "data": {
      "image/png": "[encoded data removed]",
      "text/plain": [
       "<matplotlib.figure.Figure at 0x17ebad0>"
      ]
     },
     "metadata": {},
     "output_type": "display_data"
    }
   ],
   "source": [
    "#Compute mean and standard deviation & plot as vertical lines on the histogram\n",
    "plt.hist(dirichlet)\n",
    "plt.axvline(dirichlet.mean(), color='b', linestyle='solid', linewidth=2)\n",
    "plt.axvline(dirichlet.mean() + dirichlet.std(), color='b', linestyle='dashed', linewidth=2)\n",
    "plt.axvline(dirichlet.mean()-dirichlet.std(), color='b', linestyle='dashed', linewidth=2)\n",
    "plt.show()"
   ]
  },
  {
   "cell_type": "markdown",
   "metadata": {},
   "source": [
    "In the Dirichlet distribution:\n",
    " - The mean represents the centre of both dirichlet clusters\n",
    " - It seems that the mean +- standard deviation are the centres of the clusters"
   ]
  },
  {
   "cell_type": "markdown",
   "metadata": {},
   "source": [
    "Standard t distribution"
   ]
  },
  {
   "cell_type": "code",
   "execution_count": 241,
   "metadata": {},
   "outputs": [],
   "source": [
    "#Generate a random variable with 100 datapoints for a standard t distribution\n",
    "standard_t = np.random.standard_t(50, 100)"
   ]
  },
  {
   "cell_type": "code",
   "execution_count": 242,
   "metadata": {},
   "outputs": [
    {
     "data": {
      "image/png": "[encoded data removed]",
      "text/plain": [
       "<matplotlib.figure.Figure at 0x15311d0>"
      ]
     },
     "metadata": {},
     "output_type": "display_data"
    }
   ],
   "source": [
    "#plot Standard t distribution using a histogram\n",
    "plt.hist(standard_t)\n",
    "plt.show()"
   ]
  },
  {
   "cell_type": "code",
   "execution_count": 243,
   "metadata": {},
   "outputs": [
    {
     "data": {
      "image/png": "[encoded data removed]",
      "text/plain": [
       "<matplotlib.figure.Figure at 0x16a4830>"
      ]
     },
     "metadata": {},
     "output_type": "display_data"
    }
   ],
   "source": [
    "#Compute mean and standard deviation & plot as vertical lines on the histogram\n",
    "plt.hist(standard_t)\n",
    "plt.axvline(standard_t.mean(), color='b', linestyle='solid', linewidth=2)\n",
    "plt.axvline(standard_t.mean() + standard_t.std(), color='b', linestyle='dashed', linewidth=2)\n",
    "plt.axvline(standard_t.mean()-standard_t.std(), color='b', linestyle='dashed', linewidth=2)\n",
    "plt.show()"
   ]
  },
  {
   "cell_type": "markdown",
   "metadata": {},
   "source": [
    "In the Standard t distribution:\n",
    " - The mean of the standard t distribution is always zero\n",
    " - The variance is close to 1 and gest closer to 1 as the degrees of freedom grow\n",
    " - The variance is equal to ddof/(ddof-2)"
   ]
  },
  {
   "cell_type": "markdown",
   "metadata": {},
   "source": [
    "Logistic distribution"
   ]
  },
  {
   "cell_type": "code",
   "execution_count": 244,
   "metadata": {
    "collapsed": true
   },
   "outputs": [],
   "source": [
    "#Generate a random variable with 100 datapoints for logistic distribution\n",
    "logistic = np.random.logistic(9,2, 100)"
   ]
  },
  {
   "cell_type": "code",
   "execution_count": 245,
   "metadata": {},
   "outputs": [
    {
     "data": {
      "image/png": "[encoded data removed]",
      "text/plain": [
       "<matplotlib.figure.Figure at 0x1664150>"
      ]
     },
     "metadata": {},
     "output_type": "display_data"
    }
   ],
   "source": [
    "#plot logistic distribution using a histogram\n",
    "plt.hist(logistic)\n",
    "plt.show()"
   ]
  },
  {
   "cell_type": "code",
   "execution_count": 246,
   "metadata": {},
   "outputs": [
    {
     "data": {
      "image/png": "[encoded data removed]",
      "text/plain": [
       "<matplotlib.figure.Figure at 0x16d7550>"
      ]
     },
     "metadata": {},
     "output_type": "display_data"
    }
   ],
   "source": [
    "#Compute mean and standard deviation & plot as vertical lines on the histogram\n",
    "plt.hist(logistic)\n",
    "plt.axvline(logistic.mean(), color='b', linestyle='solid', linewidth=2)\n",
    "plt.axvline(logistic.mean() + logistic.std(), color='b', linestyle='dashed', linewidth=2)\n",
    "plt.axvline(logistic.mean()-logistic.std(), color='b', linestyle='dashed', linewidth=2)\n",
    "plt.show()"
   ]
  },
  {
   "cell_type": "markdown",
   "metadata": {},
   "source": [
    "In the Logistic distribution:\n",
    " - The mean of the distribution representes the central value\n",
    " - The variance is similar to a normal distribution although the logistic distribution has longer tails\n",
    " - The logistic distribution seem to be more skewed than the normal distribution"
   ]
  },
  {
   "cell_type": "markdown",
   "metadata": {},
   "source": [
    "Rayleigh distribution"
   ]
  },
  {
   "cell_type": "code",
   "execution_count": 247,
   "metadata": {},
   "outputs": [],
   "source": [
    "#Generate a random variable with 100 datapoints for rayleigh distribution\n",
    "rayleigh = np.random.rayleigh(1, 100)"
   ]
  },
  {
   "cell_type": "code",
   "execution_count": 248,
   "metadata": {},
   "outputs": [
    {
     "data": {
      "image/png": "[encoded data removed]",
      "text/plain": [
       "<matplotlib.figure.Figure at 0x16649f0>"
      ]
     },
     "metadata": {},
     "output_type": "display_data"
    }
   ],
   "source": [
    "#plot Rayleigh distribution using a histogram\n",
    "plt.hist(rayleigh)\n",
    "plt.show()"
   ]
  },
  {
   "cell_type": "code",
   "execution_count": 249,
   "metadata": {},
   "outputs": [
    {
     "data": {
      "image/png": "[encoded data removed]",
      "text/plain": [
       "<matplotlib.figure.Figure at 0x16f5410>"
      ]
     },
     "metadata": {},
     "output_type": "display_data"
    }
   ],
   "source": [
    "#Compute mean and standard deviation & plot as vertical lines on the histogram\n",
    "plt.hist(rayleigh)\n",
    "plt.axvline(rayleigh.mean(), color='b', linestyle='solid', linewidth=2)\n",
    "plt.axvline(rayleigh.mean() + rayleigh.std(), color='b', linestyle='dashed', linewidth=2)\n",
    "plt.axvline(rayleigh.mean()-rayleigh.std(), color='b', linestyle='dashed', linewidth=2)\n",
    "plt.show()"
   ]
  },
  {
   "cell_type": "markdown",
   "metadata": {},
   "source": [
    "In the Rayleigh distribution:\n",
    " - The mean and variance, standard deviation do not explain the variable\n",
    " - It seems that the mean is proportionally higher than the scale of the distribution"
   ]
  },
  {
   "cell_type": "markdown",
   "metadata": {},
   "source": [
    "Geometric distribution"
   ]
  },
  {
   "cell_type": "code",
   "execution_count": 250,
   "metadata": {
    "collapsed": true
   },
   "outputs": [],
   "source": [
    "#Generate a random variable with 100 datapoints for Geometric distribution\n",
    "geometric = np.random.geometric(0.25, 100)"
   ]
  },
  {
   "cell_type": "code",
   "execution_count": 251,
   "metadata": {},
   "outputs": [
    {
     "data": {
      "image/png": "[encoded data removed]",
      "text/plain": [
       "<matplotlib.figure.Figure at 0x1a4e690>"
      ]
     },
     "metadata": {},
     "output_type": "display_data"
    }
   ],
   "source": [
    "#plot Geometric distribution using a histogram\n",
    "plt.hist(geometric)\n",
    "plt.show()"
   ]
  },
  {
   "cell_type": "code",
   "execution_count": 252,
   "metadata": {},
   "outputs": [
    {
     "data": {
      "image/png": "[encoded data removed]",
      "text/plain": [
       "<matplotlib.figure.Figure at 0x16f50b0>"
      ]
     },
     "metadata": {},
     "output_type": "display_data"
    }
   ],
   "source": [
    "#Compute mean and standard deviation & plot as vertical lines on the histogram\n",
    "plt.hist(geometric)\n",
    "plt.axvline(geometric.mean(), color='b', linestyle='solid', linewidth=2)\n",
    "plt.axvline(geometric.mean() + geometric.std(), color='b', linestyle='dashed', linewidth=2)\n",
    "plt.axvline(geometric.mean()-geometric.std(), color='b', linestyle='dashed', linewidth=2)\n",
    "plt.show()"
   ]
  },
  {
   "cell_type": "markdown",
   "metadata": {},
   "source": [
    "In the Geometric distribution:\n",
    " - The mean and variance, standard deviation do not explain the variable"
   ]
  },
  {
   "cell_type": "code",
   "execution_count": 253,
   "metadata": {},
   "outputs": [],
   "source": [
    "#Generation of 2 normally-distributed variables, one with mean 5 and standard deviation of 0.5 and the other with mean of 10 and standar deviation of 1\n",
    "rand1 = np.random.normal(5, 0.5, 1000)\n",
    "rand2 = np.random.normal(10,1, 1000)"
   ]
  },
  {
   "cell_type": "code",
   "execution_count": 254,
   "metadata": {
    "collapsed": true
   },
   "outputs": [],
   "source": [
    "#Generate a 3rd variable adding the 2 normallt distributed variables\n",
    "rand3= rand1+rand2"
   ]
  },
  {
   "cell_type": "code",
   "execution_count": 255,
   "metadata": {},
   "outputs": [
    {
     "data": {
      "image/png": "[encoded data removed]",
      "text/plain": [
       "<matplotlib.figure.Figure at 0x1a157d0>"
      ]
     },
     "metadata": {},
     "output_type": "display_data"
    }
   ],
   "source": [
    "#Plot histogram of the 3rd variable\n",
    "plt.hist(rand3, bins=20, color='c')\n",
    "plt.show()"
   ]
  },
  {
   "cell_type": "code",
   "execution_count": 256,
   "metadata": {},
   "outputs": [
    {
     "data": {
      "image/png": "[encoded data removed]",
      "text/plain": [
       "<matplotlib.figure.Figure at 0x18c5070>"
      ]
     },
     "metadata": {},
     "output_type": "display_data"
    }
   ],
   "source": [
    "#Compute and plot the mean and standard deviation for variable rand3\n",
    "plt.hist(rand3, bins=20, color='c')\n",
    "plt.axvline(rand3.mean(), color='b', linestyle='solid', linewidth=2)\n",
    "plt.axvline(rand3.mean() + rand3.std(), color='b', linestyle='dashed', linewidth=2)\n",
    "plt.axvline(rand3.mean()-rand3.std(), color='b', linestyle='dashed', linewidth=2)\n",
    "plt.show()"
   ]
  },
  {
   "cell_type": "code",
   "execution_count": 257,
   "metadata": {},
   "outputs": [
    {
     "name": "stdout",
     "output_type": "stream",
     "text": [
      "15.0434921447\n",
      "15.0640692978\n",
      "1.21646013691\n",
      "1.10348439714\n",
      "0.0348952405741\n"
     ]
    }
   ],
   "source": [
    "#Calculate descriptive statistics for variable rand3\n",
    "a = np.mean(rand3)\n",
    "b = np.median(rand3)\n",
    "c= np.var(rand3)\n",
    "d = np.std(rand3,ddof=1)\n",
    "e = np.std(rand3 ,ddof=1) / np.sqrt(len(rand3))\n",
    "print(a)\n",
    "print(b)\n",
    "print(c)\n",
    "print(d)\n",
    "print(e)"
   ]
  },
  {
   "cell_type": "code",
   "execution_count": 258,
   "metadata": {},
   "outputs": [
    {
     "data": {
      "image/png": "[encoded data removed]",
      "text/plain": [
       "<matplotlib.figure.Figure at 0x7bb0ad0>"
      ]
     },
     "metadata": {},
     "output_type": "display_data"
    },
    {
     "name": "stdout",
     "output_type": "stream",
     "text": [
      "variable3    15.073693\n",
      "dtype: float64\n",
      "variable3    1.022526\n",
      "dtype: float64\n"
     ]
    }
   ],
   "source": [
    "#Plot a sample for rand3\n",
    "sample=pd.DataFrame()\n",
    "sample['variable3'] = np.random.choice(rand3, 100)\n",
    "\n",
    "# Again, visualize the data.\n",
    "sample.hist()\n",
    "plt.show()\n",
    "\n",
    "# Check how well the sample replicates the population.\n",
    "f = sample.mean()\n",
    "g = sample.std(ddof=1)\n",
    "print(f)\n",
    "print(g)"
   ]
  },
  {
   "cell_type": "code",
   "execution_count": 259,
   "metadata": {},
   "outputs": [
    {
     "data": {
      "image/png": "[encoded data removed]",
      "text/plain": [
       "<matplotlib.figure.Figure at 0x187da90>"
      ]
     },
     "metadata": {},
     "output_type": "display_data"
    }
   ],
   "source": [
    "#Plot histogram of the 3 variabless\n",
    "plt.hist(rand1, bins=20, color = 'b')\n",
    "plt.hist(rand2, bins=20, color='r')\n",
    "plt.hist(rand3, bins=20, color='c')\n",
    "plt.show()"
   ]
  },
  {
   "cell_type": "code",
   "execution_count": 260,
   "metadata": {},
   "outputs": [
    {
     "data": {
      "image/png": "[encoded data removed]",
      "text/plain": [
       "<matplotlib.figure.Figure at 0x185c170>"
      ]
     },
     "metadata": {},
     "output_type": "display_data"
    }
   ],
   "source": [
    "#Compute and plot the mean and standard deviation for each of the variables\n",
    "plt.hist(rand1, bins=20, color = 'b')\n",
    "plt.hist(rand2, bins=20, color='r')\n",
    "plt.hist(rand3, bins=20, color='c')\n",
    "\n",
    "plt.axvline(rand1.mean(), color='b', linestyle='solid', linewidth=2)\n",
    "plt.axvline(rand1.mean() + rand1.std(), color='b', linestyle='dashed', linewidth=2)\n",
    "plt.axvline(rand1.mean()-rand1.std(), color='b', linestyle='dashed', linewidth=2)\n",
    "\n",
    "plt.axvline(rand2.mean(), color='b', linestyle='solid', linewidth=2)\n",
    "plt.axvline(rand2.mean() + rand2.std(), color='b', linestyle='dashed', linewidth=2)\n",
    "plt.axvline(rand2.mean()-rand2.std(), color='b', linestyle='dashed', linewidth=2)\n",
    "\n",
    "plt.axvline(rand3.mean(), color='b', linestyle='solid', linewidth=2)\n",
    "plt.axvline(rand3.mean() + rand3.std(), color='b', linestyle='dashed', linewidth=2)\n",
    "plt.axvline(rand3.mean()-rand3.std(), color='b', linestyle='dashed', linewidth=2)\n",
    "plt.show()"
   ]
  },
  {
   "cell_type": "code",
   "execution_count": 261,
   "metadata": {},
   "outputs": [
    {
     "name": "stdout",
     "output_type": "stream",
     "text": [
      "rand2\n",
      "10.0375681043\n",
      "10.0576034409\n",
      "0.991514546296\n",
      "0.996246482227\n",
      "0.0315040799477\n"
     ]
    },
    {
     "data": {
      "image/png": "[encoded data removed]",
      "text/plain": [
       "<matplotlib.figure.Figure at 0x17669d0>"
      ]
     },
     "metadata": {},
     "output_type": "display_data"
    },
    {
     "name": "stdout",
     "output_type": "stream",
     "text": [
      "variable2    9.950693\n",
      "dtype: float64\n",
      "variable2    1.010081\n",
      "dtype: float64\n"
     ]
    }
   ],
   "source": [
    "#Evaluate descriptive statistics against data\n",
    "\n",
    "a2 = np.mean(rand2)\n",
    "b2 = np.median(rand2)\n",
    "c2= np.var(rand2)\n",
    "d2 = np.std(rand2,ddof=1)\n",
    "e2 = np.std(rand2 ,ddof=1) / np.sqrt(len(rand2))\n",
    "\n",
    "print('rand2')\n",
    "print(a2)\n",
    "print(b2)\n",
    "print(c2)\n",
    "print(d2)\n",
    "print(e2)\n",
    "\n",
    "#Plot a sample for rand3\n",
    "sample=pd.DataFrame()\n",
    "sample['variable2'] = np.random.choice(rand2, 100)\n",
    "\n",
    "# Again, visualize the data.\n",
    "sample.hist()\n",
    "plt.show()\n",
    "\n",
    "# Check how well the sample replicates the population.\n",
    "f2 = sample.mean()\n",
    "g2 = sample.std(ddof=1)\n",
    "print(f2)\n",
    "print(g2)"
   ]
  },
  {
   "cell_type": "code",
   "execution_count": 262,
   "metadata": {},
   "outputs": [
    {
     "name": "stdout",
     "output_type": "stream",
     "text": [
      "rand1\n",
      "5.00592404031\n",
      "5.00168076279\n",
      "0.253088567334\n",
      "0.503330814916\n",
      "0.0159167179168\n"
     ]
    },
    {
     "data": {
      "image/png": "[encoded data removed]",
      "text/plain": [
       "<matplotlib.figure.Figure at 0x1a9b830>"
      ]
     },
     "metadata": {},
     "output_type": "display_data"
    },
    {
     "name": "stdout",
     "output_type": "stream",
     "text": [
      "variable1    5.098189\n",
      "dtype: float64\n",
      "variable1    0.572738\n",
      "dtype: float64\n"
     ]
    }
   ],
   "source": [
    "#Evaluate descriptive statistics against data\n",
    "a1 = np.mean(rand1)\n",
    "b1 = np.median(rand1)\n",
    "c1= np.var(rand1)\n",
    "d1 = np.std(rand1,ddof=1)\n",
    "e1 = np.std(rand1 ,ddof=1) / np.sqrt(len(rand1))\n",
    "\n",
    "print('rand1')\n",
    "print(a1)\n",
    "print(b1)\n",
    "print(c1)\n",
    "print(d1)\n",
    "print(e1)\n",
    "\n",
    "#Plot a sample for rand3\n",
    "sample=pd.DataFrame()\n",
    "sample['variable1'] = np.random.choice(rand1, 100)\n",
    "\n",
    "# Again, visualize the data.\n",
    "sample.hist()\n",
    "plt.show()\n",
    "\n",
    "# Check how well the sample replicates the population.\n",
    "f1 = sample.mean()\n",
    "g1 = sample.std(ddof=1)\n",
    "print(f1)\n",
    "print(g1)\n"
   ]
  },
  {
   "cell_type": "code",
   "execution_count": null,
   "metadata": {
    "collapsed": true
   },
   "outputs": [],
   "source": []
  }
 ],
 "metadata": {
  "kernelspec": {
   "display_name": "Python 3",
   "language": "python",
   "name": "python3"
  },
  "language_info": {
   "codemirror_mode": {
    "name": "ipython",
    "version": 3
   },
   "file_extension": ".py",
   "mimetype": "text/x-python",
   "name": "python",
   "nbconvert_exporter": "python",
   "pygments_lexer": "ipython3",
   "version": "3.6.1"
  }
 },
 "nbformat": 4,
 "nbformat_minor": 2
}
