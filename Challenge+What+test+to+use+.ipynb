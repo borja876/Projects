{
 "cells": [
  {
   "cell_type": "code",
   "execution_count": 162,
   "metadata": {
    "collapsed": true
   },
   "outputs": [],
   "source": [
    "import scipy\n",
    "import seaborn as sns\n",
    "import pandas as pd\n",
    "import numpy as np\n",
    "import matplotlib.pyplot as plt\n",
    "import scipy.stats as stats\n",
    "from pandas.plotting import scatter_matrix\n",
    "from statsmodels.stats.multicomp import pairwise_tukeyhsd\n",
    "from sklearn.utils import resample\n",
    "%matplotlib inline"
   ]
  },
  {
   "cell_type": "code",
   "execution_count": 2,
   "metadata": {},
   "outputs": [
    {
     "data": {
      "text/html": [
       "<div>\n",
       "<style>\n",
       "    .dataframe thead tr:only-child th {\n",
       "        text-align: right;\n",
       "    }\n",
       "\n",
       "    .dataframe thead th {\n",
       "        text-align: left;\n",
       "    }\n",
       "\n",
       "    .dataframe tbody tr th {\n",
       "        vertical-align: top;\n",
       "    }\n",
       "</style>\n",
       "<table border=\"1\" class=\"dataframe\">\n",
       "  <thead>\n",
       "    <tr style=\"text-align: right;\">\n",
       "      <th></th>\n",
       "      <th>cntry</th>\n",
       "      <th>idno</th>\n",
       "      <th>year</th>\n",
       "      <th>tvtot</th>\n",
       "      <th>ppltrst</th>\n",
       "      <th>pplfair</th>\n",
       "      <th>pplhlp</th>\n",
       "      <th>happy</th>\n",
       "      <th>sclmeet</th>\n",
       "      <th>sclact</th>\n",
       "      <th>gndr</th>\n",
       "      <th>agea</th>\n",
       "      <th>partner</th>\n",
       "    </tr>\n",
       "  </thead>\n",
       "  <tbody>\n",
       "    <tr>\n",
       "      <th>0</th>\n",
       "      <td>CH</td>\n",
       "      <td>5.0</td>\n",
       "      <td>6</td>\n",
       "      <td>3.0</td>\n",
       "      <td>3.0</td>\n",
       "      <td>10.0</td>\n",
       "      <td>5.0</td>\n",
       "      <td>8.0</td>\n",
       "      <td>5.0</td>\n",
       "      <td>4.0</td>\n",
       "      <td>2.0</td>\n",
       "      <td>60.0</td>\n",
       "      <td>1.0</td>\n",
       "    </tr>\n",
       "    <tr>\n",
       "      <th>1</th>\n",
       "      <td>CH</td>\n",
       "      <td>25.0</td>\n",
       "      <td>6</td>\n",
       "      <td>6.0</td>\n",
       "      <td>5.0</td>\n",
       "      <td>7.0</td>\n",
       "      <td>5.0</td>\n",
       "      <td>9.0</td>\n",
       "      <td>3.0</td>\n",
       "      <td>2.0</td>\n",
       "      <td>2.0</td>\n",
       "      <td>59.0</td>\n",
       "      <td>1.0</td>\n",
       "    </tr>\n",
       "    <tr>\n",
       "      <th>2</th>\n",
       "      <td>CH</td>\n",
       "      <td>26.0</td>\n",
       "      <td>6</td>\n",
       "      <td>1.0</td>\n",
       "      <td>8.0</td>\n",
       "      <td>8.0</td>\n",
       "      <td>8.0</td>\n",
       "      <td>7.0</td>\n",
       "      <td>6.0</td>\n",
       "      <td>3.0</td>\n",
       "      <td>1.0</td>\n",
       "      <td>24.0</td>\n",
       "      <td>2.0</td>\n",
       "    </tr>\n",
       "    <tr>\n",
       "      <th>3</th>\n",
       "      <td>CH</td>\n",
       "      <td>28.0</td>\n",
       "      <td>6</td>\n",
       "      <td>4.0</td>\n",
       "      <td>6.0</td>\n",
       "      <td>6.0</td>\n",
       "      <td>7.0</td>\n",
       "      <td>10.0</td>\n",
       "      <td>6.0</td>\n",
       "      <td>2.0</td>\n",
       "      <td>2.0</td>\n",
       "      <td>64.0</td>\n",
       "      <td>1.0</td>\n",
       "    </tr>\n",
       "    <tr>\n",
       "      <th>4</th>\n",
       "      <td>CH</td>\n",
       "      <td>29.0</td>\n",
       "      <td>6</td>\n",
       "      <td>5.0</td>\n",
       "      <td>6.0</td>\n",
       "      <td>7.0</td>\n",
       "      <td>5.0</td>\n",
       "      <td>8.0</td>\n",
       "      <td>7.0</td>\n",
       "      <td>2.0</td>\n",
       "      <td>2.0</td>\n",
       "      <td>55.0</td>\n",
       "      <td>1.0</td>\n",
       "    </tr>\n",
       "  </tbody>\n",
       "</table>\n",
       "</div>"
      ],
      "text/plain": [
       "  cntry  idno  year  tvtot  ppltrst  pplfair  pplhlp  happy  sclmeet  sclact  \\\n",
       "0    CH   5.0     6    3.0      3.0     10.0     5.0    8.0      5.0     4.0   \n",
       "1    CH  25.0     6    6.0      5.0      7.0     5.0    9.0      3.0     2.0   \n",
       "2    CH  26.0     6    1.0      8.0      8.0     8.0    7.0      6.0     3.0   \n",
       "3    CH  28.0     6    4.0      6.0      6.0     7.0   10.0      6.0     2.0   \n",
       "4    CH  29.0     6    5.0      6.0      7.0     5.0    8.0      7.0     2.0   \n",
       "\n",
       "   gndr  agea  partner  \n",
       "0   2.0  60.0      1.0  \n",
       "1   2.0  59.0      1.0  \n",
       "2   1.0  24.0      2.0  \n",
       "3   2.0  64.0      1.0  \n",
       "4   2.0  55.0      1.0  "
      ]
     },
     "execution_count": 2,
     "metadata": {},
     "output_type": "execute_result"
    }
   ],
   "source": [
    "# Read and import data\n",
    "raw_data = pd.read_csv('ESSdata_Thinkful.csv', encoding='latin-1')\n",
    "raw_data.head()"
   ]
  },
  {
   "cell_type": "code",
   "execution_count": 3,
   "metadata": {},
   "outputs": [
    {
     "data": {
      "text/plain": [
       "Index(['cntry', 'idno', 'year', 'tvtot', 'ppltrst', 'pplfair', 'pplhlp',\n",
       "       'happy', 'sclmeet', 'sclact', 'gndr', 'agea', 'partner'],\n",
       "      dtype='object')"
      ]
     },
     "execution_count": 3,
     "metadata": {},
     "output_type": "execute_result"
    }
   ],
   "source": [
    "#Identify all the columns in the file\n",
    "raw_data.columns"
   ]
  },
  {
   "cell_type": "code",
   "execution_count": 4,
   "metadata": {
    "collapsed": true
   },
   "outputs": [],
   "source": [
    "#Add a column that joins country and year\n",
    "raw_data['cntry_year'] = raw_data.apply(lambda row: str(row.cntry) + '_' + str(row.year), axis=1)"
   ]
  },
  {
   "cell_type": "code",
   "execution_count": 5,
   "metadata": {},
   "outputs": [
    {
     "name": "stdout",
     "output_type": "stream",
     "text": [
      "<class 'pandas.core.frame.DataFrame'>\n",
      "RangeIndex: 8594 entries, 0 to 8593\n",
      "Data columns (total 14 columns):\n",
      "cntry         8594 non-null object\n",
      "idno          8594 non-null float64\n",
      "year          8594 non-null int64\n",
      "tvtot         8586 non-null float64\n",
      "ppltrst       8580 non-null float64\n",
      "pplfair       8555 non-null float64\n",
      "pplhlp        8569 non-null float64\n",
      "happy         8563 non-null float64\n",
      "sclmeet       8579 non-null float64\n",
      "sclact        8500 non-null float64\n",
      "gndr          8584 non-null float64\n",
      "agea          8355 non-null float64\n",
      "partner       8577 non-null float64\n",
      "cntry_year    8594 non-null object\n",
      "dtypes: float64(11), int64(1), object(2)\n",
      "memory usage: 940.0+ KB\n"
     ]
    }
   ],
   "source": [
    "#Analyse types of variables\n",
    "raw_data.info()"
   ]
  },
  {
   "cell_type": "code",
   "execution_count": 6,
   "metadata": {},
   "outputs": [
    {
     "data": {
      "text/plain": [
       "array(['CH', 'CZ', 'DE', 'ES', 'NO', 'SE'], dtype=object)"
      ]
     },
     "execution_count": 6,
     "metadata": {},
     "output_type": "execute_result"
    }
   ],
   "source": [
    "#Number of different countries in the dataset\n",
    "raw_data.cntry.unique()"
   ]
  },
  {
   "cell_type": "markdown",
   "metadata": {},
   "source": [
    "#### 1. Did people become less trusting from 2012 to 2014? Compute results for each country in the sample. ####"
   ]
  },
  {
   "cell_type": "code",
   "execution_count": 8,
   "metadata": {},
   "outputs": [
    {
     "name": "stdout",
     "output_type": "stream",
     "text": [
      "<class 'pandas.core.frame.DataFrame'>\n",
      "RangeIndex: 8594 entries, 0 to 8593\n",
      "Data columns (total 3 columns):\n",
      "cntry         8594 non-null object\n",
      "cntry_year    8594 non-null object\n",
      "ppltrst       8580 non-null float64\n",
      "dtypes: float64(1), object(2)\n",
      "memory usage: 201.5+ KB\n"
     ]
    }
   ],
   "source": [
    "#Get info of the dataset once reduced to the trust variable\n",
    "#Slice the dataframe to the people trust variable\n",
    "ppltrust = raw_data[['cntry','cntry_year','ppltrst']]\n",
    "\n",
    "#Info\n",
    "ppltrust.info()"
   ]
  },
  {
   "cell_type": "code",
   "execution_count": 9,
   "metadata": {},
   "outputs": [
    {
     "name": "stdout",
     "output_type": "stream",
     "text": [
      "<class 'pandas.core.frame.DataFrame'>\n",
      "Int64Index: 8580 entries, 0 to 8593\n",
      "Data columns (total 3 columns):\n",
      "cntry         8580 non-null object\n",
      "cntry_year    8580 non-null object\n",
      "ppltrst       8580 non-null float64\n",
      "dtypes: float64(1), object(2)\n",
      "memory usage: 268.1+ KB\n"
     ]
    }
   ],
   "source": [
    "#Clean the values in the dataframe that are null\n",
    "ppltrust_clean = ppltrust[ppltrust.ppltrst.notnull()]\n",
    "\n",
    "#Check the remaining values\n",
    "ppltrust_clean.info()"
   ]
  },
  {
   "cell_type": "code",
   "execution_count": 10,
   "metadata": {},
   "outputs": [
    {
     "data": {
      "text/plain": [
       "cntry_year\n",
       "CH_6     773\n",
       "CH_7     773\n",
       "CZ_6     651\n",
       "CZ_7     657\n",
       "DE_6      14\n",
       "DE_7      14\n",
       "ES_6    1213\n",
       "ES_7    1211\n",
       "NO_6     730\n",
       "NO_7     730\n",
       "SE_6     906\n",
       "SE_7     908\n",
       "dtype: int64"
      ]
     },
     "execution_count": 10,
     "metadata": {},
     "output_type": "execute_result"
    }
   ],
   "source": [
    "#Check the sizes of data by country\n",
    "ppltrust_clean.groupby('cntry_year').size()"
   ]
  },
  {
   "cell_type": "code",
   "execution_count": 11,
   "metadata": {},
   "outputs": [
    {
     "data": {
      "text/plain": [
       "cntry_year\n",
       "CH_6    [[AxesSubplot(0.125,0.125;0.775x0.755)]]\n",
       "CH_7    [[AxesSubplot(0.125,0.125;0.775x0.755)]]\n",
       "CZ_6    [[AxesSubplot(0.125,0.125;0.775x0.755)]]\n",
       "CZ_7    [[AxesSubplot(0.125,0.125;0.775x0.755)]]\n",
       "DE_6    [[AxesSubplot(0.125,0.125;0.775x0.755)]]\n",
       "DE_7    [[AxesSubplot(0.125,0.125;0.775x0.755)]]\n",
       "ES_6    [[AxesSubplot(0.125,0.125;0.775x0.755)]]\n",
       "ES_7    [[AxesSubplot(0.125,0.125;0.775x0.755)]]\n",
       "NO_6    [[AxesSubplot(0.125,0.125;0.775x0.755)]]\n",
       "NO_7    [[AxesSubplot(0.125,0.125;0.775x0.755)]]\n",
       "SE_6    [[AxesSubplot(0.125,0.125;0.775x0.755)]]\n",
       "SE_7    [[AxesSubplot(0.125,0.125;0.775x0.755)]]\n",
       "dtype: object"
      ]
     },
     "execution_count": 11,
     "metadata": {},
     "output_type": "execute_result"
    },
    {
     "data": {
      "image/png": "[encoded data removed]",
      "text/plain": [
       "<matplotlib.figure.Figure at 0x22f3f7ba278>"
      ]
     },
     "metadata": {},
     "output_type": "display_data"
    },
    {
     "data": {
      "image/png": "[encoded data removed]",
      "text/plain": [
       "<matplotlib.figure.Figure at 0x22f3f5b1be0>"
      ]
     },
     "metadata": {},
     "output_type": "display_data"
    },
    {
     "data": {
      "image/png": "[encoded data removed]",
      "text/plain": [
       "<matplotlib.figure.Figure at 0x22f3f5f3860>"
      ]
     },
     "metadata": {},
     "output_type": "display_data"
    },
    {
     "data": {
      "image/png": "[encoded data removed]",
      "text/plain": [
       "<matplotlib.figure.Figure at 0x22f3f627208>"
      ]
     },
     "metadata": {},
     "output_type": "display_data"
    },
    {
     "data": {
      "image/png": "[encoded data removed]",
      "text/plain": [
       "<matplotlib.figure.Figure at 0x22f3f657cf8>"
      ]
     },
     "metadata": {},
     "output_type": "display_data"
    },
    {
     "data": {
      "image/png": "[encoded data removed]",
      "text/plain": [
       "<matplotlib.figure.Figure at 0x22f3f68be10>"
      ]
     },
     "metadata": {},
     "output_type": "display_data"
    },
    {
     "data": {
      "image/png": "[encoded data removed]",
      "text/plain": [
       "<matplotlib.figure.Figure at 0x22f3f6c0cc0>"
      ]
     },
     "metadata": {},
     "output_type": "display_data"
    },
    {
     "data": {
      "image/png": "[encoded data removed]",
      "text/plain": [
       "<matplotlib.figure.Figure at 0x22f3f6f6908>"
      ]
     },
     "metadata": {},
     "output_type": "display_data"
    },
    {
     "data": {
      "image/png": "[encoded data removed]",
      "text/plain": [
       "<matplotlib.figure.Figure at 0x22f3f72d860>"
      ]
     },
     "metadata": {},
     "output_type": "display_data"
    },
    {
     "data": {
      "image/png": "[encoded data removed]",
      "text/plain": [
       "<matplotlib.figure.Figure at 0x22f3f763518>"
      ]
     },
     "metadata": {},
     "output_type": "display_data"
    },
    {
     "data": {
      "image/png": "[encoded data removed]",
      "text/plain": [
       "<matplotlib.figure.Figure at 0x22f4282a160>"
      ]
     },
     "metadata": {},
     "output_type": "display_data"
    },
    {
     "data": {
      "image/png": "[encoded data removed]",
      "text/plain": [
       "<matplotlib.figure.Figure at 0x22f4285ad68>"
      ]
     },
     "metadata": {},
     "output_type": "display_data"
    }
   ],
   "source": [
    "#Print the dataset for visual inspection\n",
    "ppltrust_clean.groupby('cntry_year').hist(sharey=True,sharex=True)"
   ]
  },
  {
   "cell_type": "markdown",
   "metadata": {},
   "source": [
    "All countries except for Denmark seem to follow a normal distribution"
   ]
  },
  {
   "cell_type": "code",
   "execution_count": 58,
   "metadata": {},
   "outputs": [
    {
     "data": {
      "text/html": [
       "<table class=\"simpletable\">\n",
       "<caption>Multiple Comparison of Means - Tukey HSD,FWER=0.05</caption>\n",
       "<tr>\n",
       "  <th>group1</th> <th>group2</th> <th>meandiff</th>  <th>lower</th>   <th>upper</th>  <th>reject</th>\n",
       "</tr>\n",
       "<tr>\n",
       "  <td>T_CH_6</td> <td>T_CH_7</td>  <td>-0.0266</td> <td>-0.3948</td> <td>0.3417</td>   <td>False</td>\n",
       "</tr>\n",
       "<tr>\n",
       "  <td>T_CH_6</td> <td>T_CZ_6</td>  <td>-1.0713</td> <td>-1.4396</td> <td>-0.7031</td>  <td>True</td> \n",
       "</tr>\n",
       "<tr>\n",
       "  <td>T_CH_6</td> <td>T_CZ_7</td>  <td>-1.1888</td> <td>-1.557</td>  <td>-0.8206</td>  <td>True</td> \n",
       "</tr>\n",
       "<tr>\n",
       "  <td>T_CH_6</td> <td>T_DE_6</td>  <td>-0.5958</td> <td>-0.964</td>  <td>-0.2276</td>  <td>True</td> \n",
       "</tr>\n",
       "<tr>\n",
       "  <td>T_CH_6</td> <td>T_DE_7</td>  <td>-0.5958</td> <td>-0.964</td>  <td>-0.2276</td>  <td>True</td> \n",
       "</tr>\n",
       "<tr>\n",
       "  <td>T_CH_6</td> <td>T_ES_6</td>  <td>-0.7804</td> <td>-1.1487</td> <td>-0.4122</td>  <td>True</td> \n",
       "</tr>\n",
       "<tr>\n",
       "  <td>T_CH_6</td> <td>T_ES_7</td>  <td>0.2783</td>  <td>-0.0899</td> <td>0.6466</td>   <td>False</td>\n",
       "</tr>\n",
       "<tr>\n",
       "  <td>T_CH_6</td> <td>T_NO_6</td>  <td>0.9538</td>  <td>0.5856</td>  <td>1.3221</td>   <td>True</td> \n",
       "</tr>\n",
       "<tr>\n",
       "  <td>T_CH_6</td> <td>T_NO_7</td>  <td>0.5245</td>  <td>0.1562</td>  <td>0.8927</td>   <td>True</td> \n",
       "</tr>\n",
       "<tr>\n",
       "  <td>T_CH_6</td> <td>T_SE_6</td>  <td>0.4308</td>  <td>0.0625</td>   <td>0.799</td>   <td>True</td> \n",
       "</tr>\n",
       "<tr>\n",
       "  <td>T_CH_6</td> <td>T_SE_7</td>    <td>0.6</td>   <td>0.2318</td>  <td>0.9682</td>   <td>True</td> \n",
       "</tr>\n",
       "<tr>\n",
       "  <td>T_CH_7</td> <td>T_CZ_6</td>  <td>-1.0448</td> <td>-1.413</td>  <td>-0.6765</td>  <td>True</td> \n",
       "</tr>\n",
       "<tr>\n",
       "  <td>T_CH_7</td> <td>T_CZ_7</td>  <td>-1.1622</td> <td>-1.5305</td> <td>-0.794</td>   <td>True</td> \n",
       "</tr>\n",
       "<tr>\n",
       "  <td>T_CH_7</td> <td>T_DE_6</td>  <td>-0.5692</td> <td>-0.9375</td> <td>-0.201</td>   <td>True</td> \n",
       "</tr>\n",
       "<tr>\n",
       "  <td>T_CH_7</td> <td>T_DE_7</td>  <td>-0.5692</td> <td>-0.9375</td> <td>-0.201</td>   <td>True</td> \n",
       "</tr>\n",
       "<tr>\n",
       "  <td>T_CH_7</td> <td>T_ES_6</td>  <td>-0.7538</td> <td>-1.1221</td> <td>-0.3856</td>  <td>True</td> \n",
       "</tr>\n",
       "<tr>\n",
       "  <td>T_CH_7</td> <td>T_ES_7</td>  <td>0.3049</td>  <td>-0.0633</td> <td>0.6731</td>   <td>False</td>\n",
       "</tr>\n",
       "<tr>\n",
       "  <td>T_CH_7</td> <td>T_NO_6</td>  <td>0.9804</td>  <td>0.6122</td>  <td>1.3487</td>   <td>True</td> \n",
       "</tr>\n",
       "<tr>\n",
       "  <td>T_CH_7</td> <td>T_NO_7</td>   <td>0.551</td>  <td>0.1828</td>  <td>0.9193</td>   <td>True</td> \n",
       "</tr>\n",
       "<tr>\n",
       "  <td>T_CH_7</td> <td>T_SE_6</td>  <td>0.4573</td>  <td>0.0891</td>  <td>0.8256</td>   <td>True</td> \n",
       "</tr>\n",
       "<tr>\n",
       "  <td>T_CH_7</td> <td>T_SE_7</td>  <td>0.6266</td>  <td>0.2583</td>  <td>0.9948</td>   <td>True</td> \n",
       "</tr>\n",
       "<tr>\n",
       "  <td>T_CZ_6</td> <td>T_CZ_7</td>  <td>-0.1175</td> <td>-0.4857</td> <td>0.2507</td>   <td>False</td>\n",
       "</tr>\n",
       "<tr>\n",
       "  <td>T_CZ_6</td> <td>T_DE_6</td>  <td>0.4755</td>  <td>0.1073</td>  <td>0.8438</td>   <td>True</td> \n",
       "</tr>\n",
       "<tr>\n",
       "  <td>T_CZ_6</td> <td>T_DE_7</td>  <td>0.4755</td>  <td>0.1073</td>  <td>0.8438</td>   <td>True</td> \n",
       "</tr>\n",
       "<tr>\n",
       "  <td>T_CZ_6</td> <td>T_ES_6</td>  <td>0.2909</td>  <td>-0.0773</td> <td>0.6591</td>   <td>False</td>\n",
       "</tr>\n",
       "<tr>\n",
       "  <td>T_CZ_6</td> <td>T_ES_7</td>  <td>1.3497</td>  <td>0.9814</td>  <td>1.7179</td>   <td>True</td> \n",
       "</tr>\n",
       "<tr>\n",
       "  <td>T_CZ_6</td> <td>T_NO_6</td>  <td>2.0252</td>  <td>1.6569</td>  <td>2.3934</td>   <td>True</td> \n",
       "</tr>\n",
       "<tr>\n",
       "  <td>T_CZ_6</td> <td>T_NO_7</td>  <td>1.5958</td>  <td>1.2276</td>   <td>1.964</td>   <td>True</td> \n",
       "</tr>\n",
       "<tr>\n",
       "  <td>T_CZ_6</td> <td>T_SE_6</td>  <td>1.5021</td>  <td>1.1339</td>  <td>1.8703</td>   <td>True</td> \n",
       "</tr>\n",
       "<tr>\n",
       "  <td>T_CZ_6</td> <td>T_SE_7</td>  <td>1.6713</td>  <td>1.3031</td>  <td>2.0396</td>   <td>True</td> \n",
       "</tr>\n",
       "<tr>\n",
       "  <td>T_CZ_7</td> <td>T_DE_6</td>   <td>0.593</td>  <td>0.2248</td>  <td>0.9612</td>   <td>True</td> \n",
       "</tr>\n",
       "<tr>\n",
       "  <td>T_CZ_7</td> <td>T_DE_7</td>   <td>0.593</td>  <td>0.2248</td>  <td>0.9612</td>   <td>True</td> \n",
       "</tr>\n",
       "<tr>\n",
       "  <td>T_CZ_7</td> <td>T_ES_6</td>  <td>0.4084</td>  <td>0.0402</td>  <td>0.7766</td>   <td>True</td> \n",
       "</tr>\n",
       "<tr>\n",
       "  <td>T_CZ_7</td> <td>T_ES_7</td>  <td>1.4671</td>  <td>1.0989</td>  <td>1.8354</td>   <td>True</td> \n",
       "</tr>\n",
       "<tr>\n",
       "  <td>T_CZ_7</td> <td>T_NO_6</td>  <td>2.1427</td>  <td>1.7744</td>  <td>2.5109</td>   <td>True</td> \n",
       "</tr>\n",
       "<tr>\n",
       "  <td>T_CZ_7</td> <td>T_NO_7</td>  <td>1.7133</td>  <td>1.3451</td>  <td>2.0815</td>   <td>True</td> \n",
       "</tr>\n",
       "<tr>\n",
       "  <td>T_CZ_7</td> <td>T_SE_6</td>  <td>1.6196</td>  <td>1.2513</td>  <td>1.9878</td>   <td>True</td> \n",
       "</tr>\n",
       "<tr>\n",
       "  <td>T_CZ_7</td> <td>T_SE_7</td>  <td>1.7888</td>  <td>1.4206</td>   <td>2.157</td>   <td>True</td> \n",
       "</tr>\n",
       "<tr>\n",
       "  <td>T_DE_6</td> <td>T_DE_7</td>    <td>0.0</td>   <td>-0.3682</td> <td>0.3682</td>   <td>False</td>\n",
       "</tr>\n",
       "<tr>\n",
       "  <td>T_DE_6</td> <td>T_ES_6</td>  <td>-0.1846</td> <td>-0.5528</td> <td>0.1836</td>   <td>False</td>\n",
       "</tr>\n",
       "<tr>\n",
       "  <td>T_DE_6</td> <td>T_ES_7</td>  <td>0.8741</td>  <td>0.5059</td>  <td>1.2424</td>   <td>True</td> \n",
       "</tr>\n",
       "<tr>\n",
       "  <td>T_DE_6</td> <td>T_NO_6</td>  <td>1.5497</td>  <td>1.1814</td>  <td>1.9179</td>   <td>True</td> \n",
       "</tr>\n",
       "<tr>\n",
       "  <td>T_DE_6</td> <td>T_NO_7</td>  <td>1.1203</td>   <td>0.752</td>  <td>1.4885</td>   <td>True</td> \n",
       "</tr>\n",
       "<tr>\n",
       "  <td>T_DE_6</td> <td>T_SE_6</td>  <td>1.0266</td>  <td>0.6583</td>  <td>1.3948</td>   <td>True</td> \n",
       "</tr>\n",
       "<tr>\n",
       "  <td>T_DE_6</td> <td>T_SE_7</td>  <td>1.1958</td>  <td>0.8276</td>   <td>1.564</td>   <td>True</td> \n",
       "</tr>\n",
       "<tr>\n",
       "  <td>T_DE_7</td> <td>T_ES_6</td>  <td>-0.1846</td> <td>-0.5528</td> <td>0.1836</td>   <td>False</td>\n",
       "</tr>\n",
       "<tr>\n",
       "  <td>T_DE_7</td> <td>T_ES_7</td>  <td>0.8741</td>  <td>0.5059</td>  <td>1.2424</td>   <td>True</td> \n",
       "</tr>\n",
       "<tr>\n",
       "  <td>T_DE_7</td> <td>T_NO_6</td>  <td>1.5497</td>  <td>1.1814</td>  <td>1.9179</td>   <td>True</td> \n",
       "</tr>\n",
       "<tr>\n",
       "  <td>T_DE_7</td> <td>T_NO_7</td>  <td>1.1203</td>   <td>0.752</td>  <td>1.4885</td>   <td>True</td> \n",
       "</tr>\n",
       "<tr>\n",
       "  <td>T_DE_7</td> <td>T_SE_6</td>  <td>1.0266</td>  <td>0.6583</td>  <td>1.3948</td>   <td>True</td> \n",
       "</tr>\n",
       "<tr>\n",
       "  <td>T_DE_7</td> <td>T_SE_7</td>  <td>1.1958</td>  <td>0.8276</td>   <td>1.564</td>   <td>True</td> \n",
       "</tr>\n",
       "<tr>\n",
       "  <td>T_ES_6</td> <td>T_ES_7</td>  <td>1.0587</td>  <td>0.6905</td>   <td>1.427</td>   <td>True</td> \n",
       "</tr>\n",
       "<tr>\n",
       "  <td>T_ES_6</td> <td>T_NO_6</td>  <td>1.7343</td>   <td>1.366</td>  <td>2.1025</td>   <td>True</td> \n",
       "</tr>\n",
       "<tr>\n",
       "  <td>T_ES_6</td> <td>T_NO_7</td>  <td>1.3049</td>  <td>0.9367</td>  <td>1.6731</td>   <td>True</td> \n",
       "</tr>\n",
       "<tr>\n",
       "  <td>T_ES_6</td> <td>T_SE_6</td>  <td>1.2112</td>   <td>0.843</td>  <td>1.5794</td>   <td>True</td> \n",
       "</tr>\n",
       "<tr>\n",
       "  <td>T_ES_6</td> <td>T_SE_7</td>  <td>1.3804</td>  <td>1.0122</td>  <td>1.7487</td>   <td>True</td> \n",
       "</tr>\n",
       "<tr>\n",
       "  <td>T_ES_7</td> <td>T_NO_6</td>  <td>0.6755</td>  <td>0.3073</td>  <td>1.0438</td>   <td>True</td> \n",
       "</tr>\n",
       "<tr>\n",
       "  <td>T_ES_7</td> <td>T_NO_7</td>  <td>0.2462</td>  <td>-0.1221</td> <td>0.6144</td>   <td>False</td>\n",
       "</tr>\n",
       "<tr>\n",
       "  <td>T_ES_7</td> <td>T_SE_6</td>  <td>0.1524</td>  <td>-0.2158</td> <td>0.5207</td>   <td>False</td>\n",
       "</tr>\n",
       "<tr>\n",
       "  <td>T_ES_7</td> <td>T_SE_7</td>  <td>0.3217</td>  <td>-0.0466</td> <td>0.6899</td>   <td>False</td>\n",
       "</tr>\n",
       "<tr>\n",
       "  <td>T_NO_6</td> <td>T_NO_7</td>  <td>-0.4294</td> <td>-0.7976</td> <td>-0.0611</td>  <td>True</td> \n",
       "</tr>\n",
       "<tr>\n",
       "  <td>T_NO_6</td> <td>T_SE_6</td>  <td>-0.5231</td> <td>-0.8913</td> <td>-0.1548</td>  <td>True</td> \n",
       "</tr>\n",
       "<tr>\n",
       "  <td>T_NO_6</td> <td>T_SE_7</td>  <td>-0.3538</td> <td>-0.7221</td> <td>0.0144</td>   <td>False</td>\n",
       "</tr>\n",
       "<tr>\n",
       "  <td>T_NO_7</td> <td>T_SE_6</td>  <td>-0.0937</td> <td>-0.4619</td> <td>0.2745</td>   <td>False</td>\n",
       "</tr>\n",
       "<tr>\n",
       "  <td>T_NO_7</td> <td>T_SE_7</td>  <td>0.0755</td>  <td>-0.2927</td> <td>0.4438</td>   <td>False</td>\n",
       "</tr>\n",
       "<tr>\n",
       "  <td>T_SE_6</td> <td>T_SE_7</td>  <td>0.1692</td>  <td>-0.199</td>  <td>0.5375</td>   <td>False</td>\n",
       "</tr>\n",
       "</table>"
      ],
      "text/plain": [
       "<class 'statsmodels.iolib.table.SimpleTable'>"
      ]
     },
     "execution_count": 58,
     "metadata": {},
     "output_type": "execute_result"
    }
   ],
   "source": [
    "#Build the lists for each country each year\n",
    "T_CH_6 = ppltrust_clean[ppltrust_clean.cntry_year == 'CH_6']['ppltrst'].tolist()\n",
    "T_CH_7 = ppltrust_clean[ppltrust_clean.cntry_year == 'CH_7']['ppltrst'].tolist()\n",
    "T_CZ_6 = ppltrust_clean[ppltrust_clean.cntry_year == 'CZ_6']['ppltrst'].tolist()\n",
    "T_CZ_7 = ppltrust_clean[ppltrust_clean.cntry_year == 'CZ_7']['ppltrst'].tolist()\n",
    "T_DE_6 = ppltrust_clean[ppltrust_clean.cntry_year == 'DE_6']['ppltrst'].tolist()\n",
    "T_DE_7 = ppltrust_clean[ppltrust_clean.cntry_year == 'DE_7']['ppltrst'].tolist()\n",
    "T_ES_6 = ppltrust_clean[ppltrust_clean.cntry_year == 'ES_6']['ppltrst'].tolist()\n",
    "T_ES_7 = ppltrust_clean[ppltrust_clean.cntry_year == 'ES_7']['ppltrst'].tolist()\n",
    "T_NO_6 = ppltrust_clean[ppltrust_clean.cntry_year == 'NO_6']['ppltrst'].tolist()\n",
    "T_NO_7 = ppltrust_clean[ppltrust_clean.cntry_year == 'NO_7']['ppltrst'].tolist()\n",
    "T_SE_6 = ppltrust_clean[ppltrust_clean.cntry_year == 'SE_6']['ppltrst'].tolist()\n",
    "T_SE_7 = ppltrust_clean[ppltrust_clean.cntry_year == 'SE_7']['ppltrst'].tolist()\n",
    "\n",
    "#Build the arrays for comparison\n",
    "trust = np.asarray(T_CH_6 + T_CH_7+\n",
    "                   T_CZ_6 + T_CZ_7+\n",
    "                   T_DE_6 + T_DE_7+\n",
    "                   T_ES_6 + T_ES_7+\n",
    "                   T_NO_6 + T_NO_7+\n",
    "                   T_SE_6 + T_SE_7)\n",
    "\n",
    "group = np.array(['T_CH_6','T_CH_7', \n",
    "                  'T_CZ_6','T_CZ_7',\n",
    "                  'T_DE_6','T_DE_7',\n",
    "                  'T_ES_6','T_ES_7',\n",
    "                  'T_NO_6','T_NO_7',\n",
    "                  'T_SE_6','T_SE_7'])\n",
    "\n",
    "group = np.repeat(group, len(trust)/12)\n",
    "\n",
    "#Run the pairwise t-test using tukey hsd\n",
    "tukey = pairwise_tukeyhsd(endog=trust,    # Data\n",
    "                          groups=group,   # Groups\n",
    "                          alpha=0.05)     # Significance level\n",
    "\n",
    "#Summarize the data\n",
    "tukey.summary()"
   ]
  },
  {
   "cell_type": "markdown",
   "metadata": {},
   "source": [
    "In this case we have run all the comparisons between countries. We are assuming that all of them follow a normal distribution.\n",
    "\n",
    "From all the comparisons we are only focusing on those that are within countries between both years.\n",
    "\n",
    "In the Tukey HSD test the null hypothesis is _that all means being compared are from the same population_.\n",
    "\n",
    "Only in the cases of ***Spain*** and ***Norway*** the rejection of the null hypothesis is true being the means significantly different and therefore having having populations that are more trusting the case of Spain and less in the case of Norway. The rest of the countries under analysis remain the same."
   ]
  },
  {
   "cell_type": "markdown",
   "metadata": {},
   "source": [
    "#### 2. Did people become happier from 2012 to 2014? Compute results for each country in the sample ####"
   ]
  },
  {
   "cell_type": "code",
   "execution_count": 212,
   "metadata": {},
   "outputs": [
    {
     "name": "stdout",
     "output_type": "stream",
     "text": [
      "<class 'pandas.core.frame.DataFrame'>\n",
      "RangeIndex: 8594 entries, 0 to 8593\n",
      "Data columns (total 3 columns):\n",
      "cntry         8594 non-null object\n",
      "cntry_year    8594 non-null object\n",
      "happy         8563 non-null float64\n",
      "dtypes: float64(1), object(2)\n",
      "memory usage: 201.5+ KB\n"
     ]
    }
   ],
   "source": [
    "#Get info of the dataset once reduced to the trust variable\n",
    "\n",
    "#Slice the dataframe to the people happiness variable\n",
    "pplhappy = raw_data[['cntry','cntry_year','happy']]\n",
    "\n",
    "#Get info about the data\n",
    "pplhappy.info()"
   ]
  },
  {
   "cell_type": "code",
   "execution_count": 92,
   "metadata": {},
   "outputs": [
    {
     "name": "stdout",
     "output_type": "stream",
     "text": [
      "<class 'pandas.core.frame.DataFrame'>\n",
      "Int64Index: 8556 entries, 0 to 8593\n",
      "Data columns (total 3 columns):\n",
      "cntry         8556 non-null object\n",
      "cntry_year    8556 non-null object\n",
      "happy         8556 non-null float64\n",
      "dtypes: float64(1), object(2)\n",
      "memory usage: 267.4+ KB\n"
     ]
    }
   ],
   "source": [
    "#Clean the values in the dataframe that are null\n",
    "pplhappy_clean = pplhappy[pplhappy.happy.notnull()]\n",
    "\n",
    "remove_n = 7\n",
    "drop_indices = np.random.choice(pplhappy_clean.index, remove_n, replace=False)\n",
    "pplhappy_clean = pplhappy_clean.drop(drop_indices)\n",
    "#Check the remaining values\n",
    "pplhappy_clean.info()"
   ]
  },
  {
   "cell_type": "code",
   "execution_count": 93,
   "metadata": {},
   "outputs": [
    {
     "data": {
      "text/plain": [
       "cntry_year\n",
       "CH_6     769\n",
       "CH_7     772\n",
       "CZ_6     646\n",
       "CZ_7     652\n",
       "DE_6      14\n",
       "DE_7      14\n",
       "ES_6    1209\n",
       "ES_7    1212\n",
       "NO_6     727\n",
       "NO_7     730\n",
       "SE_6     907\n",
       "SE_7     904\n",
       "dtype: int64"
      ]
     },
     "execution_count": 93,
     "metadata": {},
     "output_type": "execute_result"
    }
   ],
   "source": [
    "#Check the sizes of data by country\n",
    "pplhappy_clean.groupby('cntry_year').size()"
   ]
  },
  {
   "cell_type": "code",
   "execution_count": 94,
   "metadata": {},
   "outputs": [
    {
     "data": {
      "text/plain": [
       "cntry_year\n",
       "CH_6    [[AxesSubplot(0.125,0.125;0.775x0.755)]]\n",
       "CH_7    [[AxesSubplot(0.125,0.125;0.775x0.755)]]\n",
       "CZ_6    [[AxesSubplot(0.125,0.125;0.775x0.755)]]\n",
       "CZ_7    [[AxesSubplot(0.125,0.125;0.775x0.755)]]\n",
       "DE_6    [[AxesSubplot(0.125,0.125;0.775x0.755)]]\n",
       "DE_7    [[AxesSubplot(0.125,0.125;0.775x0.755)]]\n",
       "ES_6    [[AxesSubplot(0.125,0.125;0.775x0.755)]]\n",
       "ES_7    [[AxesSubplot(0.125,0.125;0.775x0.755)]]\n",
       "NO_6    [[AxesSubplot(0.125,0.125;0.775x0.755)]]\n",
       "NO_7    [[AxesSubplot(0.125,0.125;0.775x0.755)]]\n",
       "SE_6    [[AxesSubplot(0.125,0.125;0.775x0.755)]]\n",
       "SE_7    [[AxesSubplot(0.125,0.125;0.775x0.755)]]\n",
       "dtype: object"
      ]
     },
     "execution_count": 94,
     "metadata": {},
     "output_type": "execute_result"
    },
    {
     "data": {
      "image/png": "[encoded data removed]",
      "text/plain": [
       "<matplotlib.figure.Figure at 0x22f43f1e5f8>"
      ]
     },
     "metadata": {},
     "output_type": "display_data"
    },
    {
     "data": {
      "image/png": "[encoded data removed]",
      "text/plain": [
       "<matplotlib.figure.Figure at 0x22f442f3320>"
      ]
     },
     "metadata": {},
     "output_type": "display_data"
    },
    {
     "data": {
      "image/png": "[encoded data removed]",
      "text/plain": [
       "<matplotlib.figure.Figure at 0x22f44294b70>"
      ]
     },
     "metadata": {},
     "output_type": "display_data"
    },
    {
     "data": {
      "image/png": "[encoded data removed]",
      "text/plain": [
       "<matplotlib.figure.Figure at 0x22f43f3b940>"
      ]
     },
     "metadata": {},
     "output_type": "display_data"
    },
    {
     "data": {
      "image/png": "[encoded data removed]",
      "text/plain": [
       "<matplotlib.figure.Figure at 0x22f43f6c3c8>"
      ]
     },
     "metadata": {},
     "output_type": "display_data"
    },
    {
     "data": {
      "image/png": "[encoded data removed]",
      "text/plain": [
       "<matplotlib.figure.Figure at 0x22f43f9ce48>"
      ]
     },
     "metadata": {},
     "output_type": "display_data"
    },
    {
     "data": {
      "image/png": "[encoded data removed]",
      "text/plain": [
       "<matplotlib.figure.Figure at 0x22f43fcfba8>"
      ]
     },
     "metadata": {},
     "output_type": "display_data"
    },
    {
     "data": {
      "image/png": "[encoded data removed]",
      "text/plain": [
       "<matplotlib.figure.Figure at 0x22f43fb6b00>"
      ]
     },
     "metadata": {},
     "output_type": "display_data"
    },
    {
     "data": {
      "image/png": "[encoded data removed]",
      "text/plain": [
       "<matplotlib.figure.Figure at 0x22f44037438>"
      ]
     },
     "metadata": {},
     "output_type": "display_data"
    },
    {
     "data": {
      "image/png": "[encoded data removed]",
      "text/plain": [
       "<matplotlib.figure.Figure at 0x22f44066f28>"
      ]
     },
     "metadata": {},
     "output_type": "display_data"
    },
    {
     "data": {
      "image/png": "[encoded data removed]",
      "text/plain": [
       "<matplotlib.figure.Figure at 0x22f4409cb00>"
      ]
     },
     "metadata": {},
     "output_type": "display_data"
    },
    {
     "data": {
      "image/png": "[encoded data removed]",
      "text/plain": [
       "<matplotlib.figure.Figure at 0x22f440ce6a0>"
      ]
     },
     "metadata": {},
     "output_type": "display_data"
    }
   ],
   "source": [
    "#Plot happy variables for visual inspection per country and year\n",
    "pplhappy_clean.groupby('cntry_year').hist(sharey=True,sharex=True)"
   ]
  },
  {
   "cell_type": "code",
   "execution_count": 97,
   "metadata": {},
   "outputs": [
    {
     "data": {
      "text/html": [
       "<table class=\"simpletable\">\n",
       "<caption>Multiple Comparison of Means - Tukey HSD,FWER=0.05</caption>\n",
       "<tr>\n",
       "  <th>group1</th> <th>group2</th> <th>meandiff</th>  <th>lower</th>   <th>upper</th>  <th>reject</th>\n",
       "</tr>\n",
       "<tr>\n",
       "  <td>H_CH_6</td> <td>H_CH_7</td>  <td>0.0042</td>  <td>-0.288</td>  <td>0.2964</td>   <td>False</td>\n",
       "</tr>\n",
       "<tr>\n",
       "  <td>H_CH_6</td> <td>H_CZ_6</td>  <td>-1.1262</td> <td>-1.4184</td> <td>-0.8341</td>  <td>True</td> \n",
       "</tr>\n",
       "<tr>\n",
       "  <td>H_CH_6</td> <td>H_CZ_7</td>  <td>-1.1992</td> <td>-1.4913</td> <td>-0.907</td>   <td>True</td> \n",
       "</tr>\n",
       "<tr>\n",
       "  <td>H_CH_6</td> <td>H_DE_6</td>  <td>-0.5947</td> <td>-0.8868</td> <td>-0.3025</td>  <td>True</td> \n",
       "</tr>\n",
       "<tr>\n",
       "  <td>H_CH_6</td> <td>H_DE_7</td>  <td>-0.554</td>  <td>-0.8462</td> <td>-0.2618</td>  <td>True</td> \n",
       "</tr>\n",
       "<tr>\n",
       "  <td>H_CH_6</td> <td>H_ES_6</td>  <td>-0.7349</td> <td>-1.0271</td> <td>-0.4428</td>  <td>True</td> \n",
       "</tr>\n",
       "<tr>\n",
       "  <td>H_CH_6</td> <td>H_ES_7</td>  <td>-0.1893</td> <td>-0.4815</td> <td>0.1028</td>   <td>False</td>\n",
       "</tr>\n",
       "<tr>\n",
       "  <td>H_CH_6</td> <td>H_NO_6</td>  <td>0.0168</td>  <td>-0.2753</td>  <td>0.309</td>   <td>False</td>\n",
       "</tr>\n",
       "<tr>\n",
       "  <td>H_CH_6</td> <td>H_NO_7</td>  <td>-0.1318</td> <td>-0.424</td>  <td>0.1603</td>   <td>False</td>\n",
       "</tr>\n",
       "<tr>\n",
       "  <td>H_CH_6</td> <td>H_SE_6</td>  <td>-0.2581</td> <td>-0.5502</td> <td>0.0341</td>   <td>False</td>\n",
       "</tr>\n",
       "<tr>\n",
       "  <td>H_CH_6</td> <td>H_SE_7</td>  <td>-0.1571</td> <td>-0.4492</td> <td>0.1351</td>   <td>False</td>\n",
       "</tr>\n",
       "<tr>\n",
       "  <td>H_CH_7</td> <td>H_CZ_6</td>  <td>-1.1304</td> <td>-1.4226</td> <td>-0.8383</td>  <td>True</td> \n",
       "</tr>\n",
       "<tr>\n",
       "  <td>H_CH_7</td> <td>H_CZ_7</td>  <td>-1.2034</td> <td>-1.4955</td> <td>-0.9112</td>  <td>True</td> \n",
       "</tr>\n",
       "<tr>\n",
       "  <td>H_CH_7</td> <td>H_DE_6</td>  <td>-0.5989</td> <td>-0.891</td>  <td>-0.3067</td>  <td>True</td> \n",
       "</tr>\n",
       "<tr>\n",
       "  <td>H_CH_7</td> <td>H_DE_7</td>  <td>-0.5582</td> <td>-0.8504</td> <td>-0.266</td>   <td>True</td> \n",
       "</tr>\n",
       "<tr>\n",
       "  <td>H_CH_7</td> <td>H_ES_6</td>  <td>-0.7391</td> <td>-1.0313</td> <td>-0.447</td>   <td>True</td> \n",
       "</tr>\n",
       "<tr>\n",
       "  <td>H_CH_7</td> <td>H_ES_7</td>  <td>-0.1935</td> <td>-0.4857</td> <td>0.0986</td>   <td>False</td>\n",
       "</tr>\n",
       "<tr>\n",
       "  <td>H_CH_7</td> <td>H_NO_6</td>  <td>0.0126</td>  <td>-0.2795</td> <td>0.3048</td>   <td>False</td>\n",
       "</tr>\n",
       "<tr>\n",
       "  <td>H_CH_7</td> <td>H_NO_7</td>  <td>-0.136</td>  <td>-0.4282</td> <td>0.1561</td>   <td>False</td>\n",
       "</tr>\n",
       "<tr>\n",
       "  <td>H_CH_7</td> <td>H_SE_6</td>  <td>-0.2623</td> <td>-0.5544</td> <td>0.0299</td>   <td>False</td>\n",
       "</tr>\n",
       "<tr>\n",
       "  <td>H_CH_7</td> <td>H_SE_7</td>  <td>-0.1613</td> <td>-0.4535</td> <td>0.1309</td>   <td>False</td>\n",
       "</tr>\n",
       "<tr>\n",
       "  <td>H_CZ_6</td> <td>H_CZ_7</td>  <td>-0.0729</td> <td>-0.3651</td> <td>0.2192</td>   <td>False</td>\n",
       "</tr>\n",
       "<tr>\n",
       "  <td>H_CZ_6</td> <td>H_DE_6</td>  <td>0.5316</td>  <td>0.2394</td>  <td>0.8237</td>   <td>True</td> \n",
       "</tr>\n",
       "<tr>\n",
       "  <td>H_CZ_6</td> <td>H_DE_7</td>  <td>0.5722</td>  <td>0.2801</td>  <td>0.8644</td>   <td>True</td> \n",
       "</tr>\n",
       "<tr>\n",
       "  <td>H_CZ_6</td> <td>H_ES_6</td>  <td>0.3913</td>  <td>0.0991</td>  <td>0.6835</td>   <td>True</td> \n",
       "</tr>\n",
       "<tr>\n",
       "  <td>H_CZ_6</td> <td>H_ES_7</td>  <td>0.9369</td>  <td>0.6447</td>  <td>1.2291</td>   <td>True</td> \n",
       "</tr>\n",
       "<tr>\n",
       "  <td>H_CZ_6</td> <td>H_NO_6</td>  <td>1.1431</td>  <td>0.8509</td>  <td>1.4352</td>   <td>True</td> \n",
       "</tr>\n",
       "<tr>\n",
       "  <td>H_CZ_6</td> <td>H_NO_7</td>  <td>0.9944</td>  <td>0.7022</td>  <td>1.2866</td>   <td>True</td> \n",
       "</tr>\n",
       "<tr>\n",
       "  <td>H_CZ_6</td> <td>H_SE_6</td>  <td>0.8682</td>   <td>0.576</td>  <td>1.1603</td>   <td>True</td> \n",
       "</tr>\n",
       "<tr>\n",
       "  <td>H_CZ_6</td> <td>H_SE_7</td>  <td>0.9691</td>   <td>0.677</td>  <td>1.2613</td>   <td>True</td> \n",
       "</tr>\n",
       "<tr>\n",
       "  <td>H_CZ_7</td> <td>H_DE_6</td>  <td>0.6045</td>  <td>0.3123</td>  <td>0.8967</td>   <td>True</td> \n",
       "</tr>\n",
       "<tr>\n",
       "  <td>H_CZ_7</td> <td>H_DE_7</td>  <td>0.6452</td>   <td>0.353</td>  <td>0.9373</td>   <td>True</td> \n",
       "</tr>\n",
       "<tr>\n",
       "  <td>H_CZ_7</td> <td>H_ES_6</td>  <td>0.4642</td>  <td>0.1721</td>  <td>0.7564</td>   <td>True</td> \n",
       "</tr>\n",
       "<tr>\n",
       "  <td>H_CZ_7</td> <td>H_ES_7</td>  <td>1.0098</td>  <td>0.7177</td>   <td>1.302</td>   <td>True</td> \n",
       "</tr>\n",
       "<tr>\n",
       "  <td>H_CZ_7</td> <td>H_NO_6</td>   <td>1.216</td>  <td>0.9238</td>  <td>1.5082</td>   <td>True</td> \n",
       "</tr>\n",
       "<tr>\n",
       "  <td>H_CZ_7</td> <td>H_NO_7</td>  <td>1.0673</td>  <td>0.7752</td>  <td>1.3595</td>   <td>True</td> \n",
       "</tr>\n",
       "<tr>\n",
       "  <td>H_CZ_7</td> <td>H_SE_6</td>  <td>0.9411</td>  <td>0.6489</td>  <td>1.2333</td>   <td>True</td> \n",
       "</tr>\n",
       "<tr>\n",
       "  <td>H_CZ_7</td> <td>H_SE_7</td>  <td>1.0421</td>  <td>0.7499</td>  <td>1.3342</td>   <td>True</td> \n",
       "</tr>\n",
       "<tr>\n",
       "  <td>H_DE_6</td> <td>H_DE_7</td>  <td>0.0407</td>  <td>-0.2515</td> <td>0.3328</td>   <td>False</td>\n",
       "</tr>\n",
       "<tr>\n",
       "  <td>H_DE_6</td> <td>H_ES_6</td>  <td>-0.1403</td> <td>-0.4324</td> <td>0.1519</td>   <td>False</td>\n",
       "</tr>\n",
       "<tr>\n",
       "  <td>H_DE_6</td> <td>H_ES_7</td>  <td>0.4053</td>  <td>0.1132</td>  <td>0.6975</td>   <td>True</td> \n",
       "</tr>\n",
       "<tr>\n",
       "  <td>H_DE_6</td> <td>H_NO_6</td>  <td>0.6115</td>  <td>0.3193</td>  <td>0.9037</td>   <td>True</td> \n",
       "</tr>\n",
       "<tr>\n",
       "  <td>H_DE_6</td> <td>H_NO_7</td>  <td>0.4628</td>  <td>0.1707</td>   <td>0.755</td>   <td>True</td> \n",
       "</tr>\n",
       "<tr>\n",
       "  <td>H_DE_6</td> <td>H_SE_6</td>  <td>0.3366</td>  <td>0.0444</td>  <td>0.6288</td>   <td>True</td> \n",
       "</tr>\n",
       "<tr>\n",
       "  <td>H_DE_6</td> <td>H_SE_7</td>  <td>0.4376</td>  <td>0.1454</td>  <td>0.7298</td>   <td>True</td> \n",
       "</tr>\n",
       "<tr>\n",
       "  <td>H_DE_7</td> <td>H_ES_6</td>  <td>-0.1809</td> <td>-0.4731</td> <td>0.1112</td>   <td>False</td>\n",
       "</tr>\n",
       "<tr>\n",
       "  <td>H_DE_7</td> <td>H_ES_7</td>  <td>0.3647</td>  <td>0.0725</td>  <td>0.6568</td>   <td>True</td> \n",
       "</tr>\n",
       "<tr>\n",
       "  <td>H_DE_7</td> <td>H_NO_6</td>  <td>0.5708</td>  <td>0.2787</td>   <td>0.863</td>   <td>True</td> \n",
       "</tr>\n",
       "<tr>\n",
       "  <td>H_DE_7</td> <td>H_NO_7</td>  <td>0.4222</td>   <td>0.13</td>   <td>0.7143</td>   <td>True</td> \n",
       "</tr>\n",
       "<tr>\n",
       "  <td>H_DE_7</td> <td>H_SE_6</td>  <td>0.2959</td>  <td>0.0038</td>  <td>0.5881</td>   <td>True</td> \n",
       "</tr>\n",
       "<tr>\n",
       "  <td>H_DE_7</td> <td>H_SE_7</td>  <td>0.3969</td>  <td>0.1048</td>  <td>0.6891</td>   <td>True</td> \n",
       "</tr>\n",
       "<tr>\n",
       "  <td>H_ES_6</td> <td>H_ES_7</td>  <td>0.5456</td>  <td>0.2534</td>  <td>0.8377</td>   <td>True</td> \n",
       "</tr>\n",
       "<tr>\n",
       "  <td>H_ES_6</td> <td>H_NO_6</td>  <td>0.7518</td>  <td>0.4596</td>  <td>1.0439</td>   <td>True</td> \n",
       "</tr>\n",
       "<tr>\n",
       "  <td>H_ES_6</td> <td>H_NO_7</td>  <td>0.6031</td>  <td>0.3109</td>  <td>0.8952</td>   <td>True</td> \n",
       "</tr>\n",
       "<tr>\n",
       "  <td>H_ES_6</td> <td>H_SE_6</td>  <td>0.4769</td>  <td>0.1847</td>   <td>0.769</td>   <td>True</td> \n",
       "</tr>\n",
       "<tr>\n",
       "  <td>H_ES_6</td> <td>H_SE_7</td>  <td>0.5778</td>  <td>0.2857</td>   <td>0.87</td>    <td>True</td> \n",
       "</tr>\n",
       "<tr>\n",
       "  <td>H_ES_7</td> <td>H_NO_6</td>  <td>0.2062</td>  <td>-0.086</td>  <td>0.4983</td>   <td>False</td>\n",
       "</tr>\n",
       "<tr>\n",
       "  <td>H_ES_7</td> <td>H_NO_7</td>  <td>0.0575</td>  <td>-0.2347</td> <td>0.3497</td>   <td>False</td>\n",
       "</tr>\n",
       "<tr>\n",
       "  <td>H_ES_7</td> <td>H_SE_6</td>  <td>-0.0687</td> <td>-0.3609</td> <td>0.2234</td>   <td>False</td>\n",
       "</tr>\n",
       "<tr>\n",
       "  <td>H_ES_7</td> <td>H_SE_7</td>  <td>0.0323</td>  <td>-0.2599</td> <td>0.3244</td>   <td>False</td>\n",
       "</tr>\n",
       "<tr>\n",
       "  <td>H_NO_6</td> <td>H_NO_7</td>  <td>-0.1487</td> <td>-0.4408</td> <td>0.1435</td>   <td>False</td>\n",
       "</tr>\n",
       "<tr>\n",
       "  <td>H_NO_6</td> <td>H_SE_6</td>  <td>-0.2749</td> <td>-0.5671</td> <td>0.0173</td>   <td>False</td>\n",
       "</tr>\n",
       "<tr>\n",
       "  <td>H_NO_6</td> <td>H_SE_7</td>  <td>-0.1739</td> <td>-0.4661</td> <td>0.1183</td>   <td>False</td>\n",
       "</tr>\n",
       "<tr>\n",
       "  <td>H_NO_7</td> <td>H_SE_6</td>  <td>-0.1262</td> <td>-0.4184</td> <td>0.1659</td>   <td>False</td>\n",
       "</tr>\n",
       "<tr>\n",
       "  <td>H_NO_7</td> <td>H_SE_7</td>  <td>-0.0252</td> <td>-0.3174</td> <td>0.2669</td>   <td>False</td>\n",
       "</tr>\n",
       "<tr>\n",
       "  <td>H_SE_6</td> <td>H_SE_7</td>   <td>0.101</td>  <td>-0.1912</td> <td>0.3931</td>   <td>False</td>\n",
       "</tr>\n",
       "</table>"
      ],
      "text/plain": [
       "<class 'statsmodels.iolib.table.SimpleTable'>"
      ]
     },
     "execution_count": 97,
     "metadata": {},
     "output_type": "execute_result"
    }
   ],
   "source": [
    "#Build the lists for each country each year\n",
    "H_CH_6 = pplhappy_clean[pplhappy_clean.cntry_year == 'CH_6']['happy'].tolist()\n",
    "H_CH_7 = pplhappy_clean[pplhappy_clean.cntry_year == 'CH_7']['happy'].tolist()\n",
    "H_CZ_6 = pplhappy_clean[pplhappy_clean.cntry_year == 'CZ_6']['happy'].tolist()\n",
    "H_CZ_7 = pplhappy_clean[pplhappy_clean.cntry_year == 'CZ_7']['happy'].tolist()\n",
    "H_DE_6 = pplhappy_clean[pplhappy_clean.cntry_year == 'DE_6']['happy'].tolist()\n",
    "H_DE_7 = pplhappy_clean[pplhappy_clean.cntry_year == 'DE_7']['happy'].tolist()\n",
    "H_ES_6 = pplhappy_clean[pplhappy_clean.cntry_year == 'ES_6']['happy'].tolist()\n",
    "H_ES_7 = pplhappy_clean[pplhappy_clean.cntry_year == 'ES_7']['happy'].tolist()\n",
    "H_NO_6 = pplhappy_clean[pplhappy_clean.cntry_year == 'NO_6']['happy'].tolist()\n",
    "H_NO_7 = pplhappy_clean[pplhappy_clean.cntry_year == 'NO_7']['happy'].tolist()\n",
    "H_SE_6 = pplhappy_clean[pplhappy_clean.cntry_year == 'SE_6']['happy'].tolist()\n",
    "H_SE_7 = pplhappy_clean[pplhappy_clean.cntry_year == 'SE_7']['happy'].tolist()\n",
    "\n",
    "#Build the arrays for comparison\n",
    "happy = np.asarray(H_CH_6 + H_CH_7 +\n",
    "                   H_CZ_6 + H_CZ_7 + \n",
    "                   H_DE_6 + H_DE_7 + \n",
    "                   H_ES_6 + H_ES_7 + \n",
    "                   H_NO_6 + H_NO_7 + \n",
    "                   H_SE_6 + H_SE_7)\n",
    "\n",
    "group_happy = np.array(['H_CH_6', 'H_CH_7',\n",
    "                     'H_CZ_6', 'H_CZ_7',\n",
    "                     'H_DE_6', 'H_DE_7',\n",
    "                     'H_ES_6', 'H_ES_7',\n",
    "                     'H_NO_6', 'H_NO_7',\n",
    "                     'H_SE_6', 'H_SE_7'])\n",
    "\n",
    "group_happy = np.repeat(group_happy, len(happy)/12)\n",
    "\n",
    "#Run the pairwise t-test using tukey hsd\n",
    "tukey = pairwise_tukeyhsd(endog=happy,    # Data\n",
    "                          groups=group_happy,   # Groups\n",
    "                          alpha=0.05)     # Significance level\n",
    "\n",
    "#Summarize the data\n",
    "tukey.summary()"
   ]
  },
  {
   "cell_type": "markdown",
   "metadata": {},
   "source": [
    "In this case we have run all the comparisons between countries. We are assuming that all of them follow a normal distribution.\n",
    "\n",
    "From all the comparisons we are only focusing on those that are within countries between both years.\n",
    "\n",
    "In the Tukey HSD test the null hypothesis is that all means being compared are from the same population.\n",
    "\n",
    "Only in the cases of ***Spain*** the rejection of the null hypothesis is true being the means significantly different and therefore having populations that are happier in recent years. The rest of the countries under analysis remain the same."
   ]
  },
  {
   "cell_type": "markdown",
   "metadata": {},
   "source": [
    "#### 3. Who reported watching more TV in 2012, men or women? ####"
   ]
  },
  {
   "cell_type": "code",
   "execution_count": 177,
   "metadata": {},
   "outputs": [
    {
     "name": "stdout",
     "output_type": "stream",
     "text": [
      "<class 'pandas.core.frame.DataFrame'>\n",
      "RangeIndex: 8594 entries, 0 to 8593\n",
      "Data columns (total 3 columns):\n",
      "gndr     8584 non-null float64\n",
      "year     8594 non-null int64\n",
      "tvtot    8586 non-null float64\n",
      "dtypes: float64(2), int64(1)\n",
      "memory usage: 201.5 KB\n"
     ]
    }
   ],
   "source": [
    "#Get info of the dataset once reduced to the trust variable\n",
    "#Slice the dataframe to the people trust variable\n",
    "tv_total = raw_data[['gndr','year','tvtot']]\n",
    "\n",
    "#Info\n",
    "tv_total.info()"
   ]
  },
  {
   "cell_type": "code",
   "execution_count": 184,
   "metadata": {},
   "outputs": [
    {
     "name": "stdout",
     "output_type": "stream",
     "text": [
      "<class 'pandas.core.frame.DataFrame'>\n",
      "Int64Index: 4297 entries, 0 to 7685\n",
      "Data columns (total 2 columns):\n",
      "gndr     4297 non-null float64\n",
      "tvtot    4291 non-null float64\n",
      "dtypes: float64(2)\n",
      "memory usage: 100.7 KB\n"
     ]
    }
   ],
   "source": [
    "#Slice by the year 2012\n",
    "tv_total_2012 = tv_total[tv_total.year == 6]\n",
    "\n",
    "#Drop year\n",
    "tv_total_2012bis = tv_total_2012.drop('year',axis = 1)\n",
    "\n",
    "#Get information of the new dataframe\n",
    "tv_total_2012bis.info()"
   ]
  },
  {
   "cell_type": "code",
   "execution_count": 186,
   "metadata": {},
   "outputs": [
    {
     "name": "stdout",
     "output_type": "stream",
     "text": [
      "<class 'pandas.core.frame.DataFrame'>\n",
      "RangeIndex: 4291 entries, 0 to 4290\n",
      "Data columns (total 2 columns):\n",
      "gndr     4291 non-null float64\n",
      "tvtot    4291 non-null float64\n",
      "dtypes: float64(2)\n",
      "memory usage: 67.1 KB\n"
     ]
    }
   ],
   "source": [
    "#Clean the values in the dataframe that are null (gender)\n",
    "tv_total_gndr_cl = tv_total_2012bis[tv_total_2012bis.gndr.notnull()]\n",
    "\n",
    "#Clean the values in the dataframe that are null (total hours)\n",
    "tv_total_cle = tv_total_gndr_cl[tv_total_gndr_cl.tvtot.notnull()]\n",
    "\n",
    "#Reset index\n",
    "tv_total_clea = tv_total_cle.reset_index()\n",
    "\n",
    "#Drop old index\n",
    "tv_total_clean = tv_total_clea.drop('index',axis = 1)\n",
    "\n",
    "#Check Values\n",
    "tv_total_clean.info()"
   ]
  },
  {
   "cell_type": "code",
   "execution_count": 195,
   "metadata": {},
   "outputs": [
    {
     "data": {
      "text/plain": [
       "2.0    2140\n",
       "1.0    2140\n",
       "Name: gndr, dtype: int64"
      ]
     },
     "execution_count": 195,
     "metadata": {},
     "output_type": "execute_result"
    }
   ],
   "source": [
    "#Downsample majority class (due to computational restrictions we downsample the majority instead of upsampling the minority)\n",
    "\n",
    "# Separate majority and minority classes\n",
    "tv_total_clean_majority = tv_total_clean[tv_total_clean.gndr == 1.0]\n",
    "tv_total_clean_minority = tv_total_clean[tv_total_clean.gndr == 2.0]\n",
    " \n",
    "# Downsample the majority\n",
    "tv_total_clean_majority_downsampled = resample(tv_total_clean_majority, replace=False, n_samples=2140, random_state=123) \n",
    " \n",
    "# Combine minority class with downsampled majority class\n",
    "tv_total_complete = pd.concat([tv_total_clean_majority_downsampled, tv_total_clean_minority])\n",
    "\n",
    "# Display new class counts\n",
    "tv_total_complete.gndr.value_counts()"
   ]
  },
  {
   "cell_type": "code",
   "execution_count": 196,
   "metadata": {},
   "outputs": [
    {
     "data": {
      "text/plain": [
       "gndr\n",
       "1.0    [[AxesSubplot(0.125,0.125;0.775x0.755)]]\n",
       "2.0    [[AxesSubplot(0.125,0.125;0.775x0.755)]]\n",
       "dtype: object"
      ]
     },
     "execution_count": 196,
     "metadata": {},
     "output_type": "execute_result"
    },
    {
     "data": {
      "image/png": "[encoded data removed]",
      "text/plain": [
       "<matplotlib.figure.Figure at 0x22f455a3400>"
      ]
     },
     "metadata": {},
     "output_type": "display_data"
    },
    {
     "data": {
      "image/png": "[encoded data removed]",
      "text/plain": [
       "<matplotlib.figure.Figure at 0x22f456b9e10>"
      ]
     },
     "metadata": {},
     "output_type": "display_data"
    }
   ],
   "source": [
    "#Plot happy variables for visual inspection per country and year\n",
    "tv_total_complete.groupby('gndr').hist(sharey=True,sharex=True)"
   ]
  },
  {
   "cell_type": "markdown",
   "metadata": {},
   "source": [
    "The distribution of total tv watching hours is non parametric as it can be appreciated when plotting the hours by gender for 2012."
   ]
  },
  {
   "cell_type": "code",
   "execution_count": 197,
   "metadata": {},
   "outputs": [],
   "source": [
    "#Build a new dataframe with the total tv hours per gender\n",
    "tv_total_reordered = pd.DataFrame()\n",
    "\n",
    "#Create lists splitting between men and women the total tv watching hours\n",
    "men = list(tv_total_complete[tv_total_complete.gndr == 1.0]['tvtot'])\n",
    "women = list(tv_total_complete[tv_total_complete.gndr == 2.0]['tvtot'])\n",
    "\n",
    "#Build columns and add to the dataframe\n",
    "tv_total_reordered['men'] = men\n",
    "tv_total_reordered['women'] = women"
   ]
  },
  {
   "cell_type": "code",
   "execution_count": 198,
   "metadata": {},
   "outputs": [
    {
     "name": "stdout",
     "output_type": "stream",
     "text": [
      "Ranks_men      2126.00514\n",
      "Ranks_women    2154.99486\n",
      "dtype: float64\n",
      "2140.5\n"
     ]
    },
    {
     "data": {
      "text/plain": [
       "KruskalResult(statistic=0.6014571876999385, pvalue=0.43802258247065096)"
      ]
     },
     "execution_count": 198,
     "metadata": {},
     "output_type": "execute_result"
    }
   ],
   "source": [
    "# Kruskal-Wallace Test\n",
    "\n",
    "# Join all ratings together into a list, then ranking them.\n",
    "ranks = stats.rankdata(\n",
    "    tv_total_reordered['men'].tolist() +\n",
    "    tv_total_reordered['women'].tolist())\n",
    "\n",
    "# Add the new ranked variables to the data frame.\n",
    "tv_total_reordered['Ranks_men'] = ranks[0:2140]\n",
    "tv_total_reordered['Ranks_women'] = ranks[2140:4280]\n",
    "\n",
    "\n",
    "# Average rank per group.\n",
    "groups = ['Ranks_men', 'Ranks_women']\n",
    "print(tv_total_reordered[groups].apply(np.mean))\n",
    "\n",
    "# Overall average rank.\n",
    "print(np.mean(ranks))\n",
    "\n",
    "# Print the test statistic followed by the probability of getting this result\n",
    "# if the groups were not different.\n",
    "stats.kruskal(\n",
    "    tv_total_reordered['men'],\n",
    "    tv_total_reordered['women'])"
   ]
  },
  {
   "cell_type": "markdown",
   "metadata": {},
   "source": [
    "It appears that the groups do not differ significantly. The test says there is a 43.8% chance of getting our data if there were no systematic difference between in the total tv watching hours per gender in the population. Based on our data, tv watching hours doesn't seem to differ systematically across gender."
   ]
  },
  {
   "cell_type": "markdown",
   "metadata": {},
   "source": [
    "#### 4. Who was more likely to believe people were fair in 2012, people living with a partner or people living alone? ####"
   ]
  },
  {
   "cell_type": "code",
   "execution_count": 199,
   "metadata": {},
   "outputs": [
    {
     "name": "stdout",
     "output_type": "stream",
     "text": [
      "<class 'pandas.core.frame.DataFrame'>\n",
      "RangeIndex: 8594 entries, 0 to 8593\n",
      "Data columns (total 3 columns):\n",
      "partner    8577 non-null float64\n",
      "year       8594 non-null int64\n",
      "pplfair    8555 non-null float64\n",
      "dtypes: float64(2), int64(1)\n",
      "memory usage: 201.5 KB\n"
     ]
    }
   ],
   "source": [
    "#Get info of the dataset once reduced to the trust variable\n",
    "#Slice the dataframe to the people trust variable\n",
    "pplfairness = raw_data[['partner','year','pplfair']]\n",
    "\n",
    "#Info\n",
    "pplfairness.info()"
   ]
  },
  {
   "cell_type": "code",
   "execution_count": 201,
   "metadata": {},
   "outputs": [
    {
     "name": "stdout",
     "output_type": "stream",
     "text": [
      "<class 'pandas.core.frame.DataFrame'>\n",
      "Int64Index: 4297 entries, 0 to 7685\n",
      "Data columns (total 2 columns):\n",
      "partner    4290 non-null float64\n",
      "pplfair    4277 non-null float64\n",
      "dtypes: float64(2)\n",
      "memory usage: 100.7 KB\n"
     ]
    }
   ],
   "source": [
    "#Slice by the year 2012\n",
    "pplfairness_2012 = pplfairness[pplfairness.year == 6]\n",
    "\n",
    "#Drop year\n",
    "pplfairness_2012bis = pplfairness_2012.drop('year',axis = 1)\n",
    "\n",
    "#Get information of the new dataframe\n",
    "pplfairness_2012bis.info()"
   ]
  },
  {
   "cell_type": "code",
   "execution_count": 202,
   "metadata": {},
   "outputs": [
    {
     "name": "stdout",
     "output_type": "stream",
     "text": [
      "<class 'pandas.core.frame.DataFrame'>\n",
      "RangeIndex: 4271 entries, 0 to 4270\n",
      "Data columns (total 2 columns):\n",
      "partner    4271 non-null float64\n",
      "pplfair    4271 non-null float64\n",
      "dtypes: float64(2)\n",
      "memory usage: 66.8 KB\n"
     ]
    }
   ],
   "source": [
    "#Clean the values in the dataframe that are null (partner)\n",
    "pplfairness_2012bis_partner_cl = pplfairness_2012bis[pplfairness_2012bis.partner.notnull()]\n",
    "\n",
    "#Clean the values in the dataframe that are null (total hours)\n",
    "pplfairness_cle = pplfairness_2012bis_partner_cl[pplfairness_2012bis_partner_cl.pplfair.notnull()]\n",
    "\n",
    "#Reset index\n",
    "pplfairness_clea = pplfairness_cle.reset_index()\n",
    "\n",
    "#Drop old index\n",
    "pplfairness_clean = pplfairness_clea.drop('index',axis = 1)\n",
    "\n",
    "#Check Values\n",
    "pplfairness_clean.info()"
   ]
  },
  {
   "cell_type": "code",
   "execution_count": 204,
   "metadata": {},
   "outputs": [
    {
     "data": {
      "text/plain": [
       "2.0    1608\n",
       "1.0    1608\n",
       "Name: partner, dtype: int64"
      ]
     },
     "execution_count": 204,
     "metadata": {},
     "output_type": "execute_result"
    }
   ],
   "source": [
    "#Downsample majority class (due to computational restrictions we downsample the majority instead of upsampling the minority)\n",
    "\n",
    "# Separate majority and minority classes\n",
    "pplfairness_clean_majority = pplfairness_clean[pplfairness_clean.partner == 1.0]\n",
    "pplfairness_clean_minority = pplfairness_clean[pplfairness_clean.partner == 2.0]\n",
    " \n",
    "# Downsample the majority\n",
    "pplfairness_clean_majority_downsampled = resample(pplfairness_clean_majority, replace=False, n_samples=1608, random_state=123) \n",
    " \n",
    "# Combine minority class with downsampled majority class\n",
    "pplfairness_complete = pd.concat([pplfairness_clean_majority_downsampled, pplfairness_clean_minority])\n",
    "\n",
    "# Display new class counts\n",
    "pplfairness_complete.partner.value_counts()"
   ]
  },
  {
   "cell_type": "code",
   "execution_count": 205,
   "metadata": {},
   "outputs": [
    {
     "data": {
      "text/plain": [
       "partner\n",
       "1.0    [[AxesSubplot(0.125,0.125;0.775x0.755)]]\n",
       "2.0    [[AxesSubplot(0.125,0.125;0.775x0.755)]]\n",
       "dtype: object"
      ]
     },
     "execution_count": 205,
     "metadata": {},
     "output_type": "execute_result"
    },
    {
     "data": {
      "image/png": "[encoded data removed]",
      "text/plain": [
       "<matplotlib.figure.Figure at 0x22f45835198>"
      ]
     },
     "metadata": {},
     "output_type": "display_data"
    },
    {
     "data": {
      "image/png": "[encoded data removed]",
      "text/plain": [
       "<matplotlib.figure.Figure at 0x22f45861710>"
      ]
     },
     "metadata": {},
     "output_type": "display_data"
    }
   ],
   "source": [
    "#Plot happy variables for visual inspection per country and year\n",
    "pplfairness_complete.groupby('partner').hist(sharey=True,sharex=True)"
   ]
  },
  {
   "cell_type": "markdown",
   "metadata": {},
   "source": [
    "Distributions are considered to be normal although skewed to the left"
   ]
  },
  {
   "cell_type": "code",
   "execution_count": 207,
   "metadata": {},
   "outputs": [],
   "source": [
    "#Build a new dataframe with the total tv hours per gender\n",
    "pplfairness_reordered = pd.DataFrame()\n",
    "\n",
    "#Create lists splitting between men and women the total tv watching hours\n",
    "wpartner = list(pplfairness_complete[pplfairness_complete.partner == 1.0]['pplfair'])\n",
    "alone = list(pplfairness_complete[pplfairness_complete.partner == 2.0]['pplfair'])\n",
    "\n",
    "#Build columns and add to the dataframe\n",
    "pplfairness_reordered['wpartner'] = wpartner\n",
    "pplfairness_reordered['alone'] = alone"
   ]
  },
  {
   "cell_type": "code",
   "execution_count": 208,
   "metadata": {},
   "outputs": [
    {
     "name": "stdout",
     "output_type": "stream",
     "text": [
      "wpartner    6.085821\n",
      "alone       5.856965\n",
      "dtype: float64\n"
     ]
    },
    {
     "data": {
      "image/png": "[encoded data removed]",
      "text/plain": [
       "<matplotlib.figure.Figure at 0x22f4583d748>"
      ]
     },
     "metadata": {},
     "output_type": "display_data"
    },
    {
     "name": "stdout",
     "output_type": "stream",
     "text": [
      "9.126537190662138\n",
      "0.002539122042052086\n"
     ]
    }
   ],
   "source": [
    "# Printing the means for each group.\n",
    "print(pplfairness_reordered.mean())\n",
    "\n",
    "pplfairness_reordered.boxplot()\n",
    "plt.show()\n",
    "\n",
    "\n",
    "F, p = stats.f_oneway(\n",
    "    pplfairness_reordered['wpartner'],\n",
    "    pplfairness_reordered['alone'])\n",
    "\n",
    "# The F statistic.\n",
    "print(F)\n",
    "\n",
    "# The probability. A p < .05 would lead us to believe the group means were\n",
    "# not all similar in the population.\n",
    "print(p)"
   ]
  },
  {
   "cell_type": "code",
   "execution_count": 210,
   "metadata": {},
   "outputs": [
    {
     "name": "stdout",
     "output_type": "stream",
     "text": [
      "Ttest_indResult(statistic=3.021015920292726, pvalue=0.0025391220420555288)\n"
     ]
    }
   ],
   "source": [
    "#Run a one way ANOVA test on the groups\n",
    "print(stats.ttest_ind(pplfairness_reordered['wpartner'], pplfairness_reordered['alone']))"
   ]
  },
  {
   "cell_type": "markdown",
   "metadata": {},
   "source": [
    "It appears that the two groups of people (in 2012) living with a partner or alone are likely to differ in the population (p < .005).  Visual inspection suggests that the people living alone believe that people are not fair compared to the ones living with their partner. To test whether the people living alone is the odd one out, we compare each group to each other. \n",
    "\n",
    "The results of this test are interesting! Contrary to what we might have expected from a visual inspection of the histograms, the means of all three groups seem to be significantly different from one another. Wood is highest, then Steel, then Plastic."
   ]
  },
  {
   "cell_type": "code",
   "execution_count": 211,
   "metadata": {},
   "outputs": [
    {
     "data": {
      "text/html": [
       "<table class=\"simpletable\">\n",
       "<caption>Multiple Comparison of Means - Tukey HSD,FWER=0.05</caption>\n",
       "<tr>\n",
       "  <th>group1</th>  <th>group2</th>  <th>meandiff</th>  <th>lower</th>  <th>upper</th> <th>reject</th>\n",
       "</tr>\n",
       "<tr>\n",
       "   <td>alone</td> <td>wpartner</td>  <td>0.2289</td>  <td>0.0803</td> <td>0.3774</td>  <td>True</td> \n",
       "</tr>\n",
       "</table>"
      ],
      "text/plain": [
       "<class 'statsmodels.iolib.table.SimpleTable'>"
      ]
     },
     "execution_count": 211,
     "metadata": {},
     "output_type": "execute_result"
    }
   ],
   "source": [
    "#Tukey HSD test\n",
    "\n",
    "#Build the arrays for comparison\n",
    "fair = np.asarray(wpartner + alone)\n",
    "\n",
    "group_fair = np.array(['wpartner', 'alone'])\n",
    "\n",
    "group_fair = np.repeat(group_fair, len(fair)/2)\n",
    "\n",
    "#Run the pairwise t-test using tukey hsd\n",
    "tukey = pairwise_tukeyhsd(endog=fair,    # Data\n",
    "                          groups=group_fair,   # Groups\n",
    "                          alpha=0.05)     # Significance level\n",
    "\n",
    "#Summarize the data\n",
    "tukey.summary()"
   ]
  },
  {
   "cell_type": "markdown",
   "metadata": {},
   "source": [
    "In the Tukey HSD test the null hypothesis is that all means being compared are from the same population.\n",
    "\n",
    "This test confirms the result obtained by the one way ANOVA test. In this case the rejection of the null hypothesis is true being the means significantly different and therefore having populations that are belive that others are more unfair if they live alone than when they live with their partners."
   ]
  },
  {
   "cell_type": "markdown",
   "metadata": {},
   "source": [
    "#### 5. Pick three or four of the countries in the sample and compare how often people met socially in 2014. Are there differences, and if so, which countries stand out? ####"
   ]
  },
  {
   "cell_type": "code",
   "execution_count": 213,
   "metadata": {},
   "outputs": [
    {
     "name": "stdout",
     "output_type": "stream",
     "text": [
      "<class 'pandas.core.frame.DataFrame'>\n",
      "RangeIndex: 8594 entries, 0 to 8593\n",
      "Data columns (total 3 columns):\n",
      "cntry      8594 non-null object\n",
      "year       8594 non-null int64\n",
      "sclmeet    8579 non-null float64\n",
      "dtypes: float64(1), int64(1), object(1)\n",
      "memory usage: 201.5+ KB\n"
     ]
    }
   ],
   "source": [
    "#Get info of the dataset once reduced to the trust variable\n",
    "#Slice the dataframe to the people trust variable\n",
    "meet = raw_data[['cntry','year','sclmeet']]\n",
    "\n",
    "#Info\n",
    "meet.info()"
   ]
  },
  {
   "cell_type": "code",
   "execution_count": 214,
   "metadata": {},
   "outputs": [
    {
     "name": "stdout",
     "output_type": "stream",
     "text": [
      "<class 'pandas.core.frame.DataFrame'>\n",
      "Int64Index: 4297 entries, 773 to 8593\n",
      "Data columns (total 2 columns):\n",
      "cntry      4297 non-null object\n",
      "sclmeet    4291 non-null float64\n",
      "dtypes: float64(1), object(1)\n",
      "memory usage: 100.7+ KB\n"
     ]
    }
   ],
   "source": [
    "#Slice by the year 2014\n",
    "meet_2014 = meet[meet.year == 7]\n",
    "\n",
    "#Drop year\n",
    "meet_2014bis = meet_2014.drop('year',axis = 1)\n",
    "\n",
    "#Get information of the new dataframe\n",
    "meet_2014bis.info()"
   ]
  },
  {
   "cell_type": "code",
   "execution_count": 215,
   "metadata": {},
   "outputs": [
    {
     "name": "stdout",
     "output_type": "stream",
     "text": [
      "<class 'pandas.core.frame.DataFrame'>\n",
      "RangeIndex: 4291 entries, 0 to 4290\n",
      "Data columns (total 2 columns):\n",
      "cntry      4291 non-null object\n",
      "sclmeet    4291 non-null float64\n",
      "dtypes: float64(1), object(1)\n",
      "memory usage: 67.1+ KB\n"
     ]
    }
   ],
   "source": [
    "#Clean the values in the dataframe that are null (country)\n",
    "meet_2014bis_cntr_cl = meet_2014bis[meet_2014bis.cntry.notnull()]\n",
    "\n",
    "#Clean the values in the dataframe that are null (social meet)\n",
    "meet_cle = meet_2014bis_cntr_cl[meet_2014bis_cntr_cl.sclmeet.notnull()]\n",
    "\n",
    "#Reset index\n",
    "meet_clea = meet_cle.reset_index()\n",
    "\n",
    "#Drop old index\n",
    "meet_clean = meet_clea.drop('index',axis = 1)\n",
    "\n",
    "#Check Values\n",
    "meet_clean.info()"
   ]
  },
  {
   "cell_type": "code",
   "execution_count": 222,
   "metadata": {},
   "outputs": [
    {
     "data": {
      "text/plain": [
       "ES    1211\n",
       "SE     908\n",
       "CH     772\n",
       "Name: cntry, dtype: int64"
      ]
     },
     "execution_count": 222,
     "metadata": {},
     "output_type": "execute_result"
    }
   ],
   "source": [
    "#SLice the dataframe for three countries\n",
    "meet_final = meet_clean.loc[meet_clean['cntry'].isin(['ES','SE','CH'])]"
   ]
  },
  {
   "cell_type": "code",
   "execution_count": 223,
   "metadata": {},
   "outputs": [
    {
     "data": {
      "text/plain": [
       "cntry\n",
       "CH    [[AxesSubplot(0.125,0.125;0.775x0.755)]]\n",
       "ES    [[AxesSubplot(0.125,0.125;0.775x0.755)]]\n",
       "SE    [[AxesSubplot(0.125,0.125;0.775x0.755)]]\n",
       "dtype: object"
      ]
     },
     "execution_count": 223,
     "metadata": {},
     "output_type": "execute_result"
    },
    {
     "data": {
      "image/png": "[encoded data removed]",
      "text/plain": [
       "<matplotlib.figure.Figure at 0x22f4595e710>"
      ]
     },
     "metadata": {},
     "output_type": "display_data"
    },
    {
     "data": {
      "image/png": "[encoded data removed]",
      "text/plain": [
       "<matplotlib.figure.Figure at 0x22f45988518>"
      ]
     },
     "metadata": {},
     "output_type": "display_data"
    },
    {
     "data": {
      "image/png": "[encoded data removed]",
      "text/plain": [
       "<matplotlib.figure.Figure at 0x22f459c0048>"
      ]
     },
     "metadata": {},
     "output_type": "display_data"
    }
   ],
   "source": [
    "#Plot happy variables for visual inspection per country and year\n",
    "meet_final.groupby('cntry').hist(sharey=True,sharex=True)"
   ]
  },
  {
   "cell_type": "code",
   "execution_count": 247,
   "metadata": {},
   "outputs": [
    {
     "data": {
      "text/plain": [
       "SE    772\n",
       "ES    772\n",
       "CH    772\n",
       "Name: cntry, dtype: int64"
      ]
     },
     "execution_count": 247,
     "metadata": {},
     "output_type": "execute_result"
    }
   ],
   "source": [
    "#Downsample majority class (due to computational restrictions we downsample the majority instead of upsampling the minority)\n",
    "\n",
    "# Separate majority and minority classes\n",
    "meet_final_majority_1 = meet_final[meet_final.cntry == 'ES']\n",
    "meet_final_majority_2 = meet_final[meet_final.cntry == 'SE']\n",
    "meet_final_minority = meet_final[meet_final.cntry == 'CH']\n",
    " \n",
    "# Downsample the majority\n",
    "meet_final_majority_1_downsampled = resample(meet_final_majority_1, replace=False, n_samples=772, random_state=123) \n",
    "meet_final_majority_2_downsampled = resample(meet_final_majority_2, replace=False, n_samples=772, random_state=123)  \n",
    "\n",
    "# Combine minority class with downsampled majority class\n",
    "meet_complete = pd.concat([meet_final_majority_1_downsampled, meet_final_majority_2_downsampled, meet_final_minority])\n",
    "\n",
    "# Display new class counts\n",
    "meet_complete.cntry.value_counts()"
   ]
  },
  {
   "cell_type": "code",
   "execution_count": 248,
   "metadata": {
    "collapsed": true
   },
   "outputs": [],
   "source": [
    "#Build a new dataframe with the total tv hours per gender\n",
    "meet_reordered = pd.DataFrame()\n",
    "\n",
    "#Create lists splitting between countries\n",
    "ES = list(meet_complete[meet_complete.cntry == 'ES']['sclmeet'])\n",
    "SE = list(meet_complete[meet_complete.cntry == 'SE']['sclmeet'])\n",
    "CH = list(meet_complete[meet_complete.cntry == 'CH']['sclmeet'])\n",
    "\n",
    "#Build columns and add to the dataframe\n",
    "meet_reordered['SE'] = SE\n",
    "meet_reordered['ES'] = ES\n",
    "meet_reordered['CH'] = CH"
   ]
  },
  {
   "cell_type": "code",
   "execution_count": 249,
   "metadata": {},
   "outputs": [
    {
     "name": "stdout",
     "output_type": "stream",
     "text": [
      "Ranks_ES    1160.752591\n",
      "Ranks_SE    1234.441710\n",
      "Ranks_CH    1080.305699\n",
      "dtype: float64\n",
      "1158.5\n"
     ]
    },
    {
     "data": {
      "text/plain": [
       "KruskalResult(statistic=21.838360207302635, pvalue=1.8107576725725307e-05)"
      ]
     },
     "execution_count": 249,
     "metadata": {},
     "output_type": "execute_result"
    }
   ],
   "source": [
    "# Kruskal-Wallace Test\n",
    "\n",
    "# Join all ratings together into a list, then ranking them.\n",
    "ranks = stats.rankdata(\n",
    "    meet_reordered['ES'].tolist() +\n",
    "    meet_reordered['SE'].tolist() + \n",
    "    meet_reordered['CH'].tolist())\n",
    "\n",
    "# Add the new ranked variables to the data frame.\n",
    "meet_reordered['Ranks_ES'] = ranks[0:772]\n",
    "meet_reordered['Ranks_SE'] = ranks[772:1544]\n",
    "meet_reordered['Ranks_CH'] = ranks[1544:2316]\n",
    "\n",
    "\n",
    "# Average rank per group.\n",
    "groups = ['Ranks_ES', 'Ranks_SE', 'Ranks_CH']\n",
    "print(meet_reordered[groups].apply(np.mean))\n",
    "\n",
    "# Overall average rank.\n",
    "print(np.mean(ranks))\n",
    "\n",
    "# Print the test statistic followed by the probability of getting this result\n",
    "# if the groups were not different.\n",
    "stats.kruskal(\n",
    "    meet_reordered['ES'],\n",
    "    meet_reordered['SE'],\n",
    "    meet_reordered['CH'])"
   ]
  },
  {
   "cell_type": "markdown",
   "metadata": {},
   "source": [
    "It appears that the groups do differ significantly. The test says there is a less than 0.05% chance of getting our data if there were no systematic difference between in the social meetings between countries. Based on our data, social meeting seem to differ systematically across countries.\n",
    "\n",
    "Based on the differences it seems that ***Sweden*** stands out having more socal hours than the rest, followed by Spain and Switzerland in the third place"
   ]
  },
  {
   "cell_type": "markdown",
   "metadata": {},
   "source": [
    "#### 6. Pick three or four of the countries in the sample and compare how often people took part in social activities, relative to others of their age, in 2014. Are there differences, and if so, which countries stand out? ####"
   ]
  },
  {
   "cell_type": "code",
   "execution_count": 231,
   "metadata": {},
   "outputs": [
    {
     "name": "stdout",
     "output_type": "stream",
     "text": [
      "<class 'pandas.core.frame.DataFrame'>\n",
      "RangeIndex: 8594 entries, 0 to 8593\n",
      "Data columns (total 4 columns):\n",
      "cntry     8594 non-null object\n",
      "year      8594 non-null int64\n",
      "agea      8355 non-null float64\n",
      "sclact    8500 non-null float64\n",
      "dtypes: float64(2), int64(1), object(1)\n",
      "memory usage: 268.6+ KB\n"
     ]
    }
   ],
   "source": [
    "#Get info of the dataset once reduced to the trust variable\n",
    "#Slice the dataframe to the people trust variable\n",
    "social = raw_data[['cntry','year', 'agea', 'sclact']]\n",
    "\n",
    "#Info\n",
    "social.info()"
   ]
  },
  {
   "cell_type": "code",
   "execution_count": 232,
   "metadata": {},
   "outputs": [
    {
     "name": "stdout",
     "output_type": "stream",
     "text": [
      "<class 'pandas.core.frame.DataFrame'>\n",
      "Int64Index: 4297 entries, 773 to 8593\n",
      "Data columns (total 3 columns):\n",
      "cntry     4297 non-null object\n",
      "agea      4184 non-null float64\n",
      "sclact    4249 non-null float64\n",
      "dtypes: float64(2), object(1)\n",
      "memory usage: 134.3+ KB\n"
     ]
    }
   ],
   "source": [
    "#Slice by the year 2014\n",
    "social_2014 = social[social.year == 7]\n",
    "\n",
    "#Drop year\n",
    "social_2014bis = social_2014.drop('year',axis = 1)\n",
    "\n",
    "#Get information of the new dataframe\n",
    "social_2014bis.info()"
   ]
  },
  {
   "cell_type": "code",
   "execution_count": 237,
   "metadata": {},
   "outputs": [
    {
     "name": "stdout",
     "output_type": "stream",
     "text": [
      "<class 'pandas.core.frame.DataFrame'>\n",
      "RangeIndex: 4249 entries, 0 to 4248\n",
      "Data columns (total 3 columns):\n",
      "cntry     4249 non-null object\n",
      "agea      4137 non-null float64\n",
      "sclact    4249 non-null float64\n",
      "dtypes: float64(2), object(1)\n",
      "memory usage: 99.7+ KB\n"
     ]
    }
   ],
   "source": [
    "#Clean the values in the dataframe that are null (country)\n",
    "social_2014bis_cntr_cl = social_2014bis[meet_2014bis.cntry.notnull()]\n",
    "\n",
    "#Clean the values in the dataframe that are null (social activities)\n",
    "social_cle = social_2014bis_cntr_cl[social_2014bis_cntr_cl.sclact.notnull()]\n",
    "\n",
    "#Reset index\n",
    "social_clea = social_cle.reset_index()\n",
    "\n",
    "#Drop old index\n",
    "social_clean = social_clea.drop('index',axis = 1)\n",
    "\n",
    "#Check Values\n",
    "social_clean.info()"
   ]
  },
  {
   "cell_type": "code",
   "execution_count": 264,
   "metadata": {},
   "outputs": [
    {
     "data": {
      "text/plain": [
       "ES    1185\n",
       "SE     904\n",
       "CH     765\n",
       "Name: cntry, dtype: int64"
      ]
     },
     "execution_count": 264,
     "metadata": {},
     "output_type": "execute_result"
    }
   ],
   "source": [
    "#SLice the dataframe for three countries\n",
    "social_complete = social_clean.loc[social_clean['cntry'].isin(['ES','SE','CH'])]\n",
    "\n",
    "#Count values per country\n",
    "social_complete.cntry.value_counts()"
   ]
  },
  {
   "cell_type": "code",
   "execution_count": 265,
   "metadata": {},
   "outputs": [
    {
     "data": {
      "text/plain": [
       "cntry\n",
       "CH    [[AxesSubplot(0.125,0.125;0.336957x0.755), Axe...\n",
       "ES    [[AxesSubplot(0.125,0.125;0.336957x0.755), Axe...\n",
       "SE    [[AxesSubplot(0.125,0.125;0.336957x0.755), Axe...\n",
       "dtype: object"
      ]
     },
     "execution_count": 265,
     "metadata": {},
     "output_type": "execute_result"
    },
    {
     "data": {
      "image/png": "[encoded data removed]",
      "text/plain": [
       "<matplotlib.figure.Figure at 0x22f46f38898>"
      ]
     },
     "metadata": {},
     "output_type": "display_data"
    },
    {
     "data": {
      "image/png": "[encoded data removed]",
      "text/plain": [
       "<matplotlib.figure.Figure at 0x22f46f86780>"
      ]
     },
     "metadata": {},
     "output_type": "display_data"
    },
    {
     "data": {
      "image/png": "[encoded data removed]",
      "text/plain": [
       "<matplotlib.figure.Figure at 0x22f46fe9a20>"
      ]
     },
     "metadata": {},
     "output_type": "display_data"
    }
   ],
   "source": [
    "#Plot happy variables for visual inspection per country and year\n",
    "social_complete.groupby('cntry').hist(sharey=False,sharex=False)"
   ]
  },
  {
   "cell_type": "code",
   "execution_count": 266,
   "metadata": {},
   "outputs": [],
   "source": [
    "#Create lists gourping by age interval and country Spain: <20, between 20 and 40, between 40 and 60, more than 60\n",
    "ES_1 = list(social_complete[(social_complete.cntry == 'ES') & (social_complete.agea <= 20)]['sclact'])\n",
    "ES_2 = list(social_complete[(social_complete.cntry == 'ES') & (social_complete.agea > 20)& (social_complete.agea <= 40)]['sclact'])\n",
    "ES_3 = list(social_complete[(social_complete.cntry == 'ES') & (social_complete.agea > 40)& (social_complete.agea <= 60)]['sclact'])\n",
    "ES_4 = list(social_complete[(social_complete.cntry == 'ES') & (social_complete.agea > 60) ]['sclact'])\n",
    "\n",
    "#Create lists gourping by age interval and country Sweden: <20, between 20 and 40, between 40 and 60, more than 60\n",
    "SE_1 = list(social_complete[(social_complete.cntry == 'SE') & (social_complete.agea <= 20)]['sclact'])\n",
    "SE_2 = list(social_complete[(social_complete.cntry == 'SE') & (social_complete.agea > 20)& (social_complete.agea <= 40)]['sclact'])\n",
    "SE_3 = list(social_complete[(social_complete.cntry == 'SE') & (social_complete.agea > 40)& (social_complete.agea <= 60)]['sclact'])\n",
    "SE_4 = list(social_complete[(social_complete.cntry == 'SE') & (social_complete.agea > 60) ]['sclact'])\n",
    "\n",
    "#Create lists gourping by age interval and country Switzerland: <20, between 20 and 40, between 40 and 60, more than 60\n",
    "CH_1 = list(social_complete[(social_complete.cntry == 'CH') & (social_complete.agea <= 20)]['sclact'])\n",
    "CH_2 = list(social_complete[(social_complete.cntry == 'CH') & (social_complete.agea > 20)& (social_complete.agea <= 40)]['sclact'])\n",
    "CH_3 = list(social_complete[(social_complete.cntry == 'CH') & (social_complete.agea > 40)& (social_complete.agea <= 60)]['sclact'])\n",
    "CH_4 = list(social_complete[(social_complete.cntry == 'CH') & (social_complete.agea > 60) ]['sclact'])"
   ]
  },
  {
   "cell_type": "code",
   "execution_count": 267,
   "metadata": {},
   "outputs": [
    {
     "data": {
      "text/html": [
       "<table class=\"simpletable\">\n",
       "<caption>Multiple Comparison of Means - Tukey HSD,FWER=0.05</caption>\n",
       "<tr>\n",
       "  <th>group1</th> <th>group2</th> <th>meandiff</th>  <th>lower</th>   <th>upper</th>  <th>reject</th>\n",
       "</tr>\n",
       "<tr>\n",
       "   <td>CH_1</td>   <td>CH_2</td>   <td>-0.1472</td> <td>-0.4237</td> <td>0.1294</td>   <td>False</td>\n",
       "</tr>\n",
       "<tr>\n",
       "   <td>CH_1</td>   <td>CH_3</td>   <td>-0.1385</td> <td>-0.4151</td>  <td>0.138</td>   <td>False</td>\n",
       "</tr>\n",
       "<tr>\n",
       "   <td>CH_1</td>   <td>CH_4</td>   <td>-0.1732</td> <td>-0.4497</td> <td>0.1034</td>   <td>False</td>\n",
       "</tr>\n",
       "<tr>\n",
       "   <td>CH_1</td>   <td>ES_1</td>   <td>-0.2554</td> <td>-0.532</td>  <td>0.0211</td>   <td>False</td>\n",
       "</tr>\n",
       "<tr>\n",
       "   <td>CH_1</td>   <td>ES_2</td>   <td>-0.2511</td> <td>-0.5276</td> <td>0.0255</td>   <td>False</td>\n",
       "</tr>\n",
       "<tr>\n",
       "   <td>CH_1</td>   <td>ES_3</td>   <td>-0.2771</td> <td>-0.5536</td> <td>-0.0005</td>  <td>True</td> \n",
       "</tr>\n",
       "<tr>\n",
       "   <td>CH_1</td>   <td>ES_4</td>   <td>-0.2078</td> <td>-0.4844</td> <td>0.0688</td>   <td>False</td>\n",
       "</tr>\n",
       "<tr>\n",
       "   <td>CH_1</td>   <td>SE_1</td>   <td>-0.5844</td> <td>-0.861</td>  <td>-0.3079</td>  <td>True</td> \n",
       "</tr>\n",
       "<tr>\n",
       "   <td>CH_1</td>   <td>SE_2</td>   <td>-0.0043</td> <td>-0.2809</td> <td>0.2722</td>   <td>False</td>\n",
       "</tr>\n",
       "<tr>\n",
       "   <td>CH_1</td>   <td>SE_3</td>   <td>-0.1558</td> <td>-0.4324</td> <td>0.1207</td>   <td>False</td>\n",
       "</tr>\n",
       "<tr>\n",
       "   <td>CH_1</td>   <td>SE_4</td>   <td>-0.0866</td> <td>-0.3631</td>  <td>0.19</td>    <td>False</td>\n",
       "</tr>\n",
       "<tr>\n",
       "   <td>CH_2</td>   <td>CH_3</td>   <td>0.0087</td>  <td>-0.2679</td> <td>0.2852</td>   <td>False</td>\n",
       "</tr>\n",
       "<tr>\n",
       "   <td>CH_2</td>   <td>CH_4</td>   <td>-0.026</td>  <td>-0.3025</td> <td>0.2506</td>   <td>False</td>\n",
       "</tr>\n",
       "<tr>\n",
       "   <td>CH_2</td>   <td>ES_1</td>   <td>-0.1082</td> <td>-0.3848</td> <td>0.1683</td>   <td>False</td>\n",
       "</tr>\n",
       "<tr>\n",
       "   <td>CH_2</td>   <td>ES_2</td>   <td>-0.1039</td> <td>-0.3805</td> <td>0.1727</td>   <td>False</td>\n",
       "</tr>\n",
       "<tr>\n",
       "   <td>CH_2</td>   <td>ES_3</td>   <td>-0.1299</td> <td>-0.4064</td> <td>0.1467</td>   <td>False</td>\n",
       "</tr>\n",
       "<tr>\n",
       "   <td>CH_2</td>   <td>ES_4</td>   <td>-0.0606</td> <td>-0.3372</td>  <td>0.216</td>   <td>False</td>\n",
       "</tr>\n",
       "<tr>\n",
       "   <td>CH_2</td>   <td>SE_1</td>   <td>-0.4372</td> <td>-0.7138</td> <td>-0.1607</td>  <td>True</td> \n",
       "</tr>\n",
       "<tr>\n",
       "   <td>CH_2</td>   <td>SE_2</td>   <td>0.1429</td>  <td>-0.1337</td> <td>0.4194</td>   <td>False</td>\n",
       "</tr>\n",
       "<tr>\n",
       "   <td>CH_2</td>   <td>SE_3</td>   <td>-0.0087</td> <td>-0.2852</td> <td>0.2679</td>   <td>False</td>\n",
       "</tr>\n",
       "<tr>\n",
       "   <td>CH_2</td>   <td>SE_4</td>   <td>0.0606</td>  <td>-0.216</td>  <td>0.3372</td>   <td>False</td>\n",
       "</tr>\n",
       "<tr>\n",
       "   <td>CH_3</td>   <td>CH_4</td>   <td>-0.0346</td> <td>-0.3112</td> <td>0.2419</td>   <td>False</td>\n",
       "</tr>\n",
       "<tr>\n",
       "   <td>CH_3</td>   <td>ES_1</td>   <td>-0.1169</td> <td>-0.3934</td> <td>0.1597</td>   <td>False</td>\n",
       "</tr>\n",
       "<tr>\n",
       "   <td>CH_3</td>   <td>ES_2</td>   <td>-0.1126</td> <td>-0.3891</td>  <td>0.164</td>   <td>False</td>\n",
       "</tr>\n",
       "<tr>\n",
       "   <td>CH_3</td>   <td>ES_3</td>   <td>-0.1385</td> <td>-0.4151</td>  <td>0.138</td>   <td>False</td>\n",
       "</tr>\n",
       "<tr>\n",
       "   <td>CH_3</td>   <td>ES_4</td>   <td>-0.0693</td> <td>-0.3458</td> <td>0.2073</td>   <td>False</td>\n",
       "</tr>\n",
       "<tr>\n",
       "   <td>CH_3</td>   <td>SE_1</td>   <td>-0.4459</td> <td>-0.7224</td> <td>-0.1693</td>  <td>True</td> \n",
       "</tr>\n",
       "<tr>\n",
       "   <td>CH_3</td>   <td>SE_2</td>   <td>0.1342</td>  <td>-0.1424</td> <td>0.4108</td>   <td>False</td>\n",
       "</tr>\n",
       "<tr>\n",
       "   <td>CH_3</td>   <td>SE_3</td>   <td>-0.0173</td> <td>-0.2939</td> <td>0.2592</td>   <td>False</td>\n",
       "</tr>\n",
       "<tr>\n",
       "   <td>CH_3</td>   <td>SE_4</td>   <td>0.0519</td>  <td>-0.2246</td> <td>0.3285</td>   <td>False</td>\n",
       "</tr>\n",
       "<tr>\n",
       "   <td>CH_4</td>   <td>ES_1</td>   <td>-0.0823</td> <td>-0.3588</td> <td>0.1943</td>   <td>False</td>\n",
       "</tr>\n",
       "<tr>\n",
       "   <td>CH_4</td>   <td>ES_2</td>   <td>-0.0779</td> <td>-0.3545</td> <td>0.1986</td>   <td>False</td>\n",
       "</tr>\n",
       "<tr>\n",
       "   <td>CH_4</td>   <td>ES_3</td>   <td>-0.1039</td> <td>-0.3805</td> <td>0.1727</td>   <td>False</td>\n",
       "</tr>\n",
       "<tr>\n",
       "   <td>CH_4</td>   <td>ES_4</td>   <td>-0.0346</td> <td>-0.3112</td> <td>0.2419</td>   <td>False</td>\n",
       "</tr>\n",
       "<tr>\n",
       "   <td>CH_4</td>   <td>SE_1</td>   <td>-0.4113</td> <td>-0.6878</td> <td>-0.1347</td>  <td>True</td> \n",
       "</tr>\n",
       "<tr>\n",
       "   <td>CH_4</td>   <td>SE_2</td>   <td>0.1688</td>  <td>-0.1077</td> <td>0.4454</td>   <td>False</td>\n",
       "</tr>\n",
       "<tr>\n",
       "   <td>CH_4</td>   <td>SE_3</td>   <td>0.0173</td>  <td>-0.2592</td> <td>0.2939</td>   <td>False</td>\n",
       "</tr>\n",
       "<tr>\n",
       "   <td>CH_4</td>   <td>SE_4</td>   <td>0.0866</td>   <td>-0.19</td>  <td>0.3631</td>   <td>False</td>\n",
       "</tr>\n",
       "<tr>\n",
       "   <td>ES_1</td>   <td>ES_2</td>   <td>0.0043</td>  <td>-0.2722</td> <td>0.2809</td>   <td>False</td>\n",
       "</tr>\n",
       "<tr>\n",
       "   <td>ES_1</td>   <td>ES_3</td>   <td>-0.0216</td> <td>-0.2982</td> <td>0.2549</td>   <td>False</td>\n",
       "</tr>\n",
       "<tr>\n",
       "   <td>ES_1</td>   <td>ES_4</td>   <td>0.0476</td>  <td>-0.2289</td> <td>0.3242</td>   <td>False</td>\n",
       "</tr>\n",
       "<tr>\n",
       "   <td>ES_1</td>   <td>SE_1</td>   <td>-0.329</td>  <td>-0.6056</td> <td>-0.0524</td>  <td>True</td> \n",
       "</tr>\n",
       "<tr>\n",
       "   <td>ES_1</td>   <td>SE_2</td>   <td>0.2511</td>  <td>-0.0255</td> <td>0.5276</td>   <td>False</td>\n",
       "</tr>\n",
       "<tr>\n",
       "   <td>ES_1</td>   <td>SE_3</td>   <td>0.0996</td>  <td>-0.177</td>  <td>0.3761</td>   <td>False</td>\n",
       "</tr>\n",
       "<tr>\n",
       "   <td>ES_1</td>   <td>SE_4</td>   <td>0.1688</td>  <td>-0.1077</td> <td>0.4454</td>   <td>False</td>\n",
       "</tr>\n",
       "<tr>\n",
       "   <td>ES_2</td>   <td>ES_3</td>   <td>-0.026</td>  <td>-0.3025</td> <td>0.2506</td>   <td>False</td>\n",
       "</tr>\n",
       "<tr>\n",
       "   <td>ES_2</td>   <td>ES_4</td>   <td>0.0433</td>  <td>-0.2333</td> <td>0.3199</td>   <td>False</td>\n",
       "</tr>\n",
       "<tr>\n",
       "   <td>ES_2</td>   <td>SE_1</td>   <td>-0.3333</td> <td>-0.6099</td> <td>-0.0568</td>  <td>True</td> \n",
       "</tr>\n",
       "<tr>\n",
       "   <td>ES_2</td>   <td>SE_2</td>   <td>0.2468</td>  <td>-0.0298</td> <td>0.5233</td>   <td>False</td>\n",
       "</tr>\n",
       "<tr>\n",
       "   <td>ES_2</td>   <td>SE_3</td>   <td>0.0952</td>  <td>-0.1813</td> <td>0.3718</td>   <td>False</td>\n",
       "</tr>\n",
       "<tr>\n",
       "   <td>ES_2</td>   <td>SE_4</td>   <td>0.1645</td>  <td>-0.1121</td> <td>0.4411</td>   <td>False</td>\n",
       "</tr>\n",
       "<tr>\n",
       "   <td>ES_3</td>   <td>ES_4</td>   <td>0.0693</td>  <td>-0.2073</td> <td>0.3458</td>   <td>False</td>\n",
       "</tr>\n",
       "<tr>\n",
       "   <td>ES_3</td>   <td>SE_1</td>   <td>-0.3074</td> <td>-0.5839</td> <td>-0.0308</td>  <td>True</td> \n",
       "</tr>\n",
       "<tr>\n",
       "   <td>ES_3</td>   <td>SE_2</td>   <td>0.2727</td>  <td>-0.0038</td> <td>0.5493</td>   <td>False</td>\n",
       "</tr>\n",
       "<tr>\n",
       "   <td>ES_3</td>   <td>SE_3</td>   <td>0.1212</td>  <td>-0.1553</td> <td>0.3978</td>   <td>False</td>\n",
       "</tr>\n",
       "<tr>\n",
       "   <td>ES_3</td>   <td>SE_4</td>   <td>0.1905</td>  <td>-0.0861</td>  <td>0.467</td>   <td>False</td>\n",
       "</tr>\n",
       "<tr>\n",
       "   <td>ES_4</td>   <td>SE_1</td>   <td>-0.3766</td> <td>-0.6532</td> <td>-0.1001</td>  <td>True</td> \n",
       "</tr>\n",
       "<tr>\n",
       "   <td>ES_4</td>   <td>SE_2</td>   <td>0.2035</td>  <td>-0.0731</td>  <td>0.48</td>    <td>False</td>\n",
       "</tr>\n",
       "<tr>\n",
       "   <td>ES_4</td>   <td>SE_3</td>   <td>0.0519</td>  <td>-0.2246</td> <td>0.3285</td>   <td>False</td>\n",
       "</tr>\n",
       "<tr>\n",
       "   <td>ES_4</td>   <td>SE_4</td>   <td>0.1212</td>  <td>-0.1553</td> <td>0.3978</td>   <td>False</td>\n",
       "</tr>\n",
       "<tr>\n",
       "   <td>SE_1</td>   <td>SE_2</td>   <td>0.5801</td>  <td>0.3035</td>  <td>0.8566</td>   <td>True</td> \n",
       "</tr>\n",
       "<tr>\n",
       "   <td>SE_1</td>   <td>SE_3</td>   <td>0.4286</td>   <td>0.152</td>  <td>0.7051</td>   <td>True</td> \n",
       "</tr>\n",
       "<tr>\n",
       "   <td>SE_1</td>   <td>SE_4</td>   <td>0.4978</td>  <td>0.2213</td>  <td>0.7744</td>   <td>True</td> \n",
       "</tr>\n",
       "<tr>\n",
       "   <td>SE_2</td>   <td>SE_3</td>   <td>-0.1515</td> <td>-0.4281</td>  <td>0.125</td>   <td>False</td>\n",
       "</tr>\n",
       "<tr>\n",
       "   <td>SE_2</td>   <td>SE_4</td>   <td>-0.0823</td> <td>-0.3588</td> <td>0.1943</td>   <td>False</td>\n",
       "</tr>\n",
       "<tr>\n",
       "   <td>SE_3</td>   <td>SE_4</td>   <td>0.0693</td>  <td>-0.2073</td> <td>0.3458</td>   <td>False</td>\n",
       "</tr>\n",
       "</table>"
      ],
      "text/plain": [
       "<class 'statsmodels.iolib.table.SimpleTable'>"
      ]
     },
     "execution_count": 267,
     "metadata": {},
     "output_type": "execute_result"
    }
   ],
   "source": [
    "#Tukey hsd\n",
    "#Build the arrays for comparison\n",
    "social= np.asarray(ES_1 + ES_2 + ES_3 + ES_4 +\n",
    "                   SE_1 + SE_2 + SE_3 + SE_4 +\n",
    "                   CH_1 + CH_2 + CH_3 + CH_4)\n",
    "\n",
    "group_social = np.array(['ES_1', 'ES_2', 'ES_3', 'ES_4',\n",
    "                   'SE_1', 'SE_2', 'SE_3', 'SE_4',\n",
    "                   'CH_1', 'CH_2', 'CH_3', 'CH_4'])\n",
    "\n",
    "group_social = np.repeat(group_social, len(social)/12)\n",
    "\n",
    "#Run the pairwise t-test using tukey hsd\n",
    "tukey = pairwise_tukeyhsd(endog=social,    # Data\n",
    "                          groups=group_social,   # Groups\n",
    "                          alpha=0.05)     # Significance level\n",
    "\n",
    "#Summarize the data\n",
    "tukey.summary()"
   ]
  },
  {
   "cell_type": "markdown",
   "metadata": {},
   "source": [
    "The population has been grouped in four age intervals:\n",
    "\n",
    "1. lower than 20,\n",
    "2. Between 20 and 40,\n",
    "3. Between 40 and 60,\n",
    "4. More than 60\n",
    "\n",
    "In this case we have run all the comparisons between age intervales and countries. In the Tukey HSD test the null hypothesis is that all means being compared are from the same population.\n",
    "\n",
    "Only in the cases of ***Sweden*** the rejection of the null hypothesis is true being the means between different age intervals significantly different and therefore having populations that have different participation in social activities in 2014. In this case, the participation between SE_1 and SE_2, SE_3 and SE_4 are different. In all cases is SE_1 (population under 20) the one that has a higher participation in social activities.\n",
    "\n",
    "The rest of the differences appear between countries and different ages (as the case of ***Sweden*** and ***Spain***) or between population in the same interval as in the case of ***Switzerland*** and ***Sweden*** (population under 20) being the participation of CH_1 lower."
   ]
  }
 ],
 "metadata": {
  "kernelspec": {
   "display_name": "Python 3",
   "language": "python",
   "name": "python3"
  },
  "language_info": {
   "codemirror_mode": {
    "name": "ipython",
    "version": 3
   },
   "file_extension": ".py",
   "mimetype": "text/x-python",
   "name": "python",
   "nbconvert_exporter": "python",
   "pygments_lexer": "ipython3",
   "version": "3.5.4"
  }
 },
 "nbformat": 4,
 "nbformat_minor": 2
}
