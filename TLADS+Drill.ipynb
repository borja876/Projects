{
 "cells": [
  {
   "cell_type": "markdown",
   "metadata": {},
   "source": [
    "**cntry** Categorical\n",
    "\n",
    "**idno** Categorical\n",
    "\n",
    "**year** Interval\n",
    "\n",
    "**tvtot** Continuous - ratio\n",
    "\n",
    "**ppltrst** continuous - ratio\n",
    "\n",
    "**pplfair** Continuous - ratio\n",
    "\n",
    "**pplhlp** Continuous -ratio\n",
    "\n",
    "**happy** Continuous - ratio\n",
    "\n",
    "**sclmeet** Continuous - interval\n",
    "\n",
    "**sclact** Continuous - interval\n",
    "\n",
    "**gndr** Categorical\n",
    "\n",
    "**agea** Continuous - Ratio\n",
    "\n",
    "**partner** Categorical"
   ]
  }
 ],
 "metadata": {
  "kernelspec": {
   "display_name": "Python 3",
   "language": "python",
   "name": "python3"
  },
  "language_info": {
   "codemirror_mode": {
    "name": "ipython",
    "version": 3
   },
   "file_extension": ".py",
   "mimetype": "text/x-python",
   "name": "python",
   "nbconvert_exporter": "python",
   "pygments_lexer": "ipython3",
   "version": "3.6.1"
  }
 },
 "nbformat": 4,
 "nbformat_minor": 2
}
