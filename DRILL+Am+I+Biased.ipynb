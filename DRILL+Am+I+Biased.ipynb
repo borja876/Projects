{
 "cells": [
  {
   "cell_type": "markdown",
   "metadata": {},
   "source": [
    "#### 1. You're testing advertising emails for a bathing suit company and you test one version of the email in February and the other in May.\n",
    "**Bias:** This experiment has contextual bias as the sales of bathing suits in February will be naturally lower than in May or the opposite depending on the hemisphere in which is taking place. If the test is done in a sample population from both hemispheres then depending on where the clients live, the results will be distorted by the month its done (summer vs. winter)\n",
    "**Initial Design:** The first email version is sent in February containing the same information that the one in May but displayed in a different way. From a \"bathing suits collection\" standpoint, emails in Feb and May can show different information regarding where to buy them and prices."
   ]
  },
  {
   "cell_type": "markdown",
   "metadata": {},
   "source": [
    "#### 2. You open a clinic to treat anxiety and find that the people who visit show a higher rate of anxiety than the general population.\n",
    "**Bias:** When opening a clinic of anxiety, there can be observer bias as the observer can react positively to questions regarding anxiety or that indicate that the potential patients have anxiety. There is also bias in the clinic as people ar entering an enxiety clininc and can be biased (contextual bias). It can also be influenced by the neighbourhood in which it is opened and the days of the week in which it operates\n",
    "**Initial Design:** The clinic is opened in a high-end neighbourhood with normal working hours during the week and closed during the weekend. People are invited to enter to see if they are suffering from anxiety. The clinic could be opened during high workking seasons (end of year, before summer, etc..)."
   ]
  },
  {
   "cell_type": "markdown",
   "metadata": {},
   "source": [
    "#### 3. You launch a new ad billboard based campaign and see an increase in website visits in the first week.\n",
    "**Bias:** The correct outcome would be not the website visits but the conversion rate. During the first week, people will want to know more about the campaign and company as it is something new. Also depending on the information displayed on the placard, they can be directed to the website to learn more which doesn´t mean that they will buy more.\n",
    "**Design:** The campaign is design in a way that the website is part of the advertisement in the billboard. It is sugested to go inot the website to learn more about the company and the campaign."
   ]
  },
  {
   "cell_type": "markdown",
   "metadata": {},
   "source": [
    "#### 4. You launch a loyalty program but see no change in visits in the first week.\n",
    "**Bias:** From a time span perspective, maybe one week is to short as customers didnt have time to use it. It needs to be increased so that customers have time to shop and then use it. However, the customers that didn´t visit the webpage in the past could not be incentivized to enter now with the loyalty program. Furthermore, there can be an issue with the offering so customers are not interested on the even with the loyalty program. Customers can be on vacations during that week or the product is not suit for that season. \n",
    "**Initial Design:** The loyalty program has been launched offering a discount or an additional perks when buying online. The loyalty program campaign is launched during summer when regular cutomers are not buying the products because they are not related to their needs."
   ]
  }
 ],
 "metadata": {
  "kernelspec": {
   "display_name": "Python 3",
   "language": "python",
   "name": "python3"
  },
  "language_info": {
   "codemirror_mode": {
    "name": "ipython",
    "version": 3
   },
   "file_extension": ".py",
   "mimetype": "text/x-python",
   "name": "python",
   "nbconvert_exporter": "python",
   "pygments_lexer": "ipython3",
   "version": "3.6.1"
  }
 },
 "nbformat": 4,
 "nbformat_minor": 2
}
