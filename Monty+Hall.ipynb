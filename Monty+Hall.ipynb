{
 "cells": [
  {
   "cell_type": "markdown",
   "metadata": {},
   "source": [
    "Doors: A,B & C\n",
    "A = the prize is behind the chosen door A\n",
    "not A = the prize is behind one of the not chosen doors\n",
    "\n",
    "Initially:\n",
    "P(A)=P(B)=P(C)=1/3\n",
    "\n",
    "Pick up A;\n",
    "P(A)=1/3\n",
    "P(notA)=P(B)+P(C)=1/3+1/3\n",
    "\n",
    "Host opens door B (dud)\n",
    "\n",
    "P(B)=0, hence P(notA)=2/3=P(B)+P(C)= 0 + 2/3\n",
    "\n",
    "P(C) increases from 1/3 to 2/3 therefore is better to switch doors after the host has opened the first one.\n",
    "\n",
    "\n",
    "Bayes' Rule notes:\n",
    "\n",
    "P(prize behind door A or C|Door B opened by the host)\n",
    "\n",
    "P(prize behind door A or C|Door B opened by the host)= P(door B opened by the host|prize behind door A or C)*P(prize behind door A or C)/P(door B opened by the host) = 1*(1/3)/1/2\n"
   ]
  },
  {
   "cell_type": "code",
   "execution_count": null,
   "metadata": {
    "collapsed": true
   },
   "outputs": [],
   "source": []
  }
 ],
 "metadata": {
  "kernelspec": {
   "display_name": "Python 3",
   "language": "python",
   "name": "python3"
  },
  "language_info": {
   "codemirror_mode": {
    "name": "ipython",
    "version": 3
   },
   "file_extension": ".py",
   "mimetype": "text/x-python",
   "name": "python",
   "nbconvert_exporter": "python",
   "pygments_lexer": "ipython3",
   "version": "3.6.1"
  }
 },
 "nbformat": 4,
 "nbformat_minor": 2
}
