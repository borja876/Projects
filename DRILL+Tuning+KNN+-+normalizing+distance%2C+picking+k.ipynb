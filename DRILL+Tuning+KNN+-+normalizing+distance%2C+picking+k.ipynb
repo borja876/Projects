{
 "cells": [
  {
   "cell_type": "markdown",
   "metadata": {},
   "source": [
    "**Let's say we work at a credit card company and we're trying to figure out if people are going to pay their bills on time.**\n",
    "\n",
    "**We have everyone's purchases, split into four main categories: \n",
    "i) groceries, \n",
    "ii) dining out, \n",
    "iii) utilities, \n",
    "and entertainment.**\n",
    "\n",
    "**What are some ways you might use KNN to create this model? What aspects of KNN would be useful? Write up your thoughts in submit a link below.**"
   ]
  },
  {
   "cell_type": "markdown",
   "metadata": {},
   "source": [
    "Way 1:\n",
    "\n",
    "I would normalize the distances to each of the ctegories we are considering so that they are comparable\n",
    "\n",
    "Way 2:\n",
    "\n",
    "Through z-cores understanding how far the observations are from the mean of each category\n",
    "\n",
    "Way 3: \n",
    "\n",
    "I would use weights once the distances are normalised to give different weights depending of the distance to each of the categories\n",
    "\n",
    "Way 4:\n",
    "\n",
    "I´d try different values of K, increasing the value so that more observations come into place"
   ]
  }
 ],
 "metadata": {
  "kernelspec": {
   "display_name": "Python 3",
   "language": "python",
   "name": "python3"
  },
  "language_info": {
   "codemirror_mode": {
    "name": "ipython",
    "version": 3
   },
   "file_extension": ".py",
   "mimetype": "text/x-python",
   "name": "python",
   "nbconvert_exporter": "python",
   "pygments_lexer": "ipython3",
   "version": "3.6.1"
  }
 },
 "nbformat": 4,
 "nbformat_minor": 2
}
