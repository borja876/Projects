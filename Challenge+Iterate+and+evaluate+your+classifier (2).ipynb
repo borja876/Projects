{
 "cells": [
  {
   "cell_type": "code",
   "execution_count": 839,
   "metadata": {
    "collapsed": true
   },
   "outputs": [],
   "source": [
    "%matplotlib inline\n",
    "import numpy as np\n",
    "import pandas as pd\n",
    "import scipy\n",
    "import sklearn\n",
    "import matplotlib.pyplot as plt\n",
    "import seaborn as sns\n",
    "import math\n",
    "from matplotlib.mlab import PCA as mlabPCA\n",
    "from sklearn.preprocessing import StandardScaler\n",
    "from sklearn.decomposition import PCA \n",
    "from sklearn import preprocessing\n",
    "from sklearn.feature_selection import SelectKBest\n",
    "import seaborn as sns\n",
    "import scipy.stats as stats\n",
    "from sklearn.naive_bayes import GaussianNB\n",
    "from sklearn.naive_bayes import MultinomialNB\n",
    "from sklearn.naive_bayes import BernoulliNB\n",
    "from sklearn.metrics import confusion_matrix\n",
    "from sklearn.model_selection import cross_val_score, KFold\n",
    "import matplotlib.pyplot as plt\n",
    "from sklearn.model_selection import StratifiedKFold\n",
    "from sklearn.feature_selection import RFECV\n",
    "from sklearn.datasets import make_classification\n",
    "from sklearn.feature_selection import RFE\n",
    "from sklearn.model_selection import cross_val_predict\n",
    "from sklearn import metrics\n",
    "from sklearn.decomposition import PCA as sklearn_pca"
   ]
  },
  {
   "cell_type": "code",
   "execution_count": 840,
   "metadata": {},
   "outputs": [
    {
     "data": {
      "text/html": [
       "<div>\n",
       "<style>\n",
       "    .dataframe thead tr:only-child th {\n",
       "        text-align: right;\n",
       "    }\n",
       "\n",
       "    .dataframe thead th {\n",
       "        text-align: left;\n",
       "    }\n",
       "\n",
       "    .dataframe tbody tr th {\n",
       "        vertical-align: top;\n",
       "    }\n",
       "</style>\n",
       "<table border=\"1\" class=\"dataframe\">\n",
       "  <thead>\n",
       "    <tr style=\"text-align: right;\">\n",
       "      <th></th>\n",
       "      <th>Sentence</th>\n",
       "      <th>Sentiment</th>\n",
       "    </tr>\n",
       "  </thead>\n",
       "  <tbody>\n",
       "    <tr>\n",
       "      <th>1</th>\n",
       "      <td>Good case, Excellent value.</td>\n",
       "      <td>1</td>\n",
       "    </tr>\n",
       "    <tr>\n",
       "      <th>2</th>\n",
       "      <td>Great for the jawbone.</td>\n",
       "      <td>1</td>\n",
       "    </tr>\n",
       "    <tr>\n",
       "      <th>4</th>\n",
       "      <td>The mic is great.</td>\n",
       "      <td>1</td>\n",
       "    </tr>\n",
       "    <tr>\n",
       "      <th>7</th>\n",
       "      <td>If you are Razr owner...you must have this!</td>\n",
       "      <td>1</td>\n",
       "    </tr>\n",
       "    <tr>\n",
       "      <th>10</th>\n",
       "      <td>And the sound quality is great.</td>\n",
       "      <td>1</td>\n",
       "    </tr>\n",
       "  </tbody>\n",
       "</table>\n",
       "</div>"
      ],
      "text/plain": [
       "                                       Sentence  Sentiment\n",
       "1                   Good case, Excellent value.          1\n",
       "2                        Great for the jawbone.          1\n",
       "4                             The mic is great.          1\n",
       "7   If you are Razr owner...you must have this!          1\n",
       "10              And the sound quality is great.          1"
      ]
     },
     "execution_count": 840,
     "metadata": {},
     "output_type": "execute_result"
    }
   ],
   "source": [
    "# Amazon Raw Data\n",
    "data_path = (\"https://raw.githubusercontent.com/borja876/Thinkful-DataScience-Borja/master/amazon_cells_labelled.txt\"\n",
    "            )\n",
    "amazon = pd.read_csv(data_path, delimiter= '\\t', header=None)\n",
    "amazon.columns = ['Sentence', 'Sentiment']\n",
    "#sms_raw.head(30)  \n",
    "amazon.loc[amazon['Sentiment'] == 1].head()"
   ]
  },
  {
   "cell_type": "code",
   "execution_count": 841,
   "metadata": {
    "collapsed": true
   },
   "outputs": [],
   "source": [
    "# Split the dataset in train and test 80% and have freedom to play with the ratio\n",
    "msk = np.random.rand(len(amazon)) < 0.8\n",
    "train, test = amazon[msk].copy(deep = True), amazon[~msk].copy(deep = True)"
   ]
  },
  {
   "cell_type": "code",
   "execution_count": 842,
   "metadata": {},
   "outputs": [
    {
     "data": {
      "text/plain": [
       "1    500\n",
       "0    500\n",
       "Name: Sentiment, dtype: int64"
      ]
     },
     "execution_count": 842,
     "metadata": {},
     "output_type": "execute_result"
    }
   ],
   "source": [
    "# Rows in the dataset and label\n",
    "amazon['Sentiment'].value_counts()"
   ]
  },
  {
   "cell_type": "markdown",
   "metadata": {},
   "source": [
    "#### Feature Selection & Engineering"
   ]
  },
  {
   "cell_type": "code",
   "execution_count": 843,
   "metadata": {},
   "outputs": [
    {
     "data": {
      "text/plain": [
       "<matplotlib.axes._subplots.AxesSubplot at 0x16f6cb30>"
      ]
     },
     "execution_count": 843,
     "metadata": {},
     "output_type": "execute_result"
    },
    {
     "data": {
      "image/png": "[encoded data removed]",
      "text/plain": [
       "<matplotlib.figure.Figure at 0x1700a550>"
      ]
     },
     "metadata": {},
     "output_type": "display_data"
    }
   ],
   "source": [
    "#Final iteration tried across different cuts. Accuracy >55%\n",
    "keywords = [ 'nice', 'pleased', 'better',           \n",
    "        'like', 'easy', 'excellent',\n",
    "        'love','impressed',\n",
    "        'satisfied','pretty',\n",
    "        'best','works great']\n",
    "\n",
    "for key in keywords:\n",
    "    # Note that we add spaces around the key so that we're getting the word,\n",
    "    # not just pattern matching.\n",
    "    amazon[str(key)] = amazon.Sentence.str.contains(\n",
    "        ' '+str(key)+' ',\n",
    "        case=False\n",
    "    )\n",
    "\n",
    "#Use the whole dataset\n",
    "amazon['allcaps'] = amazon.Sentence.str.isupper()\n",
    "amazon['Sentiment'] = (amazon['Sentiment'] == 1)\n",
    "plt.figure(figsize=(20, 7))\n",
    "sns.heatmap(amazon.corr())"
   ]
  },
  {
   "cell_type": "code",
   "execution_count": 844,
   "metadata": {
    "collapsed": true
   },
   "outputs": [],
   "source": [
    "# Define data & target for the model\n",
    "data = amazon[keywords + ['allcaps']]\n",
    "target = amazon['Sentiment']"
   ]
  },
  {
   "cell_type": "code",
   "execution_count": 845,
   "metadata": {},
   "outputs": [],
   "source": [
    "# Initantiate our model and store it in a new variable.\n",
    "bnb = BernoulliNB()\n",
    "\n",
    "# Fit our model to the data.\n",
    "bnb.fit(data, target)\n",
    "\n",
    "# Classify, storing the result in a new variable.\n",
    "y_pred = bnb.predict(data)"
   ]
  },
  {
   "cell_type": "code",
   "execution_count": 846,
   "metadata": {},
   "outputs": [
    {
     "name": "stdout",
     "output_type": "stream",
     "text": [
      "Number of mislabeled points (w/o training) out of a total 1000 points : 419\n",
      "[[483  17]\n",
      " [402  98]]\n",
      "Accuracy :  0.581\n",
      "Specifity :  0.966\n",
      "Sensitivity :  0.196\n"
     ]
    }
   ],
   "source": [
    "# Display our results.\n",
    "print(\"Number of mislabeled points (w/o training) out of a total {} points : {}\".format(\n",
    "    data.shape[0],\n",
    "    (target != y_pred).sum()\n",
    "))\n",
    "\n",
    "#Calculate Confusion Martrix\n",
    "print(confusion_matrix(target, y_pred))\n",
    "\n",
    "# from confusion matrix calculate accuracy\n",
    "cm = confusion_matrix(target, y_pred)\n",
    "\n",
    "#Accuracy\n",
    "total=sum(sum(cm))\n",
    "accuracy=(cm[0,0]+cm[1,1])/total\n",
    "print ('Accuracy : ', accuracy)\n",
    "\n",
    "#Specifity\n",
    "Specifity = cm[0,0]/(cm[0,0]+cm[0,1])\n",
    "print('Specifity : ', Specifity )\n",
    "\n",
    "#Sensitivity\n",
    "Sensitivity = cm[1,1]/(cm[1,0]+cm[1,1])\n",
    "print('Sensitivity : ', Sensitivity)"
   ]
  },
  {
   "cell_type": "markdown",
   "metadata": {},
   "source": [
    "#### Principal Components Analysis"
   ]
  },
  {
   "cell_type": "code",
   "execution_count": 847,
   "metadata": {},
   "outputs": [],
   "source": [
    "#Prepare data for PCA\n",
    "\n",
    "X_std = StandardScaler().fit_transform(data)\n",
    "mean_vec = np.mean(X_std, axis=0)\n",
    "cov_mat = (X_std - mean_vec).T.dot((X_std - mean_vec)) / (X_std.shape[0]-1)"
   ]
  },
  {
   "cell_type": "code",
   "execution_count": 848,
   "metadata": {},
   "outputs": [
    {
     "name": "stdout",
     "output_type": "stream",
     "text": [
      "Eigenvector 1: \n",
      "[[-0.16903185]\n",
      " [ 0.02820896]\n",
      " [ 0.4675538 ]\n",
      " [-0.39103391]\n",
      " [ 0.05553096]\n",
      " [ 0.44636213]\n",
      " [-0.37235673]\n",
      " [ 0.04144077]\n",
      " [ 0.0242043 ]\n",
      " [-0.49762357]\n",
      " [ 0.06090112]\n",
      " [ 0.02820896]\n",
      " [ 0.06090112]]\n",
      "Eigenvalue 1: 1.11950487180933\n",
      "----------------------------------------\n",
      "Eigenvector 2: \n",
      "[[ 0.02852984]\n",
      " [-0.13110957]\n",
      " [-0.21003601]\n",
      " [-0.50051667]\n",
      " [-0.22135775]\n",
      " [-0.02575073]\n",
      " [-0.52334066]\n",
      " [-0.1800085 ]\n",
      " [-0.11440129]\n",
      " [ 0.43726684]\n",
      " [-0.23445016]\n",
      " [-0.13110957]\n",
      " [-0.23445016]]\n",
      "Eigenvalue 2: 0.8788535263741818\n",
      "----------------------------------------\n",
      "Eigenvector 3: \n",
      "[[-0.17033489]\n",
      " [-0.0707634 ]\n",
      " [-0.67224332]\n",
      " [ 0.10518307]\n",
      " [-0.11638656]\n",
      " [ 0.58279422]\n",
      " [ 0.12849956]\n",
      " [-0.09598577]\n",
      " [-0.06194084]\n",
      " [-0.29183866]\n",
      " [-0.12261676]\n",
      " [-0.0707634 ]\n",
      " [-0.12261676]]\n",
      "Eigenvalue 3: 0.9143564281628002\n",
      "----------------------------------------\n",
      "Eigenvector 4: \n",
      "[[-0.33575259]\n",
      " [-0.18474307]\n",
      " [ 0.17467349]\n",
      " [ 0.09049208]\n",
      " [-0.29980498]\n",
      " [-0.45006743]\n",
      " [ 0.10569934]\n",
      " [-0.24902473]\n",
      " [-0.16197769]\n",
      " [-0.4358623 ]\n",
      " [-0.31501464]\n",
      " [-0.18474307]\n",
      " [-0.31501464]]\n",
      "Eigenvalue 4: 0.9259795461682278\n",
      "----------------------------------------\n",
      "Eigenvector 5: \n",
      "[[ 0.03629796]\n",
      " [ 0.08996309]\n",
      " [-0.49526008]\n",
      " [-0.14404266]\n",
      " [ 0.18426934]\n",
      " [-0.49675628]\n",
      " [-0.37097259]\n",
      " [ 0.13436703]\n",
      " [ 0.07689137]\n",
      " [-0.43680886]\n",
      " [ 0.20414884]\n",
      " [ 0.08996309]\n",
      " [ 0.20414884]]\n",
      "Eigenvalue 5: 1.0841235226772026\n",
      "----------------------------------------\n",
      "Eigenvector 6: \n",
      "[[-0.59451336]\n",
      " [ 0.0501208 ]\n",
      " [-0.09534903]\n",
      " [-0.56517326]\n",
      " [ 0.10866368]\n",
      " [-0.10014731]\n",
      " [ 0.47493624]\n",
      " [ 0.07660311]\n",
      " [ 0.04261217]\n",
      " [ 0.16744439]\n",
      " [ 0.12225843]\n",
      " [ 0.0501208 ]\n",
      " [ 0.12225843]]\n",
      "Eigenvalue 6: 1.0606661448929642\n",
      "----------------------------------------\n",
      "Eigenvector 7: \n",
      "[[ 0.68845299]\n",
      " [-0.04943108]\n",
      " [-0.01415151]\n",
      " [-0.48607794]\n",
      " [-0.06984421]\n",
      " [-0.02529516]\n",
      " [ 0.44336959]\n",
      " [-0.06228806]\n",
      " [-0.04415523]\n",
      " [-0.25788741]\n",
      " [-0.07156652]\n",
      " [-0.04943108]\n",
      " [-0.07156652]]\n",
      "Eigenvalue 7: 0.9724875205558958\n",
      "----------------------------------------\n",
      "Eigenvector 8: \n",
      "[[-0.00389509]\n",
      " [ 0.03041791]\n",
      " [-0.00479298]\n",
      " [-0.00816608]\n",
      " [ 0.79614422]\n",
      " [-0.00587053]\n",
      " [ 0.00093021]\n",
      " [ 0.07325735]\n",
      " [ 0.02388408]\n",
      " [-0.00675412]\n",
      " [-0.42319087]\n",
      " [ 0.03041791]\n",
      " [-0.42319087]]\n",
      "Eigenvalue 8: 1.0148666360428762\n",
      "----------------------------------------\n",
      "Eigenvector 9: \n",
      "[[-0.00834262]\n",
      " [ 0.14136907]\n",
      " [-0.01135779]\n",
      " [-0.01983161]\n",
      " [-0.35609991]\n",
      " [-0.01424057]\n",
      " [ 0.00265776]\n",
      " [ 0.83513665]\n",
      " [ 0.1029098 ]\n",
      " [-0.01714028]\n",
      " [-0.24908154]\n",
      " [ 0.14136907]\n",
      " [-0.24908154]]\n",
      "Eigenvalue 9: 1.0103524537990405\n",
      "----------------------------------------\n",
      "Eigenvector 10: \n",
      "[[ 0.00716968]\n",
      " [-0.58271206]\n",
      " [ 0.01101905]\n",
      " [ 0.01982252]\n",
      " [ 0.17804211]\n",
      " [ 0.01413442]\n",
      " [-0.00316304]\n",
      " [ 0.40022167]\n",
      " [-0.28626651]\n",
      " [ 0.01770776]\n",
      " [ 0.15162339]\n",
      " [-0.58271206]\n",
      " [ 0.15162339]]\n",
      "Eigenvalue 10: 1.006344047828602\n",
      "----------------------------------------\n",
      "Eigenvector 11: \n",
      "[[ 0.00176943]\n",
      " [ 0.26337119]\n",
      " [ 0.00295967]\n",
      " [ 0.00542933]\n",
      " [ 0.0386684 ]\n",
      " [ 0.0038461 ]\n",
      " [-0.00095743]\n",
      " [ 0.06207593]\n",
      " [-0.92383218]\n",
      " [ 0.00492432]\n",
      " [ 0.03446261]\n",
      " [ 0.26337119]\n",
      " [ 0.03446261]]\n",
      "Eigenvalue 11: 1.0042125582925217\n",
      "----------------------------------------\n",
      "Eigenvector 12: \n",
      "[[ -1.85453023e-15]\n",
      " [  2.86321524e-14]\n",
      " [ -2.69375697e-15]\n",
      " [ -4.17112731e-15]\n",
      " [  1.16267294e-13]\n",
      " [ -2.93624833e-15]\n",
      " [ -2.56792469e-16]\n",
      " [  3.82026555e-14]\n",
      " [  2.14740343e-15]\n",
      " [ -3.43046167e-15]\n",
      " [  7.07106781e-01]\n",
      " [  1.67753174e-14]\n",
      " [ -7.07106781e-01]]\n",
      "Eigenvalue 12: 1.0162446710670052\n",
      "----------------------------------------\n",
      "Eigenvector 13: \n",
      "[[ -3.16497980e-15]\n",
      " [ -7.07106781e-01]\n",
      " [ -6.49670914e-16]\n",
      " [ -1.85327517e-15]\n",
      " [ -3.70629571e-14]\n",
      " [ -1.26328671e-16]\n",
      " [  1.33065998e-15]\n",
      " [ -3.45747109e-15]\n",
      " [ -1.14978480e-13]\n",
      " [ -1.56661349e-15]\n",
      " [  1.11250274e-14]\n",
      " [  7.07106781e-01]\n",
      " [ -2.60092121e-14]]\n",
      "Eigenvalue 13: 1.0050210853423707\n",
      "----------------------------------------\n",
      "The percentage of total variance in the dataset explained by each component from Sklearn PCA.\n",
      " [ 0.08602964  0.08331072  0.08150811  0.07809449  0.0779886   0.0776417\n",
      "  0.07733367  0.077232    0.07716987  0.07473193  0.07115797  0.07026477]\n"
     ]
    }
   ],
   "source": [
    "#Eigenvectores & Eigenvalues\n",
    "\n",
    "cov_mat = np.cov(X_std.T)\n",
    "eig_vals, eig_vecs = np.linalg.eig(cov_mat)\n",
    "\n",
    "# Inspecting the eigenvalues and eigenvectors.\n",
    "for i in range(len(eig_vals)):\n",
    "    eigvecs = eig_vecs[:, i].reshape(1, len(keywords)+1).T\n",
    "    print('Eigenvector {}: \\n{}'.format(i + 1, eigvecs))\n",
    "    print('Eigenvalue {}: {}'.format(i + 1, eig_vals[i]))\n",
    "    print(40 * '-')\n",
    "\n",
    "\n",
    "sklearn_pca = PCA(n_components=len(keywords))\n",
    "Y_sklearn = sklearn_pca.fit_transform(X_std)\n",
    "\n",
    "print(\n",
    "    'The percentage of total variance in the dataset explained by each',\n",
    "    'component from Sklearn PCA.\\n',\n",
    "    sklearn_pca.explained_variance_ratio_\n",
    ")"
   ]
  },
  {
   "cell_type": "markdown",
   "metadata": {},
   "source": [
    "#### Recursive Feature Elimination"
   ]
  },
  {
   "cell_type": "code",
   "execution_count": 849,
   "metadata": {},
   "outputs": [
    {
     "data": {
      "text/html": [
       "<div>\n",
       "<style>\n",
       "    .dataframe thead tr:only-child th {\n",
       "        text-align: right;\n",
       "    }\n",
       "\n",
       "    .dataframe thead th {\n",
       "        text-align: left;\n",
       "    }\n",
       "\n",
       "    .dataframe tbody tr th {\n",
       "        vertical-align: top;\n",
       "    }\n",
       "</style>\n",
       "<table border=\"1\" class=\"dataframe\">\n",
       "  <thead>\n",
       "    <tr style=\"text-align: right;\">\n",
       "      <th></th>\n",
       "      <th>Features</th>\n",
       "      <th>Ranking</th>\n",
       "      <th>Support</th>\n",
       "    </tr>\n",
       "  </thead>\n",
       "  <tbody>\n",
       "    <tr>\n",
       "      <th>0</th>\n",
       "      <td>nice</td>\n",
       "      <td>1</td>\n",
       "      <td>True</td>\n",
       "    </tr>\n",
       "    <tr>\n",
       "      <th>1</th>\n",
       "      <td>pleased</td>\n",
       "      <td>1</td>\n",
       "      <td>True</td>\n",
       "    </tr>\n",
       "    <tr>\n",
       "      <th>2</th>\n",
       "      <td>better</td>\n",
       "      <td>1</td>\n",
       "      <td>True</td>\n",
       "    </tr>\n",
       "    <tr>\n",
       "      <th>4</th>\n",
       "      <td>easy</td>\n",
       "      <td>1</td>\n",
       "      <td>True</td>\n",
       "    </tr>\n",
       "    <tr>\n",
       "      <th>5</th>\n",
       "      <td>excellent</td>\n",
       "      <td>1</td>\n",
       "      <td>True</td>\n",
       "    </tr>\n",
       "    <tr>\n",
       "      <th>6</th>\n",
       "      <td>love</td>\n",
       "      <td>1</td>\n",
       "      <td>True</td>\n",
       "    </tr>\n",
       "    <tr>\n",
       "      <th>7</th>\n",
       "      <td>impressed</td>\n",
       "      <td>1</td>\n",
       "      <td>True</td>\n",
       "    </tr>\n",
       "    <tr>\n",
       "      <th>8</th>\n",
       "      <td>satisfied</td>\n",
       "      <td>1</td>\n",
       "      <td>True</td>\n",
       "    </tr>\n",
       "    <tr>\n",
       "      <th>9</th>\n",
       "      <td>pretty</td>\n",
       "      <td>1</td>\n",
       "      <td>True</td>\n",
       "    </tr>\n",
       "    <tr>\n",
       "      <th>10</th>\n",
       "      <td>best</td>\n",
       "      <td>1</td>\n",
       "      <td>True</td>\n",
       "    </tr>\n",
       "    <tr>\n",
       "      <th>11</th>\n",
       "      <td>works great</td>\n",
       "      <td>1</td>\n",
       "      <td>True</td>\n",
       "    </tr>\n",
       "    <tr>\n",
       "      <th>12</th>\n",
       "      <td>allcaps</td>\n",
       "      <td>1</td>\n",
       "      <td>True</td>\n",
       "    </tr>\n",
       "    <tr>\n",
       "      <th>3</th>\n",
       "      <td>like</td>\n",
       "      <td>2</td>\n",
       "      <td>False</td>\n",
       "    </tr>\n",
       "  </tbody>\n",
       "</table>\n",
       "</div>"
      ],
      "text/plain": [
       "       Features  Ranking  Support\n",
       "0          nice        1     True\n",
       "1       pleased        1     True\n",
       "2        better        1     True\n",
       "4          easy        1     True\n",
       "5     excellent        1     True\n",
       "6          love        1     True\n",
       "7     impressed        1     True\n",
       "8     satisfied        1     True\n",
       "9        pretty        1     True\n",
       "10         best        1     True\n",
       "11  works great        1     True\n",
       "12      allcaps        1     True\n",
       "3          like        2    False"
      ]
     },
     "execution_count": 849,
     "metadata": {},
     "output_type": "execute_result"
    }
   ],
   "source": [
    "# create the RFE model and select attributes\n",
    "\n",
    "rfe = RFE(bnb, len(keywords))\n",
    "fit = rfe.fit(data,target)\n",
    "\n",
    "# summarize the selection of the attributes\n",
    "\n",
    "result_RFE = pd.DataFrame(list(zip(data.head(0), rfe.ranking_, rfe.support_)),columns=['Features','Ranking','Support'] )\n",
    "result_RFE.sort_values('Ranking')"
   ]
  },
  {
   "cell_type": "code",
   "execution_count": 850,
   "metadata": {},
   "outputs": [
    {
     "data": {
      "text/plain": [
       "['nice',\n",
       " 'pleased',\n",
       " 'better',\n",
       " 'easy',\n",
       " 'excellent',\n",
       " 'love',\n",
       " 'impressed',\n",
       " 'satisfied',\n",
       " 'pretty',\n",
       " 'best',\n",
       " 'works great',\n",
       " 'allcaps']"
      ]
     },
     "execution_count": 850,
     "metadata": {},
     "output_type": "execute_result"
    }
   ],
   "source": [
    "#Result as a list for \"keywords\"\n",
    "result= result_RFE[result_RFE.Support]\n",
    "my_list = result[\"Features\"].tolist()\n",
    "my_list"
   ]
  },
  {
   "cell_type": "markdown",
   "metadata": {},
   "source": [
    "##### Splitting the data in a train and a test subset\n",
    "\n",
    "**Training the clasifier with 80% of the data**"
   ]
  },
  {
   "cell_type": "code",
   "execution_count": 851,
   "metadata": {
    "scrolled": false
   },
   "outputs": [
    {
     "data": {
      "text/plain": [
       "<matplotlib.axes._subplots.AxesSubplot at 0x1655f1f0>"
      ]
     },
     "execution_count": 851,
     "metadata": {},
     "output_type": "execute_result"
    },
    {
     "data": {
      "image/png": "[encoded data removed]",
      "text/plain": [
       "<matplotlib.figure.Figure at 0x18445490>"
      ]
     },
     "metadata": {},
     "output_type": "display_data"
    }
   ],
   "source": [
    "for key in keywords:\n",
    "    # Note that we add spaces around the key so that we're getting the word,\n",
    "    # not just pattern matching.\n",
    "    train[str(key)] = train.Sentence.str.contains(\n",
    "        ' '+str(key)+' ',\n",
    "        case=False\n",
    "    )\n",
    "    \n",
    "#Using the train subset\n",
    "train['allcaps'] = train.Sentence.str.isupper()\n",
    "train['Sentiment'] = (train['Sentiment'] == 1)\n",
    "\n",
    "#Plot correlation matrix\n",
    "plt.figure(figsize=(20, 7))\n",
    "sns.heatmap(train.corr())"
   ]
  },
  {
   "cell_type": "code",
   "execution_count": 852,
   "metadata": {
    "collapsed": true
   },
   "outputs": [],
   "source": [
    "# Define training data & target for the model\n",
    "data1 = train[keywords + ['allcaps']]\n",
    "target1 = train['Sentiment']"
   ]
  },
  {
   "cell_type": "code",
   "execution_count": 853,
   "metadata": {},
   "outputs": [
    {
     "name": "stdout",
     "output_type": "stream",
     "text": [
      "Number of mislabeled points in TRAIN out of a total 797 points : 338\n"
     ]
    },
    {
     "data": {
      "text/plain": [
       "array([[381,  10],\n",
       "       [328,  78]], dtype=int64)"
      ]
     },
     "execution_count": 853,
     "metadata": {},
     "output_type": "execute_result"
    }
   ],
   "source": [
    "# Initantiate our model and store it in a new variable.\n",
    "bnb2 = BernoulliNB()\n",
    "\n",
    "# Fit our model to the data.\n",
    "bnb2.fit(data1, target1)\n",
    "\n",
    "# Classify, storing the result in a new variable.\n",
    "y_pred1 = bnb2.predict(data1)\n",
    "\n",
    "# Display our results.\n",
    "print(\"Number of mislabeled points in TRAIN out of a total {} points : {}\".format(\n",
    "    data1.shape[0],\n",
    "    (target1 != y_pred1).sum()\n",
    "))\n",
    "\n",
    "confusion_matrix(target1, y_pred1)"
   ]
  },
  {
   "cell_type": "code",
   "execution_count": 854,
   "metadata": {},
   "outputs": [
    {
     "name": "stdout",
     "output_type": "stream",
     "text": [
      "Accuracy :  0.57590966123\n",
      "Specifity :  0.97442455243\n",
      "Sensitivity :  0.192118226601\n"
     ]
    }
   ],
   "source": [
    "# Display our results.\n",
    "print(\"Number of mislabeled points in TRAIN out of a total {} points : {}\".format(\n",
    "    data1.shape[0],\n",
    "    (target1 != y_pred1).sum()\n",
    "))\n",
    "\n",
    "confusion_matrix(target1, y_pred1)\n",
    "\n",
    "# from confusion matrix calculate accuracy\n",
    "cm1 = confusion_matrix(target1, y_pred1)\n",
    "\n",
    "total1=sum(sum(cm1))\n",
    "accuracy1=(cm1[0,0]+cm1[1,1])/total1\n",
    "print ('Accuracy : ', accuracy1)\n",
    "\n",
    "Specifity1 = cm1[0,0]/(cm1[0,0]+cm1[0,1])\n",
    "print('Specifity : ', Specifity1 )\n",
    "\n",
    "Sensitivity1 = cm1[1,1]/(cm1[1,0]+cm1[1,1])\n",
    "print('Sensitivity : ', Sensitivity1)"
   ]
  },
  {
   "cell_type": "markdown",
   "metadata": {},
   "source": [
    "**Test the result of training the model**"
   ]
  },
  {
   "cell_type": "code",
   "execution_count": 855,
   "metadata": {
    "collapsed": true
   },
   "outputs": [],
   "source": [
    "for key in keywords:\n",
    "    # Note that we add spaces around the key so that we're getting the word,\n",
    "    # not just pattern matching.\n",
    "    test[str(key)] = test.Sentence.str.contains(\n",
    "        ' '+str(key)+' ',\n",
    "        case=False\n",
    "    )\n",
    "test['allcaps'] = test.Sentence.str.isupper()\n",
    "test['Sentiment'] = (test['Sentiment'] == 1)"
   ]
  },
  {
   "cell_type": "code",
   "execution_count": 856,
   "metadata": {
    "collapsed": true
   },
   "outputs": [],
   "source": [
    "#Define the data & target with test subset\n",
    "data2 = test[keywords +['allcaps']]\n",
    "target2 = test['Sentiment']"
   ]
  },
  {
   "cell_type": "code",
   "execution_count": 857,
   "metadata": {},
   "outputs": [
    {
     "name": "stdout",
     "output_type": "stream",
     "text": [
      "Number of mislabeled points in TEST out of a total 203 points : 77\n"
     ]
    },
    {
     "data": {
      "text/plain": [
       "array([[109,   0],\n",
       "       [ 77,  17]], dtype=int64)"
      ]
     },
     "execution_count": 857,
     "metadata": {},
     "output_type": "execute_result"
    }
   ],
   "source": [
    "# Initantiate our model and store it in a new variable.\n",
    "bnb2 = BernoulliNB()\n",
    "\n",
    "# Fit our model to the data.\n",
    "bnb2.fit(data2, target2)\n",
    "\n",
    "# Classify, storing the result in a new variable.\n",
    "y_pred2 = bnb2.predict(data2)"
   ]
  },
  {
   "cell_type": "code",
   "execution_count": 858,
   "metadata": {},
   "outputs": [
    {
     "name": "stdout",
     "output_type": "stream",
     "text": [
      "Accuracy :  0.620689655172\n",
      "Specifity :  1.0\n",
      "Sensitivity :  0.18085106383\n"
     ]
    }
   ],
   "source": [
    "# Display our results.\n",
    "print(\"Number of mislabeled points in TEST out of a total {} points : {}\".format(\n",
    "    data2.shape[0],\n",
    "    (target2 != y_pred2).sum()\n",
    "))\n",
    "\n",
    "confusion_matrix(target2, y_pred2)\n",
    "\n",
    "# from confusion matrix calculate accuracy\n",
    "cm2 = confusion_matrix(target2, y_pred2)\n",
    "\n",
    "total2=sum(sum(cm2))\n",
    "accuracy2=(cm2[0,0]+cm2[1,1])/total2\n",
    "print ('Accuracy : ', accuracy2)\n",
    "\n",
    "Specifity2 = cm2[0,0]/(cm2[0,0]+cm2[0,1])\n",
    "print('Specifity : ', Specifity2 )\n",
    "\n",
    "Sensitivity2 = cm2[1,1]/(cm2[1,0]+cm2[1,1])\n",
    "print('Sensitivity : ', Sensitivity2)"
   ]
  },
  {
   "cell_type": "markdown",
   "metadata": {},
   "source": [
    "### Cross validation & feature selection"
   ]
  },
  {
   "cell_type": "code",
   "execution_count": 859,
   "metadata": {},
   "outputs": [],
   "source": [
    "#Test through cross validation the result of the best model using the the hould out subsets\n",
    "\n",
    "keywords2 = keywords\n",
    "   \n",
    "for key in keywords2:\n",
    "    # Note that we add spaces around the key so that we're getting the word,\n",
    "    # not just pattern matching.\n",
    "    train[str(key)] = train.Sentence.str.contains(\n",
    "        ' '+str(key)+' ',\n",
    "        case=False\n",
    "    )\n",
    "\n",
    "#Define data andtarget for cross validation\n",
    "amazon['allcaps'] = amazon.Sentence.str.isupper()\n",
    "amazon['Sentiment'] = (amazon['Sentiment'] == 1)\n",
    "datacv = amazon[keywords2]\n",
    "targetcv = amazon['Sentiment']"
   ]
  },
  {
   "cell_type": "code",
   "execution_count": 860,
   "metadata": {},
   "outputs": [
    {
     "name": "stdout",
     "output_type": "stream",
     "text": [
      "Number of mislabeled points out of a total 1000 points : 419\n"
     ]
    },
    {
     "data": {
      "text/plain": [
       "array([[483,  17],\n",
       "       [402,  98]], dtype=int64)"
      ]
     },
     "execution_count": 860,
     "metadata": {},
     "output_type": "execute_result"
    }
   ],
   "source": [
    "# Initantiate our model and store it in a new variable.\n",
    "bnbcv = BernoulliNB()\n",
    "\n",
    "# Fit our model to the data.\n",
    "bnbcv.fit(datacv, targetcv)\n",
    "\n",
    "# Classify, storing the result in a new variable.\n",
    "y_predcv = bnbcv.predict(datacv)"
   ]
  },
  {
   "cell_type": "code",
   "execution_count": 861,
   "metadata": {},
   "outputs": [
    {
     "name": "stdout",
     "output_type": "stream",
     "text": [
      "[ 0.59  0.6   0.56  0.57  0.58  0.53  0.59  0.59  0.57  0.59]\n",
      "Accuracy: 0.58 (+/- 0.04)\n",
      "Prediction: 0.58 \n"
     ]
    }
   ],
   "source": [
    "# Display our results.\n",
    "print(\"Number of mislabeled points out of a total {} points : {}\".format(\n",
    "    datacv.shape[0],\n",
    "    (targetcv != y_predcv).sum()\n",
    "))\n",
    "\n",
    "#Show Confusion Matrix\n",
    "confusion_matrix(targetcv, y_predcv)\n",
    "\n",
    "#Cross validation, scores\n",
    "skf = StratifiedKFold(n_splits=10, random_state=0)\n",
    "scores = cross_val_score(bnb, datacv, targetcv, cv=skf)\n",
    "\n",
    "#Test the prediction capacity of the model\n",
    "predicted = cross_val_predict(bnb, datacv, y_predcv, cv=skf)\n",
    "prediction = metrics.accuracy_score(targetcv, predicted)\n",
    "\n",
    "#Print scores, accuracy of the model and prediction\n",
    "print(scores)\n",
    "print(\"Accuracy: %0.2f (+/- %0.2f)\" % (scores.mean(), scores.std() * 2))\n",
    "print(\"Prediction: %0.2f \" % (prediction))"
   ]
  },
  {
   "cell_type": "markdown",
   "metadata": {},
   "source": [
    "To explain 60% of the variance we would need 22 features "
   ]
  },
  {
   "cell_type": "markdown",
   "metadata": {},
   "source": [
    "#### Results of the iterations to improve the classifier´s performance"
   ]
  },
  {
   "cell_type": "markdown",
   "metadata": {},
   "source": [
    "##### First Classifier (w/o Training)\n",
    "\n",
    "**keywords**\n",
    "\n",
    "            'wanted','important','sturdiness','encourage',\n",
    "            'happier','comfort','excited', 'flawlessly',\n",
    "            'pleased','outperform','stars''adorable', 'more',\n",
    "            'crisp','increase','better','thumbs','price','very', 'significantly',\n",
    "            'strong','perfectly','surprised','amazed','sturdy', 'securely','right',\n",
    "            'joy','finally','satisfied','better', 'pretty','easy','10','easier','fulfills','ideal',\n",
    "            'beautiful','best','works','comfortable' ,'comfortably','charm','incredible', 'extra',\n",
    "            'quality','incredibly' ,'super','well','nice', 'clear','finished','well','more', 'ideal',\n",
    "            'recommend','good','happy','like', 'excellent', 'awesome','cool', 'fantastic','ok','love',\n",
    "            'reasonable','fine','great','impressed'"
   ]
  },
  {
   "cell_type": "markdown",
   "metadata": {},
   "source": [
    "##### Second iteration\n",
    "\n",
    "**keywords**\n",
    "\n",
    "            'happier', 'nice','adorable',\n",
    "            'excited', 'pleased','recommend',\n",
    "            'crisp','increase','better','significantly',\n",
    "            'incredibly' ,'super','well', 'clear','securely',\n",
    "            'ideal', 'happy','like', 'easy','amazed',\n",
    "            'excellent', 'awesome','cool', 'fantastic','sturdy',\n",
    "            'love', 'reasonable','fine','great','impressed',\n",
    "             'perfectly','surprised','right',\n",
    "            'joy','satisfied','better','pretty','very good',\n",
    "            'easier','fulfills','ideal', 'beautiful','best','comfortable' ,\n",
    "            'incredible', 'extra', 'works','comfortably'"
   ]
  },
  {
   "cell_type": "markdown",
   "metadata": {},
   "source": [
    "##### Third iteration\n",
    "\n",
    "**keywords**\n",
    "\n",
    "            'nice', 'pleased',\n",
    "            'better','like', 'easy',\n",
    "            'excellent', 'awesome','cool',\n",
    "            'love','great','impressed',\n",
    "            'satisfied','better','pretty','very good',\n",
    "            'best','extra', 'works'\n"
   ]
  },
  {
   "cell_type": "markdown",
   "metadata": {},
   "source": [
    "##### Fourth iteration\n",
    "\n",
    "**keywords**\n",
    "\n",
    "            'nice','pleased', 'better','like', 'easy',\n",
    "            'excellent','cool',\n",
    "            'love','great','impressed',\n",
    "            'satisfied','better','pretty',\n",
    "            'best','extra','works'"
   ]
  },
  {
   "cell_type": "markdown",
   "metadata": {},
   "source": [
    "##### Fifth iteration\n",
    "\n",
    "**keywords**\n",
    "\n",
    "            'nice', 'pleased', 'better',           \n",
    "            'like', 'easy', 'excellent',\n",
    "            'love','impressed',\n",
    "            'satisfied','pretty',\n",
    "            'best','works great'"
   ]
  },
  {
   "cell_type": "markdown",
   "metadata": {},
   "source": [
    "**Do any of your classifiers seem to overfit?**\n",
    "\n",
    "The classifiers that were done with the 80/20 approach seem to overfit. It seems that 58% of accuracy for this model is significant with the amount of data in the dataset and can be explained with 11 features. The first model had 66 features achieving an accuracy of 62%.\n",
    "\n",
    "The reduction of features was done, first without reducing the accuracy and later reducing the accuracy.\n",
    "\n",
    "**Which seem to perform the best? Why?**\n",
    "\n",
    "The classifier that seems to be performing best is the last one becuase it is not overfitted due to the number of features used and the accuracy is higher than in other classifiers that have been tried before, having less false positives and false negatives"
   ]
  }
 ],
 "metadata": {
  "kernelspec": {
   "display_name": "Python 3",
   "language": "python",
   "name": "python3"
  },
  "language_info": {
   "codemirror_mode": {
    "name": "ipython",
    "version": 3
   },
   "file_extension": ".py",
   "mimetype": "text/x-python",
   "name": "python",
   "nbconvert_exporter": "python",
   "pygments_lexer": "ipython3",
   "version": "3.6.1"
  }
 },
 "nbformat": 4,
 "nbformat_minor": 2
}
