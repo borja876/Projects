{
 "cells": [
  {
   "cell_type": "markdown",
   "metadata": {},
   "source": [
    "#### 3. A company with work sites in five different countries has sent you data on employee satisfaction rates for workers in Human Resources and workers in Information Technology. Most HR workers are concentrated in three of the countries, while IT workers are equally distributed across worksites. The company requests a report on satisfaction for each job type. You calculate average job satisfaction for HR and for IT and present the report."
   ]
  },
  {
   "cell_type": "markdown",
   "metadata": {},
   "source": [
    "**The problem:** We want to see job satisfaction by job and we have 2 types of roles IT and HR. Both are not spread evenly across countries as HR is only present in three countries and IT in the five in which the company operates. In the past we were veraging the resuts obtained for IT and HR."
   ]
  },
  {
   "cell_type": "markdown",
   "metadata": {},
   "source": [
    "**The potential solution:** Sending differentiated surveys for IT and HR in an anonimous way only identifying if its an HR or a IT employee. This will give us the opportunity to have a satisfaction report per each job type and country. Giving employees more time to answer will give us enough answers from both groups"
   ]
  },
  {
   "cell_type": "markdown",
   "metadata": {},
   "source": [
    "**The method of testing the solution:** Design the surveys that adapts to the needs/information that wants to be gathered regarding HR and IT as they are different roles with different needs.\n",
    "Give enough time/ a month to gather the information from each group with a polite reminder so that the survey is completed on time. If we receive less than 50% back then extend the deadline with a reminde email for 15 days.\n",
    "Translate the survey into the different languages of the country to make people feel comfortable and introduce a line that says that is anonymous.\n",
    "Analyze the results of each survey independently (IT vs HR). Extract conclusiones from each of them and run the stats per group anf not as a whole.\n",
    "Build report that will require at least an additional month to understand the answers and derive conclusions and the main outcomes from them."
   ]
  }
 ],
 "metadata": {
  "kernelspec": {
   "display_name": "Python 3",
   "language": "python",
   "name": "python3"
  },
  "language_info": {
   "codemirror_mode": {
    "name": "ipython",
    "version": 3
   },
   "file_extension": ".py",
   "mimetype": "text/x-python",
   "name": "python",
   "nbconvert_exporter": "python",
   "pygments_lexer": "ipython3",
   "version": "3.6.1"
  }
 },
 "nbformat": 4,
 "nbformat_minor": 2
}
