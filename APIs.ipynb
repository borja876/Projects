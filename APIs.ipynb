{
 "cells": [
  {
   "cell_type": "code",
   "execution_count": 3,
   "metadata": {
    "collapsed": true
   },
   "outputs": [],
   "source": [
    "import pandas as pd"
   ]
  },
  {
   "cell_type": "code",
   "execution_count": 1,
   "metadata": {},
   "outputs": [
    {
     "name": "stdout",
     "output_type": "stream",
     "text": [
      "Success!\n"
     ]
    }
   ],
   "source": [
    "# Importing in each cell because of the kernel restarts.\n",
    "import scrapy\n",
    "import re\n",
    "from scrapy.crawler import CrawlerProcess\n",
    "\n",
    "\n",
    "class ADSSpider(scrapy.Spider):\n",
    "    # Naming the spider is important if you are running more than one spider of\n",
    "    # this class simultaneously.\n",
    "    name = \"ADS\"\n",
    "    \n",
    "    # URL(s) to start with.\n",
    "    start_urls = [\n",
    "        'https://www.gumtree.com/phones',\n",
    "    ]\n",
    "\n",
    "    # Use XPath to parse the response we get.\n",
    "    def parse(self, response):\n",
    "        \n",
    "        # Iterate over every <article> element on the page.\n",
    "        for article in response.xpath('//article'):\n",
    "            \n",
    "            # Yield a dictionary with the values we want.\n",
    "            yield {\n",
    "                'name': article.xpath('//*[@id=\"srp-results\"]/div/div/div/ul/li/article/a/div/h2/text()').extract(),\n",
    "                'price': article.xpath('//*[@id=\"srp-results\"]/div/div/div/ul/li/article/a/div/span/strong/text()').extract(),\n",
    "                'description': article.xpath('//*[@id=\"srp-results\"]/div/div/div/ul/li/article/a/div/p/text()').extract()\n",
    "            }\n",
    "        # Get the URL of the next page.\n",
    "        next_page = 'http://www.gumtree.com'+response.xpath('//li[@class=\"pagination-page\"]/a/@href').extract()\n",
    "        # There are a LOT of pages here.  For our example, we'll just scrape the first 9.\n",
    "        # This finds the page number. The next segment of code prevents us from going beyond page 9.\n",
    "        pagenum = int(re.findall(r'\\d+',next_page)[0])\n",
    "        print(pagenum)\n",
    "            # Recursively call the spider to run on the next page, if it exists.\n",
    "        if next_page is not None and pagenum < 10:\n",
    "            next_page = response.urljoin(next_page)\n",
    "            # Request the next page and recursively parse it the same way we did above\n",
    "        yield scrapy.Request(next_page, callback=self.parse)\n",
    "            \n",
    "# Tell the script how to run the crawler by passing in settings.\n",
    "# The new settings have to do with scraping etiquette.          \n",
    "process = CrawlerProcess({\n",
    "    'FEED_FORMAT': 'json',         # Store data in JSON format.\n",
    "    'FEED_URI': 'gumtree.json',       # Name our storage file.\n",
    "    'LOG_ENABLED': False,          # Turn off logging for now.\n",
    "    'ROBOTSTXT_OBEY': True,\n",
    "    'USER_AGENT': 'ThinkfulDataScienceBootcampCrawler (thinkful.com)',\n",
    "    'AUTOTHROTTLE_ENABLED': True,\n",
    "    'HTTPCACHE_ENABLED': True\n",
    "})\n",
    "\n",
    "# Start the crawler with our spider.\n",
    "process.crawl(ADSSpider)\n",
    "process.start()\n",
    "print('Success!')\n"
   ]
  },
  {
   "cell_type": "code",
   "execution_count": 4,
   "metadata": {},
   "outputs": [
    {
     "name": "stdout",
     "output_type": "stream",
     "text": [
      "(30, 3)\n"
     ]
    },
    {
     "data": {
      "text/html": [
       "<div>\n",
       "<style>\n",
       "    .dataframe thead tr:only-child th {\n",
       "        text-align: right;\n",
       "    }\n",
       "\n",
       "    .dataframe thead th {\n",
       "        text-align: left;\n",
       "    }\n",
       "\n",
       "    .dataframe tbody tr th {\n",
       "        vertical-align: top;\n",
       "    }\n",
       "</style>\n",
       "<table border=\"1\" class=\"dataframe\">\n",
       "  <thead>\n",
       "    <tr style=\"text-align: right;\">\n",
       "      <th></th>\n",
       "      <th>Names</th>\n",
       "      <th>Descriptions</th>\n",
       "      <th>Prices (£)</th>\n",
       "    </tr>\n",
       "  </thead>\n",
       "  <tbody>\n",
       "    <tr>\n",
       "      <th>0</th>\n",
       "      <td>IPHONE X 64GB SILVER EE - SEALED*</td>\n",
       "      <td>FACTORY SEALED BRAND NEW APPLE IPHONE X 64GB S...</td>\n",
       "      <td>800</td>\n",
       "    </tr>\n",
       "    <tr>\n",
       "      <th>1</th>\n",
       "      <td>IPHONE 8. BRAND NEW</td>\n",
       "      <td>iPhone 8 - 256gb - Space Grey. Brand new in se...</td>\n",
       "      <td>600</td>\n",
       "    </tr>\n",
       "    <tr>\n",
       "      <th>2</th>\n",
       "      <td>Apple iphone 6 16GB GOLD OR BLACK unlocked phone</td>\n",
       "      <td>GRADE A , MINT CONDITION 160,\\rGRADE B SOME MI...</td>\n",
       "      <td>150</td>\n",
       "    </tr>\n",
       "    <tr>\n",
       "      <th>3</th>\n",
       "      <td>NEW Sealed Samsung Galaxy S8 64gb &amp; Plus Midni...</td>\n",
       "      <td>NO FRAUD - No PayPal/Bank Transfers or Postage...</td>\n",
       "      <td>490</td>\n",
       "    </tr>\n",
       "    <tr>\n",
       "      <th>4</th>\n",
       "      <td>Samsung S8 plus -- Read the description before...</td>\n",
       "      <td>.++++++++++++++++++++++++++ Fraud Alert! +++++...</td>\n",
       "      <td>310</td>\n",
       "    </tr>\n",
       "  </tbody>\n",
       "</table>\n",
       "</div>"
      ],
      "text/plain": [
       "                                               Names  \\\n",
       "0                  IPHONE X 64GB SILVER EE - SEALED*   \n",
       "1                                IPHONE 8. BRAND NEW   \n",
       "2   Apple iphone 6 16GB GOLD OR BLACK unlocked phone   \n",
       "3  NEW Sealed Samsung Galaxy S8 64gb & Plus Midni...   \n",
       "4  Samsung S8 plus -- Read the description before...   \n",
       "\n",
       "                                        Descriptions Prices (£)  \n",
       "0  FACTORY SEALED BRAND NEW APPLE IPHONE X 64GB S...        800  \n",
       "1  iPhone 8 - 256gb - Space Grey. Brand new in se...        600  \n",
       "2  GRADE A , MINT CONDITION 160,\\rGRADE B SOME MI...        150  \n",
       "3  NO FRAUD - No PayPal/Bank Transfers or Postage...        490  \n",
       "4  .++++++++++++++++++++++++++ Fraud Alert! +++++...        310  "
      ]
     },
     "execution_count": 4,
     "metadata": {},
     "output_type": "execute_result"
    }
   ],
   "source": [
    "#Read the json file\n",
    "gumtree = pd.read_json('gumtree.json', orient = 'records')\n",
    "\n",
    "#Convert data into series\n",
    "names = pd.Series(gumtree.name[0], name='Names')\n",
    "descriptions = pd.Series(gumtree.description[0], name='Descriptions')\n",
    "prices = pd.Series(gumtree.price[0], name='Prices (£)')\n",
    "\n",
    "#Concatenate series into a dataframe\n",
    "items_df = pd.concat([names, descriptions, prices], axis=1)\n",
    "\n",
    "#Clean data\n",
    "items_df = items_df.replace('\\n','', regex=True)\n",
    "items_df = items_df.replace('£','', regex=True)\n",
    "\n",
    "#Print 5 first lines of the dataframe\n",
    "print(items_df.shape)\n",
    "items_df.head()"
   ]
  },
  {
   "cell_type": "code",
   "execution_count": null,
   "metadata": {
    "collapsed": true
   },
   "outputs": [],
   "source": []
  }
 ],
 "metadata": {
  "kernelspec": {
   "display_name": "Python 3",
   "language": "python",
   "name": "python3"
  },
  "language_info": {
   "codemirror_mode": {
    "name": "ipython",
    "version": 3
   },
   "file_extension": ".py",
   "mimetype": "text/x-python",
   "name": "python",
   "nbconvert_exporter": "python",
   "pygments_lexer": "ipython3",
   "version": "3.5.4"
  }
 },
 "nbformat": 4,
 "nbformat_minor": 2
}
