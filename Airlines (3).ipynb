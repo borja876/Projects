{
 "cells": [
  {
   "cell_type": "markdown",
   "metadata": {},
   "source": [
    "Use this dataset of airline arrival information to predict how late flights will be. A flight only counts as late if it is more than 30 minutes late."
   ]
  },
  {
   "cell_type": "code",
   "execution_count": 2,
   "metadata": {
    "collapsed": true
   },
   "outputs": [],
   "source": [
    "%matplotlib inline\n",
    "import numpy as np\n",
    "import pandas as pd\n",
    "import scipy\n",
    "import sklearn\n",
    "import matplotlib.pyplot as plt\n",
    "import seaborn as sns\n",
    "import math\n",
    "from matplotlib.mlab import PCA as mlabPCA\n",
    "from sklearn.preprocessing import StandardScaler\n",
    "from sklearn.decomposition import PCA \n",
    "from sklearn import preprocessing\n",
    "from sklearn.metrics import confusion_matrix\n",
    "from sklearn.model_selection import cross_val_score, KFold, cross_val_predict\n",
    "import matplotlib.pyplot as plt\n",
    "from sklearn.decomposition import PCA as sklearn_pca\n",
    "from sklearn import decomposition\n",
    "from sklearn import ensemble\n",
    "from sklearn.ensemble import RandomForestClassifier\n",
    "from sklearn.model_selection import train_test_split\n",
    "from sklearn.feature_selection import SelectFromModel\n",
    "from sklearn.metrics import accuracy_score\n",
    "from sklearn.linear_model import LogisticRegression\n",
    "from sklearn.utils import resample\n",
    "from sklearn.ensemble import RandomForestClassifier, BaggingClassifier\n",
    "from sklearn.naive_bayes import BernoulliNB\n",
    "from sklearn.discriminant_analysis import LinearDiscriminantAnalysis\n",
    "from sklearn.feature_selection import RFE"
   ]
  },
  {
   "cell_type": "code",
   "execution_count": 3,
   "metadata": {},
   "outputs": [
    {
     "data": {
      "text/html": [
       "<div>\n",
       "<style>\n",
       "    .dataframe thead tr:only-child th {\n",
       "        text-align: right;\n",
       "    }\n",
       "\n",
       "    .dataframe thead th {\n",
       "        text-align: left;\n",
       "    }\n",
       "\n",
       "    .dataframe tbody tr th {\n",
       "        vertical-align: top;\n",
       "    }\n",
       "</style>\n",
       "<table border=\"1\" class=\"dataframe\">\n",
       "  <thead>\n",
       "    <tr style=\"text-align: right;\">\n",
       "      <th></th>\n",
       "      <th>Year</th>\n",
       "      <th>Month</th>\n",
       "      <th>DayofMonth</th>\n",
       "      <th>DayOfWeek</th>\n",
       "      <th>DepTime</th>\n",
       "      <th>CRSDepTime</th>\n",
       "      <th>ArrTime</th>\n",
       "      <th>CRSArrTime</th>\n",
       "      <th>UniqueCarrier</th>\n",
       "      <th>FlightNum</th>\n",
       "      <th>...</th>\n",
       "      <th>TaxiIn</th>\n",
       "      <th>TaxiOut</th>\n",
       "      <th>Cancelled</th>\n",
       "      <th>CancellationCode</th>\n",
       "      <th>Diverted</th>\n",
       "      <th>CarrierDelay</th>\n",
       "      <th>WeatherDelay</th>\n",
       "      <th>NASDelay</th>\n",
       "      <th>SecurityDelay</th>\n",
       "      <th>LateAircraftDelay</th>\n",
       "    </tr>\n",
       "  </thead>\n",
       "  <tbody>\n",
       "    <tr>\n",
       "      <th>0</th>\n",
       "      <td>2008</td>\n",
       "      <td>1</td>\n",
       "      <td>3</td>\n",
       "      <td>4</td>\n",
       "      <td>2003.0</td>\n",
       "      <td>1955</td>\n",
       "      <td>2211.0</td>\n",
       "      <td>2225</td>\n",
       "      <td>WN</td>\n",
       "      <td>335</td>\n",
       "      <td>...</td>\n",
       "      <td>4.0</td>\n",
       "      <td>8.0</td>\n",
       "      <td>0</td>\n",
       "      <td>NaN</td>\n",
       "      <td>0</td>\n",
       "      <td>NaN</td>\n",
       "      <td>NaN</td>\n",
       "      <td>NaN</td>\n",
       "      <td>NaN</td>\n",
       "      <td>NaN</td>\n",
       "    </tr>\n",
       "    <tr>\n",
       "      <th>1</th>\n",
       "      <td>2008</td>\n",
       "      <td>1</td>\n",
       "      <td>3</td>\n",
       "      <td>4</td>\n",
       "      <td>754.0</td>\n",
       "      <td>735</td>\n",
       "      <td>1002.0</td>\n",
       "      <td>1000</td>\n",
       "      <td>WN</td>\n",
       "      <td>3231</td>\n",
       "      <td>...</td>\n",
       "      <td>5.0</td>\n",
       "      <td>10.0</td>\n",
       "      <td>0</td>\n",
       "      <td>NaN</td>\n",
       "      <td>0</td>\n",
       "      <td>NaN</td>\n",
       "      <td>NaN</td>\n",
       "      <td>NaN</td>\n",
       "      <td>NaN</td>\n",
       "      <td>NaN</td>\n",
       "    </tr>\n",
       "    <tr>\n",
       "      <th>2</th>\n",
       "      <td>2008</td>\n",
       "      <td>1</td>\n",
       "      <td>3</td>\n",
       "      <td>4</td>\n",
       "      <td>628.0</td>\n",
       "      <td>620</td>\n",
       "      <td>804.0</td>\n",
       "      <td>750</td>\n",
       "      <td>WN</td>\n",
       "      <td>448</td>\n",
       "      <td>...</td>\n",
       "      <td>3.0</td>\n",
       "      <td>17.0</td>\n",
       "      <td>0</td>\n",
       "      <td>NaN</td>\n",
       "      <td>0</td>\n",
       "      <td>NaN</td>\n",
       "      <td>NaN</td>\n",
       "      <td>NaN</td>\n",
       "      <td>NaN</td>\n",
       "      <td>NaN</td>\n",
       "    </tr>\n",
       "    <tr>\n",
       "      <th>3</th>\n",
       "      <td>2008</td>\n",
       "      <td>1</td>\n",
       "      <td>3</td>\n",
       "      <td>4</td>\n",
       "      <td>926.0</td>\n",
       "      <td>930</td>\n",
       "      <td>1054.0</td>\n",
       "      <td>1100</td>\n",
       "      <td>WN</td>\n",
       "      <td>1746</td>\n",
       "      <td>...</td>\n",
       "      <td>3.0</td>\n",
       "      <td>7.0</td>\n",
       "      <td>0</td>\n",
       "      <td>NaN</td>\n",
       "      <td>0</td>\n",
       "      <td>NaN</td>\n",
       "      <td>NaN</td>\n",
       "      <td>NaN</td>\n",
       "      <td>NaN</td>\n",
       "      <td>NaN</td>\n",
       "    </tr>\n",
       "    <tr>\n",
       "      <th>4</th>\n",
       "      <td>2008</td>\n",
       "      <td>1</td>\n",
       "      <td>3</td>\n",
       "      <td>4</td>\n",
       "      <td>1829.0</td>\n",
       "      <td>1755</td>\n",
       "      <td>1959.0</td>\n",
       "      <td>1925</td>\n",
       "      <td>WN</td>\n",
       "      <td>3920</td>\n",
       "      <td>...</td>\n",
       "      <td>3.0</td>\n",
       "      <td>10.0</td>\n",
       "      <td>0</td>\n",
       "      <td>NaN</td>\n",
       "      <td>0</td>\n",
       "      <td>2.0</td>\n",
       "      <td>0.0</td>\n",
       "      <td>0.0</td>\n",
       "      <td>0.0</td>\n",
       "      <td>32.0</td>\n",
       "    </tr>\n",
       "  </tbody>\n",
       "</table>\n",
       "<p>5 rows × 29 columns</p>\n",
       "</div>"
      ],
      "text/plain": [
       "   Year  Month  DayofMonth  DayOfWeek  DepTime  CRSDepTime  ArrTime  \\\n",
       "0  2008      1           3          4   2003.0        1955   2211.0   \n",
       "1  2008      1           3          4    754.0         735   1002.0   \n",
       "2  2008      1           3          4    628.0         620    804.0   \n",
       "3  2008      1           3          4    926.0         930   1054.0   \n",
       "4  2008      1           3          4   1829.0        1755   1959.0   \n",
       "\n",
       "   CRSArrTime UniqueCarrier  FlightNum        ...         TaxiIn  TaxiOut  \\\n",
       "0        2225            WN        335        ...            4.0      8.0   \n",
       "1        1000            WN       3231        ...            5.0     10.0   \n",
       "2         750            WN        448        ...            3.0     17.0   \n",
       "3        1100            WN       1746        ...            3.0      7.0   \n",
       "4        1925            WN       3920        ...            3.0     10.0   \n",
       "\n",
       "   Cancelled  CancellationCode  Diverted  CarrierDelay WeatherDelay NASDelay  \\\n",
       "0          0               NaN         0           NaN          NaN      NaN   \n",
       "1          0               NaN         0           NaN          NaN      NaN   \n",
       "2          0               NaN         0           NaN          NaN      NaN   \n",
       "3          0               NaN         0           NaN          NaN      NaN   \n",
       "4          0               NaN         0           2.0          0.0      0.0   \n",
       "\n",
       "   SecurityDelay  LateAircraftDelay  \n",
       "0            NaN                NaN  \n",
       "1            NaN                NaN  \n",
       "2            NaN                NaN  \n",
       "3            NaN                NaN  \n",
       "4            0.0               32.0  \n",
       "\n",
       "[5 rows x 29 columns]"
      ]
     },
     "execution_count": 3,
     "metadata": {},
     "output_type": "execute_result"
    }
   ],
   "source": [
    "# Read and import data\n",
    "airlines = pd.read_csv('Airlines 2008.csv')\n",
    "airlines.head()"
   ]
  },
  {
   "cell_type": "code",
   "execution_count": 4,
   "metadata": {
    "collapsed": true
   },
   "outputs": [],
   "source": [
    "#Change the ArrDelay variable into a categorical variable\n",
    "airlines.loc[airlines['ArrDelay'] <= 30, 'ArrDelay'] = 0\n",
    "airlines.loc[airlines['ArrDelay'] > 30, 'ArrDelay'] = 1"
   ]
  },
  {
   "cell_type": "code",
   "execution_count": 5,
   "metadata": {},
   "outputs": [
    {
     "data": {
      "text/plain": [
       "7009728"
      ]
     },
     "execution_count": 5,
     "metadata": {},
     "output_type": "execute_result"
    }
   ],
   "source": [
    "#Check length of the dataset\n",
    "len(airlines)"
   ]
  },
  {
   "cell_type": "code",
   "execution_count": 6,
   "metadata": {},
   "outputs": [
    {
     "name": "stdout",
     "output_type": "stream",
     "text": [
      "<class 'pandas.core.frame.DataFrame'>\n",
      "RangeIndex: 7009728 entries, 0 to 7009727\n",
      "Data columns (total 29 columns):\n",
      "Year                 int64\n",
      "Month                int64\n",
      "DayofMonth           int64\n",
      "DayOfWeek            int64\n",
      "DepTime              float64\n",
      "CRSDepTime           int64\n",
      "ArrTime              float64\n",
      "CRSArrTime           int64\n",
      "UniqueCarrier        object\n",
      "FlightNum            int64\n",
      "TailNum              object\n",
      "ActualElapsedTime    float64\n",
      "CRSElapsedTime       float64\n",
      "AirTime              float64\n",
      "ArrDelay             float64\n",
      "DepDelay             float64\n",
      "Origin               object\n",
      "Dest                 object\n",
      "Distance             int64\n",
      "TaxiIn               float64\n",
      "TaxiOut              float64\n",
      "Cancelled            int64\n",
      "CancellationCode     object\n",
      "Diverted             int64\n",
      "CarrierDelay         float64\n",
      "WeatherDelay         float64\n",
      "NASDelay             float64\n",
      "SecurityDelay        float64\n",
      "LateAircraftDelay    float64\n",
      "dtypes: float64(14), int64(10), object(5)\n",
      "memory usage: 1.5+ GB\n"
     ]
    }
   ],
   "source": [
    "#Type of info per column of the dataset\n",
    "airlines.info()"
   ]
  },
  {
   "cell_type": "code",
   "execution_count": 7,
   "metadata": {},
   "outputs": [
    {
     "name": "stdout",
     "output_type": "stream",
     "text": [
      "Year                 0\n",
      "Month                0\n",
      "DayofMonth           0\n",
      "DayOfWeek            0\n",
      "DepTime              0\n",
      "CRSDepTime           0\n",
      "ArrTime              0\n",
      "CRSArrTime           0\n",
      "UniqueCarrier        0\n",
      "FlightNum            0\n",
      "TailNum              0\n",
      "ActualElapsedTime    0\n",
      "CRSElapsedTime       0\n",
      "AirTime              0\n",
      "ArrDelay             0\n",
      "DepDelay             0\n",
      "Origin               0\n",
      "Dest                 0\n",
      "Distance             0\n",
      "TaxiIn               0\n",
      "TaxiOut              0\n",
      "Cancelled            0\n",
      "CancellationCode     0\n",
      "Diverted             0\n",
      "CarrierDelay         0\n",
      "WeatherDelay         0\n",
      "NASDelay             0\n",
      "SecurityDelay        0\n",
      "LateAircraftDelay    0\n",
      "dtype: int64\n",
      "<class 'pandas.core.frame.DataFrame'>\n",
      "RangeIndex: 7009728 entries, 0 to 7009727\n",
      "Data columns (total 29 columns):\n",
      "Year                 int64\n",
      "Month                int64\n",
      "DayofMonth           int64\n",
      "DayOfWeek            int64\n",
      "DepTime              float64\n",
      "CRSDepTime           int64\n",
      "ArrTime              float64\n",
      "CRSArrTime           int64\n",
      "UniqueCarrier        object\n",
      "FlightNum            int64\n",
      "TailNum              object\n",
      "ActualElapsedTime    float64\n",
      "CRSElapsedTime       float64\n",
      "AirTime              float64\n",
      "ArrDelay             float64\n",
      "DepDelay             float64\n",
      "Origin               object\n",
      "Dest                 object\n",
      "Distance             int64\n",
      "TaxiIn               float64\n",
      "TaxiOut              float64\n",
      "Cancelled            int64\n",
      "CancellationCode     object\n",
      "Diverted             int64\n",
      "CarrierDelay         float64\n",
      "WeatherDelay         float64\n",
      "NASDelay             float64\n",
      "SecurityDelay        float64\n",
      "LateAircraftDelay    float64\n",
      "dtypes: float64(14), int64(10), object(5)\n",
      "memory usage: 1.5+ GB\n",
      "None\n"
     ]
    }
   ],
   "source": [
    "#Substitute infinity and Nan values by Zeros and check that no Nans are left\n",
    "airlines = airlines.replace([np.inf, -np.inf], np.nan)\n",
    "airlines = airlines.fillna(0)   \n",
    "print(airlines.isnull().sum())\n",
    "print(airlines.info())"
   ]
  },
  {
   "cell_type": "code",
   "execution_count": 8,
   "metadata": {
    "collapsed": true
   },
   "outputs": [],
   "source": [
    "#Drop \"object\" type features as they are not going to add information to the model\n",
    "airlines = airlines.drop(airlines[['UniqueCarrier', 'TailNum','Origin','Dest','CancellationCode']],axis=1)"
   ]
  },
  {
   "cell_type": "code",
   "execution_count": 9,
   "metadata": {},
   "outputs": [
    {
     "data": {
      "text/plain": [
       "<matplotlib.axes._subplots.AxesSubplot at 0x2948aae6828>"
      ]
     },
     "execution_count": 9,
     "metadata": {},
     "output_type": "execute_result"
    },
    {
     "data": {
      "image/png": "[encoded data removed]",
      "text/plain": [
       "<matplotlib.figure.Figure at 0x294e5e1e080>"
      ]
     },
     "metadata": {},
     "output_type": "display_data"
    }
   ],
   "source": [
    "# Compute average number of delayed flights per hour\n",
    "airlines['hour'] = airlines['CRSArrTime'].map(lambda x: int(str(int(x)).zfill(4)[:2]))\n",
    "grouped = airlines[['ArrDelay', 'hour' ]].groupby('hour').mean()\n",
    "\n",
    "# plot average delays by hour\n",
    "grouped.plot(kind='bar')"
   ]
  },
  {
   "cell_type": "code",
   "execution_count": 10,
   "metadata": {},
   "outputs": [
    {
     "data": {
      "text/plain": [
       "<matplotlib.axes._subplots.AxesSubplot at 0x29489ef2a58>"
      ]
     },
     "execution_count": 10,
     "metadata": {},
     "output_type": "execute_result"
    },
    {
     "data": {
      "image/png": "[encoded data removed]",
      "text/plain": [
       "<matplotlib.figure.Figure at 0x295254eb9b0>"
      ]
     },
     "metadata": {},
     "output_type": "display_data"
    }
   ],
   "source": [
    "# Compute average number of delayed flights per day of the month\n",
    "grouped = airlines[['ArrDelay', 'DayOfWeek']].groupby('DayOfWeek').mean()\n",
    "\n",
    "# plot average delays by day of the month\n",
    "grouped.plot(kind='bar')"
   ]
  },
  {
   "cell_type": "code",
   "execution_count": 11,
   "metadata": {},
   "outputs": [
    {
     "data": {
      "text/plain": [
       "<matplotlib.axes._subplots.AxesSubplot at 0x2948a4203c8>"
      ]
     },
     "execution_count": 11,
     "metadata": {},
     "output_type": "execute_result"
    },
    {
     "data": {
      "image/png": "[encoded data removed]",
      "text/plain": [
       "<matplotlib.figure.Figure at 0x2948a42c160>"
      ]
     },
     "metadata": {},
     "output_type": "display_data"
    }
   ],
   "source": [
    "# Compute average number of delayed flights per day\n",
    "grouped = airlines[['ArrDelay', 'DayofMonth']].groupby('DayofMonth').mean()\n",
    "\n",
    "# plot average delays by day\n",
    "grouped.plot(kind='bar')"
   ]
  },
  {
   "cell_type": "code",
   "execution_count": 12,
   "metadata": {},
   "outputs": [
    {
     "data": {
      "text/plain": [
       "<matplotlib.axes._subplots.AxesSubplot at 0x2948a7e5160>"
      ]
     },
     "execution_count": 12,
     "metadata": {},
     "output_type": "execute_result"
    },
    {
     "data": {
      "image/png": "[encoded data removed]",
      "text/plain": [
       "<matplotlib.figure.Figure at 0x2948a7ed2b0>"
      ]
     },
     "metadata": {},
     "output_type": "display_data"
    }
   ],
   "source": [
    "# Compute average number of delayed flights per month\n",
    "grouped = airlines[['ArrDelay', 'Month']].groupby('Month').mean()\n",
    "\n",
    "# plot average delays by month\n",
    "grouped.plot(kind='bar')"
   ]
  },
  {
   "cell_type": "code",
   "execution_count": 13,
   "metadata": {},
   "outputs": [
    {
     "data": {
      "text/html": [
       "<div>\n",
       "<style>\n",
       "    .dataframe thead tr:only-child th {\n",
       "        text-align: right;\n",
       "    }\n",
       "\n",
       "    .dataframe thead th {\n",
       "        text-align: left;\n",
       "    }\n",
       "\n",
       "    .dataframe tbody tr th {\n",
       "        vertical-align: top;\n",
       "    }\n",
       "</style>\n",
       "<table border=\"1\" class=\"dataframe\">\n",
       "  <thead>\n",
       "    <tr style=\"text-align: right;\">\n",
       "      <th></th>\n",
       "      <th>Year</th>\n",
       "      <th>Month</th>\n",
       "      <th>DayofMonth</th>\n",
       "      <th>DayOfWeek</th>\n",
       "      <th>DepTime</th>\n",
       "      <th>CRSDepTime</th>\n",
       "      <th>ArrTime</th>\n",
       "      <th>CRSArrTime</th>\n",
       "      <th>FlightNum</th>\n",
       "      <th>ActualElapsedTime</th>\n",
       "      <th>...</th>\n",
       "      <th>TaxiIn</th>\n",
       "      <th>TaxiOut</th>\n",
       "      <th>Cancelled</th>\n",
       "      <th>Diverted</th>\n",
       "      <th>CarrierDelay</th>\n",
       "      <th>WeatherDelay</th>\n",
       "      <th>NASDelay</th>\n",
       "      <th>SecurityDelay</th>\n",
       "      <th>LateAircraftDelay</th>\n",
       "      <th>hour</th>\n",
       "    </tr>\n",
       "  </thead>\n",
       "  <tbody>\n",
       "    <tr>\n",
       "      <th>0</th>\n",
       "      <td>0.0</td>\n",
       "      <td>-1.577794</td>\n",
       "      <td>-1.446848</td>\n",
       "      <td>0.038133</td>\n",
       "      <td>1.368427</td>\n",
       "      <td>1.354686</td>\n",
       "      <td>1.399788</td>\n",
       "      <td>1.512824</td>\n",
       "      <td>-0.963035</td>\n",
       "      <td>0.048515</td>\n",
       "      <td>...</td>\n",
       "      <td>-0.544551</td>\n",
       "      <td>-0.710139</td>\n",
       "      <td>-0.141415</td>\n",
       "      <td>-0.04969</td>\n",
       "      <td>-0.173255</td>\n",
       "      <td>-0.071994</td>\n",
       "      <td>-0.226623</td>\n",
       "      <td>-0.019013</td>\n",
       "      <td>-0.223486</td>\n",
       "      <td>1.520908</td>\n",
       "    </tr>\n",
       "    <tr>\n",
       "      <th>1</th>\n",
       "      <td>0.0</td>\n",
       "      <td>-1.577794</td>\n",
       "      <td>-1.446848</td>\n",
       "      <td>0.038133</td>\n",
       "      <td>-1.090467</td>\n",
       "      <td>-1.273203</td>\n",
       "      <td>-0.821755</td>\n",
       "      <td>-1.025128</td>\n",
       "      <td>0.513224</td>\n",
       "      <td>0.048515</td>\n",
       "      <td>...</td>\n",
       "      <td>-0.343789</td>\n",
       "      <td>-0.535472</td>\n",
       "      <td>-0.141415</td>\n",
       "      <td>-0.04969</td>\n",
       "      <td>-0.173255</td>\n",
       "      <td>-0.071994</td>\n",
       "      <td>-0.226623</td>\n",
       "      <td>-0.019013</td>\n",
       "      <td>-0.223486</td>\n",
       "      <td>-0.965033</td>\n",
       "    </tr>\n",
       "    <tr>\n",
       "      <th>2</th>\n",
       "      <td>0.0</td>\n",
       "      <td>-1.577794</td>\n",
       "      <td>-1.446848</td>\n",
       "      <td>0.038133</td>\n",
       "      <td>-1.338521</td>\n",
       "      <td>-1.520914</td>\n",
       "      <td>-1.185581</td>\n",
       "      <td>-1.543077</td>\n",
       "      <td>-0.905432</td>\n",
       "      <td>-0.396643</td>\n",
       "      <td>...</td>\n",
       "      <td>-0.745313</td>\n",
       "      <td>0.075863</td>\n",
       "      <td>-0.141415</td>\n",
       "      <td>-0.04969</td>\n",
       "      <td>-0.173255</td>\n",
       "      <td>-0.071994</td>\n",
       "      <td>-0.226623</td>\n",
       "      <td>-0.019013</td>\n",
       "      <td>-0.223486</td>\n",
       "      <td>-1.586519</td>\n",
       "    </tr>\n",
       "    <tr>\n",
       "      <th>3</th>\n",
       "      <td>0.0</td>\n",
       "      <td>-1.577794</td>\n",
       "      <td>-1.446848</td>\n",
       "      <td>0.038133</td>\n",
       "      <td>-0.751852</td>\n",
       "      <td>-0.853172</td>\n",
       "      <td>-0.726205</td>\n",
       "      <td>-0.817948</td>\n",
       "      <td>-0.243766</td>\n",
       "      <td>-0.507932</td>\n",
       "      <td>...</td>\n",
       "      <td>-0.745313</td>\n",
       "      <td>-0.797473</td>\n",
       "      <td>-0.141415</td>\n",
       "      <td>-0.04969</td>\n",
       "      <td>-0.173255</td>\n",
       "      <td>-0.071994</td>\n",
       "      <td>-0.226623</td>\n",
       "      <td>-0.019013</td>\n",
       "      <td>-0.223486</td>\n",
       "      <td>-0.757872</td>\n",
       "    </tr>\n",
       "    <tr>\n",
       "      <th>4</th>\n",
       "      <td>0.0</td>\n",
       "      <td>-1.577794</td>\n",
       "      <td>-1.446848</td>\n",
       "      <td>0.038133</td>\n",
       "      <td>1.025875</td>\n",
       "      <td>0.923885</td>\n",
       "      <td>0.936737</td>\n",
       "      <td>0.891285</td>\n",
       "      <td>0.864447</td>\n",
       "      <td>-0.480110</td>\n",
       "      <td>...</td>\n",
       "      <td>-0.745313</td>\n",
       "      <td>-0.535472</td>\n",
       "      <td>-0.141415</td>\n",
       "      <td>-0.04969</td>\n",
       "      <td>-0.072252</td>\n",
       "      <td>-0.071994</td>\n",
       "      <td>-0.226623</td>\n",
       "      <td>-0.019013</td>\n",
       "      <td>1.359403</td>\n",
       "      <td>0.899423</td>\n",
       "    </tr>\n",
       "  </tbody>\n",
       "</table>\n",
       "<p>5 rows × 24 columns</p>\n",
       "</div>"
      ],
      "text/plain": [
       "   Year     Month  DayofMonth  DayOfWeek   DepTime  CRSDepTime   ArrTime  \\\n",
       "0   0.0 -1.577794   -1.446848   0.038133  1.368427    1.354686  1.399788   \n",
       "1   0.0 -1.577794   -1.446848   0.038133 -1.090467   -1.273203 -0.821755   \n",
       "2   0.0 -1.577794   -1.446848   0.038133 -1.338521   -1.520914 -1.185581   \n",
       "3   0.0 -1.577794   -1.446848   0.038133 -0.751852   -0.853172 -0.726205   \n",
       "4   0.0 -1.577794   -1.446848   0.038133  1.025875    0.923885  0.936737   \n",
       "\n",
       "   CRSArrTime  FlightNum  ActualElapsedTime    ...       TaxiIn   TaxiOut  \\\n",
       "0    1.512824  -0.963035           0.048515    ...    -0.544551 -0.710139   \n",
       "1   -1.025128   0.513224           0.048515    ...    -0.343789 -0.535472   \n",
       "2   -1.543077  -0.905432          -0.396643    ...    -0.745313  0.075863   \n",
       "3   -0.817948  -0.243766          -0.507932    ...    -0.745313 -0.797473   \n",
       "4    0.891285   0.864447          -0.480110    ...    -0.745313 -0.535472   \n",
       "\n",
       "   Cancelled  Diverted  CarrierDelay  WeatherDelay  NASDelay  SecurityDelay  \\\n",
       "0  -0.141415  -0.04969     -0.173255     -0.071994 -0.226623      -0.019013   \n",
       "1  -0.141415  -0.04969     -0.173255     -0.071994 -0.226623      -0.019013   \n",
       "2  -0.141415  -0.04969     -0.173255     -0.071994 -0.226623      -0.019013   \n",
       "3  -0.141415  -0.04969     -0.173255     -0.071994 -0.226623      -0.019013   \n",
       "4  -0.141415  -0.04969     -0.072252     -0.071994 -0.226623      -0.019013   \n",
       "\n",
       "   LateAircraftDelay      hour  \n",
       "0          -0.223486  1.520908  \n",
       "1          -0.223486 -0.965033  \n",
       "2          -0.223486 -1.586519  \n",
       "3          -0.223486 -0.757872  \n",
       "4           1.359403  0.899423  \n",
       "\n",
       "[5 rows x 24 columns]"
      ]
     },
     "execution_count": 13,
     "metadata": {},
     "output_type": "execute_result"
    }
   ],
   "source": [
    "\n",
    "XA= airlines.drop('ArrDelay',axis=1)\n",
    "yA = airlines['ArrDelay']\n",
    "\n",
    "\n",
    "#Preprocess and scale data\n",
    "names = XA.columns\n",
    "XA_scaled = pd.DataFrame(preprocessing.scale(XA), columns = names)\n",
    "summary = XA_scaled.describe()\n",
    "XA_scaled.head()"
   ]
  },
  {
   "cell_type": "code",
   "execution_count": 14,
   "metadata": {},
   "outputs": [
    {
     "data": {
      "image/png": "[encoded data removed]",
      "text/plain": [
       "<matplotlib.figure.Figure at 0x2948a86b780>"
      ]
     },
     "metadata": {},
     "output_type": "display_data"
    }
   ],
   "source": [
    "#Calculate Feature Importance using Random Forest\n",
    "rf = RandomForestClassifier()\n",
    "rf.fit(XA_scaled, yA)\n",
    "\n",
    "#Define feature importance\n",
    "feature_importance8 = rf.feature_importances_\n",
    "\n",
    "# Make importances relative to max importance.\n",
    "feature_importance8 = 100.0 * (feature_importance8 / feature_importance8.max())\n",
    "sorted_idx = np.argsort(feature_importance8)\n",
    "pos = np.arange(sorted_idx.shape[0]) + .5\n",
    "plt.figure(figsize=(7, 30))\n",
    "plt.subplot(1, 1, 1)\n",
    "plt.barh(pos, feature_importance8[sorted_idx], align='center')\n",
    "plt.yticks(pos, XA_scaled.columns[sorted_idx])\n",
    "plt.xlabel('Relative Importance')\n",
    "plt.title('ArrDelay')\n",
    "plt.show()"
   ]
  },
  {
   "cell_type": "code",
   "execution_count": 15,
   "metadata": {},
   "outputs": [
    {
     "name": "stderr",
     "output_type": "stream",
     "text": [
      "D:\\Users\\Borja.gonzalez\\AppData\\Local\\Continuum\\anaconda3\\lib\\site-packages\\sklearn\\feature_selection\\univariate_selection.py:113: UserWarning: Features [0] are constant.\n",
      "  UserWarning)\n",
      "D:\\Users\\Borja.gonzalez\\AppData\\Local\\Continuum\\anaconda3\\lib\\site-packages\\sklearn\\feature_selection\\univariate_selection.py:114: RuntimeWarning: invalid value encountered in true_divide\n",
      "  f = msb / msw\n"
     ]
    },
    {
     "data": {
      "text/html": [
       "<div>\n",
       "<style>\n",
       "    .dataframe thead tr:only-child th {\n",
       "        text-align: right;\n",
       "    }\n",
       "\n",
       "    .dataframe thead th {\n",
       "        text-align: left;\n",
       "    }\n",
       "\n",
       "    .dataframe tbody tr th {\n",
       "        vertical-align: top;\n",
       "    }\n",
       "</style>\n",
       "<table border=\"1\" class=\"dataframe\">\n",
       "  <thead>\n",
       "    <tr style=\"text-align: right;\">\n",
       "      <th></th>\n",
       "      <th>Best Features</th>\n",
       "    </tr>\n",
       "  </thead>\n",
       "  <tbody>\n",
       "    <tr>\n",
       "      <th>DepDelay</th>\n",
       "      <td>6.130577e+06</td>\n",
       "    </tr>\n",
       "    <tr>\n",
       "      <th>LateAircraftDelay</th>\n",
       "      <td>2.423769e+06</td>\n",
       "    </tr>\n",
       "    <tr>\n",
       "      <th>NASDelay</th>\n",
       "      <td>1.663857e+06</td>\n",
       "    </tr>\n",
       "    <tr>\n",
       "      <th>CarrierDelay</th>\n",
       "      <td>1.144760e+06</td>\n",
       "    </tr>\n",
       "    <tr>\n",
       "      <th>TaxiOut</th>\n",
       "      <td>6.582422e+05</td>\n",
       "    </tr>\n",
       "    <tr>\n",
       "      <th>DepTime</th>\n",
       "      <td>2.823716e+05</td>\n",
       "    </tr>\n",
       "    <tr>\n",
       "      <th>WeatherDelay</th>\n",
       "      <td>2.184958e+05</td>\n",
       "    </tr>\n",
       "    <tr>\n",
       "      <th>CRSDepTime</th>\n",
       "      <td>1.223980e+05</td>\n",
       "    </tr>\n",
       "    <tr>\n",
       "      <th>CRSArrTime</th>\n",
       "      <td>1.138275e+05</td>\n",
       "    </tr>\n",
       "    <tr>\n",
       "      <th>hour</th>\n",
       "      <td>1.136526e+05</td>\n",
       "    </tr>\n",
       "    <tr>\n",
       "      <th>ArrTime</th>\n",
       "      <td>8.666795e+04</td>\n",
       "    </tr>\n",
       "    <tr>\n",
       "      <th>ActualElapsedTime</th>\n",
       "      <td>7.763528e+04</td>\n",
       "    </tr>\n",
       "    <tr>\n",
       "      <th>TaxiIn</th>\n",
       "      <td>6.803704e+04</td>\n",
       "    </tr>\n",
       "    <tr>\n",
       "      <th>Cancelled</th>\n",
       "      <td>2.074776e+04</td>\n",
       "    </tr>\n",
       "    <tr>\n",
       "      <th>AirTime</th>\n",
       "      <td>2.011093e+04</td>\n",
       "    </tr>\n",
       "    <tr>\n",
       "      <th>Month</th>\n",
       "      <td>7.824410e+03</td>\n",
       "    </tr>\n",
       "    <tr>\n",
       "      <th>CRSElapsedTime</th>\n",
       "      <td>7.465771e+03</td>\n",
       "    </tr>\n",
       "    <tr>\n",
       "      <th>SecurityDelay</th>\n",
       "      <td>5.748250e+03</td>\n",
       "    </tr>\n",
       "    <tr>\n",
       "      <th>Distance</th>\n",
       "      <td>3.069598e+03</td>\n",
       "    </tr>\n",
       "    <tr>\n",
       "      <th>Diverted</th>\n",
       "      <td>2.554994e+03</td>\n",
       "    </tr>\n",
       "    <tr>\n",
       "      <th>FlightNum</th>\n",
       "      <td>2.066483e+03</td>\n",
       "    </tr>\n",
       "    <tr>\n",
       "      <th>DayOfWeek</th>\n",
       "      <td>8.033896e+02</td>\n",
       "    </tr>\n",
       "    <tr>\n",
       "      <th>DayofMonth</th>\n",
       "      <td>6.143187e-01</td>\n",
       "    </tr>\n",
       "    <tr>\n",
       "      <th>Year</th>\n",
       "      <td>NaN</td>\n",
       "    </tr>\n",
       "  </tbody>\n",
       "</table>\n",
       "</div>"
      ],
      "text/plain": [
       "                   Best Features\n",
       "DepDelay            6.130577e+06\n",
       "LateAircraftDelay   2.423769e+06\n",
       "NASDelay            1.663857e+06\n",
       "CarrierDelay        1.144760e+06\n",
       "TaxiOut             6.582422e+05\n",
       "DepTime             2.823716e+05\n",
       "WeatherDelay        2.184958e+05\n",
       "CRSDepTime          1.223980e+05\n",
       "CRSArrTime          1.138275e+05\n",
       "hour                1.136526e+05\n",
       "ArrTime             8.666795e+04\n",
       "ActualElapsedTime   7.763528e+04\n",
       "TaxiIn              6.803704e+04\n",
       "Cancelled           2.074776e+04\n",
       "AirTime             2.011093e+04\n",
       "Month               7.824410e+03\n",
       "CRSElapsedTime      7.465771e+03\n",
       "SecurityDelay       5.748250e+03\n",
       "Distance            3.069598e+03\n",
       "Diverted            2.554994e+03\n",
       "FlightNum           2.066483e+03\n",
       "DayOfWeek           8.033896e+02\n",
       "DayofMonth          6.143187e-01\n",
       "Year                         NaN"
      ]
     },
     "execution_count": 15,
     "metadata": {},
     "output_type": "execute_result"
    }
   ],
   "source": [
    "#Feature Selection. Scores for the most relevant features (should we start with the one that has more explanatory power)\n",
    "from sklearn.feature_selection import SelectKBest\n",
    "\n",
    "# feature extraction\n",
    "test = SelectKBest()\n",
    "fit = test.fit(XA_scaled, yA)\n",
    "\n",
    "#Identify features with highest score from a predictive perspective (for all programs)\n",
    "names2 = XA_scaled.columns\n",
    "Bestfeatures = pd.DataFrame(fit.scores_, index = names2)\n",
    "Bestfeatures.columns = ['Best Features']\n",
    "Bestfeatures.sort_values(by=['Best Features'], ascending=False)"
   ]
  },
  {
   "cell_type": "code",
   "execution_count": 29,
   "metadata": {},
   "outputs": [],
   "source": [
    "#From Feature selection, we´ll only keep the most meaningful features \n",
    "fs = ['DepDelay','NASDelay','LateAircraftDelay','CarrierDelay','TaxiOut','WeatherDelay']\n",
    "\n",
    "#From Recursive Feature Elimination - considering from Feature selection WeatherDelay only DepTime has been included in the list\n",
    "rfe = ['DepDelay', 'LateAircraftDelay', 'NASDelay', 'CarrierDelay', 'TaxiOut', 'DepTime', 'WeatherDelay']\n",
    "\n",
    "#From Features Selection and PCA analysis (only three features are meaningful+ArrDelay)\n",
    "fps = ['ArrDelay','NASDelay','LateAircraftDelay','CarrierDelay','TaxiOut']\n",
    "\n",
    "#Set up the new dataset based on the meaningful features\n",
    "airlines2=airlines[fps]"
   ]
  },
  {
   "cell_type": "code",
   "execution_count": 30,
   "metadata": {},
   "outputs": [
    {
     "data": {
      "text/html": [
       "<div>\n",
       "<style>\n",
       "    .dataframe thead tr:only-child th {\n",
       "        text-align: right;\n",
       "    }\n",
       "\n",
       "    .dataframe thead th {\n",
       "        text-align: left;\n",
       "    }\n",
       "\n",
       "    .dataframe tbody tr th {\n",
       "        vertical-align: top;\n",
       "    }\n",
       "</style>\n",
       "<table border=\"1\" class=\"dataframe\">\n",
       "  <thead>\n",
       "    <tr style=\"text-align: right;\">\n",
       "      <th></th>\n",
       "      <th>ArrDelay</th>\n",
       "      <th>NASDelay</th>\n",
       "      <th>LateAircraftDelay</th>\n",
       "      <th>CarrierDelay</th>\n",
       "      <th>TaxiOut</th>\n",
       "    </tr>\n",
       "  </thead>\n",
       "  <tbody>\n",
       "    <tr>\n",
       "      <th>0</th>\n",
       "      <td>0.0</td>\n",
       "      <td>0.0</td>\n",
       "      <td>0.0</td>\n",
       "      <td>0.0</td>\n",
       "      <td>8.0</td>\n",
       "    </tr>\n",
       "    <tr>\n",
       "      <th>1</th>\n",
       "      <td>0.0</td>\n",
       "      <td>0.0</td>\n",
       "      <td>0.0</td>\n",
       "      <td>0.0</td>\n",
       "      <td>10.0</td>\n",
       "    </tr>\n",
       "    <tr>\n",
       "      <th>2</th>\n",
       "      <td>0.0</td>\n",
       "      <td>0.0</td>\n",
       "      <td>0.0</td>\n",
       "      <td>0.0</td>\n",
       "      <td>17.0</td>\n",
       "    </tr>\n",
       "    <tr>\n",
       "      <th>3</th>\n",
       "      <td>0.0</td>\n",
       "      <td>0.0</td>\n",
       "      <td>0.0</td>\n",
       "      <td>0.0</td>\n",
       "      <td>7.0</td>\n",
       "    </tr>\n",
       "    <tr>\n",
       "      <th>4</th>\n",
       "      <td>1.0</td>\n",
       "      <td>0.0</td>\n",
       "      <td>32.0</td>\n",
       "      <td>2.0</td>\n",
       "      <td>10.0</td>\n",
       "    </tr>\n",
       "  </tbody>\n",
       "</table>\n",
       "</div>"
      ],
      "text/plain": [
       "   ArrDelay  NASDelay  LateAircraftDelay  CarrierDelay  TaxiOut\n",
       "0       0.0       0.0                0.0           0.0      8.0\n",
       "1       0.0       0.0                0.0           0.0     10.0\n",
       "2       0.0       0.0                0.0           0.0     17.0\n",
       "3       0.0       0.0                0.0           0.0      7.0\n",
       "4       1.0       0.0               32.0           2.0     10.0"
      ]
     },
     "execution_count": 30,
     "metadata": {},
     "output_type": "execute_result"
    }
   ],
   "source": [
    "#Check the new dataset\n",
    "airlines2.head()"
   ]
  },
  {
   "cell_type": "code",
   "execution_count": 31,
   "metadata": {},
   "outputs": [
    {
     "data": {
      "text/plain": [
       "0.0    6108330\n",
       "1.0     901398\n",
       "Name: ArrDelay, dtype: int64"
      ]
     },
     "execution_count": 31,
     "metadata": {},
     "output_type": "execute_result"
    }
   ],
   "source": [
    "#Count number of datapoints for ArrDelay\n",
    "airlines2['ArrDelay'].value_counts()"
   ]
  },
  {
   "cell_type": "code",
   "execution_count": 32,
   "metadata": {},
   "outputs": [
    {
     "data": {
      "text/plain": [
       "1.0    901398\n",
       "0.0    901398\n",
       "Name: ArrDelay, dtype: int64"
      ]
     },
     "execution_count": 32,
     "metadata": {},
     "output_type": "execute_result"
    }
   ],
   "source": [
    "#Downsample majority class (due to computational restrictions we downsample the majority instead of upsampling the minority)\n",
    "\n",
    "# Separate majority and minority classes\n",
    "airlines_majority = airlines2[airlines2.ArrDelay==0]\n",
    "airlines_minority = airlines2[airlines2.ArrDelay==1]\n",
    " \n",
    "# Downsample airlines majority\n",
    "airlines_majority_downsampled = resample(airlines_majority, replace=False, n_samples=901398, random_state=123) \n",
    " \n",
    "# Combine minority class with downsampled majority class\n",
    "airlines_downsampled = pd.concat([airlines_majority_downsampled, airlines_minority])\n",
    " \n",
    "# Display new class counts\n",
    "airlines_downsampled.ArrDelay.value_counts()"
   ]
  },
  {
   "cell_type": "code",
   "execution_count": 33,
   "metadata": {},
   "outputs": [
    {
     "data": {
      "text/html": [
       "<div>\n",
       "<style>\n",
       "    .dataframe thead tr:only-child th {\n",
       "        text-align: right;\n",
       "    }\n",
       "\n",
       "    .dataframe thead th {\n",
       "        text-align: left;\n",
       "    }\n",
       "\n",
       "    .dataframe tbody tr th {\n",
       "        vertical-align: top;\n",
       "    }\n",
       "</style>\n",
       "<table border=\"1\" class=\"dataframe\">\n",
       "  <thead>\n",
       "    <tr style=\"text-align: right;\">\n",
       "      <th></th>\n",
       "      <th>NASDelay</th>\n",
       "      <th>LateAircraftDelay</th>\n",
       "      <th>CarrierDelay</th>\n",
       "      <th>TaxiOut</th>\n",
       "    </tr>\n",
       "  </thead>\n",
       "  <tbody>\n",
       "    <tr>\n",
       "      <th>count</th>\n",
       "      <td>1.802796e+06</td>\n",
       "      <td>1.802796e+06</td>\n",
       "      <td>1.802796e+06</td>\n",
       "      <td>1.802796e+06</td>\n",
       "    </tr>\n",
       "    <tr>\n",
       "      <th>mean</th>\n",
       "      <td>-2.033507e-12</td>\n",
       "      <td>3.680095e-12</td>\n",
       "      <td>3.222554e-12</td>\n",
       "      <td>2.195154e-13</td>\n",
       "    </tr>\n",
       "    <tr>\n",
       "      <th>std</th>\n",
       "      <td>1.000000e+00</td>\n",
       "      <td>1.000000e+00</td>\n",
       "      <td>1.000000e+00</td>\n",
       "      <td>1.000000e+00</td>\n",
       "    </tr>\n",
       "    <tr>\n",
       "      <th>min</th>\n",
       "      <td>-3.872791e-01</td>\n",
       "      <td>-4.269176e-01</td>\n",
       "      <td>-3.112424e-01</td>\n",
       "      <td>-1.143078e+00</td>\n",
       "    </tr>\n",
       "    <tr>\n",
       "      <th>25%</th>\n",
       "      <td>-3.872791e-01</td>\n",
       "      <td>-4.269176e-01</td>\n",
       "      <td>-3.112424e-01</td>\n",
       "      <td>-5.097678e-01</td>\n",
       "    </tr>\n",
       "    <tr>\n",
       "      <th>50%</th>\n",
       "      <td>-3.872791e-01</td>\n",
       "      <td>-4.269176e-01</td>\n",
       "      <td>-3.112424e-01</td>\n",
       "      <td>-2.794733e-01</td>\n",
       "    </tr>\n",
       "    <tr>\n",
       "      <th>75%</th>\n",
       "      <td>-1.233784e-01</td>\n",
       "      <td>-1.043743e-01</td>\n",
       "      <td>-3.112424e-01</td>\n",
       "      <td>1.235420e-01</td>\n",
       "    </tr>\n",
       "    <tr>\n",
       "      <th>max</th>\n",
       "      <td>4.437687e+01</td>\n",
       "      <td>3.494533e+01</td>\n",
       "      <td>6.470832e+01</td>\n",
       "      <td>2.355600e+01</td>\n",
       "    </tr>\n",
       "  </tbody>\n",
       "</table>\n",
       "</div>"
      ],
      "text/plain": [
       "           NASDelay  LateAircraftDelay  CarrierDelay       TaxiOut\n",
       "count  1.802796e+06       1.802796e+06  1.802796e+06  1.802796e+06\n",
       "mean  -2.033507e-12       3.680095e-12  3.222554e-12  2.195154e-13\n",
       "std    1.000000e+00       1.000000e+00  1.000000e+00  1.000000e+00\n",
       "min   -3.872791e-01      -4.269176e-01 -3.112424e-01 -1.143078e+00\n",
       "25%   -3.872791e-01      -4.269176e-01 -3.112424e-01 -5.097678e-01\n",
       "50%   -3.872791e-01      -4.269176e-01 -3.112424e-01 -2.794733e-01\n",
       "75%   -1.233784e-01      -1.043743e-01 -3.112424e-01  1.235420e-01\n",
       "max    4.437687e+01       3.494533e+01  6.470832e+01  2.355600e+01"
      ]
     },
     "execution_count": 33,
     "metadata": {},
     "output_type": "execute_result"
    }
   ],
   "source": [
    "#Preprocess and scale data to fit into the models\n",
    "airlines_downsampled2=airlines_downsampled.drop('ArrDelay',axis=1)\n",
    "\n",
    "names = airlines_downsampled2.columns\n",
    "X2 = pd.DataFrame(preprocessing.scale(airlines_downsampled2), columns = names)\n",
    "X2.describe()"
   ]
  },
  {
   "cell_type": "code",
   "execution_count": 34,
   "metadata": {},
   "outputs": [],
   "source": [
    "#Define Outcome & Predictors\n",
    "\n",
    "y = airlines_downsampled['ArrDelay']\n",
    "X2 = airlines_downsampled2\n",
    "\n",
    "#Split into test and train sets\n",
    "X_train, X_test, y_train, y_test = train_test_split(X2, y, test_size=0.3, random_state=42)\n",
    "\n",
    "#KFold for cross validation analysis\n",
    "kf = KFold(5)"
   ]
  },
  {
   "cell_type": "markdown",
   "metadata": {
    "collapsed": true
   },
   "source": [
    "***PCA Analysis***"
   ]
  },
  {
   "cell_type": "code",
   "execution_count": 35,
   "metadata": {
    "collapsed": true
   },
   "outputs": [],
   "source": [
    "# Build up the correlation mtrix\n",
    "Z = X2\n",
    "correlation_matrix = Z.corr()"
   ]
  },
  {
   "cell_type": "code",
   "execution_count": 36,
   "metadata": {},
   "outputs": [
    {
     "name": "stdout",
     "output_type": "stream",
     "text": [
      "Eigenvector 1: \n",
      "[[ 0.70678189]\n",
      " [ 0.05769545]\n",
      " [ 0.08956076]\n",
      " [-0.69936361]]\n",
      "Eigenvalue 1: 0.5045882148054732\n",
      "----------------------------------------\n",
      "Eigenvector 2: \n",
      "[[ 0.70728803]\n",
      " [-0.05544325]\n",
      " [-0.0696255 ]\n",
      " [ 0.7013002 ]]\n",
      "Eigenvalue 2: 1.494707745197884\n",
      "----------------------------------------\n",
      "Eigenvector 3: \n",
      "[[ 0.01110481]\n",
      " [-0.7062395 ]\n",
      " [-0.69469815]\n",
      " [-0.1360034 ]]\n",
      "Eigenvalue 3: 0.9443270992113003\n",
      "----------------------------------------\n",
      "Eigenvector 4: \n",
      "[[ 0.00892603]\n",
      " [ 0.7034366 ]\n",
      " [-0.71029968]\n",
      " [-0.02390907]]\n",
      "Eigenvalue 4: 1.0563769407853416\n",
      "----------------------------------------\n",
      "The percentage of total variance in the dataset explained by each component from Sklearn PCA.\n",
      " [  5.49751227e-01   3.65191065e-01   8.50577081e-02   1.59576453e-33]\n"
     ]
    }
   ],
   "source": [
    "#Eigenvectores & Eigenvalues\n",
    "\n",
    "eig_vals, eig_vecs = np.linalg.eig(correlation_matrix)\n",
    "\n",
    "# Inspecting the eigenvalues and eigenvectors.\n",
    "for i in range(len(eig_vals)):\n",
    "    eigvecs = eig_vecs[:, i].reshape(1, len(Z.columns)).T\n",
    "    print('Eigenvector {}: \\n{}'.format(i + 1, eigvecs))\n",
    "    print('Eigenvalue {}: {}'.format(i + 1, eig_vals[i]))\n",
    "    print(40 * '-')\n",
    "\n",
    "\n",
    "sklearn_pca = PCA(n_components=len(Z.columns))\n",
    "Y_sklearn = sklearn_pca.fit_transform(correlation_matrix)\n",
    "\n",
    "print(\n",
    "    'The percentage of total variance in the dataset explained by each',\n",
    "    'component from Sklearn PCA.\\n',\n",
    "    sklearn_pca.explained_variance_ratio_\n",
    ")"
   ]
  },
  {
   "cell_type": "code",
   "execution_count": 41,
   "metadata": {},
   "outputs": [
    {
     "data": {
      "text/html": [
       "<div>\n",
       "<style>\n",
       "    .dataframe thead tr:only-child th {\n",
       "        text-align: right;\n",
       "    }\n",
       "\n",
       "    .dataframe thead th {\n",
       "        text-align: left;\n",
       "    }\n",
       "\n",
       "    .dataframe tbody tr th {\n",
       "        vertical-align: top;\n",
       "    }\n",
       "</style>\n",
       "<table border=\"1\" class=\"dataframe\">\n",
       "  <thead>\n",
       "    <tr style=\"text-align: right;\">\n",
       "      <th></th>\n",
       "      <th>0</th>\n",
       "      <th>1</th>\n",
       "      <th>2</th>\n",
       "    </tr>\n",
       "  </thead>\n",
       "  <tbody>\n",
       "    <tr>\n",
       "      <th>0</th>\n",
       "      <td>-0.586078</td>\n",
       "      <td>0.070503</td>\n",
       "      <td>-0.582755</td>\n",
       "    </tr>\n",
       "    <tr>\n",
       "      <th>1</th>\n",
       "      <td>0.122815</td>\n",
       "      <td>0.072873</td>\n",
       "      <td>-0.543100</td>\n",
       "    </tr>\n",
       "    <tr>\n",
       "      <th>2</th>\n",
       "      <td>-0.586078</td>\n",
       "      <td>0.070503</td>\n",
       "      <td>-0.582755</td>\n",
       "    </tr>\n",
       "    <tr>\n",
       "      <th>3</th>\n",
       "      <td>-0.545702</td>\n",
       "      <td>0.071879</td>\n",
       "      <td>-0.574925</td>\n",
       "    </tr>\n",
       "    <tr>\n",
       "      <th>4</th>\n",
       "      <td>-0.707207</td>\n",
       "      <td>0.066373</td>\n",
       "      <td>-0.606246</td>\n",
       "    </tr>\n",
       "  </tbody>\n",
       "</table>\n",
       "</div>"
      ],
      "text/plain": [
       "          0         1         2\n",
       "0 -0.586078  0.070503 -0.582755\n",
       "1  0.122815  0.072873 -0.543100\n",
       "2 -0.586078  0.070503 -0.582755\n",
       "3 -0.545702  0.071879 -0.574925\n",
       "4 -0.707207  0.066373 -0.606246"
      ]
     },
     "execution_count": 41,
     "metadata": {},
     "output_type": "execute_result"
    }
   ],
   "source": [
    "#PCA Analysis\n",
    "\n",
    "# Create a scaler object\n",
    "sc = StandardScaler()\n",
    "\n",
    "# Fit the scaler to the features and transform\n",
    "X_std = sc.fit_transform(X2)\n",
    "\n",
    "# Create a PCA object\n",
    "pca = decomposition.PCA(n_components=3)\n",
    "\n",
    "# Fit the PCA and transform the data\n",
    "X_std_pca = pca.fit_transform(X_std)\n",
    "\n",
    "# View the new feature data's shape\n",
    "X_std_pca.shape\n",
    "\n",
    "# Create a new dataframe with the new features\n",
    "\n",
    "XPCA = pd.DataFrame(X_std_pca)\n",
    "XPCA.head()\n"
   ]
  },
  {
   "cell_type": "markdown",
   "metadata": {},
   "source": [
    "***Logistic Regression***"
   ]
  },
  {
   "cell_type": "code",
   "execution_count": 42,
   "metadata": {
    "collapsed": true
   },
   "outputs": [],
   "source": [
    "# Initialize and fit the model.\n",
    "lr = LogisticRegression()\n",
    "fittrain = lr.fit(X_train,y_train)\n",
    "fittest = lr.fit(X_test,y_test)\n",
    "\n",
    "# Predict on training set\n",
    "predtrain_y = lr.predict(X_train)\n",
    "predtest_y = lr.predict(X_test)"
   ]
  },
  {
   "cell_type": "code",
   "execution_count": 43,
   "metadata": {},
   "outputs": [
    {
     "name": "stdout",
     "output_type": "stream",
     "text": [
      "             precision    recall  f1-score   support\n",
      "\n",
      "        0.0       0.96      0.96      0.96    631255\n",
      "        1.0       0.96      0.96      0.96    630702\n",
      "\n",
      "avg / total       0.96      0.96      0.96   1261957\n",
      "\n",
      "[[605778  25477]\n",
      " [ 24107 606595]]\n",
      "Training set accuracy:\n",
      "Percent Type I errors: 0.0201884850276198\n",
      "Percent Type II errors: 0.019102869590643737\n",
      "\n",
      "\n"
     ]
    }
   ],
   "source": [
    "from sklearn.metrics import classification_report\n",
    "\n",
    "#Training Scores\n",
    "target_names = ['0.0', '1.0']\n",
    "print(classification_report(y_train, predtrain_y, target_names=target_names))\n",
    "cnf = confusion_matrix(y_train, predtrain_y)\n",
    "print(cnf)\n",
    "\n",
    "# Accuracy tables.\n",
    "table_train = pd.crosstab(y_train, predtrain_y, margins=True)\n",
    "\n",
    "train_tI_errors = table_train.loc[0.0,1.0] / table_train.loc['All','All']\n",
    "train_tII_errors = table_train.loc[1.0,0.0] / table_train.loc['All','All']\n",
    "\n",
    "print((\n",
    "    'Training set accuracy:\\n'\n",
    "    'Percent Type I errors: {}\\n'\n",
    "    'Percent Type II errors: {}\\n\\n'\n",
    ").format(train_tI_errors, train_tII_errors))"
   ]
  },
  {
   "cell_type": "code",
   "execution_count": 44,
   "metadata": {},
   "outputs": [
    {
     "name": "stdout",
     "output_type": "stream",
     "text": [
      "             precision    recall  f1-score   support\n",
      "\n",
      "        0.0       0.96      0.96      0.96    270143\n",
      "        1.0       0.96      0.96      0.96    270696\n",
      "\n",
      "avg / total       0.96      0.96      0.96    540839\n",
      "\n",
      "[[258976  11167]\n",
      " [ 10493 260203]]\n",
      "Test set accuracy:\n",
      "Percent Type I errors: 0.02064754945556811\n",
      "Percent Type II errors: 0.019401337551470957\n",
      "[ 0.94001276  0.94113585  0.95913845  0.95925216  0.96016463]\n",
      "0.951940769742\n",
      "Cross validation PCA: 0.912000577548\n"
     ]
    }
   ],
   "source": [
    "#Testing Scores\n",
    "target_names = ['0.0', '1.0']\n",
    "print(classification_report(y_test, predtest_y, target_names=target_names))\n",
    "cnf = confusion_matrix(y_test, predtest_y)\n",
    "print(cnf)\n",
    "\n",
    "table_test = pd.crosstab(y_test, predtest_y, margins=True)\n",
    "\n",
    "test_tI_errors = table_test.loc[0.0,1.0]/table_test.loc['All','All']\n",
    "test_tII_errors = table_test.loc[1.0,0.0]/table_test.loc['All','All']\n",
    "\n",
    "print((\n",
    "    'Test set accuracy:\\n'\n",
    "    'Percent Type I errors: {}\\n'\n",
    "    'Percent Type II errors: {}'\n",
    ").format(test_tI_errors, test_tII_errors))\n",
    "print(cross_val_score(lr,X2,y,cv=kf))\n",
    "print(cross_val_score(lr,X2,y,cv=kf).mean())\n",
    "print('Cross validation PCA:', cross_val_score(lr,XPCA,y,cv=kf).mean())"
   ]
  },
  {
   "cell_type": "markdown",
   "metadata": {},
   "source": [
    "*** Random Forest***"
   ]
  },
  {
   "cell_type": "code",
   "execution_count": 45,
   "metadata": {},
   "outputs": [],
   "source": [
    "# Train model\n",
    "rf = RandomForestClassifier()\n",
    "rf.fit(X_train, y_train)\n",
    "rf.fit(X_test, y_test)\n",
    "\n",
    "# Predict on training set\n",
    "predtrainrf_y = rf.predict(X_train)\n",
    "predtestrf_y = rf.predict(X_test)"
   ]
  },
  {
   "cell_type": "code",
   "execution_count": 46,
   "metadata": {},
   "outputs": [
    {
     "name": "stdout",
     "output_type": "stream",
     "text": [
      "             precision    recall  f1-score   support\n",
      "\n",
      "          0       0.97      0.99      0.98    631255\n",
      "          1       0.99      0.97      0.98    630702\n",
      "\n",
      "avg / total       0.98      0.98      0.98   1261957\n",
      "\n",
      "[[627623   3632]\n",
      " [ 20208 610494]]\n",
      "Training set accuracy:\n",
      "Percent Type I errors: 0.0028780695380270483\n",
      "Percent Type II errors: 0.016013223905410406\n",
      "\n",
      "\n"
     ]
    }
   ],
   "source": [
    "#Training Scores\n",
    "target_names = ['0', '1']\n",
    "print(classification_report(y_train, predtrainrf_y, target_names=target_names))\n",
    "cnf = confusion_matrix(y_train, predtrainrf_y)\n",
    "print(cnf)\n",
    "\n",
    "# Accuracy tables.\n",
    "table_train = pd.crosstab(y_train, predtrainrf_y, margins=True)\n",
    "\n",
    "train_tI_errors = table_train.loc[0.0,1.0] / table_train.loc['All','All']\n",
    "train_tII_errors = table_train.loc[1.0,0.0] / table_train.loc['All','All']\n",
    "\n",
    "print((\n",
    "    'Training set accuracy:\\n'\n",
    "    'Percent Type I errors: {}\\n'\n",
    "    'Percent Type II errors: {}\\n\\n'\n",
    ").format(train_tI_errors, train_tII_errors))"
   ]
  },
  {
   "cell_type": "code",
   "execution_count": 47,
   "metadata": {},
   "outputs": [
    {
     "name": "stdout",
     "output_type": "stream",
     "text": [
      "             precision    recall  f1-score   support\n",
      "\n",
      "          0       0.97      1.00      0.98    270143\n",
      "          1       1.00      0.97      0.98    270696\n",
      "\n",
      "avg / total       0.98      0.98      0.98    540839\n",
      "\n",
      "[[269460    683]\n",
      " [  7890 262806]]\n",
      "Test set accuracy:\n",
      "Percent Type I errors: 0.0012628527158729307\n",
      "Percent Type II errors: 0.014588444990098717\n",
      "[ 0.99108054  0.99123306  0.97978972  0.96799692  0.96700124]\n",
      "0.979446364568\n",
      "Cross validation PCA: 0.973926050712\n"
     ]
    }
   ],
   "source": [
    "#Test Scores\n",
    "target_names = ['0', '1']\n",
    "print(classification_report(y_test, predtestrf_y, target_names=target_names))\n",
    "cnf = confusion_matrix(y_test, predtestrf_y)\n",
    "print(cnf)\n",
    "\n",
    "table_test = pd.crosstab(y_test, predtestrf_y, margins=True)\n",
    "\n",
    "test_tI_errors = table_test.loc[0.0,1.0]/table_test.loc['All','All']\n",
    "test_tII_errors = table_test.loc[1.0,0.0]/table_test.loc['All','All']\n",
    "\n",
    "print((\n",
    "    'Test set accuracy:\\n'\n",
    "    'Percent Type I errors: {}\\n'\n",
    "    'Percent Type II errors: {}'\n",
    ").format(test_tI_errors, test_tII_errors))\n",
    "print(cross_val_score(rf,X2,y,cv=kf))\n",
    "print(cross_val_score(rf,X2,y,cv=kf).mean())\n",
    "print('Cross validation PCA:', cross_val_score(rf,XPCA,y,cv=kf).mean())"
   ]
  },
  {
   "cell_type": "markdown",
   "metadata": {},
   "source": [
    "***Naive - Bayes***"
   ]
  },
  {
   "cell_type": "code",
   "execution_count": 48,
   "metadata": {
    "collapsed": true
   },
   "outputs": [],
   "source": [
    "# Train model\n",
    "bnb = BernoulliNB()\n",
    "bnb.fit(X_train, y_train)\n",
    "bnb.fit(X_test, y_test)\n",
    "\n",
    "# Predict on training set\n",
    "predtrainbnb_y = bnb.predict(X_train)\n",
    "predtestbnb_y = bnb.predict(X_test)"
   ]
  },
  {
   "cell_type": "code",
   "execution_count": 49,
   "metadata": {},
   "outputs": [
    {
     "name": "stdout",
     "output_type": "stream",
     "text": [
      "             precision    recall  f1-score   support\n",
      "\n",
      "          0       0.98      0.90      0.94    631255\n",
      "          1       0.91      0.98      0.94    630702\n",
      "\n",
      "avg / total       0.94      0.94      0.94   1261957\n",
      "\n",
      "[[568219  63036]\n",
      " [ 10919 619783]]\n",
      "Training set accuracy:\n",
      "Percent Type I errors: 0.04995098882133068\n",
      "Percent Type II errors: 0.008652434274701911\n",
      "\n",
      "\n"
     ]
    }
   ],
   "source": [
    "#Training Scores\n",
    "target_names = ['0', '1']\n",
    "print(classification_report(y_train, predtrainbnb_y, target_names=target_names))\n",
    "cnf = confusion_matrix(y_train, predtrainbnb_y)\n",
    "print(cnf)\n",
    "\n",
    "# Accuracy tables.\n",
    "table_train = pd.crosstab(y_train, predtrainbnb_y, margins=True)\n",
    "\n",
    "train_tI_errors = table_train.loc[0.0,1.0] / table_train.loc['All','All']\n",
    "train_tII_errors = table_train.loc[1.0,0.0] / table_train.loc['All','All']\n",
    "\n",
    "print((\n",
    "    'Training set accuracy:\\n'\n",
    "    'Percent Type I errors: {}\\n'\n",
    "    'Percent Type II errors: {}\\n\\n'\n",
    ").format(train_tI_errors, train_tII_errors))"
   ]
  },
  {
   "cell_type": "code",
   "execution_count": 50,
   "metadata": {},
   "outputs": [
    {
     "name": "stdout",
     "output_type": "stream",
     "text": [
      "             precision    recall  f1-score   support\n",
      "\n",
      "          0       0.98      0.90      0.94    270143\n",
      "          1       0.91      0.98      0.94    270696\n",
      "\n",
      "avg / total       0.94      0.94      0.94    540839\n",
      "\n",
      "[[242760  27383]\n",
      " [  4793 265903]]\n",
      "Test set accuracy:\n",
      "Percent Type I errors: 0.05063059431734768\n",
      "Percent Type II errors: 0.008862156760144886\n",
      "[ 0.89979199  0.89987214  0.93973524  0.98310679  0.98314284]\n",
      "0.941129801341\n",
      "Cross validation PCA: 0.81778745256\n"
     ]
    }
   ],
   "source": [
    "#Test Scores\n",
    "target_names = ['0', '1']\n",
    "print(classification_report(y_test, predtestbnb_y, target_names=target_names))\n",
    "cnf = confusion_matrix(y_test, predtestbnb_y)\n",
    "print(cnf)\n",
    "\n",
    "table_test = pd.crosstab(y_test, predtestbnb_y, margins=True)\n",
    "\n",
    "test_tI_errors = table_test.loc[0.0,1.0]/table_test.loc['All','All']\n",
    "test_tII_errors = table_test.loc[1.0,0.0]/table_test.loc['All','All']\n",
    "\n",
    "print((\n",
    "    'Test set accuracy:\\n'\n",
    "    'Percent Type I errors: {}\\n'\n",
    "    'Percent Type II errors: {}'\n",
    ").format(test_tI_errors, test_tII_errors))\n",
    "print(cross_val_score(bnb,X2,y,cv=kf))\n",
    "print(cross_val_score(bnb,X2,y,cv=kf).mean())\n",
    "print('Cross validation PCA:', cross_val_score(bnb,XPCA,y,cv=kf).mean())"
   ]
  },
  {
   "cell_type": "markdown",
   "metadata": {},
   "source": [
    "***Gradient Boosting Classifier***"
   ]
  },
  {
   "cell_type": "code",
   "execution_count": 51,
   "metadata": {
    "collapsed": true
   },
   "outputs": [],
   "source": [
    "# We'll make 500 iterations, use 2-deep trees, and set our loss function.\n",
    "params = {'n_estimators': 500,\n",
    "          'max_depth': 2,\n",
    "          'loss': 'deviance'}\n",
    "\n",
    "# Initialize and fit the model.\n",
    "clf = ensemble.GradientBoostingClassifier(**params)\n",
    "clf.fit(X_train, y_train)\n",
    "clf.fit(X_test, y_test)\n",
    "\n",
    "# Predict on training set\n",
    "predtrainclf_y = clf.predict(X_train)\n",
    "predtestclf_y = clf.predict(X_test)"
   ]
  },
  {
   "cell_type": "code",
   "execution_count": 52,
   "metadata": {},
   "outputs": [
    {
     "name": "stdout",
     "output_type": "stream",
     "text": [
      "             precision    recall  f1-score   support\n",
      "\n",
      "        0.0       0.97      0.99      0.98    631255\n",
      "        1.0       0.99      0.96      0.97    630702\n",
      "\n",
      "avg / total       0.98      0.97      0.97   1261957\n",
      "\n",
      "[[622078   9177]\n",
      " [ 22468 608234]]\n",
      "Training set accuracy:\n",
      "Percent Type I errors: 0.007272038587685634\n",
      "Percent Type II errors: 0.017804093166407412\n",
      "\n",
      "\n"
     ]
    }
   ],
   "source": [
    "#Training Scores\n",
    "target_names = ['0.0', '1.0']\n",
    "print(classification_report(y_train, predtrainclf_y, target_names=target_names))\n",
    "cnf = confusion_matrix(y_train, predtrainclf_y)\n",
    "print(cnf)\n",
    "\n",
    "# Accuracy tables.\n",
    "table_train = pd.crosstab(y_train, predtrainclf_y, margins=True)\n",
    "\n",
    "train_tI_errors = table_train.loc[0.0,1.0] / table_train.loc['All','All']\n",
    "train_tII_errors = table_train.loc[1.0,0.0] / table_train.loc['All','All']\n",
    "\n",
    "print((\n",
    "    'Training set accuracy:\\n'\n",
    "    'Percent Type I errors: {}\\n'\n",
    "    'Percent Type II errors: {}\\n\\n'\n",
    ").format(train_tI_errors, train_tII_errors))"
   ]
  },
  {
   "cell_type": "code",
   "execution_count": 53,
   "metadata": {},
   "outputs": [
    {
     "name": "stdout",
     "output_type": "stream",
     "text": [
      "             precision    recall  f1-score   support\n",
      "\n",
      "        0.0       0.96      0.99      0.97    270143\n",
      "        1.0       0.98      0.96      0.97    270696\n",
      "\n",
      "avg / total       0.97      0.97      0.97    540839\n",
      "\n",
      "[[266102   4041]\n",
      " [  9747 260949]]\n",
      "Test set accuracy:\n",
      "Percent Type I errors: 0.007471724487324324\n",
      "Percent Type II errors: 0.01802199915316758\n",
      "[ 0.97691092  0.97695523  0.97417344  0.95862258  0.95975971]\n",
      "0.969284374035\n",
      "Cross validation PCA: 0.949109049962\n"
     ]
    }
   ],
   "source": [
    "#Test Scores\n",
    "target_names = ['0.0', '1.0']\n",
    "print(classification_report(y_test, predtestclf_y, target_names=target_names))\n",
    "cnf = confusion_matrix(y_test, predtestclf_y)\n",
    "print(cnf)\n",
    "\n",
    "table_test = pd.crosstab(y_test, predtestclf_y, margins=True)\n",
    "\n",
    "test_tI_errors = table_test.loc[0.0,1.0]/table_test.loc['All','All']\n",
    "test_tII_errors = table_test.loc[1.0,0.0]/table_test.loc['All','All']\n",
    "\n",
    "print((\n",
    "    'Test set accuracy:\\n'\n",
    "    'Percent Type I errors: {}\\n'\n",
    "    'Percent Type II errors: {}'\n",
    ").format(test_tI_errors, test_tII_errors))\n",
    "print(cross_val_score(clf,X2,y,cv=kf))\n",
    "print(cross_val_score(clf,X2,y,cv=kf).mean())\n",
    "print('Cross validation PCA:', cross_val_score(clf,XPCA,y,cv=kf).mean())"
   ]
  },
  {
   "cell_type": "markdown",
   "metadata": {},
   "source": [
    "***LDA Classifier***"
   ]
  },
  {
   "cell_type": "code",
   "execution_count": 54,
   "metadata": {
    "collapsed": true
   },
   "outputs": [],
   "source": [
    "# LDA Classification\n",
    "\n",
    "lda = LinearDiscriminantAnalysis()\n",
    "\n",
    "lda.fit(X_train, y_train)\n",
    "lda.fit(X_test, y_test)\n",
    "\n",
    "# Predict on training set\n",
    "predtrainlda_y = lda.predict(X_train)\n",
    "predtestlda_y = lda.predict(X_test)"
   ]
  },
  {
   "cell_type": "code",
   "execution_count": 55,
   "metadata": {},
   "outputs": [
    {
     "name": "stdout",
     "output_type": "stream",
     "text": [
      "             precision    recall  f1-score   support\n",
      "\n",
      "        0.0       0.80      0.99      0.89    631255\n",
      "        1.0       0.99      0.76      0.86    630702\n",
      "\n",
      "avg / total       0.90      0.88      0.87   1261957\n",
      "\n",
      "[[627480   3775]\n",
      " [152586 478116]]\n",
      "Training set accuracy:\n",
      "Percent Type I errors: 0.0029913856018865936\n",
      "Percent Type II errors: 0.12091220223826961\n",
      "\n",
      "\n"
     ]
    }
   ],
   "source": [
    "#Training Scores\n",
    "target_names = ['0.0', '1.0']\n",
    "print(classification_report(y_train, predtrainlda_y, target_names=target_names))\n",
    "cnf = confusion_matrix(y_train, predtrainlda_y)\n",
    "print(cnf)\n",
    "\n",
    "# Accuracy tables.\n",
    "table_train = pd.crosstab(y_train, predtrainlda_y, margins=True)\n",
    "\n",
    "train_tI_errors = table_train.loc[0.0,1.0] / table_train.loc['All','All']\n",
    "train_tII_errors = table_train.loc[1.0,0.0] / table_train.loc['All','All']\n",
    "\n",
    "print((\n",
    "    'Training set accuracy:\\n'\n",
    "    'Percent Type I errors: {}\\n'\n",
    "    'Percent Type II errors: {}\\n\\n'\n",
    ").format(train_tI_errors, train_tII_errors))"
   ]
  },
  {
   "cell_type": "code",
   "execution_count": 56,
   "metadata": {},
   "outputs": [
    {
     "name": "stdout",
     "output_type": "stream",
     "text": [
      "             precision    recall  f1-score   support\n",
      "\n",
      "        0.0       0.80      0.99      0.89    270143\n",
      "        1.0       0.99      0.76      0.86    270696\n",
      "\n",
      "avg / total       0.90      0.88      0.87    540839\n",
      "\n",
      "[[268470   1673]\n",
      " [ 65701 204995]]\n",
      "Test set accuracy:\n",
      "Percent Type I errors: 0.0030933420112085113\n",
      "Percent Type II errors: 0.12147977494226563\n",
      "[ 0.96004548  0.96051686  0.87697159  0.61111774  0.63918804]\n",
      "0.809567943085\n",
      "Cross validation PCA: 0.787427892843\n"
     ]
    }
   ],
   "source": [
    "#Test Scores\n",
    "target_names = ['0.0', '1.0']\n",
    "print(classification_report(y_test, predtestlda_y, target_names=target_names))\n",
    "cnf = confusion_matrix(y_test, predtestlda_y)\n",
    "print(cnf)\n",
    "\n",
    "table_test = pd.crosstab(y_test, predtestlda_y, margins=True)\n",
    "\n",
    "test_tI_errors = table_test.loc[0.0,1.0]/table_test.loc['All','All']\n",
    "test_tII_errors = table_test.loc[1.0,0.0]/table_test.loc['All','All']\n",
    "\n",
    "print((\n",
    "    'Test set accuracy:\\n'\n",
    "    'Percent Type I errors: {}\\n'\n",
    "    'Percent Type II errors: {}'\n",
    ").format(test_tI_errors, test_tII_errors))\n",
    "print(cross_val_score(lda,X2,y,cv=kf))\n",
    "print(cross_val_score(lda,X2,y,cv=kf).mean())\n",
    "print('Cross validation PCA:', cross_val_score(lda,XPCA,y,cv=kf).mean())"
   ]
  },
  {
   "cell_type": "markdown",
   "metadata": {},
   "source": [
    "Before running the model, the data was cleaned. The NaN and values values were replaced by zeros. To run the model and predict the arrival delay, the first thing that was done was to select the most meaningful features.\n",
    "There was an overfitting problem when DepDelayed was chosen as one of the variables explaining the arrivals delayed. Hence, the following features were selected:\n",
    "\n",
    "'NASDelay'\n",
    "'LateAircraftDelay'\n",
    "'CarrierDelay'\n",
    "'TaxiOut'\n",
    "\n",
    "The modesl still present some overfitting as the PCA scores are lower than the scores of the models through crossvalidation but are closer to each other.\n",
    "\n",
    "To reduce the bias in the classifiers, as the delays and on-time arrivals were unevenly spread in the dataset, the dataset was resampled. In this case and due to the computing power requirements, the majority (on-time arrivals) was downsampled.\n",
    "\n",
    "The resampled dataset was split into a train and a test dataset at 30% test dataset ratio.\n",
    "\n",
    "The new dataset was run through different models: Naive Bayes, LDA, RandomForest, Logistic Regression and Gradient Boosting Classifier. Every model was run on a PCA predictors to see the max accuracy that the model was able to obtain through cross validation. \n",
    "\n",
    "The model scoring a better result in the test sample was Random Forest scorring 97% and having a reduced % of type I and type II errors in the model. The model scoring the worst result was LDA.\n",
    "\n",
    "The SVC model was not run (although it was tried) due to computational restrictions. More than 2 hours were required to run it for the first time and the model din´t run through all the data."
   ]
  }
 ],
 "metadata": {
  "kernelspec": {
   "display_name": "Python 3",
   "language": "python",
   "name": "python3"
  },
  "language_info": {
   "codemirror_mode": {
    "name": "ipython",
    "version": 3
   },
   "file_extension": ".py",
   "mimetype": "text/x-python",
   "name": "python",
   "nbconvert_exporter": "python",
   "pygments_lexer": "ipython3",
   "version": "3.5.4"
  }
 },
 "nbformat": 4,
 "nbformat_minor": 2
}
