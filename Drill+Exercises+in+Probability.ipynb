{
 "cells": [
  {
   "cell_type": "markdown",
   "metadata": {},
   "source": [
    "1 Calculate the probability of flipping a balanced coin four times and getting each pattern: HTTH, HHHH and TTHH.\n",
    "\n",
    "P(HTTH)=P(HHHH)=P(TTHH)=1/2**4\n"
   ]
  },
  {
   "cell_type": "markdown",
   "metadata": {},
   "source": [
    "2 If a list of people has 24 women and 21 men, then the probability of choosing a man from the list is 21/45. What is the probability of not choosing a man?\n",
    "\n",
    "P(man)=21/45\n",
    "P(not man) = 1-21/45 = 24/45"
   ]
  },
  {
   "cell_type": "markdown",
   "metadata": {},
   "source": [
    "3 The probability that Bernice will travel by plane sometime in the next year is 10%. The probability of a plane crash at any time is .005%. What is the probability that Bernice will be in a plane crash sometime in the next year?\n",
    "\n",
    "A = Bernice travels by plane next year\n",
    "P(A)= 10%\n",
    "B = Plane crash\n",
    "P(B) = 0.005%\n",
    "\n",
    "Both A and B are independent events\n",
    "\n",
    "P(A ∩ B)= 0.1*0.00005 = 0.000005 (0.0005%)"
   ]
  },
  {
   "cell_type": "markdown",
   "metadata": {},
   "source": [
    "4 A data scientist wants to study the behavior of users on the company website. Each time a user clicks on a link on the website, there is a 5% chance that the user will be asked to complete a short survey about their behavior on the website. The data scientist uses the survey data to conclude that, on average, users spend 15 minutes surfing the company website before moving on to other things. What is wrong with this conclusion?\n",
    "\n",
    "The data scientist is not using a representative sample of the population that visits the website. He is basing his conclusion on 5% of the population that is asked to complete the survey.\n",
    "Moreover if from that 5% not 100% of the users are completing the survey then the sample is even smaller and thereofore less representative.\n",
    "\n",
    "The data scientist is missing 95% of the population that visits the website.\n"
   ]
  }
 ],
 "metadata": {
  "kernelspec": {
   "display_name": "Python 3",
   "language": "python",
   "name": "python3"
  },
  "language_info": {
   "codemirror_mode": {
    "name": "ipython",
    "version": 3
   },
   "file_extension": ".py",
   "mimetype": "text/x-python",
   "name": "python",
   "nbconvert_exporter": "python",
   "pygments_lexer": "ipython3",
   "version": "3.6.1"
  }
 },
 "nbformat": 4,
 "nbformat_minor": 2
}
