{
 "cells": [
  {
   "cell_type": "code",
   "execution_count": 2288,
   "metadata": {
    "collapsed": true
   },
   "outputs": [],
   "source": [
    "%matplotlib inline\n",
    "import numpy as np\n",
    "import pandas as pd\n",
    "import scipy\n",
    "import sklearn\n",
    "import matplotlib.pyplot as plt\n",
    "import seaborn as sns\n",
    "from sklearn.naive_bayes import BernoulliNB"
   ]
  },
  {
   "cell_type": "code",
   "execution_count": 2289,
   "metadata": {},
   "outputs": [
    {
     "data": {
      "text/html": [
       "<div>\n",
       "<style>\n",
       "    .dataframe thead tr:only-child th {\n",
       "        text-align: right;\n",
       "    }\n",
       "\n",
       "    .dataframe thead th {\n",
       "        text-align: left;\n",
       "    }\n",
       "\n",
       "    .dataframe tbody tr th {\n",
       "        vertical-align: top;\n",
       "    }\n",
       "</style>\n",
       "<table border=\"1\" class=\"dataframe\">\n",
       "  <thead>\n",
       "    <tr style=\"text-align: right;\">\n",
       "      <th></th>\n",
       "      <th>Sentence</th>\n",
       "      <th>Sentiment</th>\n",
       "    </tr>\n",
       "  </thead>\n",
       "  <tbody>\n",
       "    <tr>\n",
       "      <th>1</th>\n",
       "      <td>Good case, Excellent value.</td>\n",
       "      <td>1</td>\n",
       "    </tr>\n",
       "    <tr>\n",
       "      <th>2</th>\n",
       "      <td>Great for the jawbone.</td>\n",
       "      <td>1</td>\n",
       "    </tr>\n",
       "    <tr>\n",
       "      <th>4</th>\n",
       "      <td>The mic is great.</td>\n",
       "      <td>1</td>\n",
       "    </tr>\n",
       "    <tr>\n",
       "      <th>7</th>\n",
       "      <td>If you are Razr owner...you must have this!</td>\n",
       "      <td>1</td>\n",
       "    </tr>\n",
       "    <tr>\n",
       "      <th>10</th>\n",
       "      <td>And the sound quality is great.</td>\n",
       "      <td>1</td>\n",
       "    </tr>\n",
       "  </tbody>\n",
       "</table>\n",
       "</div>"
      ],
      "text/plain": [
       "                                       Sentence  Sentiment\n",
       "1                   Good case, Excellent value.          1\n",
       "2                        Great for the jawbone.          1\n",
       "4                             The mic is great.          1\n",
       "7   If you are Razr owner...you must have this!          1\n",
       "10              And the sound quality is great.          1"
      ]
     },
     "execution_count": 2289,
     "metadata": {},
     "output_type": "execute_result"
    }
   ],
   "source": [
    "# Amazon Raw Data\n",
    "data_path = (\"https://raw.githubusercontent.com/borja876/Thinkful-DataScience-Borja/master/amazon_cells_labelled.txt\"\n",
    "            )\n",
    "sms_raw = pd.read_csv(data_path, delimiter= '\\t', header=None)\n",
    "sms_raw.columns = ['Sentence', 'Sentiment']\n",
    "#sms_raw.head(30)  \n",
    "sms_raw.loc[sms_raw['Sentiment'] == 1].head()"
   ]
  },
  {
   "cell_type": "code",
   "execution_count": 2290,
   "metadata": {},
   "outputs": [
    {
     "data": {
      "text/plain": [
       "1    500\n",
       "0    500\n",
       "Name: Sentiment, dtype: int64"
      ]
     },
     "execution_count": 2290,
     "metadata": {},
     "output_type": "execute_result"
    }
   ],
   "source": [
    "# How many rows the dataset\n",
    "sms_raw['Sentiment'].value_counts()"
   ]
  },
  {
   "cell_type": "code",
   "execution_count": 2291,
   "metadata": {},
   "outputs": [],
   "source": [
    "keywords = ['wanted','important','sturdiness','encourage','happier','comfort','excited',\n",
    "            'flawlessly','pleased','outperform','stars','adorable',\n",
    "            'crisp','increase','better','thumbs','price','very',\n",
    "            'significantly','strong','perfectly','surprised','amazed','sturdy',\n",
    "            'securely','right','joy','finally','satisfied','better',\n",
    "            'pretty','easy','10','easier','fulfills','ideal','beautiful','best','works','comfortable'\n",
    "            ,'comfortably','charm','incredible', 'extra','quality','incredibly'\n",
    "            ,'super','well','nice', 'clear','finished','well','more',\n",
    "            'ideal','recommend','good','happy','like', 'excellent', 'awesome','cool',\n",
    "            'fantastic','ok','love','reasonable','fine','great','impressed']\n",
    "\n",
    "for key in keywords:\n",
    "    # Note that we add spaces around the key so that we're getting the word,\n",
    "    # not just pattern matching.\n",
    "    sms_raw[str(key)] = sms_raw.Sentence.str.contains(\n",
    "        ' '+str(key)+' ',\n",
    "        case=False\n",
    "    )"
   ]
  },
  {
   "cell_type": "markdown",
   "metadata": {},
   "source": [
    "To select the features, I have tried the \"positive\" words that appear through the positive reviews.\n",
    "When adding a word I was checking the success rate of the model so that It was increasing while checking that there correlation was low in the heatmap. Those words that were not increasing success have been discarded and those words which had a high correlation were also discarded, i.e. \"Good\" and \"good\". "
   ]
  },
  {
   "cell_type": "code",
   "execution_count": 2292,
   "metadata": {},
   "outputs": [],
   "source": [
    "sms_raw['allcaps'] = sms_raw.Sentence.str.isupper()"
   ]
  },
  {
   "cell_type": "code",
   "execution_count": 2293,
   "metadata": {
    "collapsed": true
   },
   "outputs": [],
   "source": [
    "sms_raw['Sentiment'] = (sms_raw['Sentiment'] == 1)\n",
    "# Note that if you run this cell a second time everything will become false.\n",
    "# So... Don't."
   ]
  },
  {
   "cell_type": "code",
   "execution_count": 2294,
   "metadata": {},
   "outputs": [
    {
     "data": {
      "text/plain": [
       "<matplotlib.axes._subplots.AxesSubplot at 0x27a36cf0>"
      ]
     },
     "execution_count": 2294,
     "metadata": {},
     "output_type": "execute_result"
    },
    {
     "data": {
      "image/png": "[encoded data removed]",
      "text/plain": [
       "<matplotlib.figure.Figure at 0x27a0da10>"
      ]
     },
     "metadata": {},
     "output_type": "display_data"
    }
   ],
   "source": [
    "sns.heatmap(sms_raw.corr())"
   ]
  },
  {
   "cell_type": "code",
   "execution_count": 2295,
   "metadata": {},
   "outputs": [],
   "source": [
    "data = sms_raw[keywords+ ['allcaps']]\n",
    "target = sms_raw['Sentiment']"
   ]
  },
  {
   "cell_type": "code",
   "execution_count": 2296,
   "metadata": {},
   "outputs": [
    {
     "name": "stdout",
     "output_type": "stream",
     "text": [
      "Number of mislabeled points out of a total 1000 points : 296\n",
      "Success rate of our model out of 1000 : 0.704\n"
     ]
    }
   ],
   "source": [
    "# Initantiate our model and store it in a new variable.\n",
    "bnb = BernoulliNB()\n",
    "\n",
    "# Fit our model to the data.\n",
    "bnb.fit(data, target)\n",
    "\n",
    "# Classify, storing the result in a new variable.\n",
    "y_pred = bnb.predict(data)\n",
    "\n",
    "# Display our results.\n",
    "print(\"Number of mislabeled points out of a total {} points : {}\".format(\n",
    "    data.shape[0],\n",
    "    (target != y_pred).sum()\n",
    "))\n",
    "\n",
    "print(\"Success rate of our model out of {} : {}\".format(\n",
    "    data.shape[0],\n",
    "    1-((target != y_pred).sum()/((target != y_pred).sum()+(target == y_pred).sum()))\n",
    "))"
   ]
  },
  {
   "cell_type": "code",
   "execution_count": 2297,
   "metadata": {},
   "outputs": [
    {
     "data": {
      "text/html": [
       "<div>\n",
       "<style>\n",
       "    .dataframe thead tr:only-child th {\n",
       "        text-align: right;\n",
       "    }\n",
       "\n",
       "    .dataframe thead th {\n",
       "        text-align: left;\n",
       "    }\n",
       "\n",
       "    .dataframe tbody tr th {\n",
       "        vertical-align: top;\n",
       "    }\n",
       "</style>\n",
       "<table border=\"1\" class=\"dataframe\">\n",
       "  <thead>\n",
       "    <tr style=\"text-align: right;\">\n",
       "      <th></th>\n",
       "      <th>Sentence</th>\n",
       "      <th>Sentiment</th>\n",
       "    </tr>\n",
       "  </thead>\n",
       "  <tbody>\n",
       "    <tr>\n",
       "      <th>0</th>\n",
       "      <td>Wow... Loved this place.</td>\n",
       "      <td>1</td>\n",
       "    </tr>\n",
       "    <tr>\n",
       "      <th>3</th>\n",
       "      <td>Stopped by during the late May bank holiday of...</td>\n",
       "      <td>1</td>\n",
       "    </tr>\n",
       "    <tr>\n",
       "      <th>4</th>\n",
       "      <td>The selection on the menu was great and so wer...</td>\n",
       "      <td>1</td>\n",
       "    </tr>\n",
       "    <tr>\n",
       "      <th>8</th>\n",
       "      <td>The fries were great too.</td>\n",
       "      <td>1</td>\n",
       "    </tr>\n",
       "    <tr>\n",
       "      <th>9</th>\n",
       "      <td>A great touch.</td>\n",
       "      <td>1</td>\n",
       "    </tr>\n",
       "  </tbody>\n",
       "</table>\n",
       "</div>"
      ],
      "text/plain": [
       "                                            Sentence  Sentiment\n",
       "0                           Wow... Loved this place.          1\n",
       "3  Stopped by during the late May bank holiday of...          1\n",
       "4  The selection on the menu was great and so wer...          1\n",
       "8                          The fries were great too.          1\n",
       "9                                     A great touch.          1"
      ]
     },
     "execution_count": 2297,
     "metadata": {},
     "output_type": "execute_result"
    }
   ],
   "source": [
    "# Yelp data.\n",
    "data_path = (\"https://raw.githubusercontent.com/borja876/Thinkful-DataScience-Borja/master/yelp_labelled.txt\"\n",
    "            )\n",
    "sms_raw2 = pd.read_csv(data_path, delimiter= '\\t', header=None)\n",
    "sms_raw2.columns = ['Sentence', 'Sentiment']\n",
    "sms_raw2.loc[sms_raw2['Sentiment'] == 1].head()"
   ]
  },
  {
   "cell_type": "code",
   "execution_count": 2298,
   "metadata": {},
   "outputs": [
    {
     "data": {
      "text/plain": [
       "1    500\n",
       "0    500\n",
       "Name: Sentiment, dtype: int64"
      ]
     },
     "execution_count": 2298,
     "metadata": {},
     "output_type": "execute_result"
    }
   ],
   "source": [
    "# How many rows the dataset\n",
    "sms_raw2['Sentiment'].value_counts()"
   ]
  },
  {
   "cell_type": "code",
   "execution_count": 2299,
   "metadata": {
    "collapsed": true
   },
   "outputs": [],
   "source": [
    "keywords = ['wanted','important','sturdiness','encourage','happier','comfort','excited',\n",
    "            'flawlessly','pleased','outperform','stars','adorable',\n",
    "            'crisp','increase','better','thumbs','price','very',\n",
    "            'significantly','strong','perfectly','surprised','amazed','sturdy',\n",
    "            'securely','right','joy','finally','satisfied','better',\n",
    "            'pretty','easy','10','easier','fulfills','ideal','beautiful','best','works','comfortable'\n",
    "            ,'comfortably','charm','incredible', 'extra','quality','incredibly'\n",
    "            ,'super','well','nice', 'clear',\n",
    "            'ideal','recommend','good','happy','like', 'excellent', 'awesome','cool',\n",
    "            'fantastic','ok','love','reasonable','fine','great','impressed']\n",
    "\n",
    "\n",
    "for key in keywords:\n",
    "    # Note that we add spaces around the key so that we're getting the word,\n",
    "    # not just pattern matching.\n",
    "    sms_raw2[str(key)] = sms_raw2.Sentence.str.contains(\n",
    "        ' '+str(key)+' ',\n",
    "        case=False\n",
    "    )"
   ]
  },
  {
   "cell_type": "code",
   "execution_count": 2300,
   "metadata": {
    "collapsed": true
   },
   "outputs": [],
   "source": [
    "sms_raw2['allcaps'] = sms_raw2.Sentence.str.isupper()"
   ]
  },
  {
   "cell_type": "code",
   "execution_count": 2301,
   "metadata": {
    "collapsed": true
   },
   "outputs": [],
   "source": [
    "sms_raw2['Sentiment'] = (sms_raw2['Sentiment'] == 1)\n",
    "# Note that if you run this cell a second time everything will become false.\n",
    "# So... Don't."
   ]
  },
  {
   "cell_type": "code",
   "execution_count": 2302,
   "metadata": {},
   "outputs": [
    {
     "data": {
      "text/plain": [
       "<matplotlib.axes._subplots.AxesSubplot at 0x269a96f0>"
      ]
     },
     "execution_count": 2302,
     "metadata": {},
     "output_type": "execute_result"
    },
    {
     "data": {
      "image/png": "[encoded data removed]",
      "text/plain": [
       "<matplotlib.figure.Figure at 0x27afd570>"
      ]
     },
     "metadata": {},
     "output_type": "display_data"
    }
   ],
   "source": [
    "sns.heatmap(sms_raw2.corr())"
   ]
  },
  {
   "cell_type": "code",
   "execution_count": 2303,
   "metadata": {
    "collapsed": true
   },
   "outputs": [],
   "source": [
    "data2 = sms_raw2[keywords+ ['allcaps']]\n",
    "target2 = sms_raw2['Sentiment']"
   ]
  },
  {
   "cell_type": "code",
   "execution_count": 2304,
   "metadata": {},
   "outputs": [
    {
     "name": "stdout",
     "output_type": "stream",
     "text": [
      "Number of mislabeled points out of a total 1000 points : 349\n",
      "Success rate of our model out of 1000 : 0.651\n"
     ]
    }
   ],
   "source": [
    "# Initantiate our model and store it in a new variable.\n",
    "bnb2 = BernoulliNB()\n",
    "\n",
    "# Fit our model to the data.\n",
    "bnb2.fit(data2, target2)\n",
    "\n",
    "# Classify, storing the result in a new variable.\n",
    "y_pred = bnb2.predict(data2)\n",
    "\n",
    "# Display our results.\n",
    "print(\"Number of mislabeled points out of a total {} points : {}\".format(\n",
    "    data2.shape[0],\n",
    "    (target2 != y_pred).sum()\n",
    "))\n",
    "\n",
    "print(\"Success rate of our model out of {} : {}\".format(\n",
    "    data2.shape[0],\n",
    "    1-((target2 != y_pred).sum()/((target2 != y_pred).sum()+(target2 == y_pred).sum()))\n",
    "))"
   ]
  },
  {
   "cell_type": "code",
   "execution_count": 2305,
   "metadata": {},
   "outputs": [
    {
     "data": {
      "text/html": [
       "<div>\n",
       "<style>\n",
       "    .dataframe thead tr:only-child th {\n",
       "        text-align: right;\n",
       "    }\n",
       "\n",
       "    .dataframe thead th {\n",
       "        text-align: left;\n",
       "    }\n",
       "\n",
       "    .dataframe tbody tr th {\n",
       "        vertical-align: top;\n",
       "    }\n",
       "</style>\n",
       "<table border=\"1\" class=\"dataframe\">\n",
       "  <thead>\n",
       "    <tr style=\"text-align: right;\">\n",
       "      <th></th>\n",
       "      <th>Sentence</th>\n",
       "      <th>Sentiment</th>\n",
       "    </tr>\n",
       "  </thead>\n",
       "  <tbody>\n",
       "    <tr>\n",
       "      <th>4</th>\n",
       "      <td>The best scene in the movie was when Gerardo i...</td>\n",
       "      <td>1</td>\n",
       "    </tr>\n",
       "    <tr>\n",
       "      <th>7</th>\n",
       "      <td>Saw the movie today and thought it was a good ...</td>\n",
       "      <td>1</td>\n",
       "    </tr>\n",
       "    <tr>\n",
       "      <th>9</th>\n",
       "      <td>Loved the casting of Jimmy Buffet as the scien...</td>\n",
       "      <td>1</td>\n",
       "    </tr>\n",
       "    <tr>\n",
       "      <th>10</th>\n",
       "      <td>And those baby owls were adorable.</td>\n",
       "      <td>1</td>\n",
       "    </tr>\n",
       "    <tr>\n",
       "      <th>11</th>\n",
       "      <td>The movie showed a lot of Florida at it's best...</td>\n",
       "      <td>1</td>\n",
       "    </tr>\n",
       "  </tbody>\n",
       "</table>\n",
       "</div>"
      ],
      "text/plain": [
       "                                             Sentence  Sentiment\n",
       "4   The best scene in the movie was when Gerardo i...          1\n",
       "7   Saw the movie today and thought it was a good ...          1\n",
       "9   Loved the casting of Jimmy Buffet as the scien...          1\n",
       "10               And those baby owls were adorable.            1\n",
       "11  The movie showed a lot of Florida at it's best...          1"
      ]
     },
     "execution_count": 2305,
     "metadata": {},
     "output_type": "execute_result"
    }
   ],
   "source": [
    "# IMBD data.\n",
    "data_path = (\"https://raw.githubusercontent.com/borja876/Thinkful-DataScience-Borja/master/imdb_labelled.txt\"\n",
    "            )\n",
    "sms_raw3 = pd.read_csv(data_path, delimiter= '\\t', header=None)\n",
    "sms_raw3.columns = ['Sentence', 'Sentiment']\n",
    "sms_raw3.loc[sms_raw3['Sentiment'] == 1].head()"
   ]
  },
  {
   "cell_type": "code",
   "execution_count": 2306,
   "metadata": {},
   "outputs": [
    {
     "data": {
      "text/plain": [
       "1    386\n",
       "0    362\n",
       "Name: Sentiment, dtype: int64"
      ]
     },
     "execution_count": 2306,
     "metadata": {},
     "output_type": "execute_result"
    }
   ],
   "source": [
    "# How many rows the dataset\n",
    "sms_raw3['Sentiment'].value_counts()"
   ]
  },
  {
   "cell_type": "code",
   "execution_count": 2307,
   "metadata": {
    "collapsed": true
   },
   "outputs": [],
   "source": [
    "keywords = ['wanted','important','sturdiness','encourage','happier','comfort','excited',\n",
    "            'flawlessly','pleased','outperform','stars','adorable',\n",
    "            'crisp','increase','better','thumbs','price','very',\n",
    "            'significantly','strong','perfectly','surprised','amazed','sturdy',\n",
    "            'securely','right','joy','finally','satisfied','better',\n",
    "            'pretty','easy','10','easier','fulfills','ideal','beautiful','best','works','comfortable'\n",
    "            ,'comfortably','charm','incredible', 'extra','quality','incredibly'\n",
    "            ,'super','well','nice', 'clear',\n",
    "            'ideal','recommend','good','happy','like', 'excellent', 'awesome','cool',\n",
    "            'fantastic','ok','love','reasonable','fine','great','impressed']\n",
    "\n",
    "\n",
    "for key in keywords:\n",
    "    # Note that we add spaces around the key so that we're getting the word,\n",
    "    # not just pattern matching.\n",
    "    sms_raw3[str(key)] = sms_raw3.Sentence.str.contains(\n",
    "        ' '+str(key)+' ',\n",
    "        case=False\n",
    "    )"
   ]
  },
  {
   "cell_type": "code",
   "execution_count": 2308,
   "metadata": {
    "collapsed": true
   },
   "outputs": [],
   "source": [
    "sms_raw3['allcaps'] = sms_raw3.Sentence.str.isupper()"
   ]
  },
  {
   "cell_type": "code",
   "execution_count": 2309,
   "metadata": {
    "collapsed": true
   },
   "outputs": [],
   "source": [
    "sms_raw3['Sentiment'] = (sms_raw3['Sentiment'] == 1)\n",
    "# Note that if you run this cell a second time everything will become false.\n",
    "# So... Don't."
   ]
  },
  {
   "cell_type": "code",
   "execution_count": 2310,
   "metadata": {},
   "outputs": [
    {
     "data": {
      "text/plain": [
       "<matplotlib.axes._subplots.AxesSubplot at 0x27c03d50>"
      ]
     },
     "execution_count": 2310,
     "metadata": {},
     "output_type": "execute_result"
    },
    {
     "data": {
      "image/png": "[encoded data removed]",
      "text/plain": [
       "<matplotlib.figure.Figure at 0x27bfcc90>"
      ]
     },
     "metadata": {},
     "output_type": "display_data"
    }
   ],
   "source": [
    "sns.heatmap(sms_raw3.corr())"
   ]
  },
  {
   "cell_type": "code",
   "execution_count": 2311,
   "metadata": {
    "collapsed": true
   },
   "outputs": [],
   "source": [
    "data3 = sms_raw3[keywords+ ['allcaps']]\n",
    "target3 = sms_raw3['Sentiment']"
   ]
  },
  {
   "cell_type": "code",
   "execution_count": 2312,
   "metadata": {},
   "outputs": [
    {
     "name": "stdout",
     "output_type": "stream",
     "text": [
      "Number of mislabeled points out of a total 748 points : 291\n",
      "Success rate of our model out of 748 : 0.6109625668449198\n"
     ]
    }
   ],
   "source": [
    "# Initantiate our model and store it in a new variable.\n",
    "bnb3 = BernoulliNB()\n",
    "\n",
    "# Fit our model to the data.\n",
    "bnb3.fit(data3, target3)\n",
    "\n",
    "# Classify, storing the result in a new variable.\n",
    "y_pred = bnb3.predict(data3)\n",
    "\n",
    "# Display our results.\n",
    "print(\"Number of mislabeled points out of a total {} points : {}\".format(\n",
    "    data3.shape[0],\n",
    "    (target3 != y_pred).sum()\n",
    "))\n",
    "\n",
    "print(\"Success rate of our model out of {} : {}\".format(\n",
    "    data3.shape[0],\n",
    "    1-((target3 != y_pred).sum()/((target3 != y_pred).sum()+(target3 == y_pred).sum()))\n",
    "))"
   ]
  },
  {
   "cell_type": "markdown",
   "metadata": {},
   "source": [
    "What can be seen after adjusting the classifier using Amazon reviews is that once we change the context, the result dramatically change. In this case, when the classifier is used with reviews from Yelp, it decreases its success rate from 70% to 65% and to 61% when using IMBD.\n",
    "There are words that appear in the Amazon reviews but that don´t appear in the reviews from Yelp or IMBD making the classifier less accurate. On the filpside, we are leaving keywords out that would improve the success rate of the classifier for the last two cases."
   ]
  }
 ],
 "metadata": {
  "kernelspec": {
   "display_name": "Python 3",
   "language": "python",
   "name": "python3"
  },
  "language_info": {
   "codemirror_mode": {
    "name": "ipython",
    "version": 3
   },
   "file_extension": ".py",
   "mimetype": "text/x-python",
   "name": "python",
   "nbconvert_exporter": "python",
   "pygments_lexer": "ipython3",
   "version": "3.6.1"
  }
 },
 "nbformat": 4,
 "nbformat_minor": 2
}
