{
 "cells": [
  {
   "cell_type": "code",
   "execution_count": 106,
   "metadata": {
    "collapsed": true
   },
   "outputs": [],
   "source": [
    "import numpy as np\n",
    "import pandas as pd\n",
    "import scipy\n",
    "import matplotlib.pyplot as plt\n",
    "import seaborn as sns\n",
    "%matplotlib inline\n",
    "from nltk.corpus import gutenberg\n",
    "import re\n",
    "from sklearn.model_selection import train_test_split\n",
    "from sklearn.feature_extraction.text import TfidfVectorizer\n",
    "from sklearn.decomposition import TruncatedSVD\n",
    "from sklearn.pipeline import make_pipeline\n",
    "from sklearn.preprocessing import Normalizer\n",
    "import math\n",
    "from textblob import TextBlob as tb"
   ]
  },
  {
   "cell_type": "markdown",
   "metadata": {},
   "source": [
    "***Drill: tf-idf scores***"
   ]
  },
  {
   "cell_type": "code",
   "execution_count": 107,
   "metadata": {},
   "outputs": [],
   "source": [
    "#Define tf_idf\n",
    "def tf(word, blob):\n",
    "    return blob.words.count(word) / len(blob.words)\n",
    "\n",
    "def n_containing(word, bloblist):\n",
    "    return sum(1 for blob in bloblist if word in blob.words)\n",
    "\n",
    "def idf(word, bloblist):\n",
    "    return math.log(len(bloblist) / (1 + n_containing(word, bloblist)))\n",
    "\n",
    "def tfidf(word, blob, bloblist):\n",
    "    return tf(word, blob) * idf(word, bloblist)"
   ]
  },
  {
   "cell_type": "code",
   "execution_count": 108,
   "metadata": {
    "collapsed": true
   },
   "outputs": [],
   "source": [
    "#Data\n",
    "phrase1 = tb(\"The best Monty Python sketch is the one about the dead parrot, I laughed so hard.\")\n",
    "phrase2 = tb(\"I laugh when I think about Python's Ministry of Silly Walks sketch, it is funny, funny, funny, the best!\")\n",
    "phrase3 = tb(\"Chocolate is the best ice cream dessert topping, with a great taste.\")\n",
    "phrase4 = tb(\"The Lumberjack Song is the funniest Monty Python bit: I can't think of it without laughing.\")\n",
    "phrase5 = tb(\"I would rather put strawberries on my ice cream for dessert, they have the best taste.\")\n",
    "phrase6 = tb(\"The taste of caramel is a fantastic accompaniment to tasty mint ice cream.\")"
   ]
  },
  {
   "cell_type": "code",
   "execution_count": 109,
   "metadata": {},
   "outputs": [
    {
     "name": "stdout",
     "output_type": "stream",
     "text": [
      "Top words in phrase 1\n",
      "\tWord: sketch, TF-IDF: 0.04332\n",
      "\tWord: Monty, TF-IDF: 0.04332\n",
      "\tWord: Python, TF-IDF: 0.02534\n",
      "\tWord: best, TF-IDF: 0.0114\n",
      "\tWord: taste, TF-IDF: 0.0\n",
      "\tWord: funny, TF-IDF: 0.0\n",
      "\tWord: laugh, TF-IDF: 0.0\n",
      "\tWord: ice cream, TF-IDF: 0.0\n",
      "\tWord: dessert, TF-IDF: 0.0\n",
      "Top words in phrase 2\n",
      "\tWord: funny, TF-IDF: 0.16479\n",
      "\tWord: laugh, TF-IDF: 0.05493\n",
      "\tWord: sketch, TF-IDF: 0.03466\n",
      "\tWord: Python, TF-IDF: 0.02027\n",
      "\tWord: best, TF-IDF: 0.00912\n",
      "\tWord: taste, TF-IDF: 0.0\n",
      "\tWord: ice cream, TF-IDF: 0.0\n",
      "\tWord: Monty, TF-IDF: 0.0\n",
      "\tWord: dessert, TF-IDF: 0.0\n",
      "Top words in phrase 3\n",
      "\tWord: dessert, TF-IDF: 0.05776\n",
      "\tWord: taste, TF-IDF: 0.03379\n",
      "\tWord: best, TF-IDF: 0.01519\n",
      "\tWord: funny, TF-IDF: 0.0\n",
      "\tWord: laugh, TF-IDF: 0.0\n",
      "\tWord: sketch, TF-IDF: 0.0\n",
      "\tWord: ice cream, TF-IDF: 0.0\n",
      "\tWord: Monty, TF-IDF: 0.0\n",
      "\tWord: Python, TF-IDF: 0.0\n",
      "Top words in phrase 4\n",
      "\tWord: Monty, TF-IDF: 0.04077\n",
      "\tWord: Python, TF-IDF: 0.02385\n",
      "\tWord: best, TF-IDF: 0.0\n",
      "\tWord: taste, TF-IDF: 0.0\n",
      "\tWord: funny, TF-IDF: 0.0\n",
      "\tWord: laugh, TF-IDF: 0.0\n",
      "\tWord: sketch, TF-IDF: 0.0\n",
      "\tWord: ice cream, TF-IDF: 0.0\n",
      "\tWord: dessert, TF-IDF: 0.0\n",
      "Top words in phrase 5\n",
      "\tWord: dessert, TF-IDF: 0.04332\n",
      "\tWord: taste, TF-IDF: 0.02534\n",
      "\tWord: best, TF-IDF: 0.0114\n",
      "\tWord: funny, TF-IDF: 0.0\n",
      "\tWord: laugh, TF-IDF: 0.0\n",
      "\tWord: sketch, TF-IDF: 0.0\n",
      "\tWord: ice cream, TF-IDF: 0.0\n",
      "\tWord: Monty, TF-IDF: 0.0\n",
      "\tWord: Python, TF-IDF: 0.0\n",
      "Top words in phrase 6\n",
      "\tWord: taste, TF-IDF: 0.03119\n",
      "\tWord: best, TF-IDF: 0.0\n",
      "\tWord: funny, TF-IDF: 0.0\n",
      "\tWord: laugh, TF-IDF: 0.0\n",
      "\tWord: sketch, TF-IDF: 0.0\n",
      "\tWord: ice cream, TF-IDF: 0.0\n",
      "\tWord: Monty, TF-IDF: 0.0\n",
      "\tWord: Python, TF-IDF: 0.0\n",
      "\tWord: dessert, TF-IDF: 0.0\n"
     ]
    }
   ],
   "source": [
    "#Build list and vocabulary\n",
    "bloblist = [phrase1, phrase2, phrase3, phrase4, phrase5, phrase6]\n",
    "voc = ['Monty', 'Python', 'sketch', 'laugh', 'funny', 'best', 'ice cream', 'dessert', 'taste']\n",
    "\n",
    "for i, blob in enumerate(bloblist):\n",
    "    print(\"Top words in phrase {}\".format(i + 1))\n",
    "    scores = {word: tfidf(word, blob, bloblist) for word in voc}\n",
    "    sorted_words = sorted(scores.items(), key=lambda x: x[1], reverse=True)\n",
    "    for word, score in sorted_words[:9]:\n",
    "        print(\"\\tWord: {}, TF-IDF: {}\".format(word, round(score, 5)))"
   ]
  },
  {
   "cell_type": "code",
   "execution_count": 110,
   "metadata": {},
   "outputs": [
    {
     "data": {
      "text/plain": [
       "{'about': 1.8472978603872037,\n",
       " 'accompaniment': 2.2527629684953681,\n",
       " 'best': 1.336472236621213,\n",
       " 'bit': 2.2527629684953681,\n",
       " 'can': 2.2527629684953681,\n",
       " 'caramel': 2.2527629684953681,\n",
       " 'chocolate': 2.2527629684953681,\n",
       " 'cream': 1.5596157879354227,\n",
       " 'dead': 2.2527629684953681,\n",
       " 'dessert': 1.8472978603872037,\n",
       " 'fantastic': 2.2527629684953681,\n",
       " 'for': 2.2527629684953681,\n",
       " 'funniest': 2.2527629684953681,\n",
       " 'funny': 2.2527629684953681,\n",
       " 'great': 2.2527629684953681,\n",
       " 'hard': 2.2527629684953681,\n",
       " 'have': 2.2527629684953681,\n",
       " 'ice': 1.5596157879354227,\n",
       " 'is': 1.1541506798272583,\n",
       " 'it': 1.8472978603872037,\n",
       " 'laugh': 2.2527629684953681,\n",
       " 'laughed': 2.2527629684953681,\n",
       " 'laughing': 2.2527629684953681,\n",
       " 'lumberjack': 2.2527629684953681,\n",
       " 'ministry': 2.2527629684953681,\n",
       " 'mint': 2.2527629684953681,\n",
       " 'monty': 1.8472978603872037,\n",
       " 'my': 2.2527629684953681,\n",
       " 'of': 1.5596157879354227,\n",
       " 'on': 2.2527629684953681,\n",
       " 'one': 2.2527629684953681,\n",
       " 'parrot': 2.2527629684953681,\n",
       " 'put': 2.2527629684953681,\n",
       " 'python': 1.5596157879354227,\n",
       " 'rather': 2.2527629684953681,\n",
       " 'silly': 2.2527629684953681,\n",
       " 'sketch': 1.8472978603872037,\n",
       " 'so': 2.2527629684953681,\n",
       " 'song': 2.2527629684953681,\n",
       " 'strawberries': 2.2527629684953681,\n",
       " 'taste': 1.5596157879354227,\n",
       " 'tasty': 2.2527629684953681,\n",
       " 'the': 1.0,\n",
       " 'they': 2.2527629684953681,\n",
       " 'think': 1.8472978603872037,\n",
       " 'to': 2.2527629684953681,\n",
       " 'topping': 2.2527629684953681,\n",
       " 'walks': 2.2527629684953681,\n",
       " 'when': 2.2527629684953681,\n",
       " 'with': 2.2527629684953681,\n",
       " 'without': 2.2527629684953681,\n",
       " 'would': 2.2527629684953681}"
      ]
     },
     "execution_count": 110,
     "metadata": {},
     "output_type": "execute_result"
    }
   ],
   "source": [
    "corpus = [\"The best Monty Python sketch is the one about the dead parrot, I laughed so hard.\",\n",
    "          \"I laugh when I think about Python's Ministry of Silly Walks sketch, it is funny, funny, funny, the best!\",\n",
    "          \"Chocolate is the best ice cream dessert topping, with a great taste.\",\n",
    "          \"The Lumberjack Song is the funniest Monty Python bit: I can't think of it without laughing.\",\n",
    "          \"I would rather put strawberries on my ice cream for dessert, they have the best taste.\",\n",
    "          \"The taste of caramel is a fantastic accompaniment to tasty mint ice cream.\"]\n",
    "\n",
    "vectorizer = TfidfVectorizer(min_df=1)\n",
    "\n",
    "X = vectorizer.fit_transform(corpus)\n",
    "\n",
    "idf = vectorizer.idf_\n",
    "\n",
    "features = vectorizer.get_feature_names()\n",
    "tfidf = dict(zip(vectorizer.get_feature_names(), idf))\n",
    "tfidf"
   ]
  },
  {
   "cell_type": "markdown",
   "metadata": {},
   "source": [
    "***Drills***"
   ]
  },
  {
   "cell_type": "code",
   "execution_count": 111,
   "metadata": {},
   "outputs": [
    {
     "name": "stdout",
     "output_type": "stream",
     "text": [
      "['[ Emma by Jane Austen 1816 ]', 'VOLUME I', 'CHAPTER I', 'Emma Woodhouse , handsome , clever , and rich , with a comfortable home and happy disposition , seemed to unite some of the best blessings of existence ; and had lived nearly twenty - one years in the world with very little to distress or vex her .']\n"
     ]
    }
   ],
   "source": [
    "#reading in the data, this time in the form of paragraphs\n",
    "emma=gutenberg.paras('austen-emma.txt')\n",
    "\n",
    "#processing\n",
    "emma_paras=[]\n",
    "for paragraph in emma:\n",
    "    para=paragraph[0]\n",
    "    #removing the double-dash from all words\n",
    "    para=[re.sub(r'--','',word) for word in para]\n",
    "    para=[re.sub(r'VOLUME \\w+', '', word) for word in para]\n",
    "    para=[re.sub(r'CHAPTER \\w+', '', word) for word in para]\n",
    "    #Forming each paragraph into a string and adding it to the list of strings.\n",
    "    emma_paras.append(' '.join(para))\n",
    "\n",
    "print(emma_paras[0:4])"
   ]
  },
  {
   "cell_type": "code",
   "execution_count": 112,
   "metadata": {},
   "outputs": [
    {
     "name": "stdout",
     "output_type": "stream",
     "text": [
      "Number of features: 382\n",
      "Original sentence: A very few minutes more , however , completed the present trial .\n",
      "Tf_idf vector: {'minutes': 0.70710678118654746, 'present': 0.70710678118654746}\n"
     ]
    }
   ],
   "source": [
    "#Split data and vectorize\n",
    "X_train, X_test = train_test_split(emma_paras, test_size=0.4, random_state=0)\n",
    "\n",
    "vectorizer = TfidfVectorizer(max_df=0.9, # drop words that occur in more than half the paragraphs\n",
    "                             min_df=10, # only use words that appear at X times (being X the number used)\n",
    "                             stop_words='english', \n",
    "                             lowercase=True, #convert everything to lower case (since Alice in Wonderland has the HABIT of CAPITALIZING WORDS for EMPHASIS)\n",
    "                             use_idf=False,#we definitely want to use inverse document frequencies in our weighting\n",
    "                             norm=u'l2', #Applies a correction factor so that longer paragraphs and shorter paragraphs get treated equally\n",
    "                             smooth_idf=True, #Adds 1 to all document frequencies, as if an extra document existed that used every word once.  Prevents divide-by-zero errors\n",
    "                           )\n",
    "\n",
    "\n",
    "#Applying the vectorizer\n",
    "emma_paras_tfidf=vectorizer.fit_transform(emma_paras)\n",
    "print(\"Number of features: %d\" % emma_paras_tfidf.get_shape()[1])\n",
    "\n",
    "#splitting into training and test sets\n",
    "X_train_tfidf, X_test_tfidf= train_test_split(emma_paras_tfidf, test_size=0.4, random_state=0)\n",
    "\n",
    "\n",
    "#Reshapes the vectorizer output into something people can read\n",
    "X_train_tfidf_csr = X_train_tfidf.tocsr()\n",
    "\n",
    "#number of paragraphs\n",
    "n = X_train_tfidf_csr.shape[0]\n",
    "#A list of dictionaries, one per paragraph\n",
    "tfidf_bypara = [{} for _ in range(0,n)]\n",
    "#List of features\n",
    "terms = vectorizer.get_feature_names()\n",
    "#for each paragraph, lists the feature words and their tf-idf scores\n",
    "for i, j in zip(*X_train_tfidf_csr.nonzero()):\n",
    "    tfidf_bypara[i][terms[j]] = X_train_tfidf_csr[i, j]\n",
    "\n",
    "#Keep in mind that the log base 2 of 1 is 0, so a tf-idf score of 0 indicates that the word was present once in that sentence.\n",
    "print('Original sentence:', X_train[5])\n",
    "print('Tf_idf vector:', tfidf_bypara[5])"
   ]
  },
  {
   "cell_type": "code",
   "execution_count": 113,
   "metadata": {},
   "outputs": [
    {
     "name": "stdout",
     "output_type": "stream",
     "text": [
      "Percent variance captured by all components: 75.8663260096\n",
      "Component 0:\n",
      "\" You have made her too tall , Emma ,\" said Mr . Knightley .                                                                                                                                                                                                                                                                                                                                                                                                                                                                                                                                                                                                                                                                                                                                                                                                                                                                                     0.800488\n",
      "Emma could not have desired a more spirited rejection of Mr . Martin ' s prose .                                                                                                                                                                                                                                                                                                                                                                                                                                                                                                                                                                                                                                                                                                                                                                                                                                                                 0.796912\n",
      "\" You get upon delicate subjects , Emma ,\" said Mrs . Weston smiling ; \" remember that I am here . Mr .                                                                                                                                                                                                                                                                                                                                                                                                                                                                                                                                                                                                                                                                                                                                                                                                                                          0.781704\n",
      "Mrs . Weston was acting no part , feigning no feelings in all that she said to him in favour of the event . She had been extremely surprized , never more so , than when Emma first opened the affair to her ; but she saw in it only increase of happiness to all , and had no scruple in urging him to the utmost . She had such a regard for Mr . Knightley , as to think he deserved even her dearest Emma ; and it was in every respect so proper , suitable , and unexceptionable a connexion , and in one respect , one point of the highest importance , so peculiarly eligible , so singularly fortunate , that now it seemed as if Emma could not safely have attached herself to any other creature , and that she had herself been the stupidest of beings in not having thought of it , and wished it long ago . How very few of those men in a rank of life to address Emma would have renounced their own home for Hartfield !    0.767525\n",
      "\" Emma ,\" said Mr . Knightley presently , \" I have a piece of news for you .                                                                                                                                                                                                                                                                                                                                                                                                                                                                                                                                                                                                                                                                                                                                                                                                                                                                     0.766765\n",
      "Mr . Knightley might quarrel with her , but Emma could not quarrel with herself .                                                                                                                                                                                                                                                                                                                                                                                                                                                                                                                                                                                                                                                                                                                                                                                                                                                                0.762165\n",
      "Emma found that it was not Mr . Weston ' s fault that the number of privy councillors was not yet larger .                                                                                                                                                                                                                                                                                                                                                                                                                                                                                                                                                                                                                                                                                                                                                                                                                                       0.761571\n",
      "Emma was most agreeably surprized . Mr .                                                                                                                                                                                                                                                                                                                                                                                                                                                                                                                                                                                                                                                                                                                                                                                                                                                                                                         0.753738\n",
      "The intermediate month was the one fixed on , as far as they dared , by Emma and Mr .                                                                                                                                                                                                                                                                                                                                                                                                                                                                                                                                                                                                                                                                                                                                                                                                                                                            0.743976\n",
      "\" Now ,\" said Emma , when they were fairly beyond the sweep gates , \" now Mr . Weston , do let me know what has happened .\"                                                                                                                                                                                                                                                                                                                                                                                                                                                                                                                                                                                                                                                                                                                                                                                                                      0.724880\n",
      "Name: 0, dtype: float64\n",
      "Component 1:\n",
      "\" Oh !     0.997991\n",
      "\" Oh !\"    0.997991\n",
      "\" Oh !     0.997991\n",
      "\" Oh !     0.997991\n",
      "\" Oh !\"    0.997991\n",
      "\" Oh !     0.997991\n",
      "\" Oh !     0.997991\n",
      "\" Oh !     0.997991\n",
      "\" Oh !     0.997991\n",
      "\" Oh !     0.997991\n",
      "Name: 1, dtype: float64\n",
      "Component 2:\n",
      "\" In one respect , perhaps , Mr . Elton ' s manners are superior to Mr . Knightley ' s or Mr . Weston ' s .                                                                                                                                                                                                                                                                          0.750133\n",
      "\" Why will not you write one yourself for us , Mr .                                                                                                                                                                                                                                                                                                                                  0.682854\n",
      "\"` Mr .                                                                                                                                                                                                                                                                                                                                                                              0.682854\n",
      "The carriage came : and Mr . Woodhouse , always the first object on such occasions , was carefully attended to his own by Mr . Knightley and Mr . Weston ; but not all that either could say could prevent some renewal of alarm at the sight of the snow which had actually fallen , and the discovery of a much darker night than he had been prepared for .                       0.676512\n",
      "Mr . Knightley had done all in his power for Mr . Woodhouse ' s entertainment .                                                                                                                                                                                                                                                                                                      0.671532\n",
      "Mr . Woodhouse at last was off ; but Mr . Knightley , instead of being immediately off likewise , sat down again , seemingly inclined for more chat .                                                                                                                                                                                                                                0.652959\n",
      "\" Mr . Knightley was there too , was he ?\"                                                                                                                                                                                                                                                                                                                                           0.634365\n",
      "Mr . Knightley grew angry .                                                                                                                                                                                                                                                                                                                                                          0.634365\n",
      "She had not time to know how Mr . Elton took the reproof , so rapidly did another subject succeed ; for Mr . John Knightley now came into the room from examining the weather , and opened on them all with the information of the ground being covered with snow , and of its still snowing fast , with a strong drifting wind ; concluding with these words to Mr . Woodhouse :    0.633847\n",
      "\" I do own myself to have been completely mistaken in Mr . Elton .                                                                                                                                                                                                                                                                                                                   0.622071\n",
      "Name: 2, dtype: float64\n",
      "Component 3:\n",
      "\" So do I ,\" said Mrs . Weston gently , \" very much .\"                                                                                                                                                                                                           0.723249\n",
      "\" No trouble in the world , ma ' am ,\" said the obliging Mrs . Ford .                                                                                                                                                                                            0.657123\n",
      "\" Well ,\" said Mrs . Weston , smiling , \" you give him credit for more simple , disinterested benevolence in this instance than I do ; for while Miss Bates was speaking , a suspicion darted into my head , and I have never been able to get it out again .    0.632900\n",
      "\" My advice ,\" said Mrs . Weston kindly and persuasively , \" I certainly do feel tempted to give .                                                                                                                                                               0.621415\n",
      "\" Now , ma ' am ,\" said Jane to her aunt , \" shall we join Mrs .                                                                                                                                                                                                 0.587568\n",
      "Miss Bates and Miss Fairfax , escorted by the two gentlemen , walked into the room ; and Mrs . Elton seemed to think it as much her duty as Mrs . Weston ' s to receive them .                                                                                   0.579231\n",
      "\" Well done , Mrs .                                                                                                                                                                                                                                              0.573555\n",
      "[ To Mrs .                                                                                                                                                                                                                                                       0.573555\n",
      "\" How do you do , Mrs . Ford ?                                                                                                                                                                                                                                   0.573555\n",
      "\" Mrs . Dixon !                                                                                                                                                                                                                                                  0.573555\n",
      "Name: 3, dtype: float64\n",
      "Component 4:\n",
      "CHAPTER II      1.0\n",
      "CHAPTER IV      1.0\n",
      "CHAPTER II      1.0\n",
      "CHAPTER III     1.0\n",
      "CHAPTER XVI     1.0\n",
      "CHAPTER XIV     1.0\n",
      "CHAPTER X       1.0\n",
      "CHAPTER V       1.0\n",
      "CHAPTER X       1.0\n",
      "CHAPTER XVII    1.0\n",
      "Name: 4, dtype: float64\n"
     ]
    }
   ],
   "source": [
    "#Our SVD data reducer.  We are going to reduce the feature space from 1379 to 130.\n",
    "svd= TruncatedSVD(130)\n",
    "lsa = make_pipeline(svd, Normalizer(copy=False))\n",
    "# Run SVD on the training data, then project the training data.\n",
    "X_train_lsa = lsa.fit_transform(X_train_tfidf)\n",
    "\n",
    "variance_explained=svd.explained_variance_ratio_\n",
    "total_variance = variance_explained.sum()\n",
    "print(\"Percent variance captured by all components:\",total_variance*100)\n",
    "\n",
    "#Looking at what sorts of paragraphs our solution considers similar, for the first five identified topics\n",
    "paras_by_component=pd.DataFrame(X_train_lsa,index=X_train)\n",
    "for i in range(5):\n",
    "    print('Component {}:'.format(i))\n",
    "    print(paras_by_component.loc[:,i].sort_values(ascending=False)[0:10])\n"
   ]
  },
  {
   "cell_type": "code",
   "execution_count": 114,
   "metadata": {},
   "outputs": [
    {
     "data": {
      "image/png": "[encoded data removed]",
      "text/plain": [
       "<matplotlib.figure.Figure at 0x2c266f0be48>"
      ]
     },
     "metadata": {},
     "output_type": "display_data"
    },
    {
     "name": "stdout",
     "output_type": "stream",
     "text": [
      "Key:\n",
      "0 That is _court_ .\n",
      "1 \" Yes , sir , I did indeed ; and I am very much obliged by your kind solicitude about me .\"\n",
      "2 \" How much his business engrosses him already is very plain from the circumstance of his forgetting to inquire for the book you recommended .\n",
      "3 To restrain him as much as might be , by her own manners , she was immediately preparing to speak with exquisite calmness and gravity of the weather and the night ; but scarcely had she begun , scarcely had they passed the sweep - gate and joined the other carriage , than she found her subject cut up  her hand seized  her attention demanded , and Mr . Elton actually making violent love to her : availing himself of the precious opportunity , declaring sentiments which must be already well known , hoping  fearing  adoring  ready to die if she refused him ; but flattering himself that his ardent attachment and unequalled love and unexampled passion could not fail of having some effect , and in short , very much resolved on being seriously accepted as soon as possible .\n",
      "4 Emma smiled and answered \" My visit was of use to the nervous part of her complaint , I hope ; but not even I can charm away a sore throat ; it is a most severe cold indeed .\n",
      "5 A very few minutes more , however , completed the present trial .\n",
      "6 \" I am delighted to hear you speak so stoutly on the subject ,\" replied Emma , smiling ; \" but you do not mean to deny that there was a time  and not very distant either  when you gave me reason to understand that you did care about him ?\"\n",
      "7 \" Very well ; and if he had intended to give her one , he would have told her so .\"\n",
      "8 Some laughed , and answered good - humouredly .\n",
      "9 \" There appeared such a perfectly good understanding among them all \" he began rather quickly , but checking himself , added , \" however , it is impossible for me to say on what terms they really were  how it might all be behind the scenes .\n"
     ]
    }
   ],
   "source": [
    "# Compute document similarity using LSA components\n",
    "similarity = np.asarray(np.asmatrix(X_train_lsa) * np.asmatrix(X_train_lsa).T)\n",
    "#Only taking the first 10 sentences\n",
    "sim_matrix=pd.DataFrame(similarity,index=X_train).iloc[0:10,0:10]\n",
    "#Making a plot\n",
    "ax = sns.heatmap(sim_matrix,yticklabels=range(10))\n",
    "plt.show()\n",
    "\n",
    "#Generating a key for the plot.\n",
    "print('Key:')\n",
    "for i in range(10):\n",
    "    print(i,sim_matrix.index[i])"
   ]
  },
  {
   "cell_type": "markdown",
   "metadata": {},
   "source": [
    "***Drill 0: Test set***"
   ]
  },
  {
   "cell_type": "code",
   "execution_count": 115,
   "metadata": {},
   "outputs": [
    {
     "name": "stdout",
     "output_type": "stream",
     "text": [
      "Original sentence: \" And I am quite serious too , I assure you ,\" replied Mrs . Elton gaily , \" in resolving to be always on the watch , and employing my friends to watch also , that nothing really unexceptionable may pass us .\"\n",
      "Tf_idf vector: {'really': 0.35355339059327373, 'pass': 0.35355339059327373, 'assure': 0.35355339059327373, 'mrs': 0.35355339059327373, 'friends': 0.35355339059327373, 'quite': 0.35355339059327373, 'elton': 0.35355339059327373, 'replied': 0.35355339059327373}\n"
     ]
    }
   ],
   "source": [
    "#Reshapes the vectorizer output into something people can read\n",
    "X_test_tfidf_csr = X_test_tfidf.tocsr()\n",
    "\n",
    "#number of paragraphs\n",
    "n = X_test_tfidf_csr.shape[0]\n",
    "#A list of dictionaries, one per paragraph\n",
    "tfidf_bypara = [{} for _ in range(0,n)]\n",
    "#List of features\n",
    "terms = vectorizer.get_feature_names()\n",
    "#for each paragraph, lists the feature words and their tf-idf scores\n",
    "for i, j in zip(*X_test_tfidf_csr.nonzero()):\n",
    "    tfidf_bypara[i][terms[j]] = X_test_tfidf_csr[i, j]\n",
    "\n",
    "#Keep in mind that the log base 2 of 1 is 0, so a tf-idf score of 0 indicates that the word was present once in that sentence.\n",
    "print('Original sentence:', X_test[5])\n",
    "print('Tf_idf vector:', tfidf_bypara[5])"
   ]
  },
  {
   "cell_type": "code",
   "execution_count": 116,
   "metadata": {},
   "outputs": [
    {
     "name": "stdout",
     "output_type": "stream",
     "text": [
      "Percent variance captured by all components: 79.6598094568\n",
      "Component 0:\n",
      "The event was more favourable to Mr . Woodhouse than to Emma .                                                                                                                                                                            0.717394\n",
      "\" Well , Mrs . Weston ,\" said Emma triumphantly when he left them , \" what do you say now to Mr . Knightley ' s marrying Jane Fairfax ?\"                                                                                                  0.698278\n",
      "In this walk Emma and Mr . Weston found all the others assembled ; and towards this view she immediately perceived Mr . Knightley and Harriet distinct from the rest , quietly leading the way .                                          0.697127\n",
      "\" He is a person I never think of from one month ' s end to another ,\" said Mr . Knightley , with a degree of vexation , which made Emma immediately talk of something else , though she could not comprehend why he should be angry .    0.684809\n",
      "Emma and Harriet had been walking together one morning , and , in Emma ' s opinion , had been talking enough of Mr . Elton for that day .                                                                                                 0.676590\n",
      "Mr . Elton had retreated into the card - room , looking ( Emma trusted ) very foolish .                                                                                                                                                   0.672216\n",
      "Emma was extremely gratified . They were interrupted by the bustle of Mr . Weston calling on every body to begin dancing again .                                                                                                          0.670927\n",
      "\" And when ,\" thought Emma , \" will there be a beginning of Mr .                                                                                                                                                                          0.657018\n",
      "Emma would not have smiled for the world , and only said , \" Is Mr . Elton gone on foot to Donwell ? He will have a hot walk .\"                                                                                                           0.648608\n",
      "Emma was more than half in hopes of Mr . Elton ' s having dropt a hint .                                                                                                                                                                  0.642841\n",
      "Name: 0, dtype: float64\n",
      "Component 1:\n",
      "\" Oh !            0.999456\n",
      "\" Oh no , no !    0.999456\n",
      "\" Oh !            0.999456\n",
      "\" Oh !            0.999456\n",
      "\" Oh !            0.999456\n",
      "\" Oh !            0.999456\n",
      "\" Oh !            0.999456\n",
      "\" Oh !            0.999456\n",
      "\" Me ! oh !       0.999456\n",
      "\" Oh !            0.999456\n",
      "Name: 1, dtype: float64\n",
      "Component 2:\n",
      "\" She must have some motive , more powerful than appears , for refusing this invitation ,\" was Emma ' s conclusion .                                0.701628\n",
      "Emma had done .                                                                                                                                     0.701628\n",
      "Emma wondered on what , of all the medley , she would fix .                                                                                         0.701628\n",
      "\" And I do envy him , Emma .                                                                                                                        0.701628\n",
      "\" My Emma !\"                                                                                                                                        0.701628\n",
      "\" Such an imagination has crossed me , I own , Emma ; and if it never occurred to you before , you may as well take it into consideration now .\"    0.701628\n",
      "\" Emma !\"                                                                                                                                           0.701628\n",
      "Emma denied none of it aloud , and agreed to none of it in private .                                                                                0.701628\n",
      "Emma was in no danger of forgetting .                                                                                                               0.683578\n",
      "Emma seriously hoped she would .                                                                                                                    0.671660\n",
      "Name: 2, dtype: float64\n",
      "Component 3:\n",
      "\" I am not fond of dinner - visiting ,\" said he \" I never was .                                                                                                                                       0.676805\n",
      "\" It is to be a secret , I conclude ,\" said he .                                                                                                                                                      0.675223\n",
      "\" Colonel and Mrs . Campbell are to be in town again by midsummer ,\" said Jane .                                                                                                                      0.642224\n",
      "\" Well  if you please ,\" said Mrs . Weston rather hesitating , \" if you think she will be of any use .\"                                                                                               0.637882\n",
      "\" It is Frank and Miss Fairfax ,\" said Mrs . Weston .                                                                                                                                                 0.627133\n",
      "\" Do come with me ,\" said Mrs . Weston , \" if it be not very disagreeable to you .                                                                                                                    0.620625\n",
      "\" Well ,\" said Mrs . Weston , laughing , \" perhaps the greatest good he could do them , would be to give Jane such a respectable home .\"                                                              0.611626\n",
      "\" I should not wonder ,\" said Mrs . Weston , \" if Miss Fairfax were to have been drawn on beyond her own inclination , by her aunt ' s eagerness in accepting Mrs . Elton ' s civilities for her .    0.597601\n",
      "\" If you are very kind ,\" said he , \" it will be one of the waltzes we danced last night ; let me live them over again .                                                                              0.569466\n",
      "\" Well ,\" said Mrs . Elton , laughing , \" we shall see .\"                                                                                                                                             0.556614\n",
      "Name: 3, dtype: float64\n",
      "Component 4:\n",
      "CHAPTER XV       1.0\n",
      "CHAPTER XII      1.0\n",
      "CHAPTER XIV      1.0\n",
      "CHAPTER XIX      1.0\n",
      "CHAPTER XIII     1.0\n",
      "CHAPTER XV       1.0\n",
      "CHAPTER XIII     1.0\n",
      "CHAPTER IV       1.0\n",
      "CHAPTER VII      1.0\n",
      "CHAPTER XVIII    1.0\n",
      "Name: 4, dtype: float64\n"
     ]
    }
   ],
   "source": [
    "#Our SVD data reducer.  We are going to reduce the feature space from 1379 to 130.\n",
    "svd= TruncatedSVD(130)\n",
    "lsa = make_pipeline(svd, Normalizer(copy=False))\n",
    "# Run SVD on the training data, then project the training data.\n",
    "X_test_lsa = lsa.fit_transform(X_test_tfidf)\n",
    "\n",
    "variance_explained=svd.explained_variance_ratio_\n",
    "total_variance = variance_explained.sum()\n",
    "print(\"Percent variance captured by all components:\",total_variance*100)\n",
    "\n",
    "#Looking at what sorts of paragraphs our solution considers similar, for the first five identified topics\n",
    "paras_by_component=pd.DataFrame(X_test_lsa,index=X_test)\n",
    "for i in range(5):\n",
    "    print('Component {}:'.format(i))\n",
    "    print(paras_by_component.loc[:,i].sort_values(ascending=False)[0:10])"
   ]
  },
  {
   "cell_type": "code",
   "execution_count": 117,
   "metadata": {},
   "outputs": [
    {
     "data": {
      "image/png": "[encoded data removed]",
      "text/plain": [
       "<matplotlib.figure.Figure at 0x2c266d39fd0>"
      ]
     },
     "metadata": {},
     "output_type": "display_data"
    },
    {
     "name": "stdout",
     "output_type": "stream",
     "text": [
      "Key:\n",
      "0 Mr . Woodhouse had so completely made up his mind to the visit , that in spite of the increasing coldness , he seemed to have no idea of shrinking from it , and set forward at last most punctually with his eldest daughter in his own carriage , with less apparent consciousness of the weather than either of the others ; too full of the wonder of his own going , and the pleasure it was to afford at Randalls to see that it was cold , and too well wrapt up to feel it .\n",
      "1 \" Oh !\n",
      "2 \" Oh no , no !\n",
      "3 Such was Jane Fairfax ' s history .\n",
      "4 \" That has been a good deal the case , my dear ; but not to the degree you mention .\n",
      "5 \" And I am quite serious too , I assure you ,\" replied Mrs . Elton gaily , \" in resolving to be always on the watch , and employing my friends to watch also , that nothing really unexceptionable may pass us .\"\n",
      "6 \" And here is Mrs . Weston and Mr . Frank Churchill too ! Quite delightful ; so many friends !\"\n",
      "7 \" You may well class the delight , the honour , and the comfort of such a situation together ,\" said Jane , \" they are pretty sure to be equal ; however , I am very serious in not wishing any thing to be attempted at present for me .\n",
      "8 Harriet , Mr . Elton , and Mr . Knightley , their own especial set , were the only persons invited to meet them ; the hours were to be early , as well as the numbers few ; Mr . Woodhouse ' s habits and inclination being consulted in every thing .\n",
      "9 \" Oh !\n"
     ]
    }
   ],
   "source": [
    "# Compute document similarity using LSA components\n",
    "similarity = np.asarray(np.asmatrix(X_test_lsa) * np.asmatrix(X_test_lsa).T)\n",
    "#Only taking the first 10 sentences\n",
    "sim_matrix=pd.DataFrame(similarity,index=X_test).iloc[0:10,0:10]\n",
    "#Making a plot\n",
    "ax = sns.heatmap(sim_matrix,yticklabels=range(10))\n",
    "plt.show()\n",
    "\n",
    "#Generating a key for the plot.\n",
    "print('Key:')\n",
    "for i in range(10):\n",
    "    print(i,sim_matrix.index[i])"
   ]
  },
  {
   "cell_type": "markdown",
   "metadata": {},
   "source": [
    "The heatmap shows that sentences 1,2 present similarity between them and with sentence 9 as oh! appears in all of them."
   ]
  },
  {
   "cell_type": "markdown",
   "metadata": {},
   "source": [
    "***Drill 1: Tweaking tf-idf***"
   ]
  },
  {
   "cell_type": "markdown",
   "metadata": {},
   "source": [
    "When the threshold regarding the number of times that a word appears (min_df) increases (from 2 to 10), the noise is reduced reducing the number of features significantly (form >2000 to <1000) and the percentage of variance explained increases to 68%.\n",
    "\n",
    "Dropping the words that appear in certain number of paragraphs (max_df) from (0.5 to 0.2) has a lower impact than the number of times a word appears in the text. It could be due to the fact that after cleaning the text from punctuation and stopwords there are not too many words that appear in more than one of the paragraphs. Increasing this threshold makes the number of features higher as it will be harder to find words that are repeated in a higher number of paragraphs.\n",
    "\n",
    "The use of n-grams in a range 1-3 penalises the number of features used to have the same percentage of variance explained. More features are required to achieve the same level of variance.\n",
    "\n",
    "Not using inverse frequency in the vectorizer increases the variance explained up to 75% with the same number of features than when it is used. In  this case, max_df has a significant impact in the level of variance explained (73% for 0.1 to 76% with 0.9) with the same number of features (roughly 382-5)\n"
   ]
  }
 ],
 "metadata": {
  "kernelspec": {
   "display_name": "Python 3",
   "language": "python",
   "name": "python3"
  },
  "language_info": {
   "codemirror_mode": {
    "name": "ipython",
    "version": 3
   },
   "file_extension": ".py",
   "mimetype": "text/x-python",
   "name": "python",
   "nbconvert_exporter": "python",
   "pygments_lexer": "ipython3",
   "version": "3.5.4"
  }
 },
 "nbformat": 4,
 "nbformat_minor": 2
}
