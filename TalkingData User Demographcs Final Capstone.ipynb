{
 "cells": [
  {
   "cell_type": "code",
   "execution_count": 92,
   "metadata": {},
   "outputs": [],
   "source": [
    "import os\n",
    "import codecs\n",
    "import glob\n",
    "import logging\n",
    "import re\n",
    "import sys\n",
    "import string\n",
    "import warnings\n",
    "import numpy as np\n",
    "import pandas as pd\n",
    "import scipy\n",
    "import matplotlib.pyplot as plt\n",
    "import seaborn as sns\n",
    "import math\n",
    "from sklearn.utils import resample\n",
    "from sklearn.feature_selection import SelectKBest\n",
    "from matplotlib.mlab import PCA as mlabPCA\n",
    "from sklearn.preprocessing import StandardScaler\n",
    "from sklearn.decomposition import PCA \n",
    "from sklearn import preprocessing\n",
    "from sklearn.decomposition import PCA as sklearn_pca\n",
    "from sklearn import decomposition\n",
    "from sklearn import ensemble\n",
    "from sklearn.linear_model import LogisticRegression\n",
    "from sklearn.neighbors import KNeighborsClassifier\n",
    "from sklearn.ensemble import RandomForestClassifier\n",
    "from sklearn.linear_model import SGDClassifier\n",
    "from sklearn.ensemble import GradientBoostingClassifier\n",
    "from sklearn.naive_bayes import BernoulliNB\n",
    "from sklearn.feature_selection import RFECV\n",
    "import bokeh.plotting as bp\n",
    "import matplotlib as mpl\n",
    "from scipy.stats import mode\n",
    "from sklearn.svm import LinearSVC, SVC\n",
    "from sklearn.decomposition import TruncatedSVD\n",
    "from sklearn.pipeline import make_pipeline\n",
    "from sklearn.cluster import SpectralClustering, MeanShift, estimate_bandwidth, AffinityPropagation, KMeans\n",
    "from sklearn.preprocessing import Normalizer, normalize\n",
    "from sklearn.manifold import TSNE\n",
    "from bokeh.models import HoverTool, BoxSelectTool\n",
    "from bokeh.plotting import figure, show, output_notebook\n",
    "from sklearn.metrics import accuracy_score, confusion_matrix, classification_report\n",
    "from sklearn.metrics import silhouette_score, homogeneity_score, completeness_score, completeness_score, v_measure_score, adjusted_rand_score\n",
    "from sklearn.model_selection import train_test_split,cross_val_score, KFold, cross_val_predict, GridSearchCV, StratifiedKFold\n",
    "from keras.layers.embeddings import Embedding\n",
    "from keras.preprocessing import sequence\n",
    "import tensorflow as tf\n",
    "import keras\n",
    "from keras.layers import Embedding,LSTM, Dense, Dropout, Flatten, Conv1D, MaxPooling1D, LSTM, Input\n",
    "from keras.models import Sequential, Model\n",
    "from sklearn.preprocessing import LabelEncoder\n",
    "from keras.utils import np_utils\n",
    "from keras.optimizers import RMSprop\n",
    "from keras.layers.normalization import BatchNormalization\n",
    "from keras.optimizers import SGD\n",
    "from keras import backend as K\n",
    "%matplotlib inline"
   ]
  },
  {
   "cell_type": "markdown",
   "metadata": {},
   "source": [
    "### Introduction ###"
   ]
  },
  {
   "cell_type": "markdown",
   "metadata": {},
   "source": [
    "The purpose of this product is to classify population depending on their uses of their phone and phone brands. This classification is the first step to tailor advertising campaigns by third parties based on the usage of the mobile according to the age and gender of the population. For this we have a sample of the population using Mobile Talk data in China. Although this product has been developed for the Chinese population, it can be used globally as further research has shown that other mobile operators in other countries have access to the same type of data.\n",
    "\n",
    "In this case the groups have been preset based on gender and age range that are specifically important for the client of Mobile Talk. This groups can be tailored to the needs of the advertising company depending on the information that the mobile operator is willing to share with the final client or that wants to use to tailor its own offering.\n",
    "\n",
    "From the data extracted we are going to get the main features that will be used to classify the population according to their demographics. For this we are going to focus on the apps they use and the device brand. The steps that will be followed to develop this product are:\n",
    "\n",
    "1. ***Data Wrangling:*** Acquire the data and transform categorical data into data that can be used for classification after merging the data from different sources. In this step special attention has been taken to the empty cells and duplicates present in each dataset so that the final dataset is manageable.\n",
    "\n",
    "2. ***Dataset creation:*** Build the final dataset and cleanse it accordingly so that it can be used for classification purposes. In this case the categorical features are hotenconded representing by 1 the presence of an app on a device and zero the absence. The same criteria has been followed with the phone brand. In this case, brands have been translated into English using information available. Local brands, for which information was not available have been substituted with UBXX standing for “unkown brand” followed by two digits.\n",
    "\n",
    "3. ***Features Generation:*** The most meaningful features have been selected using different methods and transformed using PCA so that the classification accuracy is maximized. The initial analysis to generate the features give the most important ones to measure the relationship they have with the outcome variable (group by gender and age). For the classification purposes there is no need to keep them as accuracy is the objective of the classification exercise. In this case kbest, random forest feature selection and recursive feature elimination has been used as a preliminary step. The final number of features to determine the PCA components have been chosen so that the accuracy of the algorithms in enhanced.\n",
    "\n",
    "4. ***Model Selection:*** Several supervised algorithms have been used as a preliminary step to determine the one that is giving highest accuracy and that is suitable for production. Computing effort and suitability for production is measured based on the computing time required by each of them. There is a compromise that has to be achieved between accuracy and computing effort to make the product a feasible product. The algorithms that will be tested are logistic regression, Naïve-Bayes, k-nearest neighbors, support vector classifier, linear vector classifier, random forest, decision tree, SGD classifier and Gradient Boosting classifier. From the obtained results the algorithm that suits best the abovementioned criteria will be selected as final product.\n",
    "\n",
    "5. ***Deep learning classification:*** in this case, the raw data is passed through a Multilayer Classifier analyzing the effect of different layers and configurations of the neural network to maximize the accuracy of the model. In this case due to the amount of data points available we are expecting high accuracy but maybe lower than the accuracy that is normally obtained with this models. The goal is to achieve the highest accuracy through this model.\n",
    "\n",
    "6. ***Unsupervised Clustering:*** Cluster the data to see the information that it can be extracted from it and the basic features that characterize each group. Meanshift, Spectral, Affinity and kmeans clustering will be tested to see which one is the most suitable based on the different metrics used for comparison such as silhouette, homogeneity, completeness, V-measure and adjusted Rand. The number of clusters between spectral clustering and kmeans that achieves the best result is the one that will be used to cluster the information.\n",
    "\n",
    "7. ***Conclusion*** The main findings will be summarized and the selected algorithm will be presented as a conclusion summarising the main features of the product."
   ]
  },
  {
   "cell_type": "markdown",
   "metadata": {},
   "source": [
    "### 1. Data Wrangling###"
   ]
  },
  {
   "cell_type": "markdown",
   "metadata": {},
   "source": [
    "The data that is going to be used is retrieved from https://www.kaggle.com/c/talkingdata-mobile-user-demographics. In this case, we have several folders that give information about demographics and use of their mobile phones. More specifically, we will focus on the gender-age file as the base to create the features for further analysis. This file contains the information and clusters that are relevant to be used for online advertising campaigns, including device id, age, gender and age group.\n",
    "\n",
    "The dataset provided by Kaggle as the test in the abovementioned link has been discarded as it is providing devices that are not contained in the training dataset and is adding noise to the dataset as we don´t have any relevant information from which we can create features.\n",
    "\n",
    "The phone brand dataset is linking the device id with the phone brand and model. The device model will be used and grouped by phone brand to use it as one of the features. In this case and for further merging of the datasets the duplicates in phone brands have been dropped as it will increase the dataset making it unmanageable not adding information.\n",
    "\n",
    "The appevents dataset links the events or usage of the different apps to the app id that categorizes the apps within certain groups such as gaming, finance, etc. In this case the app ides will be used as a categorical features to have a better description of the interests of the target audience. The linking column will be the events as it appears in both datasets (app_events and device apps) including information about the app to see if it is active or just installed.\n",
    "\n",
    "The applabels dataset “translates” a 20 digits id into the abovementioned categories.\n",
    "\n",
    "The events dataset gives information about the location and the time in which the app is used in the device. In this case the information about the location has been discarded as it is not accurate giving as locations points outside of China hence not adding relevant information for the features generation."
   ]
  },
  {
   "cell_type": "code",
   "execution_count": 2,
   "metadata": {},
   "outputs": [],
   "source": [
    "#Uplaod the data into the notbook and select the rows that will be used after previous visual inspection of the datasets\n",
    "datadir = 'D:/Users/Borja.gonzalez/Desktop/Thinkful-DataScience-Borja'\n",
    "gatrain = pd.read_csv('gender_age_train.csv',usecols=['device_id','gender','age','group'] )\n",
    "gatest = pd.read_csv('gender_age_test.csv')\n",
    "phone = pd.read_csv('phone_brand_device_model.csv')\n",
    "app_events = pd.read_csv('app_events.csv', usecols = ['event_id', 'app_id','is_active'])\n",
    "applabels = pd.read_csv('app_labels.csv')\n",
    "events = pd.read_csv('events.csv', usecols = ['event_id', 'device_id'])\n",
    "\n",
    "# Get rid of duplicate device ids in phone\n",
    "phone = phone.drop_duplicates('device_id',keep='first')"
   ]
  },
  {
   "cell_type": "markdown",
   "metadata": {},
   "source": [
    "### 2. Dataset Creation ###"
   ]
  },
  {
   "cell_type": "markdown",
   "metadata": {},
   "source": [
    "The first objective is to create a dataset that unifies the different files that have been uploaded into the notebook. For this there will be a set of merging actions based on the information provided that will be combined with cleaning actions to avoid oversizing the final dataset prior to the features generation.\n",
    "\n",
    "To merge this information the hypothesis around the potential features that can explain the demographics of the users for further classification has been used: app labels, device brands, gender and age. This transforms the problem into selecting and generation the categorical features (predictors) to determine based on them if the user is in a certain age range and gender (target).\n",
    "\n",
    "The order in which the different datasets are merged is not random. Several ways of merging the data have been tried and this is the one that allows to build a model that will predict the age range and gender gathering as much relevant information as possible.\n",
    "\n",
    "In this case the information about events (usage of the phone) and app_events that identifies app ids is merged using as the merging column the events. As a result information about the device id the use of the app and the app id are in the same dataframe which allows further merging to arrive to the applabels and device brands. In this merging the duplicates have been left out to avoid oversizing the dataframe. From the information of this dataset there are 459k rows of data that match usage, device id to app id. The timestamp has been eliminated from the dataset as it does not add relevant information and there are data points missing."
   ]
  },
  {
   "cell_type": "code",
   "execution_count": 3,
   "metadata": {},
   "outputs": [],
   "source": [
    "#Merge the app_events and events to accrss app_ids.\n",
    "device_apps = (\n",
    "     \n",
    "     app_events\n",
    "    \n",
    "     # Merge on event_id\n",
    "    .merge(events, how = 'left', left_on = 'event_id', right_on = 'event_id')\n",
    "    \n",
    "     # event_id itself is not interesting\n",
    "    .drop('event_id', axis = 1)\n",
    "    \n",
    "     # Because the events correspond to more than just\n",
    "     # being installed, there are many duplicates\n",
    "    .drop_duplicates())"
   ]
  },
  {
   "cell_type": "markdown",
   "metadata": {},
   "source": [
    "The dataset stands as follows. There are more than 2.8 million entries being all the values of the cells integers"
   ]
  },
  {
   "cell_type": "code",
   "execution_count": 4,
   "metadata": {},
   "outputs": [
    {
     "name": "stdout",
     "output_type": "stream",
     "text": [
      "<class 'pandas.core.frame.DataFrame'>\n",
      "Int64Index: 2840343 entries, 0 to 32472919\n",
      "Data columns (total 3 columns):\n",
      "app_id       int64\n",
      "is_active    int64\n",
      "device_id    int64\n",
      "dtypes: int64(3)\n",
      "memory usage: 86.7 MB\n",
      "None\n"
     ]
    },
    {
     "data": {
      "text/html": [
       "<div>\n",
       "<style>\n",
       "    .dataframe thead tr:only-child th {\n",
       "        text-align: right;\n",
       "    }\n",
       "\n",
       "    .dataframe thead th {\n",
       "        text-align: left;\n",
       "    }\n",
       "\n",
       "    .dataframe tbody tr th {\n",
       "        vertical-align: top;\n",
       "    }\n",
       "</style>\n",
       "<table border=\"1\" class=\"dataframe\">\n",
       "  <thead>\n",
       "    <tr style=\"text-align: right;\">\n",
       "      <th></th>\n",
       "      <th>app_id</th>\n",
       "      <th>is_active</th>\n",
       "      <th>device_id</th>\n",
       "    </tr>\n",
       "  </thead>\n",
       "  <tbody>\n",
       "    <tr>\n",
       "      <th>0</th>\n",
       "      <td>5927333115845830913</td>\n",
       "      <td>1</td>\n",
       "      <td>-6401643145415154744</td>\n",
       "    </tr>\n",
       "    <tr>\n",
       "      <th>1</th>\n",
       "      <td>-5720078949152207372</td>\n",
       "      <td>0</td>\n",
       "      <td>-6401643145415154744</td>\n",
       "    </tr>\n",
       "    <tr>\n",
       "      <th>2</th>\n",
       "      <td>-1633887856876571208</td>\n",
       "      <td>0</td>\n",
       "      <td>-6401643145415154744</td>\n",
       "    </tr>\n",
       "    <tr>\n",
       "      <th>3</th>\n",
       "      <td>-653184325010919369</td>\n",
       "      <td>1</td>\n",
       "      <td>-6401643145415154744</td>\n",
       "    </tr>\n",
       "    <tr>\n",
       "      <th>4</th>\n",
       "      <td>8693964245073640147</td>\n",
       "      <td>1</td>\n",
       "      <td>-6401643145415154744</td>\n",
       "    </tr>\n",
       "  </tbody>\n",
       "</table>\n",
       "</div>"
      ],
      "text/plain": [
       "                app_id  is_active            device_id\n",
       "0  5927333115845830913          1 -6401643145415154744\n",
       "1 -5720078949152207372          0 -6401643145415154744\n",
       "2 -1633887856876571208          0 -6401643145415154744\n",
       "3  -653184325010919369          1 -6401643145415154744\n",
       "4  8693964245073640147          1 -6401643145415154744"
      ]
     },
     "execution_count": 4,
     "metadata": {},
     "output_type": "execute_result"
    }
   ],
   "source": [
    "#Get information about the new dataset\n",
    "print(device_apps.info())\n",
    "\n",
    "#Print the first five rows fo the dataset\n",
    "device_apps.head()"
   ]
  },
  {
   "cell_type": "markdown",
   "metadata": {},
   "source": [
    "The devices ids are now linked to the applabels so that it contains the information about the different categories of the apps is included. In this case the 20 digit identifier of the app is substituted by a category that identifies the kind of app that is active in each device."
   ]
  },
  {
   "cell_type": "code",
   "execution_count": 5,
   "metadata": {},
   "outputs": [],
   "source": [
    "#Translate the apps_id to apps categories to build features\n",
    "apps = (\n",
    "    device_apps\n",
    "    \n",
    "     # Merge on event_id\n",
    "    .merge(applabels, how = 'left', left_on = 'app_id', right_on = 'app_id')\n",
    "    \n",
    "     # event_id itself is not interesting\n",
    "    .drop('app_id', axis = 1)\n",
    "    \n",
    "     # Because the events correspond to more than just\n",
    "     # being installed, there are many duplicates\n",
    "    .drop_duplicates())"
   ]
  },
  {
   "cell_type": "markdown",
   "metadata": {},
   "source": [
    "The new dataset is cleansed removing the empty values and changing the type of variable so that they can be merged afterwards without increasing disproportionately the number of rows."
   ]
  },
  {
   "cell_type": "code",
   "execution_count": 6,
   "metadata": {},
   "outputs": [],
   "source": [
    "#Clean the dataset removing empty cells from the data set\n",
    "apps = apps.dropna()\n",
    "\n",
    "#convert first or second to str or int\n",
    "apps['device_id'] = apps['device_id'].astype(int)\n",
    "#Motor['Motor'] = Motor['Motor'].astype(str)\n",
    "\n",
    "#Merge the column back into the dataset\n",
    "gatrain['device_id'] = gatrain['device_id'].astype(int)"
   ]
  },
  {
   "cell_type": "markdown",
   "metadata": {},
   "source": [
    "Information is retrieved about the size and type of the variables in the dataset. The dataset is now ready to be merged."
   ]
  },
  {
   "cell_type": "code",
   "execution_count": 7,
   "metadata": {},
   "outputs": [
    {
     "name": "stdout",
     "output_type": "stream",
     "text": [
      "<class 'pandas.core.frame.DataFrame'>\n",
      "Int64Index: 5977729 entries, 0 to 18279373\n",
      "Data columns (total 3 columns):\n",
      "is_active    int64\n",
      "device_id    int64\n",
      "label_id     int64\n",
      "dtypes: int64(3)\n",
      "memory usage: 182.4 MB\n",
      "None\n"
     ]
    },
    {
     "data": {
      "text/html": [
       "<div>\n",
       "<style>\n",
       "    .dataframe thead tr:only-child th {\n",
       "        text-align: right;\n",
       "    }\n",
       "\n",
       "    .dataframe thead th {\n",
       "        text-align: left;\n",
       "    }\n",
       "\n",
       "    .dataframe tbody tr th {\n",
       "        vertical-align: top;\n",
       "    }\n",
       "</style>\n",
       "<table border=\"1\" class=\"dataframe\">\n",
       "  <thead>\n",
       "    <tr style=\"text-align: right;\">\n",
       "      <th></th>\n",
       "      <th>is_active</th>\n",
       "      <th>device_id</th>\n",
       "      <th>label_id</th>\n",
       "    </tr>\n",
       "  </thead>\n",
       "  <tbody>\n",
       "    <tr>\n",
       "      <th>0</th>\n",
       "      <td>1</td>\n",
       "      <td>-6401643145415154744</td>\n",
       "      <td>549</td>\n",
       "    </tr>\n",
       "    <tr>\n",
       "      <th>1</th>\n",
       "      <td>1</td>\n",
       "      <td>-6401643145415154744</td>\n",
       "      <td>710</td>\n",
       "    </tr>\n",
       "    <tr>\n",
       "      <th>2</th>\n",
       "      <td>1</td>\n",
       "      <td>-6401643145415154744</td>\n",
       "      <td>704</td>\n",
       "    </tr>\n",
       "    <tr>\n",
       "      <th>3</th>\n",
       "      <td>1</td>\n",
       "      <td>-6401643145415154744</td>\n",
       "      <td>548</td>\n",
       "    </tr>\n",
       "    <tr>\n",
       "      <th>4</th>\n",
       "      <td>1</td>\n",
       "      <td>-6401643145415154744</td>\n",
       "      <td>172</td>\n",
       "    </tr>\n",
       "  </tbody>\n",
       "</table>\n",
       "</div>"
      ],
      "text/plain": [
       "   is_active            device_id  label_id\n",
       "0          1 -6401643145415154744       549\n",
       "1          1 -6401643145415154744       710\n",
       "2          1 -6401643145415154744       704\n",
       "3          1 -6401643145415154744       548\n",
       "4          1 -6401643145415154744       172"
      ]
     },
     "execution_count": 7,
     "metadata": {},
     "output_type": "execute_result"
    }
   ],
   "source": [
    "#Get information of the new dataset and chekc tha the transformation into integers has happened before\n",
    "#merging datasets\n",
    "print(apps.info())\n",
    "\n",
    "#Print the first five rows of the dataframe\n",
    "apps.head()"
   ]
  },
  {
   "cell_type": "markdown",
   "metadata": {},
   "source": [
    "The dataset containing data about the usage of the apps, the activity, device id is linked with the dataset containing the device id and information about the gender, age and age group. The age groups used are the ones provided in the dataset and have not been changed.\n",
    "\n",
    "There are 12 groups that differentiate the age and gender. The groups roughly split the population in even groups and the distribution of data points for each group is shown in the following graph."
   ]
  },
  {
   "cell_type": "code",
   "execution_count": 8,
   "metadata": {},
   "outputs": [],
   "source": [
    "#Merge dataset about devices and apps with demographic data\n",
    "apps_with_groups = (\n",
    "    apps\n",
    "    \n",
    "     # Merge on event_id\n",
    "    .merge(gatrain, how = 'left', on = 'device_id')\n",
    "    \n",
    "     # event_id itself is not interesting\n",
    "   # .drop('device_id', axis = 1)\n",
    "    \n",
    "     # Because the events correspond to more than just\n",
    "     # being installed, there are many duplicates\n",
    "    .drop_duplicates())"
   ]
  },
  {
   "cell_type": "markdown",
   "metadata": {},
   "source": [
    "Information about the new datasets is retrieved to see the type of variables and to clean the data eliminating any missing cell."
   ]
  },
  {
   "cell_type": "code",
   "execution_count": 9,
   "metadata": {},
   "outputs": [
    {
     "name": "stdout",
     "output_type": "stream",
     "text": [
      "<class 'pandas.core.frame.DataFrame'>\n",
      "Int64Index: 5977729 entries, 0 to 5977728\n",
      "Data columns (total 6 columns):\n",
      "is_active    int64\n",
      "device_id    int64\n",
      "label_id     int64\n",
      "gender       object\n",
      "age          float64\n",
      "group        object\n",
      "dtypes: float64(1), int64(3), object(2)\n",
      "memory usage: 319.2+ MB\n",
      "None\n",
      "is_active          0\n",
      "device_id          0\n",
      "label_id           0\n",
      "gender       3663482\n",
      "age          3663482\n",
      "group        3663482\n",
      "dtype: int64\n"
     ]
    }
   ],
   "source": [
    "#Get information about the dataset\n",
    "print(apps_with_groups.info())\n",
    "\n",
    "#Identify nul values in the dataset\n",
    "print(apps_with_groups.isnull().sum())"
   ]
  },
  {
   "cell_type": "markdown",
   "metadata": {},
   "source": [
    "Further cleansing is done dropping the empty cells and resetting the index to have a better view of the data points available."
   ]
  },
  {
   "cell_type": "code",
   "execution_count": 10,
   "metadata": {},
   "outputs": [
    {
     "data": {
      "text/html": [
       "<div>\n",
       "<style>\n",
       "    .dataframe thead tr:only-child th {\n",
       "        text-align: right;\n",
       "    }\n",
       "\n",
       "    .dataframe thead th {\n",
       "        text-align: left;\n",
       "    }\n",
       "\n",
       "    .dataframe tbody tr th {\n",
       "        vertical-align: top;\n",
       "    }\n",
       "</style>\n",
       "<table border=\"1\" class=\"dataframe\">\n",
       "  <thead>\n",
       "    <tr style=\"text-align: right;\">\n",
       "      <th></th>\n",
       "      <th>is_active</th>\n",
       "      <th>device_id</th>\n",
       "      <th>label_id</th>\n",
       "      <th>gender</th>\n",
       "      <th>age</th>\n",
       "      <th>group</th>\n",
       "    </tr>\n",
       "  </thead>\n",
       "  <tbody>\n",
       "    <tr>\n",
       "      <th>74</th>\n",
       "      <td>1</td>\n",
       "      <td>1476664663289716375</td>\n",
       "      <td>549</td>\n",
       "      <td>M</td>\n",
       "      <td>19.0</td>\n",
       "      <td>M22-</td>\n",
       "    </tr>\n",
       "    <tr>\n",
       "      <th>75</th>\n",
       "      <td>1</td>\n",
       "      <td>1476664663289716375</td>\n",
       "      <td>721</td>\n",
       "      <td>M</td>\n",
       "      <td>19.0</td>\n",
       "      <td>M22-</td>\n",
       "    </tr>\n",
       "    <tr>\n",
       "      <th>76</th>\n",
       "      <td>1</td>\n",
       "      <td>1476664663289716375</td>\n",
       "      <td>704</td>\n",
       "      <td>M</td>\n",
       "      <td>19.0</td>\n",
       "      <td>M22-</td>\n",
       "    </tr>\n",
       "    <tr>\n",
       "      <th>77</th>\n",
       "      <td>1</td>\n",
       "      <td>1476664663289716375</td>\n",
       "      <td>302</td>\n",
       "      <td>M</td>\n",
       "      <td>19.0</td>\n",
       "      <td>M22-</td>\n",
       "    </tr>\n",
       "    <tr>\n",
       "      <th>78</th>\n",
       "      <td>1</td>\n",
       "      <td>1476664663289716375</td>\n",
       "      <td>303</td>\n",
       "      <td>M</td>\n",
       "      <td>19.0</td>\n",
       "      <td>M22-</td>\n",
       "    </tr>\n",
       "  </tbody>\n",
       "</table>\n",
       "</div>"
      ],
      "text/plain": [
       "    is_active            device_id  label_id gender   age group\n",
       "74          1  1476664663289716375       549      M  19.0  M22-\n",
       "75          1  1476664663289716375       721      M  19.0  M22-\n",
       "76          1  1476664663289716375       704      M  19.0  M22-\n",
       "77          1  1476664663289716375       302      M  19.0  M22-\n",
       "78          1  1476664663289716375       303      M  19.0  M22-"
      ]
     },
     "execution_count": 10,
     "metadata": {},
     "output_type": "execute_result"
    }
   ],
   "source": [
    "#Drop empty cells\n",
    "apps_with_groups = apps_with_groups.dropna()\n",
    "\n",
    "#Reset index in the new dataset\n",
    "apps_with_groups.reset_index(drop= True)\n",
    "\n",
    "#Print first five rows\n",
    "apps_with_groups.head()"
   ]
  },
  {
   "cell_type": "markdown",
   "metadata": {},
   "source": [
    "In the Chinese market the number of apps that is actually used from the ones installed in the devices equate to roughly 50%."
   ]
  },
  {
   "cell_type": "code",
   "execution_count": 11,
   "metadata": {},
   "outputs": [
    {
     "data": {
      "image/png": "[encoded data removed]",
      "text/plain": [
       "<matplotlib.figure.Figure at 0x7ff31162ad30>"
      ]
     },
     "metadata": {},
     "output_type": "display_data"
    }
   ],
   "source": [
    "#Plot installed vs active apps\n",
    "\n",
    "plt.figure(figsize=(20, 5))\n",
    "sns.set_style(\"white\")\n",
    "ax = sns.countplot(x=\"is_active\", data=apps_with_groups, palette=\"Set3\")\n",
    "ax.set_title('Active vs Installed Apps')\n",
    "ax.set_ylabel('Number of Occurrences')\n",
    "ax.set_xticklabels(['Installed','Active'], fontsize=10)\n",
    "plt.tight_layout()\n",
    "plt.show()"
   ]
  },
  {
   "cell_type": "markdown",
   "metadata": {},
   "source": [
    "Visual inspection of the distribution of data between ages show that the data is skewed to the right, showing that most of the data represents the age group between 20 and 35 years old. This corresponds to the grouping that has been done age-wise."
   ]
  },
  {
   "cell_type": "code",
   "execution_count": 12,
   "metadata": {},
   "outputs": [
    {
     "data": {
      "image/png": "[encoded data removed]",
      "text/plain": [
       "<matplotlib.figure.Figure at 0x7ff31164f828>"
      ]
     },
     "metadata": {},
     "output_type": "display_data"
    }
   ],
   "source": [
    "#Plot the distribution of age in the dataset\n",
    "\n",
    "plt.figure(figsize=(20, 9))\n",
    "apps_with_groups.age.hist(bins=50, grid = False)\n",
    "plt.title('Age Distribution of the Sample')\n",
    "plt.xlabel('Age')\n",
    "plt.ylabel('Frequency')\n",
    "plt.tight_layout()\n",
    "plt.show()"
   ]
  },
  {
   "cell_type": "markdown",
   "metadata": {},
   "source": [
    "Each group contains 20 apps in total. From an apps usage standpoint, the most important group of apps according to its usage corresponds to financial, lottery and gaming apps followed by apps related to smart appliances and wearables in second place. The third place is taken by the apps used for banking and payment services. On the lower end the apps that show a smaller usage are the leisure related ones like photography, wedding planners or trips abroad. This apps equate to 90 and are presenting a lower usage due to its characteristics and the sample taste."
   ]
  },
  {
   "cell_type": "code",
   "execution_count": 13,
   "metadata": {},
   "outputs": [
    {
     "data": {
      "image/png": "[encoded data removed]",
      "text/plain": [
       "<matplotlib.figure.Figure at 0x7ff31071e940>"
      ]
     },
     "metadata": {},
     "output_type": "display_data"
    }
   ],
   "source": [
    "#Plot grouping the apps in different bins to understand its usage.\n",
    "#Bins range from 10-50 for more detailed analysis\n",
    "\n",
    "plt.figure(figsize=(20, 9))\n",
    "apps_with_groups.label_id.value_counts(bins = 50).plot(kind='bar', grid=False)\n",
    "plt.title('Apps grouped by usage')\n",
    "plt.xlabel('Group of Apps')\n",
    "plt.ylabel('Occurrences')\n",
    "plt.tight_layout()\n",
    "plt.show()"
   ]
  },
  {
   "cell_type": "markdown",
   "metadata": {},
   "source": [
    "Dummy variables are created based on the apps that are installed on the devices. In this case 484 additional columns are created with categorical data that counts the appearance of each app category in the device. To avoid the dummy variable trap whereby collinearity exists between the variables one redundant category is dropped when transforming the categorical variables into dummies."
   ]
  },
  {
   "cell_type": "code",
   "execution_count": 14,
   "metadata": {},
   "outputs": [
    {
     "data": {
      "text/html": [
       "<div>\n",
       "<style>\n",
       "    .dataframe thead tr:only-child th {\n",
       "        text-align: right;\n",
       "    }\n",
       "\n",
       "    .dataframe thead th {\n",
       "        text-align: left;\n",
       "    }\n",
       "\n",
       "    .dataframe tbody tr th {\n",
       "        vertical-align: top;\n",
       "    }\n",
       "</style>\n",
       "<table border=\"1\" class=\"dataframe\">\n",
       "  <thead>\n",
       "    <tr style=\"text-align: right;\">\n",
       "      <th></th>\n",
       "      <th>is_active</th>\n",
       "      <th>device_id</th>\n",
       "      <th>gender</th>\n",
       "      <th>age</th>\n",
       "      <th>group</th>\n",
       "      <th>label_id_2</th>\n",
       "      <th>label_id_4</th>\n",
       "      <th>label_id_6</th>\n",
       "      <th>label_id_7</th>\n",
       "      <th>label_id_8</th>\n",
       "      <th>...</th>\n",
       "      <th>label_id_1012</th>\n",
       "      <th>label_id_1013</th>\n",
       "      <th>label_id_1014</th>\n",
       "      <th>label_id_1015</th>\n",
       "      <th>label_id_1016</th>\n",
       "      <th>label_id_1017</th>\n",
       "      <th>label_id_1018</th>\n",
       "      <th>label_id_1019</th>\n",
       "      <th>label_id_1020</th>\n",
       "      <th>label_id_1021</th>\n",
       "    </tr>\n",
       "  </thead>\n",
       "  <tbody>\n",
       "    <tr>\n",
       "      <th>0</th>\n",
       "      <td>1</td>\n",
       "      <td>1476664663289716375</td>\n",
       "      <td>M</td>\n",
       "      <td>19.0</td>\n",
       "      <td>M22-</td>\n",
       "      <td>0</td>\n",
       "      <td>0</td>\n",
       "      <td>0</td>\n",
       "      <td>0</td>\n",
       "      <td>0</td>\n",
       "      <td>...</td>\n",
       "      <td>0</td>\n",
       "      <td>0</td>\n",
       "      <td>0</td>\n",
       "      <td>0</td>\n",
       "      <td>0</td>\n",
       "      <td>0</td>\n",
       "      <td>0</td>\n",
       "      <td>0</td>\n",
       "      <td>0</td>\n",
       "      <td>0</td>\n",
       "    </tr>\n",
       "    <tr>\n",
       "      <th>1</th>\n",
       "      <td>1</td>\n",
       "      <td>1476664663289716375</td>\n",
       "      <td>M</td>\n",
       "      <td>19.0</td>\n",
       "      <td>M22-</td>\n",
       "      <td>0</td>\n",
       "      <td>0</td>\n",
       "      <td>0</td>\n",
       "      <td>0</td>\n",
       "      <td>0</td>\n",
       "      <td>...</td>\n",
       "      <td>0</td>\n",
       "      <td>0</td>\n",
       "      <td>0</td>\n",
       "      <td>0</td>\n",
       "      <td>0</td>\n",
       "      <td>0</td>\n",
       "      <td>0</td>\n",
       "      <td>0</td>\n",
       "      <td>0</td>\n",
       "      <td>0</td>\n",
       "    </tr>\n",
       "    <tr>\n",
       "      <th>2</th>\n",
       "      <td>1</td>\n",
       "      <td>1476664663289716375</td>\n",
       "      <td>M</td>\n",
       "      <td>19.0</td>\n",
       "      <td>M22-</td>\n",
       "      <td>0</td>\n",
       "      <td>0</td>\n",
       "      <td>0</td>\n",
       "      <td>0</td>\n",
       "      <td>0</td>\n",
       "      <td>...</td>\n",
       "      <td>0</td>\n",
       "      <td>0</td>\n",
       "      <td>0</td>\n",
       "      <td>0</td>\n",
       "      <td>0</td>\n",
       "      <td>0</td>\n",
       "      <td>0</td>\n",
       "      <td>0</td>\n",
       "      <td>0</td>\n",
       "      <td>0</td>\n",
       "    </tr>\n",
       "    <tr>\n",
       "      <th>3</th>\n",
       "      <td>1</td>\n",
       "      <td>1476664663289716375</td>\n",
       "      <td>M</td>\n",
       "      <td>19.0</td>\n",
       "      <td>M22-</td>\n",
       "      <td>0</td>\n",
       "      <td>0</td>\n",
       "      <td>0</td>\n",
       "      <td>0</td>\n",
       "      <td>0</td>\n",
       "      <td>...</td>\n",
       "      <td>0</td>\n",
       "      <td>0</td>\n",
       "      <td>0</td>\n",
       "      <td>0</td>\n",
       "      <td>0</td>\n",
       "      <td>0</td>\n",
       "      <td>0</td>\n",
       "      <td>0</td>\n",
       "      <td>0</td>\n",
       "      <td>0</td>\n",
       "    </tr>\n",
       "    <tr>\n",
       "      <th>4</th>\n",
       "      <td>1</td>\n",
       "      <td>1476664663289716375</td>\n",
       "      <td>M</td>\n",
       "      <td>19.0</td>\n",
       "      <td>M22-</td>\n",
       "      <td>0</td>\n",
       "      <td>0</td>\n",
       "      <td>0</td>\n",
       "      <td>0</td>\n",
       "      <td>0</td>\n",
       "      <td>...</td>\n",
       "      <td>0</td>\n",
       "      <td>0</td>\n",
       "      <td>0</td>\n",
       "      <td>0</td>\n",
       "      <td>0</td>\n",
       "      <td>0</td>\n",
       "      <td>0</td>\n",
       "      <td>0</td>\n",
       "      <td>0</td>\n",
       "      <td>0</td>\n",
       "    </tr>\n",
       "  </tbody>\n",
       "</table>\n",
       "<p>5 rows × 490 columns</p>\n",
       "</div>"
      ],
      "text/plain": [
       "   is_active            device_id gender   age group  label_id_2  label_id_4  \\\n",
       "0          1  1476664663289716375      M  19.0  M22-           0           0   \n",
       "1          1  1476664663289716375      M  19.0  M22-           0           0   \n",
       "2          1  1476664663289716375      M  19.0  M22-           0           0   \n",
       "3          1  1476664663289716375      M  19.0  M22-           0           0   \n",
       "4          1  1476664663289716375      M  19.0  M22-           0           0   \n",
       "\n",
       "   label_id_6  label_id_7  label_id_8      ...        label_id_1012  \\\n",
       "0           0           0           0      ...                    0   \n",
       "1           0           0           0      ...                    0   \n",
       "2           0           0           0      ...                    0   \n",
       "3           0           0           0      ...                    0   \n",
       "4           0           0           0      ...                    0   \n",
       "\n",
       "   label_id_1013  label_id_1014  label_id_1015  label_id_1016  label_id_1017  \\\n",
       "0              0              0              0              0              0   \n",
       "1              0              0              0              0              0   \n",
       "2              0              0              0              0              0   \n",
       "3              0              0              0              0              0   \n",
       "4              0              0              0              0              0   \n",
       "\n",
       "   label_id_1018  label_id_1019  label_id_1020  label_id_1021  \n",
       "0              0              0              0              0  \n",
       "1              0              0              0              0  \n",
       "2              0              0              0              0  \n",
       "3              0              0              0              0  \n",
       "4              0              0              0              0  \n",
       "\n",
       "[5 rows x 490 columns]"
      ]
     },
     "execution_count": 14,
     "metadata": {},
     "output_type": "execute_result"
    }
   ],
   "source": [
    "#Create dummy variables for the categories found in the apps\n",
    "dataset_with_dummy_variables = pd.get_dummies(apps_with_groups, columns = ['label_id'], sparse = True).reset_index(drop= True)\n",
    "\n",
    "#Print the first 5 rows of data\n",
    "dataset_with_dummy_variables.head()"
   ]
  },
  {
   "cell_type": "markdown",
   "metadata": {},
   "source": [
    "Before adding the data about the phone brands and models, a dictionary has been taken from Kaggle and augmented with additional brands to translate the brands from Chinese to English. Additionally, those brands that have no translation have been designed with “UBXX” where UB stands for unknown brand and XX are two digits. This has been done to easy queries on the dataframe and visualizations of the dataset. The translation of the brands form Chinese to English has been included in the phone dataset and dummy variables have been created for each brand. This gives as a result a sparse data frame with zero if the device is not of that brand and 1 when the device is associated to a certain brand."
   ]
  },
  {
   "cell_type": "code",
   "execution_count": 15,
   "metadata": {},
   "outputs": [],
   "source": [
    "#Add a brand name \"UBXX\" per brand in Chinese for which we don´t have a translation\n",
    "english_phone_brands_mapping = {\"三星\": \"samsung\",\"天语\": \"Ktouch\", \"海信\": \"hisense\", \"联想\": \"lenovo\", \"欧比\": \"obi\",\n",
    "                                \"爱派尔\": \"ipair\", \"努比亚\": \"nubia\", \"优米\": \"youmi\", \"朵唯\": \"dowe\", \"黑米\": \"heymi\",\n",
    "                                \"锤子\": \"hammer\", \"酷比魔方\": \"koobee\", \"美图\": \"meitu\", \"尼比鲁\": \"nibilu\", \"一加\": \"oneplus\",\n",
    "                                \"优购\": \"yougo\", \"诺基亚\": \"nokia\", \"糖葫芦\": \"candy\", \"中国移动\": \"ccmc\", \"语信\": \"yuxin\",\n",
    "                                \"基伍\": \"kiwu\", \"青橙\": \"greeno\", \"华硕\": \"asus\", \"夏新\": \"panasonic\", \"维图\": \"weitu\",\n",
    "                                \"艾优尼\": \"aiyouni\", \"摩托罗拉\": \"moto\", \"乡米\": \"xiangmi\", \"米奇\": \"micky\", \"大可乐\": \"bigcola\",\n",
    "                                \"沃普丰\": \"wpf\", \"神舟\": \"hasse\", \"摩乐\": \"mole\", \"飞秒\": \"fs\", \"米歌\": \"mige\", \"富可视\": \"fks\",\n",
    "                                \"德赛\": \"desci\", \"梦米\": \"mengmi\", \"乐视\": \"lshi\", \"小杨树\": \"smallt\", \"纽曼\": \"newman\",\n",
    "                                \"邦华\": \"banghua\", \"E派\": \"epai\", \"易派\": \"epai\", \"普耐尔\": \"pner\", \"欧新\": \"ouxin\", \"西米\": \"ximi\",\n",
    "                                \"海尔\": \"haier\", \"波导\": \"bodao\", \"糯米\": \"nuomi\", \"唯米\": \"weimi\", \"酷珀\": \"kupo\", \"谷歌\": \"google\",\n",
    "                                \"昂达\": \"ada\", \"聆韵\": \"lingyun\", \"小米\": \"Xiaomi\", \"华为\": \"Huawei\", \"魅族\": \"Meizu\", \"中兴\": \"ZTE\",\n",
    "                                \"酷派\": \"Coolpad\", \"金立\": \"Gionee\", \"SUGAR\": \"SUGAR\", \"OPPO\": \"OPPO\", \"vivo\": \"vivo\", \"HTC\": \"HTC\",\n",
    "                                \"LG\": \"LG\", \"ZUK\": \"ZUK\", \"TCL\": \"TCL\", \"LOGO\": \"LOGO\", \"SUGAR\": \"SUGAR\", \"Lovme\": \"Lovme\",\n",
    "                                \"PPTV\": \"PPTV\", \"ZOYE\": \"ZOYE\", \"MIL\": \"MIL\", \"索尼\" : \"Sony\", \"欧博信\" : \"Opssom\", \"奇酷\" : \"Qiku\",\n",
    "                                \"酷比\" : \"CUBE\", \"康佳\" : \"Konka\", \"亿通\" : \"Yitong\", \"金星数码\" : \"JXD\", \"至尊宝\" : \"Monkey King\",\n",
    "                                \"百立丰\" : \"Hundred Li Feng\", \"贝尔丰\" : \"Bifer\", \"百加\" : \"Bacardi\", \"诺亚信\" : \"Noain\", \n",
    "                                \"广信\" : \"Kingsun\", \"世纪天元\" : \"Ctyon\", \"青葱\" : \"Cong\", \"果米\" : \"Taobao\", \"斐讯\" : \"Phicomm\",\n",
    "                                \"长虹\" : \"Changhong\", \"欧奇\" : \"Oukimobile\", \"先锋\" : \"XFPLAY\", \"台电\" : \"Teclast\", \"大Q\" : \"Daq\",\n",
    "                                \"蓝魔\" : \"Ramos\", \"奥克斯\" : \"AUX\", \"索尼\" : \"Sony\", \"欧博信\" : \"Opssom\", \"奇酷\" : \"Qiku\",\n",
    "                                \"酷比\" : \"CUBE\", \"康佳\" : \"Konka\", \"亿通\" : \"Yitong\", \"金星数码\" : \"JXD\", \"至尊宝\" : \"Monkey King\",\n",
    "                                \"百立丰\" : \"Hundred Li Feng\", \"贝尔丰\" : \"Bifer\", \"百加\" : \"Bacardi\", \"诺亚信\" : \"Noain\",\n",
    "                                \"广信\" : \"Kingsun\", \"世纪天元\" : \"Ctyon\", \"青葱\" : \"Cong\", \"果米\" : \"Taobao\", \"斐讯\" : \"Phicomm\",\n",
    "                                \"长虹\" : \"Changhong\", \"欧奇\" : \"Oukimobile\", \"先锋\" : \"XFPLAY\", \"台电\" : \"Teclast\", \"大Q\" : \"Daq\", \n",
    "                                \"蓝魔\" : \"Ramos\", \"奥克斯\" : \"AUX\", \"飞利浦\": \"Philips\", \"智镁\": \"Zhimei\", \"惠普\": \"HP\",\n",
    "                                \"原点\": \"Origin\", \"戴尔\": \"Dell\", \"碟米\": \"Diemi\", \"西门子\": \"Siemens\", \"亚马逊\": \"Amazon\",\n",
    "                                \"宏碁\": \"Acer\",\n",
    "                                '世纪星': \"UB1\", '丰米': \"UB2\", '优语':'UB3', '凯利通': \"UB4\", '唯比': \"UB5\", '嘉源': \"UB6\",\n",
    "                                 '大显': \"UB7\", '天宏时代': \"UB8\", '宝捷讯': 'UB9','帷幄': 'UB10', '德卡诺': 'UB11',\n",
    "                                '恒宇丰': 'UB12', '本为': 'UB13', '极米': 'UB14', '欧乐迪': 'UB15', '欧乐酷': 'UB16',\n",
    "                                '欧沃': 'UB17', '瑞米': 'UB18', '瑞高': 'UB19', '白米': 'UB20', '虾米': 'UB21', '赛博宇华': 'UB22',\n",
    "                                '首云': 'UB23', '鲜米': 'UB24'}"
   ]
  },
  {
   "cell_type": "markdown",
   "metadata": {},
   "source": [
    "The phone brands dataset has been added to the previous dataset containing all the information about apps, age, gender, etc. In the instances in which the device id does not appear the _NaN_ results have been filled in with zeros. The devices that are duplicate have been deleted to make the dataset manageable from a computing perspective reducing from two million rows to 23k data rows. The device id and device model columns have been dropped as in further research they were not adding information for the feature generation. Additionally, a dummy variable has been created for the variable gender."
   ]
  },
  {
   "cell_type": "code",
   "execution_count": 16,
   "metadata": {},
   "outputs": [
    {
     "name": "stdout",
     "output_type": "stream",
     "text": [
      "<class 'pandas.core.frame.DataFrame'>\n",
      "Int64Index: 186716 entries, 0 to 187243\n",
      "Data columns (total 2 columns):\n",
      "device_id      186716 non-null int64\n",
      "phone_brand    186716 non-null object\n",
      "dtypes: int64(1), object(1)\n",
      "memory usage: 4.3+ MB\n"
     ]
    }
   ],
   "source": [
    "#Replace the brands in Chinese for the brands in English\n",
    "phone['phone_brand'].replace(english_phone_brands_mapping, inplace=True)\n",
    "\n",
    "#Drop the device model column as it is not adding information\n",
    "phone = phone.drop('device_model',axis=1)\n",
    "\n",
    "#Retreive information about the new dataset before getting the dummy variables\n",
    "phone.info()"
   ]
  },
  {
   "cell_type": "markdown",
   "metadata": {},
   "source": [
    "As it is shown in the graph below, eight brands represent 90% of the sample in the Chinese market."
   ]
  },
  {
   "cell_type": "code",
   "execution_count": 17,
   "metadata": {},
   "outputs": [
    {
     "data": {
      "image/png": "[encoded data removed]",
      "text/plain": [
       "<matplotlib.figure.Figure at 0x7ff30be0d0b8>"
      ]
     },
     "metadata": {},
     "output_type": "display_data"
    }
   ],
   "source": [
    "#Plot the distribution of brands by occurrence\n",
    "\n",
    "plt.figure(figsize=(20, 9))\n",
    "phone.phone_brand.value_counts().plot(kind='bar', grid=False)\n",
    "plt.title('Distribution of Phones per Brand')\n",
    "plt.xlabel('Brands')\n",
    "plt.ylabel('Occurrences')\n",
    "plt.tight_layout()\n",
    "plt.show()"
   ]
  },
  {
   "cell_type": "markdown",
   "metadata": {},
   "source": [
    "To avoid the dummy variable trap whereby collinearity exists between the variables one redundant category is dropped when transforming the categorical variables into dummies."
   ]
  },
  {
   "cell_type": "code",
   "execution_count": 18,
   "metadata": {},
   "outputs": [],
   "source": [
    "#Build the dummy variables with the phone brand\n",
    "phone_dummies = pd.get_dummies(phone, columns = ['phone_brand'], sparse = True).reset_index(drop= True)"
   ]
  },
  {
   "cell_type": "code",
   "execution_count": 19,
   "metadata": {},
   "outputs": [],
   "source": [
    "#Merge the demographic dataset with the phone dataset\n",
    "final_dataset = (\n",
    "    dataset_with_dummy_variables\n",
    "    \n",
    "     # Merge on event_id\n",
    "    .merge(phone_dummies, how = 'left', left_on = 'device_id', right_on = 'device_id')\n",
    "    \n",
    "     # event_id itself is not interesting\n",
    "    .fillna(0))"
   ]
  },
  {
   "cell_type": "code",
   "execution_count": 20,
   "metadata": {},
   "outputs": [
    {
     "name": "stdout",
     "output_type": "stream",
     "text": [
      "<class 'pandas.core.frame.DataFrame'>\n",
      "Int64Index: 2314247 entries, 0 to 2314246\n",
      "Columns: 620 entries, is_active to phone_brand_yuxin\n",
      "dtypes: float64(1), int64(2), object(2), uint8(615)\n",
      "memory usage: 1.4+ GB\n"
     ]
    }
   ],
   "source": [
    "#Information about the dataset\n",
    "final_dataset.info()"
   ]
  },
  {
   "cell_type": "markdown",
   "metadata": {},
   "source": [
    "The new dataset has been cleansed eliminating all the columns that are zeros. In this case, 345 columns have been deleted related to brands that were not associated to devices. The output variable that groups gender and age “group” has been transformed into numbers so that supervised algorithms are used for prediction."
   ]
  },
  {
   "cell_type": "code",
   "execution_count": 21,
   "metadata": {},
   "outputs": [
    {
     "name": "stdout",
     "output_type": "stream",
     "text": [
      "<class 'pandas.core.frame.DataFrame'>\n",
      "RangeIndex: 23290 entries, 0 to 23289\n",
      "Columns: 620 entries, is_active to phone_brand_yuxin\n",
      "dtypes: float64(1), int64(2), object(2), uint8(615)\n",
      "memory usage: 14.5+ MB\n",
      "None\n"
     ]
    },
    {
     "data": {
      "text/html": [
       "<div>\n",
       "<style>\n",
       "    .dataframe thead tr:only-child th {\n",
       "        text-align: right;\n",
       "    }\n",
       "\n",
       "    .dataframe thead th {\n",
       "        text-align: left;\n",
       "    }\n",
       "\n",
       "    .dataframe tbody tr th {\n",
       "        vertical-align: top;\n",
       "    }\n",
       "</style>\n",
       "<table border=\"1\" class=\"dataframe\">\n",
       "  <thead>\n",
       "    <tr style=\"text-align: right;\">\n",
       "      <th></th>\n",
       "      <th>is_active</th>\n",
       "      <th>device_id</th>\n",
       "      <th>gender</th>\n",
       "      <th>age</th>\n",
       "      <th>group</th>\n",
       "      <th>label_id_2</th>\n",
       "      <th>label_id_4</th>\n",
       "      <th>label_id_6</th>\n",
       "      <th>label_id_7</th>\n",
       "      <th>label_id_8</th>\n",
       "      <th>...</th>\n",
       "      <th>phone_brand_smallt</th>\n",
       "      <th>phone_brand_vivo</th>\n",
       "      <th>phone_brand_weimi</th>\n",
       "      <th>phone_brand_weitu</th>\n",
       "      <th>phone_brand_wpf</th>\n",
       "      <th>phone_brand_xiangmi</th>\n",
       "      <th>phone_brand_ximi</th>\n",
       "      <th>phone_brand_yougo</th>\n",
       "      <th>phone_brand_youmi</th>\n",
       "      <th>phone_brand_yuxin</th>\n",
       "    </tr>\n",
       "  </thead>\n",
       "  <tbody>\n",
       "    <tr>\n",
       "      <th>0</th>\n",
       "      <td>1</td>\n",
       "      <td>1476664663289716375</td>\n",
       "      <td>M</td>\n",
       "      <td>19.0</td>\n",
       "      <td>M22-</td>\n",
       "      <td>0</td>\n",
       "      <td>0</td>\n",
       "      <td>0</td>\n",
       "      <td>0</td>\n",
       "      <td>0</td>\n",
       "      <td>...</td>\n",
       "      <td>0</td>\n",
       "      <td>0</td>\n",
       "      <td>0</td>\n",
       "      <td>0</td>\n",
       "      <td>0</td>\n",
       "      <td>0</td>\n",
       "      <td>0</td>\n",
       "      <td>0</td>\n",
       "      <td>0</td>\n",
       "      <td>0</td>\n",
       "    </tr>\n",
       "    <tr>\n",
       "      <th>1</th>\n",
       "      <td>1</td>\n",
       "      <td>7166563712658305181</td>\n",
       "      <td>M</td>\n",
       "      <td>60.0</td>\n",
       "      <td>M39+</td>\n",
       "      <td>0</td>\n",
       "      <td>0</td>\n",
       "      <td>0</td>\n",
       "      <td>0</td>\n",
       "      <td>0</td>\n",
       "      <td>...</td>\n",
       "      <td>0</td>\n",
       "      <td>0</td>\n",
       "      <td>0</td>\n",
       "      <td>0</td>\n",
       "      <td>0</td>\n",
       "      <td>0</td>\n",
       "      <td>0</td>\n",
       "      <td>0</td>\n",
       "      <td>0</td>\n",
       "      <td>0</td>\n",
       "    </tr>\n",
       "    <tr>\n",
       "      <th>2</th>\n",
       "      <td>1</td>\n",
       "      <td>-3449419341168524142</td>\n",
       "      <td>M</td>\n",
       "      <td>28.0</td>\n",
       "      <td>M27-28</td>\n",
       "      <td>0</td>\n",
       "      <td>0</td>\n",
       "      <td>0</td>\n",
       "      <td>0</td>\n",
       "      <td>0</td>\n",
       "      <td>...</td>\n",
       "      <td>0</td>\n",
       "      <td>0</td>\n",
       "      <td>0</td>\n",
       "      <td>0</td>\n",
       "      <td>0</td>\n",
       "      <td>0</td>\n",
       "      <td>0</td>\n",
       "      <td>0</td>\n",
       "      <td>0</td>\n",
       "      <td>0</td>\n",
       "    </tr>\n",
       "    <tr>\n",
       "      <th>3</th>\n",
       "      <td>1</td>\n",
       "      <td>-6542093539413689868</td>\n",
       "      <td>M</td>\n",
       "      <td>26.0</td>\n",
       "      <td>M23-26</td>\n",
       "      <td>0</td>\n",
       "      <td>0</td>\n",
       "      <td>0</td>\n",
       "      <td>0</td>\n",
       "      <td>0</td>\n",
       "      <td>...</td>\n",
       "      <td>0</td>\n",
       "      <td>0</td>\n",
       "      <td>0</td>\n",
       "      <td>0</td>\n",
       "      <td>0</td>\n",
       "      <td>0</td>\n",
       "      <td>0</td>\n",
       "      <td>0</td>\n",
       "      <td>0</td>\n",
       "      <td>0</td>\n",
       "    </tr>\n",
       "    <tr>\n",
       "      <th>4</th>\n",
       "      <td>1</td>\n",
       "      <td>-5638521260975573107</td>\n",
       "      <td>M</td>\n",
       "      <td>22.0</td>\n",
       "      <td>M22-</td>\n",
       "      <td>0</td>\n",
       "      <td>0</td>\n",
       "      <td>0</td>\n",
       "      <td>0</td>\n",
       "      <td>0</td>\n",
       "      <td>...</td>\n",
       "      <td>0</td>\n",
       "      <td>0</td>\n",
       "      <td>0</td>\n",
       "      <td>0</td>\n",
       "      <td>0</td>\n",
       "      <td>0</td>\n",
       "      <td>0</td>\n",
       "      <td>0</td>\n",
       "      <td>0</td>\n",
       "      <td>0</td>\n",
       "    </tr>\n",
       "  </tbody>\n",
       "</table>\n",
       "<p>5 rows × 620 columns</p>\n",
       "</div>"
      ],
      "text/plain": [
       "   is_active            device_id gender   age   group  label_id_2  \\\n",
       "0          1  1476664663289716375      M  19.0    M22-           0   \n",
       "1          1  7166563712658305181      M  60.0    M39+           0   \n",
       "2          1 -3449419341168524142      M  28.0  M27-28           0   \n",
       "3          1 -6542093539413689868      M  26.0  M23-26           0   \n",
       "4          1 -5638521260975573107      M  22.0    M22-           0   \n",
       "\n",
       "   label_id_4  label_id_6  label_id_7  label_id_8        ...          \\\n",
       "0           0           0           0           0        ...           \n",
       "1           0           0           0           0        ...           \n",
       "2           0           0           0           0        ...           \n",
       "3           0           0           0           0        ...           \n",
       "4           0           0           0           0        ...           \n",
       "\n",
       "   phone_brand_smallt  phone_brand_vivo  phone_brand_weimi  phone_brand_weitu  \\\n",
       "0                   0                 0                  0                  0   \n",
       "1                   0                 0                  0                  0   \n",
       "2                   0                 0                  0                  0   \n",
       "3                   0                 0                  0                  0   \n",
       "4                   0                 0                  0                  0   \n",
       "\n",
       "   phone_brand_wpf  phone_brand_xiangmi  phone_brand_ximi  phone_brand_yougo  \\\n",
       "0                0                    0                 0                  0   \n",
       "1                0                    0                 0                  0   \n",
       "2                0                    0                 0                  0   \n",
       "3                0                    0                 0                  0   \n",
       "4                0                    0                 0                  0   \n",
       "\n",
       "   phone_brand_youmi  phone_brand_yuxin  \n",
       "0                  0                  0  \n",
       "1                  0                  0  \n",
       "2                  0                  0  \n",
       "3                  0                  0  \n",
       "4                  0                  0  \n",
       "\n",
       "[5 rows x 620 columns]"
      ]
     },
     "execution_count": 21,
     "metadata": {},
     "output_type": "execute_result"
    }
   ],
   "source": [
    "#Drop from the final dataset duplicates for the devices keeping the first one\n",
    "final_dataset = final_dataset.drop_duplicates('device_id',keep= 'first').reset_index(drop=True)\n",
    "\n",
    "#Get infomation of the new dataset to see the rows that have been eliminated\n",
    "print(final_dataset.info())\n",
    "\n",
    "#Print the first five rows of the dataset\n",
    "final_dataset.head()"
   ]
  },
  {
   "cell_type": "markdown",
   "metadata": {},
   "source": [
    "The gender split in the data is not even, being more male than women in the customer base of the company. This has an impact in the further segmentation by age (including gender) expecting groups that have a lower number of data points in the case it is for women. A visual inspection of the groups show that the groups are unbalanced. This will impact the accuracy of the models for classification purposes. Further resampling is required and in this case, up-sampling will be considered using the number of samples in the largest group: males between 32 and 38 years (3338 samples)."
   ]
  },
  {
   "cell_type": "code",
   "execution_count": 22,
   "metadata": {},
   "outputs": [
    {
     "data": {
      "image/png": "[encoded data removed]",
      "text/plain": [
       "<matplotlib.figure.Figure at 0x7ff31079bcc0>"
      ]
     },
     "metadata": {},
     "output_type": "display_data"
    },
    {
     "name": "stdout",
     "output_type": "stream",
     "text": [
      "M32-38    3338\n",
      "M39+      3137\n",
      "M23-26    2770\n",
      "M29-31    2423\n",
      "M22-      1901\n",
      "F33-42    1832\n",
      "M27-28    1682\n",
      "F29-32    1387\n",
      "F23-      1365\n",
      "F43+      1357\n",
      "F24-26    1140\n",
      "F27-28     958\n",
      "Name: group, dtype: int64\n"
     ]
    }
   ],
   "source": [
    "#Visualize the number of answers by Gender and by Category\n",
    "#Check the outcome variable and see if there is any imbalance\n",
    "\n",
    "plt.figure(figsize=(20, 5))\n",
    "sns.set_style(\"white\")\n",
    "\n",
    "plt.subplot(1, 2, 1)\n",
    "ax = sns.countplot(x=\"gender\", data=final_dataset, palette=\"Set2\")\n",
    "ax.set_title('Classification by Gender')\n",
    "ax.set_ylabel('Number of Occurrences')\n",
    "ax.set_xticklabels(['Male','Female'], fontsize=10)\n",
    "plt.ylim(0, 17500)\n",
    "\n",
    "plt.subplot(1, 2, 2)\n",
    "ax = sns.countplot(x=\"group\", data=final_dataset, palette=\"Set1\")\n",
    "ax.set_title('Classification by Age Range & Gender')\n",
    "ax.set_ylabel('Number of Occurrences')\n",
    "ax.set_xticklabels(['M39+','M32-38', 'M29-31', 'M27-28', 'M23-26','M22-','F43+','F33-42', 'F29-32', 'F27-28', 'F24-26', 'F23-'], fontsize=10)\n",
    "plt.ylim(0, 4000)\n",
    "\n",
    "plt.tight_layout()\n",
    "plt.show()\n",
    "\n",
    "#Count number of datapoints for each group to resample all of them.\n",
    "print(final_dataset['group'].value_counts())"
   ]
  },
  {
   "cell_type": "markdown",
   "metadata": {},
   "source": [
    "As the different groups are not balanced, the minority groups are balanced resampling the data and up-sampling the minority groups. This will allow the different algorithms to achieve a better accuracy in general. Algorithms like random forest are highly sensitive to unbalanced groups in the output variable."
   ]
  },
  {
   "cell_type": "code",
   "execution_count": 23,
   "metadata": {},
   "outputs": [
    {
     "data": {
      "text/plain": [
       "F29-32    3338\n",
       "M39+      3338\n",
       "M27-28    3338\n",
       "M22-      3338\n",
       "M32-38    3338\n",
       "M29-31    3338\n",
       "F27-28    3338\n",
       "F23-      3338\n",
       "M23-26    3338\n",
       "F43+      3338\n",
       "F24-26    3338\n",
       "F33-42    3338\n",
       "Name: group, dtype: int64"
      ]
     },
     "execution_count": 23,
     "metadata": {},
     "output_type": "execute_result"
    }
   ],
   "source": [
    "#Upsample minority classes\n",
    "# Separate majority and minority classes\n",
    "final_dataset_majority = final_dataset[final_dataset.group=='M32-38']\n",
    "\n",
    "#Minorty classes\n",
    "final_dataset_minority_1 = final_dataset[final_dataset.group=='M39+']\n",
    "final_dataset_minority_2 = final_dataset[final_dataset.group=='M23-26']\n",
    "final_dataset_minority_3 = final_dataset[final_dataset.group=='M29-31']\n",
    "final_dataset_minority_4 = final_dataset[final_dataset.group=='M22-']\n",
    "final_dataset_minority_5 = final_dataset[final_dataset.group=='F33-42']\n",
    "final_dataset_minority_6 = final_dataset[final_dataset.group=='M27-28']\n",
    "final_dataset_minority_7 = final_dataset[final_dataset.group=='F29-32']\n",
    "final_dataset_minority_8 = final_dataset[final_dataset.group=='F23-']\n",
    "final_dataset_minority_9 = final_dataset[final_dataset.group=='F43+']\n",
    "final_dataset_minority_10 = final_dataset[final_dataset.group=='F24-26']\n",
    "final_dataset_minority_11 = final_dataset[final_dataset.group=='F27-28']\n",
    "\n",
    " \n",
    "# Upsample airlines minorities\n",
    "final_dataset_upsampled_1 = resample(final_dataset_minority_1, replace=True, n_samples=3338, random_state=123) \n",
    "final_dataset_upsampled_2 = resample(final_dataset_minority_2, replace=True, n_samples=3338, random_state=123)\n",
    "final_dataset_upsampled_3 = resample(final_dataset_minority_3, replace=True, n_samples=3338, random_state=123)\n",
    "final_dataset_upsampled_4 = resample(final_dataset_minority_4, replace=True, n_samples=3338, random_state=123)\n",
    "final_dataset_upsampled_5 = resample(final_dataset_minority_5, replace=True, n_samples=3338, random_state=123)\n",
    "final_dataset_upsampled_6 = resample(final_dataset_minority_6, replace=True, n_samples=3338, random_state=123)\n",
    "final_dataset_upsampled_7 = resample(final_dataset_minority_7, replace=True, n_samples=3338, random_state=123)\n",
    "final_dataset_upsampled_8 = resample(final_dataset_minority_8, replace=True, n_samples=3338, random_state=123)\n",
    "final_dataset_upsampled_9 = resample(final_dataset_minority_9, replace=True, n_samples=3338, random_state=123)\n",
    "final_dataset_upsampled_10 = resample(final_dataset_minority_10, replace=True, n_samples=3338, random_state=123)\n",
    "final_dataset_upsampled_11 = resample(final_dataset_minority_11, replace=True, n_samples=3338, random_state=123)\n",
    "     \n",
    "# Combine majority class with upsampled minority classes\n",
    "final_dataset_upsampled = pd.concat([final_dataset_majority, final_dataset_upsampled_1, final_dataset_upsampled_2,\n",
    "                                  final_dataset_upsampled_3, final_dataset_upsampled_4, final_dataset_upsampled_5,\n",
    "                                  final_dataset_upsampled_6, final_dataset_upsampled_7, final_dataset_upsampled_8,\n",
    "                                  final_dataset_upsampled_9, final_dataset_upsampled_10, final_dataset_upsampled_11])\n",
    "# Display new class counts\n",
    "final_dataset_upsampled.group.value_counts()"
   ]
  },
  {
   "cell_type": "markdown",
   "metadata": {},
   "source": [
    "As part of the data cleansing actions, the device id column has been dropped and dummy variables have been created for the gender variable additionally all those columns that are constant and filled in only with zeros have been dropped. To avoid the dummy variable trap whereby collinearity exists between the variables one redundant category is dropped when transforming the categorical variables into dummies. The different groups have been mapped to 0-11 to be used in further modelling. In this case although different trials have taken place, after improving the significance of the features the twelve groups for the classification problem have been kept."
   ]
  },
  {
   "cell_type": "code",
   "execution_count": 24,
   "metadata": {},
   "outputs": [
    {
     "data": {
      "text/html": [
       "<div>\n",
       "<style>\n",
       "    .dataframe thead tr:only-child th {\n",
       "        text-align: right;\n",
       "    }\n",
       "\n",
       "    .dataframe thead th {\n",
       "        text-align: left;\n",
       "    }\n",
       "\n",
       "    .dataframe tbody tr th {\n",
       "        vertical-align: top;\n",
       "    }\n",
       "</style>\n",
       "<table border=\"1\" class=\"dataframe\">\n",
       "  <thead>\n",
       "    <tr style=\"text-align: right;\">\n",
       "      <th></th>\n",
       "      <th>is_active</th>\n",
       "      <th>age</th>\n",
       "      <th>group</th>\n",
       "      <th>label_id_6</th>\n",
       "      <th>label_id_8</th>\n",
       "      <th>label_id_10</th>\n",
       "      <th>label_id_11</th>\n",
       "      <th>label_id_12</th>\n",
       "      <th>label_id_13</th>\n",
       "      <th>label_id_14</th>\n",
       "      <th>...</th>\n",
       "      <th>phone_brand_weimi</th>\n",
       "      <th>phone_brand_weitu</th>\n",
       "      <th>phone_brand_wpf</th>\n",
       "      <th>phone_brand_xiangmi</th>\n",
       "      <th>phone_brand_ximi</th>\n",
       "      <th>phone_brand_yougo</th>\n",
       "      <th>phone_brand_youmi</th>\n",
       "      <th>phone_brand_yuxin</th>\n",
       "      <th>gender_F</th>\n",
       "      <th>gender_M</th>\n",
       "    </tr>\n",
       "  </thead>\n",
       "  <tbody>\n",
       "    <tr>\n",
       "      <th>0</th>\n",
       "      <td>1</td>\n",
       "      <td>35.0</td>\n",
       "      <td>1</td>\n",
       "      <td>0</td>\n",
       "      <td>0</td>\n",
       "      <td>0</td>\n",
       "      <td>0</td>\n",
       "      <td>0</td>\n",
       "      <td>0</td>\n",
       "      <td>0</td>\n",
       "      <td>...</td>\n",
       "      <td>0</td>\n",
       "      <td>0</td>\n",
       "      <td>0</td>\n",
       "      <td>0</td>\n",
       "      <td>0</td>\n",
       "      <td>0</td>\n",
       "      <td>0</td>\n",
       "      <td>0</td>\n",
       "      <td>0</td>\n",
       "      <td>1</td>\n",
       "    </tr>\n",
       "    <tr>\n",
       "      <th>1</th>\n",
       "      <td>0</td>\n",
       "      <td>34.0</td>\n",
       "      <td>1</td>\n",
       "      <td>0</td>\n",
       "      <td>0</td>\n",
       "      <td>0</td>\n",
       "      <td>0</td>\n",
       "      <td>0</td>\n",
       "      <td>0</td>\n",
       "      <td>0</td>\n",
       "      <td>...</td>\n",
       "      <td>0</td>\n",
       "      <td>0</td>\n",
       "      <td>0</td>\n",
       "      <td>0</td>\n",
       "      <td>0</td>\n",
       "      <td>0</td>\n",
       "      <td>0</td>\n",
       "      <td>0</td>\n",
       "      <td>0</td>\n",
       "      <td>1</td>\n",
       "    </tr>\n",
       "    <tr>\n",
       "      <th>2</th>\n",
       "      <td>0</td>\n",
       "      <td>36.0</td>\n",
       "      <td>1</td>\n",
       "      <td>0</td>\n",
       "      <td>0</td>\n",
       "      <td>0</td>\n",
       "      <td>0</td>\n",
       "      <td>0</td>\n",
       "      <td>0</td>\n",
       "      <td>0</td>\n",
       "      <td>...</td>\n",
       "      <td>0</td>\n",
       "      <td>0</td>\n",
       "      <td>0</td>\n",
       "      <td>0</td>\n",
       "      <td>0</td>\n",
       "      <td>0</td>\n",
       "      <td>0</td>\n",
       "      <td>0</td>\n",
       "      <td>0</td>\n",
       "      <td>1</td>\n",
       "    </tr>\n",
       "    <tr>\n",
       "      <th>3</th>\n",
       "      <td>0</td>\n",
       "      <td>35.0</td>\n",
       "      <td>1</td>\n",
       "      <td>0</td>\n",
       "      <td>0</td>\n",
       "      <td>0</td>\n",
       "      <td>0</td>\n",
       "      <td>0</td>\n",
       "      <td>0</td>\n",
       "      <td>0</td>\n",
       "      <td>...</td>\n",
       "      <td>0</td>\n",
       "      <td>0</td>\n",
       "      <td>0</td>\n",
       "      <td>0</td>\n",
       "      <td>0</td>\n",
       "      <td>0</td>\n",
       "      <td>0</td>\n",
       "      <td>0</td>\n",
       "      <td>0</td>\n",
       "      <td>1</td>\n",
       "    </tr>\n",
       "    <tr>\n",
       "      <th>4</th>\n",
       "      <td>0</td>\n",
       "      <td>33.0</td>\n",
       "      <td>1</td>\n",
       "      <td>0</td>\n",
       "      <td>0</td>\n",
       "      <td>0</td>\n",
       "      <td>0</td>\n",
       "      <td>0</td>\n",
       "      <td>0</td>\n",
       "      <td>0</td>\n",
       "      <td>...</td>\n",
       "      <td>0</td>\n",
       "      <td>0</td>\n",
       "      <td>0</td>\n",
       "      <td>0</td>\n",
       "      <td>0</td>\n",
       "      <td>0</td>\n",
       "      <td>0</td>\n",
       "      <td>0</td>\n",
       "      <td>0</td>\n",
       "      <td>1</td>\n",
       "    </tr>\n",
       "  </tbody>\n",
       "</table>\n",
       "<p>5 rows × 274 columns</p>\n",
       "</div>"
      ],
      "text/plain": [
       "   is_active   age  group  label_id_6  label_id_8  label_id_10  label_id_11  \\\n",
       "0          1  35.0      1           0           0            0            0   \n",
       "1          0  34.0      1           0           0            0            0   \n",
       "2          0  36.0      1           0           0            0            0   \n",
       "3          0  35.0      1           0           0            0            0   \n",
       "4          0  33.0      1           0           0            0            0   \n",
       "\n",
       "   label_id_12  label_id_13  label_id_14    ...     phone_brand_weimi  \\\n",
       "0            0            0            0    ...                     0   \n",
       "1            0            0            0    ...                     0   \n",
       "2            0            0            0    ...                     0   \n",
       "3            0            0            0    ...                     0   \n",
       "4            0            0            0    ...                     0   \n",
       "\n",
       "   phone_brand_weitu  phone_brand_wpf  phone_brand_xiangmi  phone_brand_ximi  \\\n",
       "0                  0                0                    0                 0   \n",
       "1                  0                0                    0                 0   \n",
       "2                  0                0                    0                 0   \n",
       "3                  0                0                    0                 0   \n",
       "4                  0                0                    0                 0   \n",
       "\n",
       "   phone_brand_yougo  phone_brand_youmi  phone_brand_yuxin  gender_F  gender_M  \n",
       "0                  0                  0                  0         0         1  \n",
       "1                  0                  0                  0         0         1  \n",
       "2                  0                  0                  0         0         1  \n",
       "3                  0                  0                  0         0         1  \n",
       "4                  0                  0                  0         0         1  \n",
       "\n",
       "[5 rows x 274 columns]"
      ]
     },
     "execution_count": 24,
     "metadata": {},
     "output_type": "execute_result"
    }
   ],
   "source": [
    "#Get dummy variables for the gender variable and reset index\n",
    "clean_final_dataset = pd.get_dummies(final_dataset_upsampled, columns = ['gender'], sparse = True,).reset_index(drop= True)\n",
    "\n",
    "#Delete column with device_id\n",
    "clean_final_dataset = clean_final_dataset.drop('device_id', axis = 1)\n",
    "\n",
    "#Delete columns that are all zeros\n",
    "clean_final_dataset = clean_final_dataset.drop(clean_final_dataset.columns[(clean_final_dataset == 0).all()], axis = 1)\n",
    "\n",
    "#Substitute the categorical output variable \n",
    "clean_final_dataset['group'] = clean_final_dataset['group'].map({'M39+' :0,'M32-38':1, 'M29-31':2, 'M27-28':3, 'M23-26':4,'M22-': 5,\n",
    "                                           'F43+' :6,'F33-42':7, 'F29-32':8, 'F27-28':9, 'F24-26':10, 'F23-':11 })\n",
    "\n",
    "#Print the first five rows of the new dataset\n",
    "clean_final_dataset.head()"
   ]
  },
  {
   "cell_type": "markdown",
   "metadata": {},
   "source": [
    "As it can be appreciated the average age of the users is 31 years with a standard deviation of nearly 10 years. The interquartile age is between 26 and 37 years. For each of the labels and brands it can be seen that all the ones included appear at least once as it was expected from the data wrangling actions. Although group appears in the table, the results obtained means that the group M23-26 grouping male between 23 and 26 is the most significant one in terms of appearance.  "
   ]
  },
  {
   "cell_type": "code",
   "execution_count": 25,
   "metadata": {},
   "outputs": [
    {
     "data": {
      "text/html": [
       "<div>\n",
       "<style>\n",
       "    .dataframe thead tr:only-child th {\n",
       "        text-align: right;\n",
       "    }\n",
       "\n",
       "    .dataframe thead th {\n",
       "        text-align: left;\n",
       "    }\n",
       "\n",
       "    .dataframe tbody tr th {\n",
       "        vertical-align: top;\n",
       "    }\n",
       "</style>\n",
       "<table border=\"1\" class=\"dataframe\">\n",
       "  <thead>\n",
       "    <tr style=\"text-align: right;\">\n",
       "      <th></th>\n",
       "      <th>is_active</th>\n",
       "      <th>age</th>\n",
       "      <th>group</th>\n",
       "      <th>label_id_6</th>\n",
       "      <th>label_id_8</th>\n",
       "      <th>label_id_10</th>\n",
       "      <th>label_id_11</th>\n",
       "      <th>label_id_12</th>\n",
       "      <th>label_id_13</th>\n",
       "      <th>label_id_14</th>\n",
       "      <th>...</th>\n",
       "      <th>phone_brand_weimi</th>\n",
       "      <th>phone_brand_weitu</th>\n",
       "      <th>phone_brand_wpf</th>\n",
       "      <th>phone_brand_xiangmi</th>\n",
       "      <th>phone_brand_ximi</th>\n",
       "      <th>phone_brand_yougo</th>\n",
       "      <th>phone_brand_youmi</th>\n",
       "      <th>phone_brand_yuxin</th>\n",
       "      <th>gender_F</th>\n",
       "      <th>gender_M</th>\n",
       "    </tr>\n",
       "  </thead>\n",
       "  <tbody>\n",
       "    <tr>\n",
       "      <th>count</th>\n",
       "      <td>40056.000000</td>\n",
       "      <td>40056.000000</td>\n",
       "      <td>40056.000000</td>\n",
       "      <td>40056.000000</td>\n",
       "      <td>40056.000000</td>\n",
       "      <td>40056.000000</td>\n",
       "      <td>40056.000000</td>\n",
       "      <td>40056.000000</td>\n",
       "      <td>40056.000000</td>\n",
       "      <td>40056.000000</td>\n",
       "      <td>...</td>\n",
       "      <td>40056.000000</td>\n",
       "      <td>40056.000000</td>\n",
       "      <td>40056.000000</td>\n",
       "      <td>40056.000000</td>\n",
       "      <td>40056.000000</td>\n",
       "      <td>40056.000000</td>\n",
       "      <td>40056.000000</td>\n",
       "      <td>40056.000000</td>\n",
       "      <td>40056.000000</td>\n",
       "      <td>40056.000000</td>\n",
       "    </tr>\n",
       "    <tr>\n",
       "      <th>mean</th>\n",
       "      <td>0.510685</td>\n",
       "      <td>31.315234</td>\n",
       "      <td>5.500000</td>\n",
       "      <td>0.000100</td>\n",
       "      <td>0.000524</td>\n",
       "      <td>0.000025</td>\n",
       "      <td>0.001273</td>\n",
       "      <td>0.000125</td>\n",
       "      <td>0.000699</td>\n",
       "      <td>0.000125</td>\n",
       "      <td>...</td>\n",
       "      <td>0.000175</td>\n",
       "      <td>0.000250</td>\n",
       "      <td>0.000075</td>\n",
       "      <td>0.000025</td>\n",
       "      <td>0.000050</td>\n",
       "      <td>0.000125</td>\n",
       "      <td>0.000300</td>\n",
       "      <td>0.001373</td>\n",
       "      <td>0.500000</td>\n",
       "      <td>0.500000</td>\n",
       "    </tr>\n",
       "    <tr>\n",
       "      <th>std</th>\n",
       "      <td>0.499892</td>\n",
       "      <td>9.830269</td>\n",
       "      <td>3.452096</td>\n",
       "      <td>0.009993</td>\n",
       "      <td>0.022891</td>\n",
       "      <td>0.004997</td>\n",
       "      <td>0.035660</td>\n",
       "      <td>0.011172</td>\n",
       "      <td>0.026430</td>\n",
       "      <td>0.011172</td>\n",
       "      <td>...</td>\n",
       "      <td>0.013219</td>\n",
       "      <td>0.015799</td>\n",
       "      <td>0.008654</td>\n",
       "      <td>0.004997</td>\n",
       "      <td>0.007066</td>\n",
       "      <td>0.011172</td>\n",
       "      <td>0.017306</td>\n",
       "      <td>0.037030</td>\n",
       "      <td>0.500006</td>\n",
       "      <td>0.500006</td>\n",
       "    </tr>\n",
       "    <tr>\n",
       "      <th>min</th>\n",
       "      <td>0.000000</td>\n",
       "      <td>11.000000</td>\n",
       "      <td>0.000000</td>\n",
       "      <td>0.000000</td>\n",
       "      <td>0.000000</td>\n",
       "      <td>0.000000</td>\n",
       "      <td>0.000000</td>\n",
       "      <td>0.000000</td>\n",
       "      <td>0.000000</td>\n",
       "      <td>0.000000</td>\n",
       "      <td>...</td>\n",
       "      <td>0.000000</td>\n",
       "      <td>0.000000</td>\n",
       "      <td>0.000000</td>\n",
       "      <td>0.000000</td>\n",
       "      <td>0.000000</td>\n",
       "      <td>0.000000</td>\n",
       "      <td>0.000000</td>\n",
       "      <td>0.000000</td>\n",
       "      <td>0.000000</td>\n",
       "      <td>0.000000</td>\n",
       "    </tr>\n",
       "    <tr>\n",
       "      <th>25%</th>\n",
       "      <td>0.000000</td>\n",
       "      <td>25.000000</td>\n",
       "      <td>2.750000</td>\n",
       "      <td>0.000000</td>\n",
       "      <td>0.000000</td>\n",
       "      <td>0.000000</td>\n",
       "      <td>0.000000</td>\n",
       "      <td>0.000000</td>\n",
       "      <td>0.000000</td>\n",
       "      <td>0.000000</td>\n",
       "      <td>...</td>\n",
       "      <td>0.000000</td>\n",
       "      <td>0.000000</td>\n",
       "      <td>0.000000</td>\n",
       "      <td>0.000000</td>\n",
       "      <td>0.000000</td>\n",
       "      <td>0.000000</td>\n",
       "      <td>0.000000</td>\n",
       "      <td>0.000000</td>\n",
       "      <td>0.000000</td>\n",
       "      <td>0.000000</td>\n",
       "    </tr>\n",
       "    <tr>\n",
       "      <th>50%</th>\n",
       "      <td>1.000000</td>\n",
       "      <td>28.500000</td>\n",
       "      <td>5.500000</td>\n",
       "      <td>0.000000</td>\n",
       "      <td>0.000000</td>\n",
       "      <td>0.000000</td>\n",
       "      <td>0.000000</td>\n",
       "      <td>0.000000</td>\n",
       "      <td>0.000000</td>\n",
       "      <td>0.000000</td>\n",
       "      <td>...</td>\n",
       "      <td>0.000000</td>\n",
       "      <td>0.000000</td>\n",
       "      <td>0.000000</td>\n",
       "      <td>0.000000</td>\n",
       "      <td>0.000000</td>\n",
       "      <td>0.000000</td>\n",
       "      <td>0.000000</td>\n",
       "      <td>0.000000</td>\n",
       "      <td>0.500000</td>\n",
       "      <td>0.500000</td>\n",
       "    </tr>\n",
       "    <tr>\n",
       "      <th>75%</th>\n",
       "      <td>1.000000</td>\n",
       "      <td>35.000000</td>\n",
       "      <td>8.250000</td>\n",
       "      <td>0.000000</td>\n",
       "      <td>0.000000</td>\n",
       "      <td>0.000000</td>\n",
       "      <td>0.000000</td>\n",
       "      <td>0.000000</td>\n",
       "      <td>0.000000</td>\n",
       "      <td>0.000000</td>\n",
       "      <td>...</td>\n",
       "      <td>0.000000</td>\n",
       "      <td>0.000000</td>\n",
       "      <td>0.000000</td>\n",
       "      <td>0.000000</td>\n",
       "      <td>0.000000</td>\n",
       "      <td>0.000000</td>\n",
       "      <td>0.000000</td>\n",
       "      <td>0.000000</td>\n",
       "      <td>1.000000</td>\n",
       "      <td>1.000000</td>\n",
       "    </tr>\n",
       "    <tr>\n",
       "      <th>max</th>\n",
       "      <td>1.000000</td>\n",
       "      <td>86.000000</td>\n",
       "      <td>11.000000</td>\n",
       "      <td>1.000000</td>\n",
       "      <td>1.000000</td>\n",
       "      <td>1.000000</td>\n",
       "      <td>1.000000</td>\n",
       "      <td>1.000000</td>\n",
       "      <td>1.000000</td>\n",
       "      <td>1.000000</td>\n",
       "      <td>...</td>\n",
       "      <td>1.000000</td>\n",
       "      <td>1.000000</td>\n",
       "      <td>1.000000</td>\n",
       "      <td>1.000000</td>\n",
       "      <td>1.000000</td>\n",
       "      <td>1.000000</td>\n",
       "      <td>1.000000</td>\n",
       "      <td>1.000000</td>\n",
       "      <td>1.000000</td>\n",
       "      <td>1.000000</td>\n",
       "    </tr>\n",
       "  </tbody>\n",
       "</table>\n",
       "<p>8 rows × 274 columns</p>\n",
       "</div>"
      ],
      "text/plain": [
       "          is_active           age         group    label_id_6    label_id_8  \\\n",
       "count  40056.000000  40056.000000  40056.000000  40056.000000  40056.000000   \n",
       "mean       0.510685     31.315234      5.500000      0.000100      0.000524   \n",
       "std        0.499892      9.830269      3.452096      0.009993      0.022891   \n",
       "min        0.000000     11.000000      0.000000      0.000000      0.000000   \n",
       "25%        0.000000     25.000000      2.750000      0.000000      0.000000   \n",
       "50%        1.000000     28.500000      5.500000      0.000000      0.000000   \n",
       "75%        1.000000     35.000000      8.250000      0.000000      0.000000   \n",
       "max        1.000000     86.000000     11.000000      1.000000      1.000000   \n",
       "\n",
       "        label_id_10   label_id_11   label_id_12   label_id_13   label_id_14  \\\n",
       "count  40056.000000  40056.000000  40056.000000  40056.000000  40056.000000   \n",
       "mean       0.000025      0.001273      0.000125      0.000699      0.000125   \n",
       "std        0.004997      0.035660      0.011172      0.026430      0.011172   \n",
       "min        0.000000      0.000000      0.000000      0.000000      0.000000   \n",
       "25%        0.000000      0.000000      0.000000      0.000000      0.000000   \n",
       "50%        0.000000      0.000000      0.000000      0.000000      0.000000   \n",
       "75%        0.000000      0.000000      0.000000      0.000000      0.000000   \n",
       "max        1.000000      1.000000      1.000000      1.000000      1.000000   \n",
       "\n",
       "           ...       phone_brand_weimi  phone_brand_weitu  phone_brand_wpf  \\\n",
       "count      ...            40056.000000       40056.000000     40056.000000   \n",
       "mean       ...                0.000175           0.000250         0.000075   \n",
       "std        ...                0.013219           0.015799         0.008654   \n",
       "min        ...                0.000000           0.000000         0.000000   \n",
       "25%        ...                0.000000           0.000000         0.000000   \n",
       "50%        ...                0.000000           0.000000         0.000000   \n",
       "75%        ...                0.000000           0.000000         0.000000   \n",
       "max        ...                1.000000           1.000000         1.000000   \n",
       "\n",
       "       phone_brand_xiangmi  phone_brand_ximi  phone_brand_yougo  \\\n",
       "count         40056.000000      40056.000000       40056.000000   \n",
       "mean              0.000025          0.000050           0.000125   \n",
       "std               0.004997          0.007066           0.011172   \n",
       "min               0.000000          0.000000           0.000000   \n",
       "25%               0.000000          0.000000           0.000000   \n",
       "50%               0.000000          0.000000           0.000000   \n",
       "75%               0.000000          0.000000           0.000000   \n",
       "max               1.000000          1.000000           1.000000   \n",
       "\n",
       "       phone_brand_youmi  phone_brand_yuxin      gender_F      gender_M  \n",
       "count       40056.000000       40056.000000  40056.000000  40056.000000  \n",
       "mean            0.000300           0.001373      0.500000      0.500000  \n",
       "std             0.017306           0.037030      0.500006      0.500006  \n",
       "min             0.000000           0.000000      0.000000      0.000000  \n",
       "25%             0.000000           0.000000      0.000000      0.000000  \n",
       "50%             0.000000           0.000000      0.500000      0.500000  \n",
       "75%             0.000000           0.000000      1.000000      1.000000  \n",
       "max             1.000000           1.000000      1.000000      1.000000  \n",
       "\n",
       "[8 rows x 274 columns]"
      ]
     },
     "execution_count": 25,
     "metadata": {},
     "output_type": "execute_result"
    }
   ],
   "source": [
    "#Describe the data using statistics\n",
    "clean_final_dataset.describe()"
   ]
  },
  {
   "cell_type": "markdown",
   "metadata": {},
   "source": [
    "The dataset has been split between the predictors and the output variable. As abovementioned, the output variable is the group of age and gender and the input variables are the features created based on the app labels, gender and phone brand used by the users. To improve the quality of the features the data has been preprocessed and scaled."
   ]
  },
  {
   "cell_type": "code",
   "execution_count": 26,
   "metadata": {},
   "outputs": [],
   "source": [
    "#Build the predictors and output variables\n",
    "X = clean_final_dataset.drop('group',axis = 1)\n",
    "y = clean_final_dataset.group\n",
    "\n",
    "#Preprocess and scale data\n",
    "names = X.columns\n",
    "X_processed = pd.DataFrame(normalize(preprocessing.scale(X)), columns = names)"
   ]
  },
  {
   "cell_type": "markdown",
   "metadata": {},
   "source": [
    "The size of the final dataset is 274 variables and 40k rows of data from which features will be generated."
   ]
  },
  {
   "cell_type": "code",
   "execution_count": 27,
   "metadata": {},
   "outputs": [
    {
     "name": "stdout",
     "output_type": "stream",
     "text": [
      "(40056, 273) (40056,)\n",
      "[ 1  0  4  2  5  7  3  8 11  6 10  9]\n"
     ]
    }
   ],
   "source": [
    "#Check shape of X_processed and y\n",
    "print(X_processed.shape, y.shape)\n",
    "\n",
    "#Print the groups in y\n",
    "print(y.unique())"
   ]
  },
  {
   "cell_type": "markdown",
   "metadata": {},
   "source": [
    "To have a better understanding of the correlation between variables, and due to the large amount of variables in this dataset, a correlation matrix has been created. To check the level of correlation between variables, only those with a correlation greater than 0.5 and lower than 1 (in absolute terms) have been printed."
   ]
  },
  {
   "cell_type": "code",
   "execution_count": 28,
   "metadata": {
    "scrolled": true
   },
   "outputs": [
    {
     "name": "stdout",
     "output_type": "stream",
     "text": [
      "Values presenting correlation between 0.4 and 1 (excluding 1) \n",
      "\n",
      " label_id_706      phone_brand_OPPO    0.420881\n",
      "phone_brand_OPPO  label_id_706        0.420881\n",
      "dtype: float64:\n",
      "Values presenting correlation between -0.4 and -1 (excluding -1) \n",
      "\n",
      " Series([], dtype: float64):\n"
     ]
    }
   ],
   "source": [
    "#Build the correlation matrix between scores\n",
    "correlation_mat = X_processed.corr()\n",
    "\n",
    "#Check the correlation between values\n",
    "corr_values = correlation_mat.unstack()\n",
    "corr_values_sorted = corr_values.sort_values(kind=\"quicksort\", ascending=False)\n",
    "\n",
    "#Check high postivie correlations (between 0.4 and 1)\n",
    "print(('Values presenting correlation between 0.4 and 1 (excluding 1) \\n\\n {}:')\n",
    "      .format(corr_values_sorted[corr_values_sorted.between(0.4, 0.99, inclusive=True)]))\n",
    "\n",
    "#Check high negative correlations (between -0.4 and -1)\n",
    "print(('Values presenting correlation between -0.4 and -1 (excluding -1) \\n\\n {}:')\n",
    "      .format(corr_values_sorted[corr_values_sorted.between(-0.4, -0.99, inclusive=True)]))"
   ]
  },
  {
   "cell_type": "markdown",
   "metadata": {},
   "source": [
    "As it can be observed only the pone brand \"OPPO\" and the app label 706 present the highest correlation equal to 0.42. Further inspection shows that this brand includes a \"customized\" app in all the phones to access special features. As expected there is no negative correlation higher than 0.4 (in absolute terms) due to the characteristics of the data. There are no apps that cannot be installed in certain phone brands or that decrease when the number of phones of that brand increases.\n",
    "\n",
    "The dataset has been split into predictors and target variable and the dataset split into a train and test data set (70/30) defining five folds for cross validation. This train test split will be used for the feature generation steps and as part of the unsupervised exploratory data analysis."
   ]
  },
  {
   "cell_type": "code",
   "execution_count": 29,
   "metadata": {},
   "outputs": [],
   "source": [
    "#Split the dataset into a training and testing dataset 70/30\n",
    "X_train, X_test, y_train, y_test = train_test_split(X_processed, y,test_size=0.3, random_state=42)"
   ]
  },
  {
   "cell_type": "markdown",
   "metadata": {},
   "source": [
    "### 3. Feature Generation ###"
   ]
  },
  {
   "cell_type": "markdown",
   "metadata": {},
   "source": [
    "The feature selection process will start with a PCA analysis to understand the number of features required to describe more than 90% of the variance of the outcome variable. Once the number of features is identified, the following methods will be used to select the features that will be used to run build the binary classifier:\n",
    "\n",
    "1. Feature Importance using Random Forest\n",
    "2. Feature Selection using kbest()\n",
    "\n",
    "The features obtained by each of the methods will be compared to see if the selected ones are stable and the final number of features will be determined by the number of features obtained from PCA. The number of features is determined from the results obtained from PCA analysis."
   ]
  },
  {
   "cell_type": "code",
   "execution_count": 30,
   "metadata": {
    "scrolled": true
   },
   "outputs": [
    {
     "data": {
      "text/html": [
       "<div>\n",
       "<style>\n",
       "    .dataframe thead tr:only-child th {\n",
       "        text-align: right;\n",
       "    }\n",
       "\n",
       "    .dataframe thead th {\n",
       "        text-align: left;\n",
       "    }\n",
       "\n",
       "    .dataframe tbody tr th {\n",
       "        vertical-align: top;\n",
       "    }\n",
       "</style>\n",
       "<table border=\"1\" class=\"dataframe\">\n",
       "  <thead>\n",
       "    <tr style=\"text-align: right;\">\n",
       "      <th></th>\n",
       "      <th>Best Features</th>\n",
       "      <th>Scores</th>\n",
       "    </tr>\n",
       "  </thead>\n",
       "  <tbody>\n",
       "    <tr>\n",
       "      <th>272</th>\n",
       "      <td>gender_M</td>\n",
       "      <td>16659.586692</td>\n",
       "    </tr>\n",
       "    <tr>\n",
       "      <th>271</th>\n",
       "      <td>gender_F</td>\n",
       "      <td>16659.586692</td>\n",
       "    </tr>\n",
       "    <tr>\n",
       "      <th>1</th>\n",
       "      <td>age</td>\n",
       "      <td>12557.935109</td>\n",
       "    </tr>\n",
       "    <tr>\n",
       "      <th>196</th>\n",
       "      <td>phone_brand_Huawei</td>\n",
       "      <td>44.932644</td>\n",
       "    </tr>\n",
       "    <tr>\n",
       "      <th>262</th>\n",
       "      <td>phone_brand_vivo</td>\n",
       "      <td>43.898505</td>\n",
       "    </tr>\n",
       "    <tr>\n",
       "      <th>205</th>\n",
       "      <td>phone_brand_OPPO</td>\n",
       "      <td>43.211478</td>\n",
       "    </tr>\n",
       "    <tr>\n",
       "      <th>202</th>\n",
       "      <td>phone_brand_Meizu</td>\n",
       "      <td>39.752726</td>\n",
       "    </tr>\n",
       "    <tr>\n",
       "      <th>122</th>\n",
       "      <td>label_id_706</td>\n",
       "      <td>32.156860</td>\n",
       "    </tr>\n",
       "    <tr>\n",
       "      <th>102</th>\n",
       "      <td>label_id_262</td>\n",
       "      <td>27.021782</td>\n",
       "    </tr>\n",
       "    <tr>\n",
       "      <th>181</th>\n",
       "      <td>label_id_1012</td>\n",
       "      <td>22.089015</td>\n",
       "    </tr>\n",
       "    <tr>\n",
       "      <th>176</th>\n",
       "      <td>label_id_959</td>\n",
       "      <td>21.277775</td>\n",
       "    </tr>\n",
       "    <tr>\n",
       "      <th>261</th>\n",
       "      <td>phone_brand_samsung</td>\n",
       "      <td>18.546807</td>\n",
       "    </tr>\n",
       "    <tr>\n",
       "      <th>116</th>\n",
       "      <td>label_id_549</td>\n",
       "      <td>17.111166</td>\n",
       "    </tr>\n",
       "    <tr>\n",
       "      <th>0</th>\n",
       "      <td>is_active</td>\n",
       "      <td>16.277667</td>\n",
       "    </tr>\n",
       "    <tr>\n",
       "      <th>119</th>\n",
       "      <td>label_id_562</td>\n",
       "      <td>16.156300</td>\n",
       "    </tr>\n",
       "    <tr>\n",
       "      <th>129</th>\n",
       "      <td>label_id_713</td>\n",
       "      <td>15.646105</td>\n",
       "    </tr>\n",
       "    <tr>\n",
       "      <th>113</th>\n",
       "      <td>label_id_405</td>\n",
       "      <td>13.891441</td>\n",
       "    </tr>\n",
       "    <tr>\n",
       "      <th>135</th>\n",
       "      <td>label_id_719</td>\n",
       "      <td>13.046325</td>\n",
       "    </tr>\n",
       "    <tr>\n",
       "      <th>259</th>\n",
       "      <td>phone_brand_oneplus</td>\n",
       "      <td>9.572285</td>\n",
       "    </tr>\n",
       "    <tr>\n",
       "      <th>248</th>\n",
       "      <td>phone_brand_lshi</td>\n",
       "      <td>9.247999</td>\n",
       "    </tr>\n",
       "    <tr>\n",
       "      <th>249</th>\n",
       "      <td>phone_brand_meitu</td>\n",
       "      <td>8.508383</td>\n",
       "    </tr>\n",
       "    <tr>\n",
       "      <th>42</th>\n",
       "      <td>label_id_129</td>\n",
       "      <td>7.496816</td>\n",
       "    </tr>\n",
       "    <tr>\n",
       "      <th>246</th>\n",
       "      <td>phone_brand_lenovo</td>\n",
       "      <td>7.308854</td>\n",
       "    </tr>\n",
       "    <tr>\n",
       "      <th>256</th>\n",
       "      <td>phone_brand_nubia</td>\n",
       "      <td>7.307348</td>\n",
       "    </tr>\n",
       "    <tr>\n",
       "      <th>108</th>\n",
       "      <td>label_id_302</td>\n",
       "      <td>7.200875</td>\n",
       "    </tr>\n",
       "    <tr>\n",
       "      <th>199</th>\n",
       "      <td>phone_brand_Ktouch</td>\n",
       "      <td>6.626631</td>\n",
       "    </tr>\n",
       "    <tr>\n",
       "      <th>100</th>\n",
       "      <td>label_id_256</td>\n",
       "      <td>6.596465</td>\n",
       "    </tr>\n",
       "    <tr>\n",
       "      <th>93</th>\n",
       "      <td>label_id_232</td>\n",
       "      <td>6.571871</td>\n",
       "    </tr>\n",
       "    <tr>\n",
       "      <th>159</th>\n",
       "      <td>label_id_844</td>\n",
       "      <td>6.501467</td>\n",
       "    </tr>\n",
       "    <tr>\n",
       "      <th>61</th>\n",
       "      <td>label_id_167</td>\n",
       "      <td>6.492066</td>\n",
       "    </tr>\n",
       "    <tr>\n",
       "      <th>...</th>\n",
       "      <td>...</td>\n",
       "      <td>...</td>\n",
       "    </tr>\n",
       "    <tr>\n",
       "      <th>190</th>\n",
       "      <td>phone_brand_Cong</td>\n",
       "      <td>1.279827</td>\n",
       "    </tr>\n",
       "    <tr>\n",
       "      <th>171</th>\n",
       "      <td>label_id_870</td>\n",
       "      <td>1.277618</td>\n",
       "    </tr>\n",
       "    <tr>\n",
       "      <th>17</th>\n",
       "      <td>label_id_31</td>\n",
       "      <td>1.222405</td>\n",
       "    </tr>\n",
       "    <tr>\n",
       "      <th>223</th>\n",
       "      <td>phone_brand_ZOYE</td>\n",
       "      <td>1.220769</td>\n",
       "    </tr>\n",
       "    <tr>\n",
       "      <th>38</th>\n",
       "      <td>label_id_73</td>\n",
       "      <td>1.220248</td>\n",
       "    </tr>\n",
       "    <tr>\n",
       "      <th>216</th>\n",
       "      <td>phone_brand_UB15</td>\n",
       "      <td>1.220238</td>\n",
       "    </tr>\n",
       "    <tr>\n",
       "      <th>82</th>\n",
       "      <td>label_id_213</td>\n",
       "      <td>1.220215</td>\n",
       "    </tr>\n",
       "    <tr>\n",
       "      <th>139</th>\n",
       "      <td>label_id_731</td>\n",
       "      <td>1.220213</td>\n",
       "    </tr>\n",
       "    <tr>\n",
       "      <th>19</th>\n",
       "      <td>label_id_33</td>\n",
       "      <td>1.220212</td>\n",
       "    </tr>\n",
       "    <tr>\n",
       "      <th>189</th>\n",
       "      <td>phone_brand_Changhong</td>\n",
       "      <td>1.181282</td>\n",
       "    </tr>\n",
       "    <tr>\n",
       "      <th>36</th>\n",
       "      <td>label_id_66</td>\n",
       "      <td>1.152169</td>\n",
       "    </tr>\n",
       "    <tr>\n",
       "      <th>57</th>\n",
       "      <td>label_id_162</td>\n",
       "      <td>1.152098</td>\n",
       "    </tr>\n",
       "    <tr>\n",
       "      <th>70</th>\n",
       "      <td>label_id_184</td>\n",
       "      <td>1.152061</td>\n",
       "    </tr>\n",
       "    <tr>\n",
       "      <th>34</th>\n",
       "      <td>label_id_61</td>\n",
       "      <td>1.150701</td>\n",
       "    </tr>\n",
       "    <tr>\n",
       "      <th>266</th>\n",
       "      <td>phone_brand_xiangmi</td>\n",
       "      <td>1.150682</td>\n",
       "    </tr>\n",
       "    <tr>\n",
       "      <th>131</th>\n",
       "      <td>label_id_715</td>\n",
       "      <td>1.126873</td>\n",
       "    </tr>\n",
       "    <tr>\n",
       "      <th>132</th>\n",
       "      <td>label_id_716</td>\n",
       "      <td>1.126727</td>\n",
       "    </tr>\n",
       "    <tr>\n",
       "      <th>267</th>\n",
       "      <td>phone_brand_ximi</td>\n",
       "      <td>1.125970</td>\n",
       "    </tr>\n",
       "    <tr>\n",
       "      <th>182</th>\n",
       "      <td>label_id_1013</td>\n",
       "      <td>1.083057</td>\n",
       "    </tr>\n",
       "    <tr>\n",
       "      <th>192</th>\n",
       "      <td>phone_brand_Daq</td>\n",
       "      <td>1.082245</td>\n",
       "    </tr>\n",
       "    <tr>\n",
       "      <th>254</th>\n",
       "      <td>phone_brand_nibilu</td>\n",
       "      <td>1.080327</td>\n",
       "    </tr>\n",
       "    <tr>\n",
       "      <th>30</th>\n",
       "      <td>label_id_51</td>\n",
       "      <td>1.070941</td>\n",
       "    </tr>\n",
       "    <tr>\n",
       "      <th>243</th>\n",
       "      <td>phone_brand_kiwu</td>\n",
       "      <td>1.022114</td>\n",
       "    </tr>\n",
       "    <tr>\n",
       "      <th>71</th>\n",
       "      <td>label_id_186</td>\n",
       "      <td>0.984365</td>\n",
       "    </tr>\n",
       "    <tr>\n",
       "      <th>208</th>\n",
       "      <td>phone_brand_Oukimobile</td>\n",
       "      <td>0.984349</td>\n",
       "    </tr>\n",
       "    <tr>\n",
       "      <th>117</th>\n",
       "      <td>label_id_551</td>\n",
       "      <td>0.984343</td>\n",
       "    </tr>\n",
       "    <tr>\n",
       "      <th>39</th>\n",
       "      <td>label_id_76</td>\n",
       "      <td>0.962680</td>\n",
       "    </tr>\n",
       "    <tr>\n",
       "      <th>121</th>\n",
       "      <td>label_id_691</td>\n",
       "      <td>0.920898</td>\n",
       "    </tr>\n",
       "    <tr>\n",
       "      <th>125</th>\n",
       "      <td>label_id_709</td>\n",
       "      <td>0.920897</td>\n",
       "    </tr>\n",
       "    <tr>\n",
       "      <th>211</th>\n",
       "      <td>phone_brand_Ramos</td>\n",
       "      <td>0.870515</td>\n",
       "    </tr>\n",
       "  </tbody>\n",
       "</table>\n",
       "<p>273 rows × 2 columns</p>\n",
       "</div>"
      ],
      "text/plain": [
       "              Best Features        Scores\n",
       "272                gender_M  16659.586692\n",
       "271                gender_F  16659.586692\n",
       "1                       age  12557.935109\n",
       "196      phone_brand_Huawei     44.932644\n",
       "262        phone_brand_vivo     43.898505\n",
       "205        phone_brand_OPPO     43.211478\n",
       "202       phone_brand_Meizu     39.752726\n",
       "122            label_id_706     32.156860\n",
       "102            label_id_262     27.021782\n",
       "181           label_id_1012     22.089015\n",
       "176            label_id_959     21.277775\n",
       "261     phone_brand_samsung     18.546807\n",
       "116            label_id_549     17.111166\n",
       "0                 is_active     16.277667\n",
       "119            label_id_562     16.156300\n",
       "129            label_id_713     15.646105\n",
       "113            label_id_405     13.891441\n",
       "135            label_id_719     13.046325\n",
       "259     phone_brand_oneplus      9.572285\n",
       "248        phone_brand_lshi      9.247999\n",
       "249       phone_brand_meitu      8.508383\n",
       "42             label_id_129      7.496816\n",
       "246      phone_brand_lenovo      7.308854\n",
       "256       phone_brand_nubia      7.307348\n",
       "108            label_id_302      7.200875\n",
       "199      phone_brand_Ktouch      6.626631\n",
       "100            label_id_256      6.596465\n",
       "93             label_id_232      6.571871\n",
       "159            label_id_844      6.501467\n",
       "61             label_id_167      6.492066\n",
       "..                      ...           ...\n",
       "190        phone_brand_Cong      1.279827\n",
       "171            label_id_870      1.277618\n",
       "17              label_id_31      1.222405\n",
       "223        phone_brand_ZOYE      1.220769\n",
       "38              label_id_73      1.220248\n",
       "216        phone_brand_UB15      1.220238\n",
       "82             label_id_213      1.220215\n",
       "139            label_id_731      1.220213\n",
       "19              label_id_33      1.220212\n",
       "189   phone_brand_Changhong      1.181282\n",
       "36              label_id_66      1.152169\n",
       "57             label_id_162      1.152098\n",
       "70             label_id_184      1.152061\n",
       "34              label_id_61      1.150701\n",
       "266     phone_brand_xiangmi      1.150682\n",
       "131            label_id_715      1.126873\n",
       "132            label_id_716      1.126727\n",
       "267        phone_brand_ximi      1.125970\n",
       "182           label_id_1013      1.083057\n",
       "192         phone_brand_Daq      1.082245\n",
       "254      phone_brand_nibilu      1.080327\n",
       "30              label_id_51      1.070941\n",
       "243        phone_brand_kiwu      1.022114\n",
       "71             label_id_186      0.984365\n",
       "208  phone_brand_Oukimobile      0.984349\n",
       "117            label_id_551      0.984343\n",
       "39              label_id_76      0.962680\n",
       "121            label_id_691      0.920898\n",
       "125            label_id_709      0.920897\n",
       "211       phone_brand_Ramos      0.870515\n",
       "\n",
       "[273 rows x 2 columns]"
      ]
     },
     "execution_count": 30,
     "metadata": {},
     "output_type": "execute_result"
    }
   ],
   "source": [
    "#Feature Selection. \n",
    "#Scores for the most relevant features (should we start with the one that has more explanatory power)\n",
    "\n",
    "#Feature extraction. Starting and fitting the model\n",
    "test = SelectKBest()\n",
    "fit = test.fit(X_processed, y)\n",
    "\n",
    "#Identify features with highest score from a predictive perspective (for all programs)\n",
    "names = X_processed.columns\n",
    "\n",
    "#Put the features and scores into a dataframe.\n",
    "best_features = pd.DataFrame(fit.scores_, index = names).reset_index()\n",
    "best_features.columns = ['Best Features', 'Scores']\n",
    "\n",
    "#Show the features in descending order from those that have more explanatory power to the ones that have less.\n",
    "best_features.sort_values(by=['Scores'], ascending=False)"
   ]
  },
  {
   "cell_type": "markdown",
   "metadata": {},
   "source": [
    "Due to the characteristics of the variables the use of all the features create a lot of noise and when the supervised models are run, there is overfitting in all cases. Hence, the number of variables is reduced using Kbest using only those that have an explanatory power higher than 1. A dataframe is created with this new set of features."
   ]
  },
  {
   "cell_type": "code",
   "execution_count": 31,
   "metadata": {},
   "outputs": [
    {
     "name": "stdout",
     "output_type": "stream",
     "text": [
      "<class 'pandas.core.frame.DataFrame'>\n",
      "RangeIndex: 40056 entries, 0 to 40055\n",
      "Columns: 266 entries, is_active to gender_M\n",
      "dtypes: float64(266)\n",
      "memory usage: 81.3 MB\n"
     ]
    }
   ],
   "source": [
    "#Select all the features that have an explanatory power higher than 1.\n",
    "list_of_best_features = best_features.loc[best_features['Scores'] > 1]['Best Features'].tolist()\n",
    "\n",
    "#Create a dataframe with the new features\n",
    "columns = list_of_best_features\n",
    "X_best_features = pd.DataFrame(X_processed, columns = columns).reset_index(drop= True)\n",
    "\n",
    "#Print information of the dataset\n",
    "X_best_features.info()"
   ]
  },
  {
   "cell_type": "markdown",
   "metadata": {},
   "source": [
    "To select the features, Feature Importance using Random Forest is used. In this case the result given by the random forest feature selection is not meaningful therefore the result given by kbest() will be used as a first step before running PCA for generating the new set of features. From the random forest feature selection it can be observed that the number of features has to be reduced significantly as there are a lot of features that are adding noise and with low explanatory power."
   ]
  },
  {
   "cell_type": "code",
   "execution_count": 33,
   "metadata": {},
   "outputs": [
    {
     "data": {
      "image/png": "[encoded data removed]",
      "text/plain": [
       "<matplotlib.figure.Figure at 0x7ff30ac826a0>"
      ]
     },
     "metadata": {},
     "output_type": "display_data"
    }
   ],
   "source": [
    "#Start the Random Forest Classifier\n",
    "rf = RandomForestClassifier()\n",
    "rf.fit(X_processed, y)\n",
    "\n",
    "#Define feature importance\n",
    "feature_importance = rf.feature_importances_\n",
    "\n",
    "# Make importances relative to max importance.\n",
    "feature_importance = 100.0 * (feature_importance / feature_importance.max())\n",
    "sorted_idx = np.argsort(feature_importance)\n",
    "pos = np.arange(sorted_idx.shape[0]) + .5\n",
    "\n",
    "#Plot the features importance\n",
    "plt.figure(figsize=(7, 50))\n",
    "plt.subplot(1, 1, 1)\n",
    "plt.barh(pos, feature_importance[sorted_idx], align='center')\n",
    "plt.yticks(pos, X_processed.columns[sorted_idx])\n",
    "plt.xlabel('Relative Importance')\n",
    "plt.title('Feature Importance')\n",
    "plt.show()"
   ]
  },
  {
   "cell_type": "markdown",
   "metadata": {},
   "source": [
    "The feature selection using Radnom forest shows the high contribution of age, gender and certain brands over the apps ids. It cn be seen that all of them have a contribution and after running iteratively on the 16 best features selected by Random Forest the accuracy obtained with Logistic Regression was very low. Once features from kbest were added to the feature space accuracy results improved. Hence the features obtained using kbest() will be the ones that will be transformed using PCA. As a second step, the variables selected by Kbest are transformed using PCA analysis. For this, the correlation matrix of the new set of variables is created and non existing values are filled in with zeros."
   ]
  },
  {
   "cell_type": "code",
   "execution_count": 34,
   "metadata": {},
   "outputs": [],
   "source": [
    "# Assign the value to a new variable\n",
    "corr_variable = X_best_features\n",
    "\n",
    "#Build the correlation matrix\n",
    "correlation_matrix = corr_variable.corr()\n",
    "\n",
    "#Clean the correlation matrix adding zeros to the cells that are non existent\n",
    "correlation_matrix = correlation_matrix.fillna(0)"
   ]
  },
  {
   "cell_type": "markdown",
   "metadata": {},
   "source": [
    "Calculate the eigen-values and vectors and determine the explained variance by each component."
   ]
  },
  {
   "cell_type": "code",
   "execution_count": 35,
   "metadata": {
    "scrolled": true
   },
   "outputs": [
    {
     "name": "stdout",
     "output_type": "stream",
     "text": [
      "The percentage of total variance in the dataset explained by each component from Sklearn PCA.\n",
      " [  1.90514054e-02   1.55622558e-02   1.12389228e-02   8.25626753e-03\n",
      "   7.41225121e-03   5.85913861e-03   5.51009685e-03   5.32309609e-03\n",
      "   5.21588311e-03   4.98022742e-03   4.95615242e-03   4.75856600e-03\n",
      "   4.70017697e-03   4.41290418e-03   4.34361212e-03   4.26294298e-03\n",
      "   4.17834662e-03   4.15833273e-03   4.10373513e-03   4.06674603e-03\n",
      "   4.05297378e-03   4.04383800e-03   4.03789539e-03   4.00488570e-03\n",
      "   3.99593810e-03   3.97292008e-03   3.96432993e-03   3.92449081e-03\n",
      "   3.91023523e-03   3.88998124e-03   3.88578393e-03   3.87554065e-03\n",
      "   3.86559654e-03   3.86015146e-03   3.84184066e-03   3.82322286e-03\n",
      "   3.80290908e-03   3.79925678e-03   3.79027035e-03   3.76965543e-03\n",
      "   3.74887503e-03   3.73473881e-03   3.73424267e-03   3.73356754e-03\n",
      "   3.71871549e-03   3.71751204e-03   3.71055534e-03   3.70017927e-03\n",
      "   3.69377894e-03   3.67953523e-03   3.67363068e-03   3.67111240e-03\n",
      "   3.67100848e-03   3.67070745e-03   3.67070643e-03   3.67070548e-03\n",
      "   3.67070538e-03   3.67070504e-03   3.67070459e-03   3.67070435e-03\n",
      "   3.67070386e-03   3.67070050e-03   3.67069850e-03   3.67069810e-03\n",
      "   3.67069574e-03   3.67069488e-03   3.67067218e-03   3.67063901e-03\n",
      "   3.67062219e-03   3.67030571e-03   3.66985420e-03   3.66914391e-03\n",
      "   3.66817498e-03   3.66786360e-03   3.66762744e-03   3.66579796e-03\n",
      "   3.66555500e-03   3.66553718e-03   3.66548705e-03   3.66548435e-03\n",
      "   3.66548347e-03   3.66548296e-03   3.66548237e-03   3.66548201e-03\n",
      "   3.66548082e-03   3.66548039e-03   3.66547734e-03   3.66547218e-03\n",
      "   3.66546860e-03   3.66546481e-03   3.66546208e-03   3.66545385e-03\n",
      "   3.66545198e-03   3.66543384e-03   3.66536974e-03   3.66508557e-03\n",
      "   3.66482428e-03   3.66437324e-03   3.66322896e-03   3.66289555e-03\n",
      "   3.66243680e-03   3.66166950e-03   3.66162063e-03   3.66159825e-03\n",
      "   3.66158019e-03   3.66157243e-03   3.66156297e-03   3.66152248e-03\n",
      "   3.66150953e-03   3.66142353e-03   3.66133416e-03   3.66117988e-03\n",
      "   3.66088207e-03   3.66047954e-03   3.65885725e-03   3.65844132e-03\n",
      "   3.65841902e-03   3.65841543e-03   3.65829035e-03   3.65825496e-03\n",
      "   3.65806425e-03   3.65803205e-03   3.65751123e-03   3.65679604e-03\n",
      "   3.65639037e-03   3.65619644e-03   3.65572486e-03   3.65570204e-03\n",
      "   3.65568123e-03   3.65566727e-03   3.65566363e-03   3.65564882e-03\n",
      "   3.65563844e-03   3.65562016e-03   3.65555036e-03   3.65539722e-03\n",
      "   3.65515657e-03   3.65503915e-03   3.65471283e-03   3.65438456e-03\n",
      "   3.65381743e-03   3.65331687e-03   3.65325313e-03   3.65322583e-03\n",
      "   3.65293580e-03   3.65244371e-03   3.65233395e-03   3.65127468e-03\n",
      "   3.65111023e-03   3.65105881e-03   3.65097243e-03   3.65089993e-03\n",
      "   3.65077881e-03   3.65043405e-03   3.64990871e-03   3.64967942e-03\n",
      "   3.64909275e-03   3.64898400e-03   3.64884483e-03   3.64777629e-03\n",
      "   3.64756384e-03   3.64736714e-03   3.64705036e-03   3.64665082e-03\n",
      "   3.64576119e-03   3.64561649e-03   3.64519403e-03   3.64507139e-03\n",
      "   3.64436941e-03   3.64395722e-03   3.64387813e-03   3.64321823e-03\n",
      "   3.64245948e-03   3.64231433e-03   3.64200037e-03   3.64107825e-03\n",
      "   3.64077013e-03   3.63999609e-03   3.63947229e-03   3.63866470e-03\n",
      "   3.63818847e-03   3.63807795e-03   3.63725868e-03   3.63697851e-03\n",
      "   3.63542541e-03   3.63453912e-03   3.63363655e-03   3.63308820e-03\n",
      "   3.63245563e-03   3.63225194e-03   3.62953450e-03   3.62856955e-03\n",
      "   3.62717597e-03   3.62647331e-03   3.62555754e-03   3.62450329e-03\n",
      "   3.62369256e-03   3.62249685e-03   3.62185063e-03   3.62051332e-03\n",
      "   3.61982566e-03   3.61824744e-03   3.61689349e-03   3.61628493e-03\n",
      "   3.61530073e-03   3.60975262e-03   3.60906371e-03   3.60818780e-03\n",
      "   3.60691483e-03   3.60363073e-03   3.60016431e-03   3.59721662e-03\n",
      "   3.59656988e-03   3.59303964e-03   3.59044664e-03   3.58658232e-03\n",
      "   3.57902820e-03   3.57456880e-03   3.56842251e-03   3.55731868e-03\n",
      "   3.54585601e-03   3.53838096e-03   3.53616611e-03   3.51883739e-03\n",
      "   3.50595065e-03   3.50384175e-03   3.49579279e-03   3.48543686e-03\n",
      "   3.46036399e-03   3.45396730e-03   3.44425851e-03   3.41682239e-03\n",
      "   3.38691543e-03   3.35736399e-03   3.35415939e-03   3.33370402e-03\n",
      "   3.33162414e-03   3.31564263e-03   3.31214034e-03   3.28049274e-03\n",
      "   3.26854606e-03   3.25122518e-03   3.24448363e-03   3.23746580e-03\n",
      "   3.21013470e-03   3.18615437e-03   3.17997555e-03   3.13713174e-03\n",
      "   3.13092289e-03   3.06453521e-03   3.03865042e-03   2.95461660e-03\n",
      "   2.94535511e-03   2.78756531e-03   2.68315194e-03   2.67947173e-03\n",
      "   2.66621441e-03   2.53221361e-03   2.34043611e-03   2.29440841e-03\n",
      "   2.23431610e-03   1.43814398e-03   1.09873575e-03   1.58864743e-16\n",
      "   4.99133983e-18   3.10794460e-36]\n"
     ]
    }
   ],
   "source": [
    "#Eigenvectores & Eigenvalues\n",
    "\n",
    "eig_vals, eig_vecs = np.linalg.eig(correlation_matrix)\n",
    "\n",
    "sklearn_pca = PCA(n_components=len(corr_variable.columns))\n",
    "Y_sklearn = sklearn_pca.fit_transform(correlation_matrix)\n",
    "\n",
    "print(\n",
    "    'The percentage of total variance in the dataset explained by each',\n",
    "    'component from Sklearn PCA.\\n',\n",
    "    sklearn_pca.explained_variance_ratio_\n",
    ")"
   ]
  },
  {
   "cell_type": "markdown",
   "metadata": {},
   "source": [
    "From the PCA analysis abovementioned the PCA features are created. After analysing the feature generation using recursive feature analysis and feature selection using kbest(), the PCA features will be used. Additionally, there is no need to have the initial features as predictors or now which ones have been used as the main purpose of the classification process is to maximize the accuracy."
   ]
  },
  {
   "cell_type": "code",
   "execution_count": 36,
   "metadata": {},
   "outputs": [
    {
     "data": {
      "text/plain": [
       "(40056, 120)"
      ]
     },
     "execution_count": 36,
     "metadata": {},
     "output_type": "execute_result"
    }
   ],
   "source": [
    "#PCA features\n",
    "\n",
    "# Create a scaler object\n",
    "sc = StandardScaler()\n",
    "\n",
    "# Fit the scaler to the features and transform\n",
    "X_std = X_best_features \n",
    "\n",
    "# Create a PCA object from Scree plot the number of components is 120\n",
    "pca = decomposition.PCA(n_components=120)\n",
    "\n",
    "# Fit the PCA and transform the data\n",
    "X_std_pca = pca.fit_transform(X_std)\n",
    "\n",
    "# View the new feature data's shape\n",
    "X_std_pca.shape\n",
    "\n",
    "# Create a new dataframe with the new features\n",
    "X_pca = pd.DataFrame(X_std_pca)\n",
    "\n",
    "#Check the shape of the dataframe containing the PCA components\n",
    "X_pca.shape"
   ]
  },
  {
   "cell_type": "markdown",
   "metadata": {},
   "source": [
    "### 4. Model Selection ###"
   ]
  },
  {
   "cell_type": "markdown",
   "metadata": {},
   "source": [
    "The dataset is split 70/30 train test and several models will be tuned in the training set and run on the test set calculating their accuracy using cross validation. The purpose of this is to train and test the classification models avoiding overfitting, exposing the algorithms to unknown data in the test set. The cross validation will be done using five folds, in this case and as data has been resampled the representation of each class is even across folds avoiding the need to stratify the data, although its use would reduce the bias and variance effects if classes were not evenly distributed in the dataset."
   ]
  },
  {
   "cell_type": "code",
   "execution_count": 37,
   "metadata": {},
   "outputs": [],
   "source": [
    "#Split into test and train sets\n",
    "X_train, X_test, y_train, y_test = train_test_split(X_pca, y, test_size=0.3, random_state=42)\n",
    "\n",
    "#KFold for cross validation analysis\n",
    "kf = KFold(5)"
   ]
  },
  {
   "cell_type": "markdown",
   "metadata": {},
   "source": [
    "All models' hyperparameters will be tuned in the training set using cross validation and gridsearch tuning several parameters considered in the pipeline (gridsearch). Except for specific cases that will be discussed one by one, the algorithm or variations (solver, etc) to be used has been decided in advance considering the topology of the dataset.\n",
    "The models that have been selected to be tested on the dataset to accurately classify the data are:\n",
    "\n",
    "4.1 Logistic Regression\n",
    "\n",
    "4.2 Naïve - Bayes (Bernoulli)\n",
    "\n",
    "4.3. KNeighbors Classifier\n",
    "\n",
    "4.4 Random Forest\n",
    "\n",
    "4.5 Support Vector Machine\n",
    "\n",
    "4.6 Gradient Boosting Classifier\n",
    "\n",
    "4.7 Linear Support Vector Machine\n",
    "\n",
    "All classes have been transformed from their original categorical tag to values from 0 to 11 to enable classification. In this case there is no bias towards a type I or type II misclassification error in terms of cost. There is no \"negative or positive\" case as if one of the groups of users is misclassified, then the marketing effort will be inefficient. Hence, both errors have the same weight and the overall accuracy will be used as hyperparameter tuning score and as an indicator of overall final accuracy. The time required to fit the model and run the cross validation using five folds will be used to indicate the computational effort of each model."
   ]
  },
  {
   "cell_type": "markdown",
   "metadata": {},
   "source": [
    "#### 4.1 Logistic Regression ####\n",
    "\n",
    "The first model to be run is the Logistic Regression model. The following hyperparameters of the model have been tuned using searchgridCV and the overall accuracy as the selection strategy:\n",
    "\n",
    "1.\tParameter \"C\" will be tuned in the training set. Lower values of C parameter will show a higher regularization.\n",
    "\n",
    "The model is initialized and several values are tested. Lower values of parameter \"C\" will give a stronger regularization of the model. The solver is set to \"lbfgs\" as it provides a similar accuracy than \"liblinear\" reducing the computational effort considerably (from 45 min to 3.3 min) being adequate for the problem and size of the dataset."
   ]
  },
  {
   "cell_type": "code",
   "execution_count": 41,
   "metadata": {},
   "outputs": [
    {
     "name": "stdout",
     "output_type": "stream",
     "text": [
      "Fitting 5 folds for each of 3 candidates, totalling 15 fits\n"
     ]
    },
    {
     "name": "stderr",
     "output_type": "stream",
     "text": [
      "[Parallel(n_jobs=-1)]: Done  15 out of  15 | elapsed:  6.9min finished\n"
     ]
    },
    {
     "name": "stdout",
     "output_type": "stream",
     "text": [
      "Best paramenters logistic regression:\n",
      " {'C': 1000}\n",
      "\n"
     ]
    }
   ],
   "source": [
    "# Initialize and fit the model.\n",
    "log_reg = LogisticRegression(class_weight='balanced', multi_class= 'multinomial', solver = 'lbfgs', max_iter = 1500)\n",
    "\n",
    "#Tune parameters: C parameter\n",
    "c_param = [100, 200, 1000]\n",
    "\n",
    "parameters = {'C': c_param}\n",
    "\n",
    "#Fit parameters\n",
    "log_reg_tuned = GridSearchCV(log_reg, param_grid=parameters, n_jobs = -1, cv=kf, verbose = 1)\n",
    "\n",
    "#Fit the tunned classifier in the training space\n",
    "log_reg_tuned.fit(X_train, y_train)\n",
    "\n",
    "#Print the best parameters\n",
    "print(('Best paramenters logistic regression:\\n {}\\n').format(log_reg_tuned.best_params_))"
   ]
  },
  {
   "cell_type": "markdown",
   "metadata": {},
   "source": [
    "The tuned model is fit and run on the test set and the computational effort is measured considering the time required to fit the test set."
   ]
  },
  {
   "cell_type": "code",
   "execution_count": 42,
   "metadata": {},
   "outputs": [
    {
     "name": "stdout",
     "output_type": "stream",
     "text": [
      "Fitting 5 folds for each of 3 candidates, totalling 15 fits\n"
     ]
    },
    {
     "name": "stderr",
     "output_type": "stream",
     "text": [
      "[Parallel(n_jobs=-1)]: Done  15 out of  15 | elapsed:  3.3min finished\n"
     ]
    }
   ],
   "source": [
    "#Once the model has been trained test it on the test dataset\n",
    "log_reg_tuned.fit(X_test, y_test)\n",
    "\n",
    "# Predict on test set\n",
    "predtest_y = log_reg_tuned.predict(X_test)"
   ]
  },
  {
   "cell_type": "markdown",
   "metadata": {},
   "source": [
    "The model requires 3.3 min to run which will be used as a time threshold to measure the computational effort of other models. To calculate the accuracy the model is evaluated on the test set. From the classification report it can be seen that the data representing each class is evenly distributed across the classes. This reduces the probability of bias of the model when calculating the probabilities of each predicted value."
   ]
  },
  {
   "cell_type": "code",
   "execution_count": 43,
   "metadata": {},
   "outputs": [
    {
     "name": "stdout",
     "output_type": "stream",
     "text": [
      "Classification Report: \n",
      "              precision    recall  f1-score   support\n",
      "\n",
      "        0.0       1.00      1.00      1.00      1017\n",
      "        1.0       1.00      1.00      1.00      1036\n",
      "        2.0       1.00      1.00      1.00       973\n",
      "        3.0       1.00      1.00      1.00       994\n",
      "        4.0       1.00      1.00      1.00      1015\n",
      "        5.0       1.00      1.00      1.00       991\n",
      "        6.0       1.00      1.00      1.00       991\n",
      "        7.0       1.00      1.00      1.00       985\n",
      "        8.0       1.00      1.00      1.00       980\n",
      "        9.0       1.00      1.00      1.00       992\n",
      "       10.0       1.00      1.00      1.00      1047\n",
      "       11,0       1.00      1.00      1.00       996\n",
      "\n",
      "avg / total       1.00      1.00      1.00     12017\n",
      "\n",
      "Confusion Matrix: \n",
      "\n",
      " [[1013    4    0    0    0    0    0    0    0    0    0    0]\n",
      " [   0 1035    1    0    0    0    0    0    0    0    0    0]\n",
      " [   0    0  973    0    0    0    0    0    0    0    0    0]\n",
      " [   0    0    0  994    0    0    0    0    0    0    0    0]\n",
      " [   0    0    0    0 1014    1    0    0    0    0    0    0]\n",
      " [   0    0    0    0    0  991    0    0    0    0    0    0]\n",
      " [   0    0    0    0    0    0  991    0    0    0    0    0]\n",
      " [   0    0    0    0    0    0    0  983    2    0    0    0]\n",
      " [   0    0    0    0    0    0    0    0  980    0    0    0]\n",
      " [   0    0    0    0    0    0    0    0    0  992    0    0]\n",
      " [   0    0    0    0    0    0    0    0    0    0 1047    0]\n",
      " [   0    0    0    0    0    0    0    0    0    0    0  996]]\n",
      "\n",
      "Fitting 5 folds for each of 3 candidates, totalling 15 fits\n"
     ]
    },
    {
     "name": "stderr",
     "output_type": "stream",
     "text": [
      "[Parallel(n_jobs=-1)]: Done  15 out of  15 | elapsed:  2.7min finished\n"
     ]
    },
    {
     "name": "stdout",
     "output_type": "stream",
     "text": [
      "Fitting 5 folds for each of 3 candidates, totalling 15 fits\n"
     ]
    },
    {
     "name": "stderr",
     "output_type": "stream",
     "text": [
      "[Parallel(n_jobs=-1)]: Done  15 out of  15 | elapsed:  2.7min finished\n"
     ]
    },
    {
     "name": "stdout",
     "output_type": "stream",
     "text": [
      "Fitting 5 folds for each of 3 candidates, totalling 15 fits\n"
     ]
    },
    {
     "name": "stderr",
     "output_type": "stream",
     "text": [
      "[Parallel(n_jobs=-1)]: Done  15 out of  15 | elapsed:  2.8min finished\n"
     ]
    },
    {
     "name": "stdout",
     "output_type": "stream",
     "text": [
      "Fitting 5 folds for each of 3 candidates, totalling 15 fits\n"
     ]
    },
    {
     "name": "stderr",
     "output_type": "stream",
     "text": [
      "[Parallel(n_jobs=-1)]: Done  15 out of  15 | elapsed:  2.7min finished\n"
     ]
    },
    {
     "name": "stdout",
     "output_type": "stream",
     "text": [
      "Fitting 5 folds for each of 3 candidates, totalling 15 fits\n"
     ]
    },
    {
     "name": "stderr",
     "output_type": "stream",
     "text": [
      "[Parallel(n_jobs=-1)]: Done  15 out of  15 | elapsed:  2.8min finished\n"
     ]
    },
    {
     "name": "stdout",
     "output_type": "stream",
     "text": [
      "Logistic Regression set accuracy: 95.62 % \n",
      "\n"
     ]
    }
   ],
   "source": [
    "#Evaluation of the model (testing)\n",
    "\n",
    "#Define the Target values\n",
    "target_names = ['0.0', '1.0','2.0','3.0','4.0','5.0','6.0','7.0','8.0','9.0','10.0','11,0']\n",
    "\n",
    "#Print the Classification Report\n",
    "print(('Classification Report: \\n {}').format(classification_report(y_test, predtest_y, target_names=target_names)))\n",
    "\n",
    "#Calculate the confusion matrix\n",
    "confusion_lr = confusion_matrix(y_test, predtest_y)\n",
    "\n",
    "#Print the Confusion Matrix\n",
    "print(('Confusion Matrix: \\n\\n {}\\n').format(confusion_lr))\n",
    "\n",
    "#Print the overall accuracy per class\n",
    "print(('Logistic Regression set accuracy: {0:.2f} % \\n').format(cross_val_score(log_reg_tuned, X_test,\n",
    "                                                                                      y_test,cv=kf).mean()*100))"
   ]
  },
  {
   "cell_type": "markdown",
   "metadata": {},
   "source": [
    "The overall accuracy of the Logistic Regression model is 95.62%. Although the overall accuracy is good and the computational effort low, the classification report and confusion matrix show overfitting as there will be some data points misclassified. The high accuracy of the model can be explained by the lack of correlation between the predictors (independent variables). Only two variables out of 120 presented a correlation of 0.5 (max correlation value in the dataset) which have been eliminated when during the feature generation process and through PCA. The PCA components are all independent from each other and by definition there is no collinearity between the 120 components that have been chosen. Additionally linearity between the independent variable and the log odds exists. Furthermore, the dataset is big enough to use this classification algorithm."
   ]
  },
  {
   "cell_type": "markdown",
   "metadata": {},
   "source": [
    "#### 4.2 Naive Bayes ####\n",
    "\n",
    "From the Naïve Bayes models the Bernoulli algorithm has been implemented because Bernoulli model can be trained using less data and be less prone to overfitting. The hyperparameter to be tuned is \"alpha\"."
   ]
  },
  {
   "cell_type": "code",
   "execution_count": 62,
   "metadata": {},
   "outputs": [
    {
     "name": "stdout",
     "output_type": "stream",
     "text": [
      "Fitting 5 folds for each of 4 candidates, totalling 20 fits\n"
     ]
    },
    {
     "name": "stderr",
     "output_type": "stream",
     "text": [
      "[Parallel(n_jobs=-1)]: Done  20 out of  20 | elapsed:    2.5s finished\n"
     ]
    },
    {
     "name": "stdout",
     "output_type": "stream",
     "text": [
      "Best paramenters logistic Naive-Bayes Bernoulli: \n",
      "{'alpha': 10}\n",
      "\n"
     ]
    }
   ],
   "source": [
    "# Initialize and fit the model.\n",
    "naive_bayes_bernoulli= BernoulliNB()\n",
    "\n",
    "#Tune hyperparameters\n",
    "#Create range of values to fit parameters\n",
    "alpha = [10, 100, 200, 1000]\n",
    "parameters = {'alpha': alpha}\n",
    "\n",
    "#Fit parameters using gridsearch\n",
    "naive_bayes_bernoulli_tuned = GridSearchCV(naive_bayes_bernoulli, n_jobs = -1, param_grid=parameters, cv=kf, verbose = 1)\n",
    "\n",
    "#Fit the tunned classifier in the training space\n",
    "naive_bayes_bernoulli_tuned.fit(X_train, y_train)\n",
    "\n",
    "#Print the best parameters\n",
    "print(('Best paramenters logistic Naive-Bayes Bernoulli: \\n{}\\n').format(naive_bayes_bernoulli_tuned.best_params_))"
   ]
  },
  {
   "cell_type": "markdown",
   "metadata": {},
   "source": [
    "The value for \"alpha\" is the smallest of the values chosen to tune the parameters of the model. In this case the gridsearch has been carried out with values ranging from 0.001 to 10 before fitting the above set. In all cases, 10 was the value that was appearing as the best one in terms of overall accuracy. The tuned model is fit and run on the test set and the computational effort is measured considering the time required to fit the test set."
   ]
  },
  {
   "cell_type": "code",
   "execution_count": 63,
   "metadata": {},
   "outputs": [
    {
     "name": "stdout",
     "output_type": "stream",
     "text": [
      "Fitting 5 folds for each of 4 candidates, totalling 20 fits\n"
     ]
    },
    {
     "name": "stderr",
     "output_type": "stream",
     "text": [
      "[Parallel(n_jobs=-1)]: Done   5 out of  20 | elapsed:    0.5s remaining:    1.5s\n",
      "[Parallel(n_jobs=-1)]: Done  20 out of  20 | elapsed:    1.5s finished\n"
     ]
    }
   ],
   "source": [
    "#Once the model has been trained test it on the test dataset\n",
    "naive_bayes_bernoulli_tuned.fit(X_test, y_test)\n",
    "\n",
    "# Predict on test set\n",
    "predtest_y = naive_bayes_bernoulli_tuned.predict(X_test)"
   ]
  },
  {
   "cell_type": "markdown",
   "metadata": {},
   "source": [
    "Once the algorithm is trained it is run on the test set. The maximum precision obtained is 70% for the first class being all of the rest lower than 50%. From an accuracy perspective this algorithm doesn't seem to be a good candidate for our product. Cross validation has been performed to avoid overfitting:"
   ]
  },
  {
   "cell_type": "code",
   "execution_count": 64,
   "metadata": {},
   "outputs": [
    {
     "name": "stdout",
     "output_type": "stream",
     "text": [
      "Classification Report: \n",
      "              precision    recall  f1-score   support\n",
      "\n",
      "        0.0       0.70      0.70      0.70      1017\n",
      "        1.0       0.41      0.47      0.44      1036\n",
      "        2.0       0.29      0.21      0.24       973\n",
      "        3.0       0.27      0.26      0.27       994\n",
      "        4.0       0.26      0.28      0.27      1015\n",
      "        5.0       0.47      0.49      0.48       991\n",
      "        6.0       0.78      0.73      0.75       991\n",
      "        7.0       0.38      0.51      0.44       985\n",
      "        8.0       0.26      0.20      0.22       980\n",
      "        9.0       0.28      0.22      0.25       992\n",
      "       10.0       0.34      0.33      0.33      1047\n",
      "       11,0       0.41      0.51      0.45       996\n",
      "\n",
      "avg / total       0.41      0.41      0.41     12017\n",
      "\n",
      "Confusion Matrix: \n",
      "\n",
      " [[713 187  36  27  42   8   0   4   0   0   0   0]\n",
      " [187 490  96 116 113  27   0   4   3   0   0   0]\n",
      " [ 65 220 201 179 224  81   0   3   0   0   0   0]\n",
      " [ 28 147 135 261 245 172   0   3   1   0   2   0]\n",
      " [ 25 102 127 198 288 269   0   4   1   1   0   0]\n",
      " [  3  36  86 178 193 488   0   5   0   1   1   0]\n",
      " [  0   1   0   0   0   0 723 225  26   8   5   3]\n",
      " [  0   0   0   1   0   0 144 507 138  66  73  56]\n",
      " [  0   0   0   3   0   0  27 234 192 208 133 183]\n",
      " [  0   0   0   0   0   0  10 155 150 222 233 222]\n",
      " [  0   3   1   0   0   0  12 112 137 180 343 259]\n",
      " [  0   2   5   0   0   0   9  72  79 111 214 504]]\n",
      "\n",
      "Fitting 5 folds for each of 4 candidates, totalling 20 fits\n"
     ]
    },
    {
     "name": "stderr",
     "output_type": "stream",
     "text": [
      "[Parallel(n_jobs=-1)]: Done   5 out of  20 | elapsed:    0.5s remaining:    1.4s\n",
      "[Parallel(n_jobs=-1)]: Done  20 out of  20 | elapsed:    1.3s finished\n"
     ]
    },
    {
     "name": "stdout",
     "output_type": "stream",
     "text": [
      "Fitting 5 folds for each of 4 candidates, totalling 20 fits\n"
     ]
    },
    {
     "name": "stderr",
     "output_type": "stream",
     "text": [
      "[Parallel(n_jobs=-1)]: Done   5 out of  20 | elapsed:    0.4s remaining:    1.2s\n",
      "[Parallel(n_jobs=-1)]: Done  20 out of  20 | elapsed:    1.4s finished\n"
     ]
    },
    {
     "name": "stdout",
     "output_type": "stream",
     "text": [
      "Fitting 5 folds for each of 4 candidates, totalling 20 fits\n"
     ]
    },
    {
     "name": "stderr",
     "output_type": "stream",
     "text": [
      "[Parallel(n_jobs=-1)]: Done  20 out of  20 | elapsed:    1.4s finished\n"
     ]
    },
    {
     "name": "stdout",
     "output_type": "stream",
     "text": [
      "Fitting 5 folds for each of 4 candidates, totalling 20 fits\n"
     ]
    },
    {
     "name": "stderr",
     "output_type": "stream",
     "text": [
      "[Parallel(n_jobs=-1)]: Done   5 out of  20 | elapsed:    0.4s remaining:    1.2s\n",
      "[Parallel(n_jobs=-1)]: Done  20 out of  20 | elapsed:    1.4s finished\n"
     ]
    },
    {
     "name": "stdout",
     "output_type": "stream",
     "text": [
      "Fitting 5 folds for each of 4 candidates, totalling 20 fits\n"
     ]
    },
    {
     "name": "stderr",
     "output_type": "stream",
     "text": [
      "[Parallel(n_jobs=-1)]: Done   5 out of  20 | elapsed:    0.4s remaining:    1.3s\n",
      "[Parallel(n_jobs=-1)]: Done  20 out of  20 | elapsed:    1.3s finished\n"
     ]
    },
    {
     "name": "stdout",
     "output_type": "stream",
     "text": [
      "Bernoulli Classifier set accuracy: 37.93 % \n",
      "\n"
     ]
    }
   ],
   "source": [
    "#Evaluation of the model (testing)\n",
    "\n",
    "#Define the Target values\n",
    "target_names = ['0.0', '1.0','2.0','3.0','4.0','5.0','6.0','7.0','8.0','9.0','10.0','11,0']\n",
    "\n",
    "#Print the Classification Report\n",
    "print(('Classification Report: \\n {}').format(classification_report(y_test, predtest_y, target_names=target_names)))\n",
    "\n",
    "#Calculate the Confusion Matrix\n",
    "confusion_ber = confusion_matrix(y_test, predtest_y)\n",
    "\n",
    "#Print the Confusion Matrix\n",
    "print(('Confusion Matrix: \\n\\n {}\\n').format(confusion_ber))\n",
    "\n",
    "#Print the overall accuracy\n",
    "print(('Bernoulli Classifier set accuracy: {0:.2f} % \\n').format(cross_val_score(naive_bayes_bernoulli_tuned,\n",
    "                                                                                               X_test,\n",
    "                                                                                               y_test,\n",
    "                                                                                               cv=kf).mean()*100))"
   ]
  },
  {
   "cell_type": "markdown",
   "metadata": {},
   "source": [
    "In this case the low accuracy of the Naïve-Bayes classifier can be explained because of the continuous structure of the data once the scaler and PCA has been applied. Although the features are strongly independent due to the PCA transformation of them, this classifier is good when it is used for binary problems with two classes. In this case, the existence of 12 different classes makes it harder for this algorithm to classify accurately."
   ]
  },
  {
   "cell_type": "markdown",
   "metadata": {},
   "source": [
    "#### 4.3 K-nearest neighbors ####\n",
    "\n",
    "A K-Neighbors model has been implemented and tuned on the train set. The parameters tuned are:\n",
    "\n",
    "1. Number of neighbors which will determine the number of points used to classify into each of the categories the data points\n",
    "2. Two weighting systems to be tested: uniform and distance.\n",
    "3. The number of neighbors when tuning the model has been capped to 11"
   ]
  },
  {
   "cell_type": "code",
   "execution_count": 77,
   "metadata": {},
   "outputs": [
    {
     "name": "stdout",
     "output_type": "stream",
     "text": [
      "Fitting 5 folds for each of 8 candidates, totalling 40 fits\n"
     ]
    },
    {
     "name": "stderr",
     "output_type": "stream",
     "text": [
      "[Parallel(n_jobs=-1)]: Done  40 out of  40 | elapsed:  3.5min finished\n"
     ]
    },
    {
     "name": "stdout",
     "output_type": "stream",
     "text": [
      "Best paramenters KNN:\n",
      " {'n_neighbors': 5, 'weights': 'distance'}\n",
      "\n"
     ]
    }
   ],
   "source": [
    "#Train model\n",
    "# Initialize and fit the model.\n",
    "KNN = KNeighborsClassifier()\n",
    "\n",
    "#Tune hyperparameters\n",
    "#Create range of values to fit parameters\n",
    "neighbors = [5, 7,9, 11]\n",
    "weights = ['uniform', 'distance']\n",
    "\n",
    "#Fit parameters\n",
    "parameters = {'n_neighbors': neighbors, 'weights': weights}\n",
    "\n",
    "#Fit parameters using gridsearch\n",
    "KNN_tuned = GridSearchCV(KNN, param_grid=parameters, n_jobs = -1, cv=kf, verbose = 1)\n",
    "\n",
    "#Fit the tunned classifier in the training space\n",
    "KNN_tuned.fit(X_train, y_train)\n",
    "\n",
    "#Print the best parameters\n",
    "print(('Best paramenters KNN:\\n {}\\n').format(\n",
    "KNN_tuned.best_params_))"
   ]
  },
  {
   "cell_type": "markdown",
   "metadata": {},
   "source": [
    "The value for \"n_neighbors\" is the smallest of the values chosen to tune the parameters of the model. In this case the gridsearch has been carried out with values ranging from 3 to 11, always odd as the number of classes is even before fitting the above set. In all cases, 5 was the value that was appearing as the best one in terms of overall accuracy. The algorithm to be used has been set to \"auto\" and the algorithm used is \"brute force\" in this case as k < n_samples/2 and no specific metrics have been given. In this case the leaf size has been set to the default value of 30 considering the number of features used. The choice fo distance as the weight instead of uniform is reasonable were the points are weighted by the inverse of their distance. In this case features are different from each other ranging from different types of apps to device brands. The tuned model is fit and run on the test set and the computational effort is measured considering the time required to fit the test set."
   ]
  },
  {
   "cell_type": "code",
   "execution_count": 78,
   "metadata": {},
   "outputs": [
    {
     "name": "stdout",
     "output_type": "stream",
     "text": [
      "Fitting 5 folds for each of 8 candidates, totalling 40 fits\n"
     ]
    },
    {
     "name": "stderr",
     "output_type": "stream",
     "text": [
      "[Parallel(n_jobs=-1)]: Done  40 out of  40 | elapsed:  1.5min finished\n"
     ]
    }
   ],
   "source": [
    "#Once the model has been trained test it on the test dataset\n",
    "KNN_tuned.fit(X_test, y_test)\n",
    "\n",
    "# Predict on test set\n",
    "predtest_y = KNN_tuned.predict(X_test)"
   ]
  },
  {
   "cell_type": "markdown",
   "metadata": {},
   "source": [
    "In this case, due to the characteristics of the algorithm (lazy algorithm) all the work is done in the previous step as the prediction is required. This algorithm goes through all the dataset comparing each data point with the instances that it has previously seen while it was trained. This could be the reason why this step requires some more time than the previous and next ones (1.1 min per fold).\n",
    "From the requirements to achieve good accuracy only two out of the three have been fulfilled, hence not a very high accuracy is expected. Data has been scaled and missing values have been addressed but the dimensionality of the problem is very large. In this case the dimensionality is 120 and the Euclidean distance does not perform well with high dimensions as points that may be similar may have very large distances.\n",
    "As it can be seen the confusion matrix and the classification report are not adding value from an information perspective as it appears to have no misclassification. In this case, there is overfitting that is corrected through cross validation:"
   ]
  },
  {
   "cell_type": "code",
   "execution_count": 79,
   "metadata": {},
   "outputs": [
    {
     "name": "stdout",
     "output_type": "stream",
     "text": [
      "Classification Report KNN: \n",
      "              precision    recall  f1-score   support\n",
      "\n",
      "        0.0       1.00      1.00      1.00      1017\n",
      "        1.0       1.00      1.00      1.00      1036\n",
      "        2.0       1.00      1.00      1.00       973\n",
      "        3.0       1.00      1.00      1.00       994\n",
      "        4.0       1.00      1.00      1.00      1015\n",
      "        5.0       1.00      1.00      1.00       991\n",
      "        6.0       1.00      1.00      1.00       991\n",
      "        7.0       1.00      1.00      1.00       985\n",
      "        8.0       1.00      1.00      1.00       980\n",
      "        9.0       1.00      1.00      1.00       992\n",
      "       10.0       1.00      1.00      1.00      1047\n",
      "       11.0       1.00      1.00      1.00       996\n",
      "\n",
      "avg / total       1.00      1.00      1.00     12017\n",
      "\n",
      "\n",
      "Confusion Matrix KNN: \n",
      "\n",
      " [[1017    0    0    0    0    0    0    0    0    0    0    0]\n",
      " [   0 1036    0    0    0    0    0    0    0    0    0    0]\n",
      " [   0    0  973    0    0    0    0    0    0    0    0    0]\n",
      " [   0    0    0  994    0    0    0    0    0    0    0    0]\n",
      " [   0    0    0    0 1015    0    0    0    0    0    0    0]\n",
      " [   0    0    0    0    0  991    0    0    0    0    0    0]\n",
      " [   0    0    0    0    0    0  991    0    0    0    0    0]\n",
      " [   0    0    0    0    0    0    0  985    0    0    0    0]\n",
      " [   0    0    0    0    0    0    0    0  980    0    0    0]\n",
      " [   0    0    0    0    0    0    0    0    0  992    0    0]\n",
      " [   0    0    0    0    0    0    0    0    0    0 1047    0]\n",
      " [   0    0    0    0    0    0    0    0    0    0    0  996]]\n",
      "\n",
      "\n",
      "Fitting 5 folds for each of 8 candidates, totalling 40 fits\n"
     ]
    },
    {
     "name": "stderr",
     "output_type": "stream",
     "text": [
      "[Parallel(n_jobs=-1)]: Done  40 out of  40 | elapsed:  1.1min finished\n"
     ]
    },
    {
     "name": "stdout",
     "output_type": "stream",
     "text": [
      "Fitting 5 folds for each of 8 candidates, totalling 40 fits\n"
     ]
    },
    {
     "name": "stderr",
     "output_type": "stream",
     "text": [
      "[Parallel(n_jobs=-1)]: Done  40 out of  40 | elapsed:  1.1min finished\n"
     ]
    },
    {
     "name": "stdout",
     "output_type": "stream",
     "text": [
      "Fitting 5 folds for each of 8 candidates, totalling 40 fits\n"
     ]
    },
    {
     "name": "stderr",
     "output_type": "stream",
     "text": [
      "[Parallel(n_jobs=-1)]: Done  40 out of  40 | elapsed:  1.2min finished\n"
     ]
    },
    {
     "name": "stdout",
     "output_type": "stream",
     "text": [
      "Fitting 5 folds for each of 8 candidates, totalling 40 fits\n"
     ]
    },
    {
     "name": "stderr",
     "output_type": "stream",
     "text": [
      "[Parallel(n_jobs=-1)]: Done  40 out of  40 | elapsed:  1.1min finished\n"
     ]
    },
    {
     "name": "stdout",
     "output_type": "stream",
     "text": [
      "Fitting 5 folds for each of 8 candidates, totalling 40 fits\n"
     ]
    },
    {
     "name": "stderr",
     "output_type": "stream",
     "text": [
      "[Parallel(n_jobs=-1)]: Done  40 out of  40 | elapsed:  1.2min finished\n"
     ]
    },
    {
     "name": "stdout",
     "output_type": "stream",
     "text": [
      "KNN accuracy: 71.36 %\n",
      "\n"
     ]
    }
   ],
   "source": [
    "#Evaluation of the model (testing)\n",
    "\n",
    "#Define targets\n",
    "target_names = ['0.0', '1.0', '2.0', '3.0', '4.0', '5.0', '6.0', '7.0', '8.0', '9.0', '10.0', '11.0']\n",
    "\n",
    "#Print classification report\n",
    "print(('Classification Report KNN: \\n {}\\n').format(classification_report(y_test, predtest_y, target_names=target_names)))\n",
    "\n",
    "#Calculate confusion matrix\n",
    "confusion_knn = confusion_matrix(y_test, predtest_y)\n",
    "\n",
    "#Print confusion matrix\n",
    "print(('Confusion Matrix KNN: \\n\\n {}\\n\\n').format(confusion_knn))\n",
    "\n",
    "#Print overall accuracy\n",
    "print(('KNN accuracy: {0:.2f} %\\n').format(cross_val_score(KNN_tuned, X_test, y_test,cv=kf).mean()*100))"
   ]
  },
  {
   "cell_type": "markdown",
   "metadata": {},
   "source": [
    "As it was expected the accuracy obtained for this problem with this algorithm is lower than the values that are normally obtained with lower dimensionalities. As previously discussed this has to do with the fact that the Euclidean distance doesn´t perform accurately with high dimensionality problems and that it is used to measure the weight of each vote through the inverse of its value."
   ]
  },
  {
   "cell_type": "markdown",
   "metadata": {},
   "source": [
    "#### 4.4 SGD Classifier ####\n",
    "\n",
    "The SGD Classifier uses regularized linear models with stochastic gradient descendent learning. The model is updated in its learning rate after the gradient of the loss is estaimated for each sample. This classifier can work with sparse data as the one obtained from building up the features when working with categorical ones. In this case from the types of penalties the algorithm accepts, it uses L2 instead of a combination of L1 and L2 implemented through Elastic Net."
   ]
  },
  {
   "cell_type": "code",
   "execution_count": 80,
   "metadata": {},
   "outputs": [
    {
     "name": "stdout",
     "output_type": "stream",
     "text": [
      "Fitting 5 folds for each of 10 candidates, totalling 50 fits\n"
     ]
    },
    {
     "name": "stderr",
     "output_type": "stream",
     "text": [
      "[Parallel(n_jobs=-1)]: Done  34 tasks      | elapsed: 17.3min\n",
      "[Parallel(n_jobs=-1)]: Done  50 out of  50 | elapsed: 24.2min finished\n"
     ]
    },
    {
     "name": "stdout",
     "output_type": "stream",
     "text": [
      "Best paramenters SDG:\n",
      " {'alpha': 0.0001, 'loss': 'hinge'}\n",
      "\n"
     ]
    }
   ],
   "source": [
    "#Train model\n",
    "# Initialize and fit the model.\n",
    "SGD = SGDClassifier(class_weight = 'balanced', max_iter=1000)\n",
    "\n",
    "#Tune hyperparameters\n",
    "#Create range of values to fit parameters\n",
    "loss_param = ['hinge', 'squared_hinge']\n",
    "alpha_param = [0.0001, 0.001, 0.01, 0.1, 1]\n",
    "\n",
    "#Fit parameters\n",
    "parameters = {'loss': loss_param,'alpha': alpha_param}\n",
    "\n",
    "#Fit parameters using gridsearch\n",
    "SGD_tuned = GridSearchCV(SGD, param_grid=parameters,  n_jobs = -1, cv=kf, verbose = 1)\n",
    "\n",
    "#Fit the tunned classifier in the training space\n",
    "SGD_tuned.fit(X_train, y_train)\n",
    "\n",
    "#Print the best parameters\n",
    "print(('Best paramenters SDG:\\n {}\\n').format(SGD_tuned.best_params_))"
   ]
  },
  {
   "cell_type": "markdown",
   "metadata": {},
   "source": [
    "The parameters show that the smoothing continues to be loose as a first option as it is a regression with a gradient descendent algorithm. Regarding the loss, the hinge loss is used which means that the real loss, in case it is not convergent due to the sparse data used, is replaced by the upper bond forcing its convergence. Time required is significantly higher than with previous classifiers."
   ]
  },
  {
   "cell_type": "code",
   "execution_count": 81,
   "metadata": {},
   "outputs": [
    {
     "name": "stdout",
     "output_type": "stream",
     "text": [
      "Fitting 5 folds for each of 10 candidates, totalling 50 fits\n"
     ]
    },
    {
     "name": "stderr",
     "output_type": "stream",
     "text": [
      "[Parallel(n_jobs=-1)]: Done  34 tasks      | elapsed:  6.9min\n",
      "[Parallel(n_jobs=-1)]: Done  50 out of  50 | elapsed:  9.5min finished\n"
     ]
    }
   ],
   "source": [
    "#Once the model has been trained test it on the test dataset\n",
    "SGD_tuned.fit(X_test, y_test)\n",
    "\n",
    "# Predict on test set\n",
    "predtest_y = SGD_tuned.predict(X_test)"
   ]
  },
  {
   "cell_type": "markdown",
   "metadata": {},
   "source": [
    "From a visual inspection of the classification report it can be observed how the lack of clear boundaries between data points is impacting the overall accuracy. Only in the case of group 6 the precision is over 90%, for the rest of them the maximum precision obtained is at a maximum of 60%. This will show up when the results are cross validated giving low accuracies."
   ]
  },
  {
   "cell_type": "code",
   "execution_count": 82,
   "metadata": {},
   "outputs": [
    {
     "name": "stdout",
     "output_type": "stream",
     "text": [
      "Classification Report: \n",
      "              precision    recall  f1-score   support\n",
      "\n",
      "        0.0       0.60      0.91      0.73      1017\n",
      "        1.0       0.27      0.21      0.24      1036\n",
      "        2.0       0.39      0.31      0.34       973\n",
      "        3.0       0.37      0.21      0.27       994\n",
      "        4.0       0.24      0.19      0.21      1015\n",
      "        5.0       0.61      0.96      0.75       991\n",
      "        6.0       0.91      0.98      0.95       991\n",
      "        7.0       0.46      0.40      0.43       985\n",
      "        8.0       0.40      0.24      0.31       980\n",
      "        9.0       0.38      0.31      0.34       992\n",
      "       10.0       0.23      0.22      0.23      1047\n",
      "       11.0       0.57      0.96      0.72       996\n",
      "\n",
      "avg / total       0.45      0.49      0.46     12017\n",
      "\n",
      "\n",
      "Confusion Matrix: \n",
      "\n",
      " [[926   7  44  20  17   1   0   0   0   0   2   0]\n",
      " [494 220 134  93  79  14   0   1   1   0   0   0]\n",
      " [ 73 267 300 126 191  11   0   0   2   0   2   1]\n",
      " [ 22 228 207 207 305  25   0   0   0   0   0   0]\n",
      " [ 11  90  79  91 192 550   0   1   0   0   0   1]\n",
      " [  7   2   2  17   8 953   0   0   0   0   1   1]\n",
      " [  0   1   0   0   0   0 975   4   0   8   3   0]\n",
      " [  2   1   1   0   0   1  88 396 173 141 180   2]\n",
      " [  1   3   1   0   1   0   1 200 240 246 263  24]\n",
      " [  1   0   0   0   0   0   1 166 119 304 306  95]\n",
      " [  0   0   0   0   0   0   1  84  44  93 234 591]\n",
      " [  0   1   0   0   1   0   0   3  14   7  12 958]]\n",
      "\n",
      "\n",
      "Fitting 5 folds for each of 10 candidates, totalling 50 fits\n"
     ]
    },
    {
     "name": "stderr",
     "output_type": "stream",
     "text": [
      "[Parallel(n_jobs=-1)]: Done  34 tasks      | elapsed:  5.5min\n",
      "[Parallel(n_jobs=-1)]: Done  50 out of  50 | elapsed:  7.4min finished\n"
     ]
    },
    {
     "name": "stdout",
     "output_type": "stream",
     "text": [
      "Fitting 5 folds for each of 10 candidates, totalling 50 fits\n"
     ]
    },
    {
     "name": "stderr",
     "output_type": "stream",
     "text": [
      "[Parallel(n_jobs=-1)]: Done  34 tasks      | elapsed:  5.4min\n",
      "[Parallel(n_jobs=-1)]: Done  50 out of  50 | elapsed:  7.2min finished\n"
     ]
    },
    {
     "name": "stdout",
     "output_type": "stream",
     "text": [
      "Fitting 5 folds for each of 10 candidates, totalling 50 fits\n"
     ]
    },
    {
     "name": "stderr",
     "output_type": "stream",
     "text": [
      "[Parallel(n_jobs=-1)]: Done  34 tasks      | elapsed:  5.5min\n",
      "[Parallel(n_jobs=-1)]: Done  50 out of  50 | elapsed:  7.4min finished\n"
     ]
    },
    {
     "name": "stdout",
     "output_type": "stream",
     "text": [
      "Fitting 5 folds for each of 10 candidates, totalling 50 fits\n"
     ]
    },
    {
     "name": "stderr",
     "output_type": "stream",
     "text": [
      "[Parallel(n_jobs=-1)]: Done  34 tasks      | elapsed:  5.3min\n",
      "[Parallel(n_jobs=-1)]: Done  50 out of  50 | elapsed:  7.0min finished\n"
     ]
    },
    {
     "name": "stdout",
     "output_type": "stream",
     "text": [
      "Fitting 5 folds for each of 10 candidates, totalling 50 fits\n"
     ]
    },
    {
     "name": "stderr",
     "output_type": "stream",
     "text": [
      "[Parallel(n_jobs=-1)]: Done  34 tasks      | elapsed:  5.2min\n",
      "[Parallel(n_jobs=-1)]: Done  50 out of  50 | elapsed:  7.1min finished\n"
     ]
    },
    {
     "name": "stdout",
     "output_type": "stream",
     "text": [
      "SGD accuracy: 47.88 %\n",
      "\n"
     ]
    }
   ],
   "source": [
    "#Evaluation of the model (testing)\n",
    "\n",
    "#Define the Target values\n",
    "target_names = ['0.0', '1.0', '2.0', '3.0', '4.0', '5.0', '6.0', '7.0', '8.0', '9.0', '10.0', '11.0']\n",
    "\n",
    "#Print the Classification report\n",
    "print(('Classification Report: \\n {}\\n').format(classification_report(y_test, predtest_y,target_names=target_names)))\n",
    "\n",
    "#Calculate the confusion Matrix\n",
    "confusion_sgd = confusion_matrix(y_test, predtest_y)\n",
    "\n",
    "#Print the Confusion Matrix\n",
    "print(('Confusion Matrix: \\n\\n {}\\n\\n').format(confusion_sgd))\n",
    "\n",
    "#Print the SGD overall accuracy\n",
    "print(('SGD accuracy: {0:.2f} %\\n').format(cross_val_score(SGD_tuned, X_test, y_test,cv=kf).mean()*100))"
   ]
  },
  {
   "cell_type": "markdown",
   "metadata": {},
   "source": [
    "As the features describing each group are scattered not having clear boundaries between each group, the result obtained from the SGD algorithm is low and it is not expected to grow with a higher number of iterations. In this case and using square hinge the decision boundary will not be able to improve the misclassification of the different points. In any case, the accuracy is too low to be used 47.88%. Although the SGD solves the same classification problems than the logistic regression and can be more efficient in this case the improvement from a computing effort perspective does not compensate the low results obtained by the classifier."
   ]
  },
  {
   "cell_type": "markdown",
   "metadata": {},
   "source": [
    "#### 4.5 Random Forest ####\n",
    "\n",
    "The hyperparamters of the random forest model will be tuned. The parameters to be tuned are (in the same order as the hyperparameter tuning has been performed):\n",
    "\n",
    "1. N_estimators determining the number of trees that will be part of the algorithm.\n",
    "2. Max depth determining the size of the tree."
   ]
  },
  {
   "cell_type": "code",
   "execution_count": 83,
   "metadata": {},
   "outputs": [
    {
     "name": "stdout",
     "output_type": "stream",
     "text": [
      "Fitting 5 folds for each of 120 candidates, totalling 600 fits\n"
     ]
    },
    {
     "name": "stderr",
     "output_type": "stream",
     "text": [
      "[Parallel(n_jobs=-1)]: Done  34 tasks      | elapsed:   15.4s\n",
      "[Parallel(n_jobs=-1)]: Done 184 tasks      | elapsed:  5.6min\n",
      "[Parallel(n_jobs=-1)]: Done 434 tasks      | elapsed: 25.4min\n",
      "[Parallel(n_jobs=-1)]: Done 600 out of 600 | elapsed: 39.3min finished\n"
     ]
    },
    {
     "name": "stdout",
     "output_type": "stream",
     "text": [
      "Best paramenters Random Forest:\n",
      " {'max_depth': 31, 'n_estimators': 170}\n",
      "\n"
     ]
    }
   ],
   "source": [
    "# Initialize and fit the model.\n",
    "rf = RandomForestClassifier()\n",
    "\n",
    "#Tune hyperparameters\n",
    "#Create range of values to fit parameters\n",
    "n_estimators_param = np.arange(50,191,10)\n",
    "max_depth_param = np.arange(1,40,5)\n",
    "\n",
    "#Fit parameters\n",
    "parameters = {'n_estimators': n_estimators_param, 'max_depth': max_depth_param}\n",
    "\n",
    "#Fit parameters using gridsearch\n",
    "rf_tuned = GridSearchCV(rf, param_grid=parameters,  n_jobs = -1, cv=kf, verbose = 1)\n",
    "\n",
    "#Fit the tunned classifier in the training space\n",
    "rf_tuned.fit(X_train, y_train)\n",
    "\n",
    "#Print the best parameters\n",
    "print(('Best paramenters Random Forest:\\n {}\\n').format(rf_tuned.best_params_))"
   ]
  },
  {
   "cell_type": "markdown",
   "metadata": {},
   "source": [
    "The number of trees used is 170 being the depth of each tree 31. After several simulations, the parameters have stayed stable around these values. The random forest algorithm is an ensemble algorithm that works bringing together different decision trees and being more powerful than an individual decision tree. In this case it introduces randomness because it choses from a random sample of features the one that is decreasing how often a randomly chosen element will be incorrectly labelled using gini criterion. The high number of estimators ensure the accuracy of the model while it increases the computational effort required. In this case, it is important to have the classes balanced as in one of the 31 nodes it could happen that one of the minority classes disappear. From the random forest feature selection only \"is active\", \"gender\" and \"age\" add have significant explanatory power being the rest of the features noise to the model. The noise has been reduced by reducing the number ofo features and applying PCA to the model to gain in the explanatory power of the variance. The number of trees in the random forest classifier decreases the risk of overfitting while the number of nodes \"depth\" reduces the samples available and features available in each sample which can increase the risk of misclassification reducing the overall accuracy. Moreover \"deep\" trees can compensate the lower risk of overfitting by increasing the number of trees as it increases the probability of overfitting overall.\n",
    "\n",
    "Once the parameters are tuned, the model is fit and run on the test set. As it can be seen from the hyperparameter tuning, the model requires much more time (computational effort) than the previous models. The increase in accuracy must justify the significant increase of time required to fit the model."
   ]
  },
  {
   "cell_type": "code",
   "execution_count": 62,
   "metadata": {},
   "outputs": [
    {
     "name": "stdout",
     "output_type": "stream",
     "text": [
      "Fitting 5 folds for each of 120 candidates, totalling 600 fits\n"
     ]
    },
    {
     "name": "stderr",
     "output_type": "stream",
     "text": [
      "[Parallel(n_jobs=-1)]: Done  34 tasks      | elapsed:    3.5s\n",
      "[Parallel(n_jobs=-1)]: Done 184 tasks      | elapsed:  1.2min\n",
      "[Parallel(n_jobs=-1)]: Done 434 tasks      | elapsed:  4.8min\n",
      "[Parallel(n_jobs=-1)]: Done 600 out of 600 | elapsed:  7.3min finished\n"
     ]
    }
   ],
   "source": [
    "#Once the model has been trained test it on the test dataset\n",
    "rf_tuned.fit(X_test, y_test)\n",
    "\n",
    "# Predict on test set\n",
    "predtest_y = rf_tuned.predict(X_test)"
   ]
  },
  {
   "cell_type": "markdown",
   "metadata": {},
   "source": [
    "There is a significant increase in the computational effort required by this algorithm as it was expected. The classification report and the classification matrix present overfitting as the precision in all cases is one and there are no misclassified elements. To avoid this overfitting problem, cross validation has been performed on the random forest."
   ]
  },
  {
   "cell_type": "code",
   "execution_count": 85,
   "metadata": {},
   "outputs": [
    {
     "name": "stdout",
     "output_type": "stream",
     "text": [
      "Classification Report RF: \n",
      "              precision    recall  f1-score   support\n",
      "\n",
      "        0.0       1.00      1.00      1.00      1017\n",
      "        1.0       1.00      1.00      1.00      1036\n",
      "        2.0       1.00      1.00      1.00       973\n",
      "        3.0       1.00      1.00      1.00       994\n",
      "        4.0       1.00      1.00      1.00      1015\n",
      "        5.0       1.00      1.00      1.00       991\n",
      "        6.0       1.00      1.00      1.00       991\n",
      "        7.0       1.00      1.00      1.00       985\n",
      "        8.0       1.00      1.00      1.00       980\n",
      "        9.0       1.00      1.00      1.00       992\n",
      "       10.0       1.00      1.00      1.00      1047\n",
      "       11.0       1.00      1.00      1.00       996\n",
      "\n",
      "avg / total       1.00      1.00      1.00     12017\n",
      "\n",
      "\n",
      "Confusion Matrix RF: \n",
      "\n",
      " [[1017    0    0    0    0    0    0    0    0    0    0    0]\n",
      " [   0 1036    0    0    0    0    0    0    0    0    0    0]\n",
      " [   0    0  973    0    0    0    0    0    0    0    0    0]\n",
      " [   0    0    0  994    0    0    0    0    0    0    0    0]\n",
      " [   0    0    0    0 1015    0    0    0    0    0    0    0]\n",
      " [   0    0    0    0    0  991    0    0    0    0    0    0]\n",
      " [   0    0    0    0    0    0  991    0    0    0    0    0]\n",
      " [   0    0    0    0    0    0    0  985    0    0    0    0]\n",
      " [   0    0    0    0    0    0    0    0  980    0    0    0]\n",
      " [   0    0    0    0    0    0    0    0    0  992    0    0]\n",
      " [   0    0    0    0    0    0    0    0    0    0 1047    0]\n",
      " [   0    0    0    0    0    0    0    0    0    0    0  996]]\n",
      "\n",
      "\n",
      "Fitting 5 folds for each of 120 candidates, totalling 600 fits\n"
     ]
    },
    {
     "name": "stderr",
     "output_type": "stream",
     "text": [
      "[Parallel(n_jobs=-1)]: Done  34 tasks      | elapsed:    4.9s\n",
      "[Parallel(n_jobs=-1)]: Done 184 tasks      | elapsed:  1.9min\n",
      "[Parallel(n_jobs=-1)]: Done 434 tasks      | elapsed:  8.4min\n",
      "[Parallel(n_jobs=-1)]: Done 600 out of 600 | elapsed: 12.9min finished\n"
     ]
    },
    {
     "name": "stdout",
     "output_type": "stream",
     "text": [
      "Fitting 5 folds for each of 120 candidates, totalling 600 fits\n"
     ]
    },
    {
     "name": "stderr",
     "output_type": "stream",
     "text": [
      "[Parallel(n_jobs=-1)]: Done  34 tasks      | elapsed:    5.1s\n",
      "[Parallel(n_jobs=-1)]: Done 184 tasks      | elapsed:  1.9min\n",
      "[Parallel(n_jobs=-1)]: Done 434 tasks      | elapsed:  8.4min\n",
      "[Parallel(n_jobs=-1)]: Done 600 out of 600 | elapsed: 12.9min finished\n"
     ]
    },
    {
     "name": "stdout",
     "output_type": "stream",
     "text": [
      "Fitting 5 folds for each of 120 candidates, totalling 600 fits\n"
     ]
    },
    {
     "name": "stderr",
     "output_type": "stream",
     "text": [
      "[Parallel(n_jobs=-1)]: Done  34 tasks      | elapsed:    5.0s\n",
      "[Parallel(n_jobs=-1)]: Done 184 tasks      | elapsed:  2.0min\n",
      "[Parallel(n_jobs=-1)]: Done 434 tasks      | elapsed:  8.5min\n",
      "[Parallel(n_jobs=-1)]: Done 600 out of 600 | elapsed: 13.1min finished\n"
     ]
    },
    {
     "name": "stdout",
     "output_type": "stream",
     "text": [
      "Fitting 5 folds for each of 120 candidates, totalling 600 fits\n"
     ]
    },
    {
     "name": "stderr",
     "output_type": "stream",
     "text": [
      "[Parallel(n_jobs=-1)]: Done  34 tasks      | elapsed:    5.1s\n",
      "[Parallel(n_jobs=-1)]: Done 184 tasks      | elapsed:  2.0min\n",
      "[Parallel(n_jobs=-1)]: Done 434 tasks      | elapsed:  8.6min\n",
      "[Parallel(n_jobs=-1)]: Done 600 out of 600 | elapsed: 13.2min finished\n"
     ]
    },
    {
     "name": "stdout",
     "output_type": "stream",
     "text": [
      "Fitting 5 folds for each of 120 candidates, totalling 600 fits\n"
     ]
    },
    {
     "name": "stderr",
     "output_type": "stream",
     "text": [
      "[Parallel(n_jobs=-1)]: Done  34 tasks      | elapsed:    5.0s\n",
      "[Parallel(n_jobs=-1)]: Done 184 tasks      | elapsed:  2.0min\n",
      "[Parallel(n_jobs=-1)]: Done 434 tasks      | elapsed:  8.5min\n",
      "[Parallel(n_jobs=-1)]: Done 600 out of 600 | elapsed: 13.1min finished\n"
     ]
    },
    {
     "name": "stdout",
     "output_type": "stream",
     "text": [
      "Random Forest accuracy RF: 81.04 %\n",
      "\n"
     ]
    }
   ],
   "source": [
    "#Evaluation of the model (testing)\n",
    "\n",
    "#Define the targets\n",
    "target_names = ['0.0', '1.0', '2.0', '3.0', '4.0', '5.0', '6.0', '7.0', '8.0', '9.0', '10.0', '11.0']\n",
    "\n",
    "#Print the classification report\n",
    "print(('Classification Report RF: \\n {}\\n').format(classification_report(y_test, predtest_y,target_names=target_names)))\n",
    "\n",
    "#Calculate the confusion matrix\n",
    "confusion_rf = confusion_matrix(y_test, predtest_y)\n",
    "\n",
    "#Print the confusion matrix\n",
    "print(('Confusion Matrix RF: \\n\\n {}\\n\\n').format(confusion_rf))\n",
    "\n",
    "#Print the overall accuracy\n",
    "print(('Random Forest accuracy RF: {0:.2f} %\\n').format(cross_val_score(rf_tuned,\n",
    "                                                                              X_test,\n",
    "                                                                              y_test, cv=kf).mean()*100))"
   ]
  },
  {
   "cell_type": "markdown",
   "metadata": {},
   "source": [
    "In this case, the overall accuracy of the model is 81.04% which is somehow low for this type of algorithms. In this case and after running the random forest feature selection this might have happened due to the additional features that are increasing the noise instead of adding information to the algorithm based on this feature selection process. As there are only four, when run in a set of trees of 31 nodes, it can happen that none of them remains until the end misclassifying results based on the remaining features that the algorithm picks randomly."
   ]
  },
  {
   "cell_type": "markdown",
   "metadata": {},
   "source": [
    "#### 4.6 Linear Support Vector Machine ####\n",
    "\n",
    "A linear support vector classifier has been set up and tuned on the training data and run on the test set. The hyperparameters that have been tuned are:\n",
    "\n",
    "1. C parameter, acting on the margin hyperplane having a bigger margin when C is smaller. (The value of C will tell the SVM how much misclassification is to be avoided).\n",
    "2. The loss parameter.\n",
    "\n",
    "In this case the crammer singer algorithm is used to solve the multiclass classification problem. This algorithm optimizes the joint objective over all classes but it is not interesting from a production standpoint as it rarely leads to better accuracy and is more expensive to compute. Due to the size of the feature´s space the linear SVC has been used first instead of the SVC due to computational restrictions. If the accuracy is high enough then the SVC will be discarded, otherwise it will be tested."
   ]
  },
  {
   "cell_type": "code",
   "execution_count": 48,
   "metadata": {},
   "outputs": [
    {
     "name": "stdout",
     "output_type": "stream",
     "text": [
      "Fitting 5 folds for each of 6 candidates, totalling 30 fits\n"
     ]
    },
    {
     "name": "stderr",
     "output_type": "stream",
     "text": [
      "[Parallel(n_jobs=-1)]: Done  30 out of  30 | elapsed: 52.0min finished\n"
     ]
    },
    {
     "name": "stdout",
     "output_type": "stream",
     "text": [
      "Best paramenters Linear SVC:\n",
      " {'C': 100, 'loss': 'hinge'}\n",
      "\n"
     ]
    }
   ],
   "source": [
    "# Initialize and fit the model.\n",
    "LSVC = LinearSVC(multi_class = 'crammer_singer')\n",
    "\n",
    "#Tune hyperparameters\n",
    "#Create range of values to fit parameters\n",
    "\n",
    "loss_param = ['hinge','squared_hinge']\n",
    "C_param = [10, 100, 1000]\n",
    "\n",
    "#Fit parameters\n",
    "parameters = {'loss': loss_param, 'C': C_param}\n",
    "\n",
    "#Fit parameters using gridsearch\n",
    "LSVC_tuned = GridSearchCV(LSVC, param_grid=parameters,  n_jobs = -1, cv=kf, verbose = 1)\n",
    "\n",
    "#Fit the tunned classifier in the training space\n",
    "LSVC_tuned.fit(X_train, y_train)\n",
    "\n",
    "#Print the best parameters\n",
    "print(('Best paramenters Linear SVC:\\n {}\\n').format(LSVC_tuned.best_params_))"
   ]
  },
  {
   "cell_type": "markdown",
   "metadata": {},
   "source": [
    "Although the Linear SVC has been implemented as it is more scalable than the support vector classifier, the time required to fit the values compared to the other algorithms makes it a weak candidate to go into production. Compared to the logistic regression classifier there must be a significant increase so that this classifier worth it in terms of computational effort. C has been tuned to 100 to control the misclassification that is allowed by this classifier. The tradeoff between the values of this parameter is the bias-variance trade off. If the parameter is low the classifier will allow small numbers of misclassification having a low bias but allowing a high variance. In our case, the parameter is high which is better from a scaling perspective but might have a high amount of bias under fitting the data in the classification problem. Hinge loss has been selected as the loss function to calculate the weights of the misclassifications on the training data and apply them to the test data."
   ]
  },
  {
   "cell_type": "code",
   "execution_count": 49,
   "metadata": {},
   "outputs": [
    {
     "name": "stdout",
     "output_type": "stream",
     "text": [
      "Fitting 5 folds for each of 6 candidates, totalling 30 fits\n"
     ]
    },
    {
     "name": "stderr",
     "output_type": "stream",
     "text": [
      "[Parallel(n_jobs=-1)]: Done  30 out of  30 | elapsed: 19.9min finished\n"
     ]
    }
   ],
   "source": [
    "#Once the model has been trained test it on the test dataset\n",
    "LSVC_tuned.fit(X_test, y_test)\n",
    "\n",
    "# Predict on test set\n",
    "predtest_y = LSVC_tuned.predict(X_test)"
   ]
  },
  {
   "cell_type": "markdown",
   "metadata": {},
   "source": [
    "Although the computational effort required when fitting the dataset is lower than initially expected, the accuracy is higher than in the case of the random forest and very close to the logistic regression classifier. The classification report and the classification matrix present overfitting as the precision in all cases is one and there are no misclassified elements. To avoid this overfitting problem, cross validation has been performed on the random forest."
   ]
  },
  {
   "cell_type": "code",
   "execution_count": 50,
   "metadata": {},
   "outputs": [
    {
     "name": "stdout",
     "output_type": "stream",
     "text": [
      "Classification Report: \n",
      "              precision    recall  f1-score   support\n",
      "\n",
      "        0.0       1.00      1.00      1.00       920\n",
      "        1.0       1.00      1.00      1.00       952\n",
      "        2.0       1.00      1.00      1.00       784\n",
      "        3.0       1.00      1.00      1.00       527\n",
      "        4.0       1.00      1.00      1.00       840\n",
      "        5.0       1.00      1.00      1.00       603\n",
      "        6.0       1.00      1.00      1.00       407\n",
      "        7.0       1.00      1.00      1.00       533\n",
      "        8.0       1.00      1.00      1.00       417\n",
      "        9.0       1.00      1.00      1.00       283\n",
      "       10.0       1.00      1.00      1.00       334\n",
      "       11.0       1.00      1.00      1.00       387\n",
      "\n",
      "avg / total       1.00      1.00      1.00      6987\n",
      "\n",
      "\n",
      "Confusion Matrix: \n",
      "\n",
      " [[919   1   0   0   0   0   0   0   0   0   0   0]\n",
      " [  0 952   0   0   0   0   0   0   0   0   0   0]\n",
      " [  0   0 784   0   0   0   0   0   0   0   0   0]\n",
      " [  0   0   0 527   0   0   0   0   0   0   0   0]\n",
      " [  0   0   0   0 840   0   0   0   0   0   0   0]\n",
      " [  0   0   0   0   0 603   0   0   0   0   0   0]\n",
      " [  0   0   0   0   0   0 407   0   0   0   0   0]\n",
      " [  0   0   0   0   0   0   0 533   0   0   0   0]\n",
      " [  0   0   0   0   0   0   0   0 417   0   0   0]\n",
      " [  0   0   0   0   0   0   0   0   0 283   0   0]\n",
      " [  0   0   0   0   0   0   0   0   0   0 334   0]\n",
      " [  0   0   0   0   0   0   0   0   0   0   0 387]]\n",
      "\n",
      "\n",
      "Fitting 5 folds for each of 6 candidates, totalling 30 fits\n"
     ]
    },
    {
     "name": "stderr",
     "output_type": "stream",
     "text": [
      "[Parallel(n_jobs=-1)]: Done  30 out of  30 | elapsed: 16.4min finished\n"
     ]
    },
    {
     "name": "stdout",
     "output_type": "stream",
     "text": [
      "Fitting 5 folds for each of 6 candidates, totalling 30 fits\n"
     ]
    },
    {
     "name": "stderr",
     "output_type": "stream",
     "text": [
      "[Parallel(n_jobs=-1)]: Done  30 out of  30 | elapsed: 15.2min finished\n"
     ]
    },
    {
     "name": "stdout",
     "output_type": "stream",
     "text": [
      "Fitting 5 folds for each of 6 candidates, totalling 30 fits\n"
     ]
    },
    {
     "name": "stderr",
     "output_type": "stream",
     "text": [
      "[Parallel(n_jobs=-1)]: Done  30 out of  30 | elapsed: 15.9min finished\n"
     ]
    },
    {
     "name": "stdout",
     "output_type": "stream",
     "text": [
      "Fitting 5 folds for each of 6 candidates, totalling 30 fits\n"
     ]
    },
    {
     "name": "stderr",
     "output_type": "stream",
     "text": [
      "[Parallel(n_jobs=-1)]: Done  30 out of  30 | elapsed: 15.6min finished\n"
     ]
    },
    {
     "name": "stdout",
     "output_type": "stream",
     "text": [
      "Fitting 5 folds for each of 6 candidates, totalling 30 fits\n"
     ]
    },
    {
     "name": "stderr",
     "output_type": "stream",
     "text": [
      "[Parallel(n_jobs=-1)]: Done  30 out of  30 | elapsed: 15.8min finished\n"
     ]
    },
    {
     "name": "stdout",
     "output_type": "stream",
     "text": [
      "Linear SVC accuracy: 94.99 %\n",
      "\n"
     ]
    }
   ],
   "source": [
    "#Evaluation of the model (testing)\n",
    "\n",
    "#Define the targets\n",
    "target_names = ['0.0', '1.0', '2.0', '3.0', '4.0', '5.0', '6.0', '7.0', '8.0', '9.0', '10.0', '11.0']\n",
    "\n",
    "#Print the classification report\n",
    "print(('Classification Report: \\n {}\\n').format(\n",
    "    classification_report(y_test, predtest_y,\n",
    "                          target_names=target_names)))\n",
    "\n",
    "#Calculate the confusion matrix\n",
    "confusion_svc = confusion_matrix(y_test, predtest_y)\n",
    "\n",
    "#Print the confusion matrix\n",
    "print((\n",
    "    'Confusion Matrix: \\n\\n {}\\n\\n').format(confusion_svc))\n",
    "\n",
    "#Print the overall accuracy\n",
    "print((\n",
    "    'Linear SVC accuracy: {0:.2f} %\\n'\n",
    ").format(cross_val_score(LSVC_tuned, X_test, y_test,cv=kf).mean()*100))"
   ]
  },
  {
   "cell_type": "markdown",
   "metadata": {},
   "source": [
    "In this case the support vector classifier uses a linear kernel for the kernel trick and a sparse representation of data (aligned to the features that have been generated for this problem) reducing the amount of computing effort required. In this case, there is a need to create linear hyperplanes that is able to separate one class over the rest until the 12 have been classified. Due to the characteristics of the data (PCA components are used as features and are oriented to maximize the explanation of the variance across classes) added to the C parameter the accuracy of the Linear Support Vector Classifier is higher than expected requiring less computational effort than the initially foreseen."
   ]
  },
  {
   "cell_type": "markdown",
   "metadata": {},
   "source": [
    "#### 4.7 Gradient Boosting Classifier ####\n",
    "\n",
    "The hyperparamters of the gradient boosting classifier that are tuned are the same than in the case of the random forest. The parameters to be tuned are (in the same order as the hyperparameter tuning has been performed):\n",
    "\n",
    "1. N_estimators determining the number of trees that will be part of the algorithm.\n",
    "2. Max depth determining the size of the tree."
   ]
  },
  {
   "cell_type": "code",
   "execution_count": 63,
   "metadata": {},
   "outputs": [
    {
     "name": "stdout",
     "output_type": "stream",
     "text": [
      "Fitting 5 folds for each of 40 candidates, totalling 200 fits\n"
     ]
    },
    {
     "name": "stderr",
     "output_type": "stream",
     "text": [
      "[Parallel(n_jobs=-1)]: Done  34 tasks      | elapsed: 55.0min\n",
      "[Parallel(n_jobs=-1)]: Done 184 tasks      | elapsed: 257.4min\n",
      "[Parallel(n_jobs=-1)]: Done 200 out of 200 | elapsed: 278.9min finished\n"
     ]
    },
    {
     "name": "stdout",
     "output_type": "stream",
     "text": [
      "Best Hyper Parameters: {'max_depth': 50, 'n_estimators': 190}\n"
     ]
    }
   ],
   "source": [
    "# Train model\n",
    "GBC = GradientBoostingClassifier()\n",
    "\n",
    "#Tune hyperparameters\n",
    "#Create range of values to fit parameters\n",
    "\n",
    "n_estimators_param = np.arange(140,211,10)\n",
    "max_depth_param = np.arange(30,71,10)\n",
    "\n",
    "#Fit parameters\n",
    "parameters = {'n_estimators': n_estimators_param, 'max_depth': max_depth_param}\n",
    "\n",
    "#Fit parameters\n",
    "GBC_tuned = GridSearchCV(GBC, param_grid=parameters, n_jobs = -1, cv=kf, verbose = 1)\n",
    "\n",
    "#Fit the tunned model\n",
    "GBC_tuned.fit(X_train, y_train)\n",
    "\n",
    "#The best hyper parameters set\n",
    "print(\"Best Hyper Parameters:\", GBC_tuned.best_params_)"
   ]
  },
  {
   "cell_type": "markdown",
   "metadata": {},
   "source": [
    "In this case, as it is a boosting model, the data is passed over and over again tuning the parameters every time the data is passed. This is the reason why compared to the random forest it requires so much time. The number of trees is higher than the number of trees used in random forest and the depth is nearly doubling the one previously calculated for the random forest. In this case the computational effort has grown exponentially compared to other classifiers so it is expected that the accuracy is much higher than in the case of the logistic regression classifier to be a candidate for production. In this case, as it is based on random forest a slight increase of its accuracy is expected, hence it will not be as high as the one achieved with the logistic regression for the same reasons that applied to the random forest.\n",
    "\n",
    "Once the parameters are tuned, the model is fit and run on the test set."
   ]
  },
  {
   "cell_type": "code",
   "execution_count": 64,
   "metadata": {},
   "outputs": [
    {
     "name": "stdout",
     "output_type": "stream",
     "text": [
      "Fitting 5 folds for each of 40 candidates, totalling 200 fits\n"
     ]
    },
    {
     "name": "stderr",
     "output_type": "stream",
     "text": [
      "[Parallel(n_jobs=-1)]: Done  34 tasks      | elapsed: 17.5min\n",
      "[Parallel(n_jobs=-1)]: Done 184 tasks      | elapsed: 83.3min\n",
      "[Parallel(n_jobs=-1)]: Done 200 out of 200 | elapsed: 90.2min finished\n"
     ]
    }
   ],
   "source": [
    "#Fit on the test set\n",
    "GBC_tuned.fit(X_test, y_test)\n",
    "\n",
    "# Predict on test set\n",
    "\n",
    "predtestgb_y = GBC_tuned.predict(X_test)"
   ]
  },
  {
   "cell_type": "markdown",
   "metadata": {},
   "source": [
    "In this case, the algorithm uses the gradient descendent algorithm to follow the steepest path that reduces the loss. In each step the tree is fitted to predict a negative gradient. The friedman_mse parameter used by default calculates the step after the direction has been set. As in the case of Random Forest, this classifier presents overfitting in the classification report and confusion matrix. To reduce the overfitting cross validation is applied."
   ]
  },
  {
   "cell_type": "code",
   "execution_count": 65,
   "metadata": {},
   "outputs": [
    {
     "name": "stdout",
     "output_type": "stream",
     "text": [
      "Classification Report: \n",
      "              precision    recall  f1-score   support\n",
      "\n",
      "        0.0       1.00      1.00      1.00       920\n",
      "        1.0       1.00      1.00      1.00       952\n",
      "        2.0       1.00      1.00      1.00       784\n",
      "        3.0       1.00      1.00      1.00       527\n",
      "        4.0       1.00      1.00      1.00       840\n",
      "        5.0       1.00      1.00      1.00       603\n",
      "        6.0       1.00      1.00      1.00       407\n",
      "        7.0       1.00      1.00      1.00       533\n",
      "        8.0       1.00      1.00      1.00       417\n",
      "        9.0       1.00      1.00      1.00       283\n",
      "       10.0       1.00      1.00      1.00       334\n",
      "       11.0       1.00      1.00      1.00       387\n",
      "\n",
      "avg / total       1.00      1.00      1.00      6987\n",
      "\n",
      "\n",
      "Confusion Matrix: \n",
      "\n",
      " [[920   0   0   0   0   0   0   0   0   0   0   0]\n",
      " [  0 952   0   0   0   0   0   0   0   0   0   0]\n",
      " [  0   0 784   0   0   0   0   0   0   0   0   0]\n",
      " [  0   0   0 527   0   0   0   0   0   0   0   0]\n",
      " [  0   0   0   0 840   0   0   0   0   0   0   0]\n",
      " [  0   0   0   0   0 603   0   0   0   0   0   0]\n",
      " [  0   0   0   0   0   0 407   0   0   0   0   0]\n",
      " [  0   0   0   0   0   0   0 533   0   0   0   0]\n",
      " [  0   0   0   0   0   0   0   0 417   0   0   0]\n",
      " [  0   0   0   0   0   0   0   0   0 283   0   0]\n",
      " [  0   0   0   0   0   0   0   0   0   0 334   0]\n",
      " [  0   0   0   0   0   0   0   0   0   0   0 387]]\n",
      "\n",
      "\n",
      "Fitting 5 folds for each of 40 candidates, totalling 200 fits\n"
     ]
    },
    {
     "name": "stderr",
     "output_type": "stream",
     "text": [
      "[Parallel(n_jobs=-1)]: Done  34 tasks      | elapsed: 13.1min\n",
      "[Parallel(n_jobs=-1)]: Done 184 tasks      | elapsed: 61.1min\n",
      "[Parallel(n_jobs=-1)]: Done 200 out of 200 | elapsed: 66.0min finished\n"
     ]
    },
    {
     "name": "stdout",
     "output_type": "stream",
     "text": [
      "Fitting 5 folds for each of 40 candidates, totalling 200 fits\n"
     ]
    },
    {
     "name": "stderr",
     "output_type": "stream",
     "text": [
      "[Parallel(n_jobs=-1)]: Done  34 tasks      | elapsed: 12.8min\n",
      "[Parallel(n_jobs=-1)]: Done 184 tasks      | elapsed: 57.3min\n",
      "[Parallel(n_jobs=-1)]: Done 200 out of 200 | elapsed: 62.2min finished\n"
     ]
    },
    {
     "name": "stdout",
     "output_type": "stream",
     "text": [
      "Fitting 5 folds for each of 40 candidates, totalling 200 fits\n"
     ]
    },
    {
     "name": "stderr",
     "output_type": "stream",
     "text": [
      "[Parallel(n_jobs=-1)]: Done  34 tasks      | elapsed: 12.8min\n",
      "[Parallel(n_jobs=-1)]: Done 184 tasks      | elapsed: 58.7min\n",
      "[Parallel(n_jobs=-1)]: Done 200 out of 200 | elapsed: 63.2min finished\n"
     ]
    },
    {
     "name": "stdout",
     "output_type": "stream",
     "text": [
      "Fitting 5 folds for each of 40 candidates, totalling 200 fits\n"
     ]
    },
    {
     "name": "stderr",
     "output_type": "stream",
     "text": [
      "[Parallel(n_jobs=-1)]: Done  34 tasks      | elapsed: 11.8min\n",
      "[Parallel(n_jobs=-1)]: Done 184 tasks      | elapsed: 56.0min\n",
      "[Parallel(n_jobs=-1)]: Done 200 out of 200 | elapsed: 60.3min finished\n"
     ]
    },
    {
     "name": "stdout",
     "output_type": "stream",
     "text": [
      "Fitting 5 folds for each of 40 candidates, totalling 200 fits\n"
     ]
    },
    {
     "name": "stderr",
     "output_type": "stream",
     "text": [
      "[Parallel(n_jobs=-1)]: Done  34 tasks      | elapsed: 11.8min\n",
      "[Parallel(n_jobs=-1)]: Done 184 tasks      | elapsed: 55.7min\n",
      "[Parallel(n_jobs=-1)]: Done 200 out of 200 | elapsed: 60.1min finished\n"
     ]
    },
    {
     "name": "stdout",
     "output_type": "stream",
     "text": [
      "Gradient Boosting Classifier accuracy: 79.25 %\n",
      "\n"
     ]
    }
   ],
   "source": [
    "#Evaluation of the model (testing)\n",
    "\n",
    "#Define the targets\n",
    "target_names = ['0.0', '1.0', '2.0', '3.0', '4.0', '5.0', '6.0', '7.0', '8.0', '9.0', '10.0', '11.0']\n",
    "\n",
    "#Print the classification report\n",
    "print(('Classification Report: \\n {}\\n').format(classification_report(y_test, predtestgb_y,target_names=target_names)))\n",
    "\n",
    "#Calculate the confusion matrix\n",
    "confusion_GBC = confusion_matrix(y_test, predtestgb_y)\n",
    "\n",
    "#Print the confusion matrix\n",
    "print(('Confusion Matrix: \\n\\n {}\\n\\n').format(confusion_GBC))\n",
    "\n",
    "#Print the overall accuracy\n",
    "print(( 'Gradient Boosting Classifier accuracy: {0:.2f} %\\n').format(cross_val_score(GBC_tuned\n",
    "                                                                                     , X_test, y_test,cv=kf).mean()*100))"
   ]
  },
  {
   "cell_type": "markdown",
   "metadata": {},
   "source": [
    "The gradient boosting algorithm has a similar approach to the random forest in the classification of the classes. In this case the depth of the trees is bigger and the number of trees also. The number of trees helps to reduce the overfitting while the depth has a negative effect in the misclassification reducing the accuracy. The same principle regarding the feature selection applies than in the case of random forest so it is not strange to find in this case an overall accuracy close to the one obtained with random forest. In the implementation of the descendent gradient over the random forest algorithm has not significantly improved the accuracy while it has increased the computational effort required to achieve it. Hence, this algorithm is discarded for production."
   ]
  },
  {
   "cell_type": "markdown",
   "metadata": {},
   "source": [
    "#### 4.8 Support Vector Classifier ####\n",
    "\n",
    "A support vector classifier has been set up and tuned on the training data and run on the test set. The hyperparameters that have been tuned are:\n",
    "\n",
    "1. C parameter, acting on the margin hyperplane having a bigger margin when C is smaller."
   ]
  },
  {
   "cell_type": "code",
   "execution_count": 38,
   "metadata": {},
   "outputs": [
    {
     "name": "stdout",
     "output_type": "stream",
     "text": [
      "Fitting 5 folds for each of 3 candidates, totalling 15 fits\n"
     ]
    },
    {
     "name": "stderr",
     "output_type": "stream",
     "text": [
      "[Parallel(n_jobs=-1)]: Done  15 out of  15 | elapsed:  5.6min finished\n"
     ]
    },
    {
     "name": "stdout",
     "output_type": "stream",
     "text": [
      "Best Hyper Parameters: {'C': 1000}\n"
     ]
    }
   ],
   "source": [
    "# Train model\n",
    "# Initialize and fit the model. \n",
    "svc = SVC(class_weight='balanced')\n",
    "\n",
    "#Tune hyperparameters\n",
    "#Create range of values to fit parameters\n",
    "\n",
    "C_param = [10,100,1000]\n",
    "\n",
    "#Fit parameters\n",
    "parameters = {'C': C_param}\n",
    "\n",
    "#Fit parameters using gridsearch\n",
    "svc_tunned = GridSearchCV(svc, param_grid=parameters, n_jobs = -1, cv=kf, verbose = 1)\n",
    "\n",
    "#Fit the tunned classifier in the training space\n",
    "svc_tunned.fit(X_train, y_train)\n",
    "\n",
    "#The best hyper parameters set\n",
    "print(\"Best Hyper Parameters:\", svc_tunned.best_params_)"
   ]
  },
  {
   "cell_type": "markdown",
   "metadata": {},
   "source": [
    "The time required to tune the parameters has been lower than expected especially for a dataset as large as ours. The use of a high C aims to classify the training examples correctly by selecting more samples as support vectors. In this case, the use of PC helps to set up the boundaries using data that has been preprocessed to explain the maximum possible variance by rotating it. The model is fit in the test set."
   ]
  },
  {
   "cell_type": "code",
   "execution_count": 39,
   "metadata": {},
   "outputs": [
    {
     "name": "stdout",
     "output_type": "stream",
     "text": [
      "Fitting 5 folds for each of 3 candidates, totalling 15 fits\n"
     ]
    },
    {
     "name": "stderr",
     "output_type": "stream",
     "text": [
      "[Parallel(n_jobs=-1)]: Done  15 out of  15 | elapsed:   57.3s finished\n"
     ]
    }
   ],
   "source": [
    "#Fit tunned model on Test set\n",
    "svc_tunned.fit(X_test, y_test)\n",
    "\n",
    "# Predict on training set\n",
    "predtestsvc_y = svc_tunned.predict(X_test)"
   ]
  },
  {
   "cell_type": "markdown",
   "metadata": {},
   "source": [
    "As expected, the confusion matrix and classification report present overfitting. To avoid the overfitting presented in both cases, cross validation is used to fit to obtain the overall accuracy."
   ]
  },
  {
   "cell_type": "code",
   "execution_count": 41,
   "metadata": {},
   "outputs": [
    {
     "name": "stdout",
     "output_type": "stream",
     "text": [
      "Classification Report: \n",
      "              precision    recall  f1-score   support\n",
      "\n",
      "        0.0       1.00      1.00      1.00      1017\n",
      "        1.0       1.00      1.00      1.00      1036\n",
      "        2.0       1.00      1.00      1.00       973\n",
      "        3.0       1.00      1.00      1.00       994\n",
      "        4.0       1.00      1.00      1.00      1015\n",
      "        5.0       1.00      1.00      1.00       991\n",
      "        6.0       1.00      1.00      1.00       991\n",
      "        7.0       1.00      1.00      1.00       985\n",
      "        8.0       1.00      1.00      1.00       980\n",
      "        9.0       1.00      1.00      1.00       992\n",
      "       10.0       1.00      1.00      1.00      1047\n",
      "       11.0       1.00      1.00      1.00       996\n",
      "\n",
      "avg / total       1.00      1.00      1.00     12017\n",
      "\n",
      "\n",
      "Confusion Matrix: \n",
      "\n",
      " [[1015    2    0    0    0    0    0    0    0    0    0    0]\n",
      " [   1 1035    0    0    0    0    0    0    0    0    0    0]\n",
      " [   0    0  971    2    0    0    0    0    0    0    0    0]\n",
      " [   0    0    1  993    0    0    0    0    0    0    0    0]\n",
      " [   0    0    0    1 1014    0    0    0    0    0    0    0]\n",
      " [   0    0    0    0    1  990    0    0    0    0    0    0]\n",
      " [   0    0    0    0    0    0  991    0    0    0    0    0]\n",
      " [   0    0    0    0    0    0    0  985    0    0    0    0]\n",
      " [   0    0    0    0    0    0    0    0  980    0    0    0]\n",
      " [   0    0    0    0    0    0    0    0    0  991    1    0]\n",
      " [   0    0    0    0    0    0    0    0    0    1 1046    0]\n",
      " [   0    0    0    0    0    0    0    0    0    0    0  996]]\n",
      "\n",
      "\n",
      "Fitting 5 folds for each of 3 candidates, totalling 15 fits\n"
     ]
    },
    {
     "name": "stderr",
     "output_type": "stream",
     "text": [
      "[Parallel(n_jobs=-1)]: Done  15 out of  15 | elapsed:   37.6s finished\n"
     ]
    },
    {
     "name": "stdout",
     "output_type": "stream",
     "text": [
      "Fitting 5 folds for each of 3 candidates, totalling 15 fits\n"
     ]
    },
    {
     "name": "stderr",
     "output_type": "stream",
     "text": [
      "[Parallel(n_jobs=-1)]: Done  15 out of  15 | elapsed:   37.3s finished\n"
     ]
    },
    {
     "name": "stdout",
     "output_type": "stream",
     "text": [
      "Fitting 5 folds for each of 3 candidates, totalling 15 fits\n"
     ]
    },
    {
     "name": "stderr",
     "output_type": "stream",
     "text": [
      "[Parallel(n_jobs=-1)]: Done  15 out of  15 | elapsed:   38.5s finished\n"
     ]
    },
    {
     "name": "stdout",
     "output_type": "stream",
     "text": [
      "Fitting 5 folds for each of 3 candidates, totalling 15 fits\n"
     ]
    },
    {
     "name": "stderr",
     "output_type": "stream",
     "text": [
      "[Parallel(n_jobs=-1)]: Done  15 out of  15 | elapsed:   37.4s finished\n"
     ]
    },
    {
     "name": "stdout",
     "output_type": "stream",
     "text": [
      "Fitting 5 folds for each of 3 candidates, totalling 15 fits\n"
     ]
    },
    {
     "name": "stderr",
     "output_type": "stream",
     "text": [
      "[Parallel(n_jobs=-1)]: Done  15 out of  15 | elapsed:   37.0s finished\n"
     ]
    },
    {
     "name": "stdout",
     "output_type": "stream",
     "text": [
      "SVC accuracy: 92.29 %\n",
      "\n"
     ]
    }
   ],
   "source": [
    "#Evaluation of the model (testing)\n",
    "\n",
    "#Define the targets\n",
    "target_names = ['0.0', '1.0', '2.0', '3.0', '4.0', '5.0', '6.0', '7.0', '8.0', '9.0', '10.0', '11.0']\n",
    "\n",
    "#Print the classification report\n",
    "print(('Classification Report: \\n {}\\n').format(classification_report(y_test, predtestsvc_y, target_names=target_names)))\n",
    "\n",
    "#Calculate the confusion matrix\n",
    "confusion_SVC = confusion_matrix(y_test, predtestsvc_y)\n",
    "\n",
    "#Print the confusion matrix\n",
    "print(('Confusion Matrix: \\n\\n {}\\n\\n').format(confusion_SVC))\n",
    "\n",
    "#Print the overall accuracy\n",
    "print(( 'SVC accuracy: {0:.2f} %\\n').format(cross_val_score(svc_tunned, X_test, y_test,cv=kf).mean()*100))"
   ]
  },
  {
   "cell_type": "markdown",
   "metadata": {},
   "source": [
    "In this case the accuracy obtained is 92.29% which is similar to the one obtained with the logistic regression model but it requires less computational effort. This is due to the transformation done when preprocessing the data with PCA as the kernel trick requires less time (the data is already in the axis that maximize the variance) than expected and therefore less computational power. This is a strong candidate to go into production if the PCA is maintained before the algorithm is run as otherwise the time will increase quadratic (as complexity).\n",
    "\n",
    "This model will be compared the deep learning classification results although this model is preferred as it allows to keep the features (and requires less computational effort) which is better from the perspective of refining the feature generation in the future"
   ]
  },
  {
   "cell_type": "markdown",
   "metadata": {},
   "source": [
    "#### 4.9 Model Selection - Conclusions ####\n",
    "\n",
    "Features have been generated once the dataset has been created using kbest and PCA. The number of features has been reduced to 120 to obtain the highest possible overall accuracy using cross validation over a 70/30 train/test split with five folds. In this case there is no additional weight on misclassification hence, the overall accuracy has been used to measure the accuracy of the models and the time required to fit the test data to measure the computing effort required by each model. The features that have been used are the PC from a PCA as we don´t need to track back to the initial features. The initial kbest analysis and the unsupervised analysis already determines the most important features that can be found in the data without needing to implement them when running the different models. All models have been tuned using gridsearch and the results from higher to lower accuracy are as follows:\n",
    "\n",
    "1. ***Logistic Regression***. Accuracy: 95.72%. Computing effort: 3.3 min.\n",
    "2. ***Linear Support Vector Classifier***. Accuracy: 94.99%. Computing Effort: 19.9 min.\n",
    "3. ***Support Vector Classifier***. Accuracy: 92.29%. Computing effort: 57.3s.\n",
    "4. ***Random Forest***. Accuracy: 81.04%. Computing Effort: 81.04%. Computing effort: 7.3 min.\n",
    "5. ***Gradient Boosting Classifier***: Accuracy 79.25%. Computing effort: 90.2 min.\n",
    "6. ***K-nearest neighbors***. Accuracy: 71.36%. Computing effort: 1.5 min.\n",
    "7. ***SGD Classifier***. Accuracy: 47.88%. Computing effort: 9.5 min.\n",
    "8. ***Naïve-Bayes Classifier***. Accuracy: 37.93%. Computing effort: 1.5s.\n",
    "\n",
    "From the abovementioned results the classifiers that are good candidates to go into production are logistic regression due to its high accuracy, simplicity and low computational effort and support vector machine. The latter presents a low computational effort due to the transformation of the features that has been done during the features generation. Regarding support vector machine, it presents scalability problems hence the best candidate remains the logistic regression algorithm. Although deep learning models are also tested, the supervised ones that have been tested in this section are preferred as they allow to track back results to the most relevant features. Furthermore, they require less computational power and are less complex and more transparent form a costumer´s perspective. \n"
   ]
  },
  {
   "cell_type": "markdown",
   "metadata": {},
   "source": [
    "### 5. Deep Learning Classification ###"
   ]
  },
  {
   "cell_type": "markdown",
   "metadata": {},
   "source": [
    "To carry out the multiclass classification based on demographics (gender and age) using the apps and brand of the device of the Chinese population sample under analysis, a Multilayer Perceptron has been built. In this case the data requires to be prepared so that it fits the MLP. The purpose of this MLP is to achieve higher accuracy than the supervised learning algorithms used up until now.\n",
    "\n",
    "As the neural networks work better with scaled data, the processed data has been split into train and test with a 70/30 split. In this case it is not needed to produce the feature generation and selection to achieve high performance with the neural network so the preprocessed raw data is used."
   ]
  },
  {
   "cell_type": "code",
   "execution_count": 32,
   "metadata": {},
   "outputs": [
    {
     "data": {
      "text/plain": [
       "((28039, 274), (12017, 274), (28039,), (12017,))"
      ]
     },
     "execution_count": 32,
     "metadata": {},
     "output_type": "execute_result"
    }
   ],
   "source": [
    "#Split data in a train and test set\n",
    "X_tr, X_te, y_tr, y_te = train_test_split(X_processed, y,test_size=0.3, random_state=42)\n",
    "\n",
    "#Check the size of each of the sets.\n",
    "X_tr.shape, X_te.shape, y_tr.shape, y_te.shape"
   ]
  },
  {
   "cell_type": "markdown",
   "metadata": {},
   "source": [
    "To match the input requirements of the neural network, the dependent variable is transformed into a categorical sparse matrix. This matrix will have the same number of rows but will create one row per class used in the dependent vector."
   ]
  },
  {
   "cell_type": "code",
   "execution_count": 34,
   "metadata": {},
   "outputs": [
    {
     "name": "stdout",
     "output_type": "stream",
     "text": [
      "(28039, 12) (12017, 12)\n"
     ]
    }
   ],
   "source": [
    "# Convert class vectors to binary class matrices\n",
    "# So instead of one column with 10 values, create 12 binary columns\n",
    "y_train_mlp = keras.utils.to_categorical(y_tr, num_classes=12)\n",
    "y_test_mlp = keras.utils.to_categorical(y_te, num_classes=12)\n",
    "\n",
    "print(y_train_mlp.shape, y_test_mlp.shape)"
   ]
  },
  {
   "cell_type": "markdown",
   "metadata": {},
   "source": [
    "Although gridsearchCV from sklearn can be used to tune the parameters if the neural network in this case and due to computational restrictions, a trial and error approach has been selected. The process to build the model has been as follows.\n",
    "\n",
    "1. Increase the number of layers and with it the batch size increasing the overall accuracy of the model\n",
    "2. Increase the size of the hidden neural networks while increasing the dropout rate to reduce overfitting.\n",
    "3. Increasing the size of each layer up to 264 increasing the number of trainable parameters which improved the accuracy of the model.\n",
    "3. Try different activation functions such as \"relu\", \"elu\", \"selu\" being \"relu\" the preferred option from an accuracy standpoint is \"relu\" as it provides higher accuracy.\n",
    "4. Introduce the batch normalization, normalizing the input of each neural layer are part of the model architecture and performing the normalization in each mini batch. Both accuracy and speed improve when the batch normalization is used.\n",
    "5. Increase the epochs giving time for the neural network to be trained increasing them from 15 to 200 and achieving better results when 200 epochs are used.\n",
    "6. Different optimizers have been used: SGD and RMS, giving RMS a better accuracy than SGD when combined with batch normalization (as SDG eliminates the normalization done by the batch normalizer).\n",
    "\n",
    "The model used is as follows. The input layer has the input dimension of the vector and 264 neurons. It has 5 hidden layers and the output layer has the dimension of the classification vector (12). Between each layer the batch normalization is introduced to reduce the internal covariate shift and an additional dropout is introduced to reduce overfitting. Although the dropouts could be avoided by using the batch normalization, the preferred option is to introduce the dropout to avoid overfitting."
   ]
  },
  {
   "cell_type": "code",
   "execution_count": 30,
   "metadata": {},
   "outputs": [
    {
     "name": "stdout",
     "output_type": "stream",
     "text": [
      "_________________________________________________________________\n",
      "Layer (type)                 Output Shape              Param #   \n",
      "=================================================================\n",
      "dense_1 (Dense)              (None, 264)               72600     \n",
      "_________________________________________________________________\n",
      "dropout_1 (Dropout)          (None, 264)               0         \n",
      "_________________________________________________________________\n",
      "dense_2 (Dense)              (None, 264)               69960     \n",
      "_________________________________________________________________\n",
      "batch_normalization_1 (Batch (None, 264)               1056      \n",
      "_________________________________________________________________\n",
      "dropout_2 (Dropout)          (None, 264)               0         \n",
      "_________________________________________________________________\n",
      "dense_3 (Dense)              (None, 264)               69960     \n",
      "_________________________________________________________________\n",
      "batch_normalization_2 (Batch (None, 264)               1056      \n",
      "_________________________________________________________________\n",
      "dropout_3 (Dropout)          (None, 264)               0         \n",
      "_________________________________________________________________\n",
      "dense_4 (Dense)              (None, 264)               69960     \n",
      "_________________________________________________________________\n",
      "batch_normalization_3 (Batch (None, 264)               1056      \n",
      "_________________________________________________________________\n",
      "dropout_4 (Dropout)          (None, 264)               0         \n",
      "_________________________________________________________________\n",
      "dense_5 (Dense)              (None, 264)               69960     \n",
      "_________________________________________________________________\n",
      "batch_normalization_4 (Batch (None, 264)               1056      \n",
      "_________________________________________________________________\n",
      "dropout_5 (Dropout)          (None, 264)               0         \n",
      "_________________________________________________________________\n",
      "dense_6 (Dense)              (None, 264)               69960     \n",
      "_________________________________________________________________\n",
      "batch_normalization_5 (Batch (None, 264)               1056      \n",
      "_________________________________________________________________\n",
      "dropout_6 (Dropout)          (None, 264)               0         \n",
      "_________________________________________________________________\n",
      "dense_7 (Dense)              (None, 264)               69960     \n",
      "_________________________________________________________________\n",
      "batch_normalization_6 (Batch (None, 264)               1056      \n",
      "_________________________________________________________________\n",
      "dropout_7 (Dropout)          (None, 264)               0         \n",
      "_________________________________________________________________\n",
      "dense_8 (Dense)              (None, 12)                3180      \n",
      "=================================================================\n",
      "Total params: 501,876\n",
      "Trainable params: 498,708\n",
      "Non-trainable params: 3,168\n",
      "_________________________________________________________________\n"
     ]
    }
   ],
   "source": [
    "#Start the model\n",
    "model = Sequential()\n",
    "\n",
    "#Set up the outter layer\n",
    "model.add(Dense(264, activation='relu', input_dim=274))\n",
    "\n",
    "# Dropout layers remove features and fight overfitting\n",
    "model.add(Dropout(0.5))\n",
    "model.add(Dense(264, activation='relu'))\n",
    "model.add(BatchNormalization())\n",
    "model.add(Dropout(0.5))\n",
    "model.add(Dense(264, activation='relu'))\n",
    "model.add(BatchNormalization())\n",
    "model.add(Dropout(0.5))\n",
    "model.add(Dense(264, activation='relu'))\n",
    "model.add(BatchNormalization())\n",
    "model.add(Dropout(0.5))\n",
    "model.add(Dense(264, activation='relu'))\n",
    "model.add(BatchNormalization())\n",
    "model.add(Dropout(0.5))\n",
    "model.add(Dense(264, activation='relu'))\n",
    "model.add(BatchNormalization())\n",
    "model.add(Dropout(0.5))\n",
    "model.add(Dense(264, activation='relu'))\n",
    "model.add(BatchNormalization())\n",
    "model.add(Dropout(0.5))\n",
    "\n",
    "# End with a number of units equal to the number of classes we have for our outcome\n",
    "model.add(Dense(12, activation='softmax'))\n",
    "\n",
    "#Model features\n",
    "model.summary()   \n",
    "    \n",
    "# Compile the model to put it all together.\n",
    "RMS = RMSprop()\n",
    "model.compile(loss='categorical_crossentropy',optimizer= RMS,metrics=['accuracy'])"
   ]
  },
  {
   "cell_type": "markdown",
   "metadata": {},
   "source": [
    "After several trials the optimum batch size for the model and epochs are 1250 and 200 respectively. Once the model is trained on the train set is tested and an overall accuracy of 98.91% is achieved. This accuracy is higher than all the accuracies achieved with the previous models."
   ]
  },
  {
   "cell_type": "code",
   "execution_count": 31,
   "metadata": {},
   "outputs": [
    {
     "name": "stdout",
     "output_type": "stream",
     "text": [
      "Epoch 1/200\n",
      "28039/28039 [==============================] - 3s 113us/step - loss: 3.0530 - acc: 0.0829\n",
      "Epoch 2/200\n",
      "28039/28039 [==============================] - 2s 72us/step - loss: 2.8401 - acc: 0.0868\n",
      "Epoch 3/200\n",
      "28039/28039 [==============================] - 2s 73us/step - loss: 2.7809 - acc: 0.0873\n",
      "Epoch 4/200\n",
      "28039/28039 [==============================] - 2s 73us/step - loss: 2.7171 - acc: 0.0934\n",
      "Epoch 5/200\n",
      "28039/28039 [==============================] - 2s 73us/step - loss: 2.4403 - acc: 0.1417\n",
      "Epoch 6/200\n",
      "28039/28039 [==============================] - 2s 72us/step - loss: 2.1853 - acc: 0.1620\n",
      "Epoch 7/200\n",
      "28039/28039 [==============================] - 2s 73us/step - loss: 2.0142 - acc: 0.2107\n",
      "Epoch 8/200\n",
      "28039/28039 [==============================] - 2s 73us/step - loss: 1.7748 - acc: 0.3096\n",
      "Epoch 9/200\n",
      "28039/28039 [==============================] - 2s 73us/step - loss: 1.5292 - acc: 0.3981\n",
      "Epoch 10/200\n",
      "28039/28039 [==============================] - 2s 73us/step - loss: 1.3551 - acc: 0.4592\n",
      "Epoch 11/200\n",
      "28039/28039 [==============================] - 2s 73us/step - loss: 1.2046 - acc: 0.5232\n",
      "Epoch 12/200\n",
      "28039/28039 [==============================] - 2s 74us/step - loss: 1.0868 - acc: 0.5706\n",
      "Epoch 13/200\n",
      "28039/28039 [==============================] - 2s 75us/step - loss: 0.9825 - acc: 0.6152\n",
      "Epoch 14/200\n",
      "28039/28039 [==============================] - 2s 75us/step - loss: 0.9182 - acc: 0.6417\n",
      "Epoch 15/200\n",
      "28039/28039 [==============================] - 2s 74us/step - loss: 0.8351 - acc: 0.6687\n",
      "Epoch 16/200\n",
      "28039/28039 [==============================] - 2s 74us/step - loss: 0.7912 - acc: 0.6879\n",
      "Epoch 17/200\n",
      "28039/28039 [==============================] - 2s 75us/step - loss: 0.7426 - acc: 0.7042\n",
      "Epoch 18/200\n",
      "28039/28039 [==============================] - 2s 74us/step - loss: 0.6949 - acc: 0.7242\n",
      "Epoch 19/200\n",
      "28039/28039 [==============================] - 2s 75us/step - loss: 0.6640 - acc: 0.7330\n",
      "Epoch 20/200\n",
      "28039/28039 [==============================] - 2s 75us/step - loss: 0.6388 - acc: 0.7443\n",
      "Epoch 21/200\n",
      "28039/28039 [==============================] - 2s 74us/step - loss: 0.6180 - acc: 0.7518\n",
      "Epoch 22/200\n",
      "28039/28039 [==============================] - 2s 75us/step - loss: 0.5878 - acc: 0.7645\n",
      "Epoch 23/200\n",
      "28039/28039 [==============================] - 2s 75us/step - loss: 0.5607 - acc: 0.7785\n",
      "Epoch 24/200\n",
      "28039/28039 [==============================] - 2s 75us/step - loss: 0.5604 - acc: 0.7762\n",
      "Epoch 25/200\n",
      "28039/28039 [==============================] - 2s 75us/step - loss: 0.5131 - acc: 0.7970\n",
      "Epoch 26/200\n",
      "28039/28039 [==============================] - 2s 75us/step - loss: 0.5008 - acc: 0.8012\n",
      "Epoch 27/200\n",
      "28039/28039 [==============================] - 2s 74us/step - loss: 0.4836 - acc: 0.8094\n",
      "Epoch 28/200\n",
      "28039/28039 [==============================] - 2s 75us/step - loss: 0.4701 - acc: 0.8138\n",
      "Epoch 29/200\n",
      "28039/28039 [==============================] - 2s 74us/step - loss: 0.4459 - acc: 0.8255\n",
      "Epoch 30/200\n",
      "28039/28039 [==============================] - 2s 75us/step - loss: 0.4567 - acc: 0.8190\n",
      "Epoch 31/200\n",
      "28039/28039 [==============================] - 2s 75us/step - loss: 0.4286 - acc: 0.8340\n",
      "Epoch 32/200\n",
      "28039/28039 [==============================] - 2s 74us/step - loss: 0.4247 - acc: 0.8358\n",
      "Epoch 33/200\n",
      "28039/28039 [==============================] - 2s 74us/step - loss: 0.4109 - acc: 0.8387\n",
      "Epoch 34/200\n",
      "28039/28039 [==============================] - 2s 74us/step - loss: 0.3867 - acc: 0.8484\n",
      "Epoch 35/200\n",
      "28039/28039 [==============================] - 2s 75us/step - loss: 0.3906 - acc: 0.8504\n",
      "Epoch 36/200\n",
      "28039/28039 [==============================] - 2s 73us/step - loss: 0.3796 - acc: 0.8532\n",
      "Epoch 37/200\n",
      "28039/28039 [==============================] - 2s 73us/step - loss: 0.3730 - acc: 0.8555\n",
      "Epoch 38/200\n",
      "28039/28039 [==============================] - 2s 72us/step - loss: 0.3574 - acc: 0.8654\n",
      "Epoch 39/200\n",
      "28039/28039 [==============================] - 2s 72us/step - loss: 0.3360 - acc: 0.8711\n",
      "Epoch 40/200\n",
      "28039/28039 [==============================] - 2s 74us/step - loss: 0.3342 - acc: 0.8751\n",
      "Epoch 41/200\n",
      "28039/28039 [==============================] - 2s 72us/step - loss: 0.3297 - acc: 0.8754\n",
      "Epoch 42/200\n",
      "28039/28039 [==============================] - 2s 73us/step - loss: 0.3252 - acc: 0.8744\n",
      "Epoch 43/200\n",
      "28039/28039 [==============================] - 2s 72us/step - loss: 0.3066 - acc: 0.8839\n",
      "Epoch 44/200\n",
      "28039/28039 [==============================] - 2s 72us/step - loss: 0.3152 - acc: 0.8810\n",
      "Epoch 45/200\n",
      "28039/28039 [==============================] - 2s 73us/step - loss: 0.3174 - acc: 0.8811\n",
      "Epoch 46/200\n",
      "28039/28039 [==============================] - 2s 72us/step - loss: 0.2923 - acc: 0.8915\n",
      "Epoch 47/200\n",
      "28039/28039 [==============================] - 2s 72us/step - loss: 0.2808 - acc: 0.8965\n",
      "Epoch 48/200\n",
      "28039/28039 [==============================] - 2s 73us/step - loss: 0.2789 - acc: 0.8956\n",
      "Epoch 49/200\n",
      "28039/28039 [==============================] - 2s 72us/step - loss: 0.2833 - acc: 0.8956\n",
      "Epoch 50/200\n",
      "28039/28039 [==============================] - 2s 72us/step - loss: 0.2715 - acc: 0.9010\n",
      "Epoch 51/200\n",
      "28039/28039 [==============================] - 2s 72us/step - loss: 0.2596 - acc: 0.9050\n",
      "Epoch 52/200\n",
      "28039/28039 [==============================] - 2s 72us/step - loss: 0.2574 - acc: 0.9054\n",
      "Epoch 53/200\n",
      "28039/28039 [==============================] - 2s 73us/step - loss: 0.2484 - acc: 0.9079\n",
      "Epoch 54/200\n",
      "28039/28039 [==============================] - 2s 72us/step - loss: 0.2562 - acc: 0.9077\n",
      "Epoch 55/200\n",
      "28039/28039 [==============================] - 2s 72us/step - loss: 0.2538 - acc: 0.9044\n",
      "Epoch 56/200\n",
      "28039/28039 [==============================] - 2s 72us/step - loss: 0.2428 - acc: 0.9112\n",
      "Epoch 57/200\n",
      "28039/28039 [==============================] - 2s 73us/step - loss: 0.2315 - acc: 0.9163\n",
      "Epoch 58/200\n",
      "28039/28039 [==============================] - 2s 73us/step - loss: 0.2290 - acc: 0.9157\n",
      "Epoch 59/200\n",
      "28039/28039 [==============================] - 2s 73us/step - loss: 0.2326 - acc: 0.9165\n",
      "Epoch 60/200\n",
      "28039/28039 [==============================] - 2s 72us/step - loss: 0.2253 - acc: 0.9190\n",
      "Epoch 61/200\n",
      "28039/28039 [==============================] - 2s 72us/step - loss: 0.2319 - acc: 0.9158\n",
      "Epoch 62/200\n",
      "28039/28039 [==============================] - 2s 72us/step - loss: 0.2242 - acc: 0.9191\n",
      "Epoch 63/200\n",
      "28039/28039 [==============================] - 2s 72us/step - loss: 0.2156 - acc: 0.9227\n",
      "Epoch 64/200\n",
      "28039/28039 [==============================] - 2s 71us/step - loss: 0.2038 - acc: 0.9257\n",
      "Epoch 65/200\n",
      "28039/28039 [==============================] - 2s 71us/step - loss: 0.2194 - acc: 0.9216\n",
      "Epoch 66/200\n",
      "28039/28039 [==============================] - 2s 71us/step - loss: 0.2075 - acc: 0.9258\n",
      "Epoch 67/200\n",
      "28039/28039 [==============================] - 2s 71us/step - loss: 0.1948 - acc: 0.9288\n",
      "Epoch 68/200\n",
      "28039/28039 [==============================] - 2s 71us/step - loss: 0.2023 - acc: 0.9275\n",
      "Epoch 69/200\n",
      "28039/28039 [==============================] - 2s 72us/step - loss: 0.1902 - acc: 0.9332\n",
      "Epoch 70/200\n",
      "28039/28039 [==============================] - 2s 71us/step - loss: 0.1849 - acc: 0.9351\n",
      "Epoch 71/200\n",
      "28039/28039 [==============================] - 2s 72us/step - loss: 0.2052 - acc: 0.9275\n",
      "Epoch 72/200\n",
      "28039/28039 [==============================] - 2s 72us/step - loss: 0.1757 - acc: 0.9374\n",
      "Epoch 73/200\n",
      "28039/28039 [==============================] - 2s 72us/step - loss: 0.1844 - acc: 0.9352\n",
      "Epoch 74/200\n",
      "28039/28039 [==============================] - 2s 72us/step - loss: 0.1814 - acc: 0.9361\n",
      "Epoch 75/200\n",
      "28039/28039 [==============================] - 2s 71us/step - loss: 0.1771 - acc: 0.9387\n",
      "Epoch 76/200\n",
      "28039/28039 [==============================] - 2s 72us/step - loss: 0.1822 - acc: 0.9355\n",
      "Epoch 77/200\n",
      "28039/28039 [==============================] - 2s 72us/step - loss: 0.1814 - acc: 0.9363\n",
      "Epoch 78/200\n",
      "28039/28039 [==============================] - 2s 72us/step - loss: 0.1716 - acc: 0.9390\n",
      "Epoch 79/200\n",
      "28039/28039 [==============================] - 2s 73us/step - loss: 0.1713 - acc: 0.9405\n",
      "Epoch 80/200\n",
      "28039/28039 [==============================] - 2s 72us/step - loss: 0.1677 - acc: 0.9418\n",
      "Epoch 81/200\n",
      "28039/28039 [==============================] - 2s 73us/step - loss: 0.1624 - acc: 0.9446\n",
      "Epoch 82/200\n",
      "28039/28039 [==============================] - 2s 73us/step - loss: 0.1632 - acc: 0.9425\n",
      "Epoch 83/200\n",
      "28039/28039 [==============================] - 2s 72us/step - loss: 0.1565 - acc: 0.9455\n",
      "Epoch 84/200\n",
      "28039/28039 [==============================] - 2s 72us/step - loss: 0.1554 - acc: 0.9463\n",
      "Epoch 85/200\n",
      "28039/28039 [==============================] - 2s 73us/step - loss: 0.1483 - acc: 0.9479\n",
      "Epoch 86/200\n",
      "28039/28039 [==============================] - 2s 73us/step - loss: 0.1532 - acc: 0.9470\n",
      "Epoch 87/200\n",
      "28039/28039 [==============================] - 2s 73us/step - loss: 0.1542 - acc: 0.9481\n",
      "Epoch 88/200\n",
      "28039/28039 [==============================] - 2s 72us/step - loss: 0.1487 - acc: 0.9494\n",
      "Epoch 89/200\n",
      "28039/28039 [==============================] - 2s 72us/step - loss: 0.1444 - acc: 0.9504\n",
      "Epoch 90/200\n",
      "28039/28039 [==============================] - 2s 72us/step - loss: 0.1424 - acc: 0.9519\n",
      "Epoch 91/200\n",
      "28039/28039 [==============================] - 2s 72us/step - loss: 0.1359 - acc: 0.9529\n",
      "Epoch 92/200\n",
      "28039/28039 [==============================] - 2s 72us/step - loss: 0.1400 - acc: 0.9520\n",
      "Epoch 93/200\n",
      "28039/28039 [==============================] - 2s 72us/step - loss: 0.1367 - acc: 0.9537\n",
      "Epoch 94/200\n",
      "28039/28039 [==============================] - 2s 72us/step - loss: 0.1360 - acc: 0.9541\n",
      "Epoch 95/200\n",
      "28039/28039 [==============================] - 2s 72us/step - loss: 0.1374 - acc: 0.9528\n",
      "Epoch 96/200\n",
      "28039/28039 [==============================] - 2s 72us/step - loss: 0.1340 - acc: 0.9535\n",
      "Epoch 97/200\n",
      "28039/28039 [==============================] - 2s 72us/step - loss: 0.1384 - acc: 0.9521\n",
      "Epoch 98/200\n",
      "28039/28039 [==============================] - 2s 72us/step - loss: 0.1391 - acc: 0.9525\n",
      "Epoch 99/200\n",
      "28039/28039 [==============================] - 2s 72us/step - loss: 0.1278 - acc: 0.9569\n",
      "Epoch 100/200\n",
      "28039/28039 [==============================] - 2s 72us/step - loss: 0.1310 - acc: 0.9559\n",
      "Epoch 101/200\n",
      "28039/28039 [==============================] - 2s 78us/step - loss: 0.1333 - acc: 0.9550\n",
      "Epoch 102/200\n",
      "28039/28039 [==============================] - 2s 75us/step - loss: 0.1384 - acc: 0.9543\n",
      "Epoch 103/200\n",
      "28039/28039 [==============================] - 2s 72us/step - loss: 0.1204 - acc: 0.9597\n",
      "Epoch 104/200\n",
      "28039/28039 [==============================] - 2s 72us/step - loss: 0.1253 - acc: 0.9588\n",
      "Epoch 105/200\n",
      "28039/28039 [==============================] - 2s 72us/step - loss: 0.1224 - acc: 0.9594\n",
      "Epoch 106/200\n",
      "28039/28039 [==============================] - 2s 72us/step - loss: 0.1201 - acc: 0.9600\n",
      "Epoch 107/200\n",
      "28039/28039 [==============================] - 3s 101us/step - loss: 0.1194 - acc: 0.9607\n",
      "Epoch 108/200\n",
      "28039/28039 [==============================] - 2s 73us/step - loss: 0.1283 - acc: 0.9568\n",
      "Epoch 109/200\n",
      "28039/28039 [==============================] - 2s 73us/step - loss: 0.1116 - acc: 0.9617\n",
      "Epoch 110/200\n",
      "28039/28039 [==============================] - 2s 72us/step - loss: 0.1168 - acc: 0.9604\n",
      "Epoch 111/200\n",
      "28039/28039 [==============================] - 2s 72us/step - loss: 0.1113 - acc: 0.9634\n",
      "Epoch 112/200\n",
      "28039/28039 [==============================] - 2s 73us/step - loss: 0.1173 - acc: 0.9616\n",
      "Epoch 113/200\n",
      "28039/28039 [==============================] - 2s 73us/step - loss: 0.1134 - acc: 0.9631\n",
      "Epoch 114/200\n",
      "28039/28039 [==============================] - 2s 72us/step - loss: 0.1151 - acc: 0.9624\n",
      "Epoch 115/200\n",
      "28039/28039 [==============================] - 2s 73us/step - loss: 0.1065 - acc: 0.9645\n",
      "Epoch 116/200\n",
      "28039/28039 [==============================] - 2s 73us/step - loss: 0.1125 - acc: 0.9634\n",
      "Epoch 117/200\n",
      "28039/28039 [==============================] - 2s 72us/step - loss: 0.1059 - acc: 0.9641\n",
      "Epoch 118/200\n",
      "28039/28039 [==============================] - 2s 72us/step - loss: 0.1075 - acc: 0.9668\n",
      "Epoch 119/200\n",
      "28039/28039 [==============================] - 2s 72us/step - loss: 0.1057 - acc: 0.9643\n",
      "Epoch 120/200\n",
      "28039/28039 [==============================] - 2s 72us/step - loss: 0.1115 - acc: 0.9637\n",
      "Epoch 121/200\n",
      "28039/28039 [==============================] - 2s 72us/step - loss: 0.1021 - acc: 0.9666\n",
      "Epoch 122/200\n",
      "28039/28039 [==============================] - 2s 72us/step - loss: 0.1083 - acc: 0.9649\n",
      "Epoch 123/200\n",
      "28039/28039 [==============================] - 2s 72us/step - loss: 0.1021 - acc: 0.9673\n",
      "Epoch 124/200\n",
      "28039/28039 [==============================] - 2s 72us/step - loss: 0.0997 - acc: 0.9680\n",
      "Epoch 125/200\n",
      "28039/28039 [==============================] - 2s 71us/step - loss: 0.0986 - acc: 0.9690\n",
      "Epoch 126/200\n",
      "28039/28039 [==============================] - 2s 70us/step - loss: 0.0995 - acc: 0.9672\n",
      "Epoch 127/200\n",
      "28039/28039 [==============================] - 2s 71us/step - loss: 0.0920 - acc: 0.9708\n",
      "Epoch 128/200\n",
      "28039/28039 [==============================] - 2s 71us/step - loss: 0.0984 - acc: 0.9694\n",
      "Epoch 129/200\n",
      "28039/28039 [==============================] - 2s 71us/step - loss: 0.1040 - acc: 0.9676\n",
      "Epoch 130/200\n",
      "28039/28039 [==============================] - 2s 72us/step - loss: 0.0935 - acc: 0.9706\n",
      "Epoch 131/200\n",
      "28039/28039 [==============================] - 2s 72us/step - loss: 0.0897 - acc: 0.9709\n",
      "Epoch 132/200\n",
      "28039/28039 [==============================] - 2s 72us/step - loss: 0.0905 - acc: 0.9715\n",
      "Epoch 133/200\n",
      "28039/28039 [==============================] - 2s 70us/step - loss: 0.0900 - acc: 0.9710\n",
      "Epoch 134/200\n",
      "28039/28039 [==============================] - 2s 71us/step - loss: 0.0975 - acc: 0.9707\n",
      "Epoch 135/200\n",
      "28039/28039 [==============================] - 2s 72us/step - loss: 0.0917 - acc: 0.9701\n",
      "Epoch 136/200\n",
      "28039/28039 [==============================] - 2s 71us/step - loss: 0.0883 - acc: 0.9723\n",
      "Epoch 137/200\n",
      "28039/28039 [==============================] - 2s 71us/step - loss: 0.0896 - acc: 0.9712\n",
      "Epoch 138/200\n",
      "28039/28039 [==============================] - 2s 71us/step - loss: 0.0910 - acc: 0.9715\n",
      "Epoch 139/200\n",
      "28039/28039 [==============================] - 2s 71us/step - loss: 0.0901 - acc: 0.9719\n",
      "Epoch 140/200\n",
      "28039/28039 [==============================] - 2s 73us/step - loss: 0.0866 - acc: 0.9736\n",
      "Epoch 141/200\n",
      "28039/28039 [==============================] - 2s 72us/step - loss: 0.0824 - acc: 0.9737\n",
      "Epoch 142/200\n",
      "28039/28039 [==============================] - 2s 73us/step - loss: 0.0885 - acc: 0.9721\n",
      "Epoch 143/200\n",
      "28039/28039 [==============================] - 2s 72us/step - loss: 0.0879 - acc: 0.9738\n",
      "Epoch 144/200\n",
      "28039/28039 [==============================] - 2s 72us/step - loss: 0.0824 - acc: 0.9743\n",
      "Epoch 145/200\n",
      "28039/28039 [==============================] - 2s 73us/step - loss: 0.0813 - acc: 0.9743\n",
      "Epoch 146/200\n",
      "28039/28039 [==============================] - 2s 73us/step - loss: 0.0823 - acc: 0.9749\n",
      "Epoch 147/200\n",
      "28039/28039 [==============================] - 2s 73us/step - loss: 0.0738 - acc: 0.9776\n",
      "Epoch 148/200\n",
      "28039/28039 [==============================] - 2s 72us/step - loss: 0.0813 - acc: 0.9747\n",
      "Epoch 149/200\n",
      "28039/28039 [==============================] - 2s 73us/step - loss: 0.0785 - acc: 0.9751\n",
      "Epoch 150/200\n",
      "28039/28039 [==============================] - 2s 73us/step - loss: 0.0763 - acc: 0.9770\n",
      "Epoch 151/200\n",
      "28039/28039 [==============================] - 2s 73us/step - loss: 0.0770 - acc: 0.9758\n",
      "Epoch 152/200\n",
      "28039/28039 [==============================] - 2s 72us/step - loss: 0.0776 - acc: 0.9756\n",
      "Epoch 153/200\n",
      "28039/28039 [==============================] - 2s 73us/step - loss: 0.0849 - acc: 0.9749\n",
      "Epoch 154/200\n",
      "28039/28039 [==============================] - 2s 73us/step - loss: 0.0728 - acc: 0.9774\n",
      "Epoch 155/200\n",
      "28039/28039 [==============================] - 2s 72us/step - loss: 0.0753 - acc: 0.9765\n",
      "Epoch 156/200\n",
      "28039/28039 [==============================] - 2s 73us/step - loss: 0.0688 - acc: 0.9788\n",
      "Epoch 157/200\n",
      "28039/28039 [==============================] - 2s 73us/step - loss: 0.0732 - acc: 0.9780\n",
      "Epoch 158/200\n",
      "28039/28039 [==============================] - 2s 72us/step - loss: 0.0711 - acc: 0.9781\n",
      "Epoch 159/200\n",
      "28039/28039 [==============================] - 2s 72us/step - loss: 0.0726 - acc: 0.9781\n",
      "Epoch 160/200\n"
     ]
    },
    {
     "name": "stdout",
     "output_type": "stream",
     "text": [
      "28039/28039 [==============================] - 2s 73us/step - loss: 0.0748 - acc: 0.9763\n",
      "Epoch 161/200\n",
      "28039/28039 [==============================] - 2s 73us/step - loss: 0.0727 - acc: 0.9777\n",
      "Epoch 162/200\n",
      "28039/28039 [==============================] - 2s 73us/step - loss: 0.0711 - acc: 0.9786\n",
      "Epoch 163/200\n",
      "28039/28039 [==============================] - 2s 73us/step - loss: 0.0681 - acc: 0.9792\n",
      "Epoch 164/200\n",
      "28039/28039 [==============================] - 2s 73us/step - loss: 0.0700 - acc: 0.9786\n",
      "Epoch 165/200\n",
      "28039/28039 [==============================] - 2s 73us/step - loss: 0.0738 - acc: 0.9770\n",
      "Epoch 166/200\n",
      "28039/28039 [==============================] - 2s 73us/step - loss: 0.0728 - acc: 0.9781\n",
      "Epoch 167/200\n",
      "28039/28039 [==============================] - 2s 73us/step - loss: 0.0711 - acc: 0.9778\n",
      "Epoch 168/200\n",
      "28039/28039 [==============================] - 2s 73us/step - loss: 0.0737 - acc: 0.9779\n",
      "Epoch 169/200\n",
      "28039/28039 [==============================] - 2s 72us/step - loss: 0.0661 - acc: 0.9797\n",
      "Epoch 170/200\n",
      "28039/28039 [==============================] - 2s 73us/step - loss: 0.0696 - acc: 0.9785\n",
      "Epoch 171/200\n",
      "28039/28039 [==============================] - 2s 72us/step - loss: 0.0624 - acc: 0.9797\n",
      "Epoch 172/200\n",
      "28039/28039 [==============================] - 2s 72us/step - loss: 0.0647 - acc: 0.9800\n",
      "Epoch 173/200\n",
      "28039/28039 [==============================] - 2s 72us/step - loss: 0.0645 - acc: 0.9808\n",
      "Epoch 174/200\n",
      "28039/28039 [==============================] - 2s 72us/step - loss: 0.0670 - acc: 0.9801\n",
      "Epoch 175/200\n",
      "28039/28039 [==============================] - 2s 72us/step - loss: 0.0608 - acc: 0.9815\n",
      "Epoch 176/200\n",
      "28039/28039 [==============================] - 2s 72us/step - loss: 0.0626 - acc: 0.9812\n",
      "Epoch 177/200\n",
      "28039/28039 [==============================] - 2s 73us/step - loss: 0.0676 - acc: 0.9797\n",
      "Epoch 178/200\n",
      "28039/28039 [==============================] - 2s 74us/step - loss: 0.0692 - acc: 0.9786\n",
      "Epoch 179/200\n",
      "28039/28039 [==============================] - 2s 72us/step - loss: 0.0587 - acc: 0.9822\n",
      "Epoch 180/200\n",
      "28039/28039 [==============================] - 2s 72us/step - loss: 0.0653 - acc: 0.9806\n",
      "Epoch 181/200\n",
      "28039/28039 [==============================] - 2s 72us/step - loss: 0.0645 - acc: 0.9810\n",
      "Epoch 182/200\n",
      "28039/28039 [==============================] - 2s 72us/step - loss: 0.0636 - acc: 0.9809\n",
      "Epoch 183/200\n",
      "28039/28039 [==============================] - 2s 72us/step - loss: 0.0635 - acc: 0.9808\n",
      "Epoch 184/200\n",
      "28039/28039 [==============================] - 2s 72us/step - loss: 0.0630 - acc: 0.9815\n",
      "Epoch 185/200\n",
      "28039/28039 [==============================] - 2s 73us/step - loss: 0.0649 - acc: 0.9807\n",
      "Epoch 186/200\n",
      "28039/28039 [==============================] - 2s 72us/step - loss: 0.0632 - acc: 0.9817\n",
      "Epoch 187/200\n",
      "28039/28039 [==============================] - 2s 72us/step - loss: 0.0616 - acc: 0.9819\n",
      "Epoch 188/200\n",
      "28039/28039 [==============================] - 2s 71us/step - loss: 0.0601 - acc: 0.9825\n",
      "Epoch 189/200\n",
      "28039/28039 [==============================] - 2s 71us/step - loss: 0.0669 - acc: 0.9794\n",
      "Epoch 190/200\n",
      "28039/28039 [==============================] - 2s 71us/step - loss: 0.0606 - acc: 0.9824\n",
      "Epoch 191/200\n",
      "28039/28039 [==============================] - 2s 71us/step - loss: 0.0637 - acc: 0.9818\n",
      "Epoch 192/200\n",
      "28039/28039 [==============================] - 2s 71us/step - loss: 0.0611 - acc: 0.9817\n",
      "Epoch 193/200\n",
      "28039/28039 [==============================] - 2s 71us/step - loss: 0.0570 - acc: 0.9830\n",
      "Epoch 194/200\n",
      "28039/28039 [==============================] - 2s 71us/step - loss: 0.0568 - acc: 0.9826\n",
      "Epoch 195/200\n",
      "28039/28039 [==============================] - 2s 71us/step - loss: 0.0598 - acc: 0.9834\n",
      "Epoch 196/200\n",
      "28039/28039 [==============================] - 2s 71us/step - loss: 0.0571 - acc: 0.9836\n",
      "Epoch 197/200\n",
      "28039/28039 [==============================] - 2s 71us/step - loss: 0.0580 - acc: 0.9823\n",
      "Epoch 198/200\n",
      "28039/28039 [==============================] - 2s 71us/step - loss: 0.0567 - acc: 0.9829\n",
      "Epoch 199/200\n",
      "28039/28039 [==============================] - 2s 71us/step - loss: 0.0550 - acc: 0.9838\n",
      "Epoch 200/200\n",
      "28039/28039 [==============================] - 2s 71us/step - loss: 0.0577 - acc: 0.9832\n",
      "12017/12017 [==============================] - 1s 103us/step\n",
      "Test loss: 0.0414465740374\n",
      "Test accuracy: 0.989181992178\n"
     ]
    }
   ],
   "source": [
    "#Run the model\n",
    "history = model.fit(X_tr, y_train_mlp,\n",
    "                   epochs=200,\n",
    "                  verbose=1,\n",
    "                   batch_size=1250)\n",
    "\n",
    "#Evaluate the model\n",
    "score = model.evaluate(X_te, y_test_mlp, verbose=1)\n",
    "\n",
    "#Print results\n",
    "print('Test loss:', score[0])\n",
    "print('Test accuracy:', score[1])"
   ]
  },
  {
   "cell_type": "markdown",
   "metadata": {},
   "source": [
    "Although the accuracy obtained by this model is higher than the one achieved by any other model, the logistic regression and support vector machine models are the preferred ones as candidates for production. The neural network, although it gives a higher accuracy does not allow to distinguish the explanatory power of each of the features that are used. This is not required during image recognition but is necessary for the purpose of this exercise. Furthermore, the model is far more complex than the previous one and requires more computational power once it is in production. For all this reasons although the accuracy is higher than in the previous cases, the logistic regression and support vector machine models are still the best candidates for production."
   ]
  },
  {
   "cell_type": "markdown",
   "metadata": {},
   "source": [
    "### 6. Unsupervised Clustering ####"
   ]
  },
  {
   "cell_type": "markdown",
   "metadata": {},
   "source": [
    "To have a better understanding of the potential clients and relationship between them unsupervised clustering will be carried out. In this case Affinity propagation, Meanshift, Spectral and Kmeans clustering will be compared and one technique will be chosen to cluster the customers and extract meaningful information for the marketing team. Once the clustering is selected, the number of clusters will be selected and the information will be extracted. As in the case of supervised learning the PCA components were used, in this case the dataset is built up to include the information that is going to be analyzed."
   ]
  },
  {
   "cell_type": "code",
   "execution_count": 39,
   "metadata": {},
   "outputs": [
    {
     "data": {
      "text/html": [
       "<div>\n",
       "<style>\n",
       "    .dataframe thead tr:only-child th {\n",
       "        text-align: right;\n",
       "    }\n",
       "\n",
       "    .dataframe thead th {\n",
       "        text-align: left;\n",
       "    }\n",
       "\n",
       "    .dataframe tbody tr th {\n",
       "        vertical-align: top;\n",
       "    }\n",
       "</style>\n",
       "<table border=\"1\" class=\"dataframe\">\n",
       "  <thead>\n",
       "    <tr style=\"text-align: right;\">\n",
       "      <th></th>\n",
       "      <th>is_active</th>\n",
       "      <th>gender</th>\n",
       "      <th>age</th>\n",
       "      <th>group</th>\n",
       "      <th>label_id_6</th>\n",
       "      <th>label_id_8</th>\n",
       "      <th>label_id_10</th>\n",
       "      <th>label_id_11</th>\n",
       "      <th>label_id_12</th>\n",
       "      <th>label_id_13</th>\n",
       "      <th>...</th>\n",
       "      <th>phone_brand_samsung</th>\n",
       "      <th>phone_brand_vivo</th>\n",
       "      <th>phone_brand_weimi</th>\n",
       "      <th>phone_brand_weitu</th>\n",
       "      <th>phone_brand_wpf</th>\n",
       "      <th>phone_brand_xiangmi</th>\n",
       "      <th>phone_brand_ximi</th>\n",
       "      <th>phone_brand_yougo</th>\n",
       "      <th>phone_brand_youmi</th>\n",
       "      <th>phone_brand_yuxin</th>\n",
       "    </tr>\n",
       "  </thead>\n",
       "  <tbody>\n",
       "    <tr>\n",
       "      <th>0</th>\n",
       "      <td>1</td>\n",
       "      <td>M</td>\n",
       "      <td>19.0</td>\n",
       "      <td>M22-</td>\n",
       "      <td>0</td>\n",
       "      <td>0</td>\n",
       "      <td>0</td>\n",
       "      <td>0</td>\n",
       "      <td>0</td>\n",
       "      <td>0</td>\n",
       "      <td>...</td>\n",
       "      <td>0</td>\n",
       "      <td>0</td>\n",
       "      <td>0</td>\n",
       "      <td>0</td>\n",
       "      <td>0</td>\n",
       "      <td>0</td>\n",
       "      <td>0</td>\n",
       "      <td>0</td>\n",
       "      <td>0</td>\n",
       "      <td>0</td>\n",
       "    </tr>\n",
       "    <tr>\n",
       "      <th>1</th>\n",
       "      <td>1</td>\n",
       "      <td>M</td>\n",
       "      <td>60.0</td>\n",
       "      <td>M39+</td>\n",
       "      <td>0</td>\n",
       "      <td>0</td>\n",
       "      <td>0</td>\n",
       "      <td>0</td>\n",
       "      <td>0</td>\n",
       "      <td>0</td>\n",
       "      <td>...</td>\n",
       "      <td>0</td>\n",
       "      <td>0</td>\n",
       "      <td>0</td>\n",
       "      <td>0</td>\n",
       "      <td>0</td>\n",
       "      <td>0</td>\n",
       "      <td>0</td>\n",
       "      <td>0</td>\n",
       "      <td>0</td>\n",
       "      <td>0</td>\n",
       "    </tr>\n",
       "    <tr>\n",
       "      <th>2</th>\n",
       "      <td>1</td>\n",
       "      <td>M</td>\n",
       "      <td>28.0</td>\n",
       "      <td>M27-28</td>\n",
       "      <td>0</td>\n",
       "      <td>0</td>\n",
       "      <td>0</td>\n",
       "      <td>0</td>\n",
       "      <td>0</td>\n",
       "      <td>0</td>\n",
       "      <td>...</td>\n",
       "      <td>0</td>\n",
       "      <td>0</td>\n",
       "      <td>0</td>\n",
       "      <td>0</td>\n",
       "      <td>0</td>\n",
       "      <td>0</td>\n",
       "      <td>0</td>\n",
       "      <td>0</td>\n",
       "      <td>0</td>\n",
       "      <td>0</td>\n",
       "    </tr>\n",
       "    <tr>\n",
       "      <th>3</th>\n",
       "      <td>1</td>\n",
       "      <td>M</td>\n",
       "      <td>26.0</td>\n",
       "      <td>M23-26</td>\n",
       "      <td>0</td>\n",
       "      <td>0</td>\n",
       "      <td>0</td>\n",
       "      <td>0</td>\n",
       "      <td>0</td>\n",
       "      <td>0</td>\n",
       "      <td>...</td>\n",
       "      <td>0</td>\n",
       "      <td>0</td>\n",
       "      <td>0</td>\n",
       "      <td>0</td>\n",
       "      <td>0</td>\n",
       "      <td>0</td>\n",
       "      <td>0</td>\n",
       "      <td>0</td>\n",
       "      <td>0</td>\n",
       "      <td>0</td>\n",
       "    </tr>\n",
       "    <tr>\n",
       "      <th>4</th>\n",
       "      <td>1</td>\n",
       "      <td>M</td>\n",
       "      <td>22.0</td>\n",
       "      <td>M22-</td>\n",
       "      <td>0</td>\n",
       "      <td>0</td>\n",
       "      <td>0</td>\n",
       "      <td>0</td>\n",
       "      <td>0</td>\n",
       "      <td>0</td>\n",
       "      <td>...</td>\n",
       "      <td>0</td>\n",
       "      <td>0</td>\n",
       "      <td>0</td>\n",
       "      <td>0</td>\n",
       "      <td>0</td>\n",
       "      <td>0</td>\n",
       "      <td>0</td>\n",
       "      <td>0</td>\n",
       "      <td>0</td>\n",
       "      <td>0</td>\n",
       "    </tr>\n",
       "  </tbody>\n",
       "</table>\n",
       "<p>5 rows × 284 columns</p>\n",
       "</div>"
      ],
      "text/plain": [
       "   is_active gender   age   group  label_id_6  label_id_8  label_id_10  \\\n",
       "0          1      M  19.0    M22-           0           0            0   \n",
       "1          1      M  60.0    M39+           0           0            0   \n",
       "2          1      M  28.0  M27-28           0           0            0   \n",
       "3          1      M  26.0  M23-26           0           0            0   \n",
       "4          1      M  22.0    M22-           0           0            0   \n",
       "\n",
       "   label_id_11  label_id_12  label_id_13        ...          \\\n",
       "0            0            0            0        ...           \n",
       "1            0            0            0        ...           \n",
       "2            0            0            0        ...           \n",
       "3            0            0            0        ...           \n",
       "4            0            0            0        ...           \n",
       "\n",
       "   phone_brand_samsung  phone_brand_vivo  phone_brand_weimi  \\\n",
       "0                    0                 0                  0   \n",
       "1                    0                 0                  0   \n",
       "2                    0                 0                  0   \n",
       "3                    0                 0                  0   \n",
       "4                    0                 0                  0   \n",
       "\n",
       "   phone_brand_weitu  phone_brand_wpf  phone_brand_xiangmi  phone_brand_ximi  \\\n",
       "0                  0                0                    0                 0   \n",
       "1                  0                0                    0                 0   \n",
       "2                  0                0                    0                 0   \n",
       "3                  0                0                    0                 0   \n",
       "4                  0                0                    0                 0   \n",
       "\n",
       "   phone_brand_yougo  phone_brand_youmi  phone_brand_yuxin  \n",
       "0                  0                  0                  0  \n",
       "1                  0                  0                  0  \n",
       "2                  0                  0                  0  \n",
       "3                  0                  0                  0  \n",
       "4                  0                  0                  0  \n",
       "\n",
       "[5 rows x 284 columns]"
      ]
     },
     "execution_count": 39,
     "metadata": {},
     "output_type": "execute_result"
    }
   ],
   "source": [
    "#Delete column with device_id\n",
    "uns_final_dataset = final_dataset.drop('device_id', axis = 1)\n",
    "\n",
    "#Delete columns that are all zeros\n",
    "uns_final_dataset = uns_final_dataset.drop(uns_final_dataset.columns[(uns_final_dataset == 0).all()], axis = 1)\n",
    "\n",
    "#Print the first five rows of the new dataset\n",
    "uns_final_dataset.head()"
   ]
  },
  {
   "cell_type": "markdown",
   "metadata": {},
   "source": [
    "The dataset contains information that will not be normalized and that will be used afterwards such as gender, age and group (age range)."
   ]
  },
  {
   "cell_type": "code",
   "execution_count": 40,
   "metadata": {},
   "outputs": [
    {
     "name": "stdout",
     "output_type": "stream",
     "text": [
      "<class 'pandas.core.frame.DataFrame'>\n",
      "RangeIndex: 23290 entries, 0 to 23289\n",
      "Columns: 281 entries, is_active to phone_brand_yuxin\n",
      "dtypes: int64(1), uint8(280)\n",
      "memory usage: 6.4 MB\n"
     ]
    }
   ],
   "source": [
    "#Drop gender, age and group for the analysis and obtain the information describing the dataset\n",
    "uns_final_dataset_clean= uns_final_dataset.drop(['gender','age','group'],axis=1)\n",
    "\n",
    "#Extract information\n",
    "uns_final_dataset_clean.info()"
   ]
  },
  {
   "cell_type": "markdown",
   "metadata": {},
   "source": [
    "To work with the different clustering techniques a copy of the dataset will be done and the information will be normalized. This will improve the performance of the different clustering techniques."
   ]
  },
  {
   "cell_type": "code",
   "execution_count": 41,
   "metadata": {},
   "outputs": [],
   "source": [
    "#Make a copy of DF\n",
    "X_tr = uns_final_dataset_clean\n",
    "\n",
    "#Standardize\n",
    "X_tr_std = normalize(X_tr)"
   ]
  },
  {
   "cell_type": "markdown",
   "metadata": {},
   "source": [
    "A dataframe containing the information about the groups, age and gender is built and the groups are codified into integers. An independent variable is created containing this information to check the accuracy of the clustering technique that is selected."
   ]
  },
  {
   "cell_type": "code",
   "execution_count": 43,
   "metadata": {},
   "outputs": [
    {
     "name": "stderr",
     "output_type": "stream",
     "text": [
      "/home/borjaregueral/anaconda3/lib/python3.6/site-packages/ipykernel_launcher.py:6: SettingWithCopyWarning: \n",
      "A value is trying to be set on a copy of a slice from a DataFrame.\n",
      "Try using .loc[row_indexer,col_indexer] = value instead\n",
      "\n",
      "See the caveats in the documentation: http://pandas.pydata.org/pandas-docs/stable/indexing.html#indexing-view-versus-copy\n",
      "  \n"
     ]
    }
   ],
   "source": [
    "#Dataframe containing information about the group, age and gender\n",
    "uns_final_dataset_additional_information =  final_dataset[['group','age','gender']]\n",
    "\n",
    "#Codify the groups into integers\n",
    "uns_final_dataset_additional_information['group'] = uns_final_dataset_additional_information['group'].map({'M39+' :0,'M32-38':1, 'M29-31':2, 'M27-28':3, 'M23-26':4,'M22-': 5,\n",
    "                                           'F43+' :6,'F33-42':7, 'F29-32':8, 'F27-28':9, 'F24-26':10, 'F23-':11 })\n",
    "\n",
    "#Build the indepnedent bariable to check the classfying accuracy of the final clustering technique\n",
    "y = uns_final_dataset_additional_information['group']"
   ]
  },
  {
   "cell_type": "markdown",
   "metadata": {},
   "source": [
    "Once the affinity propagation technique has been tested, the number of clusters is excessive for the data points available reason why this technique is discarded."
   ]
  },
  {
   "cell_type": "code",
   "execution_count": 51,
   "metadata": {},
   "outputs": [
    {
     "name": "stdout",
     "output_type": "stream",
     "text": [
      "Estimated number of clusters: 14733\n"
     ]
    }
   ],
   "source": [
    "# Declare the model and fit it.\n",
    "af = AffinityPropagation().fit(X_tr_std)\n",
    "\n",
    "# Pull the number of clusters and cluster assignments for each data point.\n",
    "cluster_centers_indices = af.cluster_centers_indices_\n",
    "n_clusters_ = len(cluster_centers_indices)\n",
    "labels = af.labels_\n",
    "\n",
    "print('Estimated number of clusters: {}'.format(n_clusters_))"
   ]
  },
  {
   "cell_type": "markdown",
   "metadata": {},
   "source": [
    "Once the affinity propagation technique is discarded, the meanshift technique is tested. In this case different bandwidths have been tested to see the kernel density surfaces that better suits the data. Higher bandwidths create a smoother kernel density surface, leading to fewer peaks because smaller hills are smoothed out, whereas lower bandwidths lead to a surface with more peaks."
   ]
  },
  {
   "cell_type": "code",
   "execution_count": 54,
   "metadata": {},
   "outputs": [
    {
     "name": "stdout",
     "output_type": "stream",
     "text": [
      "Bandwidth: 0.1\n",
      "Number of estimated clusters: 462\n",
      "Bandwidth: 0.19\n",
      "Number of estimated clusters: 2\n",
      "Bandwidth: 0.28\n",
      "Number of estimated clusters: 1\n",
      "Bandwidth: 0.37\n",
      "Number of estimated clusters: 1\n",
      "Bandwidth: 0.46\n",
      "Number of estimated clusters: 1\n",
      "Bandwidth: 0.55\n",
      "Number of estimated clusters: 1\n",
      "Bandwidth: 0.64\n",
      "Number of estimated clusters: 1\n",
      "Bandwidth: 0.73\n",
      "Number of estimated clusters: 1\n",
      "Bandwidth: 0.82\n",
      "Number of estimated clusters: 1\n",
      "Bandwidth: 0.91\n",
      "Number of estimated clusters: 1\n"
     ]
    }
   ],
   "source": [
    "# Here we set the bandwidth. This function automatically derives a bandwidth\n",
    "# number based on an inspection of the distances among points in the data.\n",
    "for quantile in np.linspace(0.1,1,10,endpoint=False):\n",
    "\n",
    "    bandwidth = estimate_bandwidth(X_tr_std, quantile=quantile, n_samples=5000)\n",
    "\n",
    "    # Declare and fit the model.\n",
    "    ms = MeanShift(bandwidth=bandwidth, bin_seeding=True)\n",
    "    ms.fit(X_tr_std)\n",
    "\n",
    "    # Extract cluster assignments for each data point.\n",
    "    labels = ms.labels_\n",
    "\n",
    "    # Coordinates of the cluster centers.\n",
    "    cluster_centers = ms.cluster_centers_\n",
    "\n",
    "    # Count clusters.\n",
    "    n_clusters_ = len(np.unique(labels))\n",
    "    print('Bandwidth:', quantile)\n",
    "    print(\"Number of estimated clusters: {}\".format(n_clusters_))"
   ]
  },
  {
   "cell_type": "markdown",
   "metadata": {},
   "source": [
    "The silhouette score is compared between spectral clustering and kmeans. After checking and discarding the Affinity clustering technique due to the number of clusters obtained, both spectral and kmeans are compared to select the best one from a clustering perspective. The number of clusters varies from 2 to 11 (as initially preset) to see which one offers better clusters based on the silhouette score."
   ]
  },
  {
   "cell_type": "code",
   "execution_count": 70,
   "metadata": {},
   "outputs": [
    {
     "name": "stdout",
     "output_type": "stream",
     "text": [
      "For n_clusters = 2 av. sil_score for Spec. clust is : 0.123587111379 av. sil_score for kmeans is : 0.139053657351\n",
      "For n_clusters = 3 av. sil_score for Spec. clust is : 0.157408136966 av. sil_score for kmeans is : 0.159959568815\n",
      "For n_clusters = 4 av. sil_score for Spec. clust is : 0.193864701286 av. sil_score for kmeans is : 0.185480175919\n",
      "For n_clusters = 5 av. sil_score for Spec. clust is : 0.175064571329 av. sil_score for kmeans is : 0.208544382401\n",
      "For n_clusters = 6 av. sil_score for Spec. clust is : 0.185692741082 av. sil_score for kmeans is : 0.214045760688\n",
      "For n_clusters = 7 av. sil_score for Spec. clust is : 0.191370614984 av. sil_score for kmeans is : 0.226608021102\n",
      "For n_clusters = 8 av. sil_score for Spec. clust is : 0.191696279548 av. sil_score for kmeans is : 0.203128087182\n",
      "For n_clusters = 9 av. sil_score for Spec. clust is : 0.222309756068 av. sil_score for kmeans is : 0.216602580169\n",
      "For n_clusters = 10 av. sil_score for Spec. clust is : 0.251423770673 av. sil_score for kmeans is : 0.245026999826\n",
      "For n_clusters = 11 av. sil_score for Spec. clust is : 0.275149133882 av. sil_score for kmeans is : 0.258263106911\n"
     ]
    }
   ],
   "source": [
    "#Compare from a silhouette_score perspective kmeans against Spectral Clustering\n",
    "range_n_clusters = np.arange(10)+2\n",
    "\n",
    "for n_clusters in range_n_clusters:\n",
    "# The silhouette_score gives the average value for all the samples.\n",
    "    # This gives a perspective into the density and separation of the formed\n",
    "    # clusters\n",
    "\n",
    "# Initialize the clusterer with n_clusters value and a random generator\n",
    "    # seed of 10 for reproducibility.\n",
    "    spec_clust = SpectralClustering(n_clusters=n_clusters)\n",
    "    cluster_labels1 = spec_clust.fit_predict(X_tr_std)    \n",
    "    silhouette_avg1 = silhouette_score(X_tr_std, cluster_labels1)\n",
    "    \n",
    "    kmeans = KMeans(n_clusters=n_clusters, init='k-means++', n_init=10).fit(X_tr_std)\n",
    "    cluster_labels2 = kmeans.fit_predict(X_tr_std)    \n",
    "    silhouette_avg2 = silhouette_score(X_tr_std, cluster_labels2)\n",
    "    \n",
    "    print(\"For n_clusters =\", n_clusters,\n",
    "          \"av. sil_score for Spec. clust is :\", silhouette_avg1,\n",
    "         \"av. sil_score for kmeans is :\",silhouette_avg2 )"
   ]
  },
  {
   "cell_type": "markdown",
   "metadata": {},
   "source": [
    "For lower numbers of clusters kmeans present a higher silhouette score while for big number of clusters close to the preset number of groups spectral clustering performs better. Further analysis will be dome from a kmeans clustering perspective to see the best number of clusters for this clustering technique following the elbow technique."
   ]
  },
  {
   "cell_type": "code",
   "execution_count": 46,
   "metadata": {},
   "outputs": [
    {
     "data": {
      "image/png": "[encoded data removed]",
      "text/plain": [
       "<matplotlib.figure.Figure at 0x7ff30aa484e0>"
      ]
     },
     "metadata": {},
     "output_type": "display_data"
    }
   ],
   "source": [
    "# In order to find the optimal number of K we use elbow method.\n",
    "#Iterate on the number of clusters\n",
    "cluster_error = []\n",
    "range_n_clusters = range(2,12, 1)\n",
    "\n",
    "for k in range_n_clusters:\n",
    "    kmeanModel = KMeans(n_clusters=k, init='k-means++', n_init=11)\n",
    "    kmeanModel.fit(X_tr_std)\n",
    "    cluster_error.append(kmeanModel.inertia_)\n",
    "\n",
    "#Build DataFrame\n",
    "clusters_df = pd.DataFrame({ \"num_clusters\": range_n_clusters , 'cluster_error': cluster_error })\n",
    "\n",
    "# Plot the elbow Plot\n",
    "plt.figure(figsize=(10,5))\n",
    "plt.plot(clusters_df.num_clusters, clusters_df.cluster_error, marker = \"o\")\n",
    "plt.xlabel('k')\n",
    "plt.ylabel('Cluster Error')\n",
    "plt.title('The Elbow Method')\n",
    "plt.show()"
   ]
  },
  {
   "cell_type": "markdown",
   "metadata": {},
   "source": [
    "The best number of clusters from both the silhouette and the elbow technique perspective is six that will be the number of clusters used following this technique to cluster the customer base. The data will be clustered using kmeans and 6 clusters to get insights about the customer base. In this case, five, six and seven clusters have been tried being 6 the most relevant one."
   ]
  },
  {
   "cell_type": "code",
   "execution_count": 73,
   "metadata": {},
   "outputs": [],
   "source": [
    "#Cluster the data\n",
    "\n",
    "#Number of clusters\n",
    "num_clusters=6\n",
    "\n",
    "#Cluster the information\n",
    "kmeans = KMeans(n_clusters=num_clusters, init='k-means++', n_init=10).fit(X_tr_std)\n",
    "labels = kmeans.labels_\n",
    "\n",
    "#Glue back to original data\n",
    "X_tr['clusters'] = labels\n",
    "X_tr['gender'] = uns_final_dataset.gender\n",
    "X_tr['age'] = uns_final_dataset.age\n",
    "X_tr['group'] = uns_final_dataset.group"
   ]
  },
  {
   "cell_type": "markdown",
   "metadata": {},
   "source": [
    "The predictive capacity of kmeans clustering with six clusters will be checked. In this case the predictive performance is very low 15% compared to the one obtained from the supervised models. Hence its use as a predictive tool is discarded for classification purposes."
   ]
  },
  {
   "cell_type": "code",
   "execution_count": 74,
   "metadata": {},
   "outputs": [
    {
     "name": "stdout",
     "output_type": "stream",
     "text": [
      "0.148905109489\n"
     ]
    }
   ],
   "source": [
    "clusters = kmeans.fit_predict(X_tr_std)\n",
    "# Permute the labels\n",
    "labels = np.zeros_like(clusters)\n",
    "for i in range(num_clusters):\n",
    "    mask = (clusters == i)\n",
    "    labels[mask] = mode(y[mask])[0]\n",
    "\n",
    "# Compute the accuracy\n",
    "print(accuracy_score(y, labels))"
   ]
  },
  {
   "cell_type": "markdown",
   "metadata": {},
   "source": [
    "The data is aggregated by clusters and gender to inspect the average age per cluster. In all clusters the average age is the same standard deviation so it is not representative of the groups"
   ]
  },
  {
   "cell_type": "code",
   "execution_count": 76,
   "metadata": {},
   "outputs": [
    {
     "name": "stdout",
     "output_type": "stream",
     "text": [
      "                      mean        std\n",
      "                       age        age\n",
      "clusters gender                      \n",
      "0        F       32.672855  10.781340\n",
      "         M       32.184807   9.820802\n",
      "1        F       33.658558  11.057825\n",
      "         M       32.017841   9.501013\n",
      "2        F       29.039909   8.840649\n",
      "         M       29.472119   8.117748\n",
      "3        F       34.412256  10.319291\n",
      "         M       33.790176   9.582017\n",
      "4        F       32.073540   9.964819\n",
      "         M       31.114379   9.312043\n",
      "5        F       32.718828  10.566830\n",
      "         M       31.485859   9.206355\n"
     ]
    }
   ],
   "source": [
    "#Determine pivot table\n",
    "X_age = X_tr.pivot_table(values='age', index=[\"clusters\",\"gender\"], aggfunc=[np.mean,np.std])\n",
    "\n",
    "#Print the age distribution\n",
    "print(X_age)"
   ]
  },
  {
   "cell_type": "markdown",
   "metadata": {},
   "source": [
    "Information regarding the apps that people use is obtained from the clusters. It can be seen that three apps are the most used ones across clusters App 549, 706 and 548 that according to the documentation equate to Property Industry 1.0, Customized 1 and Industry tag. In the first and third cases they are construction inspection and tagging apps. The second case seems to be an app that is preinstalled in the phone. This might indicate the kind of population we are addressing although the calls are done from all around China. It could be the case that the sample is representative of a specific kind of population and the data has already being segmented reason why the average age in all clusters is nearly the same and around 30 years."
   ]
  },
  {
   "cell_type": "code",
   "execution_count": 77,
   "metadata": {
    "scrolled": true
   },
   "outputs": [
    {
     "name": "stdout",
     "output_type": "stream",
     "text": [
      "clusters  gender\n",
      "0         F         label_id_548\n",
      "          M         label_id_548\n",
      "1         F         label_id_548\n",
      "          M         label_id_548\n",
      "2         F         label_id_706\n",
      "          M         label_id_706\n",
      "3         F         label_id_713\n",
      "          M         label_id_713\n",
      "4         F         label_id_549\n",
      "          M         label_id_549\n",
      "5         F         label_id_549\n",
      "          M         label_id_549\n",
      "dtype: object\n",
      "                 label_id_10  label_id_100  label_id_1005  label_id_1006  \\\n",
      "clusters gender                                                            \n",
      "0        F               0.0           1.0            4.0            0.0   \n",
      "         M               1.0           0.0            7.0            2.0   \n",
      "1        F               0.0           1.0            1.0            0.0   \n",
      "         M               0.0           1.0            3.0            0.0   \n",
      "2        F               0.0           0.0            0.0            0.0   \n",
      "         M               0.0           0.0            0.0            0.0   \n",
      "3        F               0.0           0.0            1.0            1.0   \n",
      "         M               0.0           0.0            4.0            0.0   \n",
      "4        F               0.0           0.0            0.0            0.0   \n",
      "         M               0.0           0.0            0.0            0.0   \n",
      "5        F               0.0           0.0            0.0            0.0   \n",
      "         M               0.0           0.0            0.0            0.0   \n",
      "\n",
      "                 label_id_1007  label_id_1008  label_id_1012  label_id_1013  \\\n",
      "clusters gender                                                               \n",
      "0        F                 1.0            1.0          114.0            0.0   \n",
      "         M                 8.0            1.0          261.0            2.0   \n",
      "1        F                 1.0            0.0           79.0            0.0   \n",
      "         M                 4.0            0.0          172.0            0.0   \n",
      "2        F                 0.0            0.0           20.0            0.0   \n",
      "         M                 0.0            0.0           31.0            0.0   \n",
      "3        F                 1.0            0.0           77.0            0.0   \n",
      "         M                 2.0            2.0          190.0            1.0   \n",
      "4        F                 0.0            0.0            0.0            0.0   \n",
      "         M                 0.0            0.0            0.0            0.0   \n",
      "5        F                 0.0            0.0            0.0            0.0   \n",
      "         M                 0.0            0.0            0.0            0.0   \n",
      "\n",
      "                 label_id_1014  label_id_1015      ...       label_id_867  \\\n",
      "clusters gender                                    ...                      \n",
      "0        F                 4.0            0.0      ...                0.0   \n",
      "         M                11.0            0.0      ...                2.0   \n",
      "1        F                 1.0            0.0      ...                0.0   \n",
      "         M                 5.0            2.0      ...                1.0   \n",
      "2        F                 0.0            0.0      ...                0.0   \n",
      "         M                 0.0            0.0      ...                0.0   \n",
      "3        F                 0.0            0.0      ...                0.0   \n",
      "         M                 7.0            1.0      ...                0.0   \n",
      "4        F                 0.0            0.0      ...                0.0   \n",
      "         M                 0.0            0.0      ...                0.0   \n",
      "5        F                 0.0            0.0      ...                0.0   \n",
      "         M                 0.0            0.0      ...                0.0   \n",
      "\n",
      "                 label_id_870  label_id_871  label_id_872  label_id_873  \\\n",
      "clusters gender                                                           \n",
      "0        F               15.0           1.0           0.0           2.0   \n",
      "         M               37.0           2.0           1.0           0.0   \n",
      "1        F                6.0           0.0           0.0           0.0   \n",
      "         M               10.0           0.0           1.0           1.0   \n",
      "2        F                2.0           0.0           0.0           0.0   \n",
      "         M                0.0           0.0           0.0           0.0   \n",
      "3        F                7.0           0.0           0.0           0.0   \n",
      "         M               19.0           1.0           0.0           1.0   \n",
      "4        F                0.0           0.0           0.0           0.0   \n",
      "         M                0.0           0.0           0.0           0.0   \n",
      "5        F                0.0           0.0           0.0           0.0   \n",
      "         M                0.0           0.0           0.0           0.0   \n",
      "\n",
      "                 label_id_874  label_id_935  label_id_956  label_id_959  \\\n",
      "clusters gender                                                           \n",
      "0        F                0.0           1.0           0.0          30.0   \n",
      "         M                2.0           0.0           0.0          65.0   \n",
      "1        F                0.0           0.0           0.0          24.0   \n",
      "         M                0.0           0.0           1.0          42.0   \n",
      "2        F                0.0           0.0           0.0           1.0   \n",
      "         M                0.0           0.0           0.0           7.0   \n",
      "3        F                0.0           0.0           0.0          20.0   \n",
      "         M                0.0           0.0           0.0          55.0   \n",
      "4        F                0.0           0.0           0.0           0.0   \n",
      "         M                0.0           0.0           0.0           0.0   \n",
      "5        F                0.0           0.0           0.0           0.0   \n",
      "         M                0.0           0.0           0.0           0.0   \n",
      "\n",
      "                 label_id_969  \n",
      "clusters gender                \n",
      "0        F                0.0  \n",
      "         M                1.0  \n",
      "1        F                0.0  \n",
      "         M                0.0  \n",
      "2        F                0.0  \n",
      "         M                0.0  \n",
      "3        F                0.0  \n",
      "         M                0.0  \n",
      "4        F                0.0  \n",
      "         M                0.0  \n",
      "5        F                0.0  \n",
      "         M                0.0  \n",
      "\n",
      "[12 rows x 191 columns]\n"
     ]
    }
   ],
   "source": [
    "#Show only columns containing apps\n",
    "filter_col = [col for col in X_tr if col.startswith('label_id')]\n",
    "\n",
    "#Determine pivot table\n",
    "X_apps = X_tr.pivot_table(values=filter_col, index=[\"clusters\",\"gender\"], aggfunc=np.sum)\n",
    "\n",
    "#Print the apps that are more relevant\n",
    "print(X_apps.idxmax(axis=1))\n",
    "\n",
    "#Show table\n",
    "print(X_apps)"
   ]
  },
  {
   "cell_type": "markdown",
   "metadata": {},
   "source": [
    "In this case and following the same clustering scheme, only information relative to the phone brands has been kept. It appears that for the population under analysis, Xiaomi, OPPO and Samsung are the most popular ones being Vivo more popular among the female than male and Meizu more popular among male compared to female."
   ]
  },
  {
   "cell_type": "code",
   "execution_count": 78,
   "metadata": {},
   "outputs": [
    {
     "name": "stdout",
     "output_type": "stream",
     "text": [
      "clusters  gender\n",
      "0         F         phone_brand_samsung\n",
      "          M         phone_brand_samsung\n",
      "1         F          phone_brand_Xiaomi\n",
      "          M          phone_brand_Xiaomi\n",
      "2         F            phone_brand_OPPO\n",
      "          M            phone_brand_OPPO\n",
      "3         F          phone_brand_Huawei\n",
      "          M          phone_brand_Huawei\n",
      "4         F          phone_brand_Xiaomi\n",
      "          M          phone_brand_Xiaomi\n",
      "5         F          phone_brand_Xiaomi\n",
      "          M          phone_brand_Xiaomi\n",
      "dtype: object\n",
      "                 phone_brand_Amazon  phone_brand_Bacardi  phone_brand_Bifer  \\\n",
      "clusters gender                                                               \n",
      "0        F                      0.0                  0.0                1.0   \n",
      "         M                      0.0                  1.0                7.0   \n",
      "1        F                      0.0                  0.0                0.0   \n",
      "         M                      0.0                  0.0                0.0   \n",
      "2        F                      0.0                  0.0                0.0   \n",
      "         M                      0.0                  0.0                0.0   \n",
      "3        F                      0.0                  0.0                0.0   \n",
      "         M                      0.0                  0.0                0.0   \n",
      "4        F                      1.0                  0.0                0.0   \n",
      "         M                      0.0                  0.0                1.0   \n",
      "5        F                      0.0                  0.0                0.0   \n",
      "         M                      0.0                  0.0                1.0   \n",
      "\n",
      "                 phone_brand_CUBE  phone_brand_Changhong  phone_brand_Cong  \\\n",
      "clusters gender                                                              \n",
      "0        F                    1.0                    0.0               2.0   \n",
      "         M                    5.0                    1.0               0.0   \n",
      "1        F                    0.0                    0.0               0.0   \n",
      "         M                    0.0                    0.0               0.0   \n",
      "2        F                    0.0                    0.0               0.0   \n",
      "         M                    0.0                    0.0               0.0   \n",
      "3        F                    0.0                    0.0               0.0   \n",
      "         M                    0.0                    0.0               0.0   \n",
      "4        F                    5.0                    0.0               0.0   \n",
      "         M                    3.0                    0.0               0.0   \n",
      "5        F                    1.0                    0.0               0.0   \n",
      "         M                    2.0                    0.0               0.0   \n",
      "\n",
      "                 phone_brand_Coolpad  phone_brand_Ctyon  phone_brand_Daq  \\\n",
      "clusters gender                                                            \n",
      "0        F                     145.0                0.0              0.0   \n",
      "         M                     313.0                1.0              2.0   \n",
      "1        F                       0.0                0.0              0.0   \n",
      "         M                       0.0                0.0              0.0   \n",
      "2        F                       0.0                0.0              0.0   \n",
      "         M                       0.0                0.0              0.0   \n",
      "3        F                       0.0                0.0              0.0   \n",
      "         M                       0.0                0.0              0.0   \n",
      "4        F                      73.0                0.0              0.0   \n",
      "         M                     157.0                0.0              0.0   \n",
      "5        F                      41.0                0.0              0.0   \n",
      "         M                     137.0                0.0              0.0   \n",
      "\n",
      "                 phone_brand_Gionee        ...          phone_brand_samsung  \\\n",
      "clusters gender                            ...                                \n",
      "0        F                     48.0        ...                        670.0   \n",
      "         M                    116.0        ...                       1181.0   \n",
      "1        F                      0.0        ...                          0.0   \n",
      "         M                      0.0        ...                          0.0   \n",
      "2        F                      0.0        ...                          0.0   \n",
      "         M                      0.0        ...                          0.0   \n",
      "3        F                      0.0        ...                          0.0   \n",
      "         M                      0.0        ...                          0.0   \n",
      "4        F                     25.0        ...                        358.0   \n",
      "         M                     34.0        ...                        515.0   \n",
      "5        F                     11.0        ...                        186.0   \n",
      "         M                     34.0        ...                        369.0   \n",
      "\n",
      "                 phone_brand_vivo  phone_brand_weimi  phone_brand_weitu  \\\n",
      "clusters gender                                                           \n",
      "0        F                  414.0                1.0                2.0   \n",
      "         M                  485.0                0.0                2.0   \n",
      "1        F                    0.0                0.0                0.0   \n",
      "         M                    0.0                0.0                0.0   \n",
      "2        F                    0.0                0.0                0.0   \n",
      "         M                    0.0                0.0                0.0   \n",
      "3        F                    0.0                0.0                0.0   \n",
      "         M                    0.0                0.0                0.0   \n",
      "4        F                  202.0                0.0                0.0   \n",
      "         M                  183.0                2.0                0.0   \n",
      "5        F                  162.0                0.0                0.0   \n",
      "         M                  203.0                0.0                1.0   \n",
      "\n",
      "                 phone_brand_wpf  phone_brand_xiangmi  phone_brand_ximi  \\\n",
      "clusters gender                                                           \n",
      "0        F                   1.0                  0.0               0.0   \n",
      "         M                   1.0                  1.0               1.0   \n",
      "1        F                   0.0                  0.0               0.0   \n",
      "         M                   0.0                  0.0               0.0   \n",
      "2        F                   0.0                  0.0               0.0   \n",
      "         M                   0.0                  0.0               0.0   \n",
      "3        F                   0.0                  0.0               0.0   \n",
      "         M                   0.0                  0.0               0.0   \n",
      "4        F                   0.0                  0.0               0.0   \n",
      "         M                   0.0                  0.0               0.0   \n",
      "5        F                   0.0                  0.0               0.0   \n",
      "         M                   0.0                  0.0               1.0   \n",
      "\n",
      "                 phone_brand_yougo  phone_brand_youmi  phone_brand_yuxin  \n",
      "clusters gender                                                           \n",
      "0        F                     0.0                1.0                8.0  \n",
      "         M                     3.0                4.0                9.0  \n",
      "1        F                     0.0                0.0                0.0  \n",
      "         M                     0.0                0.0                0.0  \n",
      "2        F                     0.0                0.0                0.0  \n",
      "         M                     0.0                0.0                0.0  \n",
      "3        F                     0.0                0.0                0.0  \n",
      "         M                     0.0                0.0                0.0  \n",
      "4        F                     0.0                2.0                4.0  \n",
      "         M                     1.0                1.0                9.0  \n",
      "5        F                     0.0                0.0                2.0  \n",
      "         M                     1.0                1.0                6.0  \n",
      "\n",
      "[12 rows x 89 columns]\n"
     ]
    }
   ],
   "source": [
    "#Filter columns that only have the brands\n",
    "filter_col = [col for col in X_tr if col.startswith('phone_brand')]\n",
    "\n",
    "#Determine pivot table\n",
    "X_phone_brand = X_tr.pivot_table(values=filter_col, index=[\"clusters\",'gender'], aggfunc=np.sum)\n",
    "\n",
    "#Print the brand that appears more times\n",
    "print(X_phone_brand.idxmax(axis=1))\n",
    "\n",
    "#Print the table for further analysis\n",
    "print(X_phone_brand)"
   ]
  },
  {
   "cell_type": "markdown",
   "metadata": {},
   "source": [
    "To be able to plot the different clusters PCA is run and the 2 principal components are extracted. In this case two are preferred to three components due to computational restrictions."
   ]
  },
  {
   "cell_type": "code",
   "execution_count": 88,
   "metadata": {},
   "outputs": [
    {
     "data": {
      "text/html": [
       "<div>\n",
       "<style>\n",
       "    .dataframe thead tr:only-child th {\n",
       "        text-align: right;\n",
       "    }\n",
       "\n",
       "    .dataframe thead th {\n",
       "        text-align: left;\n",
       "    }\n",
       "\n",
       "    .dataframe tbody tr th {\n",
       "        vertical-align: top;\n",
       "    }\n",
       "</style>\n",
       "<table border=\"1\" class=\"dataframe\">\n",
       "  <thead>\n",
       "    <tr style=\"text-align: right;\">\n",
       "      <th></th>\n",
       "      <th>PC1</th>\n",
       "      <th>PC2</th>\n",
       "      <th>clusters</th>\n",
       "      <th>groups</th>\n",
       "    </tr>\n",
       "  </thead>\n",
       "  <tbody>\n",
       "    <tr>\n",
       "      <th>0</th>\n",
       "      <td>0.002032</td>\n",
       "      <td>-0.542698</td>\n",
       "      <td>3</td>\n",
       "      <td>5</td>\n",
       "    </tr>\n",
       "    <tr>\n",
       "      <th>1</th>\n",
       "      <td>-0.553635</td>\n",
       "      <td>-0.272186</td>\n",
       "      <td>3</td>\n",
       "      <td>0</td>\n",
       "    </tr>\n",
       "    <tr>\n",
       "      <th>2</th>\n",
       "      <td>0.002032</td>\n",
       "      <td>-0.542698</td>\n",
       "      <td>3</td>\n",
       "      <td>3</td>\n",
       "    </tr>\n",
       "    <tr>\n",
       "      <th>3</th>\n",
       "      <td>-0.553635</td>\n",
       "      <td>-0.272186</td>\n",
       "      <td>3</td>\n",
       "      <td>4</td>\n",
       "    </tr>\n",
       "    <tr>\n",
       "      <th>4</th>\n",
       "      <td>-0.429297</td>\n",
       "      <td>-0.257279</td>\n",
       "      <td>3</td>\n",
       "      <td>5</td>\n",
       "    </tr>\n",
       "  </tbody>\n",
       "</table>\n",
       "</div>"
      ],
      "text/plain": [
       "        PC1       PC2  clusters  groups\n",
       "0  0.002032 -0.542698         3       5\n",
       "1 -0.553635 -0.272186         3       0\n",
       "2  0.002032 -0.542698         3       3\n",
       "3 -0.553635 -0.272186         3       4\n",
       "4 -0.429297 -0.257279         3       5"
      ]
     },
     "execution_count": 88,
     "metadata": {},
     "output_type": "execute_result"
    }
   ],
   "source": [
    "# mash the data down into 2 dimensions\n",
    "ndimensions = 2\n",
    "\n",
    "#Run PCA analysis and create 2 PC\n",
    "pca = PCA(n_components=ndimensions, random_state=123)\n",
    "pca.fit(X_tr_std)\n",
    "\n",
    "#Transform the PC to arrays to build a dataframe\n",
    "X_pca_array = pca.transform(X_tr_std)\n",
    "\n",
    "#Build the dataframe with PCA components\n",
    "X_pca = pd.DataFrame(X_pca_array, columns=['PC1','PC2']) # PC=principal component\n",
    "\n",
    "#Build a dataframe copying the result obtained form PCA analysis\n",
    "df_plot = X_pca.copy()\n",
    "\n",
    "#Add to the dataframe the labels of the clusters and the information relative to the groups\n",
    "df_plot['clusters'] = X_tr['clusters']\n",
    "df_plot['groups'] = y \n",
    "\n",
    "#Print head\n",
    "df_plot.head()"
   ]
  },
  {
   "cell_type": "markdown",
   "metadata": {},
   "source": [
    "Once the PC are defined, a plot function is defined with the characteristics of the plot that is going to be done."
   ]
  },
  {
   "cell_type": "code",
   "execution_count": 101,
   "metadata": {},
   "outputs": [],
   "source": [
    "#Plot the clusters using PCA components\n",
    "#Define the plotting function\n",
    "def plotData(df, groupby):\n",
    "    \"make a scatterplot of the first two principal components of the data, colored by the groupby field\"\n",
    "    \n",
    "    # make a figure with just one subplot specifying multiple subplots\n",
    "    fig, ax = plt.subplots(figsize = (7,7))\n",
    "\n",
    "    # color map\n",
    "    cmap = mpl.cm.get_cmap('prism')\n",
    "\n",
    "    #plot each cluster on the same graph.\n",
    "    for i, cluster in df.groupby(groupby):\n",
    "        cluster.plot(ax = ax, # need to pass this so all scatterplots are on same graph\n",
    "                     kind = 'scatter', \n",
    "                     x = 'PC1', y = 'PC2',\n",
    "                     color = cmap(i/(num_clusters-1)), # cmap maps a number to a color\n",
    "                     label = \"%s %i\" % (groupby, i), \n",
    "                     s=30) # dot size\n",
    "    ax.grid()\n",
    "    ax.axhline(0, color='black')\n",
    "    ax.axvline(0, color='black')\n",
    "    ax.set_title(\"Principal Components Analysis (PCA) of Mobile Operator Data\")  \n",
    "# forked from https://www.kaggle.com/bburns/iris-exploration-pca-k-means-and-gmm-clustering"
   ]
  },
  {
   "cell_type": "code",
   "execution_count": 102,
   "metadata": {},
   "outputs": [
    {
     "data": {
      "image/png": "[encoded data removed]",
      "text/plain": [
       "<matplotlib.figure.Figure at 0x7ff301ef75f8>"
      ]
     },
     "metadata": {},
     "output_type": "display_data"
    }
   ],
   "source": [
    "#Plot the clusters each datapoint was assigned to\n",
    "plotData(df_plot, 'clusters')"
   ]
  },
  {
   "cell_type": "markdown",
   "metadata": {},
   "source": [
    "From the plot above it can be seen that kmeans is not giving a lot of information about the clusters. The clusters appeared to be scattered due to the dimensionality of the data that is handled. Kmeans as k-nearest neighbors is based on Euclidean distance and nn this case the dimensionality of the problem is 281 and the Euclidean distance does not perform well with high dimensions as points that may be similar may have very large distances. This is the same problem that we found with the low performance of the K nearest neighbors algorithm as both are based on the same principle of Euclidean distances to look for similarity between points.\n",
    "\n",
    "From the unsupervised analysis, it can be seen that clusters are not stable as every time that the “elbow” test was run different results were given which influenced the number of clusters to be used with kmeans. Furthermore, kmeans from the low performance that it has when classifying it’s discarded for classification purposes.\n",
    "\n",
    "The other clustering techniques that have been tested are not suitable for this product. Affinity propagation is estimating the need of 14733 clusters while meanshift estimates 462, 2 or 1 when the bandwidth is changed. For this reason bith have been discarded."
   ]
  },
  {
   "cell_type": "markdown",
   "metadata": {},
   "source": [
    "### 7. Conclusion ###"
   ]
  },
  {
   "cell_type": "markdown",
   "metadata": {},
   "source": [
    "The purpose of this product is to classify a subset of the population of China that uses a mobile operator based on the apps they have installed and that they used and the brand of the device they have. The classification takes into consideration gender and age range. The groups are distributed as follows (M=male, F=female being digits age limits): 'M39+' , 'M32-38', 'M29-31', 'M27-28', 'M23-26', 'M22-', 'F43+' ,'F33-42', 'F29-32', 'F27-28', 'F24-26', 'F23-'.\n",
    "\n",
    "This demographic classification will allow the mobile operator “Talking Data” to sell added value services to marketing agencies and other companies so that they can improve the targeting of their marketing campaigns. Additionally it can be used to determine the most popular apps and brands depending on the age and gender.\n",
    "\n",
    "For the elaboration of this product, datasets available in Kaggle have been used. The different files were scattered in different excel spreadsheet and the data was mainly categorical. The first action that has been done has been to merge into one dataset the relevant data required to build the classification models. In this case, information such as timestamp and lingitud and latitude has been excluded due to its quality. In most of the instances the data was either incomplete or incorrect. The former been set to zero increasing the number of calls significantly done at midnight and the second having the point (0,0) in the middle of the Ocean as one of the main locations where the devices have been tracked to.\n",
    "\n",
    "The different datasets have been merged using the device_id as link between the dfferent demographic groups (containing information about gender and age range) apps and brand. Prior to being merged, dummy variables have been created and duplicates eliminated to avoid a disproportionate growth of the final dataset. As an example eliminating duplicates in phone brands has reduced the dataset from more than 2 million rows to 23k. The dummy variables have been created eliminating the first of them to void the dummy variable trap. Furthermore, those attributes identified as zero have been eliminated reducing the number of attributes from more than 600 to 274. The main reason why they were empty attributes is because they are phone brands that didn’t correspond to any of the devices in the dataset.\n",
    "\n",
    "Exploratory data analysis shows how the number of apps active is roughly 50% of the apps installed. The population is concentrated in a range between 20 and 32 and that the age distribution. From an apps perspective, most of them have to do with financial products, banking and industrial (construction). From a brand perspective eight brands represent 90% of the sample in the Chinese market (Xaomi, Samsung, Huawei, Vivo, OPPO, Meizu, Coldpad y Lenovo). There is inequality in terms of gender distribution being the female users half the male users. Additionally the average age is 31 running from 25 to 35 in the 25% and 75%. In this case, the outliers outside of 1.5 the interquartile distance have not being discarded but has been one of the reasons why principal components have been used to selecte the best model for classification.\n",
    "\n",
    "The different groups are unbalanced therefore resampling of the data has been done to avoid bias on the different classifiers that are used. This has increased the dataset to 40k rows manageable with the computing power available at google compute engine. The data presents low correlation between the attributes. Only one is between 0.4 and 0.5 being the correlation between others lower.\n",
    "\n",
    "Features have been generated following features selection techniques such as kbest and random forest after scaling and normalizing the data. Kbest was giving the best scores being around 260 the features scoring over 1. Radom forest feature selection has been carried out. Only 16 score a meaningful score in this case. The % of variance explained by these features is not enough to achieve meaningful results from an accuracy perspective. The number of features has been selected following PCA. In this case, 120 PC are able to explain 98% of the variance. Additionally, logistic regression has been run through the components and lowering the number of principal components was giving low accuracy while increasing it was producing overfitting due to the noise they are introducing. As the main purpose of the model is to classify accurately users based on the apps usage and phone brand, the 120 PC have been used.\n",
    "\n",
    "Model selection has been carried out splitting the sample into 70/30 training on 70% of the data (once transformed through PCA). Models have been trained and tuned using gridsearch and cross validation with five folds has been used to test them. Accuracy has been set as the main scoring parameter as there is no difference regarding false positive or negatives. In this case a customer that is misclassified will not receive the right ads making the campaign ineffective. The models, accuracy and computing effort (based in time required to fit the test set) tested are presented below:\n",
    "\n",
    "1. ***Logistic Regression***. Accuracy: 95.72%. Computing effort: 3.3 min.\n",
    "2. ***Linear Support Vector Classifier***. Accuracy: 94.99%. Computing Effort: 19.9 min.\n",
    "3. ***Support Vector Classifier***. Accuracy: 92.29%. Computing effort: 57.3s.\n",
    "4. ***Random Forest***. Accuracy: 81.04%. Computing Effort: 81.04%. Computing effort: 7.3 min.\n",
    "5. ***Gradient Boosting Classifier***: Accuracy 79.25%. Computing effort: 90.2 min.\n",
    "6. ***K-nearest neighbors***. Accuracy: 71.36%. Computing effort: 1.5 min.\n",
    "7. ***SGD Classifier***. Accuracy: 47.88%. Computing effort: 9.5 min.\n",
    "8. ***Naïve-Bayes Classifier***. Accuracy: 37.93%. Computing effort: 1.5s.\n",
    "\n",
    "From the abovementioned results the best candidates are ***logistic regression*** due to its high accuracy, simplicity and low computational effort and ***support vector machine***. The latter presents a low computational effort due to the transformation of the features that has been done during the features generation. Regarding support vector machine, it presents scalability problems hence the best candidate remains the logistic regression algorithm.\n",
    "\n",
    "Deep learning algorithms have been tested on the original normalized data and PCA. The choice has been to consider the original processed data as there was no significant differences in accuracy and neural networks are able to handle the data and generate the best features.\n",
    "\n",
    "Different configurations of a neural network have been passed to achieve a higher accuracy than any of the previous models. In this case, the final configuration of the Multi-Layer Perceptron that achieves 98.91% is a sequential neural network with 6 hidden layer of 264 neurons and a dropout rate of 0.5 using batch normalization between layers. The activation function is “relu”, the loss is categorical crossentropy and the optimizer RMS. In this case, batches of 1250 have been used and 200 epochs have been used to optimize the accuracy of the model.\n",
    "\n",
    "Although the accuracy obtained by this model is higher than the one achieved by other supervised models, the logistic regression and support vector machine models are the preferred ones as candidates for production. The neural network, although it gives a higher accuracy does not allow to distinguish the explanatory power of each of the features that are used. This is not required during image recognition but is necessary for the purpose of this exercise. Furthermore, the model is far more complex than the previous one and requires more computational power once it is in production.\n",
    "\n",
    "For all this reasons the logistic regression and support vector machine models have been considered as the best candidates for production and among both Logistic Regression is the preferred option.\n",
    "\n",
    "Unsupervised learning has been carried out to cluster the information trying to obtain meaningful insights from the original data. After normalizing the data affinity propagation, spectral clustering, mean shift and kmeans clustering techniques have been compared picking kmeans as the best one for this dataset. In this case affinity propagation was giving an excessive amount of clusters (over 1k), meanshift went from 462, 2 and 1 once the bandwidth was changed. Spectral clustering was compared to kmeans. Kmeans was offering better silhouette scores than spectral for a lower number of clusters. With the computing resources available and the dataset at hand, spectral clustering with 11 clusters (max shouette score) did not run. \n",
    "\n",
    "After running the elbow test, five, six and seven clusters were tested on kmeans. In this case, six clusters were picked as the best ones. From a classification perspective kmeans never gave a result higher than 20%. This is due to the characteristics of the problem as it is a high dimensional one (more than 200 dimensions for unsupervised clustering and more than 100 for supervised modelling, reason why KNN algorithm had a lower than expected performance).\n",
    "\n",
    "Further analysis showed that the clusters and optimum number of clusters were not stable changing each time the model was run. At a high level the most meaningful insights obtained from clustering are that:\n",
    "\n",
    "1. The most popular apps are related to construction and related to the brand of the phone: Property Industry 1.0, Industry tag and Customized 1.\n",
    "2. The average age is 30 years old in every cluster.\n",
    "3. It seems that the population in the dataset are related to construction companies\n",
    "4. Among the population of the dataset the most popular phone brands are: Xiaomi, OPPO and Samsung are the most popular ones being Vivo more popular among the female than male and Meizu more popular among male compared to female.\n",
    "\n",
    "Due to the characteristics of the data and high dimensionality of the problem the graphical representation of the clusters is highly scattered which does not give any relevant information about them. Hence, from a classification purpose the best model to use based on its accuracy is Logistic Regression which can compete in terms of accuracy with deep learning models but is a better candidate for production. From a clustering perspective, clustering is not offering any relevant information and cannot be used for classification."
   ]
  },
  {
   "cell_type": "code",
   "execution_count": null,
   "metadata": {},
   "outputs": [],
   "source": []
  }
 ],
 "metadata": {
  "kernelspec": {
   "display_name": "Python 3",
   "language": "python",
   "name": "python3"
  },
  "language_info": {
   "codemirror_mode": {
    "name": "ipython",
    "version": 3
   },
   "file_extension": ".py",
   "mimetype": "text/x-python",
   "name": "python",
   "nbconvert_exporter": "python",
   "pygments_lexer": "ipython3",
   "version": "3.6.3"
  }
 },
 "nbformat": 4,
 "nbformat_minor": 2
}
