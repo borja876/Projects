{
 "cells": [
  {
   "cell_type": "markdown",
   "metadata": {},
   "source": [
    "1 Data Source: Amsterdam availability data scraped from AirBnB on December 24th.\n",
    "Question: What are the popular neighborhoods in Amsterdam?\n",
    "    \n",
    "The data is not showing the most popular nighborhoods:\n",
    "    \n",
    "It is biased as it the only information we have is from AirBnB\n",
    "It is affected by an exceptional circumstance: the 24th of December\n",
    "    \n",
    "Solution:\n",
    "    \n",
    "I would either scrap AirBnB web for more data during the year and include other websites or,\n",
    "I would reframe the question to:\n",
    "    what are the most popular AirBnB nighborhoods in Christmas?\n"
   ]
  },
  {
   "cell_type": "markdown",
   "metadata": {},
   "source": [
    "2 Data Source: Mental health services use on September 12, 2001 in San Francisco, CA and New York City, NY.\n",
    "Question: How do patterns of mental health service use vary between cities?\n",
    "\n",
    "The data can not answer the question as it would be heavily biased towards NY due to 9/11 attacks.\n",
    "\n",
    "Solution:\n",
    "    \n",
    "I would reframe the quetion to: what was the impact of the 9/11 attacks on the mental health of NY´s population compared to other cities in the US?\n",
    "\n"
   ]
  },
  {
   "cell_type": "markdown",
   "metadata": {},
   "source": [
    "3 Data Source: Armenian Pub Survey.\n",
    "Question: What are the most common reasons Armenians visit local pubs?\n",
    "\n",
    "The survey only contains data about Armenian pubs. It does not suit the question we are trying to answer\n",
    "\n",
    "Solution:\n",
    "\n",
    "Reframe the question to: What are the most common reasons why people visit Armenian pubs.\n",
    "\n",
    "(If we have information about the origin of the visitors in the survey)\n",
    "\n",
    "What are the most common reasons why people (X nationality) visit Armeninan pubs.\n",
    "\n"
   ]
  },
  {
   "cell_type": "code",
   "execution_count": null,
   "metadata": {
    "collapsed": true
   },
   "outputs": [],
   "source": []
  }
 ],
 "metadata": {
  "kernelspec": {
   "display_name": "Python 3",
   "language": "python",
   "name": "python3"
  },
  "language_info": {
   "codemirror_mode": {
    "name": "ipython",
    "version": 3
   },
   "file_extension": ".py",
   "mimetype": "text/x-python",
   "name": "python",
   "nbconvert_exporter": "python",
   "pygments_lexer": "ipython3",
   "version": "3.6.1"
  }
 },
 "nbformat": 4,
 "nbformat_minor": 2
}
