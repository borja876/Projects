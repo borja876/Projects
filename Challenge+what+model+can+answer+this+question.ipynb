{
 "cells": [
  {
   "cell_type": "markdown",
   "metadata": {},
   "source": [
    "***1. Predict the running times of prospective Olympic sprinters using data from the last 20 Olympics.***\n",
    "Linear regression to predict the time based on past times.\n",
    "KNN if we have more data like nationalities, etc..\n",
    "\n",
    "***2. You have more features (columns) than rows in your dataset.***\n",
    "Lasso regression to eliminate the features that are not adding value and PCA with RFE to know the features I really need\n",
    "\n",
    "***3. Identify the most important characteristic predicting likelihood of being jailed before age 20.***\n",
    "KNN based on similar features from the ones that have been jailed\n",
    "\n",
    "***4. Implement a filter to “highlight” emails that might be important to the recipient***\n",
    "Classifier (it could be naives or SVC, RandomForest) or random forest based on the information contained in the email\n",
    "\n",
    "***5. You have 1000+ features.***\n",
    "PCA, RFE, Feature importance and lasso regression to know the ones that are adding value\n",
    "\n",
    "***6. Predict whether someone who adds items to their cart on a website will purchase the items.***\n",
    "KNN based on the previous buyers and their behavious or SVR based on the features of the buyers and buying scheme.\n",
    "\n",
    "***7. Your dataset dimensions are 982400 x 500***\n",
    "I would use Random forest as it works well with less data which will allow me to reduce the amount of data required (and therefore the rows)\n",
    "\n",
    "***8. Identify faces in an image.***\n",
    "We can use PCA, that will give the eigenvectors that are able to explain the maximum variance within an image and therefore the face\n",
    "\n",
    "***9. Predict which of three flavors of ice cream will be most popular with boys vs girls.***\n",
    "Multinomial regression (logistic regression made more general)\n"
   ]
  }
 ],
 "metadata": {
  "kernelspec": {
   "display_name": "Python 3",
   "language": "python",
   "name": "python3"
  },
  "language_info": {
   "codemirror_mode": {
    "name": "ipython",
    "version": 3
   },
   "file_extension": ".py",
   "mimetype": "text/x-python",
   "name": "python",
   "nbconvert_exporter": "python",
   "pygments_lexer": "ipython3",
   "version": "3.5.4"
  }
 },
 "nbformat": 4,
 "nbformat_minor": 2
}
