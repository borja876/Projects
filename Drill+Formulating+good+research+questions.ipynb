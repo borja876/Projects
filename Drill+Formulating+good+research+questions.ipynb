{
 "cells": [
  {
   "cell_type": "markdown",
   "metadata": {},
   "source": [
    "**What is the 1994 rate of juvenile delinquency in the U.S.?**\n",
    "Good.\n",
    "**What can we do to reduce juvenile delinquency in the U.S.?**\n",
    "Good.  What are the main factors of juvenile deliquency in the US in 1994. Which variables explain deliquency in the US and from those that have a stronger relationship we can act on them\n",
    "**Does education play a role in reducing juvenile delinquents' return to crime?**\n",
    "Good. Education can be one of the veriables that explain the rate of juvenie deliquency\n",
    "**How many customers does AT&T currently serve in Washington, DC?**\n",
    "Good\n",
    "**What factors lead consumers to choose AT&T over other service providers?**\n",
    "Good\n",
    "**How can AT&T attract more customers?**\n",
    "Bad. What are the main fetures that attrected customers and how they changed overtime\n",
    "**Why did the Challenger Shuttle explode?**\n",
    "Bad. Did the challenger shuttle esplode for a non technical reason. We will not have access to technical data\n",
    "**Which genes are associated with increased risk of breast cancer?**\n",
    "Good. \n",
    "**Is it better to read to children at night or in the morning?**\n",
    "Good. (do we have data?)\n",
    "**How does Google’s search algorithm work?**\n",
    "Bad. What are the main features that Google´s search algorithm takes into consideration "
   ]
  }
 ],
 "metadata": {
  "kernelspec": {
   "display_name": "Python 3",
   "language": "python",
   "name": "python3"
  },
  "language_info": {
   "codemirror_mode": {
    "name": "ipython",
    "version": 3
   },
   "file_extension": ".py",
   "mimetype": "text/x-python",
   "name": "python",
   "nbconvert_exporter": "python",
   "pygments_lexer": "ipython3",
   "version": "3.6.1"
  }
 },
 "nbformat": 4,
 "nbformat_minor": 2
}
