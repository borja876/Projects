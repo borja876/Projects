{
 "cells": [
  {
   "cell_type": "markdown",
   "metadata": {},
   "source": [
    "Using this Kaggle data create a model to predict a house's value. We want to be able to understand what creates value in a house, as though we were a real estate developer."
   ]
  },
  {
   "cell_type": "code",
   "execution_count": 353,
   "metadata": {
    "collapsed": true
   },
   "outputs": [],
   "source": [
    "%matplotlib inline\n",
    "import numpy as np\n",
    "import pandas as pd\n",
    "import scipy\n",
    "import sklearn\n",
    "import matplotlib.pyplot as plt\n",
    "import seaborn as sns\n",
    "import math\n",
    "from sklearn.preprocessing import StandardScaler\n",
    "from sklearn.metrics import confusion_matrix, accuracy_score\n",
    "from sklearn.model_selection import train_test_split,cross_val_score, KFold, cross_val_predict\n",
    "from sklearn.decomposition import PCA as sklearn_pca\n",
    "from sklearn.decomposition import PCA\n",
    "from sklearn.feature_selection import RFE\n",
    "from sklearn.linear_model import LinearRegression\n",
    "from sklearn.utils import resample\n",
    "from sklearn.ensemble import RandomForestRegressor, GradientBoostingRegressor\n",
    "from sklearn.metrics import mean_squared_error\n",
    "from sklearn.linear_model import Ridge\n",
    "from sklearn.linear_model import Lasso\n",
    "from sklearn import preprocessing, decomposition\n",
    "from sklearn.tree import DecisionTreeRegressor\n",
    "from sklearn.ensemble import AdaBoostRegressor\n",
    "from sklearn.model_selection import GridSearchCV"
   ]
  },
  {
   "cell_type": "code",
   "execution_count": 354,
   "metadata": {},
   "outputs": [
    {
     "data": {
      "text/html": [
       "<div>\n",
       "<style>\n",
       "    .dataframe thead tr:only-child th {\n",
       "        text-align: right;\n",
       "    }\n",
       "\n",
       "    .dataframe thead th {\n",
       "        text-align: left;\n",
       "    }\n",
       "\n",
       "    .dataframe tbody tr th {\n",
       "        vertical-align: top;\n",
       "    }\n",
       "</style>\n",
       "<table border=\"1\" class=\"dataframe\">\n",
       "  <thead>\n",
       "    <tr style=\"text-align: right;\">\n",
       "      <th></th>\n",
       "      <th>Suburb</th>\n",
       "      <th>Address</th>\n",
       "      <th>Rooms</th>\n",
       "      <th>Type</th>\n",
       "      <th>Price</th>\n",
       "      <th>Method</th>\n",
       "      <th>SellerG</th>\n",
       "      <th>Date</th>\n",
       "      <th>Distance</th>\n",
       "      <th>Postcode</th>\n",
       "      <th>...</th>\n",
       "      <th>Bathroom</th>\n",
       "      <th>Car</th>\n",
       "      <th>Landsize</th>\n",
       "      <th>BuildingArea</th>\n",
       "      <th>YearBuilt</th>\n",
       "      <th>CouncilArea</th>\n",
       "      <th>Lattitude</th>\n",
       "      <th>Longtitude</th>\n",
       "      <th>Regionname</th>\n",
       "      <th>Propertycount</th>\n",
       "    </tr>\n",
       "  </thead>\n",
       "  <tbody>\n",
       "    <tr>\n",
       "      <th>0</th>\n",
       "      <td>Abbotsford</td>\n",
       "      <td>68 Studley St</td>\n",
       "      <td>2</td>\n",
       "      <td>h</td>\n",
       "      <td>NaN</td>\n",
       "      <td>SS</td>\n",
       "      <td>Jellis</td>\n",
       "      <td>3/09/2016</td>\n",
       "      <td>2.5</td>\n",
       "      <td>3067</td>\n",
       "      <td>...</td>\n",
       "      <td>1.0</td>\n",
       "      <td>1.0</td>\n",
       "      <td>126.0</td>\n",
       "      <td>NaN</td>\n",
       "      <td>NaN</td>\n",
       "      <td>Yarra City Council</td>\n",
       "      <td>-37.8014</td>\n",
       "      <td>144.9958</td>\n",
       "      <td>Northern Metropolitan</td>\n",
       "      <td>4019.0</td>\n",
       "    </tr>\n",
       "    <tr>\n",
       "      <th>1</th>\n",
       "      <td>Abbotsford</td>\n",
       "      <td>85 Turner St</td>\n",
       "      <td>2</td>\n",
       "      <td>h</td>\n",
       "      <td>1480000.0</td>\n",
       "      <td>S</td>\n",
       "      <td>Biggin</td>\n",
       "      <td>3/12/2016</td>\n",
       "      <td>2.5</td>\n",
       "      <td>3067</td>\n",
       "      <td>...</td>\n",
       "      <td>1.0</td>\n",
       "      <td>1.0</td>\n",
       "      <td>202.0</td>\n",
       "      <td>NaN</td>\n",
       "      <td>NaN</td>\n",
       "      <td>Yarra City Council</td>\n",
       "      <td>-37.7996</td>\n",
       "      <td>144.9984</td>\n",
       "      <td>Northern Metropolitan</td>\n",
       "      <td>4019.0</td>\n",
       "    </tr>\n",
       "    <tr>\n",
       "      <th>2</th>\n",
       "      <td>Abbotsford</td>\n",
       "      <td>25 Bloomburg St</td>\n",
       "      <td>2</td>\n",
       "      <td>h</td>\n",
       "      <td>1035000.0</td>\n",
       "      <td>S</td>\n",
       "      <td>Biggin</td>\n",
       "      <td>4/02/2016</td>\n",
       "      <td>2.5</td>\n",
       "      <td>3067</td>\n",
       "      <td>...</td>\n",
       "      <td>1.0</td>\n",
       "      <td>0.0</td>\n",
       "      <td>156.0</td>\n",
       "      <td>79.0</td>\n",
       "      <td>1900.0</td>\n",
       "      <td>Yarra City Council</td>\n",
       "      <td>-37.8079</td>\n",
       "      <td>144.9934</td>\n",
       "      <td>Northern Metropolitan</td>\n",
       "      <td>4019.0</td>\n",
       "    </tr>\n",
       "    <tr>\n",
       "      <th>3</th>\n",
       "      <td>Abbotsford</td>\n",
       "      <td>18/659 Victoria St</td>\n",
       "      <td>3</td>\n",
       "      <td>u</td>\n",
       "      <td>NaN</td>\n",
       "      <td>VB</td>\n",
       "      <td>Rounds</td>\n",
       "      <td>4/02/2016</td>\n",
       "      <td>2.5</td>\n",
       "      <td>3067</td>\n",
       "      <td>...</td>\n",
       "      <td>2.0</td>\n",
       "      <td>1.0</td>\n",
       "      <td>0.0</td>\n",
       "      <td>NaN</td>\n",
       "      <td>NaN</td>\n",
       "      <td>Yarra City Council</td>\n",
       "      <td>-37.8114</td>\n",
       "      <td>145.0116</td>\n",
       "      <td>Northern Metropolitan</td>\n",
       "      <td>4019.0</td>\n",
       "    </tr>\n",
       "    <tr>\n",
       "      <th>4</th>\n",
       "      <td>Abbotsford</td>\n",
       "      <td>5 Charles St</td>\n",
       "      <td>3</td>\n",
       "      <td>h</td>\n",
       "      <td>1465000.0</td>\n",
       "      <td>SP</td>\n",
       "      <td>Biggin</td>\n",
       "      <td>4/03/2017</td>\n",
       "      <td>2.5</td>\n",
       "      <td>3067</td>\n",
       "      <td>...</td>\n",
       "      <td>2.0</td>\n",
       "      <td>0.0</td>\n",
       "      <td>134.0</td>\n",
       "      <td>150.0</td>\n",
       "      <td>1900.0</td>\n",
       "      <td>Yarra City Council</td>\n",
       "      <td>-37.8093</td>\n",
       "      <td>144.9944</td>\n",
       "      <td>Northern Metropolitan</td>\n",
       "      <td>4019.0</td>\n",
       "    </tr>\n",
       "  </tbody>\n",
       "</table>\n",
       "<p>5 rows × 21 columns</p>\n",
       "</div>"
      ],
      "text/plain": [
       "       Suburb             Address  Rooms Type      Price Method SellerG  \\\n",
       "0  Abbotsford       68 Studley St      2    h        NaN     SS  Jellis   \n",
       "1  Abbotsford        85 Turner St      2    h  1480000.0      S  Biggin   \n",
       "2  Abbotsford     25 Bloomburg St      2    h  1035000.0      S  Biggin   \n",
       "3  Abbotsford  18/659 Victoria St      3    u        NaN     VB  Rounds   \n",
       "4  Abbotsford        5 Charles St      3    h  1465000.0     SP  Biggin   \n",
       "\n",
       "        Date  Distance  Postcode      ...       Bathroom  Car  Landsize  \\\n",
       "0  3/09/2016       2.5      3067      ...            1.0  1.0     126.0   \n",
       "1  3/12/2016       2.5      3067      ...            1.0  1.0     202.0   \n",
       "2  4/02/2016       2.5      3067      ...            1.0  0.0     156.0   \n",
       "3  4/02/2016       2.5      3067      ...            2.0  1.0       0.0   \n",
       "4  4/03/2017       2.5      3067      ...            2.0  0.0     134.0   \n",
       "\n",
       "   BuildingArea  YearBuilt         CouncilArea Lattitude  Longtitude  \\\n",
       "0           NaN        NaN  Yarra City Council  -37.8014    144.9958   \n",
       "1           NaN        NaN  Yarra City Council  -37.7996    144.9984   \n",
       "2          79.0     1900.0  Yarra City Council  -37.8079    144.9934   \n",
       "3           NaN        NaN  Yarra City Council  -37.8114    145.0116   \n",
       "4         150.0     1900.0  Yarra City Council  -37.8093    144.9944   \n",
       "\n",
       "              Regionname Propertycount  \n",
       "0  Northern Metropolitan        4019.0  \n",
       "1  Northern Metropolitan        4019.0  \n",
       "2  Northern Metropolitan        4019.0  \n",
       "3  Northern Metropolitan        4019.0  \n",
       "4  Northern Metropolitan        4019.0  \n",
       "\n",
       "[5 rows x 21 columns]"
      ]
     },
     "execution_count": 354,
     "metadata": {},
     "output_type": "execute_result"
    }
   ],
   "source": [
    "# Read and import data\n",
    "housing = pd.read_csv('Melbourne_housing_FULL.csv')\n",
    "housing.head()"
   ]
  },
  {
   "cell_type": "code",
   "execution_count": 355,
   "metadata": {},
   "outputs": [
    {
     "data": {
      "text/plain": [
       "Index(['Suburb', 'Address', 'Rooms', 'Type', 'Price', 'Method', 'SellerG',\n",
       "       'Date', 'Distance', 'Postcode', 'Bedroom2', 'Bathroom', 'Car',\n",
       "       'Landsize', 'BuildingArea', 'YearBuilt', 'CouncilArea', 'Lattitude',\n",
       "       'Longtitude', 'Regionname', 'Propertycount'],\n",
       "      dtype='object')"
      ]
     },
     "execution_count": 355,
     "metadata": {},
     "output_type": "execute_result"
    }
   ],
   "source": [
    "#Check the columns in the raw data\n",
    "housing.columns"
   ]
  },
  {
   "cell_type": "code",
   "execution_count": 356,
   "metadata": {},
   "outputs": [
    {
     "name": "stdout",
     "output_type": "stream",
     "text": [
      "<class 'pandas.core.frame.DataFrame'>\n",
      "RangeIndex: 29217 entries, 0 to 29216\n",
      "Data columns (total 21 columns):\n",
      "Suburb           29217 non-null object\n",
      "Address          29217 non-null object\n",
      "Rooms            29217 non-null int64\n",
      "Type             29217 non-null object\n",
      "Price            22850 non-null float64\n",
      "Method           29217 non-null object\n",
      "SellerG          29217 non-null object\n",
      "Date             29217 non-null object\n",
      "Distance         29217 non-null float64\n",
      "Postcode         29217 non-null int64\n",
      "Bedroom2         22665 non-null float64\n",
      "Bathroom         22659 non-null float64\n",
      "Car              22357 non-null float64\n",
      "Landsize         19649 non-null float64\n",
      "BuildingArea     11817 non-null float64\n",
      "YearBuilt        13473 non-null float64\n",
      "CouncilArea      29215 non-null object\n",
      "Lattitude        22878 non-null float64\n",
      "Longtitude       22878 non-null float64\n",
      "Regionname       29215 non-null object\n",
      "Propertycount    29215 non-null float64\n",
      "dtypes: float64(11), int64(2), object(8)\n",
      "memory usage: 4.7+ MB\n"
     ]
    }
   ],
   "source": [
    "#Check the kind of variables in the raw data\n",
    "housing.info()"
   ]
  },
  {
   "cell_type": "code",
   "execution_count": 357,
   "metadata": {},
   "outputs": [
    {
     "name": "stdout",
     "output_type": "stream",
     "text": [
      "Suburb               0\n",
      "Address              0\n",
      "Rooms                0\n",
      "Type                 0\n",
      "Price             6367\n",
      "Method               0\n",
      "SellerG              0\n",
      "Date                 0\n",
      "Distance             0\n",
      "Postcode             0\n",
      "Bedroom2          6552\n",
      "Bathroom          6558\n",
      "Car               6860\n",
      "Landsize          9568\n",
      "BuildingArea     17400\n",
      "YearBuilt        15744\n",
      "CouncilArea          2\n",
      "Lattitude         6339\n",
      "Longtitude        6339\n",
      "Regionname           2\n",
      "Propertycount        2\n",
      "dtype: int64\n",
      "29217\n"
     ]
    }
   ],
   "source": [
    "print(housing.isnull().sum())\n",
    "print(len(housing))"
   ]
  },
  {
   "cell_type": "code",
   "execution_count": 358,
   "metadata": {},
   "outputs": [
    {
     "name": "stderr",
     "output_type": "stream",
     "text": [
      "D:\\Users\\Borja.gonzalez\\AppData\\Local\\Continuum\\anaconda3\\lib\\site-packages\\ipykernel_launcher.py:5: SettingWithCopyWarning: \n",
      "A value is trying to be set on a copy of a slice from a DataFrame.\n",
      "Try using .loc[row_indexer,col_indexer] = value instead\n",
      "\n",
      "See the caveats in the documentation: http://pandas.pydata.org/pandas-docs/stable/indexing.html#indexing-view-versus-copy\n",
      "  \"\"\"\n",
      "D:\\Users\\Borja.gonzalez\\AppData\\Local\\Continuum\\anaconda3\\lib\\site-packages\\ipykernel_launcher.py:8: SettingWithCopyWarning: \n",
      "A value is trying to be set on a copy of a slice from a DataFrame.\n",
      "Try using .loc[row_indexer,col_indexer] = value instead\n",
      "\n",
      "See the caveats in the documentation: http://pandas.pydata.org/pandas-docs/stable/indexing.html#indexing-view-versus-copy\n",
      "  \n",
      "D:\\Users\\Borja.gonzalez\\AppData\\Local\\Continuum\\anaconda3\\lib\\site-packages\\ipykernel_launcher.py:9: SettingWithCopyWarning: \n",
      "A value is trying to be set on a copy of a slice from a DataFrame.\n",
      "Try using .loc[row_indexer,col_indexer] = value instead\n",
      "\n",
      "See the caveats in the documentation: http://pandas.pydata.org/pandas-docs/stable/indexing.html#indexing-view-versus-copy\n",
      "  if __name__ == '__main__':\n"
     ]
    }
   ],
   "source": [
    "#Eliminate the rows that have no info regarding price\n",
    "housing1 = housing[np.isfinite(housing['Price'])] \n",
    "\n",
    "#Transform the data into datetime\n",
    "housing1['Date'] = pd.to_datetime(housing['Date'])\n",
    "\n",
    "#Transform the date into months and year\n",
    "housing1['Month'] = housing1['Date'].dt.month\n",
    "housing1['Year'] = housing1['Date'].dt.year\n",
    "\n",
    "#Delete the property count\n",
    "del housing1['Propertycount']"
   ]
  },
  {
   "cell_type": "code",
   "execution_count": 359,
   "metadata": {},
   "outputs": [
    {
     "data": {
      "text/plain": [
       "(Timestamp('2016-01-28 00:00:00'), Timestamp('2017-12-08 00:00:00'))"
      ]
     },
     "execution_count": 359,
     "metadata": {},
     "output_type": "execute_result"
    }
   ],
   "source": [
    "#Understand the time span of the data\n",
    "housing1.Date.min(), housing1.Date.max()"
   ]
  },
  {
   "cell_type": "code",
   "execution_count": 360,
   "metadata": {
    "collapsed": true
   },
   "outputs": [],
   "source": [
    "#Consider only the sales that have taken place within the last year of data (12 months)\n",
    "mask = (housing1['Date'] > '2016-12-08')\n",
    "housing2 = housing1.loc[mask]"
   ]
  },
  {
   "cell_type": "code",
   "execution_count": 361,
   "metadata": {},
   "outputs": [
    {
     "name": "stdout",
     "output_type": "stream",
     "text": [
      "Suburb             0\n",
      "Address            0\n",
      "Rooms              0\n",
      "Type               0\n",
      "Price              0\n",
      "Method             0\n",
      "SellerG            0\n",
      "Date               0\n",
      "Distance           0\n",
      "Postcode           0\n",
      "Bedroom2        3495\n",
      "Bathroom        3499\n",
      "Car             3729\n",
      "Landsize        5872\n",
      "BuildingArea    9449\n",
      "YearBuilt       8653\n",
      "CouncilArea        2\n",
      "Lattitude       3380\n",
      "Longtitude      3380\n",
      "Regionname         2\n",
      "Month              0\n",
      "Year               0\n",
      "dtype: int64\n",
      "15178\n"
     ]
    }
   ],
   "source": [
    "#Check the Nan values that are still remaining\n",
    "print(housing2.isnull().sum())\n",
    "print(len(housing2))"
   ]
  },
  {
   "cell_type": "code",
   "execution_count": 362,
   "metadata": {
    "collapsed": true
   },
   "outputs": [],
   "source": [
    "#Drop the Nan values that are in the Regionname and CouncilArea columns and \n",
    "#Fill the missing values with the median of each column\n",
    "housing3 = housing2.dropna(subset=[['Regionname','CouncilArea']])\n",
    "housing4 = housing3.fillna(housing2.median())"
   ]
  },
  {
   "cell_type": "code",
   "execution_count": 363,
   "metadata": {},
   "outputs": [
    {
     "name": "stdout",
     "output_type": "stream",
     "text": [
      "Suburb          0\n",
      "Address         0\n",
      "Rooms           0\n",
      "Type            0\n",
      "Price           0\n",
      "Method          0\n",
      "SellerG         0\n",
      "Date            0\n",
      "Distance        0\n",
      "Postcode        0\n",
      "Bedroom2        0\n",
      "Bathroom        0\n",
      "Car             0\n",
      "Landsize        0\n",
      "BuildingArea    0\n",
      "YearBuilt       0\n",
      "CouncilArea     0\n",
      "Lattitude       0\n",
      "Longtitude      0\n",
      "Regionname      0\n",
      "Month           0\n",
      "Year            0\n",
      "dtype: int64\n",
      "15176\n"
     ]
    }
   ],
   "source": [
    "#Check that there is no Nan value\n",
    "print(housing4.isnull().sum())\n",
    "print(len(housing4))"
   ]
  },
  {
   "cell_type": "code",
   "execution_count": 364,
   "metadata": {},
   "outputs": [
    {
     "name": "stdout",
     "output_type": "stream",
     "text": [
      "<class 'pandas.core.frame.DataFrame'>\n",
      "Int64Index: 15176 entries, 4 to 29216\n",
      "Data columns (total 22 columns):\n",
      "Suburb          15176 non-null object\n",
      "Address         15176 non-null object\n",
      "Rooms           15176 non-null int64\n",
      "Type            15176 non-null object\n",
      "Price           15176 non-null float64\n",
      "Method          15176 non-null object\n",
      "SellerG         15176 non-null object\n",
      "Date            15176 non-null datetime64[ns]\n",
      "Distance        15176 non-null float64\n",
      "Postcode        15176 non-null int64\n",
      "Bedroom2        15176 non-null float64\n",
      "Bathroom        15176 non-null float64\n",
      "Car             15176 non-null float64\n",
      "Landsize        15176 non-null float64\n",
      "BuildingArea    15176 non-null float64\n",
      "YearBuilt       15176 non-null float64\n",
      "CouncilArea     15176 non-null object\n",
      "Lattitude       15176 non-null float64\n",
      "Longtitude      15176 non-null float64\n",
      "Regionname      15176 non-null object\n",
      "Month           15176 non-null int64\n",
      "Year            15176 non-null int64\n",
      "dtypes: datetime64[ns](1), float64(10), int64(4), object(7)\n",
      "memory usage: 2.7+ MB\n"
     ]
    }
   ],
   "source": [
    "#Check the type of info regarding each variable\n",
    "housing4.info()"
   ]
  },
  {
   "cell_type": "code",
   "execution_count": 365,
   "metadata": {},
   "outputs": [
    {
     "data": {
      "image/png": "[encoded data removed]",
      "text/plain": [
       "<matplotlib.figure.Figure at 0x218e8e980f0>"
      ]
     },
     "metadata": {},
     "output_type": "display_data"
    }
   ],
   "source": [
    "#Plot the relationship between the numeric variables\n",
    "housing4.hist(bins=50, figsize=(20,15))\n",
    "plt.savefig(\"attribute_histogram_plots\")\n",
    "plt.show()"
   ]
  },
  {
   "cell_type": "code",
   "execution_count": 366,
   "metadata": {},
   "outputs": [
    {
     "data": {
      "text/plain": [
       "<matplotlib.axes._subplots.AxesSubplot at 0x218f14c9a20>"
      ]
     },
     "execution_count": 366,
     "metadata": {},
     "output_type": "execute_result"
    },
    {
     "data": {
      "image/png": "[encoded data removed]",
      "text/plain": [
       "<matplotlib.figure.Figure at 0x218e8633f28>"
      ]
     },
     "metadata": {},
     "output_type": "display_data"
    }
   ],
   "source": [
    "#Plot the longitituda and lattitude to improve the nderstanding of the area\n",
    "housing4.plot(kind=\"scatter\", x=\"Longtitude\", y=\"Lattitude\", alpha=0.2, figsize=(10,5))"
   ]
  },
  {
   "cell_type": "code",
   "execution_count": 367,
   "metadata": {},
   "outputs": [
    {
     "data": {
      "text/plain": [
       "<matplotlib.axes._subplots.AxesSubplot at 0x218e8e98b00>"
      ]
     },
     "execution_count": 367,
     "metadata": {},
     "output_type": "execute_result"
    },
    {
     "data": {
      "image/png": "[encoded data removed]",
      "text/plain": [
       "<matplotlib.figure.Figure at 0x218e8e000f0>"
      ]
     },
     "metadata": {},
     "output_type": "display_data"
    }
   ],
   "source": [
    "#Plot the prices agasint longtitude and lattitude. Understand the concentration of high prices within regions in Melbourne\n",
    "housing4.plot(kind=\"scatter\", x=\"Longtitude\", y=\"Lattitude\",\n",
    "              alpha=0.4, figsize=(12.5,5), c=\"Price\", cmap=plt.get_cmap(\"jet\"), colorbar=True, sharex=False)"
   ]
  },
  {
   "cell_type": "code",
   "execution_count": 368,
   "metadata": {
    "collapsed": true
   },
   "outputs": [],
   "source": [
    "#Create new features: One that is the price per built_area and the other one to eliminate the skweness of price\n",
    "housing4['Price_per_buildingarea'] = housing4['Price']/(housing4['BuildingArea']+1)\n",
    "housing4['logPrice']  = np.log(housing4['Price'])"
   ]
  },
  {
   "cell_type": "code",
   "execution_count": 369,
   "metadata": {},
   "outputs": [
    {
     "name": "stdout",
     "output_type": "stream",
     "text": [
      "Number of Suburbs: 340\n",
      "Number of Regions:  8\n"
     ]
    }
   ],
   "source": [
    "#Understand the number of Regions and Suburbs to create a categorical features that classifies \n",
    "#the most convenient one according to the price\n",
    "print('Number of Suburbs:', len(housing4['Suburb'].value_counts()))\n",
    "print('Number of Regions: ' , len(housing4['Regionname'].value_counts()))"
   ]
  },
  {
   "cell_type": "code",
   "execution_count": 370,
   "metadata": {},
   "outputs": [
    {
     "data": {
      "text/html": [
       "<div>\n",
       "<style>\n",
       "    .dataframe thead tr:only-child th {\n",
       "        text-align: right;\n",
       "    }\n",
       "\n",
       "    .dataframe thead th {\n",
       "        text-align: left;\n",
       "    }\n",
       "\n",
       "    .dataframe tbody tr th {\n",
       "        vertical-align: top;\n",
       "    }\n",
       "</style>\n",
       "<table border=\"1\" class=\"dataframe\">\n",
       "  <thead>\n",
       "    <tr style=\"text-align: right;\">\n",
       "      <th></th>\n",
       "      <th>freq</th>\n",
       "      <th>Price_per_buildingarea</th>\n",
       "    </tr>\n",
       "  </thead>\n",
       "  <tbody>\n",
       "    <tr>\n",
       "      <th>count</th>\n",
       "      <td>340.000000</td>\n",
       "      <td>340.000000</td>\n",
       "    </tr>\n",
       "    <tr>\n",
       "      <th>mean</th>\n",
       "      <td>44.635294</td>\n",
       "      <td>6468.731773</td>\n",
       "    </tr>\n",
       "    <tr>\n",
       "      <th>std</th>\n",
       "      <td>47.723972</td>\n",
       "      <td>2335.770864</td>\n",
       "    </tr>\n",
       "    <tr>\n",
       "      <th>min</th>\n",
       "      <td>1.000000</td>\n",
       "      <td>2649.253731</td>\n",
       "    </tr>\n",
       "    <tr>\n",
       "      <th>25%</th>\n",
       "      <td>10.000000</td>\n",
       "      <td>4690.226171</td>\n",
       "    </tr>\n",
       "    <tr>\n",
       "      <th>50%</th>\n",
       "      <td>30.000000</td>\n",
       "      <td>6035.536603</td>\n",
       "    </tr>\n",
       "    <tr>\n",
       "      <th>75%</th>\n",
       "      <td>61.250000</td>\n",
       "      <td>8047.450249</td>\n",
       "    </tr>\n",
       "    <tr>\n",
       "      <th>max</th>\n",
       "      <td>351.000000</td>\n",
       "      <td>15815.389032</td>\n",
       "    </tr>\n",
       "  </tbody>\n",
       "</table>\n",
       "</div>"
      ],
      "text/plain": [
       "             freq  Price_per_buildingarea\n",
       "count  340.000000              340.000000\n",
       "mean    44.635294             6468.731773\n",
       "std     47.723972             2335.770864\n",
       "min      1.000000             2649.253731\n",
       "25%     10.000000             4690.226171\n",
       "50%     30.000000             6035.536603\n",
       "75%     61.250000             8047.450249\n",
       "max    351.000000            15815.389032"
      ]
     },
     "execution_count": 370,
     "metadata": {},
     "output_type": "execute_result"
    }
   ],
   "source": [
    "#Create the clusters of neighbouhoods/suburbs as it will give the adequate level of granularity\n",
    "#Consider prices and frequency of purchase in each area\n",
    "freq = housing4.groupby('Suburb').count()['Postcode']\n",
    "mean = housing4.groupby('Suburb').median()['Price_per_buildingarea']\n",
    "cluster = pd.concat([freq, mean], axis=1)\n",
    "cluster['Suburb'] = cluster.index\n",
    "cluster.columns = ['freq', 'Price_per_buildingarea','Suburb']\n",
    "cluster.describe()"
   ]
  },
  {
   "cell_type": "code",
   "execution_count": 371,
   "metadata": {},
   "outputs": [
    {
     "data": {
      "text/plain": [
       "Index(['Airport West', 'Albanvale', 'Albion', 'Altona Meadows', 'Altona North',\n",
       "       'Ardeer', 'Attwood', 'Bacchus Marsh', 'Balaclava', 'Bayswater',\n",
       "       ...\n",
       "       'Werribee South', 'Westmeadows', 'Whittlesea', 'Williams Landing',\n",
       "       'Wollert', 'Wonga Park', 'Wyndham Vale', 'Yallambie', 'Yarra Glen',\n",
       "       'croydon'],\n",
       "      dtype='object', name='Suburb', length=173)"
      ]
     },
     "execution_count": 371,
     "metadata": {},
     "output_type": "execute_result"
    }
   ],
   "source": [
    "#Divide into 2 clusters: Moderate and Expensive according to price. Create the moderate cluster\n",
    "cluster1 = cluster[cluster.Price_per_buildingarea <= 6131]\n",
    "cluster1.index"
   ]
  },
  {
   "cell_type": "code",
   "execution_count": 372,
   "metadata": {},
   "outputs": [
    {
     "data": {
      "text/plain": [
       "Index(['Abbotsford', 'Aberfeldie', 'Albert Park', 'Alphington', 'Altona',\n",
       "       'Armadale', 'Ascot Vale', 'Ashburton', 'Ashwood', 'Aspendale',\n",
       "       ...\n",
       "       'Wattle Glen', 'West Footscray', 'West Melbourne', 'Wheelers Hill',\n",
       "       'Wildwood', 'Williamstown', 'Williamstown North', 'Windsor',\n",
       "       'Yarraville', 'viewbank'],\n",
       "      dtype='object', name='Suburb', length=167)"
      ]
     },
     "execution_count": 372,
     "metadata": {},
     "output_type": "execute_result"
    }
   ],
   "source": [
    "#Create the Expensive cluster\n",
    "cluster2 = cluster[cluster.Price_per_buildingarea > 6131]\n",
    "cluster2.index"
   ]
  },
  {
   "cell_type": "code",
   "execution_count": 373,
   "metadata": {
    "collapsed": true
   },
   "outputs": [],
   "source": [
    "#Add the clusters into the dataset\n",
    "def get_group(x):\n",
    "    if x in cluster1.index:\n",
    "        return 'Moderate'\n",
    "    else:\n",
    "        return 'Expensive'\n",
    "housing4['Neighbourhood'] = housing4.Suburb.apply(get_group)"
   ]
  },
  {
   "cell_type": "code",
   "execution_count": 374,
   "metadata": {},
   "outputs": [
    {
     "data": {
      "text/html": [
       "<div>\n",
       "<style>\n",
       "    .dataframe thead tr:only-child th {\n",
       "        text-align: right;\n",
       "    }\n",
       "\n",
       "    .dataframe thead th {\n",
       "        text-align: left;\n",
       "    }\n",
       "\n",
       "    .dataframe tbody tr th {\n",
       "        vertical-align: top;\n",
       "    }\n",
       "</style>\n",
       "<table border=\"1\" class=\"dataframe\">\n",
       "  <thead>\n",
       "    <tr style=\"text-align: right;\">\n",
       "      <th></th>\n",
       "      <th>Suburb</th>\n",
       "      <th>Address</th>\n",
       "      <th>Rooms</th>\n",
       "      <th>Type</th>\n",
       "      <th>Price</th>\n",
       "      <th>Method</th>\n",
       "      <th>SellerG</th>\n",
       "      <th>Date</th>\n",
       "      <th>Distance</th>\n",
       "      <th>Postcode</th>\n",
       "      <th>...</th>\n",
       "      <th>YearBuilt</th>\n",
       "      <th>CouncilArea</th>\n",
       "      <th>Lattitude</th>\n",
       "      <th>Longtitude</th>\n",
       "      <th>Regionname</th>\n",
       "      <th>Month</th>\n",
       "      <th>Year</th>\n",
       "      <th>Price_per_buildingarea</th>\n",
       "      <th>logPrice</th>\n",
       "      <th>Neighbourhood</th>\n",
       "    </tr>\n",
       "  </thead>\n",
       "  <tbody>\n",
       "    <tr>\n",
       "      <th>4</th>\n",
       "      <td>Abbotsford</td>\n",
       "      <td>5 Charles St</td>\n",
       "      <td>3</td>\n",
       "      <td>h</td>\n",
       "      <td>1465000.0</td>\n",
       "      <td>SP</td>\n",
       "      <td>Biggin</td>\n",
       "      <td>2017-04-03</td>\n",
       "      <td>2.5</td>\n",
       "      <td>3067</td>\n",
       "      <td>...</td>\n",
       "      <td>1900.0</td>\n",
       "      <td>Yarra City Council</td>\n",
       "      <td>-37.8093</td>\n",
       "      <td>144.9944</td>\n",
       "      <td>Northern Metropolitan</td>\n",
       "      <td>4</td>\n",
       "      <td>2017</td>\n",
       "      <td>9701.986755</td>\n",
       "      <td>14.197366</td>\n",
       "      <td>Expensive</td>\n",
       "    </tr>\n",
       "    <tr>\n",
       "      <th>5</th>\n",
       "      <td>Abbotsford</td>\n",
       "      <td>40 Federation La</td>\n",
       "      <td>3</td>\n",
       "      <td>h</td>\n",
       "      <td>850000.0</td>\n",
       "      <td>PI</td>\n",
       "      <td>Biggin</td>\n",
       "      <td>2017-04-03</td>\n",
       "      <td>2.5</td>\n",
       "      <td>3067</td>\n",
       "      <td>...</td>\n",
       "      <td>1970.0</td>\n",
       "      <td>Yarra City Council</td>\n",
       "      <td>-37.7969</td>\n",
       "      <td>144.9969</td>\n",
       "      <td>Northern Metropolitan</td>\n",
       "      <td>4</td>\n",
       "      <td>2017</td>\n",
       "      <td>6343.283582</td>\n",
       "      <td>13.652992</td>\n",
       "      <td>Expensive</td>\n",
       "    </tr>\n",
       "    <tr>\n",
       "      <th>23</th>\n",
       "      <td>Abbotsford</td>\n",
       "      <td>411/8 Grosvenor St</td>\n",
       "      <td>2</td>\n",
       "      <td>u</td>\n",
       "      <td>700000.0</td>\n",
       "      <td>VB</td>\n",
       "      <td>Jellis</td>\n",
       "      <td>2016-12-11</td>\n",
       "      <td>2.5</td>\n",
       "      <td>3067</td>\n",
       "      <td>...</td>\n",
       "      <td>1970.0</td>\n",
       "      <td>Yarra City Council</td>\n",
       "      <td>-37.8110</td>\n",
       "      <td>145.0067</td>\n",
       "      <td>Northern Metropolitan</td>\n",
       "      <td>12</td>\n",
       "      <td>2016</td>\n",
       "      <td>5223.880597</td>\n",
       "      <td>13.458836</td>\n",
       "      <td>Expensive</td>\n",
       "    </tr>\n",
       "    <tr>\n",
       "      <th>24</th>\n",
       "      <td>Abbotsford</td>\n",
       "      <td>40 Nicholson St</td>\n",
       "      <td>3</td>\n",
       "      <td>h</td>\n",
       "      <td>1350000.0</td>\n",
       "      <td>VB</td>\n",
       "      <td>Nelson</td>\n",
       "      <td>2016-12-11</td>\n",
       "      <td>2.5</td>\n",
       "      <td>3067</td>\n",
       "      <td>...</td>\n",
       "      <td>2005.0</td>\n",
       "      <td>Yarra City Council</td>\n",
       "      <td>-37.8085</td>\n",
       "      <td>144.9964</td>\n",
       "      <td>Northern Metropolitan</td>\n",
       "      <td>12</td>\n",
       "      <td>2016</td>\n",
       "      <td>7068.062827</td>\n",
       "      <td>14.115615</td>\n",
       "      <td>Expensive</td>\n",
       "    </tr>\n",
       "    <tr>\n",
       "      <th>25</th>\n",
       "      <td>Abbotsford</td>\n",
       "      <td>123/56 Nicholson St</td>\n",
       "      <td>2</td>\n",
       "      <td>u</td>\n",
       "      <td>750000.0</td>\n",
       "      <td>S</td>\n",
       "      <td>Biggin</td>\n",
       "      <td>2016-12-11</td>\n",
       "      <td>2.5</td>\n",
       "      <td>3067</td>\n",
       "      <td>...</td>\n",
       "      <td>2009.0</td>\n",
       "      <td>Yarra City Council</td>\n",
       "      <td>-37.8078</td>\n",
       "      <td>144.9965</td>\n",
       "      <td>Northern Metropolitan</td>\n",
       "      <td>12</td>\n",
       "      <td>2016</td>\n",
       "      <td>7894.736842</td>\n",
       "      <td>13.527828</td>\n",
       "      <td>Expensive</td>\n",
       "    </tr>\n",
       "  </tbody>\n",
       "</table>\n",
       "<p>5 rows × 25 columns</p>\n",
       "</div>"
      ],
      "text/plain": [
       "        Suburb              Address  Rooms Type      Price Method SellerG  \\\n",
       "4   Abbotsford         5 Charles St      3    h  1465000.0     SP  Biggin   \n",
       "5   Abbotsford     40 Federation La      3    h   850000.0     PI  Biggin   \n",
       "23  Abbotsford   411/8 Grosvenor St      2    u   700000.0     VB  Jellis   \n",
       "24  Abbotsford      40 Nicholson St      3    h  1350000.0     VB  Nelson   \n",
       "25  Abbotsford  123/56 Nicholson St      2    u   750000.0      S  Biggin   \n",
       "\n",
       "         Date  Distance  Postcode      ...       YearBuilt  \\\n",
       "4  2017-04-03       2.5      3067      ...          1900.0   \n",
       "5  2017-04-03       2.5      3067      ...          1970.0   \n",
       "23 2016-12-11       2.5      3067      ...          1970.0   \n",
       "24 2016-12-11       2.5      3067      ...          2005.0   \n",
       "25 2016-12-11       2.5      3067      ...          2009.0   \n",
       "\n",
       "           CouncilArea  Lattitude  Longtitude             Regionname  Month  \\\n",
       "4   Yarra City Council   -37.8093    144.9944  Northern Metropolitan      4   \n",
       "5   Yarra City Council   -37.7969    144.9969  Northern Metropolitan      4   \n",
       "23  Yarra City Council   -37.8110    145.0067  Northern Metropolitan     12   \n",
       "24  Yarra City Council   -37.8085    144.9964  Northern Metropolitan     12   \n",
       "25  Yarra City Council   -37.8078    144.9965  Northern Metropolitan     12   \n",
       "\n",
       "    Year  Price_per_buildingarea   logPrice Neighbourhood  \n",
       "4   2017             9701.986755  14.197366     Expensive  \n",
       "5   2017             6343.283582  13.652992     Expensive  \n",
       "23  2016             5223.880597  13.458836     Expensive  \n",
       "24  2016             7068.062827  14.115615     Expensive  \n",
       "25  2016             7894.736842  13.527828     Expensive  \n",
       "\n",
       "[5 rows x 25 columns]"
      ]
     },
     "execution_count": 374,
     "metadata": {},
     "output_type": "execute_result"
    }
   ],
   "source": [
    "#Check the features in place after all the data manipulation\n",
    "housing4.head()"
   ]
  },
  {
   "cell_type": "code",
   "execution_count": 375,
   "metadata": {},
   "outputs": [
    {
     "data": {
      "text/plain": [
       "array(['Expensive', 'Moderate'], dtype=object)"
      ]
     },
     "execution_count": 375,
     "metadata": {},
     "output_type": "execute_result"
    }
   ],
   "source": [
    "#Check the values for the new features\n",
    "housing4.Neighbourhood.unique()"
   ]
  },
  {
   "cell_type": "code",
   "execution_count": 376,
   "metadata": {},
   "outputs": [
    {
     "data": {
      "text/plain": [
       "Price                     1.000000\n",
       "logPrice                  0.920970\n",
       "Rooms                     0.433638\n",
       "Bedroom2                  0.372458\n",
       "Bathroom                  0.320517\n",
       "Longtitude                0.160862\n",
       "Car                       0.152917\n",
       "Price_per_buildingarea    0.088919\n",
       "BuildingArea              0.048178\n",
       "Landsize                  0.023545\n",
       "Postcode                  0.012942\n",
       "Month                     0.004795\n",
       "Year                     -0.008033\n",
       "Lattitude                -0.182692\n",
       "YearBuilt                -0.229072\n",
       "Distance                 -0.241333\n",
       "Name: Price, dtype: float64"
      ]
     },
     "execution_count": 376,
     "metadata": {},
     "output_type": "execute_result"
    }
   ],
   "source": [
    "#Check the relationship between logprice and the rest of the features\n",
    "corr_matrix = housing4.corr()\n",
    "corr_matrix[\"Price\"].sort_values(ascending=False)"
   ]
  },
  {
   "cell_type": "code",
   "execution_count": 377,
   "metadata": {},
   "outputs": [
    {
     "data": {
      "image/png": "[encoded data removed]",
      "text/plain": [
       "<matplotlib.figure.Figure at 0x218ef111518>"
      ]
     },
     "metadata": {},
     "output_type": "display_data"
    }
   ],
   "source": [
    "#Plot the relationship between all the numercial features\n",
    "from pandas.plotting import scatter_matrix\n",
    "\n",
    "attributes = [\"Price\", \"Rooms\", \"Bedroom2\", \"Bathroom\",'Car','BuildingArea']\n",
    "scatter_matrix(housing4[attributes], figsize=(12, 8))\n",
    "plt.savefig('matrix.png')"
   ]
  },
  {
   "cell_type": "code",
   "execution_count": 378,
   "metadata": {},
   "outputs": [
    {
     "data": {
      "image/png": "[encoded data removed]",
      "text/plain": [
       "<matplotlib.figure.Figure at 0x218e8858908>"
      ]
     },
     "metadata": {},
     "output_type": "display_data"
    }
   ],
   "source": [
    "#Visualize the relationship between log Price and the most correlated variables.\n",
    "\n",
    "plt.figure(figsize=(20, 5))\n",
    "sns.set_style(\"whitegrid\")\n",
    "\n",
    "plt.subplot(1, 4, 1)\n",
    "ax = sns.barplot(x=\"Rooms\", y=\"Price\", data=housing4, ci=None)\n",
    "plt.ylabel(\"Price\")\n",
    "plt.title('Price vs Rooms')\n",
    "\n",
    "plt.subplot(1, 4, 2)\n",
    "ax = sns.barplot(x=\"Bedroom2\", y=\"Price\", data=housing4, ci=None)\n",
    "plt.ylabel(\"Price\")\n",
    "plt.title('Price vs Bedroom2')\n",
    "\n",
    "plt.subplot(1, 4, 3)\n",
    "ax = sns.barplot(x=\"Bathroom\", y=\"Price\", data=housing4, ci=None)\n",
    "plt.ylabel(\"Price\")\n",
    "plt.title('Price vs Bathroom')\n",
    "\n",
    "plt.subplot(1, 4, 4)\n",
    "ax = sns.barplot(x=\"Car\", y=\"Price\", data=housing4, ci=None)\n",
    "plt.ylabel(\"Price\")\n",
    "plt.title('Price vs Car')\n",
    "\n",
    "plt.tight_layout()\n",
    "plt.show()"
   ]
  },
  {
   "cell_type": "code",
   "execution_count": 379,
   "metadata": {},
   "outputs": [
    {
     "data": {
      "text/plain": [
       "Index(['Suburb', 'Address', 'Rooms', 'Type', 'Price', 'Method', 'SellerG',\n",
       "       'Date', 'Distance', 'Postcode', 'Bedroom2', 'Bathroom', 'Car',\n",
       "       'Landsize', 'BuildingArea', 'YearBuilt', 'CouncilArea', 'Lattitude',\n",
       "       'Longtitude', 'Regionname', 'Month', 'Year', 'Price_per_buildingarea',\n",
       "       'logPrice', 'Neighbourhood'],\n",
       "      dtype='object')"
      ]
     },
     "execution_count": 379,
     "metadata": {},
     "output_type": "execute_result"
    }
   ],
   "source": [
    "#Check all the columns in the manipulated dataframe\n",
    "housing4.columns"
   ]
  },
  {
   "cell_type": "code",
   "execution_count": 380,
   "metadata": {},
   "outputs": [
    {
     "data": {
      "text/html": [
       "<div>\n",
       "<style>\n",
       "    .dataframe thead tr:only-child th {\n",
       "        text-align: right;\n",
       "    }\n",
       "\n",
       "    .dataframe thead th {\n",
       "        text-align: left;\n",
       "    }\n",
       "\n",
       "    .dataframe tbody tr th {\n",
       "        vertical-align: top;\n",
       "    }\n",
       "</style>\n",
       "<table border=\"1\" class=\"dataframe\">\n",
       "  <thead>\n",
       "    <tr style=\"text-align: right;\">\n",
       "      <th></th>\n",
       "      <th>Rooms</th>\n",
       "      <th>Price</th>\n",
       "      <th>Bedroom2</th>\n",
       "      <th>Bathroom</th>\n",
       "      <th>Car</th>\n",
       "      <th>Landsize</th>\n",
       "      <th>BuildingArea</th>\n",
       "      <th>YearBuilt</th>\n",
       "      <th>Price_per_buildingarea</th>\n",
       "      <th>logPrice</th>\n",
       "    </tr>\n",
       "  </thead>\n",
       "  <tbody>\n",
       "    <tr>\n",
       "      <th>count</th>\n",
       "      <td>15176.000000</td>\n",
       "      <td>1.517600e+04</td>\n",
       "      <td>15176.000000</td>\n",
       "      <td>15176.000000</td>\n",
       "      <td>15176.000000</td>\n",
       "      <td>15176.000000</td>\n",
       "      <td>15176.000000</td>\n",
       "      <td>15176.000000</td>\n",
       "      <td>1.517600e+04</td>\n",
       "      <td>15176.000000</td>\n",
       "    </tr>\n",
       "    <tr>\n",
       "      <th>mean</th>\n",
       "      <td>3.034133</td>\n",
       "      <td>1.053772e+06</td>\n",
       "      <td>3.072483</td>\n",
       "      <td>1.694122</td>\n",
       "      <td>1.812269</td>\n",
       "      <td>634.157222</td>\n",
       "      <td>143.083378</td>\n",
       "      <td>1969.767923</td>\n",
       "      <td>1.202270e+04</td>\n",
       "      <td>13.729041</td>\n",
       "    </tr>\n",
       "    <tr>\n",
       "      <th>std</th>\n",
       "      <td>0.953631</td>\n",
       "      <td>6.418057e+05</td>\n",
       "      <td>0.837438</td>\n",
       "      <td>0.632357</td>\n",
       "      <td>0.888148</td>\n",
       "      <td>3977.106959</td>\n",
       "      <td>368.075439</td>\n",
       "      <td>23.674243</td>\n",
       "      <td>7.814659e+04</td>\n",
       "      <td>0.510943</td>\n",
       "    </tr>\n",
       "    <tr>\n",
       "      <th>min</th>\n",
       "      <td>1.000000</td>\n",
       "      <td>1.210000e+05</td>\n",
       "      <td>0.000000</td>\n",
       "      <td>0.000000</td>\n",
       "      <td>0.000000</td>\n",
       "      <td>0.000000</td>\n",
       "      <td>0.000000</td>\n",
       "      <td>1196.000000</td>\n",
       "      <td>3.043849e+01</td>\n",
       "      <td>11.703546</td>\n",
       "    </tr>\n",
       "    <tr>\n",
       "      <th>25%</th>\n",
       "      <td>2.000000</td>\n",
       "      <td>6.410000e+05</td>\n",
       "      <td>3.000000</td>\n",
       "      <td>1.000000</td>\n",
       "      <td>1.000000</td>\n",
       "      <td>450.000000</td>\n",
       "      <td>133.000000</td>\n",
       "      <td>1970.000000</td>\n",
       "      <td>4.880743e+03</td>\n",
       "      <td>13.370785</td>\n",
       "    </tr>\n",
       "    <tr>\n",
       "      <th>50%</th>\n",
       "      <td>3.000000</td>\n",
       "      <td>8.800000e+05</td>\n",
       "      <td>3.000000</td>\n",
       "      <td>2.000000</td>\n",
       "      <td>2.000000</td>\n",
       "      <td>543.000000</td>\n",
       "      <td>133.000000</td>\n",
       "      <td>1970.000000</td>\n",
       "      <td>6.716418e+03</td>\n",
       "      <td>13.687677</td>\n",
       "    </tr>\n",
       "    <tr>\n",
       "      <th>75%</th>\n",
       "      <td>4.000000</td>\n",
       "      <td>1.300000e+06</td>\n",
       "      <td>3.000000</td>\n",
       "      <td>2.000000</td>\n",
       "      <td>2.000000</td>\n",
       "      <td>596.000000</td>\n",
       "      <td>133.000000</td>\n",
       "      <td>1970.000000</td>\n",
       "      <td>9.418505e+03</td>\n",
       "      <td>14.077875</td>\n",
       "    </tr>\n",
       "    <tr>\n",
       "      <th>max</th>\n",
       "      <td>16.000000</td>\n",
       "      <td>1.120000e+07</td>\n",
       "      <td>16.000000</td>\n",
       "      <td>9.000000</td>\n",
       "      <td>18.000000</td>\n",
       "      <td>433014.000000</td>\n",
       "      <td>44515.000000</td>\n",
       "      <td>2017.000000</td>\n",
       "      <td>3.450000e+06</td>\n",
       "      <td>16.231424</td>\n",
       "    </tr>\n",
       "  </tbody>\n",
       "</table>\n",
       "</div>"
      ],
      "text/plain": [
       "              Rooms         Price      Bedroom2      Bathroom           Car  \\\n",
       "count  15176.000000  1.517600e+04  15176.000000  15176.000000  15176.000000   \n",
       "mean       3.034133  1.053772e+06      3.072483      1.694122      1.812269   \n",
       "std        0.953631  6.418057e+05      0.837438      0.632357      0.888148   \n",
       "min        1.000000  1.210000e+05      0.000000      0.000000      0.000000   \n",
       "25%        2.000000  6.410000e+05      3.000000      1.000000      1.000000   \n",
       "50%        3.000000  8.800000e+05      3.000000      2.000000      2.000000   \n",
       "75%        4.000000  1.300000e+06      3.000000      2.000000      2.000000   \n",
       "max       16.000000  1.120000e+07     16.000000      9.000000     18.000000   \n",
       "\n",
       "            Landsize  BuildingArea     YearBuilt  Price_per_buildingarea  \\\n",
       "count   15176.000000  15176.000000  15176.000000            1.517600e+04   \n",
       "mean      634.157222    143.083378   1969.767923            1.202270e+04   \n",
       "std      3977.106959    368.075439     23.674243            7.814659e+04   \n",
       "min         0.000000      0.000000   1196.000000            3.043849e+01   \n",
       "25%       450.000000    133.000000   1970.000000            4.880743e+03   \n",
       "50%       543.000000    133.000000   1970.000000            6.716418e+03   \n",
       "75%       596.000000    133.000000   1970.000000            9.418505e+03   \n",
       "max    433014.000000  44515.000000   2017.000000            3.450000e+06   \n",
       "\n",
       "           logPrice  \n",
       "count  15176.000000  \n",
       "mean      13.729041  \n",
       "std        0.510943  \n",
       "min       11.703546  \n",
       "25%       13.370785  \n",
       "50%       13.687677  \n",
       "75%       14.077875  \n",
       "max       16.231424  "
      ]
     },
     "execution_count": 380,
     "metadata": {},
     "output_type": "execute_result"
    }
   ],
   "source": [
    "#Create a new dataframe that incorporates the new variable Neghibourhood and eliminates the data that is not useful\n",
    "housing5 = housing4.drop(['Suburb', 'Address', 'Method', 'SellerG', 'Date',\n",
    "                                   'Distance','Postcode', 'CouncilArea', \n",
    "                                   'Lattitude','Longtitude','Regionname','Month','Year'],axis=1)\n",
    "housing5.describe()"
   ]
  },
  {
   "cell_type": "code",
   "execution_count": 381,
   "metadata": {},
   "outputs": [
    {
     "data": {
      "text/html": [
       "<div>\n",
       "<style>\n",
       "    .dataframe thead tr:only-child th {\n",
       "        text-align: right;\n",
       "    }\n",
       "\n",
       "    .dataframe thead th {\n",
       "        text-align: left;\n",
       "    }\n",
       "\n",
       "    .dataframe tbody tr th {\n",
       "        vertical-align: top;\n",
       "    }\n",
       "</style>\n",
       "<table border=\"1\" class=\"dataframe\">\n",
       "  <thead>\n",
       "    <tr style=\"text-align: right;\">\n",
       "      <th></th>\n",
       "      <th>Rooms</th>\n",
       "      <th>Price</th>\n",
       "      <th>Bedroom2</th>\n",
       "      <th>Bathroom</th>\n",
       "      <th>Car</th>\n",
       "      <th>Landsize</th>\n",
       "      <th>BuildingArea</th>\n",
       "      <th>YearBuilt</th>\n",
       "      <th>Price_per_buildingarea</th>\n",
       "      <th>logPrice</th>\n",
       "    </tr>\n",
       "  </thead>\n",
       "  <tbody>\n",
       "    <tr>\n",
       "      <th>count</th>\n",
       "      <td>15170.000000</td>\n",
       "      <td>1.517000e+04</td>\n",
       "      <td>15170.000000</td>\n",
       "      <td>15170.000000</td>\n",
       "      <td>15170.000000</td>\n",
       "      <td>15170.000000</td>\n",
       "      <td>15170.000000</td>\n",
       "      <td>15170.000000</td>\n",
       "      <td>1.517000e+04</td>\n",
       "      <td>15170.000000</td>\n",
       "    </tr>\n",
       "    <tr>\n",
       "      <th>mean</th>\n",
       "      <td>3.030719</td>\n",
       "      <td>1.053152e+06</td>\n",
       "      <td>3.070138</td>\n",
       "      <td>1.692881</td>\n",
       "      <td>1.811734</td>\n",
       "      <td>634.176401</td>\n",
       "      <td>143.059482</td>\n",
       "      <td>1969.762492</td>\n",
       "      <td>1.202067e+04</td>\n",
       "      <td>13.728724</td>\n",
       "    </tr>\n",
       "    <tr>\n",
       "      <th>std</th>\n",
       "      <td>0.937273</td>\n",
       "      <td>6.403011e+05</td>\n",
       "      <td>0.823999</td>\n",
       "      <td>0.626935</td>\n",
       "      <td>0.886844</td>\n",
       "      <td>3977.891495</td>\n",
       "      <td>368.138282</td>\n",
       "      <td>23.674247</td>\n",
       "      <td>7.816148e+04</td>\n",
       "      <td>0.510582</td>\n",
       "    </tr>\n",
       "    <tr>\n",
       "      <th>min</th>\n",
       "      <td>1.000000</td>\n",
       "      <td>1.210000e+05</td>\n",
       "      <td>0.000000</td>\n",
       "      <td>0.000000</td>\n",
       "      <td>0.000000</td>\n",
       "      <td>0.000000</td>\n",
       "      <td>0.000000</td>\n",
       "      <td>1196.000000</td>\n",
       "      <td>3.043849e+01</td>\n",
       "      <td>11.703546</td>\n",
       "    </tr>\n",
       "    <tr>\n",
       "      <th>25%</th>\n",
       "      <td>2.000000</td>\n",
       "      <td>6.410000e+05</td>\n",
       "      <td>3.000000</td>\n",
       "      <td>1.000000</td>\n",
       "      <td>1.000000</td>\n",
       "      <td>450.000000</td>\n",
       "      <td>133.000000</td>\n",
       "      <td>1970.000000</td>\n",
       "      <td>4.880646e+03</td>\n",
       "      <td>13.370785</td>\n",
       "    </tr>\n",
       "    <tr>\n",
       "      <th>50%</th>\n",
       "      <td>3.000000</td>\n",
       "      <td>8.800000e+05</td>\n",
       "      <td>3.000000</td>\n",
       "      <td>2.000000</td>\n",
       "      <td>2.000000</td>\n",
       "      <td>543.000000</td>\n",
       "      <td>133.000000</td>\n",
       "      <td>1970.000000</td>\n",
       "      <td>6.716418e+03</td>\n",
       "      <td>13.687677</td>\n",
       "    </tr>\n",
       "    <tr>\n",
       "      <th>75%</th>\n",
       "      <td>4.000000</td>\n",
       "      <td>1.300000e+06</td>\n",
       "      <td>3.000000</td>\n",
       "      <td>2.000000</td>\n",
       "      <td>2.000000</td>\n",
       "      <td>596.000000</td>\n",
       "      <td>133.000000</td>\n",
       "      <td>1970.000000</td>\n",
       "      <td>9.417616e+03</td>\n",
       "      <td>14.077875</td>\n",
       "    </tr>\n",
       "    <tr>\n",
       "      <th>max</th>\n",
       "      <td>8.000000</td>\n",
       "      <td>1.120000e+07</td>\n",
       "      <td>10.000000</td>\n",
       "      <td>8.000000</td>\n",
       "      <td>18.000000</td>\n",
       "      <td>433014.000000</td>\n",
       "      <td>44515.000000</td>\n",
       "      <td>2017.000000</td>\n",
       "      <td>3.450000e+06</td>\n",
       "      <td>16.231424</td>\n",
       "    </tr>\n",
       "  </tbody>\n",
       "</table>\n",
       "</div>"
      ],
      "text/plain": [
       "              Rooms         Price      Bedroom2      Bathroom           Car  \\\n",
       "count  15170.000000  1.517000e+04  15170.000000  15170.000000  15170.000000   \n",
       "mean       3.030719  1.053152e+06      3.070138      1.692881      1.811734   \n",
       "std        0.937273  6.403011e+05      0.823999      0.626935      0.886844   \n",
       "min        1.000000  1.210000e+05      0.000000      0.000000      0.000000   \n",
       "25%        2.000000  6.410000e+05      3.000000      1.000000      1.000000   \n",
       "50%        3.000000  8.800000e+05      3.000000      2.000000      2.000000   \n",
       "75%        4.000000  1.300000e+06      3.000000      2.000000      2.000000   \n",
       "max        8.000000  1.120000e+07     10.000000      8.000000     18.000000   \n",
       "\n",
       "            Landsize  BuildingArea     YearBuilt  Price_per_buildingarea  \\\n",
       "count   15170.000000  15170.000000  15170.000000            1.517000e+04   \n",
       "mean      634.176401    143.059482   1969.762492            1.202067e+04   \n",
       "std      3977.891495    368.138282     23.674247            7.816148e+04   \n",
       "min         0.000000      0.000000   1196.000000            3.043849e+01   \n",
       "25%       450.000000    133.000000   1970.000000            4.880646e+03   \n",
       "50%       543.000000    133.000000   1970.000000            6.716418e+03   \n",
       "75%       596.000000    133.000000   1970.000000            9.417616e+03   \n",
       "max    433014.000000  44515.000000   2017.000000            3.450000e+06   \n",
       "\n",
       "           logPrice  \n",
       "count  15170.000000  \n",
       "mean      13.728724  \n",
       "std        0.510582  \n",
       "min       11.703546  \n",
       "25%       13.370785  \n",
       "50%       13.687677  \n",
       "75%       14.077875  \n",
       "max       16.231424  "
      ]
     },
     "execution_count": 381,
     "metadata": {},
     "output_type": "execute_result"
    }
   ],
   "source": [
    "#Eliminate outliers\n",
    "\n",
    "housing5 = housing5[housing5.Rooms < 10].reset_index(drop=True)\n",
    "\n",
    "#Describe the dataset\n",
    "housing5.describe()\n"
   ]
  },
  {
   "cell_type": "code",
   "execution_count": 382,
   "metadata": {
    "collapsed": true
   },
   "outputs": [],
   "source": [
    "#Create the predicted and predictors for the model\n",
    "X = housing5.drop(['Price','logPrice'],axis=1)\n",
    "Y = housing5['logPrice']\n",
    "\n",
    "#Substitute categorical variables Type and Neighbourhood for dummies\n",
    "n = pd.get_dummies(X.Neighbourhood)\n",
    "X = pd.concat([X, n], axis=1)\n",
    "m = pd.get_dummies(X.Type)\n",
    "X = pd.concat([X, m], axis=1)\n",
    "drops = ['Neighbourhood', 'Type']\n",
    "X.drop(drops, inplace=True, axis=1)"
   ]
  },
  {
   "cell_type": "code",
   "execution_count": 383,
   "metadata": {},
   "outputs": [],
   "source": [
    "#Pre-process the data\n",
    "names = X.columns\n",
    "X1 = pd.DataFrame(preprocessing.scale(X), columns = names)"
   ]
  },
  {
   "cell_type": "code",
   "execution_count": 384,
   "metadata": {
    "collapsed": true
   },
   "outputs": [],
   "source": [
    "#Split the data into training and testing datasets\n",
    "X_train, X_test, y_train, y_test = train_test_split(X1, Y, test_size=0.3, random_state=0)\n",
    "\n",
    "#Initiating the cross validation generator, N splits = 5\n",
    "kf = KFold(5)"
   ]
  },
  {
   "cell_type": "markdown",
   "metadata": {},
   "source": [
    "***Linear Regression model***"
   ]
  },
  {
   "cell_type": "code",
   "execution_count": 385,
   "metadata": {},
   "outputs": [
    {
     "name": "stdout",
     "output_type": "stream",
     "text": [
      "[  2.02952271e-01  -7.21458776e-02   6.97734112e-02   2.23089411e-02\n",
      "   6.97137246e-03   1.42674083e-01  -6.58917628e-02   2.13374071e-02\n",
      "   1.05959489e+12   1.05959489e+12  -2.66044687e+11  -1.75558063e+11\n",
      "  -2.32399924e+11]\n"
     ]
    },
    {
     "data": {
      "text/plain": [
       "0.59638618810303967"
      ]
     },
     "execution_count": 385,
     "metadata": {},
     "output_type": "execute_result"
    }
   ],
   "source": [
    "#Initialize and fit the Linearregression model\n",
    "\n",
    "lr = LinearRegression()\n",
    "fitlr = lr.fit(X_train, y_train)\n",
    "\n",
    "print(lr.coef_)\n",
    "cross_val_score(lr, X_train, y_train, cv=kf).mean()"
   ]
  },
  {
   "cell_type": "code",
   "execution_count": 386,
   "metadata": {},
   "outputs": [
    {
     "name": "stdout",
     "output_type": "stream",
     "text": [
      "Liner Regression RMSE: 0.4000\n"
     ]
    }
   ],
   "source": [
    "#Predict the value of y\n",
    "y_pred = lr.predict(X_test)\n",
    "\n",
    "lin_mse = mean_squared_error(y_pred, y_test)\n",
    "lin_rmse = np.sqrt(lin_mse)\n",
    "print('Liner Regression RMSE: %.4f' % lin_rmse)"
   ]
  },
  {
   "cell_type": "markdown",
   "metadata": {},
   "source": [
    "***PCA Analysis***"
   ]
  },
  {
   "cell_type": "code",
   "execution_count": 387,
   "metadata": {
    "collapsed": true
   },
   "outputs": [],
   "source": [
    "# Build up the correlation mtrix\n",
    "Z = X1\n",
    "correlation_matrix = Z.corr()"
   ]
  },
  {
   "cell_type": "code",
   "execution_count": 388,
   "metadata": {},
   "outputs": [],
   "source": [
    "#Eigenvectores & Eigenvalues\n",
    "\n",
    "eig_vals, eig_vecs = np.linalg.eig(correlation_matrix)\n",
    "\n",
    "sklearn_pca = PCA(n_components=len(Z.columns))\n",
    "Y_sklearn = sklearn_pca.fit_transform(correlation_matrix)"
   ]
  },
  {
   "cell_type": "code",
   "execution_count": 389,
   "metadata": {},
   "outputs": [
    {
     "data": {
      "image/png": "[encoded data removed]",
      "text/plain": [
       "<matplotlib.figure.Figure at 0x218e8d41320>"
      ]
     },
     "metadata": {},
     "output_type": "display_data"
    }
   ],
   "source": [
    "#From the Scree plot.\n",
    "\n",
    "plt.plot(eig_vals)\n",
    "plt.show()"
   ]
  },
  {
   "cell_type": "code",
   "execution_count": 390,
   "metadata": {},
   "outputs": [
    {
     "data": {
      "text/html": [
       "<div>\n",
       "<style>\n",
       "    .dataframe thead tr:only-child th {\n",
       "        text-align: right;\n",
       "    }\n",
       "\n",
       "    .dataframe thead th {\n",
       "        text-align: left;\n",
       "    }\n",
       "\n",
       "    .dataframe tbody tr th {\n",
       "        vertical-align: top;\n",
       "    }\n",
       "</style>\n",
       "<table border=\"1\" class=\"dataframe\">\n",
       "  <thead>\n",
       "    <tr style=\"text-align: right;\">\n",
       "      <th></th>\n",
       "      <th>0</th>\n",
       "      <th>1</th>\n",
       "      <th>2</th>\n",
       "      <th>3</th>\n",
       "      <th>4</th>\n",
       "    </tr>\n",
       "  </thead>\n",
       "  <tbody>\n",
       "    <tr>\n",
       "      <th>0</th>\n",
       "      <td>-0.315718</td>\n",
       "      <td>1.464745</td>\n",
       "      <td>2.296264</td>\n",
       "      <td>-0.460782</td>\n",
       "      <td>0.815003</td>\n",
       "    </tr>\n",
       "    <tr>\n",
       "      <th>1</th>\n",
       "      <td>0.013264</td>\n",
       "      <td>0.941314</td>\n",
       "      <td>0.694537</td>\n",
       "      <td>-0.195817</td>\n",
       "      <td>0.165834</td>\n",
       "    </tr>\n",
       "    <tr>\n",
       "      <th>2</th>\n",
       "      <td>-2.878633</td>\n",
       "      <td>0.413006</td>\n",
       "      <td>-0.583217</td>\n",
       "      <td>0.666333</td>\n",
       "      <td>-0.935474</td>\n",
       "    </tr>\n",
       "    <tr>\n",
       "      <th>3</th>\n",
       "      <td>0.341080</td>\n",
       "      <td>0.718074</td>\n",
       "      <td>-0.234466</td>\n",
       "      <td>0.128800</td>\n",
       "      <td>-0.216726</td>\n",
       "    </tr>\n",
       "    <tr>\n",
       "      <th>4</th>\n",
       "      <td>-2.867354</td>\n",
       "      <td>0.089063</td>\n",
       "      <td>-1.338854</td>\n",
       "      <td>0.672085</td>\n",
       "      <td>-1.166749</td>\n",
       "    </tr>\n",
       "  </tbody>\n",
       "</table>\n",
       "</div>"
      ],
      "text/plain": [
       "          0         1         2         3         4\n",
       "0 -0.315718  1.464745  2.296264 -0.460782  0.815003\n",
       "1  0.013264  0.941314  0.694537 -0.195817  0.165834\n",
       "2 -2.878633  0.413006 -0.583217  0.666333 -0.935474\n",
       "3  0.341080  0.718074 -0.234466  0.128800 -0.216726\n",
       "4 -2.867354  0.089063 -1.338854  0.672085 -1.166749"
      ]
     },
     "execution_count": 390,
     "metadata": {},
     "output_type": "execute_result"
    }
   ],
   "source": [
    "#PCA Analysis\n",
    "\n",
    "# Create a scaler object\n",
    "sc = StandardScaler()\n",
    "\n",
    "# Fit the scaler to the features and transform\n",
    "X_std = sc.fit_transform(X1)\n",
    "\n",
    "# Create a PCA object\n",
    "pca = decomposition.PCA(n_components=5)\n",
    "\n",
    "# Fit the PCA and transform the data\n",
    "X_std_pca = pca.fit_transform(X_std)\n",
    "\n",
    "# View the new feature data's shape\n",
    "X_std_pca.shape\n",
    "\n",
    "# Create a new dataframe with the new features\n",
    "\n",
    "XPCA = pd.DataFrame(X_std_pca)\n",
    "XPCA.head()\n"
   ]
  },
  {
   "cell_type": "code",
   "execution_count": 391,
   "metadata": {},
   "outputs": [
    {
     "name": "stdout",
     "output_type": "stream",
     "text": [
      "[ 0.10734262  0.23251655  0.06607549 -0.03587458  0.05325662]\n"
     ]
    },
    {
     "data": {
      "text/plain": [
       "0.59663591085314249"
      ]
     },
     "execution_count": 391,
     "metadata": {},
     "output_type": "execute_result"
    }
   ],
   "source": [
    "#Fit the Linear Regression model with the PCA features\n",
    "lr = LinearRegression()\n",
    "fitlr = lr.fit(XPCA, Y)\n",
    "\n",
    "print(fitlr.coef_)\n",
    "cross_val_score(lr, XPCA, Y, cv=kf).mean()"
   ]
  },
  {
   "cell_type": "code",
   "execution_count": 392,
   "metadata": {},
   "outputs": [
    {
     "name": "stdout",
     "output_type": "stream",
     "text": [
      "Liner Regression RMSE: 0.3221\n"
     ]
    }
   ],
   "source": [
    "#Predict the value of y\n",
    "y_pred = lr.predict(XPCA)\n",
    "\n",
    "lin_mse = mean_squared_error(y_pred, Y)\n",
    "lin_rmse = np.sqrt(lin_mse)\n",
    "print('Liner Regression RMSE: %.4f' % lin_rmse)"
   ]
  },
  {
   "cell_type": "markdown",
   "metadata": {},
   "source": [
    "***Recursive Feature Elimination & PCA***"
   ]
  },
  {
   "cell_type": "code",
   "execution_count": 393,
   "metadata": {},
   "outputs": [
    {
     "data": {
      "text/html": [
       "<div>\n",
       "<style>\n",
       "    .dataframe thead tr:only-child th {\n",
       "        text-align: right;\n",
       "    }\n",
       "\n",
       "    .dataframe thead th {\n",
       "        text-align: left;\n",
       "    }\n",
       "\n",
       "    .dataframe tbody tr th {\n",
       "        vertical-align: top;\n",
       "    }\n",
       "</style>\n",
       "<table border=\"1\" class=\"dataframe\">\n",
       "  <thead>\n",
       "    <tr style=\"text-align: right;\">\n",
       "      <th></th>\n",
       "      <th>Features</th>\n",
       "      <th>Ranking</th>\n",
       "      <th>Support</th>\n",
       "    </tr>\n",
       "  </thead>\n",
       "  <tbody>\n",
       "    <tr>\n",
       "      <th>8</th>\n",
       "      <td>Expensive</td>\n",
       "      <td>1</td>\n",
       "      <td>True</td>\n",
       "    </tr>\n",
       "    <tr>\n",
       "      <th>9</th>\n",
       "      <td>Moderate</td>\n",
       "      <td>1</td>\n",
       "      <td>True</td>\n",
       "    </tr>\n",
       "    <tr>\n",
       "      <th>10</th>\n",
       "      <td>h</td>\n",
       "      <td>1</td>\n",
       "      <td>True</td>\n",
       "    </tr>\n",
       "    <tr>\n",
       "      <th>11</th>\n",
       "      <td>t</td>\n",
       "      <td>1</td>\n",
       "      <td>True</td>\n",
       "    </tr>\n",
       "    <tr>\n",
       "      <th>12</th>\n",
       "      <td>u</td>\n",
       "      <td>1</td>\n",
       "      <td>True</td>\n",
       "    </tr>\n",
       "    <tr>\n",
       "      <th>0</th>\n",
       "      <td>Rooms</td>\n",
       "      <td>2</td>\n",
       "      <td>False</td>\n",
       "    </tr>\n",
       "    <tr>\n",
       "      <th>6</th>\n",
       "      <td>YearBuilt</td>\n",
       "      <td>3</td>\n",
       "      <td>False</td>\n",
       "    </tr>\n",
       "    <tr>\n",
       "      <th>2</th>\n",
       "      <td>Bathroom</td>\n",
       "      <td>4</td>\n",
       "      <td>False</td>\n",
       "    </tr>\n",
       "    <tr>\n",
       "      <th>1</th>\n",
       "      <td>Bedroom2</td>\n",
       "      <td>5</td>\n",
       "      <td>False</td>\n",
       "    </tr>\n",
       "    <tr>\n",
       "      <th>3</th>\n",
       "      <td>Car</td>\n",
       "      <td>6</td>\n",
       "      <td>False</td>\n",
       "    </tr>\n",
       "    <tr>\n",
       "      <th>7</th>\n",
       "      <td>Price_per_buildingarea</td>\n",
       "      <td>7</td>\n",
       "      <td>False</td>\n",
       "    </tr>\n",
       "    <tr>\n",
       "      <th>5</th>\n",
       "      <td>BuildingArea</td>\n",
       "      <td>8</td>\n",
       "      <td>False</td>\n",
       "    </tr>\n",
       "    <tr>\n",
       "      <th>4</th>\n",
       "      <td>Landsize</td>\n",
       "      <td>9</td>\n",
       "      <td>False</td>\n",
       "    </tr>\n",
       "  </tbody>\n",
       "</table>\n",
       "</div>"
      ],
      "text/plain": [
       "                  Features  Ranking  Support\n",
       "8                Expensive        1     True\n",
       "9                 Moderate        1     True\n",
       "10                       h        1     True\n",
       "11                       t        1     True\n",
       "12                       u        1     True\n",
       "0                    Rooms        2    False\n",
       "6                YearBuilt        3    False\n",
       "2                 Bathroom        4    False\n",
       "1                 Bedroom2        5    False\n",
       "3                      Car        6    False\n",
       "7   Price_per_buildingarea        7    False\n",
       "5             BuildingArea        8    False\n",
       "4                 Landsize        9    False"
      ]
     },
     "execution_count": 393,
     "metadata": {},
     "output_type": "execute_result"
    }
   ],
   "source": [
    "# create the RFE model and select features\n",
    "\n",
    "nfeatures = 5\n",
    "rfe = RFE(lr,nfeatures)\n",
    "fit = rfe.fit(X1,Y)\n",
    "\n",
    "# summarize the selection of the features\n",
    "\n",
    "result_RFE = pd.DataFrame(list(zip(X.head(0), rfe.ranking_, rfe.support_)),columns=['Features','Ranking','Support'] )\n",
    "result_RFE.sort_values('Ranking')"
   ]
  },
  {
   "cell_type": "code",
   "execution_count": 394,
   "metadata": {
    "collapsed": true
   },
   "outputs": [],
   "source": [
    "#Build Feature for the model\n",
    "XRFE = X1[['Expensive','Moderate','h','t','u']]"
   ]
  },
  {
   "cell_type": "code",
   "execution_count": 395,
   "metadata": {},
   "outputs": [
    {
     "name": "stdout",
     "output_type": "stream",
     "text": [
      "[ -2.96434707e+10  -2.96434707e+10  -1.76971322e+10  -1.16780165e+10\n",
      "  -1.54591029e+10]\n"
     ]
    },
    {
     "data": {
      "text/plain": [
       "0.49442804203563939"
      ]
     },
     "execution_count": 395,
     "metadata": {},
     "output_type": "execute_result"
    }
   ],
   "source": [
    "#Fit the Linear Regression model with the PCA features\n",
    "lr = LinearRegression()\n",
    "fitlr = lr.fit(XRFE, Y)\n",
    "\n",
    "print(fitlr.coef_)\n",
    "cross_val_score(lr, XRFE, Y, cv=kf).mean()"
   ]
  },
  {
   "cell_type": "code",
   "execution_count": 396,
   "metadata": {},
   "outputs": [
    {
     "name": "stdout",
     "output_type": "stream",
     "text": [
      "Liner Regression RMSE: 0.3617\n"
     ]
    }
   ],
   "source": [
    "#Predict the value of y\n",
    "y_pred = lr.predict(XRFE)\n",
    "\n",
    "lin_mse = mean_squared_error(y_pred, Y)\n",
    "lin_rmse = np.sqrt(lin_mse)\n",
    "print('Liner Regression RMSE: %.4f' % lin_rmse)"
   ]
  },
  {
   "cell_type": "markdown",
   "metadata": {},
   "source": [
    "***Feature Importance with Random Forest***"
   ]
  },
  {
   "cell_type": "code",
   "execution_count": 397,
   "metadata": {},
   "outputs": [
    {
     "data": {
      "image/png": "[encoded data removed]",
      "text/plain": [
       "<matplotlib.figure.Figure at 0x218e7033390>"
      ]
     },
     "metadata": {},
     "output_type": "display_data"
    }
   ],
   "source": [
    "#Calculate Feature Importance using Random Forest\n",
    "rf = RandomForestRegressor()\n",
    "rf.fit(X1, Y)\n",
    "\n",
    "#Define feature importance\n",
    "feature_importance = rf.feature_importances_\n",
    "\n",
    "# Make importances relative to max importance.\n",
    "feature_importance = 100.0 * (feature_importance / feature_importance.max())\n",
    "sorted_idx = np.argsort(feature_importance)\n",
    "pos = np.arange(sorted_idx.shape[0]) + .5\n",
    "plt.figure(figsize=(7, 30))\n",
    "plt.subplot(1, 1, 1)\n",
    "plt.barh(pos, feature_importance[sorted_idx], align='center')\n",
    "plt.yticks(pos, X1.columns[sorted_idx])\n",
    "plt.xlabel('Relative Importance')\n",
    "plt.title('Features')\n",
    "plt.show()"
   ]
  },
  {
   "cell_type": "code",
   "execution_count": 423,
   "metadata": {},
   "outputs": [
    {
     "data": {
      "text/html": [
       "<div>\n",
       "<style>\n",
       "    .dataframe thead tr:only-child th {\n",
       "        text-align: right;\n",
       "    }\n",
       "\n",
       "    .dataframe thead th {\n",
       "        text-align: left;\n",
       "    }\n",
       "\n",
       "    .dataframe tbody tr th {\n",
       "        vertical-align: top;\n",
       "    }\n",
       "</style>\n",
       "<table border=\"1\" class=\"dataframe\">\n",
       "  <thead>\n",
       "    <tr style=\"text-align: right;\">\n",
       "      <th></th>\n",
       "      <th>Best Features</th>\n",
       "    </tr>\n",
       "  </thead>\n",
       "  <tbody>\n",
       "    <tr>\n",
       "      <th>Rooms</th>\n",
       "      <td>3.459063</td>\n",
       "    </tr>\n",
       "    <tr>\n",
       "      <th>Expensive</th>\n",
       "      <td>3.451900</td>\n",
       "    </tr>\n",
       "    <tr>\n",
       "      <th>Moderate</th>\n",
       "      <td>3.451900</td>\n",
       "    </tr>\n",
       "    <tr>\n",
       "      <th>u</th>\n",
       "      <td>2.871461</td>\n",
       "    </tr>\n",
       "    <tr>\n",
       "      <th>Bedroom2</th>\n",
       "      <td>2.611380</td>\n",
       "    </tr>\n",
       "    <tr>\n",
       "      <th>Price_per_buildingarea</th>\n",
       "      <td>2.344780</td>\n",
       "    </tr>\n",
       "    <tr>\n",
       "      <th>h</th>\n",
       "      <td>2.153194</td>\n",
       "    </tr>\n",
       "    <tr>\n",
       "      <th>Bathroom</th>\n",
       "      <td>1.992744</td>\n",
       "    </tr>\n",
       "    <tr>\n",
       "      <th>YearBuilt</th>\n",
       "      <td>1.518611</td>\n",
       "    </tr>\n",
       "    <tr>\n",
       "      <th>Car</th>\n",
       "      <td>1.167873</td>\n",
       "    </tr>\n",
       "    <tr>\n",
       "      <th>t</th>\n",
       "      <td>0.844645</td>\n",
       "    </tr>\n",
       "    <tr>\n",
       "      <th>BuildingArea</th>\n",
       "      <td>0.636687</td>\n",
       "    </tr>\n",
       "    <tr>\n",
       "      <th>Landsize</th>\n",
       "      <td>0.566039</td>\n",
       "    </tr>\n",
       "  </tbody>\n",
       "</table>\n",
       "</div>"
      ],
      "text/plain": [
       "                        Best Features\n",
       "Rooms                        3.459063\n",
       "Expensive                    3.451900\n",
       "Moderate                     3.451900\n",
       "u                            2.871461\n",
       "Bedroom2                     2.611380\n",
       "Price_per_buildingarea       2.344780\n",
       "h                            2.153194\n",
       "Bathroom                     1.992744\n",
       "YearBuilt                    1.518611\n",
       "Car                          1.167873\n",
       "t                            0.844645\n",
       "BuildingArea                 0.636687\n",
       "Landsize                     0.566039"
      ]
     },
     "execution_count": 423,
     "metadata": {},
     "output_type": "execute_result"
    }
   ],
   "source": [
    "#Feature Selection. Scores for the most relevant features (should we start with the one that has more explanatory power)\n",
    "from sklearn.feature_selection import SelectKBest\n",
    "\n",
    "# feature extraction\n",
    "test = SelectKBest()\n",
    "fit = test.fit(X1, Y)\n",
    "\n",
    "#Identify features with highest score from a predictive perspective (for all programs)\n",
    "names2 = X1.columns\n",
    "Bestfeatures = pd.DataFrame(fit.scores_, index = names2)\n",
    "Bestfeatures.columns = ['Best Features']\n",
    "Bestfeatures.sort_values(by=['Best Features'], ascending=False)"
   ]
  },
  {
   "cell_type": "code",
   "execution_count": 398,
   "metadata": {
    "collapsed": true
   },
   "outputs": [],
   "source": [
    "#Build the new features based on Feature Importance\n",
    "X2 = X1[['Price_per_buildingarea','BuildingArea','u']]\n",
    "Y2 = Y"
   ]
  },
  {
   "cell_type": "code",
   "execution_count": 399,
   "metadata": {
    "collapsed": true
   },
   "outputs": [],
   "source": [
    "#Split between train and test\n",
    "X_train2, X_test2, y_train2, y_test2 = train_test_split(X2, Y2, test_size=0.3, random_state=0)"
   ]
  },
  {
   "cell_type": "code",
   "execution_count": 400,
   "metadata": {},
   "outputs": [
    {
     "name": "stdout",
     "output_type": "stream",
     "text": [
      "[ 0.04180841  0.33027357 -0.21084049]\n"
     ]
    },
    {
     "data": {
      "text/plain": [
       "0.13045701015227221"
      ]
     },
     "execution_count": 400,
     "metadata": {},
     "output_type": "execute_result"
    }
   ],
   "source": [
    "#Fit the Linear Regression model with the PCA features\n",
    "lr = LinearRegression()\n",
    "fitlr = lr.fit(X_train2, y_train2)\n",
    "\n",
    "print(fitlr.coef_)\n",
    "cross_val_score(lr, X_train2, y_train2, cv=kf).mean()"
   ]
  },
  {
   "cell_type": "code",
   "execution_count": 401,
   "metadata": {},
   "outputs": [
    {
     "name": "stdout",
     "output_type": "stream",
     "text": [
      "Linaer Regression RMSE: 0.7367\n"
     ]
    }
   ],
   "source": [
    "#Predict the value of y\n",
    "y_pred = lr.predict(X_test2)\n",
    "\n",
    "lin_mse = mean_squared_error(y_pred,y_test2)\n",
    "lin_rmse = np.sqrt(lin_mse)\n",
    "print('Linear Regression RMSE: %.4f' % lin_rmse)"
   ]
  },
  {
   "cell_type": "markdown",
   "metadata": {},
   "source": [
    "***Feature Selection using Lasso***"
   ]
  },
  {
   "cell_type": "code",
   "execution_count": 402,
   "metadata": {},
   "outputs": [
    {
     "data": {
      "image/png": "[encoded data removed]",
      "text/plain": [
       "<matplotlib.figure.Figure at 0x218e8e02710>"
      ]
     },
     "metadata": {},
     "output_type": "display_data"
    }
   ],
   "source": [
    "#Feature Selection using Lasso\n",
    "\n",
    "\n",
    "for lambd in [x * 0.01 for x in range(1, 100)]:\n",
    "    lasso = Lasso(alpha=lambd)\n",
    "    lasso_coef = lasso.fit(X1, Y).coef_\n",
    "    plt.xticks(range(len(names)), names, rotation=90)\n",
    "    plt.ylabel('Coefficients')\n",
    "    plt.plot(range(len(names)), lasso_coef)\n",
    "\n",
    "plt.show()"
   ]
  },
  {
   "cell_type": "code",
   "execution_count": 403,
   "metadata": {
    "collapsed": true
   },
   "outputs": [],
   "source": [
    "#Build new set of features\n",
    "Xl = X1[['Rooms','Bathroom','Car','YearBuilt','Expensive','h','u']]"
   ]
  },
  {
   "cell_type": "code",
   "execution_count": 404,
   "metadata": {
    "collapsed": true
   },
   "outputs": [],
   "source": [
    "#Split between train and test\n",
    "X_trainl, X_testl, y_trainl, y_testl = train_test_split(Xl, Y, test_size=0.3, random_state=0)"
   ]
  },
  {
   "cell_type": "code",
   "execution_count": 405,
   "metadata": {},
   "outputs": [
    {
     "name": "stdout",
     "output_type": "stream",
     "text": [
      "[ 0.15426743  0.05938789  0.01728838 -0.06199781  0.27189489  0.06720124\n",
      " -0.1171208 ]\n"
     ]
    },
    {
     "data": {
      "text/plain": [
       "0.6122587018626201"
      ]
     },
     "execution_count": 405,
     "metadata": {},
     "output_type": "execute_result"
    }
   ],
   "source": [
    "#Fit the Linear Regression model with the PCA features\n",
    "lr = LinearRegression()\n",
    "fitlr = lr.fit(X_trainl, y_trainl)\n",
    "\n",
    "print(fitlr.coef_)\n",
    "cross_val_score(lr, X_trainl, y_trainl, cv=kf).mean()"
   ]
  },
  {
   "cell_type": "code",
   "execution_count": 406,
   "metadata": {},
   "outputs": [
    {
     "name": "stdout",
     "output_type": "stream",
     "text": [
      "Liner Regression RMSE: 0.3136\n"
     ]
    },
    {
     "data": {
      "text/plain": [
       "0.61964093929640218"
      ]
     },
     "execution_count": 406,
     "metadata": {},
     "output_type": "execute_result"
    }
   ],
   "source": [
    "#Predict the value of y\n",
    "y_pred = lr.predict(X_testl)\n",
    "\n",
    "lin_mse = mean_squared_error(y_pred, y_testl)\n",
    "lin_rmse = np.sqrt(lin_mse)\n",
    "print('Liner Regression RMSE: %.4f' % lin_rmse)\n",
    "cross_val_score(lr, X_testl, y_testl, cv=kf).mean()"
   ]
  },
  {
   "cell_type": "markdown",
   "metadata": {},
   "source": [
    "***Ridge Regression***"
   ]
  },
  {
   "cell_type": "code",
   "execution_count": 407,
   "metadata": {},
   "outputs": [
    {
     "data": {
      "text/plain": [
       "Index(['Rooms', 'Bedroom2', 'Bathroom', 'Car', 'Landsize', 'BuildingArea',\n",
       "       'YearBuilt', 'Price_per_buildingarea', 'Expensive', 'Moderate', 'h',\n",
       "       't', 'u'],\n",
       "      dtype='object')"
      ]
     },
     "execution_count": 407,
     "metadata": {},
     "output_type": "execute_result"
    }
   ],
   "source": [
    "#Inspect columns\n",
    "\n",
    "X1.columns"
   ]
  },
  {
   "cell_type": "code",
   "execution_count": 408,
   "metadata": {},
   "outputs": [],
   "source": [
    "#Build new set of features\n",
    "\n",
    "#Try using the whole set of initial features\n",
    "Xr0 = X1[['Rooms', 'Bedroom2', 'Bathroom', 'Car', 'Landsize', 'BuildingArea',\n",
    "       'YearBuilt', 'Price_per_buildingarea', 'Expensive', 'Moderate', 'h',\n",
    "       't', 'u']]\n",
    "\n",
    "#Based on the values of the coefficients, take the meaningful features\n",
    "Xr1 = X1[['Rooms', 'Bedroom2', 'Bathroom', 'Car',\n",
    "       'YearBuilt', 'Price_per_buildingarea', 'Expensive', 'Moderate', 'h',\n",
    "        'u']]"
   ]
  },
  {
   "cell_type": "code",
   "execution_count": 409,
   "metadata": {},
   "outputs": [],
   "source": [
    "#Split between train and test\n",
    "\n",
    "X_trainr, X_testr, y_trainr, y_testr = train_test_split(Xr1, Y, test_size=0.3, random_state=0)"
   ]
  },
  {
   "cell_type": "code",
   "execution_count": 410,
   "metadata": {},
   "outputs": [
    {
     "name": "stdout",
     "output_type": "stream",
     "text": [
      "[ 0.20343497 -0.0665475   0.07364594  0.02284543 -0.06389839  0.01804164\n",
      "  0.13507539 -0.13507539  0.07084918 -0.11183237]\n",
      "13.7286906013\n"
     ]
    },
    {
     "data": {
      "text/plain": [
       "0.61695796243346701"
      ]
     },
     "execution_count": 410,
     "metadata": {},
     "output_type": "execute_result"
    }
   ],
   "source": [
    "# Declare a Ridge regression classifier.\n",
    "\n",
    "ridgeregr = Ridge() \n",
    "\n",
    "# Fit the model.\n",
    "fit = ridgeregr.fit(X_trainr, y_trainr)\n",
    "print(fit.coef_)\n",
    "print(fit.intercept_)\n",
    "cross_val_score(ridgeregr,X_trainr, y_trainr, cv=kf).mean()"
   ]
  },
  {
   "cell_type": "code",
   "execution_count": 411,
   "metadata": {},
   "outputs": [
    {
     "data": {
      "text/plain": [
       "Text(0,0.5,'R2')"
      ]
     },
     "execution_count": 411,
     "metadata": {},
     "output_type": "execute_result"
    },
    {
     "data": {
      "image/png": "[encoded data removed]",
      "text/plain": [
       "<matplotlib.figure.Figure at 0x218e85ac7b8>"
      ]
     },
     "metadata": {},
     "output_type": "display_data"
    }
   ],
   "source": [
    "# Inspect and Adjust Parameter in Ridge Regression for testing\n",
    "\n",
    "# Store estimates\n",
    "\n",
    "scores = np.append(cross_val_score(ridgeregr, X_trainr, y_trainr, cv=kf).mean(),[0])\n",
    "\n",
    "#Run the model for many alphas\n",
    "\n",
    "for lambd in range(1, 25):\n",
    "    ridgeregr = Ridge(alpha=lambd)\n",
    "    ridgeregr.fit(X_trainr, y_trainr)\n",
    "    scores = np.row_stack((\n",
    "        scores,np.append(cross_val_score(ridgeregr, X_trainr, y_trainr, cv=kf).mean(),[lambd])))\n",
    " \n",
    "# Make the data pretty\n",
    "\n",
    "scores_df = pd.DataFrame(\n",
    "    scores,columns = ['R2','lambd'])\n",
    "scores_df.sort_values(by='lambd', inplace=True, ascending=True)\n",
    "\n",
    "#Plot changes in R2 vs lambda\n",
    "\n",
    "plt.plot(scores_df['lambd'], scores_df['R2'])\n",
    "plt.title('Ridge Regression')\n",
    "plt.xlabel('lambd')\n",
    "plt.ylabel('R2')"
   ]
  },
  {
   "cell_type": "code",
   "execution_count": 412,
   "metadata": {},
   "outputs": [
    {
     "name": "stdout",
     "output_type": "stream",
     "text": [
      "Linear Regression RMSE: 0.3115\n"
     ]
    },
    {
     "data": {
      "text/plain": [
       "0.62289090801939595"
      ]
     },
     "execution_count": 412,
     "metadata": {},
     "output_type": "execute_result"
    }
   ],
   "source": [
    "# Testing the Ridge Regression.\n",
    "\n",
    "\n",
    "ridgeregr1 = Ridge(alpha=18)\n",
    "\n",
    "# Fit the model.\n",
    "fit = ridgeregr1.fit(X_testr, y_testr)\n",
    "\n",
    "#Predict the value of y\n",
    "y_pred = ridgeregr1.predict(X_testr)\n",
    "\n",
    "lin_mse = mean_squared_error(y_pred, y_testr)\n",
    "lin_rmse = np.sqrt(lin_mse)\n",
    "print('Linear Regression RMSE: %.4f' % lin_rmse)\n",
    "cross_val_score(ridgeregr, X_testr, y_testr, cv=kf).mean()"
   ]
  },
  {
   "cell_type": "markdown",
   "metadata": {},
   "source": [
    "***Random Forest***"
   ]
  },
  {
   "cell_type": "code",
   "execution_count": 413,
   "metadata": {
    "collapsed": true
   },
   "outputs": [],
   "source": [
    "#Build the new features based on Feature Importance\n",
    "X3 = X1[['Price_per_buildingarea','BuildingArea','u']]\n",
    "\n",
    "#Split between train and test\n",
    "X_train3, X_test3, y_train3, y_test3 = train_test_split(X3, Y, test_size=0.3, random_state=0)"
   ]
  },
  {
   "cell_type": "code",
   "execution_count": 415,
   "metadata": {},
   "outputs": [
    {
     "data": {
      "text/plain": [
       "0.88514969635442298"
      ]
     },
     "execution_count": 415,
     "metadata": {},
     "output_type": "execute_result"
    }
   ],
   "source": [
    "#Initialize and fit the model\n",
    "\n",
    "abc = RandomForestRegressor()\n",
    "\n",
    "#Create range of values to fit parameters\n",
    "\n",
    "#k2 = ['mse','friedman_mse','mae']\n",
    "#k4 = ['auto','sqrt','log2', None]\n",
    "k3 = [50,100,150,200,250,300]\n",
    "\n",
    "parameters = { #'criterion': k2,\n",
    "              'n_estimators': k3,\n",
    "             #'max_features': k4\n",
    "}\n",
    "\n",
    "#Fit parameters\n",
    "\n",
    "clf = GridSearchCV(abc, param_grid=parameters, cv=10)\n",
    "\n",
    "clf.fit(X_trainr,y_trainr)\n",
    "cross_val_score(clf, X_trainr, y_trainr, cv=kf).mean()"
   ]
  },
  {
   "cell_type": "code",
   "execution_count": 420,
   "metadata": {},
   "outputs": [
    {
     "name": "stdout",
     "output_type": "stream",
     "text": [
      "Linear Regression RMSE: 0.1683\n"
     ]
    },
    {
     "data": {
      "text/plain": [
       "0.88110312280864878"
      ]
     },
     "execution_count": 420,
     "metadata": {},
     "output_type": "execute_result"
    }
   ],
   "source": [
    "#Predict the value of y\n",
    "y_pred = clf.predict(X_testr)\n",
    "\n",
    "lin_mse = mean_squared_error(y_pred, y_testr)\n",
    "lin_rmse = np.sqrt(lin_mse)\n",
    "print('Linear Regression RMSE: %.4f' % lin_rmse)\n",
    "cross_val_score(clf, X_testr, y_testr, cv=kf).mean()"
   ]
  },
  {
   "cell_type": "markdown",
   "metadata": {
    "collapsed": true
   },
   "source": [
    "***Decision Tree***"
   ]
  },
  {
   "cell_type": "code",
   "execution_count": 421,
   "metadata": {},
   "outputs": [
    {
     "data": {
      "text/plain": [
       "0.7935604361558205"
      ]
     },
     "execution_count": 421,
     "metadata": {},
     "output_type": "execute_result"
    }
   ],
   "source": [
    "#Initialize and fit the model\n",
    "\n",
    "rf = DecisionTreeRegressor()\n",
    "\n",
    "#Create range of values to fit parameters\n",
    "\n",
    "k1  =['best','random']\n",
    "k2 = ['mse','friedman_mse','mae']\n",
    "#k4 = ['auto','sqrt','log2', None]\n",
    "parameters = { 'criterion': k2,\n",
    "              'splitter': k1,\n",
    "             #'max_features': k4\n",
    "             }\n",
    "\n",
    "#Fit parameters\n",
    "\n",
    "rf1 = GridSearchCV(rf, param_grid=parameters, cv=10)\n",
    "\n",
    "\n",
    "rf1.fit(X_trainr,y_trainr)\n",
    "cross_val_score(rf1, X_trainr, y_trainr, cv=kf).mean()"
   ]
  },
  {
   "cell_type": "code",
   "execution_count": 422,
   "metadata": {},
   "outputs": [
    {
     "name": "stdout",
     "output_type": "stream",
     "text": [
      "Liner Regression RMSE: 0.2183\n"
     ]
    },
    {
     "data": {
      "text/plain": [
       "0.81028010026684139"
      ]
     },
     "execution_count": 422,
     "metadata": {},
     "output_type": "execute_result"
    }
   ],
   "source": [
    "#Predict the value of y\n",
    "y_pred = rf1.predict(X_testr)\n",
    "\n",
    "lin_mse = mean_squared_error(y_pred, y_testr)\n",
    "lin_rmse = np.sqrt(lin_mse)\n",
    "print('Liner Regression RMSE: %.4f' % lin_rmse)\n",
    "cross_val_score(rf1, X_testr, y_testr, cv=kf).mean()"
   ]
  },
  {
   "cell_type": "markdown",
   "metadata": {},
   "source": [
    "***Gradient Boosting***"
   ]
  },
  {
   "cell_type": "code",
   "execution_count": 418,
   "metadata": {},
   "outputs": [
    {
     "data": {
      "text/plain": [
       "0.8888415689931719"
      ]
     },
     "execution_count": 418,
     "metadata": {},
     "output_type": "execute_result"
    }
   ],
   "source": [
    "# Train model\n",
    "GBR = GradientBoostingRegressor()\n",
    "\n",
    "#k2 = ['ls','lad','huber','quantile']\n",
    "k4 = [50,100,150,200,250,300]\n",
    "\n",
    "parameters = { #'loss': k2,\n",
    "             'n_estimators': k4}\n",
    "\n",
    "#Fit parameters\n",
    "\n",
    "GBR1 = GridSearchCV(GBR, param_grid=parameters, cv=10)\n",
    "\n",
    "GBR1.fit(X_trainr, y_trainr)\n",
    "cross_val_score(GBR1, X_trainr, y_trainr, cv=kf).mean()"
   ]
  },
  {
   "cell_type": "code",
   "execution_count": 419,
   "metadata": {},
   "outputs": [
    {
     "name": "stdout",
     "output_type": "stream",
     "text": [
      "Liner Regression RMSE: 0.1613\n"
     ]
    },
    {
     "data": {
      "text/plain": [
       "0.88758159557211658"
      ]
     },
     "execution_count": 419,
     "metadata": {},
     "output_type": "execute_result"
    }
   ],
   "source": [
    "#Predict the value of y\n",
    "y_pred = GBR1.predict(X_testr)\n",
    "\n",
    "lin_mse = mean_squared_error(y_pred, y_testr)\n",
    "lin_rmse = np.sqrt(lin_mse)\n",
    "print('Liner Regression RMSE: %.4f' % lin_rmse)\n",
    "cross_val_score(GBR1, X_testr, y_testr, cv=kf).mean()"
   ]
  },
  {
   "cell_type": "markdown",
   "metadata": {},
   "source": [
    "The dataset contained the Melbourne real estate market prices for form 2016 until September 2017. To clean the dataset, first the data was analyzed and only the data for one complete year was taken (sept 2016 - sept 2017). Additionally, the data points that didn´t contain prices were eliminated and the rest of the missing data points were replaced by the median of the column. The price presented a skewed to the left distribution and to smoothen it into a normal distribution, the logarithm of the price was used as an output variable\n",
    "\n",
    "The relationship between the variables was analyzed being Rooms, bedroom2 and bathroom the ones that showed a higher correlation with the price. From a \"Rooms\" variable perspective, there were outliers that were reducing the accuracy of the models, hence, all data points with more than 10 rooms were eliminated increasing the accuracy of all the models by approx. 5% (except KNN and random forest).\n",
    "Feature selection was done with RFE, Feature importance and Lasso regression. The difference between them was significant, being the final set of features that is giving better accuracy the one obtained through feature importance using random fores.:\n",
    "Linear regression, randomforest, Decisiontreeregression, KNN and gradient boosting models were set on the training set and the hyperparameters were tuned. The model were passed through the test set.\n",
    "\n",
    "The results for each of the models in the testset are:\n",
    "Linear regression (Lasso): 0.619\n",
    "Linear regression (ridge): 0623\n",
    "Random Forest: 0.881\n",
    "Decision Tree: 0.81\n",
    "Gradient Boost: 0.887\n",
    "Hence, the best model from an accuracy perspective is the Gradient Boosting model with an 88.7% accuracy"
   ]
  }
 ],
 "metadata": {
  "kernelspec": {
   "display_name": "Python 3",
   "language": "python",
   "name": "python3"
  },
  "language_info": {
   "codemirror_mode": {
    "name": "ipython",
    "version": 3
   },
   "file_extension": ".py",
   "mimetype": "text/x-python",
   "name": "python",
   "nbconvert_exporter": "python",
   "pygments_lexer": "ipython3",
   "version": "3.5.4"
  }
 },
 "nbformat": 4,
 "nbformat_minor": 2
}
