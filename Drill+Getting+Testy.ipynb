{
 "cells": [
  {
   "cell_type": "markdown",
   "metadata": {},
   "source": [
    "### 1. Does a new supplement help people sleep better?\n",
    "### 2. Will new uniforms help a gym's business?\n",
    "### 3. Will a new homepage improve my online exotic pet rental business?\n",
    "### 4. If I put 'please read' in the email subject will more people read my emails?"
   ]
  },
  {
   "cell_type": "markdown",
   "metadata": {},
   "source": [
    "#### Two versions\n",
    "1. Use the supplement and a placebo with the same look, feel and taste so that no bias is introduced.\n",
    "2. The season that has more registrations to use the facility and one month of heavy usage and another of low usage of the gym by customers\n",
    "3. The new homepage and the old homepage with and email that looks exactly the same but has a different link (old and new homepage)\n",
    "4. Emails with \"please read\" in the subject and the same emails without the \"please read\" in the subject\n",
    "#### A sample, divided into two groups. \n",
    "1. Split the population under analysis in two groups (with equal number of individuals in terms of gender for each age bracket. The population age range will depend on the target market of the population under analysis.  Give the placebo to one of the groups and the supplement to the other group. To be given, the same date at the same time without differentiating the groups.\n",
    "2. Within tach of the periods deskhelp and employees will appear in the morning/afternoon/evening alternatively with and without uniforms so that morning/evening and afternoon customers are attended by gym employees with and without uniforms. This will be repeated throughout the months in which it is tested.\n",
    "3. Database of potential customers with equal number of individuals regarding gender and age and naitionality\n",
    "4. Database of potential and existing customers witth equal number of individuals regarding gender, age and nationality\n",
    "#### A hypothesis.\n",
    "1. The supplement given to the \"test group\" will make them sleep better than the population in the control group.\n",
    "2. The use of uniforms will increase registrations and usage of facilities by customers at different points in time.\n",
    "3. The new page is more appealing to new customers so they are going to rent more \"exotic pets\"\n",
    "4. The please read message in the subject will increase the answer or clicks in the link provided\n",
    "#### Outcome(s) of interest.\n",
    "1. How many hours is the group under analysis sleeping and how much time do they need to fall asleep\n",
    "2. How many new registrations the gym has when people are attended by employees wearing uniforms\n",
    "3. The number of rentals through each of the homepages.\n",
    "4. The number of emails answered or the number of clicks to the link in each case\n",
    "\n",
    "#### Other measured variables\n",
    "1. How does the supplement impact sleep by gender and age\n",
    "2. How the use of uniforms influcences the use of the gym and registration by age, time of the day and gender and nationality or type of sport they practice.\n",
    "3. The type of exotic pets that are rented in each case, is there an increase per kind of species. Is there a change in terms of age, gender regarding the rentals that were happening before the new homepage was launched\n",
    "4. Differences per age and/or gender\n"
   ]
  }
 ],
 "metadata": {
  "kernelspec": {
   "display_name": "Python 3",
   "language": "python",
   "name": "python3"
  },
  "language_info": {
   "codemirror_mode": {
    "name": "ipython",
    "version": 3
   },
   "file_extension": ".py",
   "mimetype": "text/x-python",
   "name": "python",
   "nbconvert_exporter": "python",
   "pygments_lexer": "ipython3",
   "version": "3.6.1"
  }
 },
 "nbformat": 4,
 "nbformat_minor": 2
}
