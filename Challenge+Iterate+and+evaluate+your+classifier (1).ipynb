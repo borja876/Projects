{
 "cells": [
  {
   "cell_type": "code",
   "execution_count": 1463,
   "metadata": {
    "collapsed": true
   },
   "outputs": [],
   "source": [
    "%matplotlib inline\n",
    "import numpy as np\n",
    "import pandas as pd\n",
    "import scipy\n",
    "import sklearn\n",
    "import matplotlib.pyplot as plt\n",
    "import seaborn as sns\n",
    "import math\n",
    "from matplotlib.mlab import PCA as mlabPCA\n",
    "from sklearn.preprocessing import StandardScaler\n",
    "from sklearn.decomposition import PCA \n",
    "from sklearn import preprocessing\n",
    "from sklearn.feature_selection import SelectKBest\n",
    "import seaborn as sns\n",
    "import scipy.stats as stats\n",
    "from sklearn.naive_bayes import GaussianNB\n",
    "from sklearn.naive_bayes import MultinomialNB\n",
    "from sklearn.naive_bayes import BernoulliNB\n",
    "from sklearn.metrics import confusion_matrix\n",
    "from sklearn.model_selection import cross_val_score, KFold\n",
    "import matplotlib.pyplot as plt\n",
    "from sklearn.model_selection import StratifiedKFold\n",
    "from sklearn.feature_selection import RFECV\n",
    "from sklearn.datasets import make_classification\n",
    "from sklearn.feature_selection import RFE\n",
    "from sklearn.model_selection import cross_val_predict\n",
    "from sklearn import metrics"
   ]
  },
  {
   "cell_type": "code",
   "execution_count": 1464,
   "metadata": {},
   "outputs": [
    {
     "data": {
      "text/html": [
       "<div>\n",
       "<style>\n",
       "    .dataframe thead tr:only-child th {\n",
       "        text-align: right;\n",
       "    }\n",
       "\n",
       "    .dataframe thead th {\n",
       "        text-align: left;\n",
       "    }\n",
       "\n",
       "    .dataframe tbody tr th {\n",
       "        vertical-align: top;\n",
       "    }\n",
       "</style>\n",
       "<table border=\"1\" class=\"dataframe\">\n",
       "  <thead>\n",
       "    <tr style=\"text-align: right;\">\n",
       "      <th></th>\n",
       "      <th>Sentence</th>\n",
       "      <th>Sentiment</th>\n",
       "    </tr>\n",
       "  </thead>\n",
       "  <tbody>\n",
       "    <tr>\n",
       "      <th>1</th>\n",
       "      <td>Good case, Excellent value.</td>\n",
       "      <td>1</td>\n",
       "    </tr>\n",
       "    <tr>\n",
       "      <th>2</th>\n",
       "      <td>Great for the jawbone.</td>\n",
       "      <td>1</td>\n",
       "    </tr>\n",
       "    <tr>\n",
       "      <th>4</th>\n",
       "      <td>The mic is great.</td>\n",
       "      <td>1</td>\n",
       "    </tr>\n",
       "    <tr>\n",
       "      <th>7</th>\n",
       "      <td>If you are Razr owner...you must have this!</td>\n",
       "      <td>1</td>\n",
       "    </tr>\n",
       "    <tr>\n",
       "      <th>10</th>\n",
       "      <td>And the sound quality is great.</td>\n",
       "      <td>1</td>\n",
       "    </tr>\n",
       "  </tbody>\n",
       "</table>\n",
       "</div>"
      ],
      "text/plain": [
       "                                       Sentence  Sentiment\n",
       "1                   Good case, Excellent value.          1\n",
       "2                        Great for the jawbone.          1\n",
       "4                             The mic is great.          1\n",
       "7   If you are Razr owner...you must have this!          1\n",
       "10              And the sound quality is great.          1"
      ]
     },
     "execution_count": 1464,
     "metadata": {},
     "output_type": "execute_result"
    }
   ],
   "source": [
    "# Amazon Raw Data\n",
    "data_path = (\"https://raw.githubusercontent.com/borja876/Thinkful-DataScience-Borja/master/amazon_cells_labelled.txt\"\n",
    "            )\n",
    "amazon = pd.read_csv(data_path, delimiter= '\\t', header=None)\n",
    "amazon.columns = ['Sentence', 'Sentiment']\n",
    "#sms_raw.head(30)  \n",
    "amazon.loc[amazon['Sentiment'] == 1].head()"
   ]
  },
  {
   "cell_type": "code",
   "execution_count": 1465,
   "metadata": {
    "collapsed": true
   },
   "outputs": [],
   "source": [
    "# Split the dataset in train and test 80% and have freedom to play with the ratio\n",
    "msk = np.random.rand(len(amazon)) < 0.8\n",
    "train, test = amazon[msk].copy(deep = True), amazon[~msk].copy(deep = True)"
   ]
  },
  {
   "cell_type": "code",
   "execution_count": 1466,
   "metadata": {},
   "outputs": [
    {
     "data": {
      "text/plain": [
       "1    500\n",
       "0    500\n",
       "Name: Sentiment, dtype: int64"
      ]
     },
     "execution_count": 1466,
     "metadata": {},
     "output_type": "execute_result"
    }
   ],
   "source": [
    "# Rows in the dataset and label\n",
    "amazon['Sentiment'].value_counts()"
   ]
  },
  {
   "cell_type": "code",
   "execution_count": 1467,
   "metadata": {},
   "outputs": [],
   "source": [
    " keywords =[ 'happier', 'nice','adorable',\n",
    "            'excited', 'pleased','recommend',\n",
    "            'crisp','increase','better',\n",
    "            'significantly',\n",
    "            'incredibly' ,'super','well', 'clear','securely',\n",
    "            'ideal', 'happy','like', 'easy','amazed',\n",
    "            'excellent', 'awesome','cool', 'fantastic','sturdy',\n",
    "            'love', 'reasonable','great','impressed',\n",
    "              'perfectly','surprised','right',\n",
    "            'joy','satisfied','better','pretty','very good',\n",
    "            'easier','fulfills','ideal', 'beautiful','best','comfortable' ,\n",
    "            'incredible', 'extra', 'works','comfortably']\n",
    "for key in keywords:\n",
    "    # Note that we add spaces around the key so that we're getting the word,\n",
    "    # not just pattern matching.\n",
    "    amazon[str(key)] = amazon.Sentence.str.contains(\n",
    "        ' '+str(key)+' ',\n",
    "        case=False\n",
    "    )"
   ]
  },
  {
   "cell_type": "code",
   "execution_count": 1468,
   "metadata": {
    "collapsed": true
   },
   "outputs": [],
   "source": [
    "amazon['allcaps'] = amazon.Sentence.str.isupper()"
   ]
  },
  {
   "cell_type": "code",
   "execution_count": 1469,
   "metadata": {
    "collapsed": true
   },
   "outputs": [],
   "source": [
    "amazon['Sentiment'] = (amazon['Sentiment'] == 1)\n",
    "# Note that if you run this cell a second time everything will become false.\n",
    "# So... Don't."
   ]
  },
  {
   "cell_type": "code",
   "execution_count": 1470,
   "metadata": {},
   "outputs": [
    {
     "data": {
      "text/plain": [
       "<matplotlib.axes._subplots.AxesSubplot at 0x22d99e50>"
      ]
     },
     "execution_count": 1470,
     "metadata": {},
     "output_type": "execute_result"
    },
    {
     "data": {
      "image/png": "[encoded data removed]",
      "text/plain": [
       "<matplotlib.figure.Figure at 0x22ea1a90>"
      ]
     },
     "metadata": {},
     "output_type": "display_data"
    }
   ],
   "source": [
    "plt.figure(figsize=(20, 7))\n",
    "sns.heatmap(amazon.corr())"
   ]
  },
  {
   "cell_type": "code",
   "execution_count": 1471,
   "metadata": {
    "collapsed": true
   },
   "outputs": [],
   "source": [
    "data = amazon[keywords + ['allcaps']]\n",
    "target = amazon['Sentiment']"
   ]
  },
  {
   "cell_type": "code",
   "execution_count": 1472,
   "metadata": {},
   "outputs": [
    {
     "name": "stdout",
     "output_type": "stream",
     "text": [
      "Number of mislabeled points out of a total 1000 points : 320\n"
     ]
    },
    {
     "data": {
      "text/plain": [
       "array([[470,  30],\n",
       "       [290, 210]], dtype=int64)"
      ]
     },
     "execution_count": 1472,
     "metadata": {},
     "output_type": "execute_result"
    }
   ],
   "source": [
    "# Initantiate our model and store it in a new variable.\n",
    "bnb = BernoulliNB()\n",
    "\n",
    "# Fit our model to the data.\n",
    "bnb.fit(data, target)\n",
    "\n",
    "# Classify, storing the result in a new variable.\n",
    "y_pred = bnb.predict(data)\n",
    "\n",
    "# Display our results.\n",
    "print(\"Number of mislabeled points out of a total {} points : {}\".format(\n",
    "    data.shape[0],\n",
    "    (target != y_pred).sum()\n",
    "))\n",
    "\n",
    "confusion_matrix(target, y_pred)"
   ]
  },
  {
   "cell_type": "code",
   "execution_count": 1473,
   "metadata": {},
   "outputs": [
    {
     "name": "stdout",
     "output_type": "stream",
     "text": [
      "Accuracy :  0.68\n",
      "Specifity :  0.94\n",
      "Sensitivity :  0.42\n"
     ]
    }
   ],
   "source": [
    "#####from confusion matrix calculate accuracy\n",
    "cm = confusion_matrix(target, y_pred)\n",
    "\n",
    "total=sum(sum(cm))\n",
    "accuracy=(cm[0,0]+cm[1,1])/total\n",
    "print ('Accuracy : ', accuracy)\n",
    "\n",
    "Specifity = cm[0,0]/(cm[0,0]+cm[0,1])\n",
    "print('Specifity : ', Specifity )\n",
    "\n",
    "Sensitivity = cm[1,1]/(cm[1,0]+cm[1,1])\n",
    "print('Sensitivity : ', Sensitivity)"
   ]
  },
  {
   "cell_type": "markdown",
   "metadata": {},
   "source": [
    "##### Splitting the data in a train and a test subset\n",
    "\n",
    "**Training the clasifier with 80% of the data**"
   ]
  },
  {
   "cell_type": "code",
   "execution_count": 1474,
   "metadata": {
    "scrolled": false
   },
   "outputs": [],
   "source": [
    " keywords =[ 'nice', 'pleased', 'better',           \n",
    "        'like', 'easy', 'excellent',\n",
    "        'love','impressed',\n",
    "        'satisfied','better','pretty',\n",
    "        'best','works great']\n",
    "    \n",
    "for key in keywords:\n",
    "    # Note that we add spaces around the key so that we're getting the word,\n",
    "    # not just pattern matching.\n",
    "    train[str(key)] = train.Sentence.str.contains(\n",
    "        ' '+str(key)+' ',\n",
    "        case=False\n",
    "    )"
   ]
  },
  {
   "cell_type": "code",
   "execution_count": 1475,
   "metadata": {},
   "outputs": [
    {
     "data": {
      "text/plain": [
       "<matplotlib.axes._subplots.AxesSubplot at 0x233d22d0>"
      ]
     },
     "execution_count": 1475,
     "metadata": {},
     "output_type": "execute_result"
    },
    {
     "data": {
      "image/png": "[encoded data removed]",
      "text/plain": [
       "<matplotlib.figure.Figure at 0x22dffbb0>"
      ]
     },
     "metadata": {},
     "output_type": "display_data"
    }
   ],
   "source": [
    "train['allcaps'] = train.Sentence.str.isupper()\n",
    "train['Sentiment'] = (train['Sentiment'] == 1)\n",
    "plt.figure(figsize=(20, 7))\n",
    "sns.heatmap(train.corr())"
   ]
  },
  {
   "cell_type": "code",
   "execution_count": 1476,
   "metadata": {},
   "outputs": [],
   "source": [
    "data1 = train[keywords + ['allcaps']]\n",
    "target1 = train['Sentiment']"
   ]
  },
  {
   "cell_type": "code",
   "execution_count": 1477,
   "metadata": {},
   "outputs": [
    {
     "name": "stdout",
     "output_type": "stream",
     "text": [
      "Number of mislabeled points out of a total 807 points : 322\n"
     ]
    },
    {
     "data": {
      "text/plain": [
       "array([[408,  10],\n",
       "       [312,  77]], dtype=int64)"
      ]
     },
     "execution_count": 1477,
     "metadata": {},
     "output_type": "execute_result"
    }
   ],
   "source": [
    "# Initantiate our model and store it in a new variable.\n",
    "bnb2 = BernoulliNB()\n",
    "\n",
    "# Fit our model to the data.\n",
    "bnb2.fit(data1, target1)\n",
    "\n",
    "# Classify, storing the result in a new variable.\n",
    "y_pred1 = bnb2.predict(data1)\n",
    "\n",
    "# Display our results.\n",
    "print(\"Number of mislabeled points out of a total {} points : {}\".format(\n",
    "    data1.shape[0],\n",
    "    (target1 != y_pred1).sum()\n",
    "))\n",
    "\n",
    "confusion_matrix(target1, y_pred1)"
   ]
  },
  {
   "cell_type": "code",
   "execution_count": 1478,
   "metadata": {},
   "outputs": [
    {
     "name": "stdout",
     "output_type": "stream",
     "text": [
      "Accuracy :  0.600991325898\n",
      "Specifity :  0.976076555024\n",
      "Sensitivity :  0.19794344473\n"
     ]
    }
   ],
   "source": [
    "#####from confusion matrix calculate accuracy\n",
    "cm1 = confusion_matrix(target1, y_pred1)\n",
    "\n",
    "total1=sum(sum(cm1))\n",
    "accuracy1=(cm1[0,0]+cm1[1,1])/total1\n",
    "print ('Accuracy : ', accuracy1)\n",
    "\n",
    "Specifity1 = cm1[0,0]/(cm1[0,0]+cm1[0,1])\n",
    "print('Specifity : ', Specifity1 )\n",
    "\n",
    "Sensitivity1 = cm1[1,1]/(cm1[1,0]+cm1[1,1])\n",
    "print('Sensitivity : ', Sensitivity1)"
   ]
  },
  {
   "cell_type": "markdown",
   "metadata": {},
   "source": [
    "**Test the result of training the model**"
   ]
  },
  {
   "cell_type": "code",
   "execution_count": 1479,
   "metadata": {},
   "outputs": [],
   "source": [
    "for key in keywords:\n",
    "    # Note that we add spaces around the key so that we're getting the word,\n",
    "    # not just pattern matching.\n",
    "    test[str(key)] = test.Sentence.str.contains(\n",
    "        ' '+str(key)+' ',\n",
    "        case=False\n",
    "    )\n",
    "test['allcaps'] = test.Sentence.str.isupper()\n",
    "test['Sentiment'] = (test['Sentiment'] == 1)"
   ]
  },
  {
   "cell_type": "code",
   "execution_count": 1480,
   "metadata": {},
   "outputs": [],
   "source": [
    "data2 = test[keywords +['allcaps']]\n",
    "target2 = test['Sentiment']"
   ]
  },
  {
   "cell_type": "code",
   "execution_count": 1481,
   "metadata": {},
   "outputs": [
    {
     "name": "stdout",
     "output_type": "stream",
     "text": [
      "Number of mislabeled points out of a total 193 points : 79\n"
     ]
    },
    {
     "data": {
      "text/plain": [
       "array([[ 11,  71],\n",
       "       [  8, 103]], dtype=int64)"
      ]
     },
     "execution_count": 1481,
     "metadata": {},
     "output_type": "execute_result"
    }
   ],
   "source": [
    "# Initantiate our model and store it in a new variable.\n",
    "bnb2 = BernoulliNB()\n",
    "\n",
    "# Fit our model to the data.\n",
    "bnb2.fit(data2, target2)\n",
    "\n",
    "# Classify, storing the result in a new variable.\n",
    "y_pred2 = bnb2.predict(data2)\n",
    "\n",
    "# Display our results.\n",
    "print(\"Number of mislabeled points out of a total {} points : {}\".format(\n",
    "    data2.shape[0],\n",
    "    (target2 != y_pred2).sum()\n",
    "))\n",
    "\n",
    "confusion_matrix(target2, y_pred2)"
   ]
  },
  {
   "cell_type": "code",
   "execution_count": 1482,
   "metadata": {},
   "outputs": [
    {
     "name": "stdout",
     "output_type": "stream",
     "text": [
      "Accuracy :  0.59067357513\n",
      "Specifity :  0.134146341463\n",
      "Sensitivity :  0.927927927928\n"
     ]
    }
   ],
   "source": [
    "#####from confusion matrix calculate accuracy\n",
    "cm2 = confusion_matrix(target2, y_pred2)\n",
    "\n",
    "total2=sum(sum(cm2))\n",
    "accuracy2=(cm2[0,0]+cm2[1,1])/total2\n",
    "print ('Accuracy : ', accuracy2)\n",
    "\n",
    "Specifity2 = cm2[0,0]/(cm2[0,0]+cm2[0,1])\n",
    "print('Specifity : ', Specifity2 )\n",
    "\n",
    "Sensitivity2 = cm2[1,1]/(cm2[1,0]+cm2[1,1])\n",
    "print('Sensitivity : ', Sensitivity2)"
   ]
  },
  {
   "cell_type": "markdown",
   "metadata": {},
   "source": [
    "### Cross validation & feature selection"
   ]
  },
  {
   "cell_type": "code",
   "execution_count": 1483,
   "metadata": {},
   "outputs": [],
   "source": [
    "#Features tester considering cross-validation\n",
    "\n",
    "\n",
    "#Iterative Model # 6 based on cross validation\n",
    "keywords =['pleased', 'better', 'excellent','impressed','satisfied','better','pretty']\n",
    "   \n",
    "for key in keywords:\n",
    "    # Note that we add spaces around the key so that we're getting the word,\n",
    "    # not just pattern matching.\n",
    "    train[str(key)] = train.Sentence.str.contains(\n",
    "        ' '+str(key)+' ',\n",
    "        case=False\n",
    "    )\n",
    "amazon['allcaps'] = amazon.Sentence.str.isupper()\n",
    "amazon['Sentiment'] = (amazon['Sentiment'] == 1)\n",
    "datacv = amazon[keywords+['allcaps']]\n",
    "targetcv = amazon['Sentiment']"
   ]
  },
  {
   "cell_type": "code",
   "execution_count": 1484,
   "metadata": {},
   "outputs": [
    {
     "name": "stdout",
     "output_type": "stream",
     "text": [
      "Number of mislabeled points out of a total 1000 points : 475\n"
     ]
    },
    {
     "data": {
      "text/plain": [
       "array([[497,   3],\n",
       "       [472,  28]], dtype=int64)"
      ]
     },
     "execution_count": 1484,
     "metadata": {},
     "output_type": "execute_result"
    }
   ],
   "source": [
    "# Initantiate our model and store it in a new variable.\n",
    "bnbcv = BernoulliNB()\n",
    "\n",
    "# Fit our model to the data.\n",
    "bnbcv.fit(datacv, targetcv)\n",
    "\n",
    "# Classify, storing the result in a new variable.\n",
    "y_predcv = bnbcv.predict(datacv)\n",
    "\n",
    "# Display our results.\n",
    "print(\"Number of mislabeled points out of a total {} points : {}\".format(\n",
    "    datacv.shape[0],\n",
    "    (targetcv != y_predcv).sum()\n",
    "))\n",
    "\n",
    "confusion_matrix(targetcv, y_predcv)"
   ]
  },
  {
   "cell_type": "code",
   "execution_count": 1485,
   "metadata": {},
   "outputs": [
    {
     "name": "stdout",
     "output_type": "stream",
     "text": [
      "[ 0.53  0.5   0.49  0.5   0.53  0.52  0.53  0.51  0.53  0.53]\n",
      "Accuracy: 0.52 (+/- 0.03)\n",
      "Prediction: 0.52 \n"
     ]
    }
   ],
   "source": [
    "#Cross validation, scores\n",
    "skf = StratifiedKFold(n_splits=10, random_state=0)\n",
    "scores = cross_val_score(bnb, datacv, targetcv, cv=skf)\n",
    "\n",
    "#Test the prediction capacity of the model\n",
    "predicted = cross_val_predict(bnb, datacv, y_predcv, cv=skf)\n",
    "prediction = metrics.accuracy_score(targetcv, predicted)\n",
    "\n",
    "#Print scores, accuracy of the model and prediction\n",
    "print(scores)\n",
    "print(\"Accuracy: %0.2f (+/- %0.2f)\" % (scores.mean(), scores.std() * 2))\n",
    "print(\"Prediction: %0.2f \" % (prediction))"
   ]
  },
  {
   "cell_type": "code",
   "execution_count": 1486,
   "metadata": {},
   "outputs": [
    {
     "name": "stdout",
     "output_type": "stream",
     "text": [
      "[ True  True  True  True  True  True  True  True]\n",
      "[1 1 1 1 1 1 1 1]\n",
      "Empty DataFrame\n",
      "Columns: [pleased, better, excellent, impressed, satisfied, better, pretty, allcaps]\n",
      "Index: []\n"
     ]
    }
   ],
   "source": [
    "# Recursive Feature Elimination for cross validation\n",
    "\n",
    "# create the RFE model and select 3 attributes\n",
    "rfe = RFE(bnb, 8)\n",
    "fit = rfe.fit(datacv, targetcv)\n",
    "# summarize the selection of the attributes\n",
    "print(rfe.support_)\n",
    "print(rfe.ranking_)\n",
    "print(datacv.head(0))"
   ]
  },
  {
   "cell_type": "markdown",
   "metadata": {},
   "source": [
    "#### Results of the iterations to improve the classifier´s performance"
   ]
  },
  {
   "cell_type": "markdown",
   "metadata": {},
   "source": [
    "##### First Classifier (w/o Training)\n",
    "\n",
    "**keywords**\n",
    "\n",
    "            'wanted','important','sturdiness','encourage',\n",
    "            'happier','comfort','excited', 'flawlessly',\n",
    "            'pleased','outperform','stars''adorable', 'more',\n",
    "            'crisp','increase','better','thumbs','price','very', 'significantly',\n",
    "            'strong','perfectly','surprised','amazed','sturdy', 'securely','right',\n",
    "            'joy','finally','satisfied','better', 'pretty','easy','10','easier','fulfills','ideal',\n",
    "            'beautiful','best','works','comfortable' ,'comfortably','charm','incredible', 'extra',\n",
    "            'quality','incredibly' ,'super','well','nice', 'clear','finished','well','more', 'ideal',\n",
    "            'recommend','good','happy','like', 'excellent', 'awesome','cool', 'fantastic','ok','love',\n",
    "            'reasonable','fine','great','impressed'"
   ]
  },
  {
   "cell_type": "markdown",
   "metadata": {},
   "source": [
    "##### Second iteration\n",
    "\n",
    "**keywords**\n",
    "\n",
    "            'happier', 'nice','adorable',\n",
    "            'excited', 'pleased','recommend',\n",
    "            'crisp','increase','better','significantly',\n",
    "            'incredibly' ,'super','well', 'clear','securely',\n",
    "            'ideal', 'happy','like', 'easy','amazed',\n",
    "            'excellent', 'awesome','cool', 'fantastic','sturdy',\n",
    "            'love', 'reasonable','fine','great','impressed',\n",
    "             'perfectly','surprised','right',\n",
    "            'joy','satisfied','better','pretty','very good',\n",
    "            'easier','fulfills','ideal', 'beautiful','best','comfortable' ,\n",
    "            'incredible', 'extra', 'works','comfortably'"
   ]
  },
  {
   "cell_type": "markdown",
   "metadata": {},
   "source": [
    "##### Third iteration\n",
    "\n",
    "**keywords**\n",
    "\n",
    "            'nice', 'pleased',\n",
    "            'better','like', 'easy',\n",
    "            'excellent', 'awesome','cool',\n",
    "            'love','great','impressed',\n",
    "            'satisfied','better','pretty','very good',\n",
    "            'best','extra', 'works'\n"
   ]
  },
  {
   "cell_type": "markdown",
   "metadata": {},
   "source": [
    "##### Fourth iteration\n",
    "\n",
    "**keywords**\n",
    "\n",
    "            'nice','pleased', 'better','like', 'easy',\n",
    "            'excellent','cool',\n",
    "            'love','great','impressed',\n",
    "            'satisfied','better','pretty',\n",
    "            'best','extra','works'"
   ]
  },
  {
   "cell_type": "markdown",
   "metadata": {},
   "source": [
    "##### Fifth iteration\n",
    "\n",
    "**keywords**\n",
    "\n",
    "            'nice', 'pleased', 'better',           \n",
    "            'like', 'easy', 'excellent',\n",
    "            'love','impressed',\n",
    "            'satisfied','better','pretty',\n",
    "            'best','works great'"
   ]
  },
  {
   "cell_type": "markdown",
   "metadata": {},
   "source": [
    "**Do any of your classifiers seem to overfit?**\n",
    "\n",
    "The classifiers that were done with the 80/20 approach seem to overfit. It seems that 54% of accuracy for this model is significant with the amount of data in the dataset and can be explained with 11 features. The first model had 66 features achieving an accuracy of 62%. The reduction of features was done, first without reducing the accuracy and later reducing ther accuracy and finding that from 10 to 8 features the accuracy reduction is of 0.02.\n",
    "\n",
    "**Which seem to perform the best? Why?**\n",
    "\n",
    "The classifier that seems to be performing best is the last one becuase it is not overfitted due to the number of features used and the accuracy is higher than in other classifiers that have been tried before, having less false positives and false negatives"
   ]
  },
  {
   "cell_type": "markdown",
   "metadata": {},
   "source": [
    "**What features seemed to be most impactful to performance?**\n",
    "The ones left throught eh RFE method to eliminate parameters maintaining the level of accuracy"
   ]
  }
 ],
 "metadata": {
  "kernelspec": {
   "display_name": "Python 3",
   "language": "python",
   "name": "python3"
  },
  "language_info": {
   "codemirror_mode": {
    "name": "ipython",
    "version": 3
   },
   "file_extension": ".py",
   "mimetype": "text/x-python",
   "name": "python",
   "nbconvert_exporter": "python",
   "pygments_lexer": "ipython3",
   "version": "3.6.1"
  }
 },
 "nbformat": 4,
 "nbformat_minor": 2
}
