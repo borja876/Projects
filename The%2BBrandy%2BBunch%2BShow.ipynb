{
 "cells": [
  {
   "cell_type": "code",
   "execution_count": 21,
   "metadata": {
    "collapsed": true
   },
   "outputs": [],
   "source": [
    "import matplotlib.pyplot as plt\n",
    "import numpy as np\n",
    "import pandas as pd\n",
    "import statistics\n",
    "%matplotlib inline"
   ]
  },
  {
   "cell_type": "code",
   "execution_count": 22,
   "metadata": {
    "collapsed": true
   },
   "outputs": [],
   "source": [
    "df=pd.DataFrame()\n",
    "df['BB_age']=[14, 12, 11, 10, 8, 6, 8]"
   ]
  },
  {
   "cell_type": "code",
   "execution_count": 23,
   "metadata": {},
   "outputs": [
    {
     "name": "stdout",
     "output_type": "stream",
     "text": [
      "9.85714285714\n",
      "10.0\n"
     ]
    }
   ],
   "source": [
    "#Calculate Mean & Median\n",
    "mean = np.mean(df['BB_age'])\n",
    "median = np.median(df['BB_age'])\n",
    "print(mean)\n",
    "print(median)"
   ]
  },
  {
   "cell_type": "code",
   "execution_count": 24,
   "metadata": {},
   "outputs": [
    {
     "name": "stdout",
     "output_type": "stream",
     "text": [
      "1\n"
     ]
    },
    {
     "data": {
      "text/plain": [
       "8"
      ]
     },
     "execution_count": 24,
     "metadata": {},
     "output_type": "execute_result"
    }
   ],
   "source": [
    "#Calculate Mode\n",
    "(values, counts) = np.unique(df['BB_age'], return_counts=True)\n",
    "ind = np.argmax(counts)\n",
    "print(ind)\n",
    "values[ind]"
   ]
  },
  {
   "cell_type": "code",
   "execution_count": 25,
   "metadata": {},
   "outputs": [
    {
     "name": "stdout",
     "output_type": "stream",
     "text": [
      "6.40816326531\n",
      "2.73426232761\n",
      "1.03345401972\n"
     ]
    }
   ],
   "source": [
    "#Calculate variance, Standard deviation & standard error\n",
    "a= np.var(df['BB_age'])\n",
    "b= np.std(df['BB_age'],ddof=1)\n",
    "c= b/np.sqrt(len(df['BB_age']))\n",
    "print(a)\n",
    "print(b)\n",
    "print(c)"
   ]
  },
  {
   "cell_type": "markdown",
   "metadata": {},
   "source": [
    "2. Using these estimates, if you had to choose only one estimate of central tendency and one estimate of variance to describe the data, which would you pick and why?\n",
    "\n",
    "Estimate of Central Tendency:\n",
    "I would choose the median among mean, median & mode to etimate the central tendency as it is more representative of the sample. The mode is two low in this case and will not tell us the average of the age and the mean, although close to the median is altered due to the extreme low value (6).\n",
    "\n",
    "Etimate of Variance:\n",
    "To describe the variance I would use the standard deviation. I will pick up the standard deviation as the standard error shows the meanigfulness of the estimated mean and in this case my choice is to pick up the median as the  most representative central tendency estimateof the sample.\n",
    "\n",
    "Note: Having said so, the difference between the mean and the median is very little. Moreover, age can only be an integer, hence it would be 10 in both cases to be meaningful. If the mean is used as the central tendency estimate then I would choose the standard error\n"
   ]
  },
  {
   "cell_type": "code",
   "execution_count": 26,
   "metadata": {
    "collapsed": true
   },
   "outputs": [],
   "source": [
    "df2=pd.DataFrame()\n",
    "df2['BB_age']=[14, 12, 11, 10, 8, 7, 8]"
   ]
  },
  {
   "cell_type": "code",
   "execution_count": 27,
   "metadata": {},
   "outputs": [
    {
     "name": "stdout",
     "output_type": "stream",
     "text": [
      "10.0\n",
      "10.0\n"
     ]
    }
   ],
   "source": [
    "#Calculate Mean & Median\n",
    "mean = np.mean(df2['BB_age'])\n",
    "median = np.median(df2['BB_age'])\n",
    "print(mean)\n",
    "print(median)"
   ]
  },
  {
   "cell_type": "code",
   "execution_count": 28,
   "metadata": {},
   "outputs": [
    {
     "name": "stdout",
     "output_type": "stream",
     "text": [
      "1\n"
     ]
    },
    {
     "data": {
      "text/plain": [
       "8"
      ]
     },
     "execution_count": 28,
     "metadata": {},
     "output_type": "execute_result"
    }
   ],
   "source": [
    "#Calculate Mode\n",
    "(values, counts) = np.unique(df2['BB_age'], return_counts=True)\n",
    "ind = np.argmax(counts)\n",
    "print(ind)\n",
    "values[ind]"
   ]
  },
  {
   "cell_type": "code",
   "execution_count": 29,
   "metadata": {},
   "outputs": [
    {
     "name": "stdout",
     "output_type": "stream",
     "text": [
      "5.42857142857\n",
      "2.51661147842\n",
      "0.951189731211\n"
     ]
    }
   ],
   "source": [
    "#Calculate variance, Standard deviation & standard error\n",
    "a= np.var(df2['BB_age'])\n",
    "b= np.std(df2['BB_age'],ddof=1)\n",
    "c= b/np.sqrt(len(df2['BB_age']))\n",
    "print(a)\n",
    "print(b)\n",
    "print(c)"
   ]
  },
  {
   "cell_type": "markdown",
   "metadata": {},
   "source": [
    "3. Next, Cindy has a birthday. Update your estimates- what changed, and what didn't?\n",
    "\n",
    "Estimates that have not changed:\n",
    "    \n",
    "Median & mode\n",
    "\n",
    "Estimates that have changed:\n",
    "\n",
    "Mean, variance, standard deviation & standard error (from the variance estimates, variance is the one that experiments a larger change due to its characteritics)\n"
   ]
  },
  {
   "cell_type": "code",
   "execution_count": 30,
   "metadata": {
    "collapsed": true
   },
   "outputs": [],
   "source": [
    "df3=pd.DataFrame()\n",
    "df3['BB_age']=[14, 12, 11, 10, 8, 7, 1]"
   ]
  },
  {
   "cell_type": "code",
   "execution_count": 31,
   "metadata": {},
   "outputs": [
    {
     "name": "stdout",
     "output_type": "stream",
     "text": [
      "9.0\n",
      "10.0\n"
     ]
    }
   ],
   "source": [
    "#Calculate Mean & Median\n",
    "mean = np.mean(df3['BB_age'])\n",
    "median = np.median(df3['BB_age'])\n",
    "print(mean)\n",
    "print(median)"
   ]
  },
  {
   "cell_type": "code",
   "execution_count": 32,
   "metadata": {},
   "outputs": [
    {
     "name": "stdout",
     "output_type": "stream",
     "text": [
      "0\n"
     ]
    },
    {
     "data": {
      "text/plain": [
       "1"
      ]
     },
     "execution_count": 32,
     "metadata": {},
     "output_type": "execute_result"
    }
   ],
   "source": [
    "#Calculate Mode\n",
    "(values, counts) = np.unique(df3['BB_age'], return_counts=True)\n",
    "ind = np.argmax(counts)\n",
    "print(ind)\n",
    "values[ind]"
   ]
  },
  {
   "cell_type": "code",
   "execution_count": 33,
   "metadata": {},
   "outputs": [
    {
     "name": "stdout",
     "output_type": "stream",
     "text": [
      "15.4285714286\n",
      "4.24264068712\n",
      "1.60356745147\n"
     ]
    }
   ],
   "source": [
    "#Calculate variance, Standard deviation & standard error\n",
    "a= np.var(df3['BB_age'])\n",
    "b= np.std(df3['BB_age'],ddof=1)\n",
    "c= b/np.sqrt(len(df3['BB_age']))\n",
    "print(a)\n",
    "print(b)\n",
    "print(c)"
   ]
  },
  {
   "cell_type": "markdown",
   "metadata": {},
   "source": [
    "4. Nobody likes Cousin Oliver. Maybe the network should have used an even younger actor. Replace Cousin Oliver with 1-year-old Jessica, then recalculate again. Does this change your choice of central tendency or variance estimation methods?\n",
    "\n",
    "I would mantain the central tendency method: median as it doesn´t change and we can see how the mean now deviates from the original value due to the lower value that we have introduced\n",
    "I would keed the standard deviation as both the standard deviation and the standard error have experienced a 68% change.\n"
   ]
  },
  {
   "cell_type": "code",
   "execution_count": 34,
   "metadata": {
    "collapsed": true
   },
   "outputs": [],
   "source": [
    "df4=pd.DataFrame()\n",
    "df4['Adult_population']=[0.20, 0.23, 0.17, 0.05]"
   ]
  },
  {
   "cell_type": "code",
   "execution_count": 35,
   "metadata": {},
   "outputs": [
    {
     "name": "stdout",
     "output_type": "stream",
     "text": [
      "0.1625\n",
      "0.185\n"
     ]
    }
   ],
   "source": [
    "#Calculate Mean & Median\n",
    "mean = np.mean(df4['Adult_population'])\n",
    "median = np.median(df4['Adult_population'])\n",
    "print(mean)\n",
    "print(median)"
   ]
  },
  {
   "cell_type": "code",
   "execution_count": 36,
   "metadata": {},
   "outputs": [
    {
     "name": "stdout",
     "output_type": "stream",
     "text": [
      "0\n"
     ]
    },
    {
     "data": {
      "text/plain": [
       "0.050000000000000003"
      ]
     },
     "execution_count": 36,
     "metadata": {},
     "output_type": "execute_result"
    }
   ],
   "source": [
    "#Calculate Mode\n",
    "(values, counts) = np.unique(df4['Adult_population'], return_counts=True)\n",
    "ind = np.argmax(counts)\n",
    "print(ind)\n",
    "values[ind]"
   ]
  },
  {
   "cell_type": "code",
   "execution_count": 37,
   "metadata": {},
   "outputs": [
    {
     "name": "stdout",
     "output_type": "stream",
     "text": [
      "0.00466875\n",
      "0.0788986691903\n",
      "0.0394493345951\n"
     ]
    }
   ],
   "source": [
    "#Calculate variance, Standard deviation & standard error\n",
    "a= np.var(df4['Adult_population'])\n",
    "b= np.std(df4['Adult_population'],ddof=1)\n",
    "c= b/np.sqrt(len(df4['Adult_population']))\n",
    "print(a)\n",
    "print(b)\n",
    "print(c)"
   ]
  },
  {
   "cell_type": "markdown",
   "metadata": {},
   "source": [
    "5. Based on these numbers, what percentage of adult Americans would you estimate were Brady Bunch fans on the 50th anniversary of the show?\n",
    "\n",
    "I would say that the & of adult population that were fans of Brandy Bunch show was 18.5% (median). I think we cannot use the mean as we have 5% low compared to the rest of the values. Hence the mean would be distorted by this value.\n",
    "\n",
    "Additionally, the SciPhi fans 5% are not representative of the American Adults population but of a subset if it. Hence they can be excluded from the sample and the central tendency estimations will be more accurate. (Case 2)"
   ]
  },
  {
   "cell_type": "markdown",
   "metadata": {
    "collapsed": true
   },
   "source": [
    "Case 2: Excluding SciPhi fans (5%)"
   ]
  },
  {
   "cell_type": "code",
   "execution_count": 38,
   "metadata": {},
   "outputs": [
    {
     "name": "stdout",
     "output_type": "stream",
     "text": [
      "0.2\n",
      "0.2\n"
     ]
    }
   ],
   "source": [
    "df4=pd.DataFrame()\n",
    "df4['Adult_population']=[0.20, 0.23, 0.17]\n",
    "\n",
    "#Calculate Mean & Median\n",
    "mean = np.mean(df4['Adult_population'])\n",
    "median = np.median(df4['Adult_population'])\n",
    "print(mean)\n",
    "print(median)"
   ]
  },
  {
   "cell_type": "code",
   "execution_count": 39,
   "metadata": {},
   "outputs": [
    {
     "name": "stdout",
     "output_type": "stream",
     "text": [
      "0\n"
     ]
    },
    {
     "data": {
      "text/plain": [
       "0.17000000000000001"
      ]
     },
     "execution_count": 39,
     "metadata": {},
     "output_type": "execute_result"
    }
   ],
   "source": [
    "#Calculate Mode\n",
    "(values, counts) = np.unique(df4['Adult_population'], return_counts=True)\n",
    "ind = np.argmax(counts)\n",
    "print(ind)\n",
    "values[ind]"
   ]
  },
  {
   "cell_type": "code",
   "execution_count": 40,
   "metadata": {},
   "outputs": [
    {
     "name": "stdout",
     "output_type": "stream",
     "text": [
      "0.0006\n",
      "0.03\n",
      "0.0173205080757\n"
     ]
    }
   ],
   "source": [
    "#Calculate variance, Standard deviation & standard error\n",
    "a= np.var(df4['Adult_population'])\n",
    "b= np.std(df4['Adult_population'],ddof=1)\n",
    "c= b/np.sqrt(len(df4['Adult_population']))\n",
    "print(a)\n",
    "print(b)\n",
    "print(c)"
   ]
  },
  {
   "cell_type": "markdown",
   "metadata": {},
   "source": [
    "In this case (without considering the SciPhi fans), mean and meadian are equal equating to 20%. Hence the % of American adult population that were fans of Brandy Bunch show would be 20%."
   ]
  }
 ],
 "metadata": {
  "kernelspec": {
   "display_name": "Python 3",
   "language": "python",
   "name": "python3"
  },
  "language_info": {
   "codemirror_mode": {
    "name": "ipython",
    "version": 3
   },
   "file_extension": ".py",
   "mimetype": "text/x-python",
   "name": "python",
   "nbconvert_exporter": "python",
   "pygments_lexer": "ipython3",
   "version": "3.6.1"
  }
 },
 "nbformat": 4,
 "nbformat_minor": 2
}
