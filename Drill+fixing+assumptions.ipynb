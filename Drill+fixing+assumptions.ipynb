{
 "cells": [
  {
   "cell_type": "code",
   "execution_count": 2458,
   "metadata": {},
   "outputs": [],
   "source": [
    "%matplotlib inline\n",
    "import numpy as np\n",
    "import pandas as pd\n",
    "import scipy\n",
    "import sklearn\n",
    "import matplotlib.pyplot as plt\n",
    "import seaborn as sns\n",
    "import math\n",
    "from matplotlib.mlab import PCA as mlabPCA\n",
    "from sklearn.preprocessing import StandardScaler\n",
    "from sklearn.decomposition import PCA \n",
    "from sklearn import preprocessing\n",
    "from sklearn.feature_selection import SelectKBest\n",
    "import seaborn as sns\n",
    "import scipy.stats as stats\n",
    "from sklearn.naive_bayes import GaussianNB\n",
    "from sklearn.naive_bayes import MultinomialNB\n",
    "from sklearn.naive_bayes import BernoulliNB\n",
    "from sklearn.metrics import confusion_matrix\n",
    "from sklearn.model_selection import cross_val_score, KFold\n",
    "import matplotlib.pyplot as plt\n",
    "from sklearn.model_selection import StratifiedKFold\n",
    "from sklearn.feature_selection import RFECV\n",
    "from sklearn.datasets import make_classification\n",
    "from sklearn.feature_selection import RFE\n",
    "from sklearn.model_selection import cross_val_predict\n",
    "from sklearn import metrics\n",
    "from sklearn.decomposition import PCA as sklearn_pca\n",
    "import locale\n",
    "from locale import atof\n",
    "import warnings\n",
    "from IPython.display import display\n",
    "from sklearn import linear_model"
   ]
  },
  {
   "cell_type": "code",
   "execution_count": 2459,
   "metadata": {},
   "outputs": [
    {
     "data": {
      "text/html": [
       "<div>\n",
       "<style>\n",
       "    .dataframe thead tr:only-child th {\n",
       "        text-align: right;\n",
       "    }\n",
       "\n",
       "    .dataframe thead th {\n",
       "        text-align: left;\n",
       "    }\n",
       "\n",
       "    .dataframe tbody tr th {\n",
       "        vertical-align: top;\n",
       "    }\n",
       "</style>\n",
       "<table border=\"1\" class=\"dataframe\">\n",
       "  <thead>\n",
       "    <tr style=\"text-align: right;\">\n",
       "      <th></th>\n",
       "      <th>Table 8</th>\n",
       "      <th>Unnamed: 1</th>\n",
       "      <th>Unnamed: 2</th>\n",
       "      <th>Unnamed: 3</th>\n",
       "      <th>Unnamed: 4</th>\n",
       "      <th>Unnamed: 5</th>\n",
       "      <th>Unnamed: 6</th>\n",
       "      <th>Unnamed: 7</th>\n",
       "      <th>Unnamed: 8</th>\n",
       "      <th>Unnamed: 9</th>\n",
       "      <th>Unnamed: 10</th>\n",
       "      <th>Unnamed: 11</th>\n",
       "      <th>Unnamed: 12</th>\n",
       "    </tr>\n",
       "  </thead>\n",
       "  <tbody>\n",
       "    <tr>\n",
       "      <th>0</th>\n",
       "      <td>NEW YORK</td>\n",
       "      <td>NaN</td>\n",
       "      <td>NaN</td>\n",
       "      <td>NaN</td>\n",
       "      <td>NaN</td>\n",
       "      <td>NaN</td>\n",
       "      <td>NaN</td>\n",
       "      <td>NaN</td>\n",
       "      <td>NaN</td>\n",
       "      <td>NaN</td>\n",
       "      <td>NaN</td>\n",
       "      <td>NaN</td>\n",
       "      <td>NaN</td>\n",
       "    </tr>\n",
       "    <tr>\n",
       "      <th>1</th>\n",
       "      <td>Offenses Known to Law Enforcement</td>\n",
       "      <td>NaN</td>\n",
       "      <td>NaN</td>\n",
       "      <td>NaN</td>\n",
       "      <td>NaN</td>\n",
       "      <td></td>\n",
       "      <td>NaN</td>\n",
       "      <td>NaN</td>\n",
       "      <td>NaN</td>\n",
       "      <td>NaN</td>\n",
       "      <td>NaN</td>\n",
       "      <td>NaN</td>\n",
       "      <td>NaN</td>\n",
       "    </tr>\n",
       "    <tr>\n",
       "      <th>2</th>\n",
       "      <td>by City, 2013</td>\n",
       "      <td>NaN</td>\n",
       "      <td>NaN</td>\n",
       "      <td>NaN</td>\n",
       "      <td>NaN</td>\n",
       "      <td>NaN</td>\n",
       "      <td>NaN</td>\n",
       "      <td>NaN</td>\n",
       "      <td>NaN</td>\n",
       "      <td>NaN</td>\n",
       "      <td>NaN</td>\n",
       "      <td>NaN</td>\n",
       "      <td>NaN</td>\n",
       "    </tr>\n",
       "    <tr>\n",
       "      <th>3</th>\n",
       "      <td>City</td>\n",
       "      <td>Population</td>\n",
       "      <td>Violent\\ncrime</td>\n",
       "      <td>Murder and\\nnonnegligent\\nmanslaughter</td>\n",
       "      <td>Rape\\n(revised\\ndefinition)1</td>\n",
       "      <td>Rape\\n(legacy\\ndefinition)2</td>\n",
       "      <td>Robbery</td>\n",
       "      <td>Aggravated\\nassault</td>\n",
       "      <td>Property\\ncrime</td>\n",
       "      <td>Burglary</td>\n",
       "      <td>Larceny-\\ntheft</td>\n",
       "      <td>Motor\\nvehicle\\ntheft</td>\n",
       "      <td>Arson3</td>\n",
       "    </tr>\n",
       "    <tr>\n",
       "      <th>4</th>\n",
       "      <td>Adams Village</td>\n",
       "      <td>1,861</td>\n",
       "      <td>0</td>\n",
       "      <td>0</td>\n",
       "      <td>NaN</td>\n",
       "      <td>0</td>\n",
       "      <td>0</td>\n",
       "      <td>0</td>\n",
       "      <td>12</td>\n",
       "      <td>2</td>\n",
       "      <td>10</td>\n",
       "      <td>0</td>\n",
       "      <td>0</td>\n",
       "    </tr>\n",
       "  </tbody>\n",
       "</table>\n",
       "</div>"
      ],
      "text/plain": [
       "                             Table 8  Unnamed: 1      Unnamed: 2  \\\n",
       "0                           NEW YORK         NaN             NaN   \n",
       "1  Offenses Known to Law Enforcement         NaN             NaN   \n",
       "2                      by City, 2013         NaN             NaN   \n",
       "3                               City  Population  Violent\\ncrime   \n",
       "4                      Adams Village       1,861               0   \n",
       "\n",
       "                               Unnamed: 3                    Unnamed: 4  \\\n",
       "0                                     NaN                           NaN   \n",
       "1                                     NaN                           NaN   \n",
       "2                                     NaN                           NaN   \n",
       "3  Murder and\\nnonnegligent\\nmanslaughter  Rape\\n(revised\\ndefinition)1   \n",
       "4                                       0                           NaN   \n",
       "\n",
       "                    Unnamed: 5 Unnamed: 6           Unnamed: 7  \\\n",
       "0                          NaN        NaN                  NaN   \n",
       "1                                     NaN                  NaN   \n",
       "2                          NaN        NaN                  NaN   \n",
       "3  Rape\\n(legacy\\ndefinition)2    Robbery  Aggravated\\nassault   \n",
       "4                            0          0                    0   \n",
       "\n",
       "        Unnamed: 8 Unnamed: 9      Unnamed: 10            Unnamed: 11  \\\n",
       "0              NaN        NaN              NaN                    NaN   \n",
       "1              NaN        NaN              NaN                    NaN   \n",
       "2              NaN        NaN              NaN                    NaN   \n",
       "3  Property\\ncrime   Burglary  Larceny-\\ntheft  Motor\\nvehicle\\ntheft   \n",
       "4               12          2               10                      0   \n",
       "\n",
       "  Unnamed: 12  \n",
       "0         NaN  \n",
       "1         NaN  \n",
       "2         NaN  \n",
       "3      Arson3  \n",
       "4           0  "
      ]
     },
     "execution_count": 2459,
     "metadata": {},
     "output_type": "execute_result"
    }
   ],
   "source": [
    "# Import FBI Raw Data\n",
    "\n",
    "fbidata = pd.read_csv('https://raw.githubusercontent.com/Thinkful-Ed/data-201-resources/master/New_York_offenses/NEW_YORK-Offenses_Known_to_Law_Enforcement_by_City_2013%20-%2013tbl8ny.csv', delimiter=\",\", thousands=',',decimal=\".\")\n",
    "fbiraw = pd.DataFrame(fbidata)\n",
    "fbiraw.head()"
   ]
  },
  {
   "cell_type": "code",
   "execution_count": 2460,
   "metadata": {
    "collapsed": true
   },
   "outputs": [],
   "source": [
    "#Transform FBI Raw Data\n",
    "#Rename columns with row 3 from the original data set\n",
    "fbiraw_t1 = fbiraw.rename(columns=fbiraw.iloc[3])\n",
    "\n",
    "#Delete first three rows don´t contain data for the regression model\n",
    "fbiraw_t2 = fbiraw_t1.drop(fbiraw_t1.index[0:4])"
   ]
  },
  {
   "cell_type": "code",
   "execution_count": 2461,
   "metadata": {
    "collapsed": true
   },
   "outputs": [],
   "source": [
    "#Delete column \"Rape (revised definition)1 as it contains no data\n",
    "fbiraw_t2 = fbiraw_t2.drop('Rape\\n(revised\\ndefinition)1', axis = 1)"
   ]
  },
  {
   "cell_type": "code",
   "execution_count": 2462,
   "metadata": {
    "collapsed": true
   },
   "outputs": [],
   "source": [
    "#Delete Arson Column as there is insufficient data\n",
    "# 'The FBI does not publish arson data unless it receives data from either the agency or the state\n",
    "#  for all 12 months of the calendar year.'\n",
    "fbiraw_t2 = fbiraw_t2.drop('Arson3', axis = 1)"
   ]
  },
  {
   "cell_type": "code",
   "execution_count": 2463,
   "metadata": {
    "collapsed": true
   },
   "outputs": [],
   "source": [
    "#Clean tail from the data set\n",
    "\n",
    "#Re-shape dataset excluding the last 3 rows of the dataset as they don´t contain relevant information for the model\n",
    "fbiraw_t2 = fbiraw_t2[:-3]\n",
    "\n",
    "#Change names in Columns\n",
    "fbiraw_t2= fbiraw_t2.rename(columns={'Violent\\ncrime': 'Violent Crime', 'Murder and\\nnonnegligent\\nmanslaughter': 'Murder','Rape\\n(legacy\\ndefinition)2': 'Rape', 'Robbery': 'Robbery', 'Aggravated\\nassault': 'Assault', 'Property\\ncrime': 'PropertyCrime', 'Burglary': 'Burglary', 'Larceny-\\ntheft': 'Larceny & Theft', 'Motor\\nvehicle\\ntheft': 'Motor Vehicle Theft'})"
   ]
  },
  {
   "cell_type": "code",
   "execution_count": 2464,
   "metadata": {},
   "outputs": [
    {
     "name": "stdout",
     "output_type": "stream",
     "text": [
      "<class 'pandas.core.frame.DataFrame'>\n",
      "Int64Index: 348 entries, 4 to 351\n",
      "Data columns (total 11 columns):\n",
      "City                   348 non-null object\n",
      "Population             348 non-null object\n",
      "Violent Crime          348 non-null object\n",
      "Murder                 348 non-null object\n",
      "Rape                   348 non-null object\n",
      "Robbery                348 non-null object\n",
      "Assault                348 non-null object\n",
      "PropertyCrime          348 non-null object\n",
      "Burglary               348 non-null object\n",
      "Larceny & Theft        348 non-null object\n",
      "Motor Vehicle Theft    348 non-null object\n",
      "dtypes: object(11)\n",
      "memory usage: 17.7+ KB\n"
     ]
    }
   ],
   "source": [
    "#Analyse missing information\n",
    "fbiraw_t2.info()"
   ]
  },
  {
   "cell_type": "code",
   "execution_count": 2465,
   "metadata": {},
   "outputs": [
    {
     "name": "stdout",
     "output_type": "stream",
     "text": [
      "<class 'pandas.core.frame.DataFrame'>\n",
      "Int64Index: 348 entries, 4 to 351\n",
      "Data columns (total 11 columns):\n",
      "City                   348 non-null object\n",
      "Population             348 non-null float64\n",
      "Violent Crime          348 non-null float64\n",
      "Murder                 348 non-null float64\n",
      "Rape                   348 non-null float64\n",
      "Robbery                348 non-null float64\n",
      "Assault                348 non-null float64\n",
      "PropertyCrime          348 non-null float64\n",
      "Burglary               348 non-null float64\n",
      "Larceny & Theft        348 non-null float64\n",
      "Motor Vehicle Theft    348 non-null float64\n",
      "dtypes: float64(10), object(1)\n",
      "memory usage: 31.3+ KB\n"
     ]
    }
   ],
   "source": [
    "#Change all columns from object to float\n",
    "locale.setlocale(locale.LC_NUMERIC, '')\n",
    "fbiraw_t2['Population'] = fbiraw_t2['Population'].apply(atof)\n",
    "fbiraw_t2['Violent Crime'] = fbiraw_t2['Violent Crime'].apply(atof)\n",
    "fbiraw_t2['Murder'] = fbiraw_t2['Murder'].apply(atof)\n",
    "fbiraw_t2['Rape'] = fbiraw_t2['Rape'].apply(atof)\n",
    "fbiraw_t2['Robbery'] = fbiraw_t2['Robbery'].apply(atof)\n",
    "fbiraw_t2['Assault'] = fbiraw_t2['Assault'].apply(atof)\n",
    "fbiraw_t2['PropertyCrime'] = fbiraw_t2['PropertyCrime'].apply(atof)\n",
    "fbiraw_t2['Burglary'] = fbiraw_t2['Burglary'].apply(atof)\n",
    "fbiraw_t2['Larceny & Theft'] = fbiraw_t2['Larceny & Theft'].apply(atof)\n",
    "fbiraw_t2['Motor Vehicle Theft'] = fbiraw_t2['Motor Vehicle Theft'].apply(atof)\n",
    "fbiraw_t2.info()"
   ]
  },
  {
   "cell_type": "code",
   "execution_count": 2466,
   "metadata": {},
   "outputs": [],
   "source": [
    "#Reindex the dataframe\n",
    "\n",
    "fbiraw_t3 = fbiraw_t2.reset_index(drop=True)"
   ]
  },
  {
   "cell_type": "code",
   "execution_count": 2467,
   "metadata": {},
   "outputs": [],
   "source": [
    "#Extract only the columns that are needed\n",
    "\n",
    "fbiraw_t3 = fbiraw_t3[['City','PropertyCrime','Population','Murder','Robbery']]"
   ]
  },
  {
   "cell_type": "code",
   "execution_count": 2468,
   "metadata": {},
   "outputs": [
    {
     "data": {
      "text/html": [
       "<div>\n",
       "<style>\n",
       "    .dataframe thead tr:only-child th {\n",
       "        text-align: right;\n",
       "    }\n",
       "\n",
       "    .dataframe thead th {\n",
       "        text-align: left;\n",
       "    }\n",
       "\n",
       "    .dataframe tbody tr th {\n",
       "        vertical-align: top;\n",
       "    }\n",
       "</style>\n",
       "<table border=\"1\" class=\"dataframe\">\n",
       "  <thead>\n",
       "    <tr style=\"text-align: right;\">\n",
       "      <th></th>\n",
       "      <th>PropertyCrime</th>\n",
       "      <th>Population</th>\n",
       "      <th>Murder</th>\n",
       "      <th>Robbery</th>\n",
       "    </tr>\n",
       "  </thead>\n",
       "  <tbody>\n",
       "    <tr>\n",
       "      <th>count</th>\n",
       "      <td>207.000000</td>\n",
       "      <td>207.000000</td>\n",
       "      <td>207.000000</td>\n",
       "      <td>207.000000</td>\n",
       "    </tr>\n",
       "    <tr>\n",
       "      <th>mean</th>\n",
       "      <td>60.338164</td>\n",
       "      <td>5212.091787</td>\n",
       "      <td>0.038647</td>\n",
       "      <td>0.618357</td>\n",
       "    </tr>\n",
       "    <tr>\n",
       "      <th>std</th>\n",
       "      <td>46.944624</td>\n",
       "      <td>4519.548980</td>\n",
       "      <td>0.193220</td>\n",
       "      <td>1.129589</td>\n",
       "    </tr>\n",
       "    <tr>\n",
       "      <th>min</th>\n",
       "      <td>0.000000</td>\n",
       "      <td>526.000000</td>\n",
       "      <td>0.000000</td>\n",
       "      <td>0.000000</td>\n",
       "    </tr>\n",
       "    <tr>\n",
       "      <th>25%</th>\n",
       "      <td>20.500000</td>\n",
       "      <td>2059.500000</td>\n",
       "      <td>0.000000</td>\n",
       "      <td>0.000000</td>\n",
       "    </tr>\n",
       "    <tr>\n",
       "      <th>50%</th>\n",
       "      <td>50.000000</td>\n",
       "      <td>3633.000000</td>\n",
       "      <td>0.000000</td>\n",
       "      <td>0.000000</td>\n",
       "    </tr>\n",
       "    <tr>\n",
       "      <th>75%</th>\n",
       "      <td>93.500000</td>\n",
       "      <td>7149.500000</td>\n",
       "      <td>0.000000</td>\n",
       "      <td>1.000000</td>\n",
       "    </tr>\n",
       "    <tr>\n",
       "      <th>max</th>\n",
       "      <td>168.000000</td>\n",
       "      <td>29315.000000</td>\n",
       "      <td>1.000000</td>\n",
       "      <td>7.000000</td>\n",
       "    </tr>\n",
       "  </tbody>\n",
       "</table>\n",
       "</div>"
      ],
      "text/plain": [
       "       PropertyCrime    Population      Murder     Robbery\n",
       "count     207.000000    207.000000  207.000000  207.000000\n",
       "mean       60.338164   5212.091787    0.038647    0.618357\n",
       "std        46.944624   4519.548980    0.193220    1.129589\n",
       "min         0.000000    526.000000    0.000000    0.000000\n",
       "25%        20.500000   2059.500000    0.000000    0.000000\n",
       "50%        50.000000   3633.000000    0.000000    0.000000\n",
       "75%        93.500000   7149.500000    0.000000    1.000000\n",
       "max       168.000000  29315.000000    1.000000    7.000000"
      ]
     },
     "execution_count": 2468,
     "metadata": {},
     "output_type": "execute_result"
    }
   ],
   "source": [
    "#Eliminate outliers\n",
    "\n",
    "fbiraw_t3 = fbiraw_t3[fbiraw_t3.PropertyCrime < 170].reset_index(drop=True)\n",
    "\n",
    "#Describe the dataset\n",
    "fbiraw_t3.describe()"
   ]
  },
  {
   "cell_type": "code",
   "execution_count": 2469,
   "metadata": {},
   "outputs": [
    {
     "name": "stdout",
     "output_type": "stream",
     "text": [
      "207 141\n"
     ]
    },
    {
     "data": {
      "text/html": [
       "<div>\n",
       "<style>\n",
       "    .dataframe thead tr:only-child th {\n",
       "        text-align: right;\n",
       "    }\n",
       "\n",
       "    .dataframe thead th {\n",
       "        text-align: left;\n",
       "    }\n",
       "\n",
       "    .dataframe tbody tr th {\n",
       "        vertical-align: top;\n",
       "    }\n",
       "</style>\n",
       "<table border=\"1\" class=\"dataframe\">\n",
       "  <thead>\n",
       "    <tr style=\"text-align: right;\">\n",
       "      <th></th>\n",
       "      <th>City</th>\n",
       "      <th>PropertyCrime</th>\n",
       "      <th>Population</th>\n",
       "      <th>Murder</th>\n",
       "      <th>Robbery</th>\n",
       "    </tr>\n",
       "  </thead>\n",
       "  <tbody>\n",
       "    <tr>\n",
       "      <th>58</th>\n",
       "      <td>East Fishkill Town</td>\n",
       "      <td>165.0</td>\n",
       "      <td>29315.0</td>\n",
       "      <td>1.0</td>\n",
       "      <td>1.0</td>\n",
       "    </tr>\n",
       "    <tr>\n",
       "      <th>76</th>\n",
       "      <td>Glen Cove</td>\n",
       "      <td>62.0</td>\n",
       "      <td>27134.0</td>\n",
       "      <td>0.0</td>\n",
       "      <td>1.0</td>\n",
       "    </tr>\n",
       "    <tr>\n",
       "      <th>57</th>\n",
       "      <td>Eastchester Town</td>\n",
       "      <td>168.0</td>\n",
       "      <td>19800.0</td>\n",
       "      <td>0.0</td>\n",
       "      <td>0.0</td>\n",
       "    </tr>\n",
       "    <tr>\n",
       "      <th>112</th>\n",
       "      <td>Lynbrook Village</td>\n",
       "      <td>164.0</td>\n",
       "      <td>19528.0</td>\n",
       "      <td>0.0</td>\n",
       "      <td>3.0</td>\n",
       "    </tr>\n",
       "    <tr>\n",
       "      <th>132</th>\n",
       "      <td>New Castle Town</td>\n",
       "      <td>77.0</td>\n",
       "      <td>17864.0</td>\n",
       "      <td>0.0</td>\n",
       "      <td>0.0</td>\n",
       "    </tr>\n",
       "  </tbody>\n",
       "</table>\n",
       "</div>"
      ],
      "text/plain": [
       "                   City  PropertyCrime  Population  Murder  Robbery\n",
       "58   East Fishkill Town          165.0     29315.0     1.0      1.0\n",
       "76            Glen Cove           62.0     27134.0     0.0      1.0\n",
       "57     Eastchester Town          168.0     19800.0     0.0      0.0\n",
       "112    Lynbrook Village          164.0     19528.0     0.0      3.0\n",
       "132     New Castle Town           77.0     17864.0     0.0      0.0"
      ]
     },
     "execution_count": 2469,
     "metadata": {},
     "output_type": "execute_result"
    }
   ],
   "source": [
    "#Print length of dataset and sort values by Population to see how many datapoints are excluded\n",
    "print(len(fbiraw_t3), len(fbiraw_t2) - len(fbiraw_t3))\n",
    "fbiraw_t3.sort_values('Population',ascending=False).head()"
   ]
  },
  {
   "cell_type": "code",
   "execution_count": 2470,
   "metadata": {},
   "outputs": [
    {
     "name": "stderr",
     "output_type": "stream",
     "text": [
      "d:\\users\\borja.gonzalez\\appdata\\local\\programs\\python\\python36-32\\lib\\site-packages\\matplotlib\\axes\\_axes.py:545: UserWarning: No labelled objects found. Use label='...' kwarg on individual plots.\n",
      "  warnings.warn(\"No labelled objects found. \"\n"
     ]
    },
    {
     "data": {
      "image/png": "[encoded data removed]",
      "text/plain": [
       "<matplotlib.figure.Figure at 0xcd0ed30>"
      ]
     },
     "metadata": {},
     "output_type": "display_data"
    }
   ],
   "source": [
    "#Plot the relationships between variables\n",
    "sns.set_style(\"white\")\n",
    "\n",
    "#Conisder only the vairables suitable for the model\n",
    "dfcont = fbiraw_t3[['PropertyCrime','Population','Murder','Robbery']]\n",
    "\n",
    "# Scatterplot matrix.\n",
    "g = sns.PairGrid(dfcont, diag_sharey=False)\n",
    "g.map_upper(plt.scatter, alpha=.5)\n",
    "\n",
    "# Fit line summarizing the linear relationship of the two variables.\n",
    "g.map_lower(sns.regplot, scatter_kws=dict(alpha=0))\n",
    "\n",
    "# Give information about the univariate distributions of the variables.\n",
    "g.map_diag(sns.kdeplot, lw=3)\n",
    "plt.show()"
   ]
  },
  {
   "cell_type": "code",
   "execution_count": 2471,
   "metadata": {},
   "outputs": [
    {
     "data": {
      "image/png": "[encoded data removed]",
      "text/plain": [
       "<matplotlib.figure.Figure at 0xf873f10>"
      ]
     },
     "metadata": {},
     "output_type": "display_data"
    }
   ],
   "source": [
    "# Initialize the figure with a logarithmic x axis\n",
    "f, ax = plt.subplots(figsize=(7, 6))\n",
    "ax.set_xscale(\"log\")\n",
    "\n",
    "# Define the variables that are going to be plot\n",
    "df_long = fbiraw_t3[['PropertyCrime', 'Population']]\n",
    "\n",
    "#Boxplot vairables\n",
    "ax = sns.boxplot(data=df_long, orient=\"h\", palette=\"Set2\")"
   ]
  },
  {
   "cell_type": "code",
   "execution_count": 2472,
   "metadata": {},
   "outputs": [],
   "source": [
    "#Create the new feature Population2\n",
    "\n",
    "fbiraw_t3['Population2'] = fbiraw_t3['Population']*fbiraw_t3['Population']"
   ]
  },
  {
   "cell_type": "code",
   "execution_count": 2473,
   "metadata": {},
   "outputs": [],
   "source": [
    "#Convert Robbery into a categorical feature\n",
    "\n",
    "fbiraw_t3.loc[fbiraw_t3['Robbery'] > 0, 'Robbery'] = 1"
   ]
  },
  {
   "cell_type": "code",
   "execution_count": 2474,
   "metadata": {
    "collapsed": true
   },
   "outputs": [],
   "source": [
    "#Convert Murder into a categorical feature\n",
    "\n",
    "fbiraw_t3.loc[fbiraw_t3['Murder'] > 0, 'Murder'] = 1"
   ]
  },
  {
   "cell_type": "code",
   "execution_count": 2475,
   "metadata": {},
   "outputs": [
    {
     "data": {
      "text/html": [
       "<div>\n",
       "<style>\n",
       "    .dataframe thead tr:only-child th {\n",
       "        text-align: right;\n",
       "    }\n",
       "\n",
       "    .dataframe thead th {\n",
       "        text-align: left;\n",
       "    }\n",
       "\n",
       "    .dataframe tbody tr th {\n",
       "        vertical-align: top;\n",
       "    }\n",
       "</style>\n",
       "<table border=\"1\" class=\"dataframe\">\n",
       "  <thead>\n",
       "    <tr style=\"text-align: right;\">\n",
       "      <th></th>\n",
       "      <th>PropertyCrime</th>\n",
       "      <th>Population</th>\n",
       "      <th>Population2</th>\n",
       "      <th>Murder</th>\n",
       "      <th>Robbery</th>\n",
       "    </tr>\n",
       "  </thead>\n",
       "  <tbody>\n",
       "    <tr>\n",
       "      <th>0</th>\n",
       "      <td>12.0</td>\n",
       "      <td>1861.0</td>\n",
       "      <td>3463321.0</td>\n",
       "      <td>0.0</td>\n",
       "      <td>0.0</td>\n",
       "    </tr>\n",
       "    <tr>\n",
       "      <th>1</th>\n",
       "      <td>24.0</td>\n",
       "      <td>2577.0</td>\n",
       "      <td>6640929.0</td>\n",
       "      <td>0.0</td>\n",
       "      <td>0.0</td>\n",
       "    </tr>\n",
       "    <tr>\n",
       "      <th>2</th>\n",
       "      <td>16.0</td>\n",
       "      <td>2846.0</td>\n",
       "      <td>8099716.0</td>\n",
       "      <td>0.0</td>\n",
       "      <td>0.0</td>\n",
       "    </tr>\n",
       "    <tr>\n",
       "      <th>3</th>\n",
       "      <td>46.0</td>\n",
       "      <td>4089.0</td>\n",
       "      <td>16719921.0</td>\n",
       "      <td>0.0</td>\n",
       "      <td>1.0</td>\n",
       "    </tr>\n",
       "    <tr>\n",
       "      <th>4</th>\n",
       "      <td>10.0</td>\n",
       "      <td>1781.0</td>\n",
       "      <td>3171961.0</td>\n",
       "      <td>0.0</td>\n",
       "      <td>0.0</td>\n",
       "    </tr>\n",
       "  </tbody>\n",
       "</table>\n",
       "</div>"
      ],
      "text/plain": [
       "   PropertyCrime  Population  Population2  Murder  Robbery\n",
       "0           12.0      1861.0    3463321.0     0.0      0.0\n",
       "1           24.0      2577.0    6640929.0     0.0      0.0\n",
       "2           16.0      2846.0    8099716.0     0.0      0.0\n",
       "3           46.0      4089.0   16719921.0     0.0      1.0\n",
       "4           10.0      1781.0    3171961.0     0.0      0.0"
      ]
     },
     "execution_count": 2475,
     "metadata": {},
     "output_type": "execute_result"
    }
   ],
   "source": [
    "#Transform dataset into final dataset with features\n",
    "\n",
    "fbidata = fbiraw_t3[['PropertyCrime','Population', 'Population2','Murder','Robbery']]\n",
    "fbidata.head()"
   ]
  },
  {
   "cell_type": "markdown",
   "metadata": {},
   "source": [
    "#### Assumptions of linear regression"
   ]
  },
  {
   "cell_type": "code",
   "execution_count": 2476,
   "metadata": {},
   "outputs": [
    {
     "name": "stdout",
     "output_type": "stream",
     "text": [
      "\n",
      "Coefficients: \n",
      " [[  1.01345878e-02  -2.77994883e-07   3.82089851e+01   3.24297112e+01]]\n",
      "\n",
      "Intercept: \n",
      " [ 7.80548467]\n",
      "\n",
      "R-squared:\n",
      "0.561885218122\n"
     ]
    }
   ],
   "source": [
    "# Instantiate and fit our model.\n",
    "regr = linear_model.LinearRegression()\n",
    "Y = fbidata['PropertyCrime'].values.reshape(-1, 1)\n",
    "X = fbidata[['Population', 'Population2','Murder','Robbery']]\n",
    "regr.fit(X, Y)\n",
    "\n",
    "# Inspect the results.\n",
    "print('\\nCoefficients: \\n', regr.coef_)\n",
    "print('\\nIntercept: \\n', regr.intercept_)\n",
    "print('\\nR-squared:')\n",
    "print(regr.score(X, Y))"
   ]
  },
  {
   "cell_type": "markdown",
   "metadata": {},
   "source": [
    "#### Assumption 1: Linear relationship"
   ]
  },
  {
   "cell_type": "code",
   "execution_count": 2477,
   "metadata": {},
   "outputs": [
    {
     "data": {
      "image/png": "[encoded data removed]",
      "text/plain": [
       "<matplotlib.figure.Figure at 0xf359510>"
      ]
     },
     "metadata": {},
     "output_type": "display_data"
    }
   ],
   "source": [
    "# \n",
    "outcome = fbidata['PropertyCrime']\n",
    "feature = fbidata['Population']\n",
    "\n",
    "# Plot the data as-is. Looks a mite quadratic.\n",
    "plt.scatter(outcome, feature)\n",
    "plt.title('Raw values')\n",
    "plt.show()"
   ]
  },
  {
   "cell_type": "markdown",
   "metadata": {},
   "source": [
    "##### Assumption 2: Multivariate normality"
   ]
  },
  {
   "cell_type": "code",
   "execution_count": 2478,
   "metadata": {},
   "outputs": [
    {
     "data": {
      "image/png": "[encoded data removed]",
      "text/plain": [
       "<matplotlib.figure.Figure at 0xe1914b0>"
      ]
     },
     "metadata": {},
     "output_type": "display_data"
    }
   ],
   "source": [
    "# Extract predicted values.\n",
    "predicted = regr.predict(X).ravel()\n",
    "actual = fbidata['PropertyCrime']\n",
    "\n",
    "# Calculate the error, also called the residual.\n",
    "residual = actual - predicted\n",
    "\n",
    "# This looks a bit concerning.\n",
    "plt.hist(residual)\n",
    "plt.title('Residual counts')\n",
    "plt.xlabel('Residual')\n",
    "plt.ylabel('Count')\n",
    "plt.show()"
   ]
  },
  {
   "cell_type": "markdown",
   "metadata": {},
   "source": [
    "#### Assumption 3: Homoscedasticity"
   ]
  },
  {
   "cell_type": "code",
   "execution_count": 2479,
   "metadata": {},
   "outputs": [
    {
     "data": {
      "image/png": "[encoded data removed]",
      "text/plain": [
       "<matplotlib.figure.Figure at 0xc9e0150>"
      ]
     },
     "metadata": {},
     "output_type": "display_data"
    }
   ],
   "source": [
    "plt.scatter(predicted, residual)\n",
    "plt.xlabel('Predicted')\n",
    "plt.ylabel('Residual')\n",
    "plt.axhline(y=0)\n",
    "plt.title('Residual vs. Predicted')\n",
    "plt.show()"
   ]
  },
  {
   "cell_type": "markdown",
   "metadata": {},
   "source": [
    "#### Assumption 4: Low multicollinearity"
   ]
  },
  {
   "cell_type": "code",
   "execution_count": 2480,
   "metadata": {},
   "outputs": [
    {
     "data": {
      "text/html": [
       "<div>\n",
       "<style>\n",
       "    .dataframe thead tr:only-child th {\n",
       "        text-align: right;\n",
       "    }\n",
       "\n",
       "    .dataframe thead th {\n",
       "        text-align: left;\n",
       "    }\n",
       "\n",
       "    .dataframe tbody tr th {\n",
       "        vertical-align: top;\n",
       "    }\n",
       "</style>\n",
       "<table border=\"1\" class=\"dataframe\">\n",
       "  <thead>\n",
       "    <tr style=\"text-align: right;\">\n",
       "      <th></th>\n",
       "      <th>Population</th>\n",
       "      <th>Population2</th>\n",
       "      <th>Murder</th>\n",
       "      <th>Robbery</th>\n",
       "    </tr>\n",
       "  </thead>\n",
       "  <tbody>\n",
       "    <tr>\n",
       "      <th>Population</th>\n",
       "      <td>1.000000</td>\n",
       "      <td>0.915208</td>\n",
       "      <td>0.247698</td>\n",
       "      <td>0.351146</td>\n",
       "    </tr>\n",
       "    <tr>\n",
       "      <th>Population2</th>\n",
       "      <td>0.915208</td>\n",
       "      <td>1.000000</td>\n",
       "      <td>0.248068</td>\n",
       "      <td>0.265010</td>\n",
       "    </tr>\n",
       "    <tr>\n",
       "      <th>Murder</th>\n",
       "      <td>0.247698</td>\n",
       "      <td>0.248068</td>\n",
       "      <td>1.000000</td>\n",
       "      <td>0.219195</td>\n",
       "    </tr>\n",
       "    <tr>\n",
       "      <th>Robbery</th>\n",
       "      <td>0.351146</td>\n",
       "      <td>0.265010</td>\n",
       "      <td>0.219195</td>\n",
       "      <td>1.000000</td>\n",
       "    </tr>\n",
       "  </tbody>\n",
       "</table>\n",
       "</div>"
      ],
      "text/plain": [
       "             Population  Population2    Murder   Robbery\n",
       "Population     1.000000     0.915208  0.247698  0.351146\n",
       "Population2    0.915208     1.000000  0.248068  0.265010\n",
       "Murder         0.247698     0.248068  1.000000  0.219195\n",
       "Robbery        0.351146     0.265010  0.219195  1.000000"
      ]
     },
     "metadata": {},
     "output_type": "display_data"
    }
   ],
   "source": [
    "correlation_matrix = X.corr()\n",
    "display(correlation_matrix)"
   ]
  }
 ],
 "metadata": {
  "kernelspec": {
   "display_name": "Python 3",
   "language": "python",
   "name": "python3"
  },
  "language_info": {
   "codemirror_mode": {
    "name": "ipython",
    "version": 3
   },
   "file_extension": ".py",
   "mimetype": "text/x-python",
   "name": "python",
   "nbconvert_exporter": "python",
   "pygments_lexer": "ipython3",
   "version": "3.6.1"
  }
 },
 "nbformat": 4,
 "nbformat_minor": 2
}
