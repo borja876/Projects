{
 "cells": [
  {
   "cell_type": "code",
   "execution_count": null,
   "metadata": {
    "collapsed": true
   },
   "outputs": [],
   "source": [
    "import logging\n",
    "\n",
    "logging.basicConfig(level=logging.DEBUG)\n",
    "logger = logging.getLogger(__name__)"
   ]
  },
  {
   "cell_type": "code",
   "execution_count": 1,
   "metadata": {},
   "outputs": [],
   "source": [
    "#Create node class\n",
    "class Tree(object):\n",
    "    def __init__(self, data):\n",
    "        self.data = data\n",
    "        self.left = None\n",
    "        self.right = None\n",
    "\n",
    "    def __repr__(self):\n",
    "        left = None if self.left is None else self.left.data\n",
    "        right = None if self.right is None else self.right.data\n",
    "        return '(D:{}, L:{}, R:{})'.format(self.data, left, right)\n",
    "\n",
    "#Build the breadth first function\n",
    "def build_tree_breadth_first(sequence):\n",
    "# Create a list of trees\n",
    "    forest = [Tree(x) for x in sequence]\n",
    "\n",
    "# Fix up the left- and right links\n",
    "    count = len(forest)\n",
    "    for index, tree in enumerate(forest):\n",
    "        left_index = 2 * index + 1\n",
    "        if left_index < count:\n",
    "            tree.left = forest[left_index]\n",
    "\n",
    "        right_index = 2 * index + 2\n",
    "        if right_index < count:\n",
    "            tree.right = forest[right_index]\n",
    "\n",
    "    for index, tree in enumerate(forest):\n",
    "        print('[{}]: {}'.format(index, tree))\n",
    "    return forest[0]  # root\n",
    "\n",
    "#Build the tree function\n",
    "def tree():\n",
    "    root = build_tree_breadth_first(data)\n",
    "    print ('Root is:', root)"
   ]
  },
  {
   "cell_type": "code",
   "execution_count": 4,
   "metadata": {},
   "outputs": [
    {
     "name": "stdout",
     "output_type": "stream",
     "text": [
      "[0]: (D:3, L:5, R:2)\n",
      "[1]: (D:5, L:1, R:4)\n",
      "[2]: (D:2, L:6, R:7)\n",
      "[3]: (D:1, L:8, R:9)\n",
      "[4]: (D:4, L:10, R:11)\n",
      "[5]: (D:6, L:12, R:13)\n",
      "[6]: (D:7, L:14, R:15)\n",
      "[7]: (D:8, L:None, R:None)\n",
      "[8]: (D:9, L:None, R:None)\n",
      "[9]: (D:10, L:None, R:None)\n",
      "[10]: (D:11, L:None, R:None)\n",
      "[11]: (D:12, L:None, R:None)\n",
      "[12]: (D:13, L:None, R:None)\n",
      "[13]: (D:14, L:None, R:None)\n",
      "[14]: (D:15, L:None, R:None)\n",
      "Root is: (D:3, L:5, R:2)\n"
     ]
    }
   ],
   "source": [
    "#Insert 15 random values\n",
    "data = [3, 5, 2, 1, 4, 6, 7, 8, 9, 10, 11, 12, 13, 14, 15]\n",
    "\n",
    "#Build tree and print breadth first\n",
    "tree()"
   ]
  }
 ],
 "metadata": {
  "kernelspec": {
   "display_name": "Python 3",
   "language": "python",
   "name": "python3"
  },
  "language_info": {
   "codemirror_mode": {
    "name": "ipython",
    "version": 3
   },
   "file_extension": ".py",
   "mimetype": "text/x-python",
   "name": "python",
   "nbconvert_exporter": "python",
   "pygments_lexer": "ipython3",
   "version": "3.5.4"
  }
 },
 "nbformat": 4,
 "nbformat_minor": 2
}
