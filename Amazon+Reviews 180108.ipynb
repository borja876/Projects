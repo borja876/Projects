{
 "cells": [
  {
   "cell_type": "code",
   "execution_count": 7,
   "metadata": {
    "collapsed": true
   },
   "outputs": [],
   "source": [
    "%matplotlib inline\n",
    "import numpy as np\n",
    "import pandas as pd\n",
    "import scipy\n",
    "import sklearn\n",
    "import matplotlib.pyplot as plt\n",
    "import math\n",
    "from sklearn.model_selection import cross_val_score, KFold, cross_val_predict, train_test_split,GridSearchCV\n",
    "import matplotlib.pyplot as plt\n",
    "from sklearn.linear_model import LogisticRegression\n",
    "from sklearn.utils import resample\n",
    "from sklearn.ensemble import RandomForestClassifier, GradientBoostingClassifier, ExtraTreesClassifier\n",
    "from sklearn.naive_bayes import BernoulliNB\n",
    "import json\n",
    "import seaborn as sns\n",
    "from sklearn.metrics import roc_curve, auc, precision_recall_curve, confusion_matrix, classification_report, accuracy_score\n",
    "from sklearn.feature_extraction.text import ENGLISH_STOP_WORDS\n",
    "from sklearn.neighbors import KNeighborsClassifier\n",
    "from sklearn.pipeline import make_pipeline\n",
    "from sklearn.feature_extraction.text import TfidfVectorizer, CountVectorizer\n",
    "from sklearn.svm import SVC\n",
    "from sklearn.tree import DecisionTreeClassifier"
   ]
  },
  {
   "cell_type": "markdown",
   "metadata": {},
   "source": [
    "***Import & Analize Data***"
   ]
  },
  {
   "cell_type": "code",
   "execution_count": 10,
   "metadata": {},
   "outputs": [
    {
     "data": {
      "text/html": [
       "<div>\n",
       "<style>\n",
       "    .dataframe thead tr:only-child th {\n",
       "        text-align: right;\n",
       "    }\n",
       "\n",
       "    .dataframe thead th {\n",
       "        text-align: left;\n",
       "    }\n",
       "\n",
       "    .dataframe tbody tr th {\n",
       "        vertical-align: top;\n",
       "    }\n",
       "</style>\n",
       "<table border=\"1\" class=\"dataframe\">\n",
       "  <thead>\n",
       "    <tr style=\"text-align: right;\">\n",
       "      <th></th>\n",
       "      <th>overall</th>\n",
       "      <th>reviewText</th>\n",
       "    </tr>\n",
       "  </thead>\n",
       "  <tbody>\n",
       "    <tr>\n",
       "      <th>0</th>\n",
       "      <td>5</td>\n",
       "      <td>It's hard to believe \"Memory of Trees\" came ou...</td>\n",
       "    </tr>\n",
       "    <tr>\n",
       "      <th>1</th>\n",
       "      <td>5</td>\n",
       "      <td>A clasically-styled and introverted album, Mem...</td>\n",
       "    </tr>\n",
       "    <tr>\n",
       "      <th>2</th>\n",
       "      <td>5</td>\n",
       "      <td>I never thought Enya would reach the sublime h...</td>\n",
       "    </tr>\n",
       "    <tr>\n",
       "      <th>3</th>\n",
       "      <td>5</td>\n",
       "      <td>This is the third review of an irish album I w...</td>\n",
       "    </tr>\n",
       "    <tr>\n",
       "      <th>4</th>\n",
       "      <td>4</td>\n",
       "      <td>Enya, despite being a successful recording art...</td>\n",
       "    </tr>\n",
       "  </tbody>\n",
       "</table>\n",
       "</div>"
      ],
      "text/plain": [
       "   overall                                         reviewText\n",
       "0        5  It's hard to believe \"Memory of Trees\" came ou...\n",
       "1        5  A clasically-styled and introverted album, Mem...\n",
       "2        5  I never thought Enya would reach the sublime h...\n",
       "3        5  This is the third review of an irish album I w...\n",
       "4        4  Enya, despite being a successful recording art..."
      ]
     },
     "execution_count": 10,
     "metadata": {},
     "output_type": "execute_result"
    }
   ],
   "source": [
    "#Import data from json file and create a list\n",
    "\n",
    "data = []\n",
    "with open('/home/borjaregueral/Digital_Music_5.json') as f:\n",
    "    for line in f:\n",
    "        data.append(json.loads(line))\n",
    "\n",
    "#Create a dataframe with the columns that are interesting for this exercise\n",
    "#Columns left out: 'helpful', 'reviewTime', 'reviewerID','reviewerName'\n",
    "names = [\"overall\", \"reviewText\"]\n",
    "amazonraw = pd.DataFrame(data, columns=names)\n",
    "amazonraw['overall'] = amazonraw['overall'].astype(int)\n",
    "amazonraw.head()"
   ]
  },
  {
   "cell_type": "code",
   "execution_count": 11,
   "metadata": {},
   "outputs": [
    {
     "name": "stdout",
     "output_type": "stream",
     "text": [
      "<class 'pandas.core.frame.DataFrame'>\n",
      "RangeIndex: 64706 entries, 0 to 64705\n",
      "Data columns (total 2 columns):\n",
      "overall       64706 non-null int64\n",
      "reviewText    64706 non-null object\n",
      "dtypes: int64(1), object(1)\n",
      "memory usage: 1011.1+ KB\n"
     ]
    },
    {
     "data": {
      "text/plain": [
       "overall        int64\n",
       "reviewText    object\n",
       "dtype: object"
      ]
     },
     "execution_count": 11,
     "metadata": {},
     "output_type": "execute_result"
    }
   ],
   "source": [
    "#Analyse the dataset: types, length of the dataframe and NaN\n",
    "amazonraw.info()\n",
    "amazonraw.dtypes"
   ]
  },
  {
   "cell_type": "markdown",
   "metadata": {},
   "source": [
    "***Build Sentiment Scores and Categories***"
   ]
  },
  {
   "cell_type": "code",
   "execution_count": 12,
   "metadata": {},
   "outputs": [
    {
     "data": {
      "text/plain": [
       "count    64706.000000\n",
       "mean         4.222514\n",
       "std          1.086081\n",
       "min          1.000000\n",
       "25%          4.000000\n",
       "50%          5.000000\n",
       "75%          5.000000\n",
       "max          5.000000\n",
       "Name: overall, dtype: float64"
      ]
     },
     "execution_count": 12,
     "metadata": {},
     "output_type": "execute_result"
    }
   ],
   "source": [
    "amazonraw.overall.describe()"
   ]
  },
  {
   "cell_type": "code",
   "execution_count": 13,
   "metadata": {
    "collapsed": true
   },
   "outputs": [],
   "source": [
    "#Change the Overall variable into a categorical variable\n",
    "#Ratings equal or lower than 3 have been considered negative as the mean is 4.25.\n",
    "#The hypothesis is that although the abovmentioned ratings could be considered positive they are negative\n",
    "\n",
    "amazonraw.loc[amazonraw['overall'] <= 3, 'Sentiment'] = 0\n",
    "amazonraw.loc[amazonraw['overall'] >=4 , 'Sentiment'] = 1\n",
    "amazonraw.loc[amazonraw['Sentiment'] == 0, 'Category'] ='Negative'\n",
    "amazonraw.loc[amazonraw['Sentiment'] == 1, 'Category'] = 'Positive'"
   ]
  },
  {
   "cell_type": "code",
   "execution_count": 14,
   "metadata": {},
   "outputs": [
    {
     "name": "stdout",
     "output_type": "stream",
     "text": [
      "Number of ocurrencies:\n",
      " Negative    12590\n",
      "Positive    52116\n",
      "dtype: int64\n",
      "\n",
      "\n",
      "Frequency of each value:\n",
      " Positive    0.805428\n",
      "Negative    0.194572\n",
      "Name: Category, dtype: float64\n"
     ]
    }
   ],
   "source": [
    "#Count the each of the categories\n",
    "\n",
    "a = amazonraw['Category'].value_counts('Positive')\n",
    "b = pd.value_counts(amazonraw['Category'].values, sort=False)\n",
    "\n",
    "print('Number of ocurrencies:\\n', b)\n",
    "print('\\n')\n",
    "print('Frequency of each value:\\n', a)"
   ]
  },
  {
   "cell_type": "code",
   "execution_count": 15,
   "metadata": {},
   "outputs": [
    {
     "data": {
      "text/plain": [
       "Positive    12590\n",
       "Negative    12590\n",
       "Name: Category, dtype: int64"
      ]
     },
     "execution_count": 15,
     "metadata": {},
     "output_type": "execute_result"
    }
   ],
   "source": [
    "#Downsample majority class (due to computational restrictions we downsample the majority instead of upsampling the minority)\n",
    "\n",
    "# Separate majority and minority classes\n",
    "amazon_majority = amazonraw[amazonraw.Sentiment == 1]\n",
    "amazon_minority = amazonraw[amazonraw.Sentiment == 0]\n",
    " \n",
    "# Downsample mairlinesass\n",
    "amazon_majority_downsampled = resample(amazon_majority, replace=False, n_samples=12590, random_state=123) \n",
    " \n",
    "# Combine minority class with downsampled majority class\n",
    "amazon = pd.concat([amazon_majority_downsampled, amazon_minority])\n",
    " \n",
    "# Display new class counts\n",
    "amazon.Category.value_counts()"
   ]
  },
  {
   "cell_type": "code",
   "execution_count": 16,
   "metadata": {},
   "outputs": [
    {
     "data": {
      "text/plain": [
       "Text(0.5,1,'Categories in the downsampled dataset')"
      ]
     },
     "execution_count": 16,
     "metadata": {},
     "output_type": "execute_result"
    },
    {
     "data": {
      "image/png": "[encoded data removed]",
      "text/plain": [
       "<matplotlib.figure.Figure at 0x7f647dea8208>"
      ]
     },
     "metadata": {},
     "output_type": "display_data"
    }
   ],
   "source": [
    "#Graphical representation of the positive and negative reviews\n",
    "\n",
    "plt.figure(figsize=(20, 5))\n",
    "\n",
    "plt.subplot(1, 2, 1)\n",
    "\n",
    "sns.set(style=\"white\")\n",
    "ax = sns.countplot(x=\"overall\", data=amazonraw)\n",
    "plt.title('Amazon Ratings')\n",
    "\n",
    "plt.subplot(1, 2, 2)\n",
    "sns.set(style=\"white\")\n",
    "ax = sns.countplot(x=\"Category\", data=amazon)\n",
    "plt.title('Categories in the downsampled dataset')"
   ]
  },
  {
   "cell_type": "code",
   "execution_count": 17,
   "metadata": {},
   "outputs": [
    {
     "data": {
      "text/html": [
       "<div>\n",
       "<style>\n",
       "    .dataframe thead tr:only-child th {\n",
       "        text-align: right;\n",
       "    }\n",
       "\n",
       "    .dataframe thead th {\n",
       "        text-align: left;\n",
       "    }\n",
       "\n",
       "    .dataframe tbody tr th {\n",
       "        vertical-align: top;\n",
       "    }\n",
       "</style>\n",
       "<table border=\"1\" class=\"dataframe\">\n",
       "  <thead>\n",
       "    <tr style=\"text-align: right;\">\n",
       "      <th></th>\n",
       "      <th>overall</th>\n",
       "      <th>reviewText</th>\n",
       "      <th>Sentiment</th>\n",
       "      <th>Category</th>\n",
       "    </tr>\n",
       "  </thead>\n",
       "  <tbody>\n",
       "    <tr>\n",
       "      <th>59643</th>\n",
       "      <td>5</td>\n",
       "      <td>This is a great song that will stand the test ...</td>\n",
       "      <td>1.0</td>\n",
       "      <td>Positive</td>\n",
       "    </tr>\n",
       "    <tr>\n",
       "      <th>55386</th>\n",
       "      <td>5</td>\n",
       "      <td>I am ashamed to say that such a high rating on...</td>\n",
       "      <td>1.0</td>\n",
       "      <td>Positive</td>\n",
       "    </tr>\n",
       "    <tr>\n",
       "      <th>29299</th>\n",
       "      <td>4</td>\n",
       "      <td>Mobb deep have never disapointed fans , with a...</td>\n",
       "      <td>1.0</td>\n",
       "      <td>Positive</td>\n",
       "    </tr>\n",
       "    <tr>\n",
       "      <th>61457</th>\n",
       "      <td>4</td>\n",
       "      <td>I first learned of Sharon Van Etten when Rolli...</td>\n",
       "      <td>1.0</td>\n",
       "      <td>Positive</td>\n",
       "    </tr>\n",
       "    <tr>\n",
       "      <th>41719</th>\n",
       "      <td>4</td>\n",
       "      <td>In a similar line as contemporary acts The Vin...</td>\n",
       "      <td>1.0</td>\n",
       "      <td>Positive</td>\n",
       "    </tr>\n",
       "  </tbody>\n",
       "</table>\n",
       "</div>"
      ],
      "text/plain": [
       "       overall                                         reviewText  Sentiment  \\\n",
       "59643        5  This is a great song that will stand the test ...        1.0   \n",
       "55386        5  I am ashamed to say that such a high rating on...        1.0   \n",
       "29299        4  Mobb deep have never disapointed fans , with a...        1.0   \n",
       "61457        4  I first learned of Sharon Van Etten when Rolli...        1.0   \n",
       "41719        4  In a similar line as contemporary acts The Vin...        1.0   \n",
       "\n",
       "       Category  \n",
       "59643  Positive  \n",
       "55386  Positive  \n",
       "29299  Positive  \n",
       "61457  Positive  \n",
       "41719  Positive  "
      ]
     },
     "execution_count": 17,
     "metadata": {},
     "output_type": "execute_result"
    }
   ],
   "source": [
    "#Create new dataframe that has the Categories, Overall scores, Sentiment and ReviewText\n",
    "names = ['Category',\"overall\",'Sentiment', \"reviewText\"]\n",
    "amazon1 = pd.DataFrame(amazon, columns=names)\n",
    "amazon.head()"
   ]
  },
  {
   "cell_type": "code",
   "execution_count": 18,
   "metadata": {
    "collapsed": true
   },
   "outputs": [],
   "source": [
    "#Lines are reshuffled and 50% of the dataset is used to reduce the computing effort\n",
    "amazon2 = amazon1.sample(frac=1, random_state=7)"
   ]
  },
  {
   "cell_type": "code",
   "execution_count": 19,
   "metadata": {
    "collapsed": true
   },
   "outputs": [],
   "source": [
    "#Predictors and prediced variables are formed\n",
    "\n",
    "X = amazon2['reviewText']\n",
    "y = amazon2['Sentiment']\n",
    "\n",
    "#Split the data set into train and test 70/30\n",
    "X_train, X_test, y_train, y_test  = train_test_split(X,y, test_size=0.3, random_state=135)\n",
    "\n",
    "#KFold for cross validation analysis\n",
    "kf = KFold(5)"
   ]
  },
  {
   "cell_type": "markdown",
   "metadata": {},
   "source": [
    "### Bag of Words ###"
   ]
  },
  {
   "cell_type": "code",
   "execution_count": 20,
   "metadata": {
    "collapsed": true
   },
   "outputs": [],
   "source": [
    "#Analysis starts with Bag of Words and common English words are extracted\n",
    "\n",
    "vect = CountVectorizer(analyzer = 'word', stop_words='english').fit(X_train)\n",
    "\n",
    "X_trainvec = vect.transform(X_train)\n",
    "X_testvec = vect.transform(X_test)"
   ]
  },
  {
   "cell_type": "code",
   "execution_count": 13,
   "metadata": {},
   "outputs": [
    {
     "name": "stdout",
     "output_type": "stream",
     "text": [
      "Number of stop words is : 318 \n",
      "\n",
      "Examples:  ['inc', 'own', 'even', 'mine', 'hundred', 'whereupon', 'next', 'be', 'such', 'due', 'indeed', 'was', 'wherever', 'much', 'thereby', 'of', 'back', 'other', 'latterly', 'several', 'often', 'made', 'nine', 'namely', 'while', 'on', 'us', 'top', 'myself', 'do', 'less', 'everyone']\n"
     ]
    }
   ],
   "source": [
    "#Count the number of english words and take a look at the type of words that are extracted\n",
    "\n",
    "print(\"Number of stop words is :\", len(ENGLISH_STOP_WORDS), \"\\n\")\n",
    "print(\"Examples: \", list(ENGLISH_STOP_WORDS)[::10])"
   ]
  },
  {
   "cell_type": "code",
   "execution_count": 14,
   "metadata": {},
   "outputs": [
    {
     "name": "stdout",
     "output_type": "stream",
     "text": [
      "59374\n",
      "\n",
      "\n",
      "['00', '000', '000x', '0051', '006', '007', '00am', '00s', '01', '01so', '02', '02604', '029', '03', '0304', '04', '0403', '047', '05', '054']\n",
      "\n",
      "\n",
      "['zulu', 'zumba', 'zune', 'zup', 'zutons', 'zwan', 'zwizany', 'zydeco', 'zygote', 'zz', 'zztop', 'zzz', 'zzzzzzzz', 'zzzzzzzzz', 'zzzzzzzzzz', 'zzzzzzzzzzz', 'zzzzzzzzzzzzz', 'zzzzzzzzzzzzzz', 'zzzzzzzzzzzzzzzzzzzzzzzzzzzzzzzzzzzzzzz', 'zzzzzzzzzzzzzzzzzzzzzzzzzzzzzzzzzzzzzzzz']\n"
     ]
    }
   ],
   "source": [
    "#Take a look at the features identified by bag of words\n",
    "\n",
    "features_names = vect.get_feature_names()\n",
    "print(len(features_names))\n",
    "print(\"\\n\")\n",
    "# print first 20 features\n",
    "print(features_names[:20])\n",
    "print(\"\\n\")\n",
    "# print last 20 features\n",
    "print(features_names[-20:])"
   ]
  },
  {
   "cell_type": "code",
   "execution_count": 15,
   "metadata": {},
   "outputs": [
    {
     "name": "stdout",
     "output_type": "stream",
     "text": [
      "(17626, 59374)\n"
     ]
    },
    {
     "data": {
      "text/plain": [
       "<17626x59374 sparse matrix of type '<class 'numpy.int64'>'\n",
       "\twith 1288564 stored elements in Compressed Sparse Row format>"
      ]
     },
     "execution_count": 15,
     "metadata": {},
     "output_type": "execute_result"
    }
   ],
   "source": [
    "#Size of the X_trainvector sparse matrix\n",
    "print(X_trainvec.shape)\n",
    "X_trainvec"
   ]
  },
  {
   "cell_type": "code",
   "execution_count": 16,
   "metadata": {},
   "outputs": [
    {
     "data": {
      "text/plain": [
       "(17626,)"
      ]
     },
     "execution_count": 16,
     "metadata": {},
     "output_type": "execute_result"
    }
   ],
   "source": [
    "#Check the size of the y_train vector to avoid problems when running the logistic regression model\n",
    "y_train.shape"
   ]
  },
  {
   "cell_type": "markdown",
   "metadata": {},
   "source": [
    "***Bernoulli***"
   ]
  },
  {
   "cell_type": "code",
   "execution_count": 17,
   "metadata": {
    "collapsed": true
   },
   "outputs": [],
   "source": [
    "# Initialize and fit the model.\n",
    "\n",
    "l3 = BernoulliNB()\n",
    "l3.fit(X_trainvec, y_train)\n",
    "\n",
    "# Predict on training set\n",
    "predtrain_y = l3.predict(X_trainvec)"
   ]
  },
  {
   "cell_type": "code",
   "execution_count": 18,
   "metadata": {
    "collapsed": true
   },
   "outputs": [],
   "source": [
    "#Predicting on the test set\n",
    "\n",
    "l3 = BernoulliNB()\n",
    "l3.fit(X_testvec, y_test)\n",
    "\n",
    "# Predict on training set\n",
    "predtest_y = l3.predict(X_testvec)"
   ]
  },
  {
   "cell_type": "code",
   "execution_count": 19,
   "metadata": {},
   "outputs": [
    {
     "name": "stdout",
     "output_type": "stream",
     "text": [
      "             precision    recall  f1-score   support\n",
      "\n",
      "        0.0       0.75      0.93      0.83      3778\n",
      "        1.0       0.91      0.70      0.79      3776\n",
      "\n",
      "avg / total       0.83      0.81      0.81      7554\n",
      "\n",
      "[[3508  270]\n",
      " [1144 2632]]\n",
      "Bernouilli accuracy: 0.6943349652219266\n",
      "Percent Type I errors: 0.035742652899126294\n",
      "Percent Type II errors: 0.1514429441355573\n",
      "\n",
      "\n"
     ]
    }
   ],
   "source": [
    "#Evaluation of the model (testing)\n",
    "\n",
    "target_names = ['0.0', '1.0']\n",
    "print(classification_report(y_test, predtest_y, target_names=target_names))\n",
    "\n",
    "confusion = confusion_matrix(y_test, predtest_y)\n",
    "print(confusion)\n",
    "\n",
    "# Accuracy tables.\n",
    "table_test = pd.crosstab(y_test, predtest_y, margins=True)\n",
    "\n",
    "test_tI_errors = table_test.loc[0.0,1.0] / table_test.loc['All','All']\n",
    "test_tII_errors = table_test.loc[1.0,0.0] / table_test.loc['All','All']\n",
    "\n",
    "print((\n",
    "    'Bernouilli accuracy: {}\\n'\n",
    "    'Percent Type I errors: {}\\n'\n",
    "    'Percent Type II errors: {}\\n\\n'\n",
    ").format(cross_val_score(l3,X_testvec,y_test,cv=kf).mean(),test_tI_errors, test_tII_errors))"
   ]
  },
  {
   "cell_type": "markdown",
   "metadata": {},
   "source": [
    "***Logistic Model***"
   ]
  },
  {
   "cell_type": "code",
   "execution_count": 20,
   "metadata": {},
   "outputs": [
    {
     "data": {
      "text/plain": [
       "LogisticRegression(C=1.0, class_weight=None, dual=False, fit_intercept=True,\n",
       "          intercept_scaling=1, max_iter=100, multi_class='ovr', n_jobs=1,\n",
       "          penalty='l2', random_state=None, solver='liblinear', tol=0.0001,\n",
       "          verbose=0, warm_start=False)"
      ]
     },
     "execution_count": 20,
     "metadata": {},
     "output_type": "execute_result"
    }
   ],
   "source": [
    "# Initialize and fit the model.\n",
    "\n",
    "lr = LogisticRegression()\n",
    "\n",
    "lr.fit(X_trainvec, y_train)"
   ]
  },
  {
   "cell_type": "code",
   "execution_count": 21,
   "metadata": {
    "collapsed": true
   },
   "outputs": [],
   "source": [
    "#Once the model has been trained test it on the test dataset\n",
    "lr.fit(X_testvec, y_test)\n",
    "\n",
    "# Predict on test set\n",
    "predtest_y = lr.predict(X_testvec)"
   ]
  },
  {
   "cell_type": "code",
   "execution_count": 22,
   "metadata": {},
   "outputs": [
    {
     "name": "stdout",
     "output_type": "stream",
     "text": [
      "             precision    recall  f1-score   support\n",
      "\n",
      "        0.0       0.99      0.99      0.99      3778\n",
      "        1.0       0.99      0.99      0.99      3776\n",
      "\n",
      "avg / total       0.99      0.99      0.99      7554\n",
      "\n",
      "[[3745   33]\n",
      " [  31 3745]]\n",
      "Logistics accuracy: 0.74953624852626\n",
      "Percent Type I errors: 0.004368546465448769\n",
      "Percent Type II errors: 0.004103786073603389\n",
      "\n",
      "\n"
     ]
    }
   ],
   "source": [
    "#Evaluate model (test set)\n",
    "target_names = ['0.0', '1.0']\n",
    "print(classification_report(y_test, predtest_y, target_names=target_names))\n",
    "\n",
    "confusion = confusion_matrix(y_test, predtest_y)\n",
    "print(confusion)\n",
    "\n",
    "# Accuracy tables.\n",
    "table_test = pd.crosstab(y_test, predtest_y, margins=True)\n",
    "\n",
    "test_tI_errors = table_test.loc[0.0,1.0] / table_test.loc['All','All']\n",
    "test_tII_errors = table_test.loc[1.0,0.0] / table_test.loc['All','All']\n",
    "\n",
    "print((\n",
    "    'Logistics accuracy: {}\\n'\n",
    "    'Percent Type I errors: {}\\n'\n",
    "    'Percent Type II errors: {}\\n\\n'\n",
    ").format(cross_val_score(lr,X_testvec,y_test,cv=kf).mean(),test_tI_errors, test_tII_errors))"
   ]
  },
  {
   "cell_type": "markdown",
   "metadata": {},
   "source": [
    "***TFIDF***"
   ]
  },
  {
   "cell_type": "code",
   "execution_count": 23,
   "metadata": {
    "collapsed": true
   },
   "outputs": [],
   "source": [
    "\n",
    "vect2 = TfidfVectorizer(min_df=20, analyzer = 'word', stop_words = 'english',\n",
    "                        ngram_range = (1,3)\n",
    "                       ).fit(X_train)\n",
    "\n",
    "X_train_vectorized = vect2.transform(X_train)\n",
    "X_test_vectorized = vect2.transform(X_test)"
   ]
  },
  {
   "cell_type": "code",
   "execution_count": 24,
   "metadata": {},
   "outputs": [
    {
     "name": "stdout",
     "output_type": "stream",
     "text": [
      "12146\n"
     ]
    }
   ],
   "source": [
    "features_names = vect2.get_feature_names()\n",
    "print(len(features_names))"
   ]
  },
  {
   "cell_type": "markdown",
   "metadata": {},
   "source": [
    "***Logistic Model***"
   ]
  },
  {
   "cell_type": "code",
   "execution_count": 33,
   "metadata": {},
   "outputs": [
    {
     "name": "stdout",
     "output_type": "stream",
     "text": [
      "Best Hyper Parameters: {'penalty': 'l2', 'C': 2, 'class_weight': 'balanced'}\n"
     ]
    }
   ],
   "source": [
    "# Initialize and fit the model.\n",
    "\n",
    "lr2 = LogisticRegression(class_weight='balanced')\n",
    "\n",
    "#Create range of values to fit parameters\n",
    "\n",
    "k1 = ['l1', 'l2']\n",
    "k2 = np.arange(50) + 1\n",
    "k3 = ['balanced', None]\n",
    "\n",
    "parameters = {'penalty': k1,\n",
    "          'C': k2,\n",
    "          'class_weight':k3}\n",
    "\n",
    "#Fit parameters\n",
    "\n",
    "lrr = GridSearchCV(lr2, param_grid=parameters, cv=kf)\n",
    "\n",
    "#Fit on Training set\n",
    "lrr.fit(X_train_vectorized, y_train)\n",
    "\n",
    "#The best hyper parameters set\n",
    "print(\"Best Hyper Parameters:\", lrr.best_params_)"
   ]
  },
  {
   "cell_type": "code",
   "execution_count": 34,
   "metadata": {
    "collapsed": true
   },
   "outputs": [],
   "source": [
    "#Once the model has been trained test it on the test dataset\n",
    "lr2.fit(X_test_vectorized, y_test)\n",
    "\n",
    "# Predict on test set\n",
    "predtest2_y = lrr.predict(X_test_vectorized)"
   ]
  },
  {
   "cell_type": "code",
   "execution_count": 35,
   "metadata": {},
   "outputs": [
    {
     "name": "stdout",
     "output_type": "stream",
     "text": [
      "             precision    recall  f1-score   support\n",
      "\n",
      "        0.0       0.81      0.81      0.81      3778\n",
      "        1.0       0.81      0.81      0.81      3776\n",
      "\n",
      "avg / total       0.81      0.81      0.81      7554\n",
      "\n",
      "[[3048  730]\n",
      " [ 712 3064]]\n",
      "Losgistics model accuracy: 0.7814397727920197\n",
      "Percent Type I errors: 0.09663754302356367\n",
      "Percent Type II errors: 0.09425469949695525\n",
      "\n",
      "\n"
     ]
    }
   ],
   "source": [
    "#Evaluate model (test set)\n",
    "target_names = ['0.0', '1.0']\n",
    "print(classification_report(y_test, predtest2_y, target_names=target_names))\n",
    "\n",
    "confusion = confusion_matrix(y_test, predtest2_y)\n",
    "print(confusion)\n",
    "\n",
    "# Accuracy tables.\n",
    "table_test = pd.crosstab(y_test, predtest2_y, margins=True)\n",
    "\n",
    "test_tI_errors = table_test.loc[0.0,1.0] / table_test.loc['All','All']\n",
    "test_tII_errors = table_test.loc[1.0,0.0] / table_test.loc['All','All']\n",
    "\n",
    "print((\n",
    "    'Losgistics model accuracy: {}\\n'\n",
    "    'Percent Type I errors: {}\\n'\n",
    "    'Percent Type II errors: {}\\n\\n'\n",
    ").format(cross_val_score(lr2,X_test_vectorized,y_test,cv=kf).mean(),test_tI_errors, test_tII_errors))"
   ]
  },
  {
   "cell_type": "markdown",
   "metadata": {},
   "source": [
    "***Bernouilli Model***"
   ]
  },
  {
   "cell_type": "code",
   "execution_count": 36,
   "metadata": {},
   "outputs": [
    {
     "name": "stdout",
     "output_type": "stream",
     "text": [
      "Best Hyper Parameters: {'alpha': 1}\n"
     ]
    }
   ],
   "source": [
    "# Initialize and fit the model.\n",
    "\n",
    "l3 = BernoulliNB()\n",
    "\n",
    "#Create range of values to fit parameters\n",
    "\n",
    "\n",
    "k1 = np.arange(50) + 1\n",
    "\n",
    "\n",
    "parameters = {'alpha': k1\n",
    "          }\n",
    "\n",
    "#Fit parameters\n",
    "\n",
    "l33 = GridSearchCV(l3, param_grid=parameters, cv=kf)\n",
    "\n",
    "#Fit on Training set\n",
    "l33.fit(X_train_vectorized, y_train)\n",
    "\n",
    "#The best hyper parameters set\n",
    "print(\"Best Hyper Parameters:\", l33.best_params_)"
   ]
  },
  {
   "cell_type": "code",
   "execution_count": 37,
   "metadata": {
    "collapsed": true
   },
   "outputs": [],
   "source": [
    "# Predict on the test data set\n",
    "\n",
    "l33.fit(X_test_vectorized, y_test)\n",
    "\n",
    "# Predict on training set\n",
    "predtest3_y = l33.predict(X_test_vectorized)"
   ]
  },
  {
   "cell_type": "code",
   "execution_count": 38,
   "metadata": {},
   "outputs": [
    {
     "name": "stdout",
     "output_type": "stream",
     "text": [
      "             precision    recall  f1-score   support\n",
      "\n",
      "        0.0       0.76      0.88      0.82      3778\n",
      "        1.0       0.86      0.72      0.78      3776\n",
      "\n",
      "avg / total       0.81      0.80      0.80      7554\n",
      "\n",
      "[[3325  453]\n",
      " [1052 2724]]\n",
      "Bernouilli set accuracy: 0.720148842264892\n",
      "Percent Type I errors: 0.05996822875297855\n",
      "Percent Type II errors: 0.13926396611066985\n",
      "\n",
      "\n"
     ]
    }
   ],
   "source": [
    "#Evaluation of the model (testing)\n",
    "\n",
    "target_names = ['0.0', '1.0']\n",
    "print(classification_report(y_test, predtest3_y, target_names=target_names))\n",
    "\n",
    "confusion = confusion_matrix(y_test, predtest3_y)\n",
    "print(confusion)\n",
    "\n",
    "# Accuracy tables.\n",
    "table_test = pd.crosstab(y_test, predtest3_y, margins=True)\n",
    "\n",
    "test_tI_errors = table_test.loc[0.0,1.0] / table_test.loc['All','All']\n",
    "test_tII_errors = table_test.loc[1.0,0.0] / table_test.loc['All','All']\n",
    "\n",
    "print((\n",
    "    'Bernouilli set accuracy: {}\\n'\n",
    "    'Percent Type I errors: {}\\n'\n",
    "    'Percent Type II errors: {}\\n\\n'\n",
    ").format(cross_val_score(l33,X_test_vectorized,y_test,cv=kf).mean(),test_tI_errors, test_tII_errors))"
   ]
  },
  {
   "cell_type": "markdown",
   "metadata": {},
   "source": [
    "***KNN model***"
   ]
  },
  {
   "cell_type": "code",
   "execution_count": 39,
   "metadata": {},
   "outputs": [
    {
     "name": "stdout",
     "output_type": "stream",
     "text": [
      "Best Hyper Parameters: {'weights': 'distance', 'n_neighbors': 19}\n"
     ]
    }
   ],
   "source": [
    "# Initialize and fit the model\n",
    "KNN = KNeighborsClassifier(n_jobs=-1)\n",
    "\n",
    "#Create range of values to fit parameters\n",
    "\n",
    "k1 = [1,3,5,7,9,11,13,15,17,19,21]\n",
    "k3 = ['uniform', 'distance']\n",
    "\n",
    "parameters = {'n_neighbors': k1,\n",
    "          'weights':k3}\n",
    "\n",
    "#Fit parameters\n",
    "\n",
    "clf = GridSearchCV(KNN, param_grid=parameters, cv=kf)\n",
    "\n",
    "#Fit the tunned model\n",
    "clf.fit(X_train_vectorized, y_train)\n",
    "\n",
    "#The best hyper parameters set\n",
    "print(\"Best Hyper Parameters:\", clf.best_params_)"
   ]
  },
  {
   "cell_type": "code",
   "execution_count": 40,
   "metadata": {
    "collapsed": true
   },
   "outputs": [],
   "source": [
    "#Initialize the model on test dataset\n",
    "\n",
    "clf.fit(X_test_vectorized, y_test)\n",
    "\n",
    "# Predict on test dataset\n",
    "\n",
    "predtest3_y = clf.predict(X_test_vectorized)"
   ]
  },
  {
   "cell_type": "code",
   "execution_count": 41,
   "metadata": {},
   "outputs": [
    {
     "name": "stdout",
     "output_type": "stream",
     "text": [
      "             precision    recall  f1-score   support\n",
      "\n",
      "        0.0       0.72      0.66      0.69      3778\n",
      "        1.0       0.69      0.74      0.71      3776\n",
      "\n",
      "avg / total       0.70      0.70      0.70      7554\n",
      "\n",
      "[[2503 1275]\n",
      " [ 982 2794]]\n",
      "KNN accuracy: 0.6486637944258661\n",
      "Percent Type I errors: 0.1687847498014297\n",
      "Percent Type II errors: 0.12999735239608154\n",
      "\n",
      "\n"
     ]
    }
   ],
   "source": [
    "#Evaluate model on the test set\n",
    "target_names = ['0.0', '1.0']\n",
    "print(classification_report(y_test, predtest3_y, target_names=target_names))\n",
    "\n",
    "#Create confusion matrix\n",
    "confusion = confusion_matrix(y_test, predtest3_y)\n",
    "print(confusion)\n",
    "\n",
    "# Accuracy tables.\n",
    "table_test = pd.crosstab(y_test, predtest3_y, margins=True)\n",
    "\n",
    "test_tI_errors = table_test.loc[0.0,1.0] / table_test.loc['All','All']\n",
    "test_tII_errors = table_test.loc[1.0,0.0] / table_test.loc['All','All']\n",
    "\n",
    "#Print Results\n",
    "print((\n",
    "    'KNN accuracy: {}\\n'\n",
    "    'Percent Type I errors: {}\\n'\n",
    "    'Percent Type II errors: {}\\n\\n'\n",
    ").format(cross_val_score(clf,X_test_vectorized,y_test,cv=kf).mean(),test_tI_errors, test_tII_errors))"
   ]
  },
  {
   "cell_type": "markdown",
   "metadata": {},
   "source": [
    "***Random Forest***"
   ]
  },
  {
   "cell_type": "code",
   "execution_count": 25,
   "metadata": {},
   "outputs": [
    {
     "name": "stderr",
     "output_type": "stream",
     "text": [
      "/home/borjaregueral/anaconda3/lib/python3.6/site-packages/sklearn/model_selection/_search.py:761: DeprecationWarning: The grid_scores_ attribute was deprecated in version 0.18 in favor of the more elaborate cv_results_ attribute. The grid_scores_ attribute will not be available from 0.20\n",
      "  DeprecationWarning)\n"
     ]
    },
    {
     "data": {
      "text/plain": [
       "([mean: 0.86391, std: 0.00701, params: {'n_estimators': 300},\n",
       "  mean: 0.86315, std: 0.00787, params: {'n_estimators': 320},\n",
       "  mean: 0.86284, std: 0.00716, params: {'n_estimators': 340},\n",
       "  mean: 0.86417, std: 0.00734, params: {'n_estimators': 360},\n",
       "  mean: 0.86349, std: 0.00742, params: {'n_estimators': 380}],\n",
       " {'n_estimators': 360},\n",
       " 0.86417204831138184)"
      ]
     },
     "execution_count": 25,
     "metadata": {},
     "output_type": "execute_result"
    }
   ],
   "source": [
    "#For the Random Forest hyperparameters tuning,due to computational restrictions,\n",
    "#grid search will be applied to one paramter at a time on the train set\n",
    "#updating the value as we move along the hyperparameters tuning\n",
    "\n",
    "#Number of trees\n",
    "\n",
    "param_test1 = {'n_estimators':range(300,400,20)}\n",
    "gsearch1 = GridSearchCV(estimator = RandomForestClassifier(), \n",
    "param_grid = param_test1, scoring='roc_auc',n_jobs=-1,iid=False, cv=kf)\n",
    "gsearch1.fit(X_train_vectorized, y_train)\n",
    "\n",
    "gsearch1.grid_scores_, gsearch1.best_params_, gsearch1.best_score_"
   ]
  },
  {
   "cell_type": "code",
   "execution_count": 41,
   "metadata": {},
   "outputs": [
    {
     "name": "stderr",
     "output_type": "stream",
     "text": [
      "/home/borjaregueral/anaconda3/lib/python3.6/site-packages/sklearn/model_selection/_search.py:761: DeprecationWarning: The grid_scores_ attribute was deprecated in version 0.18 in favor of the more elaborate cv_results_ attribute. The grid_scores_ attribute will not be available from 0.20\n",
      "  DeprecationWarning)\n"
     ]
    },
    {
     "data": {
      "text/plain": [
       "([mean: 0.86376, std: 0.00659, params: {'max_depth': 61, 'min_samples_split': 80},\n",
       "  mean: 0.86345, std: 0.00682, params: {'max_depth': 61, 'min_samples_split': 100},\n",
       "  mean: 0.86376, std: 0.00707, params: {'max_depth': 61, 'min_samples_split': 120},\n",
       "  mean: 0.86442, std: 0.00665, params: {'max_depth': 63, 'min_samples_split': 80},\n",
       "  mean: 0.86414, std: 0.00645, params: {'max_depth': 63, 'min_samples_split': 100},\n",
       "  mean: 0.86419, std: 0.00699, params: {'max_depth': 63, 'min_samples_split': 120},\n",
       "  mean: 0.86485, std: 0.00728, params: {'max_depth': 65, 'min_samples_split': 80},\n",
       "  mean: 0.86465, std: 0.00625, params: {'max_depth': 65, 'min_samples_split': 100},\n",
       "  mean: 0.86395, std: 0.00729, params: {'max_depth': 65, 'min_samples_split': 120},\n",
       "  mean: 0.86346, std: 0.00706, params: {'max_depth': 67, 'min_samples_split': 80},\n",
       "  mean: 0.86335, std: 0.00671, params: {'max_depth': 67, 'min_samples_split': 100},\n",
       "  mean: 0.86352, std: 0.00703, params: {'max_depth': 67, 'min_samples_split': 120},\n",
       "  mean: 0.86423, std: 0.00675, params: {'max_depth': 69, 'min_samples_split': 80},\n",
       "  mean: 0.86455, std: 0.00710, params: {'max_depth': 69, 'min_samples_split': 100},\n",
       "  mean: 0.86444, std: 0.00736, params: {'max_depth': 69, 'min_samples_split': 120},\n",
       "  mean: 0.86403, std: 0.00690, params: {'max_depth': 71, 'min_samples_split': 80},\n",
       "  mean: 0.86329, std: 0.00753, params: {'max_depth': 71, 'min_samples_split': 100},\n",
       "  mean: 0.86358, std: 0.00720, params: {'max_depth': 71, 'min_samples_split': 120},\n",
       "  mean: 0.86344, std: 0.00654, params: {'max_depth': 73, 'min_samples_split': 80},\n",
       "  mean: 0.86314, std: 0.00651, params: {'max_depth': 73, 'min_samples_split': 100},\n",
       "  mean: 0.86337, std: 0.00703, params: {'max_depth': 73, 'min_samples_split': 120},\n",
       "  mean: 0.86410, std: 0.00693, params: {'max_depth': 75, 'min_samples_split': 80},\n",
       "  mean: 0.86388, std: 0.00681, params: {'max_depth': 75, 'min_samples_split': 100},\n",
       "  mean: 0.86461, std: 0.00747, params: {'max_depth': 75, 'min_samples_split': 120},\n",
       "  mean: 0.86407, std: 0.00717, params: {'max_depth': 77, 'min_samples_split': 80},\n",
       "  mean: 0.86399, std: 0.00632, params: {'max_depth': 77, 'min_samples_split': 100},\n",
       "  mean: 0.86398, std: 0.00675, params: {'max_depth': 77, 'min_samples_split': 120},\n",
       "  mean: 0.86373, std: 0.00704, params: {'max_depth': 79, 'min_samples_split': 80},\n",
       "  mean: 0.86456, std: 0.00765, params: {'max_depth': 79, 'min_samples_split': 100},\n",
       "  mean: 0.86269, std: 0.00710, params: {'max_depth': 79, 'min_samples_split': 120}],\n",
       " {'max_depth': 65, 'min_samples_split': 80},\n",
       " 0.86485199295623083)"
      ]
     },
     "execution_count": 41,
     "metadata": {},
     "output_type": "execute_result"
    }
   ],
   "source": [
    "#Max depth and min sample split\n",
    "#Tried values for max depth from 2-60 with values under 0.8641. To find the value that increases accuracy\n",
    "# the range between 60-80 is used\n",
    "# min sample split values from 50-500 being the value between 80-120 the ones that increases accuracy\n",
    "\n",
    "param_test2 = {'max_depth':range(61,80,2), 'min_samples_split': range(80,121,20)}\n",
    "gsearch2 = GridSearchCV(estimator =  RandomForestClassifier(n_estimators = 360), \n",
    "param_grid = param_test2, scoring='roc_auc',n_jobs=-1,iid=False, cv=kf)\n",
    "gsearch2.fit(X_train_vectorized, y_train)\n",
    "gsearch2.grid_scores_, gsearch2.best_params_, gsearch2.best_score_"
   ]
  },
  {
   "cell_type": "code",
   "execution_count": 46,
   "metadata": {},
   "outputs": [
    {
     "name": "stderr",
     "output_type": "stream",
     "text": [
      "/home/borjaregueral/anaconda3/lib/python3.6/site-packages/sklearn/model_selection/_search.py:761: DeprecationWarning: The grid_scores_ attribute was deprecated in version 0.18 in favor of the more elaborate cv_results_ attribute. The grid_scores_ attribute will not be available from 0.20\n",
      "  DeprecationWarning)\n"
     ]
    },
    {
     "data": {
      "text/plain": [
       "([mean: 0.86420, std: 0.00733, params: {'min_samples_leaf': 2},\n",
       "  mean: 0.86124, std: 0.00704, params: {'min_samples_leaf': 12},\n",
       "  mean: 0.85649, std: 0.00648, params: {'min_samples_leaf': 22},\n",
       "  mean: 0.85188, std: 0.00774, params: {'min_samples_leaf': 32}],\n",
       " {'min_samples_leaf': 2},\n",
       " 0.86419681801895831)"
      ]
     },
     "execution_count": 46,
     "metadata": {},
     "output_type": "execute_result"
    }
   ],
   "source": [
    "#Re run the min_sample split with the min_sample leaf\n",
    "\n",
    "param_test3 = {'min_samples_leaf':range(2,33,10)}\n",
    "gsearch3 = GridSearchCV(estimator = RandomForestClassifier(n_estimators = 360, max_depth = 65 , min_samples_split = 80 ), \n",
    "param_grid = param_test3, scoring='roc_auc',n_jobs=-1,iid=False, cv=kf)\n",
    "gsearch3.fit(X_train_vectorized, y_train)\n",
    "gsearch3.grid_scores_, gsearch3.best_params_, gsearch3.best_score_"
   ]
  },
  {
   "cell_type": "code",
   "execution_count": 45,
   "metadata": {},
   "outputs": [
    {
     "name": "stderr",
     "output_type": "stream",
     "text": [
      "/home/borjaregueral/anaconda3/lib/python3.6/site-packages/sklearn/model_selection/_search.py:761: DeprecationWarning: The grid_scores_ attribute was deprecated in version 0.18 in favor of the more elaborate cv_results_ attribute. The grid_scores_ attribute will not be available from 0.20\n",
      "  DeprecationWarning)\n"
     ]
    },
    {
     "data": {
      "text/plain": [
       "([mean: 0.86409, std: 0.00655, params: {'criterion': 'gini'},\n",
       "  mean: 0.86604, std: 0.00717, params: {'criterion': 'entropy'}],\n",
       " {'criterion': 'entropy'},\n",
       " 0.8660437108853406)"
      ]
     },
     "execution_count": 45,
     "metadata": {},
     "output_type": "execute_result"
    }
   ],
   "source": [
    "#Based on the results shown for the minimum sample split, we will lwave it in the default number\n",
    "#Re run the min_sample split with the min_sample leaf\n",
    "\n",
    "param_test4 = {'criterion':['gini', 'entropy']}\n",
    "gsearch4 = GridSearchCV(estimator = RandomForestClassifier(n_estimators = 360, max_depth = 65 , min_samples_split = 80), \n",
    "param_grid = param_test4, scoring='roc_auc',n_jobs=-1,iid=False, cv=kf)\n",
    "gsearch4.fit(X_train_vectorized, y_train)\n",
    "gsearch4.grid_scores_, gsearch4.best_params_, gsearch4.best_score_"
   ]
  },
  {
   "cell_type": "code",
   "execution_count": 47,
   "metadata": {
    "collapsed": true
   },
   "outputs": [],
   "source": [
    "#Fit in test dataset\n",
    "gsearch4.fit(X_test_vectorized, y_test)\n",
    "\n",
    "#Predict on test dataset\n",
    "predtestrf_y = gsearch4.predict(X_test_vectorized)"
   ]
  },
  {
   "cell_type": "code",
   "execution_count": 48,
   "metadata": {},
   "outputs": [
    {
     "name": "stdout",
     "output_type": "stream",
     "text": [
      "             precision    recall  f1-score   support\n",
      "\n",
      "          0       0.96      0.96      0.96      3778\n",
      "          1       0.96      0.96      0.96      3776\n",
      "\n",
      "avg / total       0.96      0.96      0.96      7554\n",
      "\n",
      "[[3613  165]\n",
      " [ 160 3616]]\n",
      "Random Forest accuracy:0.8555924187636264\n",
      "Percent Type I errors: 0.021842732327243843\n",
      "Percent Type II errors: 0.021180831347630394\n"
     ]
    }
   ],
   "source": [
    "#Test Scores\n",
    "target_names = ['0', '1']\n",
    "print(classification_report(y_test, predtestrf_y, target_names=target_names))\n",
    "cnf = confusion_matrix(y_test, predtestrf_y)\n",
    "print(cnf)\n",
    "\n",
    "table_test = pd.crosstab(y_test, predtestrf_y, margins=True)\n",
    "\n",
    "test_tI_errors = table_test.loc[0.0,1.0]/table_test.loc['All','All']\n",
    "test_tII_errors = table_test.loc[1.0,0.0]/table_test.loc['All','All']\n",
    "\n",
    "print((\n",
    "    'Random Forest accuracy:{}\\n'\n",
    "    'Percent Type I errors: {}\\n'\n",
    "    'Percent Type II errors: {}'\n",
    ").format(cross_val_score(gsearch4,X_test_vectorized,y_test,cv=kf).mean(),test_tI_errors, test_tII_errors))"
   ]
  },
  {
   "cell_type": "markdown",
   "metadata": {},
   "source": [
    "***Decision Tree***"
   ]
  },
  {
   "cell_type": "code",
   "execution_count": 45,
   "metadata": {},
   "outputs": [
    {
     "name": "stdout",
     "output_type": "stream",
     "text": [
      "Best Hyper Parameters: {'max_features': 'auto'}\n"
     ]
    }
   ],
   "source": [
    "# Train model\n",
    "OTM = DecisionTreeClassifier()\n",
    "\n",
    "#Create range of values to fit parameters\n",
    "\n",
    "\n",
    "k2 = ['auto', 'sqrt', 'log2']\n",
    "\n",
    "\n",
    "parameters = {'max_features': k2\n",
    "         }\n",
    "\n",
    "#Fit parameters\n",
    "\n",
    "OTM1 = GridSearchCV(OTM, param_grid=parameters, cv=kf)\n",
    "\n",
    "#Fit the tunned model\n",
    "OTM1.fit(X_train_vectorized, y_train)\n",
    "\n",
    "#The best hyper parameters set\n",
    "print(\"Best Hyper Parameters:\", OTM1.best_params_)"
   ]
  },
  {
   "cell_type": "code",
   "execution_count": 46,
   "metadata": {
    "collapsed": true
   },
   "outputs": [],
   "source": [
    "#Fit on test dataset\n",
    "OTM1.fit(X_test_vectorized, y_test)\n",
    "\n",
    "#Predict parameters on test dataset\n",
    "\n",
    "predtestrf_y = OTM1.predict(X_test_vectorized)"
   ]
  },
  {
   "cell_type": "code",
   "execution_count": 47,
   "metadata": {},
   "outputs": [
    {
     "name": "stdout",
     "output_type": "stream",
     "text": [
      "             precision    recall  f1-score   support\n",
      "\n",
      "          0       1.00      1.00      1.00      3778\n",
      "          1       1.00      1.00      1.00      3776\n",
      "\n",
      "avg / total       1.00      1.00      1.00      7554\n",
      "\n",
      "[[3778    0]\n",
      " [   0 3776]]\n",
      "Decision Tree accuracy:0.6329100065304762\n",
      "Percent Type I errors: 0.0\n",
      "Percent Type II errors: 0.0\n"
     ]
    }
   ],
   "source": [
    "#Test Scores\n",
    "target_names = ['0', '1']\n",
    "print(classification_report(y_test, predtestrf_y, target_names=target_names))\n",
    "cnf = confusion_matrix(y_test, predtestrf_y)\n",
    "print(cnf)\n",
    "\n",
    "table_test = pd.crosstab(y_test, predtestrf_y, margins=True)\n",
    "\n",
    "test_tI_errors = table_test.loc[0.0,1.0]/table_test.loc['All','All']\n",
    "test_tII_errors = table_test.loc[1.0,0.0]/table_test.loc['All','All']\n",
    "\n",
    "print((\n",
    "    'Decision Tree accuracy:{}\\n'\n",
    "    'Percent Type I errors: {}\\n'\n",
    "    'Percent Type II errors: {}'\n",
    ").format(cross_val_score(OTM1,X_test_vectorized,y_test,cv=kf).mean(),test_tI_errors, test_tII_errors))"
   ]
  },
  {
   "cell_type": "markdown",
   "metadata": {},
   "source": [
    "***SVC***"
   ]
  },
  {
   "cell_type": "code",
   "execution_count": 48,
   "metadata": {},
   "outputs": [
    {
     "name": "stdout",
     "output_type": "stream",
     "text": [
      "Best Hyper Parameters: {'C': 1, 'kernel': 'linear'}\n"
     ]
    }
   ],
   "source": [
    "# Train model\n",
    "svc = SVC()\n",
    "\n",
    "#Create range of values to fit parameters\n",
    "ks1 = np.arange(20)+1\n",
    "ks4 =  ['linear','rbf']\n",
    "\n",
    "\n",
    "parameters = {'C': ks1, \n",
    "          'kernel': ks4}\n",
    "\n",
    "#Fit parameters\n",
    "\n",
    "svc1 = GridSearchCV(svc, param_grid=parameters, cv=kf)\n",
    "\n",
    "#Fit the tunned model\n",
    "svc1.fit(X_train_vectorized, y_train)\n",
    "\n",
    "#The best hyper parameters set\n",
    "print(\"Best Hyper Parameters:\", svc1.best_params_)"
   ]
  },
  {
   "cell_type": "code",
   "execution_count": 49,
   "metadata": {
    "collapsed": true
   },
   "outputs": [],
   "source": [
    "#Fit tunned model on Test set\n",
    "svc1.fit(X_test_vectorized, y_test)\n",
    "\n",
    "# Predict on training set\n",
    "predtestsvc_y = svc1.predict(X_test_vectorized)"
   ]
  },
  {
   "cell_type": "code",
   "execution_count": 50,
   "metadata": {},
   "outputs": [
    {
     "name": "stdout",
     "output_type": "stream",
     "text": [
      "             precision    recall  f1-score   support\n",
      "\n",
      "        0.0       0.93      0.93      0.93      3778\n",
      "        1.0       0.93      0.93      0.93      3776\n",
      "\n",
      "avg / total       0.93      0.93      0.93      7554\n",
      "\n",
      "[[3505  273]\n",
      " [ 258 3518]]\n",
      "SVC accuracy:0.7724370948584551\n",
      "\n"
     ]
    }
   ],
   "source": [
    "#Test Scores\n",
    "target_names = ['0.0', '1.0']\n",
    "print(classification_report(y_test, predtestsvc_y, target_names=target_names))\n",
    "cnf = confusion_matrix(y_test, predtestsvc_y)\n",
    "print(cnf)\n",
    "\n",
    "table_test = pd.crosstab(y_test, predtestsvc_y, margins=True)\n",
    "\n",
    "\n",
    "print((\n",
    "    'SVC accuracy:{}\\n'\n",
    ").format(cross_val_score(svc1,X_test_vectorized,y_test,cv=kf).mean(),test_tI_errors, test_tII_errors))"
   ]
  },
  {
   "cell_type": "markdown",
   "metadata": {},
   "source": [
    "***Gradient Boosting***"
   ]
  },
  {
   "cell_type": "code",
   "execution_count": 42,
   "metadata": {},
   "outputs": [
    {
     "name": "stderr",
     "output_type": "stream",
     "text": [
      "D:\\Users\\Borja.gonzalez\\AppData\\Local\\Continuum\\anaconda3\\lib\\site-packages\\sklearn\\model_selection\\_search.py:761: DeprecationWarning: The grid_scores_ attribute was deprecated in version 0.18 in favor of the more elaborate cv_results_ attribute. The grid_scores_ attribute will not be available from 0.20\n",
      "  DeprecationWarning)\n"
     ]
    },
    {
     "data": {
      "text/plain": [
       "([mean: 0.80878, std: 0.00767, params: {'n_estimators': 20},\n",
       "  mean: 0.82311, std: 0.00697, params: {'n_estimators': 30},\n",
       "  mean: 0.83342, std: 0.00619, params: {'n_estimators': 40},\n",
       "  mean: 0.84029, std: 0.00678, params: {'n_estimators': 50},\n",
       "  mean: 0.84511, std: 0.00659, params: {'n_estimators': 60},\n",
       "  mean: 0.84968, std: 0.00764, params: {'n_estimators': 70},\n",
       "  mean: 0.85292, std: 0.00728, params: {'n_estimators': 80}],\n",
       " {'n_estimators': 80},\n",
       " 0.85291738509922832)"
      ]
     },
     "execution_count": 42,
     "metadata": {},
     "output_type": "execute_result"
    }
   ],
   "source": [
    "#For the Gradient Boosting hyperparameters tuning,due to computational restrictions,\n",
    "#grid search will be applied to one paramter at a time on the train set\n",
    "#updating the value as we move along the hyperparameters tuning\n",
    "\n",
    "#Number of trees\n",
    "\n",
    "param_test1 = {'n_estimators':range(20,90,10)}\n",
    "gsearch1 = GridSearchCV(estimator = GradientBoostingClassifier(learning_rate=0.1, min_samples_split=500,min_samples_leaf=50,max_depth=8,max_features='sqrt',subsample=0.8,random_state=10), \n",
    "param_grid = param_test1, scoring='roc_auc',n_jobs=4,iid=False, cv=kf)\n",
    "gsearch1.fit(X_train_vectorized, y_train)\n",
    "\n",
    "gsearch1.grid_scores_, gsearch1.best_params_, gsearch1.best_score_"
   ]
  },
  {
   "cell_type": "code",
   "execution_count": 44,
   "metadata": {},
   "outputs": [
    {
     "name": "stderr",
     "output_type": "stream",
     "text": [
      "D:\\Users\\Borja.gonzalez\\AppData\\Local\\Continuum\\anaconda3\\lib\\site-packages\\sklearn\\model_selection\\_search.py:761: DeprecationWarning: The grid_scores_ attribute was deprecated in version 0.18 in favor of the more elaborate cv_results_ attribute. The grid_scores_ attribute will not be available from 0.20\n",
      "  DeprecationWarning)\n"
     ]
    },
    {
     "data": {
      "text/plain": [
       "([mean: 0.83937, std: 0.00461, params: {'min_samples_split': 200, 'max_depth': 5},\n",
       "  mean: 0.84016, std: 0.00663, params: {'min_samples_split': 400, 'max_depth': 5},\n",
       "  mean: 0.83995, std: 0.00701, params: {'min_samples_split': 600, 'max_depth': 5},\n",
       "  mean: 0.84096, std: 0.00706, params: {'min_samples_split': 800, 'max_depth': 5},\n",
       "  mean: 0.84100, std: 0.00685, params: {'min_samples_split': 1000, 'max_depth': 5},\n",
       "  mean: 0.84833, std: 0.00531, params: {'min_samples_split': 200, 'max_depth': 7},\n",
       "  mean: 0.85060, std: 0.00684, params: {'min_samples_split': 400, 'max_depth': 7},\n",
       "  mean: 0.85056, std: 0.00752, params: {'min_samples_split': 600, 'max_depth': 7},\n",
       "  mean: 0.85023, std: 0.00731, params: {'min_samples_split': 800, 'max_depth': 7},\n",
       "  mean: 0.84960, std: 0.00763, params: {'min_samples_split': 1000, 'max_depth': 7},\n",
       "  mean: 0.85455, std: 0.00780, params: {'min_samples_split': 200, 'max_depth': 9},\n",
       "  mean: 0.85437, std: 0.00777, params: {'min_samples_split': 400, 'max_depth': 9},\n",
       "  mean: 0.85509, std: 0.00643, params: {'min_samples_split': 600, 'max_depth': 9},\n",
       "  mean: 0.85504, std: 0.00679, params: {'min_samples_split': 800, 'max_depth': 9},\n",
       "  mean: 0.85535, std: 0.00688, params: {'min_samples_split': 1000, 'max_depth': 9},\n",
       "  mean: 0.85949, std: 0.00584, params: {'min_samples_split': 200, 'max_depth': 11},\n",
       "  mean: 0.85920, std: 0.00534, params: {'min_samples_split': 400, 'max_depth': 11},\n",
       "  mean: 0.86057, std: 0.00700, params: {'min_samples_split': 600, 'max_depth': 11},\n",
       "  mean: 0.86026, std: 0.00740, params: {'min_samples_split': 800, 'max_depth': 11},\n",
       "  mean: 0.85975, std: 0.00743, params: {'min_samples_split': 1000, 'max_depth': 11},\n",
       "  mean: 0.86150, std: 0.00955, params: {'min_samples_split': 200, 'max_depth': 13},\n",
       "  mean: 0.86202, std: 0.00714, params: {'min_samples_split': 400, 'max_depth': 13},\n",
       "  mean: 0.86259, std: 0.00879, params: {'min_samples_split': 600, 'max_depth': 13},\n",
       "  mean: 0.86326, std: 0.00772, params: {'min_samples_split': 800, 'max_depth': 13},\n",
       "  mean: 0.86315, std: 0.00806, params: {'min_samples_split': 1000, 'max_depth': 13},\n",
       "  mean: 0.86425, std: 0.00702, params: {'min_samples_split': 200, 'max_depth': 15},\n",
       "  mean: 0.86433, std: 0.00792, params: {'min_samples_split': 400, 'max_depth': 15},\n",
       "  mean: 0.86482, std: 0.00760, params: {'min_samples_split': 600, 'max_depth': 15},\n",
       "  mean: 0.86464, std: 0.00753, params: {'min_samples_split': 800, 'max_depth': 15},\n",
       "  mean: 0.86411, std: 0.00764, params: {'min_samples_split': 1000, 'max_depth': 15},\n",
       "  mean: 0.86398, std: 0.00732, params: {'min_samples_split': 200, 'max_depth': 17},\n",
       "  mean: 0.86521, std: 0.00788, params: {'min_samples_split': 400, 'max_depth': 17},\n",
       "  mean: 0.86633, std: 0.00740, params: {'min_samples_split': 600, 'max_depth': 17},\n",
       "  mean: 0.86566, std: 0.00733, params: {'min_samples_split': 800, 'max_depth': 17},\n",
       "  mean: 0.86570, std: 0.00815, params: {'min_samples_split': 1000, 'max_depth': 17},\n",
       "  mean: 0.86493, std: 0.00716, params: {'min_samples_split': 200, 'max_depth': 19},\n",
       "  mean: 0.86619, std: 0.00929, params: {'min_samples_split': 400, 'max_depth': 19},\n",
       "  mean: 0.86735, std: 0.00845, params: {'min_samples_split': 600, 'max_depth': 19},\n",
       "  mean: 0.86614, std: 0.00993, params: {'min_samples_split': 800, 'max_depth': 19},\n",
       "  mean: 0.86669, std: 0.00809, params: {'min_samples_split': 1000, 'max_depth': 19}],\n",
       " {'max_depth': 19, 'min_samples_split': 600},\n",
       " 0.86734849040457307)"
      ]
     },
     "execution_count": 44,
     "metadata": {},
     "output_type": "execute_result"
    }
   ],
   "source": [
    "#Max depth and min sample split\n",
    "\n",
    "param_test2 = {'max_depth':range(5,20,2), 'min_samples_split':range(200,1001,200)}\n",
    "gsearch2 = GridSearchCV(estimator = GradientBoostingClassifier(learning_rate=0.1, n_estimators=80, max_features='sqrt', subsample=0.8, random_state=10), \n",
    "param_grid = param_test2, scoring='roc_auc',n_jobs=4,iid=False, cv=kf)\n",
    "gsearch2.fit(X_train_vectorized, y_train)\n",
    "gsearch2.grid_scores_, gsearch2.best_params_, gsearch2.best_score_"
   ]
  },
  {
   "cell_type": "code",
   "execution_count": 46,
   "metadata": {},
   "outputs": [
    {
     "name": "stderr",
     "output_type": "stream",
     "text": [
      "D:\\Users\\Borja.gonzalez\\AppData\\Local\\Continuum\\anaconda3\\lib\\site-packages\\sklearn\\model_selection\\_search.py:761: DeprecationWarning: The grid_scores_ attribute was deprecated in version 0.18 in favor of the more elaborate cv_results_ attribute. The grid_scores_ attribute will not be available from 0.20\n",
      "  DeprecationWarning)\n"
     ]
    },
    {
     "data": {
      "text/plain": [
       "([mean: 0.86820, std: 0.00800, params: {'min_samples_leaf': 30, 'min_samples_split': 200},\n",
       "  mean: 0.86801, std: 0.00826, params: {'min_samples_leaf': 30, 'min_samples_split': 400},\n",
       "  mean: 0.86783, std: 0.00753, params: {'min_samples_leaf': 30, 'min_samples_split': 600},\n",
       "  mean: 0.86806, std: 0.00847, params: {'min_samples_leaf': 30, 'min_samples_split': 800},\n",
       "  mean: 0.86849, std: 0.00782, params: {'min_samples_leaf': 30, 'min_samples_split': 1000},\n",
       "  mean: 0.86738, std: 0.00886, params: {'min_samples_leaf': 40, 'min_samples_split': 200},\n",
       "  mean: 0.86735, std: 0.00880, params: {'min_samples_leaf': 40, 'min_samples_split': 400},\n",
       "  mean: 0.86721, std: 0.00915, params: {'min_samples_leaf': 40, 'min_samples_split': 600},\n",
       "  mean: 0.86865, std: 0.00908, params: {'min_samples_leaf': 40, 'min_samples_split': 800},\n",
       "  mean: 0.86869, std: 0.00832, params: {'min_samples_leaf': 40, 'min_samples_split': 1000},\n",
       "  mean: 0.86677, std: 0.00887, params: {'min_samples_leaf': 50, 'min_samples_split': 200},\n",
       "  mean: 0.86669, std: 0.00907, params: {'min_samples_leaf': 50, 'min_samples_split': 400},\n",
       "  mean: 0.86659, std: 0.00791, params: {'min_samples_leaf': 50, 'min_samples_split': 600},\n",
       "  mean: 0.86727, std: 0.00763, params: {'min_samples_leaf': 50, 'min_samples_split': 800},\n",
       "  mean: 0.86718, std: 0.00766, params: {'min_samples_leaf': 50, 'min_samples_split': 1000},\n",
       "  mean: 0.86577, std: 0.00748, params: {'min_samples_leaf': 60, 'min_samples_split': 200},\n",
       "  mean: 0.86595, std: 0.00901, params: {'min_samples_leaf': 60, 'min_samples_split': 400},\n",
       "  mean: 0.86572, std: 0.00821, params: {'min_samples_leaf': 60, 'min_samples_split': 600},\n",
       "  mean: 0.86594, std: 0.00813, params: {'min_samples_leaf': 60, 'min_samples_split': 800},\n",
       "  mean: 0.86624, std: 0.00863, params: {'min_samples_leaf': 60, 'min_samples_split': 1000},\n",
       "  mean: 0.86534, std: 0.00838, params: {'min_samples_leaf': 70, 'min_samples_split': 200},\n",
       "  mean: 0.86509, std: 0.00839, params: {'min_samples_leaf': 70, 'min_samples_split': 400},\n",
       "  mean: 0.86408, std: 0.00842, params: {'min_samples_leaf': 70, 'min_samples_split': 600},\n",
       "  mean: 0.86564, std: 0.00778, params: {'min_samples_leaf': 70, 'min_samples_split': 800},\n",
       "  mean: 0.86477, std: 0.00791, params: {'min_samples_leaf': 70, 'min_samples_split': 1000}],\n",
       " {'min_samples_leaf': 40, 'min_samples_split': 1000},\n",
       " 0.86868667888309969)"
      ]
     },
     "execution_count": 46,
     "metadata": {},
     "output_type": "execute_result"
    }
   ],
   "source": [
    "#Re run the min_sample split with the min_sample leaf\n",
    "\n",
    "param_test3 = {'min_samples_split':range(200,1001,200),'min_samples_leaf':range(30,71,10)}\n",
    "gsearch3 = GridSearchCV(estimator = GradientBoostingClassifier(learning_rate=0.1, n_estimators=80,max_depth=19,min_samples_split=600,max_features='sqrt', subsample=0.8, random_state=10), \n",
    "param_grid = param_test3, scoring='roc_auc',n_jobs=4,iid=False, cv=kf)\n",
    "gsearch3.fit(X_train_vectorized, y_train)\n",
    "gsearch3.grid_scores_, gsearch3.best_params_, gsearch3.best_score_"
   ]
  },
  {
   "cell_type": "code",
   "execution_count": 47,
   "metadata": {},
   "outputs": [
    {
     "name": "stderr",
     "output_type": "stream",
     "text": [
      "D:\\Users\\Borja.gonzalez\\AppData\\Local\\Continuum\\anaconda3\\lib\\site-packages\\sklearn\\model_selection\\_search.py:761: DeprecationWarning: The grid_scores_ attribute was deprecated in version 0.18 in favor of the more elaborate cv_results_ attribute. The grid_scores_ attribute will not be available from 0.20\n",
      "  DeprecationWarning)\n"
     ]
    },
    {
     "data": {
      "text/plain": [
       "([mean: 0.86701, std: 0.00804, params: {'max_features': 60},\n",
       "  mean: 0.86901, std: 0.00760, params: {'max_features': 62},\n",
       "  mean: 0.86734, std: 0.00602, params: {'max_features': 64},\n",
       "  mean: 0.86519, std: 0.00793, params: {'max_features': 66},\n",
       "  mean: 0.86706, std: 0.00683, params: {'max_features': 68},\n",
       "  mean: 0.86695, std: 0.00803, params: {'max_features': 70},\n",
       "  mean: 0.86729, std: 0.00684, params: {'max_features': 72}],\n",
       " {'max_features': 62},\n",
       " 0.86900925427507347)"
      ]
     },
     "execution_count": 47,
     "metadata": {},
     "output_type": "execute_result"
    }
   ],
   "source": [
    "#Max features considering the results obtained\n",
    "#for the combination of the 'min_samples_split', 'min_samples_leaf' and 'max_depth'\n",
    "#The value of 600 has been maintained as it is the one that gives a better accuracy for every value of 'max_depth'\n",
    "\n",
    "param_test4 = {'max_features':range(60,74,2)}\n",
    "gsearch4 = GridSearchCV(estimator = GradientBoostingClassifier(learning_rate=0.1, n_estimators=80,max_depth=19,min_samples_split=600,min_samples_leaf=40,max_features='sqrt', subsample=0.8, random_state=10),\n",
    "param_grid = param_test4, scoring='roc_auc',n_jobs=4,iid=False, cv=kf)\n",
    "gsearch4.fit(X_train_vectorized, y_train)\n",
    "gsearch4.grid_scores_, gsearch4.best_params_, gsearch4.best_score_"
   ]
  },
  {
   "cell_type": "code",
   "execution_count": 48,
   "metadata": {},
   "outputs": [
    {
     "name": "stderr",
     "output_type": "stream",
     "text": [
      "D:\\Users\\Borja.gonzalez\\AppData\\Local\\Continuum\\anaconda3\\lib\\site-packages\\sklearn\\model_selection\\_search.py:761: DeprecationWarning: The grid_scores_ attribute was deprecated in version 0.18 in favor of the more elaborate cv_results_ attribute. The grid_scores_ attribute will not be available from 0.20\n",
      "  DeprecationWarning)\n"
     ]
    },
    {
     "data": {
      "text/plain": [
       "([mean: 0.86620, std: 0.00542, params: {'subsample': 0.6},\n",
       "  mean: 0.86623, std: 0.00720, params: {'subsample': 0.7},\n",
       "  mean: 0.86797, std: 0.00603, params: {'subsample': 0.75},\n",
       "  mean: 0.86909, std: 0.00640, params: {'subsample': 0.8},\n",
       "  mean: 0.86897, std: 0.00591, params: {'subsample': 0.85},\n",
       "  mean: 0.86923, std: 0.00523, params: {'subsample': 0.9},\n",
       "  mean: 0.86812, std: 0.00616, params: {'subsample': 0.95}],\n",
       " {'subsample': 0.9},\n",
       " 0.86922953360660782)"
      ]
     },
     "execution_count": 48,
     "metadata": {},
     "output_type": "execute_result"
    }
   ],
   "source": [
    "#Tuning the subsample \n",
    "param_test5 = {'subsample':[0.6,0.7,0.75,0.8,0.85,0.9,0.95]}\n",
    "gsearch5 = GridSearchCV(estimator = GradientBoostingClassifier(learning_rate=0.1,\n",
    "                                                               n_estimators=80,max_depth=19,min_samples_split=600,\n",
    "                                                               min_samples_leaf=40,max_features=62,\n",
    "                                                               subsample=0.8, random_state=10),\n",
    "param_grid = param_test5, scoring='roc_auc',n_jobs=4,iid=False, cv=kf)\n",
    "gsearch5.fit(X_train_vectorized, y_train)\n",
    "gsearch5.grid_scores_, gsearch5.best_params_, gsearch5.best_score_"
   ]
  },
  {
   "cell_type": "code",
   "execution_count": 49,
   "metadata": {},
   "outputs": [
    {
     "name": "stderr",
     "output_type": "stream",
     "text": [
      "D:\\Users\\Borja.gonzalez\\AppData\\Local\\Continuum\\anaconda3\\lib\\site-packages\\sklearn\\model_selection\\_search.py:761: DeprecationWarning: The grid_scores_ attribute was deprecated in version 0.18 in favor of the more elaborate cv_results_ attribute. The grid_scores_ attribute will not be available from 0.20\n",
      "  DeprecationWarning)\n"
     ]
    },
    {
     "data": {
      "text/plain": [
       "([mean: 0.87311, std: 0.00652, params: {'subsample': 0.8},\n",
       "  mean: 0.87419, std: 0.00581, params: {'subsample': 0.85},\n",
       "  mean: 0.87360, std: 0.00622, params: {'subsample': 0.9},\n",
       "  mean: 0.87388, std: 0.00629, params: {'subsample': 0.95}],\n",
       " {'subsample': 0.85},\n",
       " 0.87418850927374303)"
      ]
     },
     "execution_count": 49,
     "metadata": {},
     "output_type": "execute_result"
    }
   ],
   "source": [
    "#Instead of having a 10% learning rate, we halve the learning rate and double the number of trees to see if we\n",
    "#can improve the accuracy\n",
    "\n",
    "param_test5 = {'subsample':[0.8,0.85,0.9,0.95]}\n",
    "gsearch5 = GridSearchCV(estimator = GradientBoostingClassifier(learning_rate=0.05, n_estimators=160,\n",
    "                                                               max_depth=19,min_samples_split=600,\n",
    "                                                               min_samples_leaf=40,max_features=62,\n",
    "                                                               subsample=0.9, random_state=10),\n",
    "param_grid = param_test5, scoring='roc_auc',n_jobs=4,iid=False, cv=kf)\n",
    "gsearch5.fit(X_train_vectorized, y_train)\n",
    "gsearch5.grid_scores_, gsearch5.best_params_, gsearch5.best_score_"
   ]
  },
  {
   "cell_type": "code",
   "execution_count": 50,
   "metadata": {
    "collapsed": true
   },
   "outputs": [],
   "source": [
    "#Fit on the test set\n",
    "gsearch5.fit(X_test_vectorized, y_test)\n",
    "\n",
    "# Predict on test set\n",
    "predtestrf_y = gsearch5.predict(X_test_vectorized)"
   ]
  },
  {
   "cell_type": "code",
   "execution_count": 51,
   "metadata": {},
   "outputs": [
    {
     "name": "stdout",
     "output_type": "stream",
     "text": [
      "             precision    recall  f1-score   support\n",
      "\n",
      "          0       0.87      0.84      0.85      3778\n",
      "          1       0.85      0.87      0.86      3776\n",
      "\n",
      "avg / total       0.86      0.86      0.86      7554\n",
      "\n",
      "[[3179  599]\n",
      " [ 496 3280]]\n",
      "Gradient Boosting accuracy:0.859686734099706\n",
      "Percent Type I errors: 0.07929573735769128\n",
      "Percent Type II errors: 0.06566057717765422\n"
     ]
    }
   ],
   "source": [
    "#Test Scores\n",
    "target_names = ['0', '1']\n",
    "print(classification_report(y_test, predtestrf_y, target_names=target_names))\n",
    "cnf = confusion_matrix(y_test, predtestrf_y)\n",
    "print(cnf)\n",
    "\n",
    "table_test = pd.crosstab(y_test, predtestrf_y, margins=True)\n",
    "\n",
    "test_tI_errors = table_test.loc[0.0,1.0]/table_test.loc['All','All']\n",
    "test_tII_errors = table_test.loc[1.0,0.0]/table_test.loc['All','All']\n",
    "\n",
    "print((\n",
    "    'Gradient Boosting accuracy:{}\\n'\n",
    "    'Percent Type I errors: {}\\n'\n",
    "    'Percent Type II errors: {}'\n",
    ").format(cross_val_score(gsearch5,X_test_vectorized,y_test,cv=kf).mean(),test_tI_errors, test_tII_errors))"
   ]
  },
  {
   "cell_type": "markdown",
   "metadata": {},
   "source": [
    "In the amazon reviews analysis the digital music dataset has been used. To create both categories, ratings 1-3 have been included as negative and 4-5 as positive. This has been done because in the raw data, ratings are skewed to the positive side being the average around 4.0. Data once categorized has been downsampled to reduce the biased towards the positive reviews of the models that have been run.\n",
    "\n",
    "To build up the features the bag of words and the TFIDF have been used. In both cases, stop words in English have been extracted so that the number of features is reduced. From the bag of words, 59374 features were built. Additionally, only those that appear in more than 20 reviews have been used. In this case, the Naïve-Bayes and the logistic Regression models wwere used. The accuracy in each case was of 0.6943 and 0.7495.\n",
    "\n",
    "The TFIDF was applied considering n-grams (1,3) and the number of features was reduced to 11926. The initial models (Naïve-Bayes and Logistic Regression) were tested on the features extracted with the TFIDF to see if there was a significant improvement in the accuracy. The accuracies in both cases were Niave –Bayes: 0.7201 and Logistic Regression: 0.7814 that were considered as the starting points for the use of the TFIDF features.\n",
    "\n",
    "In all cases, models were tuned in the training sets using gridsearch and the accuracy results obtained are (excluding Logistic Regression and Naïve Bayes classifiers already mentioned):\n",
    "\n",
    "Decision Tree: 0.6329\n",
    "KNN: 0.6486\n",
    "Random Forest: 0.8556\n",
    "SVC: 0.7724\n",
    "Gradient Boosting: 0.8597"
   ]
  }
 ],
 "metadata": {
  "kernelspec": {
   "display_name": "Python 3",
   "language": "python",
   "name": "python3"
  },
  "language_info": {
   "codemirror_mode": {
    "name": "ipython",
    "version": 3
   },
   "file_extension": ".py",
   "mimetype": "text/x-python",
   "name": "python",
   "nbconvert_exporter": "python",
   "pygments_lexer": "ipython3",
   "version": "3.6.3"
  }
 },
 "nbformat": 4,
 "nbformat_minor": 2
}
