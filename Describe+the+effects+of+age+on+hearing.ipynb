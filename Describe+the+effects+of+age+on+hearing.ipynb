{
 "cells": [
  {
   "cell_type": "markdown",
   "metadata": {},
   "source": [
    "***Write out a description of the effects that age and gender have on the odds of developing hearing problems in terms a layperson could understand. Include estimates for the odds of hearing problems in a 95 year old woman and a 50 year old man.***"
   ]
  },
  {
   "cell_type": "markdown",
   "metadata": {},
   "source": [
    "logit(HasHearingProblem)=−1+.02∗age+1∗male"
   ]
  },
  {
   "cell_type": "code",
   "execution_count": 16,
   "metadata": {
    "collapsed": true
   },
   "outputs": [],
   "source": [
    "import math"
   ]
  },
  {
   "cell_type": "code",
   "execution_count": 21,
   "metadata": {},
   "outputs": [
    {
     "name": "stdout",
     "output_type": "stream",
     "text": [
      "HashearingProblem: 2.45960311115695\n",
      "HashearingProblem: 0.710949502625004\n"
     ]
    }
   ],
   "source": [
    "#odds of hearing problems in a 95 year old woman\n",
    "a = -1+ 0.02*95 + 1*0\n",
    "c = math.exp( a )\n",
    "d = math.exp( a )/(1+ c)\n",
    "print('Probability of having hearing problems over not having them:', c)\n",
    "print('HashearingProblem:', d)"
   ]
  },
  {
   "cell_type": "markdown",
   "metadata": {},
   "source": [
    "The probability of a 95 year old man of having hearing problems is nearly 2.5 times more than the probability of not developing them being the probability of 71%"
   ]
  },
  {
   "cell_type": "code",
   "execution_count": 22,
   "metadata": {},
   "outputs": [
    {
     "name": "stdout",
     "output_type": "stream",
     "text": [
      "Probability of having hearing problems over not having them: 2.45960311115695\n",
      "HashearingProblem: 0.710949502625004\n"
     ]
    }
   ],
   "source": [
    "#odds of hearing problems in a 50 year old man\n",
    "b = -1+.02*50+1*1\n",
    "c = math.exp( a )\n",
    "d = math.exp( a )/(1+ c)\n",
    "print('Probability of having hearing problems over not having them:', c)\n",
    "print('HashearingProblem:', d)"
   ]
  },
  {
   "cell_type": "markdown",
   "metadata": {},
   "source": [
    "The probability of a 50 year old woman of having hearing problems is nearly 2.5 times more than the probability of not developing them being the probability of 71%."
   ]
  },
  {
   "cell_type": "code",
   "execution_count": null,
   "metadata": {
    "collapsed": true
   },
   "outputs": [],
   "source": []
  }
 ],
 "metadata": {
  "kernelspec": {
   "display_name": "Python 3",
   "language": "python",
   "name": "python3"
  },
  "language_info": {
   "codemirror_mode": {
    "name": "ipython",
    "version": 3
   },
   "file_extension": ".py",
   "mimetype": "text/x-python",
   "name": "python",
   "nbconvert_exporter": "python",
   "pygments_lexer": "ipython3",
   "version": "3.5.4"
  }
 },
 "nbformat": 4,
 "nbformat_minor": 2
}
