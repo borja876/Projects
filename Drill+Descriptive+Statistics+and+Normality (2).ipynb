{
 "cells": [
  {
   "cell_type": "code",
   "execution_count": 40,
   "metadata": {
    "collapsed": true
   },
   "outputs": [],
   "source": [
    "import numpy as np\n",
    "import pandas as pd\n",
    "import matplotlib.pyplot as plt\n",
    "%matplotlib inline"
   ]
  },
  {
   "cell_type": "markdown",
   "metadata": {},
   "source": [
    "Chisquare distribution"
   ]
  },
  {
   "cell_type": "code",
   "execution_count": 41,
   "metadata": {
    "collapsed": true
   },
   "outputs": [],
   "source": [
    "#Generate a random variable with 100 datapoints for a Chisquare distribution\n",
    "chisquare = np.random.chisquare(2, 100)"
   ]
  },
  {
   "cell_type": "code",
   "execution_count": 42,
   "metadata": {},
   "outputs": [
    {
     "data": {
      "image/png": "[encoded data removed]",
      "text/plain": [
       "<matplotlib.figure.Figure at 0x83404b0>"
      ]
     },
     "metadata": {},
     "output_type": "display_data"
    }
   ],
   "source": [
    "#plot Chisquare distribution using a histogram\n",
    "plt.hist(chisquare)\n",
    "plt.show()"
   ]
  },
  {
   "cell_type": "code",
   "execution_count": 43,
   "metadata": {},
   "outputs": [
    {
     "data": {
      "image/png": "[encoded data removed]",
      "text/plain": [
       "<matplotlib.figure.Figure at 0x82588b0>"
      ]
     },
     "metadata": {},
     "output_type": "display_data"
    }
   ],
   "source": [
    "#Compute mean and standard deviation & plot as vertical lines on the histogram\n",
    "plt.hist(chisquare)\n",
    "plt.axvline(chisquare.mean(), color='b', linestyle='solid', linewidth=2)\n",
    "plt.axvline(chisquare.mean() + chisquare.std(), color='b', linestyle='dashed', linewidth=2)\n",
    "plt.axvline(chisquare.mean()-chisquare.std(), color='b', linestyle='dashed', linewidth=2)\n",
    "plt.show()"
   ]
  },
  {
   "cell_type": "code",
   "execution_count": 44,
   "metadata": {},
   "outputs": [
    {
     "name": "stdout",
     "output_type": "stream",
     "text": [
      "chisquare\n",
      "2.1206786374\n",
      "1.48676337177\n",
      "4.49504840255\n",
      "2.13083385834\n",
      "0.213083385834\n"
     ]
    },
    {
     "data": {
      "image/png": "[encoded data removed]",
      "text/plain": [
       "<matplotlib.figure.Figure at 0x706a650>"
      ]
     },
     "metadata": {},
     "output_type": "display_data"
    },
    {
     "name": "stdout",
     "output_type": "stream",
     "text": [
      "chisquare    2.207264\n",
      "dtype: float64\n",
      "chisquare    2.237704\n",
      "dtype: float64\n"
     ]
    }
   ],
   "source": [
    "#Evaluate descriptive statistics against data\n",
    "c1 = np.mean(chisquare)\n",
    "c2 = np.median(chisquare)\n",
    "c3= np.var(chisquare)\n",
    "c4 = np.std(chisquare,ddof=1)\n",
    "c5 = np.std(chisquare ,ddof=1) / np.sqrt(len(chisquare))\n",
    "\n",
    "print('chisquare')\n",
    "print(c1)\n",
    "print(c2)\n",
    "print(c3)\n",
    "print(c4)\n",
    "print(c5)\n",
    "\n",
    "#Plot a sample for rand3\n",
    "sample=pd.DataFrame()\n",
    "sample['chisquare'] = np.random.choice(chisquare, 100)\n",
    "\n",
    "# Again, visualize the data.\n",
    "sample.hist()\n",
    "plt.show()\n",
    "\n",
    "# Check how well the sample replicates the population.\n",
    "c6 = sample.mean()\n",
    "c7 = sample.std(ddof=1)\n",
    "print(c6)\n",
    "print(c7)\n"
   ]
  },
  {
   "cell_type": "markdown",
   "metadata": {},
   "source": [
    "Dirichlet distribution"
   ]
  },
  {
   "cell_type": "code",
   "execution_count": 45,
   "metadata": {
    "collapsed": true
   },
   "outputs": [],
   "source": [
    "#Generate a random variable with 100 datapoints for a Chisquare distribution\n",
    "dirichlet = np.random.dirichlet((1,2), 100)"
   ]
  },
  {
   "cell_type": "code",
   "execution_count": 46,
   "metadata": {},
   "outputs": [
    {
     "data": {
      "image/png": "[encoded data removed]",
      "text/plain": [
       "<matplotlib.figure.Figure at 0x84278b0>"
      ]
     },
     "metadata": {},
     "output_type": "display_data"
    }
   ],
   "source": [
    "#plot Dirichlet distribution using a histogram\n",
    "plt.hist(dirichlet)\n",
    "plt.show()"
   ]
  },
  {
   "cell_type": "code",
   "execution_count": 47,
   "metadata": {},
   "outputs": [
    {
     "data": {
      "image/png": "[encoded data removed]",
      "text/plain": [
       "<matplotlib.figure.Figure at 0x837a390>"
      ]
     },
     "metadata": {},
     "output_type": "display_data"
    }
   ],
   "source": [
    "#Compute mean and standard deviation & plot as vertical lines on the histogram\n",
    "plt.hist(dirichlet)\n",
    "plt.axvline(dirichlet.mean(), color='b', linestyle='solid', linewidth=2)\n",
    "plt.axvline(dirichlet.mean() + dirichlet.std(), color='b', linestyle='dashed', linewidth=2)\n",
    "plt.axvline(dirichlet.mean()-dirichlet.std(), color='b', linestyle='dashed', linewidth=2)\n",
    "plt.show()"
   ]
  },
  {
   "cell_type": "code",
   "execution_count": 48,
   "metadata": {},
   "outputs": [
    {
     "name": "stdout",
     "output_type": "stream",
     "text": [
      "dirichlet\n",
      "0.5\n",
      "0.5\n",
      "0.0938408165359\n",
      "0.307103204848\n",
      "0.0307103204848\n"
     ]
    }
   ],
   "source": [
    "#Evaluate descriptive statistics against data\n",
    "d1 = np.mean(dirichlet)\n",
    "d2 = np.median(dirichlet)\n",
    "d3= np.var(dirichlet)\n",
    "d4 = np.std(dirichlet,ddof=1)\n",
    "d5 = np.std(dirichlet ,ddof=1) / np.sqrt(len(dirichlet))\n",
    "\n",
    "print('dirichlet')\n",
    "print(d1)\n",
    "print(d2)\n",
    "print(d3)\n",
    "print(d4)\n",
    "print(d5)\n"
   ]
  },
  {
   "cell_type": "markdown",
   "metadata": {},
   "source": [
    "Standard t distribution"
   ]
  },
  {
   "cell_type": "code",
   "execution_count": 49,
   "metadata": {
    "collapsed": true
   },
   "outputs": [],
   "source": [
    "#Generate a random variable with 100 datapoints for a standard t distribution\n",
    "standard_t = np.random.standard_t(50, 100)"
   ]
  },
  {
   "cell_type": "code",
   "execution_count": 50,
   "metadata": {},
   "outputs": [
    {
     "data": {
      "image/png": "[encoded data removed]",
      "text/plain": [
       "<matplotlib.figure.Figure at 0x831b3f0>"
      ]
     },
     "metadata": {},
     "output_type": "display_data"
    }
   ],
   "source": [
    "#plot Standard t distribution using a histogram\n",
    "plt.hist(standard_t)\n",
    "plt.show()"
   ]
  },
  {
   "cell_type": "code",
   "execution_count": 51,
   "metadata": {},
   "outputs": [
    {
     "data": {
      "image/png": "[encoded data removed]",
      "text/plain": [
       "<matplotlib.figure.Figure at 0x836ab50>"
      ]
     },
     "metadata": {},
     "output_type": "display_data"
    }
   ],
   "source": [
    "#Compute mean and standard deviation & plot as vertical lines on the histogram\n",
    "plt.hist(standard_t)\n",
    "plt.axvline(standard_t.mean(), color='b', linestyle='solid', linewidth=2)\n",
    "plt.axvline(standard_t.mean() + standard_t.std(), color='b', linestyle='dashed', linewidth=2)\n",
    "plt.axvline(standard_t.mean()-standard_t.std(), color='b', linestyle='dashed', linewidth=2)\n",
    "plt.show()"
   ]
  },
  {
   "cell_type": "code",
   "execution_count": 52,
   "metadata": {},
   "outputs": [
    {
     "name": "stdout",
     "output_type": "stream",
     "text": [
      "standard_t\n",
      "-0.0152853606037\n",
      "0.0733338216136\n",
      "1.087539194\n",
      "1.04810516571\n",
      "0.104810516571\n"
     ]
    },
    {
     "data": {
      "image/png": "[encoded data removed]",
      "text/plain": [
       "<matplotlib.figure.Figure at 0x83ff530>"
      ]
     },
     "metadata": {},
     "output_type": "display_data"
    },
    {
     "name": "stdout",
     "output_type": "stream",
     "text": [
      "standard_t   -0.038865\n",
      "dtype: float64\n",
      "standard_t    0.971557\n",
      "dtype: float64\n"
     ]
    }
   ],
   "source": [
    "#Evaluate descriptive statistics against data\n",
    "c1 = np.mean(standard_t)\n",
    "c2 = np.median(standard_t)\n",
    "c3= np.var(standard_t)\n",
    "c4 = np.std(standard_t,ddof=1)\n",
    "c5 = np.std(standard_t ,ddof=1) / np.sqrt(len(standard_t))\n",
    "\n",
    "print('standard_t')\n",
    "print(c1)\n",
    "print(c2)\n",
    "print(c3)\n",
    "print(c4)\n",
    "print(c5)\n",
    "\n",
    "#Plot a sample for rand3\n",
    "sample=pd.DataFrame()\n",
    "sample['standard_t'] = np.random.choice(standard_t, 100)\n",
    "\n",
    "# Again, visualize the data.\n",
    "sample.hist()\n",
    "plt.show()\n",
    "\n",
    "# Check how well the sample replicates the population.\n",
    "c6 = sample.mean()\n",
    "c7 = sample.std(ddof=1)\n",
    "print(c6)\n",
    "print(c7)"
   ]
  },
  {
   "cell_type": "markdown",
   "metadata": {},
   "source": [
    "Logistic distribution"
   ]
  },
  {
   "cell_type": "code",
   "execution_count": 53,
   "metadata": {
    "collapsed": true
   },
   "outputs": [],
   "source": [
    "#Generate a random variable with 100 datapoints for logistic distribution\n",
    "logistic = np.random.logistic(9,2, 100)"
   ]
  },
  {
   "cell_type": "code",
   "execution_count": 54,
   "metadata": {},
   "outputs": [
    {
     "data": {
      "image/png": "[encoded data removed]",
      "text/plain": [
       "<matplotlib.figure.Figure at 0x831bbb0>"
      ]
     },
     "metadata": {},
     "output_type": "display_data"
    }
   ],
   "source": [
    "#plot logistic distribution using a histogram\n",
    "plt.hist(logistic)\n",
    "plt.show()"
   ]
  },
  {
   "cell_type": "code",
   "execution_count": 55,
   "metadata": {},
   "outputs": [
    {
     "data": {
      "image/png": "[encoded data removed]",
      "text/plain": [
       "<matplotlib.figure.Figure at 0x8407090>"
      ]
     },
     "metadata": {},
     "output_type": "display_data"
    }
   ],
   "source": [
    "#Compute mean and standard deviation & plot as vertical lines on the histogram\n",
    "plt.hist(logistic)\n",
    "plt.axvline(logistic.mean(), color='b', linestyle='solid', linewidth=2)\n",
    "plt.axvline(logistic.mean() + logistic.std(), color='b', linestyle='dashed', linewidth=2)\n",
    "plt.axvline(logistic.mean()-logistic.std(), color='b', linestyle='dashed', linewidth=2)\n",
    "plt.show()"
   ]
  },
  {
   "cell_type": "code",
   "execution_count": 56,
   "metadata": {},
   "outputs": [
    {
     "name": "stdout",
     "output_type": "stream",
     "text": [
      "standard_t\n",
      "9.29508652954\n",
      "9.53696067606\n",
      "15.2993318944\n",
      "3.93114113209\n",
      "0.393114113209\n"
     ]
    },
    {
     "data": {
      "image/png": "[encoded data removed]",
      "text/plain": [
       "<matplotlib.figure.Figure at 0x84337f0>"
      ]
     },
     "metadata": {},
     "output_type": "display_data"
    },
    {
     "name": "stdout",
     "output_type": "stream",
     "text": [
      "logistic    9.273761\n",
      "dtype: float64\n",
      "logistic    3.940146\n",
      "dtype: float64\n"
     ]
    }
   ],
   "source": [
    "#Evaluate descriptive statistics against data\n",
    "c1 = np.mean(logistic)\n",
    "c2 = np.median(logistic)\n",
    "c3= np.var(logistic)\n",
    "c4 = np.std(logistic,ddof=1)\n",
    "c5 = np.std(logistic ,ddof=1) / np.sqrt(len(logistic))\n",
    "\n",
    "print('standard_t')\n",
    "print(c1)\n",
    "print(c2)\n",
    "print(c3)\n",
    "print(c4)\n",
    "print(c5)\n",
    "\n",
    "#Plot a sample for rand3\n",
    "sample=pd.DataFrame()\n",
    "sample['logistic'] = np.random.choice(logistic, 100)\n",
    "\n",
    "# Again, visualize the data.\n",
    "sample.hist()\n",
    "plt.show()\n",
    "\n",
    "# Check how well the sample replicates the population.\n",
    "c6 = sample.mean()\n",
    "c7 = sample.std(ddof=1)\n",
    "print(c6)\n",
    "print(c7)"
   ]
  },
  {
   "cell_type": "markdown",
   "metadata": {},
   "source": [
    "Rayleigh distribution"
   ]
  },
  {
   "cell_type": "code",
   "execution_count": 57,
   "metadata": {
    "collapsed": true
   },
   "outputs": [],
   "source": [
    "#Generate a random variable with 100 datapoints for rayleigh distribution\n",
    "rayleigh = np.random.rayleigh(1, 100)"
   ]
  },
  {
   "cell_type": "code",
   "execution_count": 58,
   "metadata": {},
   "outputs": [
    {
     "data": {
      "image/png": "[encoded data removed]",
      "text/plain": [
       "<matplotlib.figure.Figure at 0x824be90>"
      ]
     },
     "metadata": {},
     "output_type": "display_data"
    }
   ],
   "source": [
    "#plot Rayleigh distribution using a histogram\n",
    "plt.hist(rayleigh)\n",
    "plt.show()"
   ]
  },
  {
   "cell_type": "code",
   "execution_count": 59,
   "metadata": {},
   "outputs": [
    {
     "data": {
      "image/png": "[encoded data removed]",
      "text/plain": [
       "<matplotlib.figure.Figure at 0x8196f70>"
      ]
     },
     "metadata": {},
     "output_type": "display_data"
    }
   ],
   "source": [
    "#Compute mean and standard deviation & plot as vertical lines on the histogram\n",
    "plt.hist(rayleigh)\n",
    "plt.axvline(rayleigh.mean(), color='b', linestyle='solid', linewidth=2)\n",
    "plt.axvline(rayleigh.mean() + rayleigh.std(), color='b', linestyle='dashed', linewidth=2)\n",
    "plt.axvline(rayleigh.mean()-rayleigh.std(), color='b', linestyle='dashed', linewidth=2)\n",
    "plt.show()"
   ]
  },
  {
   "cell_type": "code",
   "execution_count": 60,
   "metadata": {},
   "outputs": [
    {
     "name": "stdout",
     "output_type": "stream",
     "text": [
      "rayleigh\n",
      "1.16842910258\n",
      "0.959254226449\n",
      "0.511401535514\n",
      "0.718726100535\n",
      "0.0718726100535\n"
     ]
    },
    {
     "data": {
      "image/png": "[encoded data removed]",
      "text/plain": [
       "<matplotlib.figure.Figure at 0x8446370>"
      ]
     },
     "metadata": {},
     "output_type": "display_data"
    },
    {
     "name": "stdout",
     "output_type": "stream",
     "text": [
      "rayleigh    1.281252\n",
      "dtype: float64\n",
      "rayleigh    0.78202\n",
      "dtype: float64\n"
     ]
    }
   ],
   "source": [
    "#Evaluate descriptive statistics against data\n",
    "c1 = np.mean(rayleigh)\n",
    "c2 = np.median(rayleigh)\n",
    "c3= np.var(rayleigh)\n",
    "c4 = np.std(rayleigh,ddof=1)\n",
    "c5 = np.std(rayleigh ,ddof=1) / np.sqrt(len(rayleigh))\n",
    "\n",
    "print('rayleigh')\n",
    "print(c1)\n",
    "print(c2)\n",
    "print(c3)\n",
    "print(c4)\n",
    "print(c5)\n",
    "\n",
    "#Plot a sample for rand3\n",
    "sample=pd.DataFrame()\n",
    "sample['rayleigh'] = np.random.choice(rayleigh, 100)\n",
    "\n",
    "# Again, visualize the data.\n",
    "sample.hist()\n",
    "plt.show()\n",
    "\n",
    "# Check how well the sample replicates the population.\n",
    "c6 = sample.mean()\n",
    "c7 = sample.std(ddof=1)\n",
    "print(c6)\n",
    "print(c7)"
   ]
  },
  {
   "cell_type": "markdown",
   "metadata": {},
   "source": [
    "Geometric distribution"
   ]
  },
  {
   "cell_type": "code",
   "execution_count": 61,
   "metadata": {
    "collapsed": true
   },
   "outputs": [],
   "source": [
    "#Generate a random variable with 100 datapoints for Geometric distribution\n",
    "geometric = np.random.geometric(0.25, 100)"
   ]
  },
  {
   "cell_type": "code",
   "execution_count": 62,
   "metadata": {},
   "outputs": [
    {
     "data": {
      "image/png": "[encoded data removed]",
      "text/plain": [
       "<matplotlib.figure.Figure at 0x710b910>"
      ]
     },
     "metadata": {},
     "output_type": "display_data"
    }
   ],
   "source": [
    "#plot Geometric distribution using a histogram\n",
    "plt.hist(geometric)\n",
    "plt.show()"
   ]
  },
  {
   "cell_type": "code",
   "execution_count": 63,
   "metadata": {},
   "outputs": [
    {
     "data": {
      "image/png": "[encoded data removed]",
      "text/plain": [
       "<matplotlib.figure.Figure at 0x70604f0>"
      ]
     },
     "metadata": {},
     "output_type": "display_data"
    }
   ],
   "source": [
    "#Compute mean and standard deviation & plot as vertical lines on the histogram\n",
    "plt.hist(geometric)\n",
    "plt.axvline(geometric.mean(), color='b', linestyle='solid', linewidth=2)\n",
    "plt.axvline(geometric.mean() + geometric.std(), color='b', linestyle='dashed', linewidth=2)\n",
    "plt.axvline(geometric.mean()-geometric.std(), color='b', linestyle='dashed', linewidth=2)\n",
    "plt.show()"
   ]
  },
  {
   "cell_type": "code",
   "execution_count": 64,
   "metadata": {},
   "outputs": [
    {
     "name": "stdout",
     "output_type": "stream",
     "text": [
      "geometric\n",
      "3.92\n",
      "3.0\n",
      "9.6136\n",
      "3.11620074301\n",
      "0.311620074301\n"
     ]
    },
    {
     "data": {
      "image/png": "[encoded data removed]",
      "text/plain": [
       "<matplotlib.figure.Figure at 0x829cf50>"
      ]
     },
     "metadata": {},
     "output_type": "display_data"
    },
    {
     "name": "stdout",
     "output_type": "stream",
     "text": [
      "geometric    3.99\n",
      "dtype: float64\n",
      "geometric    2.931869\n",
      "dtype: float64\n"
     ]
    }
   ],
   "source": [
    "#Evaluate descriptive statistics against data\n",
    "c1 = np.mean(geometric)\n",
    "c2 = np.median(geometric)\n",
    "c3= np.var(geometric)\n",
    "c4 = np.std(geometric,ddof=1)\n",
    "c5 = np.std(geometric ,ddof=1) / np.sqrt(len(geometric))\n",
    "\n",
    "print('geometric')\n",
    "print(c1)\n",
    "print(c2)\n",
    "print(c3)\n",
    "print(c4)\n",
    "print(c5)\n",
    "\n",
    "#Plot a sample for rand3\n",
    "sample=pd.DataFrame()\n",
    "sample['geometric'] = np.random.choice(geometric, 100)\n",
    "\n",
    "# Again, visualize the data.\n",
    "sample.hist()\n",
    "plt.show()\n",
    "\n",
    "# Check how well the sample replicates the population.\n",
    "c6 = sample.mean()\n",
    "c7 = sample.std(ddof=1)\n",
    "print(c6)\n",
    "print(c7)"
   ]
  },
  {
   "cell_type": "code",
   "execution_count": 65,
   "metadata": {
    "collapsed": true
   },
   "outputs": [],
   "source": [
    "#Generation of 2 normally-distributed variables, one with mean 5 and standard deviation of 0.5 and the other with mean of 10 and standar deviation of 1\n",
    "rand1 = np.random.normal(5, 0.5, 1000)\n",
    "rand2 = np.random.normal(10,1, 1000)"
   ]
  },
  {
   "cell_type": "code",
   "execution_count": 66,
   "metadata": {
    "collapsed": true
   },
   "outputs": [],
   "source": [
    "#Generate a 3rd variable adding the 2 normallt distributed variables\n",
    "rand3= rand1+rand2"
   ]
  },
  {
   "cell_type": "code",
   "execution_count": 67,
   "metadata": {},
   "outputs": [
    {
     "data": {
      "image/png": "[encoded data removed]",
      "text/plain": [
       "<matplotlib.figure.Figure at 0x82802b0>"
      ]
     },
     "metadata": {},
     "output_type": "display_data"
    }
   ],
   "source": [
    "#Plot histogram of the 3rd variable\n",
    "plt.hist(rand3, bins=20, color='c')\n",
    "plt.show()"
   ]
  },
  {
   "cell_type": "code",
   "execution_count": 68,
   "metadata": {},
   "outputs": [
    {
     "data": {
      "image/png": "[encoded data removed]",
      "text/plain": [
       "<matplotlib.figure.Figure at 0x715a890>"
      ]
     },
     "metadata": {},
     "output_type": "display_data"
    }
   ],
   "source": [
    "#Compute and plot the mean and standard deviation for variable rand3\n",
    "plt.hist(rand3, bins=20, color='c')\n",
    "plt.axvline(rand3.mean(), color='b', linestyle='solid', linewidth=2)\n",
    "plt.axvline(rand3.mean() + rand3.std(), color='b', linestyle='dashed', linewidth=2)\n",
    "plt.axvline(rand3.mean()-rand3.std(), color='b', linestyle='dashed', linewidth=2)\n",
    "plt.show()"
   ]
  },
  {
   "cell_type": "code",
   "execution_count": 69,
   "metadata": {},
   "outputs": [
    {
     "name": "stdout",
     "output_type": "stream",
     "text": [
      "15.0740718589\n",
      "15.0825946634\n",
      "1.20027793015\n",
      "1.09612016201\n",
      "0.0346623630118\n"
     ]
    }
   ],
   "source": [
    "#Calculate descriptive statistics for variable rand3\n",
    "a = np.mean(rand3)\n",
    "b = np.median(rand3)\n",
    "c= np.var(rand3)\n",
    "d = np.std(rand3,ddof=1)\n",
    "e = np.std(rand3 ,ddof=1) / np.sqrt(len(rand3))\n",
    "print(a)\n",
    "print(b)\n",
    "print(c)\n",
    "print(d)\n",
    "print(e)"
   ]
  },
  {
   "cell_type": "code",
   "execution_count": 70,
   "metadata": {},
   "outputs": [
    {
     "data": {
      "image/png": "[encoded data removed]",
      "text/plain": [
       "<matplotlib.figure.Figure at 0x826ba10>"
      ]
     },
     "metadata": {},
     "output_type": "display_data"
    },
    {
     "name": "stdout",
     "output_type": "stream",
     "text": [
      "variable3    15.144762\n",
      "dtype: float64\n",
      "variable3    1.114334\n",
      "dtype: float64\n"
     ]
    }
   ],
   "source": [
    "#Plot a sample for rand3\n",
    "sample=pd.DataFrame()\n",
    "sample['variable3'] = np.random.choice(rand3, 100)\n",
    "\n",
    "# Again, visualize the data.\n",
    "sample.hist()\n",
    "plt.show()\n",
    "\n",
    "# Check how well the sample replicates the population.\n",
    "f = sample.mean()\n",
    "g = sample.std(ddof=1)\n",
    "print(f)\n",
    "print(g)"
   ]
  },
  {
   "cell_type": "code",
   "execution_count": 71,
   "metadata": {},
   "outputs": [
    {
     "data": {
      "image/png": "[encoded data removed]",
      "text/plain": [
       "<matplotlib.figure.Figure at 0x83b9a70>"
      ]
     },
     "metadata": {},
     "output_type": "display_data"
    }
   ],
   "source": [
    "#Plot histogram of the 3 variabless\n",
    "plt.hist(rand1, bins=20, color = 'b')\n",
    "plt.hist(rand2, bins=20, color='r')\n",
    "plt.hist(rand3, bins=20, color='c')\n",
    "plt.show()"
   ]
  },
  {
   "cell_type": "code",
   "execution_count": 72,
   "metadata": {},
   "outputs": [
    {
     "data": {
      "image/png": "[encoded data removed]",
      "text/plain": [
       "<matplotlib.figure.Figure at 0x83c2410>"
      ]
     },
     "metadata": {},
     "output_type": "display_data"
    }
   ],
   "source": [
    "#Compute and plot the mean and standard deviation for each of the variables\n",
    "plt.hist(rand1, bins=20, color = 'b')\n",
    "plt.hist(rand2, bins=20, color='r')\n",
    "plt.hist(rand3, bins=20, color='c')\n",
    "\n",
    "plt.axvline(rand1.mean(), color='b', linestyle='solid', linewidth=2)\n",
    "plt.axvline(rand1.mean() + rand1.std(), color='b', linestyle='dashed', linewidth=2)\n",
    "plt.axvline(rand1.mean()-rand1.std(), color='b', linestyle='dashed', linewidth=2)\n",
    "\n",
    "plt.axvline(rand2.mean(), color='b', linestyle='solid', linewidth=2)\n",
    "plt.axvline(rand2.mean() + rand2.std(), color='b', linestyle='dashed', linewidth=2)\n",
    "plt.axvline(rand2.mean()-rand2.std(), color='b', linestyle='dashed', linewidth=2)\n",
    "\n",
    "plt.axvline(rand3.mean(), color='b', linestyle='solid', linewidth=2)\n",
    "plt.axvline(rand3.mean() + rand3.std(), color='b', linestyle='dashed', linewidth=2)\n",
    "plt.axvline(rand3.mean()-rand3.std(), color='b', linestyle='dashed', linewidth=2)\n",
    "plt.show()"
   ]
  },
  {
   "cell_type": "code",
   "execution_count": 73,
   "metadata": {},
   "outputs": [
    {
     "name": "stdout",
     "output_type": "stream",
     "text": [
      "rand2\n",
      "10.0572601977\n",
      "10.0314504823\n",
      "0.973282720879\n",
      "0.98704456731\n",
      "0.031213089848\n"
     ]
    },
    {
     "data": {
      "image/png": "[encoded data removed]",
      "text/plain": [
       "<matplotlib.figure.Figure at 0x838bb70>"
      ]
     },
     "metadata": {},
     "output_type": "display_data"
    },
    {
     "name": "stdout",
     "output_type": "stream",
     "text": [
      "variable2    10.112494\n",
      "dtype: float64\n",
      "variable2    0.99336\n",
      "dtype: float64\n"
     ]
    }
   ],
   "source": [
    "#Evaluate descriptive statistics against data\n",
    "\n",
    "a2 = np.mean(rand2)\n",
    "b2 = np.median(rand2)\n",
    "c2= np.var(rand2)\n",
    "d2 = np.std(rand2,ddof=1)\n",
    "e2 = np.std(rand2 ,ddof=1) / np.sqrt(len(rand2))\n",
    "\n",
    "print('rand2')\n",
    "print(a2)\n",
    "print(b2)\n",
    "print(c2)\n",
    "print(d2)\n",
    "print(e2)\n",
    "\n",
    "#Plot a sample for rand3\n",
    "sample=pd.DataFrame()\n",
    "sample['variable2'] = np.random.choice(rand2, 100)\n",
    "\n",
    "# Again, visualize the data.\n",
    "sample.hist()\n",
    "plt.show()\n",
    "\n",
    "# Check how well the sample replicates the population.\n",
    "f2 = sample.mean()\n",
    "g2 = sample.std(ddof=1)\n",
    "print(f2)\n",
    "print(g2)"
   ]
  },
  {
   "cell_type": "code",
   "execution_count": 74,
   "metadata": {},
   "outputs": [
    {
     "name": "stdout",
     "output_type": "stream",
     "text": [
      "rand1\n",
      "5.01681166115\n",
      "5.01573361938\n",
      "0.253057309079\n",
      "0.503299731471\n",
      "0.015915734972\n"
     ]
    },
    {
     "data": {
      "image/png": "[encoded data removed]",
      "text/plain": [
       "<matplotlib.figure.Figure at 0x82e2ed0>"
      ]
     },
     "metadata": {},
     "output_type": "display_data"
    },
    {
     "name": "stdout",
     "output_type": "stream",
     "text": [
      "variable1    4.888688\n",
      "dtype: float64\n",
      "variable1    0.491917\n",
      "dtype: float64\n"
     ]
    }
   ],
   "source": [
    "#Evaluate descriptive statistics against data\n",
    "a1 = np.mean(rand1)\n",
    "b1 = np.median(rand1)\n",
    "c1= np.var(rand1)\n",
    "d1 = np.std(rand1,ddof=1)\n",
    "e1 = np.std(rand1 ,ddof=1) / np.sqrt(len(rand1))\n",
    "\n",
    "print('rand1')\n",
    "print(a1)\n",
    "print(b1)\n",
    "print(c1)\n",
    "print(d1)\n",
    "print(e1)\n",
    "\n",
    "#Plot a sample for rand3\n",
    "sample=pd.DataFrame()\n",
    "sample['variable1'] = np.random.choice(rand1, 100)\n",
    "\n",
    "# Again, visualize the data.\n",
    "sample.hist()\n",
    "plt.show()\n",
    "\n",
    "# Check how well the sample replicates the population.\n",
    "f1 = sample.mean()\n",
    "g1 = sample.std(ddof=1)\n",
    "print(f1)\n",
    "print(g1)\n"
   ]
  },
  {
   "cell_type": "code",
   "execution_count": null,
   "metadata": {
    "collapsed": true
   },
   "outputs": [],
   "source": []
  }
 ],
 "metadata": {
  "kernelspec": {
   "display_name": "Python 3",
   "language": "python",
   "name": "python3"
  },
  "language_info": {
   "codemirror_mode": {
    "name": "ipython",
    "version": 3
   },
   "file_extension": ".py",
   "mimetype": "text/x-python",
   "name": "python",
   "nbconvert_exporter": "python",
   "pygments_lexer": "ipython3",
   "version": "3.6.1"
  }
 },
 "nbformat": 4,
 "nbformat_minor": 2
}
