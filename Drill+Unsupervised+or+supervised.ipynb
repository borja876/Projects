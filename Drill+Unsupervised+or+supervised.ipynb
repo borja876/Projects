{
 "cells": [
  {
   "cell_type": "markdown",
   "metadata": {},
   "source": [
    "For each of these scenarios decide if you could use supervised or unsupervised techniques, or both!\n",
    "\n",
    "***Define the likelihood that an individual will contract a specific disease***\n",
    "Supervised using KNeighborclasiffier and unsupervised using clustering\n",
    "\n",
    "***Translate a set of images into variables for modeling***\n",
    "Unsupervised learning\n",
    "\n",
    "***An ecommerce company wants to identify power users***\n",
    "Unsupervised\n",
    "\n",
    "***That same company wants to see shopping patterns in users***\n",
    "Supervised learning\n",
    "\n",
    "***You want to reduce the number of variables inputting into your random forest model***\n",
    "Unsupervosed learning using PCA"
   ]
  }
 ],
 "metadata": {
  "kernelspec": {
   "display_name": "Python 3",
   "language": "python",
   "name": "python3"
  },
  "language_info": {
   "codemirror_mode": {
    "name": "ipython",
    "version": 3
   },
   "file_extension": ".py",
   "mimetype": "text/x-python",
   "name": "python",
   "nbconvert_exporter": "python",
   "pygments_lexer": "ipython3",
   "version": "3.5.4"
  }
 },
 "nbformat": 4,
 "nbformat_minor": 2
}
