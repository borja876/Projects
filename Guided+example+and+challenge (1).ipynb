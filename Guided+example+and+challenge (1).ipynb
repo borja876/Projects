{
 "cells": [
  {
   "cell_type": "code",
   "execution_count": 287,
   "metadata": {
    "collapsed": true
   },
   "outputs": [],
   "source": [
    "import pandas as pd\n",
    "import numpy as np\n",
    "import scipy\n",
    "import matplotlib.pyplot as plt\n",
    "%matplotlib inline\n",
    "from sklearn import ensemble\n",
    "from sklearn import datasets\n",
    "from sklearn.utils import shuffle\n",
    "from sklearn.metrics import mean_squared_error\n",
    "import math\n",
    "import seaborn as sns\n",
    "from sklearn import preprocessing\n",
    "from sklearn.model_selection import GridSearchCV\n",
    "from sklearn import metrics"
   ]
  },
  {
   "cell_type": "code",
   "execution_count": 288,
   "metadata": {
    "collapsed": true
   },
   "outputs": [],
   "source": [
    "df = pd.read_csv((\n",
    "    \"https://raw.githubusercontent.com/Thinkful-Ed/data-201-resources/\"\n",
    "    \"master/ESS_practice_data/ESSdata_Thinkful.csv\")).dropna()\n",
    "\n",
    "# Definine outcome and predictors.\n",
    "# Set our outcome to 0 and 1.\n",
    "y = df['partner'] - 1\n",
    "X = df.loc[:, ~df.columns.isin(['partner', 'cntry', 'idno'])]\n",
    "\n",
    "# Make the categorical variable 'country' into dummies.\n",
    "X = pd.concat([X, pd.get_dummies(df['cntry'])], axis=1)\n",
    "\n"
   ]
  },
  {
   "cell_type": "code",
   "execution_count": 289,
   "metadata": {},
   "outputs": [
    {
     "data": {
      "text/html": [
       "<div>\n",
       "<style>\n",
       "    .dataframe thead tr:only-child th {\n",
       "        text-align: right;\n",
       "    }\n",
       "\n",
       "    .dataframe thead th {\n",
       "        text-align: left;\n",
       "    }\n",
       "\n",
       "    .dataframe tbody tr th {\n",
       "        vertical-align: top;\n",
       "    }\n",
       "</style>\n",
       "<table border=\"1\" class=\"dataframe\">\n",
       "  <thead>\n",
       "    <tr style=\"text-align: right;\">\n",
       "      <th></th>\n",
       "      <th>happy</th>\n",
       "      <th>sclmeet</th>\n",
       "      <th>agea</th>\n",
       "    </tr>\n",
       "  </thead>\n",
       "  <tbody>\n",
       "    <tr>\n",
       "      <th>0</th>\n",
       "      <td>8.0</td>\n",
       "      <td>5.0</td>\n",
       "      <td>60.0</td>\n",
       "    </tr>\n",
       "    <tr>\n",
       "      <th>1</th>\n",
       "      <td>9.0</td>\n",
       "      <td>3.0</td>\n",
       "      <td>59.0</td>\n",
       "    </tr>\n",
       "    <tr>\n",
       "      <th>2</th>\n",
       "      <td>7.0</td>\n",
       "      <td>6.0</td>\n",
       "      <td>24.0</td>\n",
       "    </tr>\n",
       "    <tr>\n",
       "      <th>3</th>\n",
       "      <td>10.0</td>\n",
       "      <td>6.0</td>\n",
       "      <td>64.0</td>\n",
       "    </tr>\n",
       "    <tr>\n",
       "      <th>4</th>\n",
       "      <td>8.0</td>\n",
       "      <td>7.0</td>\n",
       "      <td>55.0</td>\n",
       "    </tr>\n",
       "  </tbody>\n",
       "</table>\n",
       "</div>"
      ],
      "text/plain": [
       "   happy  sclmeet  agea\n",
       "0    8.0      5.0  60.0\n",
       "1    9.0      3.0  59.0\n",
       "2    7.0      6.0  24.0\n",
       "3   10.0      6.0  64.0\n",
       "4    8.0      7.0  55.0"
      ]
     },
     "execution_count": 289,
     "metadata": {},
     "output_type": "execute_result"
    }
   ],
   "source": [
    "#X['happyage'] = np.log(X['happy']*X['agea']+1)\n",
    "X['beh'] = np.log(X['pplfair']*X['pplhlp']+1)\n",
    "X = X.drop(['tvtot','CH','CZ','DE','ES','NO','SE','gndr','pplhlp','pplfair','year','sclact','ppltrst','beh'],axis=1)\n",
    "X.head()"
   ]
  },
  {
   "cell_type": "code",
   "execution_count": 290,
   "metadata": {
    "collapsed": true
   },
   "outputs": [],
   "source": [
    "names = X.columns\n",
    "X = pd.DataFrame(preprocessing.scale(X), columns = names)"
   ]
  },
  {
   "cell_type": "code",
   "execution_count": 291,
   "metadata": {},
   "outputs": [
    {
     "data": {
      "text/html": [
       "<div>\n",
       "<style>\n",
       "    .dataframe thead tr:only-child th {\n",
       "        text-align: right;\n",
       "    }\n",
       "\n",
       "    .dataframe thead th {\n",
       "        text-align: left;\n",
       "    }\n",
       "\n",
       "    .dataframe tbody tr th {\n",
       "        vertical-align: top;\n",
       "    }\n",
       "</style>\n",
       "<table border=\"1\" class=\"dataframe\">\n",
       "  <thead>\n",
       "    <tr style=\"text-align: right;\">\n",
       "      <th></th>\n",
       "      <th>happy</th>\n",
       "      <th>sclmeet</th>\n",
       "      <th>agea</th>\n",
       "    </tr>\n",
       "  </thead>\n",
       "  <tbody>\n",
       "    <tr>\n",
       "      <th>happy</th>\n",
       "      <td>1.000000</td>\n",
       "      <td>0.182944</td>\n",
       "      <td>-0.042970</td>\n",
       "    </tr>\n",
       "    <tr>\n",
       "      <th>sclmeet</th>\n",
       "      <td>0.182944</td>\n",
       "      <td>1.000000</td>\n",
       "      <td>-0.194443</td>\n",
       "    </tr>\n",
       "    <tr>\n",
       "      <th>agea</th>\n",
       "      <td>-0.042970</td>\n",
       "      <td>-0.194443</td>\n",
       "      <td>1.000000</td>\n",
       "    </tr>\n",
       "  </tbody>\n",
       "</table>\n",
       "</div>"
      ],
      "text/plain": [
       "            happy   sclmeet      agea\n",
       "happy    1.000000  0.182944 -0.042970\n",
       "sclmeet  0.182944  1.000000 -0.194443\n",
       "agea    -0.042970 -0.194443  1.000000"
      ]
     },
     "execution_count": 291,
     "metadata": {},
     "output_type": "execute_result"
    }
   ],
   "source": [
    "X.corr()\n"
   ]
  },
  {
   "cell_type": "code",
   "execution_count": 292,
   "metadata": {
    "collapsed": true
   },
   "outputs": [],
   "source": [
    "# Create training and test sets.\n",
    "offset = int(X.shape[0] * 0.9)\n",
    "\n",
    "# Put 90% of the data in the training set.\n",
    "X_train, y_train = X[:offset], y[:offset]\n",
    "\n",
    "# And put 10% in the test set.\n",
    "X_test, y_test = X[offset:], y[offset:]\n"
   ]
  },
  {
   "cell_type": "code",
   "execution_count": 329,
   "metadata": {},
   "outputs": [
    {
     "name": "stdout",
     "output_type": "stream",
     "text": [
      "Training set accuracy:\n",
      "Percent Type I errors: 0.04800872885979269\n",
      "Percent Type II errors: 0.1901254773595199\n",
      "\n",
      "Test set accuracy:\n",
      "Percent Type I errors: 0.049079754601226995\n",
      "Percent Type II errors: 0.20613496932515338\n"
     ]
    }
   ],
   "source": [
    "# We'll make 500 iterations, use 2-deep trees, and set our loss function.\n",
    "params = {'n_estimators': 500,\n",
    "          'max_depth': 2,\n",
    "          'loss': 'deviance'}\n",
    "\n",
    "\n",
    "# Initialize and fit the model.\n",
    "clf = ensemble.GradientBoostingClassifier(**params)\n",
    "clf.fit(X_train, y_train)\n",
    "\n",
    "predict_train = clf.predict(X_train)\n",
    "predict_test = clf.predict(X_test)\n",
    "\n",
    "# Accuracy tables.\n",
    "table_train = pd.crosstab(y_train, predict_train, margins=True)\n",
    "table_test = pd.crosstab(y_test, predict_test, margins=True)\n",
    "\n",
    "train_tI_errors = table_train.loc[0.0,1.0] / table_train.loc['All','All']\n",
    "train_tII_errors = table_train.loc[1.0,0.0] / table_train.loc['All','All']\n",
    "\n",
    "test_tI_errors = table_test.loc[0.0,1.0]/table_test.loc['All','All']\n",
    "test_tII_errors = table_test.loc[1.0,0.0]/table_test.loc['All','All']\n",
    "\n",
    "print((\n",
    "    'Training set accuracy:\\n'\n",
    "    'Percent Type I errors: {}\\n'\n",
    "    'Percent Type II errors: {}\\n\\n'\n",
    "    'Test set accuracy:\\n'\n",
    "    'Percent Type I errors: {}\\n'\n",
    "    'Percent Type II errors: {}'\n",
    ").format(train_tI_errors, train_tII_errors, test_tI_errors, test_tII_errors))"
   ]
  },
  {
   "cell_type": "code",
   "execution_count": 337,
   "metadata": {},
   "outputs": [
    {
     "name": "stderr",
     "output_type": "stream",
     "text": [
      "D:\\Users\\Borja.gonzalez\\AppData\\Local\\Continuum\\anaconda3\\lib\\site-packages\\sklearn\\model_selection\\_search.py:761: DeprecationWarning: The grid_scores_ attribute was deprecated in version 0.18 in favor of the more elaborate cv_results_ attribute. The grid_scores_ attribute will not be available from 0.20\n",
      "  DeprecationWarning)\n"
     ]
    },
    {
     "data": {
      "text/plain": [
       "([mean: 0.00000, std: 0.00000, params: {'n_estimators': 1},\n",
       "  mean: 0.86019, std: 0.05544, params: {'n_estimators': 11},\n",
       "  mean: 0.83823, std: 0.05209, params: {'n_estimators': 21},\n",
       "  mean: 0.83173, std: 0.04706, params: {'n_estimators': 31},\n",
       "  mean: 0.81438, std: 0.04815, params: {'n_estimators': 41},\n",
       "  mean: 0.80248, std: 0.03971, params: {'n_estimators': 51},\n",
       "  mean: 0.80498, std: 0.03746, params: {'n_estimators': 61},\n",
       "  mean: 0.79075, std: 0.03042, params: {'n_estimators': 71},\n",
       "  mean: 0.79012, std: 0.03073, params: {'n_estimators': 81},\n",
       "  mean: 0.78728, std: 0.02919, params: {'n_estimators': 91},\n",
       "  mean: 0.78479, std: 0.02937, params: {'n_estimators': 101},\n",
       "  mean: 0.78284, std: 0.02887, params: {'n_estimators': 111},\n",
       "  mean: 0.78229, std: 0.02926, params: {'n_estimators': 121},\n",
       "  mean: 0.78253, std: 0.02916, params: {'n_estimators': 131},\n",
       "  mean: 0.77717, std: 0.03270, params: {'n_estimators': 141},\n",
       "  mean: 0.77835, std: 0.03295, params: {'n_estimators': 151},\n",
       "  mean: 0.77931, std: 0.03235, params: {'n_estimators': 161},\n",
       "  mean: 0.78052, std: 0.03041, params: {'n_estimators': 171},\n",
       "  mean: 0.77996, std: 0.03102, params: {'n_estimators': 181},\n",
       "  mean: 0.77892, std: 0.03140, params: {'n_estimators': 191},\n",
       "  mean: 0.77904, std: 0.03373, params: {'n_estimators': 201},\n",
       "  mean: 0.77709, std: 0.03454, params: {'n_estimators': 211},\n",
       "  mean: 0.77776, std: 0.03358, params: {'n_estimators': 221},\n",
       "  mean: 0.77771, std: 0.03355, params: {'n_estimators': 231},\n",
       "  mean: 0.77801, std: 0.03326, params: {'n_estimators': 241},\n",
       "  mean: 0.77698, std: 0.03392, params: {'n_estimators': 251},\n",
       "  mean: 0.77767, std: 0.03342, params: {'n_estimators': 261},\n",
       "  mean: 0.77682, std: 0.03393, params: {'n_estimators': 271},\n",
       "  mean: 0.77661, std: 0.03426, params: {'n_estimators': 281},\n",
       "  mean: 0.77676, std: 0.03414, params: {'n_estimators': 291},\n",
       "  mean: 0.77786, std: 0.03442, params: {'n_estimators': 301},\n",
       "  mean: 0.77690, std: 0.03376, params: {'n_estimators': 311},\n",
       "  mean: 0.77633, std: 0.03413, params: {'n_estimators': 321},\n",
       "  mean: 0.77565, std: 0.03344, params: {'n_estimators': 331},\n",
       "  mean: 0.77652, std: 0.03269, params: {'n_estimators': 341},\n",
       "  mean: 0.77661, std: 0.03336, params: {'n_estimators': 351},\n",
       "  mean: 0.77690, std: 0.03308, params: {'n_estimators': 361},\n",
       "  mean: 0.77550, std: 0.03372, params: {'n_estimators': 371},\n",
       "  mean: 0.77535, std: 0.03503, params: {'n_estimators': 381},\n",
       "  mean: 0.77398, std: 0.03185, params: {'n_estimators': 391},\n",
       "  mean: 0.77415, std: 0.03206, params: {'n_estimators': 401},\n",
       "  mean: 0.77480, std: 0.03189, params: {'n_estimators': 411},\n",
       "  mean: 0.77362, std: 0.03182, params: {'n_estimators': 421},\n",
       "  mean: 0.77401, std: 0.03260, params: {'n_estimators': 431},\n",
       "  mean: 0.77196, std: 0.03055, params: {'n_estimators': 441},\n",
       "  mean: 0.77156, std: 0.03071, params: {'n_estimators': 451},\n",
       "  mean: 0.77086, std: 0.03127, params: {'n_estimators': 461},\n",
       "  mean: 0.77008, std: 0.03228, params: {'n_estimators': 471},\n",
       "  mean: 0.77011, std: 0.03216, params: {'n_estimators': 481},\n",
       "  mean: 0.76822, std: 0.03262, params: {'n_estimators': 491}],\n",
       " {'n_estimators': 11},\n",
       " 0.86019170995255101)"
      ]
     },
     "execution_count": 337,
     "metadata": {},
     "output_type": "execute_result"
    }
   ],
   "source": [
    "param_test1 = {'n_estimators':range(1,500,10)}\n",
    "\n",
    "gsearch1 = GridSearchCV(estimator = clf, \n",
    "param_grid = param_test1, scoring='precision',n_jobs=4,iid=False, cv=5)\n",
    "gsearch1.fit(X_train,y_train)\n",
    "gsearch1.grid_scores_, gsearch1.best_params_, gsearch1.best_score_"
   ]
  },
  {
   "cell_type": "code",
   "execution_count": 339,
   "metadata": {},
   "outputs": [
    {
     "name": "stdout",
     "output_type": "stream",
     "text": [
      "Training set accuracy:\n",
      "Percent Type I errors: 0.013911620294599018\n",
      "Percent Type II errors: 0.24986361156573922\n",
      "\n",
      "Test set accuracy:\n",
      "Percent Type I errors: 0.025766871165644172\n",
      "Percent Type II errors: 0.24049079754601227\n"
     ]
    }
   ],
   "source": [
    "params2 = {'loss': 'deviance',\n",
    "          'min_samples_split': 800,\n",
    "          'min_samples_leaf': 60,\n",
    "          'max_features': 3,\n",
    "          'random_state': 10,\n",
    "          'learning_rate': 0.06,\n",
    "           'n_estimators': 11,\n",
    "          'max_depth': 100,\n",
    "         'subsample': 1}\n",
    "\n",
    "\n",
    "# Initialize and fit the model.\n",
    "clf2 = ensemble.GradientBoostingClassifier(**params2)\n",
    "clf2.fit(X_train, y_train)\n",
    "\n",
    "predict_train = clf2.predict(X_train)\n",
    "predict_test = clf2.predict(X_test)\n",
    "\n",
    "# Accuracy tables.\n",
    "table_train = pd.crosstab(y_train, predict_train, margins=True)\n",
    "table_test = pd.crosstab(y_test, predict_test, margins=True)\n",
    "\n",
    "train_tI_errors = table_train.loc[0.0,1.0] / table_train.loc['All','All']\n",
    "train_tII_errors = table_train.loc[1.0,0.0] / table_train.loc['All','All']\n",
    "\n",
    "test_tI_errors = table_test.loc[0.0,1.0]/table_test.loc['All','All']\n",
    "test_tII_errors = table_test.loc[1.0,0.0]/table_test.loc['All','All']\n",
    "\n",
    "print((\n",
    "    'Training set accuracy:\\n'\n",
    "    'Percent Type I errors: {}\\n'\n",
    "    'Percent Type II errors: {}\\n\\n'\n",
    "    'Test set accuracy:\\n'\n",
    "    'Percent Type I errors: {}\\n'\n",
    "    'Percent Type II errors: {}'\n",
    ").format(train_tI_errors, train_tII_errors, test_tI_errors, test_tII_errors))"
   ]
  },
  {
   "cell_type": "code",
   "execution_count": 340,
   "metadata": {},
   "outputs": [
    {
     "name": "stderr",
     "output_type": "stream",
     "text": [
      "D:\\Users\\Borja.gonzalez\\AppData\\Local\\Continuum\\anaconda3\\lib\\site-packages\\sklearn\\model_selection\\_search.py:761: DeprecationWarning: The grid_scores_ attribute was deprecated in version 0.18 in favor of the more elaborate cv_results_ attribute. The grid_scores_ attribute will not be available from 0.20\n",
      "  DeprecationWarning)\n"
     ]
    },
    {
     "data": {
      "text/plain": [
       "([mean: 0.33677, std: 0.03376, params: {'max_depth': 1, 'min_samples_split': 200},\n",
       "  mean: 0.33677, std: 0.03376, params: {'max_depth': 1, 'min_samples_split': 400},\n",
       "  mean: 0.33677, std: 0.03376, params: {'max_depth': 1, 'min_samples_split': 600},\n",
       "  mean: 0.33677, std: 0.03376, params: {'max_depth': 1, 'min_samples_split': 800},\n",
       "  mean: 0.33677, std: 0.03376, params: {'max_depth': 1, 'min_samples_split': 1000},\n",
       "  mean: 0.33677, std: 0.03376, params: {'max_depth': 1, 'min_samples_split': 1200},\n",
       "  mean: 0.33677, std: 0.03376, params: {'max_depth': 1, 'min_samples_split': 1400},\n",
       "  mean: 0.33677, std: 0.03376, params: {'max_depth': 1, 'min_samples_split': 1600},\n",
       "  mean: 0.33677, std: 0.03376, params: {'max_depth': 1, 'min_samples_split': 1800},\n",
       "  mean: 0.33677, std: 0.03376, params: {'max_depth': 1, 'min_samples_split': 2000},\n",
       "  mean: 0.34208, std: 0.03548, params: {'max_depth': 2, 'min_samples_split': 200},\n",
       "  mean: 0.34208, std: 0.03548, params: {'max_depth': 2, 'min_samples_split': 400},\n",
       "  mean: 0.34208, std: 0.03548, params: {'max_depth': 2, 'min_samples_split': 600},\n",
       "  mean: 0.34208, std: 0.03548, params: {'max_depth': 2, 'min_samples_split': 800},\n",
       "  mean: 0.34173, std: 0.03499, params: {'max_depth': 2, 'min_samples_split': 1000},\n",
       "  mean: 0.34491, std: 0.03613, params: {'max_depth': 2, 'min_samples_split': 1200},\n",
       "  mean: 0.34491, std: 0.03613, params: {'max_depth': 2, 'min_samples_split': 1400},\n",
       "  mean: 0.34491, std: 0.03613, params: {'max_depth': 2, 'min_samples_split': 1600},\n",
       "  mean: 0.34491, std: 0.03613, params: {'max_depth': 2, 'min_samples_split': 1800},\n",
       "  mean: 0.34491, std: 0.03613, params: {'max_depth': 2, 'min_samples_split': 2000},\n",
       "  mean: 0.34952, std: 0.03678, params: {'max_depth': 3, 'min_samples_split': 200},\n",
       "  mean: 0.34562, std: 0.03789, params: {'max_depth': 3, 'min_samples_split': 400},\n",
       "  mean: 0.34385, std: 0.03815, params: {'max_depth': 3, 'min_samples_split': 600},\n",
       "  mean: 0.34279, std: 0.03477, params: {'max_depth': 3, 'min_samples_split': 800},\n",
       "  mean: 0.34314, std: 0.03549, params: {'max_depth': 3, 'min_samples_split': 1000},\n",
       "  mean: 0.34881, std: 0.03310, params: {'max_depth': 3, 'min_samples_split': 1200},\n",
       "  mean: 0.34881, std: 0.03310, params: {'max_depth': 3, 'min_samples_split': 1400},\n",
       "  mean: 0.34881, std: 0.03310, params: {'max_depth': 3, 'min_samples_split': 1600},\n",
       "  mean: 0.34951, std: 0.03256, params: {'max_depth': 3, 'min_samples_split': 1800},\n",
       "  mean: 0.35022, std: 0.03323, params: {'max_depth': 3, 'min_samples_split': 2000},\n",
       "  mean: 0.36475, std: 0.03722, params: {'max_depth': 4, 'min_samples_split': 200},\n",
       "  mean: 0.35873, std: 0.04206, params: {'max_depth': 4, 'min_samples_split': 400},\n",
       "  mean: 0.35200, std: 0.03546, params: {'max_depth': 4, 'min_samples_split': 600},\n",
       "  mean: 0.34668, std: 0.03928, params: {'max_depth': 4, 'min_samples_split': 800},\n",
       "  mean: 0.34704, std: 0.04120, params: {'max_depth': 4, 'min_samples_split': 1000},\n",
       "  mean: 0.35163, std: 0.03898, params: {'max_depth': 4, 'min_samples_split': 1200},\n",
       "  mean: 0.35163, std: 0.03898, params: {'max_depth': 4, 'min_samples_split': 1400},\n",
       "  mean: 0.35163, std: 0.03898, params: {'max_depth': 4, 'min_samples_split': 1600},\n",
       "  mean: 0.34420, std: 0.03180, params: {'max_depth': 4, 'min_samples_split': 1800},\n",
       "  mean: 0.34420, std: 0.03180, params: {'max_depth': 4, 'min_samples_split': 2000},\n",
       "  mean: 0.37360, std: 0.03012, params: {'max_depth': 5, 'min_samples_split': 200},\n",
       "  mean: 0.35979, std: 0.04036, params: {'max_depth': 5, 'min_samples_split': 400},\n",
       "  mean: 0.35448, std: 0.03991, params: {'max_depth': 5, 'min_samples_split': 600},\n",
       "  mean: 0.34881, std: 0.04118, params: {'max_depth': 5, 'min_samples_split': 800},\n",
       "  mean: 0.34704, std: 0.03981, params: {'max_depth': 5, 'min_samples_split': 1000},\n",
       "  mean: 0.34491, std: 0.04128, params: {'max_depth': 5, 'min_samples_split': 1200},\n",
       "  mean: 0.34491, std: 0.04128, params: {'max_depth': 5, 'min_samples_split': 1400},\n",
       "  mean: 0.34491, std: 0.04128, params: {'max_depth': 5, 'min_samples_split': 1600},\n",
       "  mean: 0.33818, std: 0.03288, params: {'max_depth': 5, 'min_samples_split': 1800},\n",
       "  mean: 0.33818, std: 0.03288, params: {'max_depth': 5, 'min_samples_split': 2000},\n",
       "  mean: 0.37678, std: 0.03156, params: {'max_depth': 6, 'min_samples_split': 200},\n",
       "  mean: 0.36297, std: 0.04026, params: {'max_depth': 6, 'min_samples_split': 400},\n",
       "  mean: 0.35200, std: 0.04288, params: {'max_depth': 6, 'min_samples_split': 600},\n",
       "  mean: 0.34845, std: 0.04065, params: {'max_depth': 6, 'min_samples_split': 800},\n",
       "  mean: 0.34598, std: 0.04029, params: {'max_depth': 6, 'min_samples_split': 1000},\n",
       "  mean: 0.34031, std: 0.03393, params: {'max_depth': 6, 'min_samples_split': 1200},\n",
       "  mean: 0.34491, std: 0.04128, params: {'max_depth': 6, 'min_samples_split': 1400},\n",
       "  mean: 0.34739, std: 0.04288, params: {'max_depth': 6, 'min_samples_split': 1600},\n",
       "  mean: 0.34278, std: 0.04006, params: {'max_depth': 6, 'min_samples_split': 1800},\n",
       "  mean: 0.34278, std: 0.04006, params: {'max_depth': 6, 'min_samples_split': 2000},\n",
       "  mean: 0.37891, std: 0.03189, params: {'max_depth': 7, 'min_samples_split': 200},\n",
       "  mean: 0.35766, std: 0.03768, params: {'max_depth': 7, 'min_samples_split': 400},\n",
       "  mean: 0.35094, std: 0.04180, params: {'max_depth': 7, 'min_samples_split': 600},\n",
       "  mean: 0.34881, std: 0.04096, params: {'max_depth': 7, 'min_samples_split': 800},\n",
       "  mean: 0.34704, std: 0.03981, params: {'max_depth': 7, 'min_samples_split': 1000},\n",
       "  mean: 0.34491, std: 0.04128, params: {'max_depth': 7, 'min_samples_split': 1200},\n",
       "  mean: 0.34491, std: 0.04128, params: {'max_depth': 7, 'min_samples_split': 1400},\n",
       "  mean: 0.34491, std: 0.04128, params: {'max_depth': 7, 'min_samples_split': 1600},\n",
       "  mean: 0.33818, std: 0.03288, params: {'max_depth': 7, 'min_samples_split': 1800},\n",
       "  mean: 0.34278, std: 0.04006, params: {'max_depth': 7, 'min_samples_split': 2000},\n",
       "  mean: 0.37679, std: 0.03476, params: {'max_depth': 8, 'min_samples_split': 200},\n",
       "  mean: 0.35908, std: 0.03626, params: {'max_depth': 8, 'min_samples_split': 400},\n",
       "  mean: 0.35094, std: 0.04180, params: {'max_depth': 8, 'min_samples_split': 600},\n",
       "  mean: 0.34810, std: 0.04036, params: {'max_depth': 8, 'min_samples_split': 800},\n",
       "  mean: 0.34704, std: 0.03981, params: {'max_depth': 8, 'min_samples_split': 1000},\n",
       "  mean: 0.34491, std: 0.04128, params: {'max_depth': 8, 'min_samples_split': 1200},\n",
       "  mean: 0.34491, std: 0.04128, params: {'max_depth': 8, 'min_samples_split': 1400},\n",
       "  mean: 0.34491, std: 0.04128, params: {'max_depth': 8, 'min_samples_split': 1600},\n",
       "  mean: 0.33818, std: 0.03288, params: {'max_depth': 8, 'min_samples_split': 1800},\n",
       "  mean: 0.34278, std: 0.04006, params: {'max_depth': 8, 'min_samples_split': 2000},\n",
       "  mean: 0.37714, std: 0.03480, params: {'max_depth': 9, 'min_samples_split': 200},\n",
       "  mean: 0.35908, std: 0.03626, params: {'max_depth': 9, 'min_samples_split': 400},\n",
       "  mean: 0.35271, std: 0.04019, params: {'max_depth': 9, 'min_samples_split': 600},\n",
       "  mean: 0.34810, std: 0.04036, params: {'max_depth': 9, 'min_samples_split': 800},\n",
       "  mean: 0.34704, std: 0.03981, params: {'max_depth': 9, 'min_samples_split': 1000},\n",
       "  mean: 0.34491, std: 0.04128, params: {'max_depth': 9, 'min_samples_split': 1200},\n",
       "  mean: 0.34491, std: 0.04128, params: {'max_depth': 9, 'min_samples_split': 1400},\n",
       "  mean: 0.34491, std: 0.04128, params: {'max_depth': 9, 'min_samples_split': 1600},\n",
       "  mean: 0.33818, std: 0.03288, params: {'max_depth': 9, 'min_samples_split': 1800},\n",
       "  mean: 0.34278, std: 0.04006, params: {'max_depth': 9, 'min_samples_split': 2000},\n",
       "  mean: 0.37997, std: 0.03551, params: {'max_depth': 10, 'min_samples_split': 200},\n",
       "  mean: 0.35908, std: 0.03626, params: {'max_depth': 10, 'min_samples_split': 400},\n",
       "  mean: 0.35164, std: 0.04145, params: {'max_depth': 10, 'min_samples_split': 600},\n",
       "  mean: 0.34810, std: 0.04036, params: {'max_depth': 10, 'min_samples_split': 800},\n",
       "  mean: 0.34704, std: 0.03981, params: {'max_depth': 10, 'min_samples_split': 1000},\n",
       "  mean: 0.34491, std: 0.04128, params: {'max_depth': 10, 'min_samples_split': 1200},\n",
       "  mean: 0.34491, std: 0.04128, params: {'max_depth': 10, 'min_samples_split': 1400},\n",
       "  mean: 0.34491, std: 0.04128, params: {'max_depth': 10, 'min_samples_split': 1600},\n",
       "  mean: 0.33818, std: 0.03288, params: {'max_depth': 10, 'min_samples_split': 1800},\n",
       "  mean: 0.34278, std: 0.04006, params: {'max_depth': 10, 'min_samples_split': 2000},\n",
       "  mean: 0.37997, std: 0.03551, params: {'max_depth': 11, 'min_samples_split': 200},\n",
       "  mean: 0.35660, std: 0.03834, params: {'max_depth': 11, 'min_samples_split': 400},\n",
       "  mean: 0.35164, std: 0.04145, params: {'max_depth': 11, 'min_samples_split': 600},\n",
       "  mean: 0.34810, std: 0.04036, params: {'max_depth': 11, 'min_samples_split': 800},\n",
       "  mean: 0.34704, std: 0.03981, params: {'max_depth': 11, 'min_samples_split': 1000},\n",
       "  mean: 0.34491, std: 0.04128, params: {'max_depth': 11, 'min_samples_split': 1200},\n",
       "  mean: 0.34491, std: 0.04128, params: {'max_depth': 11, 'min_samples_split': 1400},\n",
       "  mean: 0.34491, std: 0.04128, params: {'max_depth': 11, 'min_samples_split': 1600},\n",
       "  mean: 0.33818, std: 0.03288, params: {'max_depth': 11, 'min_samples_split': 1800},\n",
       "  mean: 0.34278, std: 0.04006, params: {'max_depth': 11, 'min_samples_split': 2000},\n",
       "  mean: 0.37997, std: 0.03551, params: {'max_depth': 12, 'min_samples_split': 200},\n",
       "  mean: 0.35660, std: 0.03834, params: {'max_depth': 12, 'min_samples_split': 400},\n",
       "  mean: 0.35164, std: 0.04145, params: {'max_depth': 12, 'min_samples_split': 600},\n",
       "  mean: 0.34810, std: 0.04036, params: {'max_depth': 12, 'min_samples_split': 800},\n",
       "  mean: 0.34704, std: 0.03981, params: {'max_depth': 12, 'min_samples_split': 1000},\n",
       "  mean: 0.34491, std: 0.04128, params: {'max_depth': 12, 'min_samples_split': 1200},\n",
       "  mean: 0.34491, std: 0.04128, params: {'max_depth': 12, 'min_samples_split': 1400},\n",
       "  mean: 0.34491, std: 0.04128, params: {'max_depth': 12, 'min_samples_split': 1600},\n",
       "  mean: 0.33818, std: 0.03288, params: {'max_depth': 12, 'min_samples_split': 1800},\n",
       "  mean: 0.34278, std: 0.04006, params: {'max_depth': 12, 'min_samples_split': 2000},\n",
       "  mean: 0.37820, std: 0.03486, params: {'max_depth': 13, 'min_samples_split': 200},\n",
       "  mean: 0.35660, std: 0.03834, params: {'max_depth': 13, 'min_samples_split': 400},\n",
       "  mean: 0.35164, std: 0.04145, params: {'max_depth': 13, 'min_samples_split': 600},\n",
       "  mean: 0.34810, std: 0.04036, params: {'max_depth': 13, 'min_samples_split': 800},\n",
       "  mean: 0.34704, std: 0.03981, params: {'max_depth': 13, 'min_samples_split': 1000},\n",
       "  mean: 0.34491, std: 0.04128, params: {'max_depth': 13, 'min_samples_split': 1200},\n",
       "  mean: 0.34491, std: 0.04128, params: {'max_depth': 13, 'min_samples_split': 1400},\n",
       "  mean: 0.34491, std: 0.04128, params: {'max_depth': 13, 'min_samples_split': 1600},\n",
       "  mean: 0.33818, std: 0.03288, params: {'max_depth': 13, 'min_samples_split': 1800},\n",
       "  mean: 0.34278, std: 0.04006, params: {'max_depth': 13, 'min_samples_split': 2000},\n",
       "  mean: 0.37820, std: 0.03486, params: {'max_depth': 14, 'min_samples_split': 200},\n",
       "  mean: 0.35660, std: 0.03834, params: {'max_depth': 14, 'min_samples_split': 400},\n",
       "  mean: 0.35164, std: 0.04145, params: {'max_depth': 14, 'min_samples_split': 600},\n",
       "  mean: 0.34810, std: 0.04036, params: {'max_depth': 14, 'min_samples_split': 800},\n",
       "  mean: 0.34704, std: 0.03981, params: {'max_depth': 14, 'min_samples_split': 1000},\n",
       "  mean: 0.34491, std: 0.04128, params: {'max_depth': 14, 'min_samples_split': 1200},\n",
       "  mean: 0.34491, std: 0.04128, params: {'max_depth': 14, 'min_samples_split': 1400},\n",
       "  mean: 0.34491, std: 0.04128, params: {'max_depth': 14, 'min_samples_split': 1600},\n",
       "  mean: 0.33818, std: 0.03288, params: {'max_depth': 14, 'min_samples_split': 1800},\n",
       "  mean: 0.34278, std: 0.04006, params: {'max_depth': 14, 'min_samples_split': 2000},\n",
       "  mean: 0.37820, std: 0.03486, params: {'max_depth': 15, 'min_samples_split': 200},\n",
       "  mean: 0.35660, std: 0.03834, params: {'max_depth': 15, 'min_samples_split': 400},\n",
       "  mean: 0.35164, std: 0.04145, params: {'max_depth': 15, 'min_samples_split': 600},\n",
       "  mean: 0.34810, std: 0.04036, params: {'max_depth': 15, 'min_samples_split': 800},\n",
       "  mean: 0.34704, std: 0.03981, params: {'max_depth': 15, 'min_samples_split': 1000},\n",
       "  mean: 0.34491, std: 0.04128, params: {'max_depth': 15, 'min_samples_split': 1200},\n",
       "  mean: 0.34491, std: 0.04128, params: {'max_depth': 15, 'min_samples_split': 1400},\n",
       "  mean: 0.34491, std: 0.04128, params: {'max_depth': 15, 'min_samples_split': 1600},\n",
       "  mean: 0.33818, std: 0.03288, params: {'max_depth': 15, 'min_samples_split': 1800},\n",
       "  mean: 0.34278, std: 0.04006, params: {'max_depth': 15, 'min_samples_split': 2000}],\n",
       " {'max_depth': 10, 'min_samples_split': 200},\n",
       " 0.37997050147492628)"
      ]
     },
     "execution_count": 340,
     "metadata": {},
     "output_type": "execute_result"
    }
   ],
   "source": [
    "param_test2 = {'max_depth':range(1,16,1), 'min_samples_split':range(200,2001,200)}\n",
    "gsearch2 = GridSearchCV(estimator = clf2, \n",
    "param_grid = param_test2, scoring='recall',n_jobs=4,iid=False, cv=5)\n",
    "gsearch2.fit(X_train,y_train)\n",
    "gsearch2.grid_scores_, gsearch2.best_params_, gsearch2.best_score_"
   ]
  },
  {
   "cell_type": "code",
   "execution_count": 341,
   "metadata": {},
   "outputs": [
    {
     "name": "stdout",
     "output_type": "stream",
     "text": [
      "Training set accuracy:\n",
      "Percent Type I errors: 0.02386797599563557\n",
      "Percent Type II errors: 0.22995090016366612\n",
      "\n",
      "Test set accuracy:\n",
      "Percent Type I errors: 0.0343558282208589\n",
      "Percent Type II errors: 0.2294478527607362\n"
     ]
    }
   ],
   "source": [
    "params3 = {'loss': 'deviance',\n",
    "          'min_samples_split': 200,\n",
    "          'min_samples_leaf': 60,\n",
    "          'max_features': 3,\n",
    "          'random_state': 10,\n",
    "          'learning_rate': 0.06,\n",
    "           'n_estimators': 11,\n",
    "          'max_depth': 10,\n",
    "         'subsample': 1}\n",
    "\n",
    "# Initialize and fit the model.\n",
    "clf3 = ensemble.GradientBoostingClassifier(**params3)\n",
    "clf3.fit(X_train, y_train)\n",
    "\n",
    "predict_train = clf3.predict(X_train)\n",
    "predict_test = clf3.predict(X_test)\n",
    "\n",
    "# Accuracy tables.\n",
    "table_train = pd.crosstab(y_train, predict_train, margins=True)\n",
    "table_test = pd.crosstab(y_test, predict_test, margins=True)\n",
    "\n",
    "train_tI_errors = table_train.loc[0.0,1.0] / table_train.loc['All','All']\n",
    "train_tII_errors = table_train.loc[1.0,0.0] / table_train.loc['All','All']\n",
    "\n",
    "test_tI_errors = table_test.loc[0.0,1.0]/table_test.loc['All','All']\n",
    "test_tII_errors = table_test.loc[1.0,0.0]/table_test.loc['All','All']\n",
    "\n",
    "print((\n",
    "    'Training set accuracy:\\n'\n",
    "    'Percent Type I errors: {}\\n'\n",
    "    'Percent Type II errors: {}\\n\\n'\n",
    "    'Test set accuracy:\\n'\n",
    "    'Percent Type I errors: {}\\n'\n",
    "    'Percent Type II errors: {}'\n",
    ").format(train_tI_errors, train_tII_errors, test_tI_errors, test_tII_errors))"
   ]
  },
  {
   "cell_type": "code",
   "execution_count": 342,
   "metadata": {},
   "outputs": [
    {
     "name": "stderr",
     "output_type": "stream",
     "text": [
      "D:\\Users\\Borja.gonzalez\\AppData\\Local\\Continuum\\anaconda3\\lib\\site-packages\\sklearn\\model_selection\\_search.py:761: DeprecationWarning: The grid_scores_ attribute was deprecated in version 0.18 in favor of the more elaborate cv_results_ attribute. The grid_scores_ attribute will not be available from 0.20\n",
      "  DeprecationWarning)\n"
     ]
    },
    {
     "data": {
      "text/plain": [
       "([mean: 0.85573, std: 0.04010, params: {'min_samples_leaf': 10, 'max_features': 1},\n",
       "  mean: 0.85757, std: 0.04014, params: {'min_samples_leaf': 20, 'max_features': 1},\n",
       "  mean: 0.86275, std: 0.04726, params: {'min_samples_leaf': 30, 'max_features': 1},\n",
       "  mean: 0.85865, std: 0.03717, params: {'min_samples_leaf': 40, 'max_features': 1},\n",
       "  mean: 0.86444, std: 0.04267, params: {'min_samples_leaf': 50, 'max_features': 1},\n",
       "  mean: 0.87300, std: 0.05322, params: {'min_samples_leaf': 60, 'max_features': 1},\n",
       "  mean: 0.87793, std: 0.05080, params: {'min_samples_leaf': 70, 'max_features': 1},\n",
       "  mean: 0.86841, std: 0.04864, params: {'min_samples_leaf': 80, 'max_features': 1},\n",
       "  mean: 0.87523, std: 0.04711, params: {'min_samples_leaf': 90, 'max_features': 1},\n",
       "  mean: 0.83852, std: 0.03123, params: {'min_samples_leaf': 10, 'max_features': 2},\n",
       "  mean: 0.83280, std: 0.03493, params: {'min_samples_leaf': 20, 'max_features': 2},\n",
       "  mean: 0.83963, std: 0.04506, params: {'min_samples_leaf': 30, 'max_features': 2},\n",
       "  mean: 0.84717, std: 0.03899, params: {'min_samples_leaf': 40, 'max_features': 2},\n",
       "  mean: 0.84786, std: 0.02904, params: {'min_samples_leaf': 50, 'max_features': 2},\n",
       "  mean: 0.85047, std: 0.02866, params: {'min_samples_leaf': 60, 'max_features': 2},\n",
       "  mean: 0.84871, std: 0.02979, params: {'min_samples_leaf': 70, 'max_features': 2},\n",
       "  mean: 0.85309, std: 0.03445, params: {'min_samples_leaf': 80, 'max_features': 2},\n",
       "  mean: 0.85336, std: 0.03992, params: {'min_samples_leaf': 90, 'max_features': 2}],\n",
       " {'max_features': 1, 'min_samples_leaf': 70},\n",
       " 0.87793179665634113)"
      ]
     },
     "execution_count": 342,
     "metadata": {},
     "output_type": "execute_result"
    }
   ],
   "source": [
    "param_test3 = {'max_features':range(1,3,1), 'min_samples_leaf':range(10,100,10)}\n",
    "gsearch3 = GridSearchCV(estimator = clf3, \n",
    "param_grid = param_test3, scoring='precision',n_jobs=4,iid=False, cv=5)\n",
    "gsearch3.fit(X_train,y_train)\n",
    "gsearch3.grid_scores_, gsearch3.best_params_, gsearch3.best_score_"
   ]
  },
  {
   "cell_type": "code",
   "execution_count": 343,
   "metadata": {},
   "outputs": [
    {
     "name": "stdout",
     "output_type": "stream",
     "text": [
      "Training set accuracy:\n",
      "Percent Type I errors: 0.017866884888161485\n",
      "Percent Type II errors: 0.23990725586470268\n",
      "\n",
      "Test set accuracy:\n",
      "Percent Type I errors: 0.03067484662576687\n",
      "Percent Type II errors: 0.23067484662576687\n"
     ]
    }
   ],
   "source": [
    "params4 = {'loss': 'deviance',\n",
    "          'min_samples_split': 200,\n",
    "          'min_samples_leaf': 70,\n",
    "          'max_features': 1,\n",
    "          'random_state': 10,\n",
    "          'learning_rate': 0.06,\n",
    "           'n_estimators': 11,\n",
    "          'max_depth': 10,\n",
    "         'subsample': 1}\n",
    "\n",
    "# Initialize and fit the model.\n",
    "clf4 = ensemble.GradientBoostingClassifier(**params4)\n",
    "clf4.fit(X_train, y_train)\n",
    "\n",
    "predict_train = clf4.predict(X_train)\n",
    "predict_test = clf4.predict(X_test)\n",
    "\n",
    "# Accuracy tables.\n",
    "table_train = pd.crosstab(y_train, predict_train, margins=True)\n",
    "table_test = pd.crosstab(y_test, predict_test, margins=True)\n",
    "\n",
    "train_tI_errors = table_train.loc[0.0,1.0] / table_train.loc['All','All']\n",
    "train_tII_errors = table_train.loc[1.0,0.0] / table_train.loc['All','All']\n",
    "\n",
    "test_tI_errors = table_test.loc[0.0,1.0]/table_test.loc['All','All']\n",
    "test_tII_errors = table_test.loc[1.0,0.0]/table_test.loc['All','All']\n",
    "\n",
    "print((\n",
    "    'Training set accuracy:\\n'\n",
    "    'Percent Type I errors: {}\\n'\n",
    "    'Percent Type II errors: {}\\n\\n'\n",
    "    'Test set accuracy:\\n'\n",
    "    'Percent Type I errors: {}\\n'\n",
    "    'Percent Type II errors: {}'\n",
    ").format(train_tI_errors, train_tII_errors, test_tI_errors, test_tII_errors))"
   ]
  },
  {
   "cell_type": "code",
   "execution_count": 344,
   "metadata": {},
   "outputs": [
    {
     "name": "stderr",
     "output_type": "stream",
     "text": [
      "D:\\Users\\Borja.gonzalez\\AppData\\Local\\Continuum\\anaconda3\\lib\\site-packages\\sklearn\\model_selection\\_search.py:761: DeprecationWarning: The grid_scores_ attribute was deprecated in version 0.18 in favor of the more elaborate cv_results_ attribute. The grid_scores_ attribute will not be available from 0.20\n",
      "  DeprecationWarning)\n"
     ]
    },
    {
     "data": {
      "text/plain": [
       "([mean: 0.87489, std: 0.04975, params: {'min_impurity_decrease': 1},\n",
       "  mean: 0.89578, std: 0.04101, params: {'min_impurity_decrease': 11},\n",
       "  mean: 0.90458, std: 0.03584, params: {'min_impurity_decrease': 21},\n",
       "  mean: 0.90830, std: 0.03914, params: {'min_impurity_decrease': 31},\n",
       "  mean: 0.00000, std: 0.00000, params: {'min_impurity_decrease': 41},\n",
       "  mean: 0.00000, std: 0.00000, params: {'min_impurity_decrease': 51},\n",
       "  mean: 0.00000, std: 0.00000, params: {'min_impurity_decrease': 61},\n",
       "  mean: 0.00000, std: 0.00000, params: {'min_impurity_decrease': 71},\n",
       "  mean: 0.00000, std: 0.00000, params: {'min_impurity_decrease': 81},\n",
       "  mean: 0.00000, std: 0.00000, params: {'min_impurity_decrease': 91}],\n",
       " {'min_impurity_decrease': 31},\n",
       " 0.9083003952508889)"
      ]
     },
     "execution_count": 344,
     "metadata": {},
     "output_type": "execute_result"
    }
   ],
   "source": [
    "param_test4 = {'min_impurity_decrease':range(1,100,10)}\n",
    "\n",
    "gsearch4 = GridSearchCV(estimator = clf4, \n",
    "param_grid = param_test4, scoring='precision',n_jobs=4,iid=False, cv=5)\n",
    "gsearch4.fit(X_train,y_train)\n",
    "gsearch4.grid_scores_, gsearch4.best_params_, gsearch4.best_score_"
   ]
  },
  {
   "cell_type": "code",
   "execution_count": 345,
   "metadata": {},
   "outputs": [
    {
     "name": "stderr",
     "output_type": "stream",
     "text": [
      "D:\\Users\\Borja.gonzalez\\AppData\\Local\\Continuum\\anaconda3\\lib\\site-packages\\sklearn\\model_selection\\_search.py:761: DeprecationWarning: The grid_scores_ attribute was deprecated in version 0.18 in favor of the more elaborate cv_results_ attribute. The grid_scores_ attribute will not be available from 0.20\n",
      "  DeprecationWarning)\n"
     ]
    },
    {
     "data": {
      "text/plain": [
       "([mean: 0.91978, std: 0.03919, params: {'learning_rate': 0.050000000000000003},\n",
       "  mean: 0.89580, std: 0.04432, params: {'learning_rate': 0.065000000000000002},\n",
       "  mean: 0.87809, std: 0.05483, params: {'learning_rate': 0.080000000000000016},\n",
       "  mean: 0.87013, std: 0.03984, params: {'learning_rate': 0.095000000000000015},\n",
       "  mean: 0.85761, std: 0.03850, params: {'learning_rate': 0.11000000000000001},\n",
       "  mean: 0.85449, std: 0.03474, params: {'learning_rate': 0.125},\n",
       "  mean: 0.83729, std: 0.03373, params: {'learning_rate': 0.14000000000000001},\n",
       "  mean: 0.83640, std: 0.03386, params: {'learning_rate': 0.15500000000000003},\n",
       "  mean: 0.82379, std: 0.02679, params: {'learning_rate': 0.17000000000000004},\n",
       "  mean: 0.81230, std: 0.02916, params: {'learning_rate': 0.18500000000000005},\n",
       "  mean: 0.80286, std: 0.03054, params: {'learning_rate': 0.20000000000000001}],\n",
       " {'learning_rate': 0.050000000000000003},\n",
       " 0.919784329140235)"
      ]
     },
     "execution_count": 345,
     "metadata": {},
     "output_type": "execute_result"
    }
   ],
   "source": [
    "param_test5 = {'learning_rate':np.linspace(0.05,0.2,11)}\n",
    "\n",
    "gsearch5 = GridSearchCV(estimator = clf5, \n",
    "param_grid = param_test5, scoring='precision',n_jobs=4,iid=False, cv=5)\n",
    "gsearch5.fit(X_train,y_train)\n",
    "gsearch5.grid_scores_, gsearch5.best_params_, gsearch5.best_score_"
   ]
  },
  {
   "cell_type": "code",
   "execution_count": 347,
   "metadata": {},
   "outputs": [
    {
     "name": "stdout",
     "output_type": "stream",
     "text": [
      "Training set accuracy:\n",
      "Percent Type I errors: 0.009274413529732678\n",
      "Percent Type II errors: 0.28614293507910527\n",
      "\n",
      "Test set accuracy:\n",
      "Percent Type I errors: 0.012269938650306749\n",
      "Percent Type II errors: 0.2773006134969325\n"
     ]
    }
   ],
   "source": [
    "params5 = {'loss': 'deviance',\n",
    "          'min_samples_split': 200,\n",
    "          'min_samples_leaf': 70,\n",
    "          'max_features': 1,\n",
    "          'random_state': 10,\n",
    "          'learning_rate': 0.05,\n",
    "           'n_estimators': 11,\n",
    "          'max_depth': 10,\n",
    "           'min_impurity_decrease': 31,\n",
    "         'subsample': 1}\n",
    "\n",
    "# Initialize and fit the model.\n",
    "clf5 = ensemble.GradientBoostingClassifier(**params5)\n",
    "clf5.fit(X_train, y_train)\n",
    "\n",
    "predict_train = clf5.predict(X_train)\n",
    "predict_test = clf5.predict(X_test)\n",
    "\n",
    "# Accuracy tables.\n",
    "table_train = pd.crosstab(y_train, predict_train, margins=True)\n",
    "table_test = pd.crosstab(y_test, predict_test, margins=True)\n",
    "\n",
    "train_tI_errors = table_train.loc[0.0,1.0] / table_train.loc['All','All']\n",
    "train_tII_errors = table_train.loc[1.0,0.0] / table_train.loc['All','All']\n",
    "\n",
    "test_tI_errors = table_test.loc[0.0,1.0]/table_test.loc['All','All']\n",
    "test_tII_errors = table_test.loc[1.0,0.0]/table_test.loc['All','All']\n",
    "\n",
    "print((\n",
    "    'Training set accuracy:\\n'\n",
    "    'Percent Type I errors: {}\\n'\n",
    "    'Percent Type II errors: {}\\n\\n'\n",
    "    'Test set accuracy:\\n'\n",
    "    'Percent Type I errors: {}\\n'\n",
    "    'Percent Type II errors: {}'\n",
    ").format(train_tI_errors, train_tII_errors, test_tI_errors, test_tII_errors))"
   ]
  },
  {
   "cell_type": "code",
   "execution_count": 348,
   "metadata": {},
   "outputs": [
    {
     "data": {
      "image/png": "[encoded data removed]",
      "text/plain": [
       "<matplotlib.figure.Figure at 0x1dac1473080>"
      ]
     },
     "metadata": {},
     "output_type": "display_data"
    }
   ],
   "source": [
    "feature_importance = clf.feature_importances_\n",
    "\n",
    "# Make importances relative to max importance.\n",
    "feature_importance = 100.0 * (feature_importance / feature_importance.max())\n",
    "sorted_idx = np.argsort(feature_importance)\n",
    "pos = np.arange(sorted_idx.shape[0]) + .5\n",
    "plt.subplot(1, 2, 2)\n",
    "plt.barh(pos, feature_importance[sorted_idx], align='center')\n",
    "plt.yticks(pos, X.columns[sorted_idx])\n",
    "plt.xlabel('Relative Importance')\n",
    "plt.title('Variable Importance')\n",
    "plt.show()"
   ]
  },
  {
   "cell_type": "code",
   "execution_count": null,
   "metadata": {
    "collapsed": true
   },
   "outputs": [],
   "source": []
  }
 ],
 "metadata": {
  "kernelspec": {
   "display_name": "Python 3",
   "language": "python",
   "name": "python3"
  },
  "language_info": {
   "codemirror_mode": {
    "name": "ipython",
    "version": 3
   },
   "file_extension": ".py",
   "mimetype": "text/x-python",
   "name": "python",
   "nbconvert_exporter": "python",
   "pygments_lexer": "ipython3",
   "version": "3.5.4"
  }
 },
 "nbformat": 4,
 "nbformat_minor": 2
}
