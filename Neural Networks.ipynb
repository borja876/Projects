{
 "cells": [
  {
   "cell_type": "code",
   "execution_count": 1,
   "metadata": {},
   "outputs": [],
   "source": [
    "import codecs\n",
    "import glob\n",
    "import logging\n",
    "import os\n",
    "import re\n",
    "import scipy\n",
    "import spacy\n",
    "import logging\n",
    "import sys\n",
    "import string\n",
    "import warnings\n",
    "import numpy as np\n",
    "import pandas as pd\n",
    "import seaborn as sns\n",
    "from scipy.stats import mode\n",
    "from time import time\n",
    "from string import punctuation\n",
    "from nltk.corpus import gutenberg, stopwords\n",
    "from nltk.stem.wordnet import WordNetLemmatizer\n",
    "from nltk.stem import PorterStemmer\n",
    "from nltk.tokenize import sent_tokenize\n",
    "from sklearn.model_selection import train_test_split,cross_val_score\n",
    "from keras.layers.embeddings import Embedding\n",
    "from keras.preprocessing import sequence\n",
    "import tensorflow as tf\n",
    "import keras\n",
    "from keras.models import Sequential\n",
    "from keras.layers import Dense, Dropout, Flatten, Conv1D, MaxPooling1D\n",
    "from keras.layers import LSTM, Input, TimeDistributed\n",
    "from keras.models import Model\n",
    "from sklearn.preprocessing import LabelEncoder\n",
    "from keras.utils import np_utils\n",
    "from keras.optimizers import RMSprop\n",
    "from keras.preprocessing.text import Tokenizer\n",
    "from keras import backend as K\n",
    "%matplotlib inline"
   ]
  },
  {
   "cell_type": "markdown",
   "metadata": {},
   "source": [
    "### Introduction ###"
   ]
  },
  {
   "cell_type": "markdown",
   "metadata": {},
   "source": [
    "The purpose of this exercise is to classify authors using different novels that they have written. In this case, five different implementations of neural networks using Tensorflow and Keras have been used and tuned. Results are compared between them in terms of accuracy and complexity of each model.\n",
    "\n",
    "Regarding the corpus the dataset has benn picked up randomly from the Gutenberg project and it is the same copus used in the unsupervides capstone project presented earlier. This project shares the initial cleasing stage with the capstone project. The authors that have been picked are:\n",
    "\n",
    "1. Jane Austen\n",
    "2. Chesterton\n",
    "3. Conan Doyle\n",
    "4. Charles Dickens\n",
    "5. Elliot\n",
    "6. Huxley\n",
    "7. Shakespeare\n",
    "8. Shaw\n",
    "9. H.G. Wells\n",
    "10. Oscar Wilde\n",
    "\n",
    "In this notebook we will see the following steps:\n",
    "\n",
    "1. Retreive and store the data creating the dataset\n",
    "2. Cleanse and parse and tokenize texts\n",
    "3. Multi Layer Perceptron\n",
    "4. Simple LTSM\n",
    "5. LTSM with Dropout\n",
    "6. LTSM & Convolutional Neural Network\n",
    "7. LTSM & Recurrent Neural Network\n",
    "8. Conclusions"
   ]
  },
  {
   "cell_type": "markdown",
   "metadata": {},
   "source": [
    "### 1. Retreive and store data creating the dataset ###"
   ]
  },
  {
   "cell_type": "markdown",
   "metadata": {},
   "source": [
    "Seven novels from ten different authors have been retreived form Gutenberg project and a list of all the book files is created."
   ]
  },
  {
   "cell_type": "code",
   "execution_count": 2,
   "metadata": {},
   "outputs": [],
   "source": [
    "# Create a list of all of our book files.\n",
    "book_filenames_austen = sorted(glob.glob(\"/home/borjaregueral/train/austen/*.txt\"))\n",
    "book_filenames_chesterton = sorted(glob.glob(\"/home/borjaregueral/train/chesterton/*.txt\"))\n",
    "book_filenames_conandoyle = sorted(glob.glob(\"/home/borjaregueral/train/conandoyle/*.txt\"))\n",
    "book_filenames_dickens = sorted(glob.glob(\"/home/borjaregueral/train/dickens/*.txt\"))\n",
    "book_filenames_elliot = sorted(glob.glob(\"/home/borjaregueral/train/elliot/*.txt\"))\n",
    "book_filenames_huxley = sorted(glob.glob(\"/home/borjaregueral/train/huxley/*.txt\"))\n",
    "book_filenames_shakespeare = sorted(glob.glob(\"/home/borjaregueral/train/shakespeare/*.txt\"))\n",
    "book_filenames_shaw = sorted(glob.glob(\"/home/borjaregueral/train/shaw/*.txt\"))\n",
    "book_filenames_wells = sorted(glob.glob(\"/home/borjaregueral/train/wells/*.txt\"))\n",
    "book_filenames_wilde = sorted(glob.glob(\"/home/borjaregueral/train/wilde/*.txt\"))"
   ]
  },
  {
   "cell_type": "markdown",
   "metadata": {},
   "source": [
    "The information is added to the copus and stored as raw books so that they can be cleansed"
   ]
  },
  {
   "cell_type": "code",
   "execution_count": 3,
   "metadata": {},
   "outputs": [
    {
     "name": "stdout",
     "output_type": "stream",
     "text": [
      "Reading '/home/borjaregueral/train/austen/austen-emma.txt'...\n",
      "Corpus is now 795775 characters long\n",
      "\n",
      "Reading '/home/borjaregueral/train/austen/austen-loveandfriendship.txt'...\n",
      "Corpus is now 980773 characters long\n",
      "\n",
      "Reading '/home/borjaregueral/train/austen/austen-mansfield.txt'...\n",
      "Corpus is now 1549557 characters long\n",
      "\n",
      "Reading '/home/borjaregueral/train/austen/austen-northanger.txt'...\n",
      "Corpus is now 1990819 characters long\n",
      "\n",
      "Reading '/home/borjaregueral/train/austen/austen-persuasion.txt'...\n",
      "Corpus is now 2457111 characters long\n",
      "\n",
      "Reading '/home/borjaregueral/train/austen/austen-pride_and_prejudice.txt'...\n",
      "Corpus is now 3167694 characters long\n",
      "\n",
      "Reading '/home/borjaregueral/train/chesterton/chesterton-allthingsconsidered.txt'...\n",
      "Corpus is now 337803 characters long\n",
      "\n",
      "Reading '/home/borjaregueral/train/chesterton/chesterton-ballad.txt'...\n",
      "Corpus is now 452044 characters long\n",
      "\n",
      "Reading '/home/borjaregueral/train/chesterton/chesterton-brown.txt'...\n",
      "Corpus is now 858673 characters long\n",
      "\n",
      "Reading '/home/borjaregueral/train/chesterton/chesterton-heretics.txt'...\n",
      "Corpus is now 1206602 characters long\n",
      "\n",
      "Reading '/home/borjaregueral/train/chesterton/chesterton-innocence.txt'...\n",
      "Corpus is now 1655080 characters long\n",
      "\n",
      "Reading '/home/borjaregueral/train/chesterton/chesterton-manknewtoomuch.txt'...\n",
      "Corpus is now 1988969 characters long\n",
      "\n",
      "Reading '/home/borjaregueral/train/conandoyle/conandoyle-lostworld.txt'...\n",
      "Corpus is now 424038 characters long\n",
      "\n",
      "Reading '/home/borjaregueral/train/conandoyle/conandoyle-returnofsh.txt'...\n",
      "Corpus is now 1033223 characters long\n",
      "\n",
      "Reading '/home/borjaregueral/train/conandoyle/conandoyle-signofthefour.txt'...\n",
      "Corpus is now 1266584 characters long\n",
      "\n",
      "Reading '/home/borjaregueral/train/conandoyle/conandoyle-studyinscarlet.txt'...\n",
      "Corpus is now 1509528 characters long\n",
      "\n",
      "Reading '/home/borjaregueral/train/conandoyle/conandoyle-talesofterror.txt'...\n",
      "Corpus is now 1929528 characters long\n",
      "\n",
      "Reading '/home/borjaregueral/train/conandoyle/conandoyle-whitecompany.txt'...\n",
      "Corpus is now 2755298 characters long\n",
      "\n",
      "Reading '/home/borjaregueral/train/dickens/dickens-childrenstories.txt'...\n",
      "Corpus is now 102958 characters long\n",
      "\n",
      "Reading '/home/borjaregueral/train/dickens/dickens-christmascarol.txt'...\n",
      "Corpus is now 268260 characters long\n",
      "\n",
      "Reading '/home/borjaregueral/train/dickens/dickens-cricketontheearth.txt'...\n",
      "Corpus is now 448410 characters long\n",
      "\n",
      "Reading '/home/borjaregueral/train/dickens/dickens-greatexpectations.txt'...\n",
      "Corpus is now 1024911 characters long\n",
      "\n",
      "Reading '/home/borjaregueral/train/dickens/dickens-messagefromthesea.txt'...\n",
      "Corpus is now 1093547 characters long\n",
      "\n",
      "Reading '/home/borjaregueral/train/dickens/dickens-mutualfriend.txt'...\n",
      "Corpus is now 2192797 characters long\n",
      "\n",
      "Reading '/home/borjaregueral/train/elliot/elliot-adambede.txt'...\n",
      "Corpus is now 1195716 characters long\n",
      "\n",
      "Reading '/home/borjaregueral/train/elliot/elliot-deronda.txt'...\n",
      "Corpus is now 1999374 characters long\n",
      "\n",
      "Reading '/home/borjaregueral/train/elliot/elliot-felixholt.txt'...\n",
      "Corpus is now 3020234 characters long\n",
      "\n",
      "Reading '/home/borjaregueral/train/elliot/elliot-impressions.txt'...\n",
      "Corpus is now 3362988 characters long\n",
      "\n",
      "Reading '/home/borjaregueral/train/elliot/elliot-liftedveil.txt'...\n",
      "Corpus is now 3462331 characters long\n",
      "\n",
      "Reading '/home/borjaregueral/train/elliot/elliot-middlemarch.txt'...\n",
      "Corpus is now 4440095 characters long\n",
      "\n",
      "Reading '/home/borjaregueral/train/huxley/huxley-autobiography.txt'...\n",
      "Corpus is now 320045 characters long\n",
      "\n",
      "Reading '/home/borjaregueral/train/huxley/huxley-evolutionethics.txt'...\n",
      "Corpus is now 905999 characters long\n",
      "\n",
      "Reading '/home/borjaregueral/train/huxley/huxley-gladstone.txt'...\n",
      "Corpus is now 961070 characters long\n",
      "\n",
      "Reading '/home/borjaregueral/train/huxley/huxley-hume.txt'...\n",
      "Corpus is now 1344031 characters long\n",
      "\n",
      "Reading '/home/borjaregueral/train/huxley/huxley-methodofzadig.txt'...\n",
      "Corpus is now 1377574 characters long\n",
      "\n",
      "Reading '/home/borjaregueral/train/huxley/huxley-originofspecies.txt'...\n",
      "Corpus is now 1461388 characters long\n",
      "\n",
      "Reading '/home/borjaregueral/train/shakespeare/shakespeare-henryv.txt'...\n",
      "Corpus is now 154106 characters long\n",
      "\n",
      "Reading '/home/borjaregueral/train/shakespeare/shakespeare-macbeth.txt'...\n",
      "Corpus is now 254457 characters long\n",
      "\n",
      "Reading '/home/borjaregueral/train/shakespeare/shakespeare-merchantofvenice.txt'...\n",
      "Corpus is now 372013 characters long\n",
      "\n",
      "Reading '/home/borjaregueral/train/shakespeare/shakespeare-midsummernightsdream.txt'...\n",
      "Corpus is now 468263 characters long\n",
      "\n",
      "Reading '/home/borjaregueral/train/shakespeare/shakespeare-othello.txt'...\n",
      "Corpus is now 619192 characters long\n",
      "\n",
      "Reading '/home/borjaregueral/train/shakespeare/shakespeare-richard3.txt'...\n",
      "Corpus is now 810913 characters long\n",
      "\n",
      "Reading '/home/borjaregueral/train/shaw/shaw-barbara.txt'...\n",
      "Corpus is now 187464 characters long\n",
      "\n",
      "Reading '/home/borjaregueral/train/shaw/shaw-candida.txt'...\n",
      "Corpus is now 317306 characters long\n",
      "\n",
      "Reading '/home/borjaregueral/train/shaw/shaw-doctors.txt'...\n",
      "Corpus is now 498365 characters long\n",
      "\n",
      "Reading '/home/borjaregueral/train/shaw/shaw-heartbreak.txt'...\n",
      "Corpus is now 766405 characters long\n",
      "\n",
      "Reading '/home/borjaregueral/train/shaw/shaw-mandandsuperman.txt'...\n",
      "Corpus is now 1150457 characters long\n",
      "\n",
      "Reading '/home/borjaregueral/train/shaw/shaw-married.txt'...\n",
      "Corpus is now 1485657 characters long\n",
      "\n",
      "Reading '/home/borjaregueral/train/wells/wells-firstmeninthemoon.txt'...\n",
      "Corpus is now 386680 characters long\n",
      "\n",
      "Reading '/home/borjaregueral/train/wells/wells-futureamerica.txt'...\n",
      "Corpus is now 752816 characters long\n",
      "\n",
      "Reading '/home/borjaregueral/train/wells/wells-invisibleman.txt'...\n",
      "Corpus is now 1025166 characters long\n",
      "\n",
      "Reading '/home/borjaregueral/train/wells/wells-island.txt'...\n",
      "Corpus is now 1267068 characters long\n",
      "\n",
      "Reading '/home/borjaregueral/train/wells/wells-timemachine.txt'...\n",
      "Corpus is now 1446291 characters long\n",
      "\n",
      "Reading '/home/borjaregueral/train/wilde/wilde-canterville.txt'...\n",
      "Corpus is now 64302 characters long\n",
      "\n",
      "Reading '/home/borjaregueral/train/wilde/wilde-dorian.txt'...\n",
      "Corpus is now 497992 characters long\n",
      "\n",
      "Reading '/home/borjaregueral/train/wilde/wilde-goodwoman.txt'...\n",
      "Corpus is now 611499 characters long\n",
      "\n",
      "Reading '/home/borjaregueral/train/wilde/wilde-husband.txt'...\n",
      "Corpus is now 788834 characters long\n",
      "\n",
      "Reading '/home/borjaregueral/train/wilde/wilde-intentions.txt'...\n",
      "Corpus is now 1121413 characters long\n",
      "\n"
     ]
    }
   ],
   "source": [
    "#Read and add the text of each book to corpus_raw.\n",
    "corpus_raw_austen = u\"\"\n",
    "for book_filename in book_filenames_austen:\n",
    "    print(\"Reading '{0}'...\".format(book_filename))\n",
    "    with codecs.open(book_filename, \"r\", \"utf-8\") as book_file:\n",
    "        corpus_raw_austen += book_file.read()\n",
    "    print(\"Corpus is now {0} characters long\".format(len(corpus_raw_austen)))\n",
    "    print()\n",
    "    \n",
    "#Read and add the text of each book to corpus_raw.\n",
    "corpus_raw_chesterton = u\"\"\n",
    "for book_filename in book_filenames_chesterton:\n",
    "    print(\"Reading '{0}'...\".format(book_filename))\n",
    "    with codecs.open(book_filename, \"r\", \"utf-8\") as book_file:\n",
    "        corpus_raw_chesterton += book_file.read()\n",
    "    print(\"Corpus is now {0} characters long\".format(len(corpus_raw_chesterton)))\n",
    "    print()\n",
    "    \n",
    "#Read and add the text of each book to corpus_raw.\n",
    "corpus_raw_conandoyle = u\"\"\n",
    "for book_filename in book_filenames_conandoyle:\n",
    "    print(\"Reading '{0}'...\".format(book_filename))\n",
    "    with codecs.open(book_filename, \"r\", \"utf-8\") as book_file:\n",
    "        corpus_raw_conandoyle += book_file.read()\n",
    "    print(\"Corpus is now {0} characters long\".format(len(corpus_raw_conandoyle)))\n",
    "    print()\n",
    "\n",
    "#Read and add the text of each book to corpus_raw.\n",
    "corpus_raw_dickens = u\"\"\n",
    "for book_filename in book_filenames_dickens:\n",
    "    print(\"Reading '{0}'...\".format(book_filename))\n",
    "    with codecs.open(book_filename, \"r\", \"utf-8\") as book_file:\n",
    "        corpus_raw_dickens += book_file.read()\n",
    "    print(\"Corpus is now {0} characters long\".format(len(corpus_raw_dickens)))\n",
    "    print()\n",
    "\n",
    "#Read and add the text of each book to corpus_raw.\n",
    "corpus_raw_elliot = u\"\"\n",
    "for book_filename in book_filenames_elliot:\n",
    "    print(\"Reading '{0}'...\".format(book_filename))\n",
    "    with codecs.open(book_filename, \"r\", \"utf-8\") as book_file:\n",
    "        corpus_raw_elliot += book_file.read()\n",
    "    print(\"Corpus is now {0} characters long\".format(len(corpus_raw_elliot)))\n",
    "    print()    \n",
    "    \n",
    "#Read and add the text of each book to corpus_raw.\n",
    "corpus_raw_huxley = u\"\"\n",
    "for book_filename in book_filenames_huxley:\n",
    "    print(\"Reading '{0}'...\".format(book_filename))\n",
    "    with codecs.open(book_filename, \"r\", \"utf-8\") as book_file:\n",
    "        corpus_raw_huxley += book_file.read()\n",
    "    print(\"Corpus is now {0} characters long\".format(len(corpus_raw_huxley)))\n",
    "    print()\n",
    "\n",
    "#Read and add the text of each book to corpus_raw.\n",
    "corpus_raw_shakespeare = u\"\"\n",
    "for book_filename in book_filenames_shakespeare:\n",
    "    print(\"Reading '{0}'...\".format(book_filename))\n",
    "    with codecs.open(book_filename, \"r\", \"utf-8\") as book_file:\n",
    "        corpus_raw_shakespeare += book_file.read()\n",
    "    print(\"Corpus is now {0} characters long\".format(len(corpus_raw_shakespeare)))\n",
    "    print()\n",
    "    \n",
    "#Read and add the text of each book to corpus_raw.\n",
    "corpus_raw_shaw = u\"\"\n",
    "for book_filename in book_filenames_shaw:\n",
    "    print(\"Reading '{0}'...\".format(book_filename))\n",
    "    with codecs.open(book_filename, \"r\", \"utf-8\") as book_file:\n",
    "        corpus_raw_shaw += book_file.read()\n",
    "    print(\"Corpus is now {0} characters long\".format(len(corpus_raw_shaw)))\n",
    "    print()\n",
    "    \n",
    "#Read and add the text of each book to corpus_raw.\n",
    "corpus_raw_wells = u\"\"\n",
    "for book_filename in book_filenames_wells:\n",
    "    print(\"Reading '{0}'...\".format(book_filename))\n",
    "    with codecs.open(book_filename, \"r\", \"utf-8\") as book_file:\n",
    "        corpus_raw_wells += book_file.read()\n",
    "    print(\"Corpus is now {0} characters long\".format(len(corpus_raw_wells)))\n",
    "    print()\n",
    "    \n",
    "#Read and add the text of each book to corpus_raw.\n",
    "corpus_raw_wilde = u\"\"\n",
    "for book_filename in book_filenames_wilde:\n",
    "    print(\"Reading '{0}'...\".format(book_filename))\n",
    "    with codecs.open(book_filename, \"r\", \"utf-8\") as book_file:\n",
    "        corpus_raw_wilde += book_file.read()\n",
    "    print(\"Corpus is now {0} characters long\".format(len(corpus_raw_wilde)))\n",
    "    print()\n",
    "    \n",
    "#Create a list with all the corpus   \n",
    "doc_complete = [corpus_raw_austen, corpus_raw_chesterton,\n",
    "                corpus_raw_conandoyle, corpus_raw_dickens,\n",
    "                corpus_raw_elliot, corpus_raw_huxley,\n",
    "                corpus_raw_shakespeare, corpus_raw_shaw,\n",
    "               corpus_raw_wells, corpus_raw_wilde]\n",
    "\n",
    "#Calculate the length of the corpus\n",
    "len(corpus_raw_austen + corpus_raw_chesterton +\n",
    "                corpus_raw_conandoyle + corpus_raw_dickens +\n",
    "                corpus_raw_elliot + corpus_raw_huxley +\n",
    "                corpus_raw_shakespeare + corpus_raw_shaw +\n",
    "               corpus_raw_wells + corpus_raw_wilde)\n",
    "\n",
    "#Close the book file \n",
    "book_file.close()"
   ]
  },
  {
   "cell_type": "markdown",
   "metadata": {},
   "source": [
    "### 2. Cleanse and parse and tokenize text###"
   ]
  },
  {
   "cell_type": "markdown",
   "metadata": {},
   "source": [
    "Before generating the features, and to increase the explanatory power of them, text has been cleaned and parsed accordingly.  The books have gone through an initial set of cleansing actions before been parsed using Spacy, to reduce the computing effort required by the latter and then have been cleaned again before the feature generation.\n",
    "\n",
    "The initial cleansing action has had three steps. The first step consisted on deleting all references to the Gutenberg Project from every book. This way, it has been avoided that words like “Gutenberg” and “Gutenberg Project” appear as features and distort the clustering of the authors.\n",
    "\n",
    "As described below, cleaning actions have gone from removing all references to chapters, digits double whitespaces and references to numbers like dates and ordinal numbers. This has been followed by removing punctuation and common stop words that will only add noise to the features that are generated afterwards.\n",
    "\n",
    "The remaining words, considered to have the most explanatory power regarding each of the titles from the authors, have been lemmatized and stemmed reducing up to 60% the computing resources needed. In the first case words from the same family are reduced to their lemmas and in the second case, additional prefixes and suffixes are removed. All cleaning operations have been carried out in a way that remaining sentences are stored in a list of lists."
   ]
  },
  {
   "cell_type": "code",
   "execution_count": 4,
   "metadata": {},
   "outputs": [],
   "source": [
    "#Create a set of stopwords in english from nltk\n",
    "stop = set(stopwords.words('english'))\n",
    "\n",
    "# Create a set of punctuation marks to exclude them from the text\n",
    "exclude = set(string.punctuation) \n",
    "\n",
    "#List of words that are in the books and can be removed from the text as they add noise\n",
    "comms = ['im','mr', 'miss', 'lady', 'sir', 'man', 'it', 'i', 'u', 'you', 'one'] \n",
    "\n",
    "#Call the lemmatizer and the stemmer\n",
    "lemma = WordNetLemmatizer()\n",
    "stemms = PorterStemmer()\n",
    "\n",
    "#Define a cleaning function that incorporates the different steps in the pipeline to clean the texts\n",
    "\n",
    "def clean(doc):\n",
    "    #Delete '--' from texts, specially used by Austen\n",
    "    doc = re.sub(r'--','',doc) \n",
    "    doc = re.sub(\"[\\[].*?[\\]]\", \"\", doc) #\n",
    "    #Remove references to chapters\n",
    "    doc = re.sub(r'Chapter \\d+', '', doc) \n",
    "    doc = re.sub(r'CHAPTER .*', '', doc)\n",
    "    #Substitute numbers by spaces\n",
    "    doc = re.sub('[0-9]+', '', doc)\n",
    "    #Remove digits and expressions such as 11th\n",
    "    doc = re.sub(\"\\s\\s+\", \" \", doc)\n",
    "    doc = re.sub(\"^\\d+\\s|\\s\\d+\\s|\\s\\d+$\", \" \", doc)\n",
    "    #Remove quotes\n",
    "    doc = doc.replace('“', '').replace('”', '').replace('\"', '').replace('‘', '').replace('’', '')\n",
    "    #Remove stop words\n",
    "    stop_free = \" \".join([i for i in doc.lower().split() if i not in stop])\n",
    "    #Remove punctuation\n",
    "    punc_free = ''.join(ch for ch in stop_free if ch not in exclude)\n",
    "    #Remove common words\n",
    "    commonalities_free = \" \".join([i for i in punc_free.lower().split() if i not in comms])\n",
    "    #Lemmatize and stem words to reduce the total amount of words\n",
    "    lemmatized = \" \".join(lemma.lemmatize(word) for word in commonalities_free.split())\n",
    "    normalized = \" \".join(stemms.stem(word) for word in lemmatized.split())\n",
    "    return normalized\n",
    "\n",
    "#Create a list of lists with all the documents\n",
    "doc_clean = [clean(doc) for doc in doc_complete]"
   ]
  },
  {
   "cell_type": "markdown",
   "metadata": {},
   "source": [
    "After the initial cleaning, novels are parsed using Spacy to tokenize and label the data and each of the set of words is identified by author. At this point, the integrity of the novels is lost and the dataset consists on tokens from different authors tagged to each of them. This will be useful for further operations and especially when using further supervised and unsupervised classification techniques."
   ]
  },
  {
   "cell_type": "code",
   "execution_count": 5,
   "metadata": {},
   "outputs": [],
   "source": [
    "# Parse the cleaned novels\n",
    "#load spacy for english language as all novels are in english\n",
    "nlp = spacy.load('en')\n",
    "\n",
    "#Parse novels one by one to maintain the author tagging\n",
    "austen_doc = nlp(doc_clean[0])\n",
    "chesterton_doc = nlp(doc_clean[1])\n",
    "conandoyle_doc = nlp(doc_clean[2])\n",
    "dickens_doc = nlp(doc_clean[3])\n",
    "elliot_doc = nlp(doc_clean[4])\n",
    "huxley_doc = nlp(doc_clean[5])\n",
    "shakespeare_doc = nlp(doc_clean[6])\n",
    "shaw_doc = nlp(doc_clean[7])\n",
    "wells_doc = nlp(doc_clean[8])\n",
    "wilde_doc = nlp(doc_clean[9])"
   ]
  },
  {
   "cell_type": "markdown",
   "metadata": {},
   "source": [
    "Tokens are grouped into sentences and labelled in a dataframe. A Target column is added to the dataframe for further use when classifying texts using supervised techniques. Some additional cleansing of the sentences has been carried out. Sentences under 50 words have been removed from the dataset, duplicates and empty rows.Additionally the length of each sentence has been added to the daataframe.\n",
    "\n",
    "The graph below reflects the total number of characters and the contribution of each of the corpus to the total corpora. As titles were picked randomly, the contribution of each corpora is different by each author being the biggest Elliot and the smallest Huxley with nearly 8000 and 1500 contribution each."
   ]
  },
  {
   "cell_type": "code",
   "execution_count": 6,
   "metadata": {},
   "outputs": [
    {
     "data": {
      "text/plain": [
       "<matplotlib.axes._subplots.AxesSubplot at 0x7fa8f062fba8>"
      ]
     },
     "execution_count": 6,
     "metadata": {},
     "output_type": "execute_result"
    },
    {
     "data": {
      "image/png": "[encoded data removed]",
      "text/plain": [
       "<matplotlib.figure.Figure at 0x7fa8f062fa20>"
      ]
     },
     "metadata": {},
     "output_type": "display_data"
    }
   ],
   "source": [
    "# Group into sentences.\n",
    "austen_sents = [[str(sent), \"Austen\"] for sent in austen_doc.sents]\n",
    "chesterton_sents = [[str(sent), \"Chesterton\"] for sent in chesterton_doc.sents]\n",
    "conandoyle_sents = [[str(sent), \"Conandoyle\"] for sent in conandoyle_doc.sents]\n",
    "dickens_sents = [[str(sent), \"Dickens\"] for sent in dickens_doc.sents]\n",
    "elliot_sents = [[str(sent), \"Elliot\"] for sent in elliot_doc.sents]\n",
    "huxley_sents = [[str(sent), \"Huxley\"] for sent in huxley_doc.sents]\n",
    "shakespeare_sents = [[str(sent), 'Shakespeare'] for sent in shakespeare_doc.sents]\n",
    "shaw_sents = [[str(sent), \"Shaw\"] for sent in shaw_doc.sents]\n",
    "wells_sents = [[str(sent), \"Wells\"] for sent in wells_doc.sents]\n",
    "wilde_sents = [[str(sent), \"Wilde\"] for sent in wilde_doc.sents]\n",
    "\n",
    "#Combine the sentences from the two novels into one data frame.\n",
    "names = ['Sentences','Author']\n",
    "sentences = pd.DataFrame(austen_sents + chesterton_sents + conandoyle_sents +\n",
    "                         dickens_sents + elliot_sents + huxley_sents + \n",
    "                         shakespeare_sents + shaw_sents + wells_sents +\n",
    "                         wilde_sents, columns = names)\n",
    "\n",
    "#Aadd numerical column to tag the authors for supervised classification\n",
    "sentences.loc[sentences['Author'] == 'Austen', 'Target'] = 0\n",
    "sentences.loc[sentences['Author'] == 'Chesterton', 'Target'] = 1\n",
    "sentences.loc[sentences['Author'] == 'Conandoyle', 'Target'] = 2\n",
    "sentences.loc[sentences['Author'] == 'Dickens', 'Target'] = 3\n",
    "sentences.loc[sentences['Author'] == 'Elliot', 'Target'] = 4\n",
    "sentences.loc[sentences['Author'] == 'Huxley', 'Target'] = 5\n",
    "sentences.loc[sentences['Author'] == 'Shakespeare', 'Target'] = 6\n",
    "sentences.loc[sentences['Author'] == 'Shaw', 'Target'] = 7\n",
    "sentences.loc[sentences['Author'] == 'Wells', 'Target'] = 8\n",
    "sentences.loc[sentences['Author'] == 'Wilde', 'Target'] = 9\n",
    "\n",
    "#Add length of sentences to the Dataframe\n",
    "sentences['len'] = sentences['Sentences'].map(len)\n",
    "\n",
    "#Remove duplicate description columns to avoid having the initial and final information about Gutenberg project\n",
    "sentences = sentences.drop_duplicates('Sentences')\n",
    "\n",
    "#Remove rows that are empty during the cleaning process\n",
    "sentences = sentences[~sentences['Sentences'].isnull()]\n",
    "\n",
    "#remove sentences with length smaller than 50 characters to reduce the noise in the data\n",
    "sentences = sentences[sentences.len > 50]\n",
    "sentences.reset_index(inplace=True)\n",
    "sentences.drop('index', inplace=True, axis=1)\n",
    "\n",
    "#Plot the contribution of each author to the corpus (sentences)\n",
    "sentences.Author.value_counts().plot(kind='bar', grid=False, figsize=(16, 9))"
   ]
  },
  {
   "cell_type": "markdown",
   "metadata": {},
   "source": [
    "Data is split in a training and testing set with 25% for testing"
   ]
  },
  {
   "cell_type": "code",
   "execution_count": 7,
   "metadata": {},
   "outputs": [],
   "source": [
    "#Split data in a train and test set\n",
    "X_tr, X_te, y_tr, y_te = train_test_split(sentences['Sentences'], sentences['Target'],test_size=0.25, random_state=42)"
   ]
  },
  {
   "cell_type": "markdown",
   "metadata": {},
   "source": [
    "Words are tokenized and an integer is assigned to them. Once they are converted into integers each book is represented by a matrix and the labels are represented by 10 binary columns"
   ]
  },
  {
   "cell_type": "code",
   "execution_count": 77,
   "metadata": {},
   "outputs": [],
   "source": [
    "# integer encode sequences of words\n",
    "tokenizer = Tokenizer(num_words=25000)\n",
    "tokenizer.fit_on_texts(X_tr)\n",
    "x_train = tokenizer.texts_to_matrix(X_tr, mode = \"tfidf\")\n",
    "x_test = tokenizer.texts_to_matrix(X_te, mode = \"tfidf\")"
   ]
  },
  {
   "cell_type": "code",
   "execution_count": 80,
   "metadata": {},
   "outputs": [],
   "source": [
    "# Convert class vectors to binary class matrices\n",
    "# So instead of one column with 10 values, create 10 binary columns\n",
    "y_train = keras.utils.to_categorical(y_tr, 10)\n",
    "y_test = keras.utils.to_categorical(y_te, 10)"
   ]
  },
  {
   "cell_type": "markdown",
   "metadata": {},
   "source": [
    "### 3. Multi Layer Perceptron ###"
   ]
  },
  {
   "cell_type": "markdown",
   "metadata": {},
   "source": [
    "The model is set up and the parameters are tunned so that the model gives the highest accuracy considering the small dataset that we have for this exercise. In this case, and after several trials, the number of words is set up to 25000 being the optimum."
   ]
  },
  {
   "cell_type": "code",
   "execution_count": 84,
   "metadata": {},
   "outputs": [
    {
     "name": "stdout",
     "output_type": "stream",
     "text": [
      "_________________________________________________________________\n",
      "Layer (type)                 Output Shape              Param #   \n",
      "=================================================================\n",
      "dense_61 (Dense)             (None, 32)                800032    \n",
      "_________________________________________________________________\n",
      "dropout_49 (Dropout)         (None, 32)                0         \n",
      "_________________________________________________________________\n",
      "dense_62 (Dense)             (None, 32)                1056      \n",
      "_________________________________________________________________\n",
      "dropout_50 (Dropout)         (None, 32)                0         \n",
      "_________________________________________________________________\n",
      "dense_63 (Dense)             (None, 10)                330       \n",
      "=================================================================\n",
      "Total params: 801,418\n",
      "Trainable params: 801,418\n",
      "Non-trainable params: 0\n",
      "_________________________________________________________________\n"
     ]
    }
   ],
   "source": [
    "#Start the model\n",
    "model = Sequential()\n",
    "\n",
    "#Set up the outter layer and reduce the number of words in voc to the optimum 25000\n",
    "model.add(Dense(32, activation='relu', input_shape=(25000,)))\n",
    "\n",
    "# Dropout layers remove features and fight overfitting\n",
    "model.add(Dropout(0.1))\n",
    "model.add(Dense(32, activation='relu'))\n",
    "model.add(Dropout(0.1))\n",
    "\n",
    "# End with a number of units equal to the number of classes we have for our outcome\n",
    "model.add(Dense(10, activation='softmax'))\n",
    "\n",
    "#Show the model features\n",
    "model.summary()\n",
    "\n",
    "# Compile the model to put it all together.\n",
    "model.compile(loss='categorical_crossentropy',optimizer=RMSprop(), metrics=['accuracy'])"
   ]
  },
  {
   "cell_type": "markdown",
   "metadata": {},
   "source": [
    "The model is evaluated on the train and test set achieving an overall accuracy of 86%. in this case, a two layers of 32 neurons each is considered with dropout to reduce overfitting and softmax is used as the optimizer."
   ]
  },
  {
   "cell_type": "code",
   "execution_count": 85,
   "metadata": {},
   "outputs": [
    {
     "name": "stdout",
     "output_type": "stream",
     "text": [
      "Train on 25671 samples, validate on 8557 samples\n",
      "Epoch 1/5\n",
      "25671/25671 [==============================] - 13s 499us/step - loss: 1.0288 - acc: 0.7111 - val_loss: 0.4965 - val_acc: 0.8620\n",
      "Epoch 2/5\n",
      "25671/25671 [==============================] - 9s 342us/step - loss: 0.3385 - acc: 0.9017 - val_loss: 0.4159 - val_acc: 0.8702\n",
      "Epoch 3/5\n",
      "25671/25671 [==============================] - 8s 321us/step - loss: 0.1845 - acc: 0.9459 - val_loss: 0.4299 - val_acc: 0.8718\n",
      "Epoch 4/5\n",
      "25671/25671 [==============================] - 8s 324us/step - loss: 0.1177 - acc: 0.9652 - val_loss: 0.4748 - val_acc: 0.8704\n",
      "Epoch 5/5\n",
      "25671/25671 [==============================] - 8s 316us/step - loss: 0.0742 - acc: 0.9795 - val_loss: 0.5311 - val_acc: 0.8677\n",
      "Test loss: 0.531117866101\n",
      "Test accuracy: 0.867710646268\n"
     ]
    }
   ],
   "source": [
    "#Run the model\n",
    "history = model.fit(x_train, y_train,\n",
    "                    batch_size=128,\n",
    "                    epochs=5,\n",
    "                    verbose=1,\n",
    "                    validation_data=(x_test, y_test))\n",
    "\n",
    "#Evaluate the model\n",
    "score = model.evaluate(x_test, y_test, verbose=0)\n",
    "\n",
    "#Print results\n",
    "print('Test loss:', score[0])\n",
    "print('Test accuracy:', score[1])"
   ]
  },
  {
   "cell_type": "markdown",
   "metadata": {},
   "source": [
    "***Set up the parameters for the LTSM models***"
   ]
  },
  {
   "cell_type": "markdown",
   "metadata": {},
   "source": [
    "To run the LTSM and be able to do the dimensionality reduction the number of top words is defined setting the rest  to zero, the max review legnth truncating the senteces of each author and the embedding vector. After several trials the optimum parameters are the ones shown bellow."
   ]
  },
  {
   "cell_type": "code",
   "execution_count": 94,
   "metadata": {},
   "outputs": [
    {
     "name": "stdout",
     "output_type": "stream",
     "text": [
      "x_train shape: (25671, 500)\n",
      "25671 train samples\n",
      "8557 test samples\n"
     ]
    }
   ],
   "source": [
    "# load the dataset but only keep the top n words, zero the rest\n",
    "top_words = 5000\n",
    "\n",
    "# truncate and pad input sequences\n",
    "max_review_length = 500\n",
    "X_train_CNN = sequence.pad_sequences(x_train, maxlen=max_review_length)\n",
    "X_test_CNN = sequence.pad_sequences(x_test, maxlen=max_review_length)\n",
    "\n",
    "# Vector length\n",
    "embedding_vector_length = 32\n",
    "\n",
    "#Print the shape of the train and test set\n",
    "print('x_train shape:', X_train_CNN.shape)\n",
    "print(X_train_CNN.shape[0], 'train samples')\n",
    "print(X_test_CNN.shape[0], 'test samples')"
   ]
  },
  {
   "cell_type": "markdown",
   "metadata": {},
   "source": [
    "### 4. Simple LTSM ###"
   ]
  },
  {
   "cell_type": "markdown",
   "metadata": {},
   "source": [
    "To baseline the results obtained using LTSM, a simple LTSM is run setting the number of features to 100 and having the ouput layer with 10 outputs as the number of authors used in the classification problem"
   ]
  },
  {
   "cell_type": "code",
   "execution_count": 113,
   "metadata": {},
   "outputs": [
    {
     "name": "stdout",
     "output_type": "stream",
     "text": [
      "_________________________________________________________________\n",
      "Layer (type)                 Output Shape              Param #   \n",
      "=================================================================\n",
      "embedding_25 (Embedding)     (None, 500, 32)           160000    \n",
      "_________________________________________________________________\n",
      "lstm_12 (LSTM)               (None, 100)               53200     \n",
      "_________________________________________________________________\n",
      "dense_77 (Dense)             (None, 10)                1010      \n",
      "=================================================================\n",
      "Total params: 214,210\n",
      "Trainable params: 214,210\n",
      "Non-trainable params: 0\n",
      "_________________________________________________________________\n"
     ]
    }
   ],
   "source": [
    "#Start the model with no dropouts to fight overfitting\n",
    "model_LTSM = Sequential()\n",
    "model_LTSM.add(Embedding(top_words, embedding_vector_length, input_length=max_review_length))\n",
    "model_LTSM.add(LSTM(100))\n",
    "model_LTSM.add(Dense(10, activation='sigmoid'))\n",
    "\n",
    "#Show model features\n",
    "model_LTSM.summary()\n",
    "\n",
    "#Compile the model\n",
    "model_LTSM.compile(loss='binary_crossentropy', optimizer='sgd', metrics=['accuracy'])"
   ]
  },
  {
   "cell_type": "markdown",
   "metadata": {},
   "source": [
    "Once the model is evaluated, an accuracy of 90% is achieved in three epochs. This overall accuracy seems to be the maximum accuracy that can be obtained with the dataset available."
   ]
  },
  {
   "cell_type": "code",
   "execution_count": 114,
   "metadata": {},
   "outputs": [
    {
     "name": "stdout",
     "output_type": "stream",
     "text": [
      "Train on 25671 samples, validate on 8557 samples\n",
      "Epoch 1/3\n",
      "25671/25671 [==============================] - 228s 9ms/step - loss: 0.6010 - acc: 0.8936 - val_loss: 0.4956 - val_acc: 0.9000\n",
      "Epoch 2/3\n",
      "25671/25671 [==============================] - 224s 9ms/step - loss: 0.3953 - acc: 0.9000 - val_loss: 0.3372 - val_acc: 0.9000\n",
      "Epoch 3/3\n",
      "25671/25671 [==============================] - 226s 9ms/step - loss: 0.3234 - acc: 0.9000 - val_loss: 0.3166 - val_acc: 0.9000\n",
      "Test loss: 0.313094868262\n",
      "Test accuracy: 0.899999976158\n"
     ]
    }
   ],
   "source": [
    "#Fit the model\n",
    "model_LTSM.fit(X_train_CNN, y_train,\n",
    "          batch_size=64,\n",
    "          epochs=3,\n",
    "          verbose=1,\n",
    "          validation_data=(X_test_CNN, y_test))\n",
    "\n",
    "#Evaluate the model\n",
    "score = model_LTSM_wdrop.evaluate(X_test_CNN, y_test, verbose=0)\n",
    "\n",
    "#Print scores\n",
    "print('Test loss:', score[0])\n",
    "print('Test accuracy:', score[1])"
   ]
  },
  {
   "cell_type": "markdown",
   "metadata": {},
   "source": [
    "### 5. LTSM with Dropout ###"
   ]
  },
  {
   "cell_type": "markdown",
   "metadata": {},
   "source": [
    "To the previous model, dropout is included to reduce overfitting. In this case, two forward dropouts are included with 0.2 dropout rate and a layer of 100 and 10 neurons"
   ]
  },
  {
   "cell_type": "code",
   "execution_count": 108,
   "metadata": {},
   "outputs": [
    {
     "name": "stdout",
     "output_type": "stream",
     "text": [
      "_________________________________________________________________\n",
      "Layer (type)                 Output Shape              Param #   \n",
      "=================================================================\n",
      "embedding_23 (Embedding)     (None, 500, 32)           160000    \n",
      "_________________________________________________________________\n",
      "dropout_57 (Dropout)         (None, 500, 32)           0         \n",
      "_________________________________________________________________\n",
      "lstm_10 (LSTM)               (None, 100)               53200     \n",
      "_________________________________________________________________\n",
      "dropout_58 (Dropout)         (None, 100)               0         \n",
      "_________________________________________________________________\n",
      "dense_75 (Dense)             (None, 10)                1010      \n",
      "=================================================================\n",
      "Total params: 214,210\n",
      "Trainable params: 214,210\n",
      "Non-trainable params: 0\n",
      "_________________________________________________________________\n"
     ]
    }
   ],
   "source": [
    "#Set up the model including dropouts to fight overfitting\n",
    "model_LTSM_wdrop = Sequential()\n",
    "model_LTSM_wdrop.add(Embedding(top_words, embedding_vector_length, input_length=max_review_length))\n",
    "model_LTSM_wdrop.add(Dropout(0.2))\n",
    "model_LTSM_wdrop.add(LSTM(100))\n",
    "model_LTSM_wdrop.add(Dropout(0.2))\n",
    "model_LTSM_wdrop.add(Dense(10, activation='sigmoid'))\n",
    "\n",
    "#Model Features\n",
    "model_LTSM_wdrop.summary()\n",
    "\n",
    "#Compile the model\n",
    "model_LTSM_wdrop.compile(loss='binary_crossentropy', optimizer='adam', metrics=['accuracy'])"
   ]
  },
  {
   "cell_type": "markdown",
   "metadata": {},
   "source": [
    "The maximum accuracy achieved continues to be 0.9 which is reasonable for the size of the dataset used."
   ]
  },
  {
   "cell_type": "code",
   "execution_count": 109,
   "metadata": {},
   "outputs": [
    {
     "name": "stdout",
     "output_type": "stream",
     "text": [
      "Train on 25671 samples, validate on 8557 samples\n",
      "Epoch 1/3\n",
      "25671/25671 [==============================] - 222s 9ms/step - loss: 0.3289 - acc: 0.8980 - val_loss: 0.3129 - val_acc: 0.9000\n",
      "Epoch 2/3\n",
      "25671/25671 [==============================] - 218s 8ms/step - loss: 0.3148 - acc: 0.9000 - val_loss: 0.3124 - val_acc: 0.9000\n",
      "Epoch 3/3\n",
      "25671/25671 [==============================] - 219s 9ms/step - loss: 0.3139 - acc: 0.9000 - val_loss: 0.3131 - val_acc: 0.9000\n",
      "Test loss: 0.313094868262\n",
      "Test accuracy: 0.899999976158\n"
     ]
    }
   ],
   "source": [
    "#Fit the model\n",
    "model_LTSM_wdrop.fit(X_train_CNN, y_train,\n",
    "          batch_size=64,\n",
    "          epochs=3,\n",
    "          verbose=1,\n",
    "          validation_data=(X_test_CNN, y_test))\n",
    "\n",
    "#Evaluate the model\n",
    "score = model_LTSM_wdrop.evaluate(X_test_CNN, y_test, verbose=0)\n",
    "\n",
    "#Print the scores\n",
    "print('Test loss:', score[0])\n",
    "print('Test accuracy:', score[1])"
   ]
  },
  {
   "cell_type": "markdown",
   "metadata": {},
   "source": [
    "### 6. LTSM & Convolutional Neural Network ###"
   ]
  },
  {
   "cell_type": "markdown",
   "metadata": {},
   "source": [
    "A convolutional neural network with LTSM is run and in this case thwew are three layers used. The layers have 32, 128 and 10 each maintaining the LTSM model with 100 parameters. The convolutional link in one dimension linking 32 neurons and using a kernel size 3 is used."
   ]
  },
  {
   "cell_type": "code",
   "execution_count": 104,
   "metadata": {},
   "outputs": [
    {
     "name": "stdout",
     "output_type": "stream",
     "text": [
      "_________________________________________________________________\n",
      "Layer (type)                 Output Shape              Param #   \n",
      "=================================================================\n",
      "embedding_21 (Embedding)     (None, 500, 32)           160000    \n",
      "_________________________________________________________________\n",
      "conv1d_26 (Conv1D)           (None, 500, 32)           3104      \n",
      "_________________________________________________________________\n",
      "max_pooling1d_23 (MaxPooling (None, 250, 32)           0         \n",
      "_________________________________________________________________\n",
      "dense_72 (Dense)             (None, 250, 128)          4224      \n",
      "_________________________________________________________________\n",
      "lstm_8 (LSTM)                (None, 100)               91600     \n",
      "_________________________________________________________________\n",
      "dense_73 (Dense)             (None, 10)                1010      \n",
      "=================================================================\n",
      "Total params: 259,938\n",
      "Trainable params: 259,938\n",
      "Non-trainable params: 0\n",
      "_________________________________________________________________\n"
     ]
    }
   ],
   "source": [
    "# Building the Model\n",
    "model = Sequential()\n",
    "# First convolutional layer, note the specification of shape\n",
    "model.add(Embedding(top_words, embedding_vector_length, input_length=max_review_length))\n",
    "model.add(Conv1D(32, 3, padding='same',activation='relu'))\n",
    "model.add(MaxPooling1D(pool_size=2))\n",
    "model.add(Dense(128, activation='relu'))\n",
    "model.add(LSTM(100))\n",
    "model.add(Dense(10, activation='sigmoid'))\n",
    "\n",
    "#Model features\n",
    "model.summary()\n",
    "\n",
    "# Compile the model to put it all together.\n",
    "model.compile(loss='binary_crossentropy', optimizer='adam',\n",
    "              metrics=['accuracy'])"
   ]
  },
  {
   "cell_type": "markdown",
   "metadata": {},
   "source": [
    "The model achieves thebest result possible 90%. Although low for a neural network is reasonable neough for the size of the dataset."
   ]
  },
  {
   "cell_type": "code",
   "execution_count": 112,
   "metadata": {},
   "outputs": [
    {
     "name": "stdout",
     "output_type": "stream",
     "text": [
      "Train on 25671 samples, validate on 8557 samples\n",
      "Epoch 1/3\n",
      "25671/25671 [==============================] - 226s 9ms/step - loss: 0.3277 - acc: 0.8978 - val_loss: 0.3128 - val_acc: 0.9000\n",
      "Epoch 2/3\n",
      "25671/25671 [==============================] - 225s 9ms/step - loss: 0.3149 - acc: 0.9000 - val_loss: 0.3127 - val_acc: 0.9000\n",
      "Epoch 3/3\n",
      "25671/25671 [==============================] - 223s 9ms/step - loss: 0.3142 - acc: 0.9000 - val_loss: 0.3126 - val_acc: 0.9000\n",
      "Test loss: 0.31263894511\n",
      "Test accuracy: 0.899999976158\n"
     ]
    }
   ],
   "source": [
    "#Fit the model\n",
    "model.fit(X_train_CNN, y_train,\n",
    "          batch_size=64,\n",
    "          epochs=3,\n",
    "          verbose=1,\n",
    "          validation_data=(X_test_CNN, y_test))\n",
    "\n",
    "#Evaluate the model\n",
    "score = model.evaluate(X_test_CNN, y_test, verbose=0)\n",
    "\n",
    "#Print the score\n",
    "print('Test loss:', score[0])\n",
    "print('Test accuracy:', score[1])"
   ]
  },
  {
   "cell_type": "markdown",
   "metadata": {},
   "source": [
    "### 7. LTSM & Recurrent Neural Network ###"
   ]
  },
  {
   "cell_type": "markdown",
   "metadata": {},
   "source": [
    "In this case the LTSM model is run with a recurrent neural network. This network has a recurrent dropout of 0.2 and three layers maintaining LTSM to 100 features"
   ]
  },
  {
   "cell_type": "code",
   "execution_count": 115,
   "metadata": {},
   "outputs": [
    {
     "name": "stdout",
     "output_type": "stream",
     "text": [
      "_________________________________________________________________\n",
      "Layer (type)                 Output Shape              Param #   \n",
      "=================================================================\n",
      "embedding_26 (Embedding)     (None, 500, 32)           160000    \n",
      "_________________________________________________________________\n",
      "lstm_13 (LSTM)               (None, 100)               53200     \n",
      "_________________________________________________________________\n",
      "dense_78 (Dense)             (None, 10)                1010      \n",
      "=================================================================\n",
      "Total params: 214,210\n",
      "Trainable params: 214,210\n",
      "Non-trainable params: 0\n",
      "_________________________________________________________________\n"
     ]
    }
   ],
   "source": [
    "# Building the Model\n",
    "model = Sequential()\n",
    "model.add(Embedding(top_words, embedding_vector_length, input_length=max_review_length))\n",
    "model.add(LSTM(100, dropout=0.2, recurrent_dropout=0.2))\n",
    "model.add(Dense(10, activation='sigmoid'))\n",
    "\n",
    "#Model features\n",
    "model.summary()\n",
    "\n",
    "# Compile the model to put it all together.\n",
    "model.compile(loss='binary_crossentropy', optimizer='sgd',\n",
    "              metrics=['accuracy'])"
   ]
  },
  {
   "cell_type": "markdown",
   "metadata": {},
   "source": [
    "The model is fit and the maximum result is achieved."
   ]
  },
  {
   "cell_type": "code",
   "execution_count": 117,
   "metadata": {},
   "outputs": [
    {
     "name": "stdout",
     "output_type": "stream",
     "text": [
      "Train on 25671 samples, validate on 8557 samples\n",
      "Epoch 1/3\n",
      "25671/25671 [==============================] - 170s 7ms/step - loss: 0.6543 - acc: 0.8582 - val_loss: 0.6123 - val_acc: 0.9000\n",
      "Epoch 2/3\n",
      "25671/25671 [==============================] - 170s 7ms/step - loss: 0.5663 - acc: 0.9000 - val_loss: 0.5139 - val_acc: 0.9000\n",
      "Epoch 3/3\n",
      "25671/25671 [==============================] - 170s 7ms/step - loss: 0.4549 - acc: 0.9000 - val_loss: 0.3976 - val_acc: 0.9000\n",
      "Test loss: 0.397608311492\n",
      "Test accuracy: 0.899999976158\n"
     ]
    }
   ],
   "source": [
    "#Fit the model\n",
    "model.fit(X_train_CNN, y_train,\n",
    "          batch_size=128,\n",
    "          epochs=3,\n",
    "          verbose=1,\n",
    "          validation_data=(X_test_CNN, y_test))\n",
    "\n",
    "#Evaluate the model\n",
    "score = model.evaluate(X_test_CNN, y_test, verbose=0)\n",
    "\n",
    "#Print the score\n",
    "print('Test loss:', score[0])\n",
    "print('Test accuracy:', score[1])"
   ]
  },
  {
   "cell_type": "markdown",
   "metadata": {},
   "source": [
    "### 8. Conclusion ###"
   ]
  },
  {
   "cell_type": "markdown",
   "metadata": {},
   "source": [
    "Five different implementations of a neural network have been set up, tuned and run. When using LSTM and due to the size of the dataset the model achieves the highest result possible of 90% accuracy. Different parameters have been tunned in a trial and error way, from the to words to the size of the vectors until the maximum overall accuracy has been reached. In this case although the use of more comple models increases computing time, it does not increase the overall accuracy. Dropouts in the models help to reduce overfitting but due to the size of the dataset for these implementations the results are neglible."
   ]
  }
 ],
 "metadata": {
  "kernelspec": {
   "display_name": "Python 3",
   "language": "python",
   "name": "python3"
  },
  "language_info": {
   "codemirror_mode": {
    "name": "ipython",
    "version": 3
   },
   "file_extension": ".py",
   "mimetype": "text/x-python",
   "name": "python",
   "nbconvert_exporter": "python",
   "pygments_lexer": "ipython3",
   "version": "3.6.3"
  }
 },
 "nbformat": 4,
 "nbformat_minor": 2
}
