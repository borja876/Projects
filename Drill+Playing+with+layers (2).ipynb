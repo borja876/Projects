{
 "cells": [
  {
   "cell_type": "code",
   "execution_count": 1,
   "metadata": {
    "collapsed": true
   },
   "outputs": [],
   "source": [
    "import numpy as np\n",
    "import pandas as pd\n",
    "import matplotlib.pyplot as plt\n",
    "%matplotlib inline\n",
    "from sklearn.neural_network import MLPClassifier\n",
    "from sklearn.decomposition import PCA\n",
    "import seaborn as sns\n",
    "from sklearn.metrics import confusion_matrix, classification_report\n",
    "from sklearn.model_selection import train_test_split,cross_val_score, KFold, cross_val_predict\n",
    "from sklearn.decomposition import PCA as sklearn_pca\n",
    "from sklearn.decomposition import PCA\n",
    "from sklearn.utils import resample\n",
    "from sklearn.ensemble import RandomForestClassifier, GradientBoostingClassifier\n",
    "from sklearn import preprocessing, decomposition\n",
    "from sklearn.model_selection import GridSearchCV\n",
    "from sklearn.linear_model import LogisticRegression\n",
    "from sklearn.naive_bayes import BernoulliNB\n",
    "from sklearn.neighbors import KNeighborsClassifier\n",
    "from sklearn.svm import SVC\n",
    "from sklearn.tree import DecisionTreeClassifier\n",
    "from sklearn.feature_selection import RFE\n",
    "from sklearn.preprocessing import StandardScaler\n",
    "from sklearn.feature_selection import SelectKBest\n",
    "from sklearn.linear_model.stochastic_gradient import SGDClassifier\n",
    "import time"
   ]
  },
  {
   "cell_type": "code",
   "execution_count": 2,
   "metadata": {},
   "outputs": [
    {
     "data": {
      "text/plain": [
       "Index(['Title', 'Artist', 'ConstituentID', 'ArtistBio', 'Nationality',\n",
       "       'BeginDate', 'EndDate', 'Gender', 'Date', 'Medium', 'Dimensions',\n",
       "       'CreditLine', 'AccessionNumber', 'Classification', 'Department',\n",
       "       'DateAcquired', 'Cataloged', 'ObjectID', 'URL', 'ThumbnailURL',\n",
       "       'Circumference (cm)', 'Depth (cm)', 'Diameter (cm)', 'Height (cm)',\n",
       "       'Length (cm)', 'Weight (kg)', 'Width (cm)', 'Seat Height (cm)',\n",
       "       'Duration (sec.)'],\n",
       "      dtype='object')"
      ]
     },
     "execution_count": 2,
     "metadata": {},
     "output_type": "execute_result"
    }
   ],
   "source": [
    "\n",
    "artworks = pd.read_csv('https://media.githubusercontent.com/media/MuseumofModernArt/collection/master/Artworks.csv')\n",
    "artworks.columns"
   ]
  },
  {
   "cell_type": "code",
   "execution_count": 3,
   "metadata": {
    "collapsed": true
   },
   "outputs": [],
   "source": [
    "# Select Columns.\n",
    "artworks = artworks[['Artist', 'Nationality', 'Gender', 'Date', 'Department',\n",
    "                    'DateAcquired', 'URL', 'ThumbnailURL', 'Height (cm)', 'Width (cm)']]\n",
    "\n",
    "# Convert URL's to booleans.\n",
    "artworks['URL'] = artworks['URL'].notnull()\n",
    "artworks['ThumbnailURL'] = artworks['ThumbnailURL'].notnull()\n",
    "\n",
    "# Drop films and some other tricky rows.\n",
    "artworks = artworks[artworks['Department']!='Film']\n",
    "artworks = artworks[artworks['Department']!='Media and Performance Art']\n",
    "artworks = artworks[artworks['Department']!='Fluxus Collection']\n",
    "\n",
    "# Drop missing data.\n",
    "artworks = artworks.dropna()"
   ]
  },
  {
   "cell_type": "code",
   "execution_count": 4,
   "metadata": {
    "collapsed": true
   },
   "outputs": [],
   "source": [
    "# Remove multiple nationalities, genders, and artists.\n",
    "artworks.loc[artworks['Gender'].str.contains('\\) \\('), 'Gender'] = '\\(multiple_persons\\)'\n",
    "artworks.loc[artworks['Nationality'].str.contains('\\) \\('), 'Nationality'] = '\\(multiple_nationalities\\)'\n",
    "artworks.loc[artworks['Artist'].str.contains(','), 'Artist'] = 'Multiple_Artists'"
   ]
  },
  {
   "cell_type": "code",
   "execution_count": 5,
   "metadata": {},
   "outputs": [
    {
     "data": {
      "text/plain": [
       "array(['(Austrian)', '(French)', '()', '(American)', '(German)',\n",
       "       '\\\\(multiple_nationalities\\\\)', '(Swedish)', '(British)',\n",
       "       '(Japanese)', '(Italian)', '(Argentine)', '(Swiss)', '(Brazilian)',\n",
       "       '(Luxembourgish)', '(Spanish)', '(Dutch)', '(Russian)', '(Iranian)',\n",
       "       '(Finnish)', '(Nationality unknown)', '(Danish)', '(Moroccan)',\n",
       "       '(Colombian)', '(Australian)', '(Hungarian)', '(Belgian)',\n",
       "       '(Canadian)', '(Slovenian)', '(Chilean)', '(Mexican)', '(Yugoslav)',\n",
       "       '(Latvian)', '(Nationality Unknown)', '(Polish)', '(Czech)',\n",
       "       '(Israeli)', '(Czechoslovakian)', '(Croatian)', '(Norwegian)',\n",
       "       '(Cuban)', '(Romanian)', '(Venezuelan)', '(Uruguayan)', '(Greek)',\n",
       "       '(Ukrainian)', '(Various)', '(Thai)', '(Algerian)', '(Icelandic)',\n",
       "       '(Guatemalan)', '(Indian)', '(Chinese)', '(Irish)', '(Costa Rican)',\n",
       "       '(Korean)', '(Ethiopian)', '(Kuwaiti)', '(Haitian)', '(Scottish)',\n",
       "       '(South African)', '(Zimbabwean)', '(Portuguese)', '(Panamanian)',\n",
       "       '(Ecuadorian)', '(Peruvian)', '(Congolese)', '(Malian)',\n",
       "       '(Turkish)', '(Cambodian)', '(Bosnian)', '(Canadian Inuit)',\n",
       "       '(Estonian)', '(Pakistani)', '(Bolivian)', '(Palestinian)',\n",
       "       '(Taiwanese)', '(Paraguayan)', '(Nicaraguan)', '(Tunisian)',\n",
       "       '(Sudanese)', '(Tanzanian)', '(Guyanese)', '(Senegalese)',\n",
       "       '(Bahamian)', '(Bulgarian)', '(Lebanese)', '(Kenyan)', '(Nigerian)',\n",
       "       '(Georgian)', '(Egyptian)', '(Albanian)', '(Azerbaijani)',\n",
       "       '(Ivorian)', '(Malaysian)', '(Serbian)', '(Singaporean)',\n",
       "       '(Lithuanian)', '(Slovak)', '(Namibian)', '(Ghanaian)',\n",
       "       '(nationality unknown)', '(Ugandan)', '(Cameroonian)', '(English)',\n",
       "       '(New Zealander)', '(Puerto Rican)'], dtype=object)"
      ]
     },
     "execution_count": 5,
     "metadata": {},
     "output_type": "execute_result"
    }
   ],
   "source": [
    "artworks.Nationality.unique()"
   ]
  },
  {
   "cell_type": "code",
   "execution_count": 6,
   "metadata": {
    "collapsed": true
   },
   "outputs": [],
   "source": [
    "artworks1 = artworks.loc[~(artworks['Nationality'] == '()')]\n",
    "artworks1 = artworks1.loc[~(artworks['Nationality'] == '(nationality unknown)')]\n",
    "artworks1 = artworks1.loc[~(artworks['Nationality'] == '(Nationality unknown)')]\n",
    "artworks1 = artworks1.loc[~(artworks['Nationality'] == '(Nationality Unknown)')]\n",
    "artworks1['Nationality'].replace('\\\\(multiple_nationalities\\\\)', '(Multiple Nationalities)', inplace=True)"
   ]
  },
  {
   "cell_type": "code",
   "execution_count": 7,
   "metadata": {
    "collapsed": true
   },
   "outputs": [],
   "source": [
    "artworks1['Nationality'] = artworks1['Nationality'].apply(str).str.replace('\\(|\\)','')"
   ]
  },
  {
   "cell_type": "code",
   "execution_count": 8,
   "metadata": {},
   "outputs": [
    {
     "data": {
      "text/plain": [
       "array(['Austrian', 'French', 'American', 'German',\n",
       "       'Multiple Nationalities', 'Swedish', 'British', 'Japanese',\n",
       "       'Italian', 'Argentine', 'Swiss', 'Brazilian', 'Luxembourgish',\n",
       "       'Spanish', 'Dutch', 'Russian', 'Iranian', 'Finnish', 'Danish',\n",
       "       'Moroccan', 'Colombian', 'Australian', 'Hungarian', 'Belgian',\n",
       "       'Canadian', 'Slovenian', 'Chilean', 'Mexican', 'Yugoslav',\n",
       "       'Latvian', 'Polish', 'Czech', 'Israeli', 'Czechoslovakian',\n",
       "       'Croatian', 'Norwegian', 'Cuban', 'Romanian', 'Venezuelan',\n",
       "       'Uruguayan', 'Greek', 'Ukrainian', 'Various', 'Thai', 'Algerian',\n",
       "       'Icelandic', 'Guatemalan', 'Indian', 'Chinese', 'Irish',\n",
       "       'Costa Rican', 'Korean', 'Ethiopian', 'Kuwaiti', 'Haitian',\n",
       "       'Scottish', 'South African', 'Zimbabwean', 'Portuguese',\n",
       "       'Panamanian', 'Ecuadorian', 'Peruvian', 'Congolese', 'Malian',\n",
       "       'Turkish', 'Cambodian', 'Bosnian', 'Canadian Inuit', 'Estonian',\n",
       "       'Pakistani', 'Bolivian', 'Palestinian', 'Taiwanese', 'Paraguayan',\n",
       "       'Nicaraguan', 'Tunisian', 'Sudanese', 'Tanzanian', 'Guyanese',\n",
       "       'Senegalese', 'Bahamian', 'Bulgarian', 'Lebanese', 'Kenyan',\n",
       "       'Nigerian', 'Georgian', 'Egyptian', 'Albanian', 'Azerbaijani',\n",
       "       'Ivorian', 'Malaysian', 'Serbian', 'Singaporean', 'Lithuanian',\n",
       "       'Slovak', 'Namibian', 'Ghanaian', 'Ugandan', 'Cameroonian',\n",
       "       'English', 'New Zealander', 'Puerto Rican'], dtype=object)"
      ]
     },
     "execution_count": 8,
     "metadata": {},
     "output_type": "execute_result"
    }
   ],
   "source": [
    "artworks1.Nationality.unique()"
   ]
  },
  {
   "cell_type": "code",
   "execution_count": 9,
   "metadata": {
    "collapsed": true
   },
   "outputs": [],
   "source": [
    "artworks1 = artworks1.loc[~(artworks['Gender'] == '()')]\n",
    "artworks1['Gender'].replace('(male)', '(Male)', inplace=True)\n",
    "artworks1['Gender'].replace('\\\\(multiple_persons\\\\)', '(Various Painters)', inplace=True)\n",
    "artworks1['Gender'] = artworks1['Gender'].apply(str).str.replace('\\(|\\)','')"
   ]
  },
  {
   "cell_type": "code",
   "execution_count": 10,
   "metadata": {},
   "outputs": [
    {
     "data": {
      "text/plain": [
       "array(['Male', 'Various Painters', 'Female'], dtype=object)"
      ]
     },
     "execution_count": 10,
     "metadata": {},
     "output_type": "execute_result"
    }
   ],
   "source": [
    "artworks1.Gender.unique()"
   ]
  },
  {
   "cell_type": "code",
   "execution_count": 11,
   "metadata": {},
   "outputs": [
    {
     "data": {
      "text/plain": [
       "dtype('int64')"
      ]
     },
     "execution_count": 11,
     "metadata": {},
     "output_type": "execute_result"
    }
   ],
   "source": [
    "artworks1['DateAcquired'] = pd.to_datetime(artworks1.DateAcquired)\n",
    "artworks1['YearAcquired'] = artworks1.DateAcquired.dt.year\n",
    "artworks1['YearAcquired'].dtype"
   ]
  },
  {
   "cell_type": "code",
   "execution_count": 12,
   "metadata": {
    "collapsed": true
   },
   "outputs": [],
   "source": [
    "# Convert dates to start date, cutting down number of distinct examples.\n",
    "artworks1['Date'] = pd.Series(artworks1.Date.str.extract(\n",
    "    '([0-9]{4})', expand=False))[:-1]\n",
    "\n",
    "# Final column drops and NA drop.\n",
    "X = artworks1.drop(['Department', 'DateAcquired', 'Artist', 'Nationality', 'Date','URL','ThumbnailURL'], 1)\n",
    "\n",
    "# Create dummies separately.\n",
    "artists = pd.get_dummies(artworks1.Artist)\n",
    "nationalities = pd.get_dummies(artworks1.Nationality)\n",
    "dates = pd.get_dummies(artworks1.Date)\n",
    "\n",
    "# Concat artists with other variables\n",
    "X = pd.get_dummies(X, sparse=True)\n",
    "X = pd.concat([X, nationalities, dates], axis=1)\n",
    "\n",
    "Y = artworks1.Department"
   ]
  },
  {
   "cell_type": "code",
   "execution_count": 13,
   "metadata": {
    "collapsed": true
   },
   "outputs": [],
   "source": [
    "#Preproces the ratings\n",
    "names = X.columns\n",
    "X_scaled = pd.DataFrame(preprocessing.scale(X), columns = names)"
   ]
  },
  {
   "cell_type": "code",
   "execution_count": 14,
   "metadata": {},
   "outputs": [
    {
     "data": {
      "image/png": "[encoded data removed]",
      "text/plain": [
       "<matplotlib.figure.Figure at 0x7eff89ec96a0>"
      ]
     },
     "metadata": {},
     "output_type": "display_data"
    },
    {
     "name": "stdout",
     "output_type": "stream",
     "text": [
      "The percentage of total variance in the dataset explained \n",
      " [  2.74348672e-02   1.59435728e-02   8.67333554e-03   7.29524552e-03\n",
      "   6.75307988e-03   5.93666094e-03   5.75004211e-03   5.67832197e-03\n",
      "   5.15704085e-03   5.10494183e-03   4.88694404e-03   4.85110340e-03\n",
      "   4.74580264e-03   4.70259967e-03   4.64384639e-03   4.63105722e-03\n",
      "   4.57766040e-03   4.54931534e-03   4.51130290e-03   4.44637737e-03\n",
      "   4.40765648e-03   4.39221686e-03   4.35394910e-03   4.31319028e-03\n",
      "   4.26001266e-03   4.18381250e-03   4.14151677e-03   4.10765713e-03\n",
      "   4.05692038e-03   4.04096937e-03   4.01942669e-03   3.99430709e-03\n",
      "   3.96415459e-03   3.95313178e-03   3.94242879e-03   3.90426612e-03\n",
      "   3.86327515e-03   3.85626348e-03   3.81517043e-03   3.79666988e-03\n",
      "   3.78320053e-03   3.77319702e-03   3.73991596e-03   3.73443227e-03\n",
      "   3.69145078e-03   3.68463305e-03   3.68310578e-03   3.66334588e-03\n",
      "   3.65481488e-03   3.63525928e-03   3.61256980e-03   3.60921395e-03\n",
      "   3.59466801e-03   3.57566861e-03   3.57087388e-03   3.55036058e-03\n",
      "   3.55007820e-03   3.52842791e-03   3.51880141e-03   3.50205940e-03\n",
      "   3.47013606e-03   3.46583889e-03   3.46417872e-03   3.44997761e-03\n",
      "   3.43943781e-03   3.42330772e-03   3.41065913e-03   3.40227528e-03\n",
      "   3.40145168e-03   3.39127072e-03   3.38136088e-03   3.37050457e-03\n",
      "   3.36311019e-03   3.34486774e-03   3.33966858e-03   3.32604191e-03\n",
      "   3.32179499e-03   3.31602471e-03   3.31031237e-03   3.30045768e-03\n",
      "   3.29265766e-03   3.28754952e-03   3.27687908e-03   3.27472919e-03\n",
      "   3.26898178e-03   3.26638549e-03   3.25604245e-03   3.25512793e-03\n",
      "   3.25140926e-03   3.24958877e-03   3.24412170e-03   3.24007308e-03\n",
      "   3.23374429e-03   3.23151584e-03   3.22871114e-03   3.22813517e-03\n",
      "   3.22687954e-03   3.22458635e-03   3.22323213e-03   3.22319552e-03\n",
      "   3.22116627e-03   3.22047546e-03   3.21924433e-03   3.21729637e-03\n",
      "   3.21630902e-03   3.21501766e-03   3.21309951e-03   3.21213748e-03\n",
      "   3.21106611e-03   3.21075511e-03   3.20886410e-03   3.20828207e-03\n",
      "   3.20754948e-03   3.20644165e-03   3.20384971e-03   3.20154100e-03\n",
      "   3.20126540e-03   3.20012674e-03   3.19880978e-03   3.19731013e-03\n",
      "   3.19360667e-03   3.18983764e-03   3.18945883e-03   3.18533674e-03\n",
      "   3.18529040e-03   3.18264496e-03   3.18202206e-03   3.18159952e-03\n",
      "   3.18064413e-03   3.18000337e-03   3.17983739e-03   3.17952195e-03\n",
      "   3.17922274e-03   3.17902966e-03   3.17885631e-03   3.17824920e-03\n",
      "   3.17807302e-03   3.17801118e-03   3.17762457e-03   3.17750813e-03\n",
      "   3.17730785e-03   3.17663745e-03   3.17649693e-03   3.17568594e-03\n",
      "   3.17545910e-03   3.17528831e-03   3.17466337e-03   3.17439692e-03\n",
      "   3.17381302e-03   3.17369139e-03   3.17333582e-03   3.17304746e-03\n",
      "   3.17298496e-03   3.17266801e-03   3.17243576e-03   3.17229371e-03\n",
      "   3.17212781e-03   3.17193954e-03   3.17188974e-03   3.17166562e-03\n",
      "   3.17160717e-03   3.17137644e-03   3.17125037e-03   3.17110590e-03\n",
      "   3.17107560e-03   3.17101923e-03   3.17094224e-03   3.17090214e-03\n",
      "   3.17084531e-03   3.17071952e-03   3.17069135e-03   3.17061728e-03\n",
      "   3.17047725e-03   3.17034910e-03   3.17011108e-03   3.17002118e-03\n",
      "   3.17000556e-03   3.16989468e-03   3.16982897e-03   3.16977941e-03\n",
      "   3.16966845e-03   3.16958322e-03   3.16946725e-03   3.16943531e-03\n",
      "   3.16939851e-03   3.16938604e-03   3.16936103e-03   3.16935869e-03\n",
      "   3.16935805e-03   3.16935280e-03   3.16934631e-03   3.16932917e-03\n",
      "   3.16932454e-03   3.16931424e-03   3.16929992e-03   3.16929447e-03\n",
      "   3.16929388e-03   3.16929388e-03   3.16929388e-03   3.16929388e-03\n",
      "   3.16929388e-03   3.16920122e-03   3.16779917e-03   3.16246987e-03\n",
      "   3.15709171e-03   3.15468267e-03   3.14761383e-03   3.14248397e-03\n",
      "   3.13837570e-03   3.13549099e-03   3.12815967e-03   3.12165812e-03\n",
      "   3.11887308e-03   3.11398172e-03   3.10656745e-03   3.09590621e-03\n",
      "   3.09230059e-03   3.09070876e-03   3.08612089e-03   3.07771269e-03\n",
      "   3.06954909e-03   3.06775144e-03   3.05508041e-03   3.05158646e-03\n",
      "   3.04875986e-03   3.03748975e-03   3.03561246e-03   3.02208889e-03\n",
      "   3.01754473e-03   3.00688828e-03   2.99792740e-03   2.97915104e-03\n",
      "   2.97306801e-03   2.96692934e-03   2.95662999e-03   2.95023129e-03\n",
      "   2.91410525e-03   2.91018448e-03   2.90088620e-03   2.89495732e-03\n",
      "   2.88491996e-03   2.87282934e-03   2.86353567e-03   2.84647619e-03\n",
      "   2.83546321e-03   2.81144658e-03   2.80384280e-03   2.79066969e-03\n",
      "   2.78536974e-03   2.76713876e-03   2.75624355e-03   2.72898117e-03\n",
      "   2.72640305e-03   2.72113857e-03   2.69804192e-03   2.69089015e-03\n",
      "   2.68562910e-03   2.65593660e-03   2.63190896e-03   2.61886658e-03\n",
      "   2.61298099e-03   2.59237986e-03   2.56074944e-03   2.53914040e-03\n",
      "   2.52769051e-03   2.51309328e-03   2.50261112e-03   2.49107484e-03\n",
      "   2.45313785e-03   2.44582190e-03   2.42490674e-03   2.40956149e-03\n",
      "   2.35098680e-03   2.31492993e-03   2.29402995e-03   2.23963712e-03\n",
      "   2.23203179e-03   2.19668718e-03   2.18937346e-03   2.14744664e-03\n",
      "   2.11899177e-03   2.10675942e-03   2.03936579e-03   2.00460680e-03\n",
      "   1.97140190e-03   1.95437489e-03   1.93567252e-03   1.88658786e-03\n",
      "   1.86347616e-03   1.80418605e-03   1.76526505e-03   1.61515480e-03\n",
      "   1.52197018e-03   1.42861874e-03   1.06889613e-03   9.97226429e-04\n",
      "   9.55738679e-04   2.37464580e-04   2.37358316e-08   5.00360123e-27\n",
      "   5.40987992e-33   1.30406008e-34]\n"
     ]
    }
   ],
   "source": [
    "#PCA Analysis\n",
    "# Build the correlation mtarix\n",
    "correlation_matrix = X_scaled.corr()\n",
    "\n",
    "#Calculate the eigenvectores & eigenvalues\n",
    "eig_vals, eig_vecs = np.linalg.eig(correlation_matrix)\n",
    "sklearn_pca = PCA(n_components=len(X_scaled.columns))\n",
    "Y_sklearn = sklearn_pca.fit_transform(correlation_matrix)\n",
    "\n",
    "#Plot the scree plot for visual analysis of the PCA features\n",
    "plt.title('Scree Plot')\n",
    "plt.plot(eig_vals)\n",
    "plt.show()\n",
    "\n",
    "#For additional aid, print the total variance explained by each of the eigenvalues\n",
    "print('The percentage of total variance in the dataset explained \\n', sklearn_pca.explained_variance_ratio_)"
   ]
  },
  {
   "cell_type": "code",
   "execution_count": 15,
   "metadata": {},
   "outputs": [
    {
     "data": {
      "image/png": "[encoded data removed]",
      "text/plain": [
       "<matplotlib.figure.Figure at 0x7eff907865f8>"
      ]
     },
     "metadata": {},
     "output_type": "display_data"
    }
   ],
   "source": [
    "#Calculate Feature Importance using Random Forest\n",
    "#Start and fit the Random Forest Classifier\n",
    "rf = RandomForestClassifier()\n",
    "rf.fit(X_scaled, Y)\n",
    "\n",
    "#Define feature importance\n",
    "feature_importance = rf.feature_importances_\n",
    "\n",
    "# Make importances relative to max importance\n",
    "feature_importance = 100.0 * (feature_importance / feature_importance.max())\n",
    "sorted_idx = np.argsort(feature_importance)\n",
    "pos = np.arange(sorted_idx.shape[0]) + .5\n",
    "\n",
    "#Plot the relative importance of each feature\n",
    "plt.figure(figsize=(7, 20))\n",
    "plt.subplot(1, 1, 1)\n",
    "plt.barh(pos, feature_importance[sorted_idx], align='center')\n",
    "plt.yticks(pos, X.columns[sorted_idx])\n",
    "plt.xlabel('Relative Importance')\n",
    "plt.title('Features Selection (Random Forest)')\n",
    "plt.show()"
   ]
  },
  {
   "cell_type": "code",
   "execution_count": 16,
   "metadata": {},
   "outputs": [
    {
     "data": {
      "text/html": [
       "<div>\n",
       "<style>\n",
       "    .dataframe thead tr:only-child th {\n",
       "        text-align: right;\n",
       "    }\n",
       "\n",
       "    .dataframe thead th {\n",
       "        text-align: left;\n",
       "    }\n",
       "\n",
       "    .dataframe tbody tr th {\n",
       "        vertical-align: top;\n",
       "    }\n",
       "</style>\n",
       "<table border=\"1\" class=\"dataframe\">\n",
       "  <thead>\n",
       "    <tr style=\"text-align: right;\">\n",
       "      <th></th>\n",
       "      <th>Best Features</th>\n",
       "    </tr>\n",
       "  </thead>\n",
       "  <tbody>\n",
       "    <tr>\n",
       "      <th>Height (cm)</th>\n",
       "      <td>4044.423777</td>\n",
       "    </tr>\n",
       "    <tr>\n",
       "      <th>Width (cm)</th>\n",
       "      <td>2383.681027</td>\n",
       "    </tr>\n",
       "    <tr>\n",
       "      <th>French</th>\n",
       "      <td>1597.309307</td>\n",
       "    </tr>\n",
       "    <tr>\n",
       "      <th>American</th>\n",
       "      <td>1346.024309</td>\n",
       "    </tr>\n",
       "    <tr>\n",
       "      <th>Gender_Various Painters</th>\n",
       "      <td>1069.316013</td>\n",
       "    </tr>\n",
       "    <tr>\n",
       "      <th>Multiple Nationalities</th>\n",
       "      <td>1069.316013</td>\n",
       "    </tr>\n",
       "    <tr>\n",
       "      <th>YearAcquired</th>\n",
       "      <td>1038.534357</td>\n",
       "    </tr>\n",
       "    <tr>\n",
       "      <th>2003</th>\n",
       "      <td>844.596609</td>\n",
       "    </tr>\n",
       "    <tr>\n",
       "      <th>Swiss</th>\n",
       "      <td>389.781312</td>\n",
       "    </tr>\n",
       "    <tr>\n",
       "      <th>Spanish</th>\n",
       "      <td>311.846061</td>\n",
       "    </tr>\n",
       "    <tr>\n",
       "      <th>1971</th>\n",
       "      <td>293.554745</td>\n",
       "    </tr>\n",
       "    <tr>\n",
       "      <th>1926</th>\n",
       "      <td>238.357178</td>\n",
       "    </tr>\n",
       "    <tr>\n",
       "      <th>Portuguese</th>\n",
       "      <td>227.604011</td>\n",
       "    </tr>\n",
       "    <tr>\n",
       "      <th>1860</th>\n",
       "      <td>222.061423</td>\n",
       "    </tr>\n",
       "    <tr>\n",
       "      <th>Dutch</th>\n",
       "      <td>215.566601</td>\n",
       "    </tr>\n",
       "    <tr>\n",
       "      <th>Gender_Female</th>\n",
       "      <td>209.077563</td>\n",
       "    </tr>\n",
       "    <tr>\n",
       "      <th>1940</th>\n",
       "      <td>179.438722</td>\n",
       "    </tr>\n",
       "    <tr>\n",
       "      <th>1869</th>\n",
       "      <td>144.086299</td>\n",
       "    </tr>\n",
       "    <tr>\n",
       "      <th>2002</th>\n",
       "      <td>143.626033</td>\n",
       "    </tr>\n",
       "    <tr>\n",
       "      <th>1857</th>\n",
       "      <td>137.082525</td>\n",
       "    </tr>\n",
       "    <tr>\n",
       "      <th>2004</th>\n",
       "      <td>135.599236</td>\n",
       "    </tr>\n",
       "    <tr>\n",
       "      <th>1843</th>\n",
       "      <td>129.209907</td>\n",
       "    </tr>\n",
       "    <tr>\n",
       "      <th>1873</th>\n",
       "      <td>117.603728</td>\n",
       "    </tr>\n",
       "    <tr>\n",
       "      <th>1914</th>\n",
       "      <td>115.427332</td>\n",
       "    </tr>\n",
       "    <tr>\n",
       "      <th>Belgian</th>\n",
       "      <td>109.622769</td>\n",
       "    </tr>\n",
       "    <tr>\n",
       "      <th>1899</th>\n",
       "      <td>103.059586</td>\n",
       "    </tr>\n",
       "    <tr>\n",
       "      <th>1875</th>\n",
       "      <td>100.190663</td>\n",
       "    </tr>\n",
       "    <tr>\n",
       "      <th>Italian</th>\n",
       "      <td>98.491622</td>\n",
       "    </tr>\n",
       "    <tr>\n",
       "      <th>Brazilian</th>\n",
       "      <td>97.547814</td>\n",
       "    </tr>\n",
       "    <tr>\n",
       "      <th>Polish</th>\n",
       "      <td>96.721255</td>\n",
       "    </tr>\n",
       "  </tbody>\n",
       "</table>\n",
       "</div>"
      ],
      "text/plain": [
       "                         Best Features\n",
       "Height (cm)                4044.423777\n",
       "Width (cm)                 2383.681027\n",
       "French                     1597.309307\n",
       "American                   1346.024309\n",
       "Gender_Various Painters    1069.316013\n",
       "Multiple Nationalities     1069.316013\n",
       "YearAcquired               1038.534357\n",
       "2003                        844.596609\n",
       "Swiss                       389.781312\n",
       "Spanish                     311.846061\n",
       "1971                        293.554745\n",
       "1926                        238.357178\n",
       "Portuguese                  227.604011\n",
       "1860                        222.061423\n",
       "Dutch                       215.566601\n",
       "Gender_Female               209.077563\n",
       "1940                        179.438722\n",
       "1869                        144.086299\n",
       "2002                        143.626033\n",
       "1857                        137.082525\n",
       "2004                        135.599236\n",
       "1843                        129.209907\n",
       "1873                        117.603728\n",
       "1914                        115.427332\n",
       "Belgian                     109.622769\n",
       "1899                        103.059586\n",
       "1875                        100.190663\n",
       "Italian                      98.491622\n",
       "Brazilian                    97.547814\n",
       "Polish                       96.721255"
      ]
     },
     "execution_count": 16,
     "metadata": {},
     "output_type": "execute_result"
    }
   ],
   "source": [
    "#Feature Selection using KBest\n",
    "#Scores for the most relevant features start with the one that has more explanatory power\n",
    "# Initialize and fit the model for features extraction\n",
    "test = SelectKBest()\n",
    "fit = test.fit(X_scaled, Y)\n",
    "\n",
    "#Identify features with highest score from a predictive perspective\n",
    "#Create dataframe with the features ordered by their explanatory power\n",
    "features_names = X_scaled.columns\n",
    "Bestfeatures = pd.DataFrame(fit.scores_, index = features_names)\n",
    "Bestfeatures.columns = ['Best Features']\n",
    "Bestfeatures.sort_values(by=['Best Features'], ascending=False).head(30)"
   ]
  },
  {
   "cell_type": "code",
   "execution_count": 17,
   "metadata": {},
   "outputs": [
    {
     "data": {
      "text/html": [
       "<div>\n",
       "<style>\n",
       "    .dataframe thead tr:only-child th {\n",
       "        text-align: right;\n",
       "    }\n",
       "\n",
       "    .dataframe thead th {\n",
       "        text-align: left;\n",
       "    }\n",
       "\n",
       "    .dataframe tbody tr th {\n",
       "        vertical-align: top;\n",
       "    }\n",
       "</style>\n",
       "<table border=\"1\" class=\"dataframe\">\n",
       "  <thead>\n",
       "    <tr style=\"text-align: right;\">\n",
       "      <th></th>\n",
       "      <th>Features</th>\n",
       "      <th>Ranking</th>\n",
       "      <th>Support</th>\n",
       "    </tr>\n",
       "  </thead>\n",
       "  <tbody>\n",
       "    <tr>\n",
       "      <th>0</th>\n",
       "      <td>Height (cm)</td>\n",
       "      <td>1</td>\n",
       "      <td>True</td>\n",
       "    </tr>\n",
       "    <tr>\n",
       "      <th>204</th>\n",
       "      <td>1920</td>\n",
       "      <td>1</td>\n",
       "      <td>True</td>\n",
       "    </tr>\n",
       "    <tr>\n",
       "      <th>203</th>\n",
       "      <td>1919</td>\n",
       "      <td>1</td>\n",
       "      <td>True</td>\n",
       "    </tr>\n",
       "    <tr>\n",
       "      <th>202</th>\n",
       "      <td>1918</td>\n",
       "      <td>1</td>\n",
       "      <td>True</td>\n",
       "    </tr>\n",
       "    <tr>\n",
       "      <th>201</th>\n",
       "      <td>1917</td>\n",
       "      <td>1</td>\n",
       "      <td>True</td>\n",
       "    </tr>\n",
       "    <tr>\n",
       "      <th>200</th>\n",
       "      <td>1916</td>\n",
       "      <td>1</td>\n",
       "      <td>True</td>\n",
       "    </tr>\n",
       "    <tr>\n",
       "      <th>199</th>\n",
       "      <td>1915</td>\n",
       "      <td>1</td>\n",
       "      <td>True</td>\n",
       "    </tr>\n",
       "    <tr>\n",
       "      <th>205</th>\n",
       "      <td>1921</td>\n",
       "      <td>1</td>\n",
       "      <td>True</td>\n",
       "    </tr>\n",
       "    <tr>\n",
       "      <th>198</th>\n",
       "      <td>1914</td>\n",
       "      <td>1</td>\n",
       "      <td>True</td>\n",
       "    </tr>\n",
       "    <tr>\n",
       "      <th>196</th>\n",
       "      <td>1912</td>\n",
       "      <td>1</td>\n",
       "      <td>True</td>\n",
       "    </tr>\n",
       "    <tr>\n",
       "      <th>195</th>\n",
       "      <td>1911</td>\n",
       "      <td>1</td>\n",
       "      <td>True</td>\n",
       "    </tr>\n",
       "    <tr>\n",
       "      <th>194</th>\n",
       "      <td>1910</td>\n",
       "      <td>1</td>\n",
       "      <td>True</td>\n",
       "    </tr>\n",
       "    <tr>\n",
       "      <th>193</th>\n",
       "      <td>1909</td>\n",
       "      <td>1</td>\n",
       "      <td>True</td>\n",
       "    </tr>\n",
       "    <tr>\n",
       "      <th>192</th>\n",
       "      <td>1908</td>\n",
       "      <td>1</td>\n",
       "      <td>True</td>\n",
       "    </tr>\n",
       "    <tr>\n",
       "      <th>191</th>\n",
       "      <td>1907</td>\n",
       "      <td>1</td>\n",
       "      <td>True</td>\n",
       "    </tr>\n",
       "    <tr>\n",
       "      <th>197</th>\n",
       "      <td>1913</td>\n",
       "      <td>1</td>\n",
       "      <td>True</td>\n",
       "    </tr>\n",
       "    <tr>\n",
       "      <th>206</th>\n",
       "      <td>1922</td>\n",
       "      <td>1</td>\n",
       "      <td>True</td>\n",
       "    </tr>\n",
       "    <tr>\n",
       "      <th>207</th>\n",
       "      <td>1923</td>\n",
       "      <td>1</td>\n",
       "      <td>True</td>\n",
       "    </tr>\n",
       "    <tr>\n",
       "      <th>208</th>\n",
       "      <td>1924</td>\n",
       "      <td>1</td>\n",
       "      <td>True</td>\n",
       "    </tr>\n",
       "    <tr>\n",
       "      <th>223</th>\n",
       "      <td>1939</td>\n",
       "      <td>1</td>\n",
       "      <td>True</td>\n",
       "    </tr>\n",
       "    <tr>\n",
       "      <th>222</th>\n",
       "      <td>1938</td>\n",
       "      <td>1</td>\n",
       "      <td>True</td>\n",
       "    </tr>\n",
       "    <tr>\n",
       "      <th>221</th>\n",
       "      <td>1937</td>\n",
       "      <td>1</td>\n",
       "      <td>True</td>\n",
       "    </tr>\n",
       "    <tr>\n",
       "      <th>220</th>\n",
       "      <td>1936</td>\n",
       "      <td>1</td>\n",
       "      <td>True</td>\n",
       "    </tr>\n",
       "    <tr>\n",
       "      <th>219</th>\n",
       "      <td>1935</td>\n",
       "      <td>1</td>\n",
       "      <td>True</td>\n",
       "    </tr>\n",
       "    <tr>\n",
       "      <th>218</th>\n",
       "      <td>1934</td>\n",
       "      <td>1</td>\n",
       "      <td>True</td>\n",
       "    </tr>\n",
       "    <tr>\n",
       "      <th>217</th>\n",
       "      <td>1933</td>\n",
       "      <td>1</td>\n",
       "      <td>True</td>\n",
       "    </tr>\n",
       "    <tr>\n",
       "      <th>216</th>\n",
       "      <td>1932</td>\n",
       "      <td>1</td>\n",
       "      <td>True</td>\n",
       "    </tr>\n",
       "    <tr>\n",
       "      <th>215</th>\n",
       "      <td>1931</td>\n",
       "      <td>1</td>\n",
       "      <td>True</td>\n",
       "    </tr>\n",
       "    <tr>\n",
       "      <th>214</th>\n",
       "      <td>1930</td>\n",
       "      <td>1</td>\n",
       "      <td>True</td>\n",
       "    </tr>\n",
       "    <tr>\n",
       "      <th>213</th>\n",
       "      <td>1929</td>\n",
       "      <td>1</td>\n",
       "      <td>True</td>\n",
       "    </tr>\n",
       "  </tbody>\n",
       "</table>\n",
       "</div>"
      ],
      "text/plain": [
       "        Features  Ranking  Support\n",
       "0    Height (cm)        1     True\n",
       "204         1920        1     True\n",
       "203         1919        1     True\n",
       "202         1918        1     True\n",
       "201         1917        1     True\n",
       "200         1916        1     True\n",
       "199         1915        1     True\n",
       "205         1921        1     True\n",
       "198         1914        1     True\n",
       "196         1912        1     True\n",
       "195         1911        1     True\n",
       "194         1910        1     True\n",
       "193         1909        1     True\n",
       "192         1908        1     True\n",
       "191         1907        1     True\n",
       "197         1913        1     True\n",
       "206         1922        1     True\n",
       "207         1923        1     True\n",
       "208         1924        1     True\n",
       "223         1939        1     True\n",
       "222         1938        1     True\n",
       "221         1937        1     True\n",
       "220         1936        1     True\n",
       "219         1935        1     True\n",
       "218         1934        1     True\n",
       "217         1933        1     True\n",
       "216         1932        1     True\n",
       "215         1931        1     True\n",
       "214         1930        1     True\n",
       "213         1929        1     True"
      ]
     },
     "execution_count": 17,
     "metadata": {},
     "output_type": "execute_result"
    }
   ],
   "source": [
    "# Features selection with Recursive Feature Elimination RFE model\n",
    "#Set up the max number of features as indicated by PCA Analysis: number of features = 6\n",
    "n_features = len(X_scaled)\n",
    "\n",
    "#Initialize the model and fit\n",
    "lr = LogisticRegression()\n",
    "rfe = RFE(lr,n_features)\n",
    "fit = rfe.fit(X_scaled,Y)\n",
    "\n",
    "# Summarize the features selection. Based on the number of features from the PCA analysis\n",
    "#show all the features selected (true) and left out (false)\n",
    "result_RFE = pd.DataFrame(list(zip(X_scaled.head(0), rfe.ranking_, rfe.support_)),columns=['Features','Ranking','Support'] )\n",
    "result_RFE.sort_values('Ranking').head(30)"
   ]
  },
  {
   "cell_type": "code",
   "execution_count": 21,
   "metadata": {
    "collapsed": true
   },
   "outputs": [],
   "source": [
    "X_selected = X_scaled[['Height (cm)', 'Width (cm)', 'French','American',\n",
    "              'Gender_Various Painters','Multiple Nationalities',\n",
    "              'YearAcquired','2003', 'Swiss', 'Spanish', '1971', '1926', 'Portuguese',\n",
    "              '1860', 'Dutch', 'Gender_Female', '1940', '1869', '2002',\n",
    "              '1857', '2004', '1843', '1873', '1914', 'Belgian', '1899', '1875']]"
   ]
  },
  {
   "cell_type": "code",
   "execution_count": 22,
   "metadata": {},
   "outputs": [],
   "source": [
    "#Split the data into training and testing datasets. Split: 70/30; train/test\n",
    "\n",
    "X_train, X_test, y_train, y_test = train_test_split(X_selected,Y, test_size=0.3, random_state=123)\n",
    "\n",
    "#Initiating the cross validation generator, N splits = 5\n",
    "\n",
    "kf = KFold(5)"
   ]
  },
  {
   "cell_type": "code",
   "execution_count": 36,
   "metadata": {},
   "outputs": [
    {
     "name": "stdout",
     "output_type": "stream",
     "text": [
      "{'activation': 'logistic', 'hidden_layer_sizes': (400, 100), 'learning_rate_init': 0.001}\n",
      "0.740305709663\n"
     ]
    }
   ],
   "source": [
    "# Initialize and fit the model.\n",
    "mlp = MLPClassifier(max_iter=500, tol = 0.001)\n",
    "\n",
    "#Tune hyperparameters\n",
    "#Create range of values to fit parameters\n",
    "\n",
    "hidden_layer_sizes= [(100,20,), (200,50,), (400,100,)]\n",
    "activation = ['logistic']\n",
    "learning_rate_init = [0.001, 0.01, 1]\n",
    "\n",
    "parameters = {'hidden_layer_sizes': hidden_layer_sizes,\n",
    "             'activation': activation,\n",
    "             'learning_rate_init': learning_rate_init}\n",
    "\n",
    "#Fit parameters using gridsearch\n",
    "mlp_tuned = GridSearchCV(mlp, param_grid=parameters, cv=3)\n",
    "\n",
    "#Fit the tunned classifier in the training space\n",
    "mlp_tuned.fit(X_train, y_train)\n",
    "\n",
    "#Print the best parameters\n",
    "print(mlp_tuned.best_params_)    \n",
    "\n",
    "#Print mlp score\n",
    "print(mlp_tuned.score(X_train, y_train))"
   ]
  },
  {
   "cell_type": "code",
   "execution_count": 37,
   "metadata": {
    "collapsed": true
   },
   "outputs": [],
   "source": [
    "#Fit on Test set\n",
    "mlp_tuned.fit(X_test, y_test)\n",
    "\n",
    "predtest_y = mlp_tuned.predict(X_test)"
   ]
  },
  {
   "cell_type": "code",
   "execution_count": 38,
   "metadata": {},
   "outputs": [
    {
     "data": {
      "text/plain": [
       "0.67466662578177861"
      ]
     },
     "execution_count": 38,
     "metadata": {},
     "output_type": "execute_result"
    }
   ],
   "source": [
    "cross_val_score(mlp_tuned, X_test, y_test, cv=3).mean()"
   ]
  },
  {
   "cell_type": "code",
   "execution_count": 39,
   "metadata": {},
   "outputs": [
    {
     "data": {
      "text/plain": [
       "Prints & Illustrated Books    0.536797\n",
       "Photography                   0.214247\n",
       "Drawings                      0.108565\n",
       "Architecture & Design         0.104156\n",
       "Painting & Sculpture          0.036235\n",
       "Name: Department, dtype: float64"
      ]
     },
     "execution_count": 39,
     "metadata": {},
     "output_type": "execute_result"
    }
   ],
   "source": [
    "Y.value_counts()/len(Y)"
   ]
  },
  {
   "cell_type": "markdown",
   "metadata": {
    "collapsed": true
   },
   "source": [
    "In the artwork dataset, a multi-layer perceptron has been run on the selected features. The features have been selected using Random Forest, KBest and RFE.\n",
    "\n",
    "The final features that have been used are:\n",
    "\n",
    "'Height (cm)', 'Width (cm)', 'French','American','Gender_Various Painters','Multiple Nationalities','YearAcquired','2003', 'Swiss', 'Spanish', '1971', '1926', 'Portuguese', '1860', 'Dutch', 'Gender_Female', '1940', '1869', '2002', '1857', '2004', '1843', '1873', '1914', 'Belgian', '1899', '1875'\n",
    "\n",
    "The overall accuracy has been increased form an initial 55% to 67% (cross validation accuracy) by increasing the number of hidden layers to 2 with 400 and 100 neurons. Furthermore, the learning rate_init has been set to 0.001 from 1e-4 and the activation functions is logistic. All the parameters have been set using GridsearchCV with 3 folds."
   ]
  }
 ],
 "metadata": {
  "kernelspec": {
   "display_name": "Python 3",
   "language": "python",
   "name": "python3"
  },
  "language_info": {
   "codemirror_mode": {
    "name": "ipython",
    "version": 3
   },
   "file_extension": ".py",
   "mimetype": "text/x-python",
   "name": "python",
   "nbconvert_exporter": "python",
   "pygments_lexer": "ipython3",
   "version": "3.6.3"
  }
 },
 "nbformat": 4,
 "nbformat_minor": 2
}
