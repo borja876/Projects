{
 "cells": [
  {
   "cell_type": "markdown",
   "metadata": {},
   "source": [
    "***Popularity of various Uber drivers.***\n",
    "\n",
    "Yes. I would use a survey with one question when ending the trip using a 1-5 likert scale\n",
    "\n",
    "***A grocery store wants to know how much people like strawberry, chocolate, and vanilla ice cream.***\n",
    "\n",
    "Yes a survey could be used if it is done before replenishing stock, but if it is after the owner shoud have data from the KUs sold for each flavour.\n",
    "\n",
    "***Trojan wants to know whether their condoms are more popular among straight people or gay people.***\n",
    "\n",
    "No. I would not use a survey as it as difficult to get good quality data (secual orientation and use of condoms). At a very small scale and between buyers in a pharmacy, etc...I could use a private survey but not sure if it could get better\n",
    "\n",
    "***Recently, rental rates for HappyCars have increased by 30%, which is quite unusual. You want to find out why this is happening and how to keep the increase going.***\n",
    "\n",
    "Yes. I would do a survey between the customers asking in their rentals whiy are they renting it, how were they given this option, etc..\n",
    "\n",
    "***Assessing the success rate of a new advertising campaign.***\n",
    "\n",
    "It depends. I would use a survey for the design of the advertising campaign and to try especific things about it. I would not use ot to test the success rate of the campaign once launched. (size of the sample, other ways to get that data that are more effective: A/B testing)\n",
    "\n",
    "***Measuring the effect of nurse/patient ratio on patient recovery rates in hospital wards.***\n",
    "\n",
    "No. I would not use it as the information is going to be always biased. The ones that recovered in shorter periods of time will say that the effect of nurse were positive even if they weren´t."
   ]
  },
  {
   "cell_type": "code",
   "execution_count": null,
   "metadata": {
    "collapsed": true
   },
   "outputs": [],
   "source": []
  }
 ],
 "metadata": {
  "kernelspec": {
   "display_name": "Python 3",
   "language": "python",
   "name": "python3"
  },
  "language_info": {
   "codemirror_mode": {
    "name": "ipython",
    "version": 3
   },
   "file_extension": ".py",
   "mimetype": "text/x-python",
   "name": "python",
   "nbconvert_exporter": "python",
   "pygments_lexer": "ipython3",
   "version": "3.5.4"
  }
 },
 "nbformat": 4,
 "nbformat_minor": 2
}
