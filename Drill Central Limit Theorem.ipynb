{
 "cells": [
  {
   "cell_type": "code",
   "execution_count": 45,
   "metadata": {
    "collapsed": true
   },
   "outputs": [],
   "source": [
    "import numpy as np\n",
    "import pandas as pd\n",
    "import scipy\n",
    "import matplotlib.pyplot as plt\n",
    "%matplotlib inline"
   ]
  },
  {
   "cell_type": "code",
   "execution_count": 46,
   "metadata": {
    "scrolled": true
   },
   "outputs": [
    {
     "data": {
      "image/png": "[encoded data removed]",
      "text/plain": [
       "<matplotlib.figure.Figure at 0x10d4b70>"
      ]
     },
     "metadata": {},
     "output_type": "display_data"
    },
    {
     "name": "stdout",
     "output_type": "stream",
     "text": [
      "1.9807\n",
      "4.9955\n",
      "1.25854181893\n",
      "1.59244458302\n"
     ]
    }
   ],
   "source": [
    "#Create 2 binomial populations, pop1 (10,02,10000) and pop1(10,0.5,10000)\n",
    "\n",
    "pop1 = np.random.binomial(10, 0.2, 10000)\n",
    "pop2 = np.random.binomial(10,0.5, 10000) \n",
    "plt.hist(pop1, alpha=0.5, label='Population 1') \n",
    "plt.hist(pop2, alpha=0.5, label='Population 2') \n",
    "plt.legend(loc='upper right') \n",
    "plt.show()\n",
    "\n",
    "\n",
    "print(pop1.mean())\n",
    "print(pop2.mean())\n",
    "print(pop1.std())\n",
    "print(pop2.std())"
   ]
  },
  {
   "cell_type": "code",
   "execution_count": 47,
   "metadata": {
    "scrolled": true
   },
   "outputs": [
    {
     "data": {
      "image/png": "[encoded data removed]",
      "text/plain": [
       "<matplotlib.figure.Figure at 0x10d4830>"
      ]
     },
     "metadata": {},
     "output_type": "display_data"
    }
   ],
   "source": [
    "#Create two samples, one per population of 100 datapoints each\n",
    "\n",
    "sample1 = np.random.choice(pop1, 100, replace=True)\n",
    "sample2 = np.random.choice(pop2, 100, replace=True)\n",
    "\n",
    "plt.hist(sample1, alpha=0.5, label='sample 1') \n",
    "plt.hist(sample2, alpha=0.5, label='sample 2') \n",
    "plt.legend(loc='upper right') \n",
    "plt.show()\n"
   ]
  },
  {
   "cell_type": "code",
   "execution_count": 48,
   "metadata": {},
   "outputs": [
    {
     "name": "stdout",
     "output_type": "stream",
     "text": [
      "2.05\n",
      "4.98\n",
      "1.19478031453\n",
      "1.68511127229\n"
     ]
    }
   ],
   "source": [
    "#Calculate mean and standard deviations for each sample\n",
    "\n",
    "print(sample1.mean())\n",
    "print(sample2.mean())\n",
    "print(sample1.std())\n",
    "print(sample2.std())"
   ]
  },
  {
   "cell_type": "code",
   "execution_count": 49,
   "metadata": {},
   "outputs": [
    {
     "name": "stdout",
     "output_type": "stream",
     "text": [
      "Ttest_1sampResult(statistic=0.57711554628629025, pvalue=0.56517148293785713)\n",
      "Ttest_1sampResult(statistic=-0.091520990505217559, pvalue=0.92726355958658224)\n",
      "Ttest_indResult(statistic=-14.112982639104573, pvalue=7.3319062702570705e-31)\n"
     ]
    }
   ],
   "source": [
    "#Compare samples Calculate t-value & p-value.\n",
    "\n",
    "from scipy.stats import ttest_ind\n",
    "from scipy.stats import ttest_1samp\n",
    "\n",
    "mean1 = pop1.mean()\n",
    "mean2 = pop2.mean()\n",
    "\n",
    "print(ttest_1samp(sample1, mean1))\n",
    "print(ttest_1samp(sample2, mean2))\n",
    "\n",
    "print(ttest_ind(sample1, sample2, equal_var=False))"
   ]
  },
  {
   "cell_type": "code",
   "execution_count": 50,
   "metadata": {},
   "outputs": [
    {
     "name": "stdout",
     "output_type": "stream",
     "text": [
      "1.986\n",
      "5.049\n",
      "1.20656703088\n",
      "1.56926702635\n"
     ]
    },
    {
     "data": {
      "image/png": "[encoded data removed]",
      "text/plain": [
       "<matplotlib.figure.Figure at 0x11d7570>"
      ]
     },
     "metadata": {},
     "output_type": "display_data"
    }
   ],
   "source": [
    "#Increase the size of your samples from 100 to 1000\n",
    "#Calculate the means and standard deviations for your new samples and create histograms for each.\n",
    "\n",
    "sample3 = np.random.choice(pop1, 1000, replace=True)\n",
    "sample4 = np.random.choice(pop2, 1000, replace=True)\n",
    "\n",
    "print(sample3.mean())\n",
    "print(sample4.mean())\n",
    "print(sample3.std())\n",
    "print(sample4.std())\n",
    "\n",
    "\n",
    "plt.hist(sample3, alpha=0.5, label='sample 3') \n",
    "plt.hist(sample4, alpha=0.5, label='sample 4') \n",
    "plt.legend(loc='upper right') \n",
    "plt.show()"
   ]
  },
  {
   "cell_type": "code",
   "execution_count": 51,
   "metadata": {},
   "outputs": [
    {
     "name": "stdout",
     "output_type": "stream",
     "text": [
      "Ttest_1sampResult(statistic=0.13883761977862311, pvalue=0.88960644717886805)\n",
      "Ttest_1sampResult(statistic=1.0775555714455496, pvalue=0.28149226535637206)\n",
      "Ttest_indResult(statistic=48.907469276540127, pvalue=0.0)\n"
     ]
    }
   ],
   "source": [
    "#Compare samples Calculate t-value & p-value.\n",
    "\n",
    "from scipy.stats import ttest_ind\n",
    "from scipy.stats import ttest_1samp\n",
    "\n",
    "mean1 = pop1.mean()\n",
    "mean2 = pop2.mean()\n",
    "\n",
    "print(ttest_1samp(sample3, mean1))\n",
    "print(ttest_1samp(sample4, mean2))\n",
    "\n",
    "print(ttest_ind(sample4, sample3, equal_var=False))"
   ]
  },
  {
   "cell_type": "code",
   "execution_count": 52,
   "metadata": {},
   "outputs": [
    {
     "name": "stdout",
     "output_type": "stream",
     "text": [
      "1.95\n",
      "5.25\n",
      "1.02347447452\n",
      "2.04633819297\n"
     ]
    },
    {
     "data": {
      "image/png": "[encoded data removed]",
      "text/plain": [
       "<matplotlib.figure.Figure at 0x120fed0>"
      ]
     },
     "metadata": {},
     "output_type": "display_data"
    }
   ],
   "source": [
    "#Decreasing the size of your samples to 20. What values change, and what remain the same?\n",
    "\n",
    "sample3 = np.random.choice(pop1, 20, replace=True)\n",
    "sample4 = np.random.choice(pop2, 20, replace=True)\n",
    "\n",
    "print(sample3.mean())\n",
    "print(sample4.mean())\n",
    "print(sample3.std())\n",
    "print(sample4.std())\n",
    "\n",
    "plt.hist(sample3, alpha=0.5, label='sample 3') \n",
    "plt.hist(sample4, alpha=0.5, label='sample 4') \n",
    "plt.legend(loc='upper right') \n",
    "plt.show()"
   ]
  },
  {
   "cell_type": "code",
   "execution_count": 53,
   "metadata": {},
   "outputs": [
    {
     "name": "stdout",
     "output_type": "stream",
     "text": [
      "Ttest_1sampResult(statistic=-0.1307489350226092, pvalue=0.89734837284072033)\n",
      "Ttest_1sampResult(statistic=0.542109698652528, pvalue=0.59404458242754909)\n",
      "Ttest_indResult(statistic=6.2868398501043101, pvalue=8.5607569230615865e-07)\n"
     ]
    }
   ],
   "source": [
    "#Compare samples: calculate t-value & p-value.\n",
    "\n",
    "from scipy.stats import ttest_ind\n",
    "from scipy.stats import ttest_1samp\n",
    "\n",
    "mean1 = pop1.mean()\n",
    "mean2 = pop2.mean()\n",
    "\n",
    "print(ttest_1samp(sample3, mean1))\n",
    "print(ttest_1samp(sample4, mean2))\n",
    "\n",
    "print(ttest_ind(sample4, sample3, equal_var=False))"
   ]
  },
  {
   "cell_type": "markdown",
   "metadata": {},
   "source": [
    "What values change, and what remain the same?\n",
    "\n",
    "When running the one sample t test, p is always higher than 0.05, meaning that at 5% significane level the sample provides sufficient evidence to conclude that the mean of the sample is the calculated mean in all cases (for both populations)\n",
    "\n",
    "Regarding the samples: means change, the lower the number of datapoints the less accurate the representation of the population. \n",
    "\n",
    "T-values increase with the size while p-values tend to zero showing that the difference in means is due to the difference in the populations and not just variability."
   ]
  },
  {
   "cell_type": "code",
   "execution_count": 54,
   "metadata": {
    "scrolled": true
   },
   "outputs": [
    {
     "data": {
      "image/png": "[encoded data removed]",
      "text/plain": [
       "<matplotlib.figure.Figure at 0x103ced0>"
      ]
     },
     "metadata": {},
     "output_type": "display_data"
    },
    {
     "name": "stdout",
     "output_type": "stream",
     "text": [
      "2.976\n",
      "5.0377\n",
      "1.46219834496\n",
      "1.58634129682\n"
     ]
    }
   ],
   "source": [
    "#Change the population value for pop1 to 0.3\n",
    "\n",
    "pop1 = np.random.binomial(10, 0.3, 10000)\n",
    "pop2 = np.random.binomial(10,0.5, 10000) \n",
    "plt.hist(pop1, alpha=0.5, label='Population 1') \n",
    "plt.hist(pop2, alpha=0.5, label='Population 2') \n",
    "plt.legend(loc='upper right') \n",
    "plt.show()\n",
    "\n",
    "print(pop1.mean())\n",
    "print(pop2.mean())\n",
    "print(pop1.std())\n",
    "print(pop2.std())"
   ]
  },
  {
   "cell_type": "code",
   "execution_count": 55,
   "metadata": {},
   "outputs": [
    {
     "name": "stdout",
     "output_type": "stream",
     "text": [
      "2.96\n",
      "5.21\n",
      "1.58063278468\n",
      "1.77929761423\n"
     ]
    },
    {
     "data": {
      "image/png": "[encoded data removed]",
      "text/plain": [
       "<matplotlib.figure.Figure at 0xfff1f0>"
      ]
     },
     "metadata": {},
     "output_type": "display_data"
    }
   ],
   "source": [
    "#Samples of the new pop1 and pop2\n",
    "\n",
    "sample5 = np.random.choice(pop1, 100, replace=True)\n",
    "sample6 = np.random.choice(pop2, 100, replace=True)\n",
    "\n",
    "print(sample5.mean())\n",
    "print(sample6.mean())\n",
    "print(sample5.std())\n",
    "print(sample6.std())\n",
    "\n",
    "\n",
    "plt.hist(sample5, alpha=0.5, label='sample 5') \n",
    "plt.hist(sample6, alpha=0.5, label='sample 6') \n",
    "plt.legend(loc='upper right') \n",
    "plt.show()"
   ]
  },
  {
   "cell_type": "code",
   "execution_count": 56,
   "metadata": {},
   "outputs": [
    {
     "name": "stdout",
     "output_type": "stream",
     "text": [
      "Ttest_1sampResult(statistic=-0.10071788430571899, pvalue=0.91997810533545221)\n",
      "Ttest_1sampResult(statistic=0.96350567798509745, pvalue=0.3376414166929137)\n",
      "Ttest_indResult(statistic=9.4064768700972401, pvalue=1.4376893052899673e-17)\n"
     ]
    }
   ],
   "source": [
    "#Compare samples Calculate t-value & p-value.\n",
    "\n",
    "from scipy.stats import ttest_ind\n",
    "from scipy.stats import ttest_1samp\n",
    "\n",
    "mean1 = pop1.mean()\n",
    "mean2 = pop2.mean()\n",
    "\n",
    "print(ttest_1samp(sample5, mean1))\n",
    "print(ttest_1samp(sample6, mean2))\n",
    "\n",
    "print(ttest_ind(sample6, sample5, equal_var=False))"
   ]
  },
  {
   "cell_type": "code",
   "execution_count": 57,
   "metadata": {},
   "outputs": [
    {
     "data": {
      "image/png": "[encoded data removed]",
      "text/plain": [
       "<matplotlib.figure.Figure at 0x101ab70>"
      ]
     },
     "metadata": {},
     "output_type": "display_data"
    },
    {
     "name": "stdout",
     "output_type": "stream",
     "text": [
      "3.9967\n",
      "4.9723\n",
      "1.54028864503\n",
      "1.57446267342\n"
     ]
    }
   ],
   "source": [
    "#Then change the population value p for group 1 to 0.4, and do it again\n",
    "\n",
    "pop1 = np.random.binomial(10, 0.4, 10000)\n",
    "pop2 = np.random.binomial(10,0.5, 10000) \n",
    "plt.hist(pop1, alpha=0.5, label='Population 1') \n",
    "plt.hist(pop2, alpha=0.5, label='Population 2') \n",
    "plt.legend(loc='upper right') \n",
    "plt.show()\n",
    "\n",
    "print(pop1.mean())\n",
    "print(pop2.mean())\n",
    "print(pop1.std())\n",
    "print(pop2.std())\n"
   ]
  },
  {
   "cell_type": "code",
   "execution_count": 58,
   "metadata": {},
   "outputs": [
    {
     "name": "stdout",
     "output_type": "stream",
     "text": [
      "3.97\n",
      "4.9\n",
      "1.59031443432\n",
      "1.59059737206\n"
     ]
    },
    {
     "data": {
      "image/png": "[encoded data removed]",
      "text/plain": [
       "<matplotlib.figure.Figure at 0x122a630>"
      ]
     },
     "metadata": {},
     "output_type": "display_data"
    }
   ],
   "source": [
    "#Samples of the new pop1 and pop2\n",
    "\n",
    "sample5 = np.random.choice(pop1, 100, replace=True)\n",
    "sample6 = np.random.choice(pop2, 100, replace=True)\n",
    "\n",
    "print(sample5.mean())\n",
    "print(sample6.mean())\n",
    "print(sample5.std())\n",
    "print(sample6.std())\n",
    "\n",
    "\n",
    "plt.hist(sample5, alpha=0.5, label='sample 5') \n",
    "plt.hist(sample6, alpha=0.5, label='sample 6') \n",
    "plt.legend(loc='upper right') \n",
    "plt.show()"
   ]
  },
  {
   "cell_type": "code",
   "execution_count": 59,
   "metadata": {},
   "outputs": [
    {
     "name": "stdout",
     "output_type": "stream",
     "text": [
      "Ttest_1sampResult(statistic=-0.16704976071062602, pvalue=0.86767163156208615)\n",
      "Ttest_1sampResult(statistic=-0.45226776408979114, pvalue=0.6520655370997569)\n",
      "Ttest_indResult(statistic=4.1139964622425618, pvalue=5.7004154432148999e-05)\n"
     ]
    }
   ],
   "source": [
    "#Compare samples Calculate t-value & p-value.\n",
    "\n",
    "from scipy.stats import ttest_ind\n",
    "from scipy.stats import ttest_1samp\n",
    "\n",
    "mean1 = pop1.mean()\n",
    "mean2 = pop2.mean()\n",
    "\n",
    "print(ttest_1samp(sample5, mean1))\n",
    "print(ttest_1samp(sample6, mean2))\n",
    "\n",
    "print(ttest_ind(sample6, sample5, equal_var=False))"
   ]
  },
  {
   "cell_type": "markdown",
   "metadata": {},
   "source": [
    "What changes, and why?\n",
    "\n",
    "The t-value decreases in the second case (when p1=0.4, p2=0.5) and the p-value is much higher. The t value decreases because the difference between means is lower and the increase if the p-value shows the that the noise due to variability is growing in weach case "
   ]
  },
  {
   "cell_type": "code",
   "execution_count": 69,
   "metadata": {},
   "outputs": [
    {
     "data": {
      "image/png": "[encoded data removed]",
      "text/plain": [
       "<matplotlib.figure.Figure at 0x10cb790>"
      ]
     },
     "metadata": {},
     "output_type": "display_data"
    },
    {
     "name": "stdout",
     "output_type": "stream",
     "text": [
      "3.9967\n",
      "4.9723\n",
      "1.54028864503\n",
      "1.57446267342\n"
     ]
    }
   ],
   "source": [
    "#Change the distribution of your populations from binomial to a distribution of your choice\n",
    "\n",
    "pop3 = np.random.standard_t(25, 10000)\n",
    "pop4 = logistic = np.random.logistic(9,2, 10000)\n",
    "plt.hist(pop1, alpha=0.5, label='Population 3') \n",
    "plt.hist(pop2, alpha=0.5, label='Population 4') \n",
    "plt.legend(loc='upper right') \n",
    "plt.show()\n",
    "\n",
    "print(pop1.mean())\n",
    "print(pop2.mean())\n",
    "print(pop1.std())\n",
    "print(pop2.std())"
   ]
  },
  {
   "cell_type": "code",
   "execution_count": 70,
   "metadata": {},
   "outputs": [
    {
     "name": "stdout",
     "output_type": "stream",
     "text": [
      "-0.0693556002833\n",
      "8.44423594223\n",
      "1.10046169507\n",
      "3.69634286444\n"
     ]
    },
    {
     "data": {
      "image/png": "[encoded data removed]",
      "text/plain": [
       "<matplotlib.figure.Figure at 0x10310b0>"
      ]
     },
     "metadata": {},
     "output_type": "display_data"
    }
   ],
   "source": [
    "#Samples of the new pop1 and pop2.\n",
    "\n",
    "sample7 = np.random.choice(pop3, 100, replace=True)\n",
    "sample8 = np.random.choice(pop4, 100, replace=True)\n",
    "\n",
    "print(sample7.mean())\n",
    "print(sample8.mean())\n",
    "print(sample7.std())\n",
    "print(sample8.std())\n",
    "\n",
    "\n",
    "plt.hist(sample7, alpha=0.5, label='sample 7') \n",
    "plt.hist(sample8, alpha=0.5, label='sample 8') \n",
    "plt.legend(loc='upper right') \n",
    "plt.show()"
   ]
  },
  {
   "cell_type": "code",
   "execution_count": 71,
   "metadata": {},
   "outputs": [
    {
     "name": "stdout",
     "output_type": "stream",
     "text": [
      "Ttest_1sampResult(statistic=-0.63469053407407361, pvalue=0.52709432370300191)\n",
      "Ttest_1sampResult(statistic=-1.45490650414748, pvalue=0.14885859701357648)\n",
      "Ttest_indResult(statistic=21.96428183557293, pvalue=3.2444282398910242e-43)\n"
     ]
    }
   ],
   "source": [
    "#Compare samples Calculate t-value & p-value.\n",
    "\n",
    "from scipy.stats import ttest_ind\n",
    "from scipy.stats import ttest_1samp\n",
    "\n",
    "mean1 = pop3.mean()\n",
    "mean2 = pop4.mean()\n",
    "\n",
    "print(ttest_1samp(sample7, mean1))\n",
    "print(ttest_1samp(sample8, mean2))\n",
    "\n",
    "print(ttest_ind(sample8, sample7, equal_var=False))"
   ]
  },
  {
   "cell_type": "markdown",
   "metadata": {},
   "source": [
    "Do the sample mean values still accurately represent the population values?\n",
    "\n",
    "In this case, the distance between means is 21 times the standard error. Additionally, the p-value is close to zero therefore the difference we see is due to the difference between populations."
   ]
  }
 ],
 "metadata": {
  "kernelspec": {
   "display_name": "Python 3",
   "language": "python",
   "name": "python3"
  },
  "language_info": {
   "codemirror_mode": {
    "name": "ipython",
    "version": 3
   },
   "file_extension": ".py",
   "mimetype": "text/x-python",
   "name": "python",
   "nbconvert_exporter": "python",
   "pygments_lexer": "ipython3",
   "version": "3.6.1"
  }
 },
 "nbformat": 4,
 "nbformat_minor": 2
}
