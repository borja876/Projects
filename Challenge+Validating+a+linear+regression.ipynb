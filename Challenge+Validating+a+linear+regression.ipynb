{
 "cells": [
  {
   "cell_type": "code",
   "execution_count": 420,
   "metadata": {},
   "outputs": [],
   "source": [
    "%matplotlib inline\n",
    "import numpy as np\n",
    "import pandas as pd\n",
    "import scipy\n",
    "import sklearn\n",
    "import matplotlib.pyplot as plt\n",
    "import seaborn as sns\n",
    "import math\n",
    "from matplotlib.mlab import PCA as mlabPCA\n",
    "from sklearn.preprocessing import StandardScaler\n",
    "from sklearn.decomposition import PCA \n",
    "from sklearn import preprocessing\n",
    "from sklearn.feature_selection import SelectKBest\n",
    "import seaborn as sns\n",
    "import scipy.stats as stats\n",
    "from sklearn.naive_bayes import GaussianNB\n",
    "from sklearn.naive_bayes import MultinomialNB\n",
    "from sklearn.naive_bayes import BernoulliNB\n",
    "from sklearn.metrics import confusion_matrix\n",
    "from sklearn.model_selection import cross_val_score, KFold\n",
    "import matplotlib.pyplot as plt\n",
    "from sklearn.model_selection import StratifiedKFold\n",
    "from sklearn.feature_selection import RFECV\n",
    "from sklearn.datasets import make_classification\n",
    "from sklearn.feature_selection import RFE\n",
    "from sklearn.model_selection import cross_val_predict\n",
    "from sklearn import metrics\n",
    "from sklearn.decomposition import PCA as sklearn_pca\n",
    "import locale\n",
    "from locale import atof\n",
    "import warnings\n",
    "from IPython.display import display\n",
    "from sklearn import linear_model\n",
    "from sklearn.model_selection import cross_val_score, cross_val_predict\n",
    "from sklearn.feature_selection import f_regression\n",
    "import statsmodels.formula.api as smf\n",
    "from statsmodels.sandbox.regression.predstd import wls_prediction_std\n",
    "import pickle"
   ]
  },
  {
   "cell_type": "markdown",
   "metadata": {},
   "source": [
    "**Load new dataset**"
   ]
  },
  {
   "cell_type": "code",
   "execution_count": 421,
   "metadata": {},
   "outputs": [],
   "source": [
    "#Load data form excel spreadsheet into pandas\n",
    "xls_file = pd.ExcelFile('D:\\\\Users\\\\Borja.gonzalez\\\\Desktop\\\\Thinkful-DataScience-Borja\\\\Test_fbidata2014.xlsx')\n",
    "\n",
    "# View the excel file's sheet names\n",
    "#xls_file.sheet_names\n",
    "\n",
    "# Load the xls file's 14tbl08ny as a dataframe\n",
    "testfbi2014 = xls_file.parse('14tbl08ny')"
   ]
  },
  {
   "cell_type": "markdown",
   "metadata": {},
   "source": [
    "**Clean and prepare the new dataset**"
   ]
  },
  {
   "cell_type": "code",
   "execution_count": 422,
   "metadata": {},
   "outputs": [
    {
     "name": "stdout",
     "output_type": "stream",
     "text": [
      "<class 'pandas.core.frame.DataFrame'>\n",
      "RangeIndex: 368 entries, 0 to 367\n",
      "Data columns (total 9 columns):\n",
      "Population           368 non-null float64\n",
      "Violent Crime        368 non-null float64\n",
      "Murder               368 non-null float64\n",
      "Robbery              368 non-null float64\n",
      "Assault              368 non-null float64\n",
      "PropertyCrime        368 non-null float64\n",
      "Burglary             368 non-null float64\n",
      "Larceny & Theft      368 non-null float64\n",
      "MotorVehicleTheft    368 non-null float64\n",
      "dtypes: float64(9)\n",
      "memory usage: 25.9 KB\n"
     ]
    }
   ],
   "source": [
    "#Transform FBI Raw Data\n",
    "#Rename columns with row 3 from the original data set\n",
    "testfbi2014 = testfbi2014.rename(columns=testfbi2014.iloc[3])\n",
    "\n",
    "#Delete first three rows don´t contain data for the regression model\n",
    "testfbi2014 = testfbi2014.drop(testfbi2014.index[0:4])\n",
    "\n",
    "#Delete columns containing \"Rape\"\n",
    "testfbi2014 = testfbi2014.drop(['City','Arson3','Rape\\n(revised\\ndefinition)1','Rape\\n(legacy\\ndefinition)2'], axis = 1)\n",
    "\n",
    "#Change names in Columns\n",
    "testfbi2014 = testfbi2014.rename(columns={'Violent\\ncrime': 'Violent Crime', 'Murder and\\nnonnegligent\\nmanslaughter': 'Murder', 'Robbery': 'Robbery', 'Aggravated\\nassault': 'Assault', 'Property\\ncrime': 'PropertyCrime', 'Burglary': 'Burglary', 'Larceny-\\ntheft': 'Larceny & Theft', 'Motor\\nvehicle\\ntheft': 'MotorVehicleTheft'})\n",
    "\n",
    "#Clean NaN values from dataset and reset index\n",
    "testfbi2014 = testfbi2014.dropna().reset_index(drop=True)\n",
    "\n",
    "#Convert objects to floats\n",
    "testfbi2014.astype('float64').info()\n",
    "\n",
    "#Scale and preprocess the dataset\n",
    "names = testfbi2014.columns\n",
    "fbi2014_scaled = pd.DataFrame(preprocessing.scale(testfbi2014), columns = names)"
   ]
  },
  {
   "cell_type": "markdown",
   "metadata": {},
   "source": [
    "**Import the model from Challenge: make your own regression model**"
   ]
  },
  {
   "cell_type": "code",
   "execution_count": 423,
   "metadata": {},
   "outputs": [
    {
     "name": "stdout",
     "output_type": "stream",
     "text": [
      "\n",
      "Coefficients: \n",
      " [ 0.28185986  0.1676387   0.6022175 ]\n",
      "\n",
      "Intercept: \n",
      " 2.26845917801e-17\n",
      "\n",
      "R-squared:\n",
      "0.994755015696\n",
      "\n",
      "Variables in the model: \n",
      " ['Population', 'Robbery', 'Burglary']\n"
     ]
    }
   ],
   "source": [
    "# load the model from disk\n",
    "filename = 'finalized_regr.sav'\n",
    "loaded_model = pickle.load(open(filename, 'rb'))\n",
    "\n",
    "# Inspect the results.\n",
    "print('\\nCoefficients: \\n', loaded_model.coef_)\n",
    "print('\\nIntercept: \\n', loaded_model.intercept_)\n",
    "print('\\nR-squared:')\n",
    "print(loaded_model.score(X, Y))\n",
    "print('\\nVariables in the model: \\n',list(X.columns))"
   ]
  },
  {
   "cell_type": "markdown",
   "metadata": {},
   "source": [
    "**Cross Validation & Predictive Power of the \"Challenge: make your own regression model\" model**"
   ]
  },
  {
   "cell_type": "code",
   "execution_count": 424,
   "metadata": {},
   "outputs": [],
   "source": [
    "X1 = fbi2014_scaled.drop(['Violent Crime','Murder','Larceny & Theft','PropertyCrime','MotorVehicleTheft','Assault'],axis=1)\n",
    "Y1 = fbi2014_scaled['PropertyCrime'].values.ravel()"
   ]
  },
  {
   "cell_type": "code",
   "execution_count": 425,
   "metadata": {
    "collapsed": true
   },
   "outputs": [],
   "source": [
    "#Initiating the cross validation generator, N splits = 10\n",
    "\n",
    "kf = KFold(20)"
   ]
  },
  {
   "cell_type": "code",
   "execution_count": 426,
   "metadata": {},
   "outputs": [
    {
     "name": "stdout",
     "output_type": "stream",
     "text": [
      "Cross-validated scores: [ 0.9720185   0.93804928  0.99871224  0.88493645  0.84714914  0.91537436\n",
      "  0.92580617  0.86375897  0.90231454  0.75647478  0.48434937  0.65082505\n",
      "  0.93941435  0.67214386  0.79902404  0.98930422  0.9685836   0.98701888\n",
      "  0.95173945  0.55173442]\n",
      "Cross-validation average: 0.849936584332\n"
     ]
    }
   ],
   "source": [
    "#Cross validate the model on the folds\n",
    "loaded_model.fit(X1,Y1)\n",
    "scores = cross_val_score(loaded_model, X1, Y1, cv=kf)\n",
    "print('Cross-validated scores:', scores)\n",
    "print('Cross-validation average:', scores.mean())"
   ]
  },
  {
   "cell_type": "code",
   "execution_count": 427,
   "metadata": {},
   "outputs": [
    {
     "name": "stdout",
     "output_type": "stream",
     "text": [
      "Cross-Predicted Accuracy: 0.94319469344\n"
     ]
    }
   ],
   "source": [
    "#Predictive accuracy\n",
    "\n",
    "predictions = cross_val_predict(loaded_model, X1, Y1, cv=kf)\n",
    "accuracy = metrics.r2_score(Y1, predictions)\n",
    "print ('Cross-Predicted Accuracy:', accuracy)"
   ]
  },
  {
   "cell_type": "code",
   "execution_count": 428,
   "metadata": {},
   "outputs": [
    {
     "name": "stdout",
     "output_type": "stream",
     "text": [
      "\n",
      "Coefficients: \n",
      " [ 0.74297568 -0.16067887  0.423637  ]\n",
      "\n",
      "Intercept: \n",
      " -1.73205924763e-17\n",
      "\n",
      "Variables in the model: \n",
      " ['Population', 'Robbery', 'Burglary']\n"
     ]
    }
   ],
   "source": [
    "# Instantiate and fit our model.\n",
    "regr1 = linear_model.LinearRegression()\n",
    "regr1.fit(X1, Y1)\n",
    "\n",
    "# Inspect the results.\n",
    "print('\\nCoefficients: \\n', regr1.coef_)\n",
    "print('\\nIntercept: \\n', regr1.intercept_)\n",
    "print('\\nVariables in the model: \\n',list(X1.columns))"
   ]
  },
  {
   "cell_type": "code",
   "execution_count": 429,
   "metadata": {},
   "outputs": [
    {
     "name": "stdout",
     "output_type": "stream",
     "text": [
      "Cross-validated scores: [ 0.9720185   0.93804928  0.99871224  0.88493645  0.84714914  0.91537436\n",
      "  0.92580617  0.86375897  0.90231454  0.75647478  0.48434937  0.65082505\n",
      "  0.93941435  0.67214386  0.79902404  0.98930422  0.9685836   0.98701888\n",
      "  0.95173945  0.55173442]\n",
      "Cross-validation average: 0.849936584332\n"
     ]
    }
   ],
   "source": [
    "#Cross validate the new model on the folds\n",
    "\n",
    "scores = cross_val_score(regr1, X1, Y1, cv=kf)\n",
    "print('Cross-validated scores:', scores)\n",
    "print('Cross-validation average:', scores.mean())"
   ]
  },
  {
   "cell_type": "code",
   "execution_count": 430,
   "metadata": {},
   "outputs": [
    {
     "name": "stdout",
     "output_type": "stream",
     "text": [
      "Cross-Predicted Accuracy: 0.94319469344\n"
     ]
    }
   ],
   "source": [
    "#Cross validation, scores\n",
    "predictions = cross_val_predict(regr1, X1, Y1, cv=kf)\n",
    "accuracy = metrics.r2_score(Y1, predictions)\n",
    "print ('Cross-Predicted Accuracy:', accuracy)"
   ]
  },
  {
   "cell_type": "markdown",
   "metadata": {},
   "source": [
    "**Conclusions & additional notes**\n",
    "\n",
    " - The model has been tested through follwing cross-validation until 79% has been achieved using FBI data for 2013\n",
    " - Results from cross vaidation training & features selection can be seen in Challenge: make your own regression model \n",
    " - New fbidata 2014 has been scaled and passed through the best model achieved in Challenge: make your own regression model\n",
    " - The predictive capacity of the model is 94% and the cross validation score is 85%. This is the higher R2 that can I have been able to achieve through cross validation while training the model."
   ]
  }
 ],
 "metadata": {
  "kernelspec": {
   "display_name": "Python 3",
   "language": "python",
   "name": "python3"
  },
  "language_info": {
   "codemirror_mode": {
    "name": "ipython",
    "version": 3
   },
   "file_extension": ".py",
   "mimetype": "text/x-python",
   "name": "python",
   "nbconvert_exporter": "python",
   "pygments_lexer": "ipython3",
   "version": "3.6.1"
  }
 },
 "nbformat": 4,
 "nbformat_minor": 2
}
