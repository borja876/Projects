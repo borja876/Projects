{
 "cells": [
  {
   "cell_type": "markdown",
   "metadata": {},
   "source": [
    "Use this dataset of airline arrival information to predict how late flights will be. A flight only counts as late if it is more than 30 minutes late."
   ]
  },
  {
   "cell_type": "code",
   "execution_count": 1,
   "metadata": {
    "collapsed": true
   },
   "outputs": [],
   "source": [
    "%matplotlib inline\n",
    "import numpy as np\n",
    "import pandas as pd\n",
    "import scipy\n",
    "import sklearn\n",
    "import matplotlib.pyplot as plt\n",
    "import seaborn as sns\n",
    "import math\n",
    "from matplotlib.mlab import PCA as mlabPCA\n",
    "from sklearn.preprocessing import StandardScaler\n",
    "from sklearn.decomposition import PCA \n",
    "from sklearn import preprocessing\n",
    "from sklearn.metrics import confusion_matrix\n",
    "from sklearn.model_selection import cross_val_score, KFold, cross_val_predict\n",
    "import matplotlib.pyplot as plt\n",
    "from sklearn.decomposition import PCA as sklearn_pca\n",
    "from sklearn import decomposition\n",
    "from sklearn import ensemble\n",
    "from sklearn.ensemble import RandomForestClassifier\n",
    "from sklearn.model_selection import train_test_split\n",
    "from sklearn.feature_selection import SelectFromModel\n",
    "from sklearn.metrics import accuracy_score\n",
    "from sklearn.linear_model import LogisticRegression\n",
    "from sklearn.utils import resample\n",
    "from sklearn.ensemble import RandomForestClassifier, BaggingClassifier\n",
    "from sklearn.naive_bayes import BernoulliNB\n",
    "from sklearn.discriminant_analysis import LinearDiscriminantAnalysis"
   ]
  },
  {
   "cell_type": "code",
   "execution_count": 2,
   "metadata": {},
   "outputs": [
    {
     "data": {
      "text/html": [
       "<div>\n",
       "<style>\n",
       "    .dataframe thead tr:only-child th {\n",
       "        text-align: right;\n",
       "    }\n",
       "\n",
       "    .dataframe thead th {\n",
       "        text-align: left;\n",
       "    }\n",
       "\n",
       "    .dataframe tbody tr th {\n",
       "        vertical-align: top;\n",
       "    }\n",
       "</style>\n",
       "<table border=\"1\" class=\"dataframe\">\n",
       "  <thead>\n",
       "    <tr style=\"text-align: right;\">\n",
       "      <th></th>\n",
       "      <th>Year</th>\n",
       "      <th>Month</th>\n",
       "      <th>DayofMonth</th>\n",
       "      <th>DayOfWeek</th>\n",
       "      <th>DepTime</th>\n",
       "      <th>CRSDepTime</th>\n",
       "      <th>ArrTime</th>\n",
       "      <th>CRSArrTime</th>\n",
       "      <th>UniqueCarrier</th>\n",
       "      <th>FlightNum</th>\n",
       "      <th>...</th>\n",
       "      <th>TaxiIn</th>\n",
       "      <th>TaxiOut</th>\n",
       "      <th>Cancelled</th>\n",
       "      <th>CancellationCode</th>\n",
       "      <th>Diverted</th>\n",
       "      <th>CarrierDelay</th>\n",
       "      <th>WeatherDelay</th>\n",
       "      <th>NASDelay</th>\n",
       "      <th>SecurityDelay</th>\n",
       "      <th>LateAircraftDelay</th>\n",
       "    </tr>\n",
       "  </thead>\n",
       "  <tbody>\n",
       "    <tr>\n",
       "      <th>0</th>\n",
       "      <td>2008</td>\n",
       "      <td>1</td>\n",
       "      <td>3</td>\n",
       "      <td>4</td>\n",
       "      <td>2003.0</td>\n",
       "      <td>1955</td>\n",
       "      <td>2211.0</td>\n",
       "      <td>2225</td>\n",
       "      <td>WN</td>\n",
       "      <td>335</td>\n",
       "      <td>...</td>\n",
       "      <td>4.0</td>\n",
       "      <td>8.0</td>\n",
       "      <td>0</td>\n",
       "      <td>NaN</td>\n",
       "      <td>0</td>\n",
       "      <td>NaN</td>\n",
       "      <td>NaN</td>\n",
       "      <td>NaN</td>\n",
       "      <td>NaN</td>\n",
       "      <td>NaN</td>\n",
       "    </tr>\n",
       "    <tr>\n",
       "      <th>1</th>\n",
       "      <td>2008</td>\n",
       "      <td>1</td>\n",
       "      <td>3</td>\n",
       "      <td>4</td>\n",
       "      <td>754.0</td>\n",
       "      <td>735</td>\n",
       "      <td>1002.0</td>\n",
       "      <td>1000</td>\n",
       "      <td>WN</td>\n",
       "      <td>3231</td>\n",
       "      <td>...</td>\n",
       "      <td>5.0</td>\n",
       "      <td>10.0</td>\n",
       "      <td>0</td>\n",
       "      <td>NaN</td>\n",
       "      <td>0</td>\n",
       "      <td>NaN</td>\n",
       "      <td>NaN</td>\n",
       "      <td>NaN</td>\n",
       "      <td>NaN</td>\n",
       "      <td>NaN</td>\n",
       "    </tr>\n",
       "    <tr>\n",
       "      <th>2</th>\n",
       "      <td>2008</td>\n",
       "      <td>1</td>\n",
       "      <td>3</td>\n",
       "      <td>4</td>\n",
       "      <td>628.0</td>\n",
       "      <td>620</td>\n",
       "      <td>804.0</td>\n",
       "      <td>750</td>\n",
       "      <td>WN</td>\n",
       "      <td>448</td>\n",
       "      <td>...</td>\n",
       "      <td>3.0</td>\n",
       "      <td>17.0</td>\n",
       "      <td>0</td>\n",
       "      <td>NaN</td>\n",
       "      <td>0</td>\n",
       "      <td>NaN</td>\n",
       "      <td>NaN</td>\n",
       "      <td>NaN</td>\n",
       "      <td>NaN</td>\n",
       "      <td>NaN</td>\n",
       "    </tr>\n",
       "    <tr>\n",
       "      <th>3</th>\n",
       "      <td>2008</td>\n",
       "      <td>1</td>\n",
       "      <td>3</td>\n",
       "      <td>4</td>\n",
       "      <td>926.0</td>\n",
       "      <td>930</td>\n",
       "      <td>1054.0</td>\n",
       "      <td>1100</td>\n",
       "      <td>WN</td>\n",
       "      <td>1746</td>\n",
       "      <td>...</td>\n",
       "      <td>3.0</td>\n",
       "      <td>7.0</td>\n",
       "      <td>0</td>\n",
       "      <td>NaN</td>\n",
       "      <td>0</td>\n",
       "      <td>NaN</td>\n",
       "      <td>NaN</td>\n",
       "      <td>NaN</td>\n",
       "      <td>NaN</td>\n",
       "      <td>NaN</td>\n",
       "    </tr>\n",
       "    <tr>\n",
       "      <th>4</th>\n",
       "      <td>2008</td>\n",
       "      <td>1</td>\n",
       "      <td>3</td>\n",
       "      <td>4</td>\n",
       "      <td>1829.0</td>\n",
       "      <td>1755</td>\n",
       "      <td>1959.0</td>\n",
       "      <td>1925</td>\n",
       "      <td>WN</td>\n",
       "      <td>3920</td>\n",
       "      <td>...</td>\n",
       "      <td>3.0</td>\n",
       "      <td>10.0</td>\n",
       "      <td>0</td>\n",
       "      <td>NaN</td>\n",
       "      <td>0</td>\n",
       "      <td>2.0</td>\n",
       "      <td>0.0</td>\n",
       "      <td>0.0</td>\n",
       "      <td>0.0</td>\n",
       "      <td>32.0</td>\n",
       "    </tr>\n",
       "  </tbody>\n",
       "</table>\n",
       "<p>5 rows × 29 columns</p>\n",
       "</div>"
      ],
      "text/plain": [
       "   Year  Month  DayofMonth  DayOfWeek  DepTime  CRSDepTime  ArrTime  \\\n",
       "0  2008      1           3          4   2003.0        1955   2211.0   \n",
       "1  2008      1           3          4    754.0         735   1002.0   \n",
       "2  2008      1           3          4    628.0         620    804.0   \n",
       "3  2008      1           3          4    926.0         930   1054.0   \n",
       "4  2008      1           3          4   1829.0        1755   1959.0   \n",
       "\n",
       "   CRSArrTime UniqueCarrier  FlightNum        ...         TaxiIn  TaxiOut  \\\n",
       "0        2225            WN        335        ...            4.0      8.0   \n",
       "1        1000            WN       3231        ...            5.0     10.0   \n",
       "2         750            WN        448        ...            3.0     17.0   \n",
       "3        1100            WN       1746        ...            3.0      7.0   \n",
       "4        1925            WN       3920        ...            3.0     10.0   \n",
       "\n",
       "   Cancelled  CancellationCode  Diverted  CarrierDelay WeatherDelay NASDelay  \\\n",
       "0          0               NaN         0           NaN          NaN      NaN   \n",
       "1          0               NaN         0           NaN          NaN      NaN   \n",
       "2          0               NaN         0           NaN          NaN      NaN   \n",
       "3          0               NaN         0           NaN          NaN      NaN   \n",
       "4          0               NaN         0           2.0          0.0      0.0   \n",
       "\n",
       "   SecurityDelay  LateAircraftDelay  \n",
       "0            NaN                NaN  \n",
       "1            NaN                NaN  \n",
       "2            NaN                NaN  \n",
       "3            NaN                NaN  \n",
       "4            0.0               32.0  \n",
       "\n",
       "[5 rows x 29 columns]"
      ]
     },
     "execution_count": 2,
     "metadata": {},
     "output_type": "execute_result"
    }
   ],
   "source": [
    "# Read and import data\n",
    "airlines = pd.read_csv('Airlines 2008.csv')\n",
    "airlines.head()"
   ]
  },
  {
   "cell_type": "code",
   "execution_count": 3,
   "metadata": {
    "collapsed": true
   },
   "outputs": [],
   "source": [
    "#Change the ArrDelay variable into a categorical variable\n",
    "airlines.loc[airlines['ArrDelay'] <= 30, 'ArrDelay'] = 0\n",
    "airlines.loc[airlines['ArrDelay'] > 30, 'ArrDelay'] = 1"
   ]
  },
  {
   "cell_type": "code",
   "execution_count": 4,
   "metadata": {},
   "outputs": [
    {
     "data": {
      "text/plain": [
       "7009728"
      ]
     },
     "execution_count": 4,
     "metadata": {},
     "output_type": "execute_result"
    }
   ],
   "source": [
    "#Check length of the dataset\n",
    "len(airlines)"
   ]
  },
  {
   "cell_type": "code",
   "execution_count": 5,
   "metadata": {},
   "outputs": [
    {
     "name": "stdout",
     "output_type": "stream",
     "text": [
      "<class 'pandas.core.frame.DataFrame'>\n",
      "RangeIndex: 7009728 entries, 0 to 7009727\n",
      "Data columns (total 29 columns):\n",
      "Year                 int64\n",
      "Month                int64\n",
      "DayofMonth           int64\n",
      "DayOfWeek            int64\n",
      "DepTime              float64\n",
      "CRSDepTime           int64\n",
      "ArrTime              float64\n",
      "CRSArrTime           int64\n",
      "UniqueCarrier        object\n",
      "FlightNum            int64\n",
      "TailNum              object\n",
      "ActualElapsedTime    float64\n",
      "CRSElapsedTime       float64\n",
      "AirTime              float64\n",
      "ArrDelay             float64\n",
      "DepDelay             float64\n",
      "Origin               object\n",
      "Dest                 object\n",
      "Distance             int64\n",
      "TaxiIn               float64\n",
      "TaxiOut              float64\n",
      "Cancelled            int64\n",
      "CancellationCode     object\n",
      "Diverted             int64\n",
      "CarrierDelay         float64\n",
      "WeatherDelay         float64\n",
      "NASDelay             float64\n",
      "SecurityDelay        float64\n",
      "LateAircraftDelay    float64\n",
      "dtypes: float64(14), int64(10), object(5)\n",
      "memory usage: 1.5+ GB\n"
     ]
    }
   ],
   "source": [
    "#Type of info per column of the dataset\n",
    "airlines.info()"
   ]
  },
  {
   "cell_type": "code",
   "execution_count": 6,
   "metadata": {},
   "outputs": [
    {
     "name": "stdout",
     "output_type": "stream",
     "text": [
      "Year                 0\n",
      "Month                0\n",
      "DayofMonth           0\n",
      "DayOfWeek            0\n",
      "DepTime              0\n",
      "CRSDepTime           0\n",
      "ArrTime              0\n",
      "CRSArrTime           0\n",
      "UniqueCarrier        0\n",
      "FlightNum            0\n",
      "TailNum              0\n",
      "ActualElapsedTime    0\n",
      "CRSElapsedTime       0\n",
      "AirTime              0\n",
      "ArrDelay             0\n",
      "DepDelay             0\n",
      "Origin               0\n",
      "Dest                 0\n",
      "Distance             0\n",
      "TaxiIn               0\n",
      "TaxiOut              0\n",
      "Cancelled            0\n",
      "CancellationCode     0\n",
      "Diverted             0\n",
      "CarrierDelay         0\n",
      "WeatherDelay         0\n",
      "NASDelay             0\n",
      "SecurityDelay        0\n",
      "LateAircraftDelay    0\n",
      "dtype: int64\n",
      "<class 'pandas.core.frame.DataFrame'>\n",
      "RangeIndex: 7009728 entries, 0 to 7009727\n",
      "Data columns (total 29 columns):\n",
      "Year                 int64\n",
      "Month                int64\n",
      "DayofMonth           int64\n",
      "DayOfWeek            int64\n",
      "DepTime              float64\n",
      "CRSDepTime           int64\n",
      "ArrTime              float64\n",
      "CRSArrTime           int64\n",
      "UniqueCarrier        object\n",
      "FlightNum            int64\n",
      "TailNum              object\n",
      "ActualElapsedTime    float64\n",
      "CRSElapsedTime       float64\n",
      "AirTime              float64\n",
      "ArrDelay             float64\n",
      "DepDelay             float64\n",
      "Origin               object\n",
      "Dest                 object\n",
      "Distance             int64\n",
      "TaxiIn               float64\n",
      "TaxiOut              float64\n",
      "Cancelled            int64\n",
      "CancellationCode     object\n",
      "Diverted             int64\n",
      "CarrierDelay         float64\n",
      "WeatherDelay         float64\n",
      "NASDelay             float64\n",
      "SecurityDelay        float64\n",
      "LateAircraftDelay    float64\n",
      "dtypes: float64(14), int64(10), object(5)\n",
      "memory usage: 1.5+ GB\n",
      "None\n"
     ]
    }
   ],
   "source": [
    "#Substitute infinity and Nan values by Zeros and check that no Nans are left\n",
    "airlines = airlines.replace([np.inf, -np.inf], np.nan)\n",
    "airlines = airlines.fillna(0)   \n",
    "print(airlines.isnull().sum())\n",
    "print(airlines.info())"
   ]
  },
  {
   "cell_type": "code",
   "execution_count": 7,
   "metadata": {
    "collapsed": true
   },
   "outputs": [],
   "source": [
    "#Drop \"object\" type features as they are not going to add information to the model\n",
    "airlines = airlines.drop(airlines[['UniqueCarrier', 'TailNum','Origin','Dest','CancellationCode']],axis=1)"
   ]
  },
  {
   "cell_type": "code",
   "execution_count": 8,
   "metadata": {},
   "outputs": [
    {
     "data": {
      "text/plain": [
       "<matplotlib.axes._subplots.AxesSubplot at 0x2257ecdceb8>"
      ]
     },
     "execution_count": 8,
     "metadata": {},
     "output_type": "execute_result"
    },
    {
     "data": {
      "image/png": "[encoded data removed]",
      "text/plain": [
       "<matplotlib.figure.Figure at 0x2257dc58320>"
      ]
     },
     "metadata": {},
     "output_type": "display_data"
    }
   ],
   "source": [
    "# Compute average number of delayed flights per hour\n",
    "airlines['hour'] = airlines['CRSArrTime'].map(lambda x: int(str(int(x)).zfill(4)[:2]))\n",
    "grouped = airlines[['ArrDelay', 'hour' ]].groupby('hour').mean()\n",
    "\n",
    "# plot average delays by hour\n",
    "grouped.plot(kind='bar')"
   ]
  },
  {
   "cell_type": "code",
   "execution_count": 9,
   "metadata": {},
   "outputs": [
    {
     "data": {
      "text/plain": [
       "<matplotlib.axes._subplots.AxesSubplot at 0x2257dca2940>"
      ]
     },
     "execution_count": 9,
     "metadata": {},
     "output_type": "execute_result"
    },
    {
     "data": {
      "image/png": "[encoded data removed]",
      "text/plain": [
       "<matplotlib.figure.Figure at 0x22561fd7ba8>"
      ]
     },
     "metadata": {},
     "output_type": "display_data"
    }
   ],
   "source": [
    "# Compute average number of delayed flights per day of the month\n",
    "grouped = airlines[['ArrDelay', 'DayOfWeek']].groupby('DayOfWeek').mean()\n",
    "\n",
    "# plot average delays by day of the month\n",
    "grouped.plot(kind='bar')"
   ]
  },
  {
   "cell_type": "code",
   "execution_count": 10,
   "metadata": {},
   "outputs": [
    {
     "data": {
      "text/plain": [
       "<matplotlib.axes._subplots.AxesSubplot at 0x22561ff3fd0>"
      ]
     },
     "execution_count": 10,
     "metadata": {},
     "output_type": "execute_result"
    },
    {
     "data": {
      "image/png": "[encoded data removed]",
      "text/plain": [
       "<matplotlib.figure.Figure at 0x22562067198>"
      ]
     },
     "metadata": {},
     "output_type": "display_data"
    }
   ],
   "source": [
    "# Compute average number of delayed flights per day\n",
    "grouped = airlines[['ArrDelay', 'DayofMonth']].groupby('DayofMonth').mean()\n",
    "\n",
    "# plot average delays by day\n",
    "grouped.plot(kind='bar')"
   ]
  },
  {
   "cell_type": "code",
   "execution_count": 11,
   "metadata": {},
   "outputs": [
    {
     "data": {
      "text/plain": [
       "<matplotlib.axes._subplots.AxesSubplot at 0x2256241f3c8>"
      ]
     },
     "execution_count": 11,
     "metadata": {},
     "output_type": "execute_result"
    },
    {
     "data": {
      "image/png": "[encoded data removed]",
      "text/plain": [
       "<matplotlib.figure.Figure at 0x2256242a358>"
      ]
     },
     "metadata": {},
     "output_type": "display_data"
    }
   ],
   "source": [
    "# Compute average number of delayed flights per month\n",
    "grouped = airlines[['ArrDelay', 'Month']].groupby('Month').mean()\n",
    "\n",
    "# plot average delays by month\n",
    "grouped.plot(kind='bar')"
   ]
  },
  {
   "cell_type": "code",
   "execution_count": 12,
   "metadata": {},
   "outputs": [
    {
     "data": {
      "text/html": [
       "<div>\n",
       "<style>\n",
       "    .dataframe thead tr:only-child th {\n",
       "        text-align: right;\n",
       "    }\n",
       "\n",
       "    .dataframe thead th {\n",
       "        text-align: left;\n",
       "    }\n",
       "\n",
       "    .dataframe tbody tr th {\n",
       "        vertical-align: top;\n",
       "    }\n",
       "</style>\n",
       "<table border=\"1\" class=\"dataframe\">\n",
       "  <thead>\n",
       "    <tr style=\"text-align: right;\">\n",
       "      <th></th>\n",
       "      <th>Year</th>\n",
       "      <th>Month</th>\n",
       "      <th>DayofMonth</th>\n",
       "      <th>DayOfWeek</th>\n",
       "      <th>DepTime</th>\n",
       "      <th>CRSDepTime</th>\n",
       "      <th>ArrTime</th>\n",
       "      <th>CRSArrTime</th>\n",
       "      <th>FlightNum</th>\n",
       "      <th>ActualElapsedTime</th>\n",
       "      <th>...</th>\n",
       "      <th>TaxiIn</th>\n",
       "      <th>TaxiOut</th>\n",
       "      <th>Cancelled</th>\n",
       "      <th>Diverted</th>\n",
       "      <th>CarrierDelay</th>\n",
       "      <th>WeatherDelay</th>\n",
       "      <th>NASDelay</th>\n",
       "      <th>SecurityDelay</th>\n",
       "      <th>LateAircraftDelay</th>\n",
       "      <th>hour</th>\n",
       "    </tr>\n",
       "  </thead>\n",
       "  <tbody>\n",
       "    <tr>\n",
       "      <th>0</th>\n",
       "      <td>0.0</td>\n",
       "      <td>-1.577794</td>\n",
       "      <td>-1.446848</td>\n",
       "      <td>0.038133</td>\n",
       "      <td>1.368427</td>\n",
       "      <td>1.354686</td>\n",
       "      <td>1.399788</td>\n",
       "      <td>1.512824</td>\n",
       "      <td>-0.963035</td>\n",
       "      <td>0.048515</td>\n",
       "      <td>...</td>\n",
       "      <td>-0.544551</td>\n",
       "      <td>-0.710139</td>\n",
       "      <td>-0.141415</td>\n",
       "      <td>-0.04969</td>\n",
       "      <td>-0.173255</td>\n",
       "      <td>-0.071994</td>\n",
       "      <td>-0.226623</td>\n",
       "      <td>-0.019013</td>\n",
       "      <td>-0.223486</td>\n",
       "      <td>1.520908</td>\n",
       "    </tr>\n",
       "    <tr>\n",
       "      <th>1</th>\n",
       "      <td>0.0</td>\n",
       "      <td>-1.577794</td>\n",
       "      <td>-1.446848</td>\n",
       "      <td>0.038133</td>\n",
       "      <td>-1.090467</td>\n",
       "      <td>-1.273203</td>\n",
       "      <td>-0.821755</td>\n",
       "      <td>-1.025128</td>\n",
       "      <td>0.513224</td>\n",
       "      <td>0.048515</td>\n",
       "      <td>...</td>\n",
       "      <td>-0.343789</td>\n",
       "      <td>-0.535472</td>\n",
       "      <td>-0.141415</td>\n",
       "      <td>-0.04969</td>\n",
       "      <td>-0.173255</td>\n",
       "      <td>-0.071994</td>\n",
       "      <td>-0.226623</td>\n",
       "      <td>-0.019013</td>\n",
       "      <td>-0.223486</td>\n",
       "      <td>-0.965033</td>\n",
       "    </tr>\n",
       "    <tr>\n",
       "      <th>2</th>\n",
       "      <td>0.0</td>\n",
       "      <td>-1.577794</td>\n",
       "      <td>-1.446848</td>\n",
       "      <td>0.038133</td>\n",
       "      <td>-1.338521</td>\n",
       "      <td>-1.520914</td>\n",
       "      <td>-1.185581</td>\n",
       "      <td>-1.543077</td>\n",
       "      <td>-0.905432</td>\n",
       "      <td>-0.396643</td>\n",
       "      <td>...</td>\n",
       "      <td>-0.745313</td>\n",
       "      <td>0.075863</td>\n",
       "      <td>-0.141415</td>\n",
       "      <td>-0.04969</td>\n",
       "      <td>-0.173255</td>\n",
       "      <td>-0.071994</td>\n",
       "      <td>-0.226623</td>\n",
       "      <td>-0.019013</td>\n",
       "      <td>-0.223486</td>\n",
       "      <td>-1.586519</td>\n",
       "    </tr>\n",
       "    <tr>\n",
       "      <th>3</th>\n",
       "      <td>0.0</td>\n",
       "      <td>-1.577794</td>\n",
       "      <td>-1.446848</td>\n",
       "      <td>0.038133</td>\n",
       "      <td>-0.751852</td>\n",
       "      <td>-0.853172</td>\n",
       "      <td>-0.726205</td>\n",
       "      <td>-0.817948</td>\n",
       "      <td>-0.243766</td>\n",
       "      <td>-0.507932</td>\n",
       "      <td>...</td>\n",
       "      <td>-0.745313</td>\n",
       "      <td>-0.797473</td>\n",
       "      <td>-0.141415</td>\n",
       "      <td>-0.04969</td>\n",
       "      <td>-0.173255</td>\n",
       "      <td>-0.071994</td>\n",
       "      <td>-0.226623</td>\n",
       "      <td>-0.019013</td>\n",
       "      <td>-0.223486</td>\n",
       "      <td>-0.757872</td>\n",
       "    </tr>\n",
       "    <tr>\n",
       "      <th>4</th>\n",
       "      <td>0.0</td>\n",
       "      <td>-1.577794</td>\n",
       "      <td>-1.446848</td>\n",
       "      <td>0.038133</td>\n",
       "      <td>1.025875</td>\n",
       "      <td>0.923885</td>\n",
       "      <td>0.936737</td>\n",
       "      <td>0.891285</td>\n",
       "      <td>0.864447</td>\n",
       "      <td>-0.480110</td>\n",
       "      <td>...</td>\n",
       "      <td>-0.745313</td>\n",
       "      <td>-0.535472</td>\n",
       "      <td>-0.141415</td>\n",
       "      <td>-0.04969</td>\n",
       "      <td>-0.072252</td>\n",
       "      <td>-0.071994</td>\n",
       "      <td>-0.226623</td>\n",
       "      <td>-0.019013</td>\n",
       "      <td>1.359403</td>\n",
       "      <td>0.899423</td>\n",
       "    </tr>\n",
       "  </tbody>\n",
       "</table>\n",
       "<p>5 rows × 24 columns</p>\n",
       "</div>"
      ],
      "text/plain": [
       "   Year     Month  DayofMonth  DayOfWeek   DepTime  CRSDepTime   ArrTime  \\\n",
       "0   0.0 -1.577794   -1.446848   0.038133  1.368427    1.354686  1.399788   \n",
       "1   0.0 -1.577794   -1.446848   0.038133 -1.090467   -1.273203 -0.821755   \n",
       "2   0.0 -1.577794   -1.446848   0.038133 -1.338521   -1.520914 -1.185581   \n",
       "3   0.0 -1.577794   -1.446848   0.038133 -0.751852   -0.853172 -0.726205   \n",
       "4   0.0 -1.577794   -1.446848   0.038133  1.025875    0.923885  0.936737   \n",
       "\n",
       "   CRSArrTime  FlightNum  ActualElapsedTime    ...       TaxiIn   TaxiOut  \\\n",
       "0    1.512824  -0.963035           0.048515    ...    -0.544551 -0.710139   \n",
       "1   -1.025128   0.513224           0.048515    ...    -0.343789 -0.535472   \n",
       "2   -1.543077  -0.905432          -0.396643    ...    -0.745313  0.075863   \n",
       "3   -0.817948  -0.243766          -0.507932    ...    -0.745313 -0.797473   \n",
       "4    0.891285   0.864447          -0.480110    ...    -0.745313 -0.535472   \n",
       "\n",
       "   Cancelled  Diverted  CarrierDelay  WeatherDelay  NASDelay  SecurityDelay  \\\n",
       "0  -0.141415  -0.04969     -0.173255     -0.071994 -0.226623      -0.019013   \n",
       "1  -0.141415  -0.04969     -0.173255     -0.071994 -0.226623      -0.019013   \n",
       "2  -0.141415  -0.04969     -0.173255     -0.071994 -0.226623      -0.019013   \n",
       "3  -0.141415  -0.04969     -0.173255     -0.071994 -0.226623      -0.019013   \n",
       "4  -0.141415  -0.04969     -0.072252     -0.071994 -0.226623      -0.019013   \n",
       "\n",
       "   LateAircraftDelay      hour  \n",
       "0          -0.223486  1.520908  \n",
       "1          -0.223486 -0.965033  \n",
       "2          -0.223486 -1.586519  \n",
       "3          -0.223486 -0.757872  \n",
       "4           1.359403  0.899423  \n",
       "\n",
       "[5 rows x 24 columns]"
      ]
     },
     "execution_count": 12,
     "metadata": {},
     "output_type": "execute_result"
    }
   ],
   "source": [
    "\n",
    "XA= airlines.drop('ArrDelay',axis=1)\n",
    "yA = airlines['ArrDelay']\n",
    "\n",
    "\n",
    "#Preprocess and scale data\n",
    "names = XA.columns\n",
    "XA_scaled = pd.DataFrame(preprocessing.scale(XA), columns = names)\n",
    "summary = XA_scaled.describe()\n",
    "XA_scaled.head()"
   ]
  },
  {
   "cell_type": "code",
   "execution_count": 13,
   "metadata": {},
   "outputs": [
    {
     "data": {
      "image/png": "[encoded data removed]",
      "text/plain": [
       "<matplotlib.figure.Figure at 0x225624a74e0>"
      ]
     },
     "metadata": {},
     "output_type": "display_data"
    }
   ],
   "source": [
    "#Calculate Feature Importance using Random Forest\n",
    "rf = RandomForestClassifier()\n",
    "rf.fit(XA, yA)\n",
    "\n",
    "#Define feature importance\n",
    "feature_importance8 = rf.feature_importances_\n",
    "\n",
    "# Make importances relative to max importance.\n",
    "feature_importance8 = 100.0 * (feature_importance8 / feature_importance8.max())\n",
    "sorted_idx = np.argsort(feature_importance8)\n",
    "pos = np.arange(sorted_idx.shape[0]) + .5\n",
    "plt.figure(figsize=(7, 30))\n",
    "plt.subplot(1, 1, 1)\n",
    "plt.barh(pos, feature_importance8[sorted_idx], align='center')\n",
    "plt.yticks(pos, XA.columns[sorted_idx])\n",
    "plt.xlabel('Relative Importance')\n",
    "plt.title('ArrDelay')\n",
    "plt.show()"
   ]
  },
  {
   "cell_type": "code",
   "execution_count": 14,
   "metadata": {
    "collapsed": true
   },
   "outputs": [],
   "source": [
    "#From Feature selection, we´ll only keep the most meaningful features >q0%\n",
    "['DepDelay','NASDelay','LateAircraftDelay','CarrierDelay','TaxiOut','WeatherDelay']\n",
    "\n",
    "#Set up the new dataset based on the meaningful features\n",
    "airlines2=airlines[['ArrDelay','DepDelay','NASDelay','LateAircraftDelay','CarrierDelay','TaxiOut','WeatherDelay']]\n"
   ]
  },
  {
   "cell_type": "code",
   "execution_count": 15,
   "metadata": {},
   "outputs": [
    {
     "data": {
      "text/html": [
       "<div>\n",
       "<style>\n",
       "    .dataframe thead tr:only-child th {\n",
       "        text-align: right;\n",
       "    }\n",
       "\n",
       "    .dataframe thead th {\n",
       "        text-align: left;\n",
       "    }\n",
       "\n",
       "    .dataframe tbody tr th {\n",
       "        vertical-align: top;\n",
       "    }\n",
       "</style>\n",
       "<table border=\"1\" class=\"dataframe\">\n",
       "  <thead>\n",
       "    <tr style=\"text-align: right;\">\n",
       "      <th></th>\n",
       "      <th>ArrDelay</th>\n",
       "      <th>DepDelay</th>\n",
       "      <th>NASDelay</th>\n",
       "      <th>LateAircraftDelay</th>\n",
       "      <th>CarrierDelay</th>\n",
       "      <th>TaxiOut</th>\n",
       "      <th>WeatherDelay</th>\n",
       "    </tr>\n",
       "  </thead>\n",
       "  <tbody>\n",
       "    <tr>\n",
       "      <th>0</th>\n",
       "      <td>0.0</td>\n",
       "      <td>8.0</td>\n",
       "      <td>0.0</td>\n",
       "      <td>0.0</td>\n",
       "      <td>0.0</td>\n",
       "      <td>8.0</td>\n",
       "      <td>0.0</td>\n",
       "    </tr>\n",
       "    <tr>\n",
       "      <th>1</th>\n",
       "      <td>0.0</td>\n",
       "      <td>19.0</td>\n",
       "      <td>0.0</td>\n",
       "      <td>0.0</td>\n",
       "      <td>0.0</td>\n",
       "      <td>10.0</td>\n",
       "      <td>0.0</td>\n",
       "    </tr>\n",
       "    <tr>\n",
       "      <th>2</th>\n",
       "      <td>0.0</td>\n",
       "      <td>8.0</td>\n",
       "      <td>0.0</td>\n",
       "      <td>0.0</td>\n",
       "      <td>0.0</td>\n",
       "      <td>17.0</td>\n",
       "      <td>0.0</td>\n",
       "    </tr>\n",
       "    <tr>\n",
       "      <th>3</th>\n",
       "      <td>0.0</td>\n",
       "      <td>-4.0</td>\n",
       "      <td>0.0</td>\n",
       "      <td>0.0</td>\n",
       "      <td>0.0</td>\n",
       "      <td>7.0</td>\n",
       "      <td>0.0</td>\n",
       "    </tr>\n",
       "    <tr>\n",
       "      <th>4</th>\n",
       "      <td>1.0</td>\n",
       "      <td>34.0</td>\n",
       "      <td>0.0</td>\n",
       "      <td>32.0</td>\n",
       "      <td>2.0</td>\n",
       "      <td>10.0</td>\n",
       "      <td>0.0</td>\n",
       "    </tr>\n",
       "  </tbody>\n",
       "</table>\n",
       "</div>"
      ],
      "text/plain": [
       "   ArrDelay  DepDelay  NASDelay  LateAircraftDelay  CarrierDelay  TaxiOut  \\\n",
       "0       0.0       8.0       0.0                0.0           0.0      8.0   \n",
       "1       0.0      19.0       0.0                0.0           0.0     10.0   \n",
       "2       0.0       8.0       0.0                0.0           0.0     17.0   \n",
       "3       0.0      -4.0       0.0                0.0           0.0      7.0   \n",
       "4       1.0      34.0       0.0               32.0           2.0     10.0   \n",
       "\n",
       "   WeatherDelay  \n",
       "0           0.0  \n",
       "1           0.0  \n",
       "2           0.0  \n",
       "3           0.0  \n",
       "4           0.0  "
      ]
     },
     "execution_count": 15,
     "metadata": {},
     "output_type": "execute_result"
    }
   ],
   "source": [
    "#Check the new dataset\n",
    "airlines2.head()"
   ]
  },
  {
   "cell_type": "code",
   "execution_count": 16,
   "metadata": {},
   "outputs": [
    {
     "data": {
      "text/plain": [
       "0.0    6108330\n",
       "1.0     901398\n",
       "Name: ArrDelay, dtype: int64"
      ]
     },
     "execution_count": 16,
     "metadata": {},
     "output_type": "execute_result"
    }
   ],
   "source": [
    "#Count number of datapoints for ArrDelay\n",
    "airlines2['ArrDelay'].value_counts()"
   ]
  },
  {
   "cell_type": "code",
   "execution_count": 17,
   "metadata": {},
   "outputs": [
    {
     "data": {
      "text/plain": [
       "1.0    901398\n",
       "0.0    901398\n",
       "Name: ArrDelay, dtype: int64"
      ]
     },
     "execution_count": 17,
     "metadata": {},
     "output_type": "execute_result"
    }
   ],
   "source": [
    "#Downsample majority class (due to computational restrictions we downsample the majority instead of upsampling the minority)\n",
    "\n",
    "# Separate majority and minority classes\n",
    "airlines_majority = airlines2[airlines2.ArrDelay==0]\n",
    "airlines_minority = airlines2[airlines2.ArrDelay==1]\n",
    " \n",
    "# Downsample mairlinesass\n",
    "airlines_majority_downsampled = resample(airlines_majority, replace=False, n_samples=901398, random_state=123) \n",
    " \n",
    "# Combine minority class with downsampled majority class\n",
    "airlines_downsampled = pd.concat([airlines_majority_downsampled, airlines_minority])\n",
    " \n",
    "# Display new class counts\n",
    "airlines_downsampled.ArrDelay.value_counts()"
   ]
  },
  {
   "cell_type": "code",
   "execution_count": 18,
   "metadata": {},
   "outputs": [
    {
     "data": {
      "text/html": [
       "<div>\n",
       "<style>\n",
       "    .dataframe thead tr:only-child th {\n",
       "        text-align: right;\n",
       "    }\n",
       "\n",
       "    .dataframe thead th {\n",
       "        text-align: left;\n",
       "    }\n",
       "\n",
       "    .dataframe tbody tr th {\n",
       "        vertical-align: top;\n",
       "    }\n",
       "</style>\n",
       "<table border=\"1\" class=\"dataframe\">\n",
       "  <thead>\n",
       "    <tr style=\"text-align: right;\">\n",
       "      <th></th>\n",
       "      <th>DepDelay</th>\n",
       "      <th>NASDelay</th>\n",
       "      <th>LateAircraftDelay</th>\n",
       "      <th>CarrierDelay</th>\n",
       "      <th>TaxiOut</th>\n",
       "      <th>WeatherDelay</th>\n",
       "    </tr>\n",
       "  </thead>\n",
       "  <tbody>\n",
       "    <tr>\n",
       "      <th>count</th>\n",
       "      <td>1.802796e+06</td>\n",
       "      <td>1.802796e+06</td>\n",
       "      <td>1.802796e+06</td>\n",
       "      <td>1.802796e+06</td>\n",
       "      <td>1.802796e+06</td>\n",
       "      <td>1.802796e+06</td>\n",
       "    </tr>\n",
       "    <tr>\n",
       "      <th>mean</th>\n",
       "      <td>4.217699e-13</td>\n",
       "      <td>-2.033507e-12</td>\n",
       "      <td>3.680095e-12</td>\n",
       "      <td>3.222554e-12</td>\n",
       "      <td>2.195154e-13</td>\n",
       "      <td>-1.001364e-12</td>\n",
       "    </tr>\n",
       "    <tr>\n",
       "      <th>std</th>\n",
       "      <td>1.000000e+00</td>\n",
       "      <td>1.000000e+00</td>\n",
       "      <td>1.000000e+00</td>\n",
       "      <td>1.000000e+00</td>\n",
       "      <td>1.000000e+00</td>\n",
       "      <td>1.000000e+00</td>\n",
       "    </tr>\n",
       "    <tr>\n",
       "      <th>min</th>\n",
       "      <td>-1.787945e+00</td>\n",
       "      <td>-3.872791e-01</td>\n",
       "      <td>-4.269176e-01</td>\n",
       "      <td>-3.112424e-01</td>\n",
       "      <td>-1.143078e+00</td>\n",
       "      <td>-1.357592e-01</td>\n",
       "    </tr>\n",
       "    <tr>\n",
       "      <th>25%</th>\n",
       "      <td>-6.441609e-01</td>\n",
       "      <td>-3.872791e-01</td>\n",
       "      <td>-4.269176e-01</td>\n",
       "      <td>-3.112424e-01</td>\n",
       "      <td>-5.097678e-01</td>\n",
       "      <td>-1.357592e-01</td>\n",
       "    </tr>\n",
       "    <tr>\n",
       "      <th>50%</th>\n",
       "      <td>-4.086760e-01</td>\n",
       "      <td>-3.872791e-01</td>\n",
       "      <td>-4.269176e-01</td>\n",
       "      <td>-3.112424e-01</td>\n",
       "      <td>-2.794733e-01</td>\n",
       "      <td>-1.357592e-01</td>\n",
       "    </tr>\n",
       "    <tr>\n",
       "      <th>75%</th>\n",
       "      <td>3.314193e-01</td>\n",
       "      <td>-1.233784e-01</td>\n",
       "      <td>-1.043743e-01</td>\n",
       "      <td>-3.112424e-01</td>\n",
       "      <td>1.235420e-01</td>\n",
       "      <td>-1.357592e-01</td>\n",
       "    </tr>\n",
       "    <tr>\n",
       "      <th>max</th>\n",
       "      <td>4.088528e+01</td>\n",
       "      <td>4.437687e+01</td>\n",
       "      <td>3.494533e+01</td>\n",
       "      <td>6.470832e+01</td>\n",
       "      <td>2.355600e+01</td>\n",
       "      <td>7.532159e+01</td>\n",
       "    </tr>\n",
       "  </tbody>\n",
       "</table>\n",
       "</div>"
      ],
      "text/plain": [
       "           DepDelay      NASDelay  LateAircraftDelay  CarrierDelay  \\\n",
       "count  1.802796e+06  1.802796e+06       1.802796e+06  1.802796e+06   \n",
       "mean   4.217699e-13 -2.033507e-12       3.680095e-12  3.222554e-12   \n",
       "std    1.000000e+00  1.000000e+00       1.000000e+00  1.000000e+00   \n",
       "min   -1.787945e+00 -3.872791e-01      -4.269176e-01 -3.112424e-01   \n",
       "25%   -6.441609e-01 -3.872791e-01      -4.269176e-01 -3.112424e-01   \n",
       "50%   -4.086760e-01 -3.872791e-01      -4.269176e-01 -3.112424e-01   \n",
       "75%    3.314193e-01 -1.233784e-01      -1.043743e-01 -3.112424e-01   \n",
       "max    4.088528e+01  4.437687e+01       3.494533e+01  6.470832e+01   \n",
       "\n",
       "            TaxiOut  WeatherDelay  \n",
       "count  1.802796e+06  1.802796e+06  \n",
       "mean   2.195154e-13 -1.001364e-12  \n",
       "std    1.000000e+00  1.000000e+00  \n",
       "min   -1.143078e+00 -1.357592e-01  \n",
       "25%   -5.097678e-01 -1.357592e-01  \n",
       "50%   -2.794733e-01 -1.357592e-01  \n",
       "75%    1.235420e-01 -1.357592e-01  \n",
       "max    2.355600e+01  7.532159e+01  "
      ]
     },
     "execution_count": 18,
     "metadata": {},
     "output_type": "execute_result"
    }
   ],
   "source": [
    "#Preprocess and scale data to fit into the models\n",
    "airlines_downsampled2=airlines_downsampled.drop('ArrDelay',axis=1)\n",
    "\n",
    "names = airlines_downsampled2.columns\n",
    "X2 = pd.DataFrame(preprocessing.scale(airlines_downsampled2), columns = names)\n",
    "X2.describe()"
   ]
  },
  {
   "cell_type": "code",
   "execution_count": 19,
   "metadata": {
    "collapsed": true
   },
   "outputs": [],
   "source": [
    "#Define Outcome & Predictors\n",
    "\n",
    "y = airlines_downsampled['ArrDelay']\n",
    "X2 = airlines_downsampled2\n",
    "\n",
    "#Split into test and train sets\n",
    "X_train, X_test, y_train, y_test = train_test_split(X2, y, test_size=0.3, random_state=42)\n",
    "\n",
    "#KFold for cross validation analysis\n",
    "kf = KFold(5)"
   ]
  },
  {
   "cell_type": "markdown",
   "metadata": {
    "collapsed": true
   },
   "source": [
    "***PCA Analysis***"
   ]
  },
  {
   "cell_type": "code",
   "execution_count": 20,
   "metadata": {},
   "outputs": [
    {
     "data": {
      "text/html": [
       "<div>\n",
       "<style>\n",
       "    .dataframe thead tr:only-child th {\n",
       "        text-align: right;\n",
       "    }\n",
       "\n",
       "    .dataframe thead th {\n",
       "        text-align: left;\n",
       "    }\n",
       "\n",
       "    .dataframe tbody tr th {\n",
       "        vertical-align: top;\n",
       "    }\n",
       "</style>\n",
       "<table border=\"1\" class=\"dataframe\">\n",
       "  <thead>\n",
       "    <tr style=\"text-align: right;\">\n",
       "      <th></th>\n",
       "      <th>0</th>\n",
       "      <th>1</th>\n",
       "      <th>2</th>\n",
       "      <th>3</th>\n",
       "      <th>4</th>\n",
       "      <th>5</th>\n",
       "    </tr>\n",
       "  </thead>\n",
       "  <tbody>\n",
       "    <tr>\n",
       "      <th>0</th>\n",
       "      <td>-0.990197</td>\n",
       "      <td>0.293276</td>\n",
       "      <td>0.034096</td>\n",
       "      <td>0.098927</td>\n",
       "      <td>0.152293</td>\n",
       "      <td>-0.017928</td>\n",
       "    </tr>\n",
       "    <tr>\n",
       "      <th>1</th>\n",
       "      <td>-0.727210</td>\n",
       "      <td>-0.353565</td>\n",
       "      <td>0.067869</td>\n",
       "      <td>-0.017779</td>\n",
       "      <td>0.324358</td>\n",
       "      <td>-0.168489</td>\n",
       "    </tr>\n",
       "    <tr>\n",
       "      <th>2</th>\n",
       "      <td>-0.966627</td>\n",
       "      <td>0.299113</td>\n",
       "      <td>0.034229</td>\n",
       "      <td>0.099270</td>\n",
       "      <td>0.158133</td>\n",
       "      <td>0.004606</td>\n",
       "    </tr>\n",
       "    <tr>\n",
       "      <th>3</th>\n",
       "      <td>-0.577752</td>\n",
       "      <td>0.354579</td>\n",
       "      <td>0.038816</td>\n",
       "      <td>0.101248</td>\n",
       "      <td>0.210907</td>\n",
       "      <td>0.373279</td>\n",
       "    </tr>\n",
       "    <tr>\n",
       "      <th>4</th>\n",
       "      <td>-1.013628</td>\n",
       "      <td>0.409965</td>\n",
       "      <td>0.026794</td>\n",
       "      <td>0.109626</td>\n",
       "      <td>0.277234</td>\n",
       "      <td>-0.031036</td>\n",
       "    </tr>\n",
       "  </tbody>\n",
       "</table>\n",
       "</div>"
      ],
      "text/plain": [
       "          0         1         2         3         4         5\n",
       "0 -0.990197  0.293276  0.034096  0.098927  0.152293 -0.017928\n",
       "1 -0.727210 -0.353565  0.067869 -0.017779  0.324358 -0.168489\n",
       "2 -0.966627  0.299113  0.034229  0.099270  0.158133  0.004606\n",
       "3 -0.577752  0.354579  0.038816  0.101248  0.210907  0.373279\n",
       "4 -1.013628  0.409965  0.026794  0.109626  0.277234 -0.031036"
      ]
     },
     "execution_count": 20,
     "metadata": {},
     "output_type": "execute_result"
    }
   ],
   "source": [
    "#PCA Analysis\n",
    "\n",
    "# Create a scaler object\n",
    "sc = StandardScaler()\n",
    "\n",
    "# Fit the scaler to the features and transform\n",
    "X_std = sc.fit_transform(X2)\n",
    "\n",
    "# Create a PCA object\n",
    "pca = decomposition.PCA(n_components=6)\n",
    "\n",
    "# Fit the PCA and transform the data\n",
    "X_std_pca = pca.fit_transform(X_std)\n",
    "\n",
    "# View the new feature data's shape\n",
    "X_std_pca.shape\n",
    "\n",
    "# Create a new dataframe with the new features\n",
    "\n",
    "XPCA = pd.DataFrame(X_std_pca)\n",
    "XPCA.head()\n"
   ]
  },
  {
   "cell_type": "markdown",
   "metadata": {},
   "source": [
    "***Logistic Regression***"
   ]
  },
  {
   "cell_type": "code",
   "execution_count": 21,
   "metadata": {
    "collapsed": true
   },
   "outputs": [],
   "source": [
    "# Initialize and fit the model.\n",
    "lr = LogisticRegression()\n",
    "fittrain = lr.fit(X_train,y_train)\n",
    "fittest = lr.fit(X_test,y_test)\n",
    "\n",
    "# Predict on training set\n",
    "predtrain_y = lr.predict(X_train)\n",
    "predtest_y = lr.predict(X_test)"
   ]
  },
  {
   "cell_type": "code",
   "execution_count": 22,
   "metadata": {},
   "outputs": [
    {
     "name": "stdout",
     "output_type": "stream",
     "text": [
      "             precision    recall  f1-score   support\n",
      "\n",
      "        0.0       1.00      0.99      1.00    631255\n",
      "        1.0       0.99      1.00      1.00    630702\n",
      "\n",
      "avg / total       1.00      1.00      1.00   1261957\n",
      "\n",
      "[[626038   5217]\n",
      " [   986 629716]]\n",
      "Training set accuracy:\n",
      "Percent Type I errors: 0.004134055280805923\n",
      "Percent Type II errors: 0.0007813261466119686\n",
      "\n",
      "\n"
     ]
    }
   ],
   "source": [
    "from sklearn.metrics import classification_report\n",
    "\n",
    "#Training Scores\n",
    "target_names = ['0.0', '1.0']\n",
    "print(classification_report(y_train, predtrain_y, target_names=target_names))\n",
    "cnf = confusion_matrix(y_train, predtrain_y)\n",
    "print(cnf)\n",
    "\n",
    "# Accuracy tables.\n",
    "table_train = pd.crosstab(y_train, predtrain_y, margins=True)\n",
    "\n",
    "train_tI_errors = table_train.loc[0.0,1.0] / table_train.loc['All','All']\n",
    "train_tII_errors = table_train.loc[1.0,0.0] / table_train.loc['All','All']\n",
    "\n",
    "print((\n",
    "    'Training set accuracy:\\n'\n",
    "    'Percent Type I errors: {}\\n'\n",
    "    'Percent Type II errors: {}\\n\\n'\n",
    ").format(train_tI_errors, train_tII_errors))"
   ]
  },
  {
   "cell_type": "code",
   "execution_count": 23,
   "metadata": {},
   "outputs": [
    {
     "name": "stdout",
     "output_type": "stream",
     "text": [
      "             precision    recall  f1-score   support\n",
      "\n",
      "        0.0       1.00      0.99      0.99    270143\n",
      "        1.0       0.99      1.00      0.99    270696\n",
      "\n",
      "avg / total       0.99      0.99      0.99    540839\n",
      "\n",
      "[[267735   2408]\n",
      " [   464 270232]]\n",
      "Test set accuracy:\n",
      "Percent Type I errors: 0.004452341639563715\n",
      "Percent Type II errors: 0.000857926295995666\n",
      "[ 0.98889783  0.9883847   0.99486076  0.99830818  0.99856889]\n",
      "0.993804071512\n",
      "Cross validation PCA: 0.993794641792\n"
     ]
    }
   ],
   "source": [
    "#Testing Scores\n",
    "target_names = ['0.0', '1.0']\n",
    "print(classification_report(y_test, predtest_y, target_names=target_names))\n",
    "cnf = confusion_matrix(y_test, predtest_y)\n",
    "print(cnf)\n",
    "\n",
    "table_test = pd.crosstab(y_test, predtest_y, margins=True)\n",
    "\n",
    "test_tI_errors = table_test.loc[0.0,1.0]/table_test.loc['All','All']\n",
    "test_tII_errors = table_test.loc[1.0,0.0]/table_test.loc['All','All']\n",
    "\n",
    "print((\n",
    "    'Test set accuracy:\\n'\n",
    "    'Percent Type I errors: {}\\n'\n",
    "    'Percent Type II errors: {}'\n",
    ").format(test_tI_errors, test_tII_errors))\n",
    "print(cross_val_score(lr,X2,y,cv=kf))\n",
    "print(cross_val_score(lr,X2,y,cv=kf).mean())\n",
    "print('Cross validation PCA:', cross_val_score(lr,XPCA,y,cv=kf).mean())"
   ]
  },
  {
   "cell_type": "markdown",
   "metadata": {},
   "source": [
    "*** Random Forest***"
   ]
  },
  {
   "cell_type": "code",
   "execution_count": 24,
   "metadata": {
    "collapsed": true
   },
   "outputs": [],
   "source": [
    "# Train model\n",
    "rf = RandomForestClassifier()\n",
    "rf.fit(X_train, y_train)\n",
    "rf.fit(X_test, y_test)\n",
    "\n",
    "# Predict on training set\n",
    "predtrainrf_y = rf.predict(X_train)\n",
    "predtestrf_y = rf.predict(X_test)"
   ]
  },
  {
   "cell_type": "code",
   "execution_count": 25,
   "metadata": {},
   "outputs": [
    {
     "name": "stdout",
     "output_type": "stream",
     "text": [
      "             precision    recall  f1-score   support\n",
      "\n",
      "          0       1.00      1.00      1.00    631255\n",
      "          1       1.00      1.00      1.00    630702\n",
      "\n",
      "avg / total       1.00      1.00      1.00   1261957\n",
      "\n",
      "[[630115   1140]\n",
      " [   935 629767]]\n",
      "Training set accuracy:\n",
      "Percent Type I errors: 0.0009033588307684018\n",
      "Percent Type II errors: 0.0007409127252354874\n",
      "\n",
      "\n"
     ]
    }
   ],
   "source": [
    "#Training Scores\n",
    "target_names = ['0', '1']\n",
    "print(classification_report(y_train, predtrainrf_y, target_names=target_names))\n",
    "cnf = confusion_matrix(y_train, predtrainrf_y)\n",
    "print(cnf)\n",
    "\n",
    "# Accuracy tables.\n",
    "table_train = pd.crosstab(y_train, predtrainrf_y, margins=True)\n",
    "\n",
    "train_tI_errors = table_train.loc[0.0,1.0] / table_train.loc['All','All']\n",
    "train_tII_errors = table_train.loc[1.0,0.0] / table_train.loc['All','All']\n",
    "\n",
    "print((\n",
    "    'Training set accuracy:\\n'\n",
    "    'Percent Type I errors: {}\\n'\n",
    "    'Percent Type II errors: {}\\n\\n'\n",
    ").format(train_tI_errors, train_tII_errors))"
   ]
  },
  {
   "cell_type": "code",
   "execution_count": 26,
   "metadata": {},
   "outputs": [
    {
     "name": "stdout",
     "output_type": "stream",
     "text": [
      "             precision    recall  f1-score   support\n",
      "\n",
      "          0       1.00      1.00      1.00    270143\n",
      "          1       1.00      1.00      1.00    270696\n",
      "\n",
      "avg / total       1.00      1.00      1.00    540839\n",
      "\n",
      "[[270112     31]\n",
      " [    97 270599]]\n",
      "Test set accuracy:\n",
      "Percent Type I errors: 5.731835167212424e-05\n",
      "Percent Type II errors: 0.00017935097136116294\n",
      "[ 0.99833037  0.99817783  0.99859385  0.99837752  0.99849955]\n",
      "0.998416903623\n",
      "Cross validation PCA: 0.998049141599\n"
     ]
    }
   ],
   "source": [
    "#Test Scores\n",
    "target_names = ['0', '1']\n",
    "print(classification_report(y_test, predtestrf_y, target_names=target_names))\n",
    "cnf = confusion_matrix(y_test, predtestrf_y)\n",
    "print(cnf)\n",
    "\n",
    "table_test = pd.crosstab(y_test, predtestrf_y, margins=True)\n",
    "\n",
    "test_tI_errors = table_test.loc[0.0,1.0]/table_test.loc['All','All']\n",
    "test_tII_errors = table_test.loc[1.0,0.0]/table_test.loc['All','All']\n",
    "\n",
    "print((\n",
    "    'Test set accuracy:\\n'\n",
    "    'Percent Type I errors: {}\\n'\n",
    "    'Percent Type II errors: {}'\n",
    ").format(test_tI_errors, test_tII_errors))\n",
    "print(cross_val_score(rf,X2,y,cv=kf))\n",
    "print(cross_val_score(rf,X2,y,cv=kf).mean())\n",
    "print('Cross validation PCA:', cross_val_score(rf,XPCA,y,cv=kf).mean())"
   ]
  },
  {
   "cell_type": "markdown",
   "metadata": {},
   "source": [
    "***Naive - Bayes***"
   ]
  },
  {
   "cell_type": "code",
   "execution_count": 27,
   "metadata": {
    "collapsed": true
   },
   "outputs": [],
   "source": [
    "# Train model\n",
    "bnb = BernoulliNB()\n",
    "bnb.fit(X_train, y_train)\n",
    "bnb.fit(X_test, y_test)\n",
    "\n",
    "# Predict on training set\n",
    "predtrainbnb_y = bnb.predict(X_train)\n",
    "predtestbnb_y = bnb.predict(X_test)"
   ]
  },
  {
   "cell_type": "code",
   "execution_count": 28,
   "metadata": {},
   "outputs": [
    {
     "name": "stdout",
     "output_type": "stream",
     "text": [
      "             precision    recall  f1-score   support\n",
      "\n",
      "          0       0.94      0.92      0.93    631255\n",
      "          1       0.93      0.94      0.93    630702\n",
      "\n",
      "avg / total       0.93      0.93      0.93   1261957\n",
      "\n",
      "[[583114  48141]\n",
      " [ 36680 594022]]\n",
      "Training set accuracy:\n",
      "Percent Type I errors: 0.03814789251931722\n",
      "Percent Type II errors: 0.029065966589986822\n",
      "\n",
      "\n"
     ]
    }
   ],
   "source": [
    "#Training Scores\n",
    "target_names = ['0', '1']\n",
    "print(classification_report(y_train, predtrainbnb_y, target_names=target_names))\n",
    "cnf = confusion_matrix(y_train, predtrainbnb_y)\n",
    "print(cnf)\n",
    "\n",
    "# Accuracy tables.\n",
    "table_train = pd.crosstab(y_train, predtrainbnb_y, margins=True)\n",
    "\n",
    "train_tI_errors = table_train.loc[0.0,1.0] / table_train.loc['All','All']\n",
    "train_tII_errors = table_train.loc[1.0,0.0] / table_train.loc['All','All']\n",
    "\n",
    "print((\n",
    "    'Training set accuracy:\\n'\n",
    "    'Percent Type I errors: {}\\n'\n",
    "    'Percent Type II errors: {}\\n\\n'\n",
    ").format(train_tI_errors, train_tII_errors))"
   ]
  },
  {
   "cell_type": "code",
   "execution_count": 29,
   "metadata": {},
   "outputs": [
    {
     "name": "stdout",
     "output_type": "stream",
     "text": [
      "             precision    recall  f1-score   support\n",
      "\n",
      "          0       0.94      0.92      0.93    270143\n",
      "          1       0.92      0.94      0.93    270696\n",
      "\n",
      "avg / total       0.93      0.93      0.93    540839\n",
      "\n",
      "[[249193  20950]\n",
      " [ 15894 254802]]\n",
      "Test set accuracy:\n",
      "Percent Type I errors: 0.0387361118558388\n",
      "Percent Type II errors: 0.029387673596023955\n",
      "[ 0.92341358  0.92359364  0.9331011   0.94183754  0.94061998]\n",
      "0.932513167934\n",
      "Cross validation PCA: 0.910310976001\n"
     ]
    }
   ],
   "source": [
    "#Test Scores\n",
    "target_names = ['0', '1']\n",
    "print(classification_report(y_test, predtestbnb_y, target_names=target_names))\n",
    "cnf = confusion_matrix(y_test, predtestbnb_y)\n",
    "print(cnf)\n",
    "\n",
    "table_test = pd.crosstab(y_test, predtestbnb_y, margins=True)\n",
    "\n",
    "test_tI_errors = table_test.loc[0.0,1.0]/table_test.loc['All','All']\n",
    "test_tII_errors = table_test.loc[1.0,0.0]/table_test.loc['All','All']\n",
    "\n",
    "print((\n",
    "    'Test set accuracy:\\n'\n",
    "    'Percent Type I errors: {}\\n'\n",
    "    'Percent Type II errors: {}'\n",
    ").format(test_tI_errors, test_tII_errors))\n",
    "print(cross_val_score(bnb,X2,y,cv=kf))\n",
    "print(cross_val_score(bnb,X2,y,cv=kf).mean())\n",
    "print('Cross validation PCA:', cross_val_score(bnb,XPCA,y,cv=kf).mean())"
   ]
  },
  {
   "cell_type": "markdown",
   "metadata": {},
   "source": [
    "***Gradient Boosting Classifier***"
   ]
  },
  {
   "cell_type": "code",
   "execution_count": 30,
   "metadata": {
    "collapsed": true
   },
   "outputs": [],
   "source": [
    "# We'll make 500 iterations, use 2-deep trees, and set our loss function.\n",
    "params = {'n_estimators': 500,\n",
    "          'max_depth': 2,\n",
    "          'loss': 'deviance'}\n",
    "\n",
    "# Initialize and fit the model.\n",
    "clf = ensemble.GradientBoostingClassifier(**params)\n",
    "clf.fit(X_train, y_train)\n",
    "clf.fit(X_test, y_test)\n",
    "\n",
    "# Predict on training set\n",
    "predtrainclf_y = clf.predict(X_train)\n",
    "predtestclf_y = clf.predict(X_test)"
   ]
  },
  {
   "cell_type": "code",
   "execution_count": 31,
   "metadata": {},
   "outputs": [
    {
     "name": "stdout",
     "output_type": "stream",
     "text": [
      "             precision    recall  f1-score   support\n",
      "\n",
      "        0.0       1.00      0.99      1.00    631255\n",
      "        1.0       0.99      1.00      1.00    630702\n",
      "\n",
      "avg / total       1.00      1.00      1.00   1261957\n",
      "\n",
      "[[627961   3294]\n",
      " [  1247 629455]]\n",
      "Training set accuracy:\n",
      "Percent Type I errors: 0.002610231568904487\n",
      "Percent Type II errors: 0.0009881477736563133\n",
      "\n",
      "\n"
     ]
    }
   ],
   "source": [
    "#Training Scores\n",
    "target_names = ['0.0', '1.0']\n",
    "print(classification_report(y_train, predtrainclf_y, target_names=target_names))\n",
    "cnf = confusion_matrix(y_train, predtrainclf_y)\n",
    "print(cnf)\n",
    "\n",
    "# Accuracy tables.\n",
    "table_train = pd.crosstab(y_train, predtrainclf_y, margins=True)\n",
    "\n",
    "train_tI_errors = table_train.loc[0.0,1.0] / table_train.loc['All','All']\n",
    "train_tII_errors = table_train.loc[1.0,0.0] / table_train.loc['All','All']\n",
    "\n",
    "print((\n",
    "    'Training set accuracy:\\n'\n",
    "    'Percent Type I errors: {}\\n'\n",
    "    'Percent Type II errors: {}\\n\\n'\n",
    ").format(train_tI_errors, train_tII_errors))"
   ]
  },
  {
   "cell_type": "code",
   "execution_count": 46,
   "metadata": {},
   "outputs": [
    {
     "name": "stdout",
     "output_type": "stream",
     "text": [
      "             precision    recall  f1-score   support\n",
      "\n",
      "        0.0       1.00      0.99      1.00    270143\n",
      "        1.0       0.99      1.00      1.00    270696\n",
      "\n",
      "avg / total       1.00      1.00      1.00    540839\n",
      "\n",
      "[[268729   1414]\n",
      " [   563 270133]]\n",
      "Test set accuracy:\n",
      "Percent Type I errors: 0.002614456427883344\n",
      "Percent Type II errors: 0.001040975225529224\n",
      "[ 0.99247282  0.99217604  0.99637507  0.99744563  0.99754548]\n",
      "0.995203008399\n",
      "Cross validation PCA: 0.995539707916\n"
     ]
    }
   ],
   "source": [
    "#Test Scores\n",
    "target_names = ['0.0', '1.0']\n",
    "print(classification_report(y_test, predtestclf_y, target_names=target_names))\n",
    "cnf = confusion_matrix(y_test, predtestclf_y)\n",
    "print(cnf)\n",
    "\n",
    "table_test = pd.crosstab(y_test, predtestclf_y, margins=True)\n",
    "\n",
    "test_tI_errors = table_test.loc[0.0,1.0]/table_test.loc['All','All']\n",
    "test_tII_errors = table_test.loc[1.0,0.0]/table_test.loc['All','All']\n",
    "\n",
    "print((\n",
    "    'Test set accuracy:\\n'\n",
    "    'Percent Type I errors: {}\\n'\n",
    "    'Percent Type II errors: {}'\n",
    ").format(test_tI_errors, test_tII_errors))\n",
    "print(cross_val_score(clf,X2,y,cv=kf))\n",
    "print(cross_val_score(clf,X2,y,cv=kf).mean())\n",
    "print('Cross validation PCA:', cross_val_score(clf,XPCA,y,cv=kf).mean())"
   ]
  },
  {
   "cell_type": "markdown",
   "metadata": {},
   "source": [
    "***LDA Classifier***"
   ]
  },
  {
   "cell_type": "code",
   "execution_count": 42,
   "metadata": {
    "collapsed": true
   },
   "outputs": [],
   "source": [
    "# LDA Classification\n",
    "\n",
    "lda = LinearDiscriminantAnalysis()\n",
    "\n",
    "lda.fit(X_train, y_train)\n",
    "lda.fit(X_test, y_test)\n",
    "\n",
    "# Predict on training set\n",
    "predtrainlda_y = lda.predict(X_train)\n",
    "predtestlda_y = lda.predict(X_test)"
   ]
  },
  {
   "cell_type": "code",
   "execution_count": 43,
   "metadata": {},
   "outputs": [
    {
     "name": "stdout",
     "output_type": "stream",
     "text": [
      "             precision    recall  f1-score   support\n",
      "\n",
      "        0.0       0.81      1.00      0.89    631255\n",
      "        1.0       0.99      0.76      0.86    630702\n",
      "\n",
      "avg / total       0.90      0.88      0.88   1261957\n",
      "\n",
      "[[628611   2644]\n",
      " [148542 482160]]\n",
      "Training set accuracy:\n",
      "Percent Type I errors: 0.0020951585513611\n",
      "Percent Type II errors: 0.11770765564912275\n",
      "\n",
      "\n"
     ]
    }
   ],
   "source": [
    "#Training Scores\n",
    "target_names = ['0.0', '1.0']\n",
    "print(classification_report(y_train, predtrainlda_y, target_names=target_names))\n",
    "cnf = confusion_matrix(y_train, predtrainlda_y)\n",
    "print(cnf)\n",
    "\n",
    "# Accuracy tables.\n",
    "table_train = pd.crosstab(y_train, predtrainlda_y, margins=True)\n",
    "\n",
    "train_tI_errors = table_train.loc[0.0,1.0] / table_train.loc['All','All']\n",
    "train_tII_errors = table_train.loc[1.0,0.0] / table_train.loc['All','All']\n",
    "\n",
    "print((\n",
    "    'Training set accuracy:\\n'\n",
    "    'Percent Type I errors: {}\\n'\n",
    "    'Percent Type II errors: {}\\n\\n'\n",
    ").format(train_tI_errors, train_tII_errors))"
   ]
  },
  {
   "cell_type": "code",
   "execution_count": 44,
   "metadata": {},
   "outputs": [
    {
     "name": "stdout",
     "output_type": "stream",
     "text": [
      "             precision    recall  f1-score   support\n",
      "\n",
      "        0.0       0.81      1.00      0.89    270143\n",
      "        1.0       0.99      0.76      0.86    270696\n",
      "\n",
      "avg / total       0.90      0.88      0.88    540839\n",
      "\n",
      "[[268983   1160]\n",
      " [ 63941 206755]]\n",
      "Test set accuracy:\n",
      "Percent Type I errors: 0.002144815739989165\n",
      "Percent Type II errors: 0.11822557175055792\n",
      "[ 0.96879299  0.96926439  0.88088773  0.61805419  0.6482462 ]\n",
      "0.81704909943\n",
      "Cross validation PCA: 0.81704909943\n"
     ]
    }
   ],
   "source": [
    "#Test Scores\n",
    "target_names = ['0.0', '1.0']\n",
    "print(classification_report(y_test, predtestlda_y, target_names=target_names))\n",
    "cnf = confusion_matrix(y_test, predtestlda_y)\n",
    "print(cnf)\n",
    "\n",
    "table_test = pd.crosstab(y_test, predtestlda_y, margins=True)\n",
    "\n",
    "test_tI_errors = table_test.loc[0.0,1.0]/table_test.loc['All','All']\n",
    "test_tII_errors = table_test.loc[1.0,0.0]/table_test.loc['All','All']\n",
    "\n",
    "print((\n",
    "    'Test set accuracy:\\n'\n",
    "    'Percent Type I errors: {}\\n'\n",
    "    'Percent Type II errors: {}'\n",
    ").format(test_tI_errors, test_tII_errors))\n",
    "print(cross_val_score(lda,X2,y,cv=kf))\n",
    "print(cross_val_score(lda,X2,y,cv=kf).mean())\n",
    "print('Cross validation PCA:', cross_val_score(lda,XPCA,y,cv=kf).mean())"
   ]
  },
  {
   "cell_type": "markdown",
   "metadata": {},
   "source": [
    "Before running the model, the data was cleaned. The NaN and values values were replaced by zeros. To run the model and predict the arrival delay, the first thing that was done was to select the most meaningful features. After cleaning the data, the features that were over 10% meaningfulness using RandomForest were selected:\n",
    "\n",
    "'DepDelay \n",
    "'NASDelay'\n",
    "'LateAircraftDelay'\n",
    "'CarrierDelay'\n",
    "'TaxiOut'\n",
    "'WeatherDelay'\n",
    "\n",
    "As the delays and on-time arrivals were unevenly spread in the dataset, the dataset was resampled. In this case and due to the computing power requirements, the majority (on-time arrivals) was downsampled. The resampled dataset was split into a train and a test dataset at 30% test dataset ratio.\n",
    "\n",
    "The new dataset was run through different models: Naive Bayes, LDA, RandomForest, Logistic Regression and Gradient Boosting Classifier. Every model was run on a PCA predictors to see the max accuracy that the model was able to obtain through cross validation. \n",
    "\n",
    "The model scoring a better result in the test sample was Random Forest scorring 99% and having a reduced % of type I and type II errors in the model. The model scoring the worst reult was LDA.\n",
    "\n",
    "I couldn't run SVC due to computational restrictions in my computer. From the models that were run the best score was achieved by the Random Forest model"
   ]
  }
 ],
 "metadata": {
  "kernelspec": {
   "display_name": "Python 3",
   "language": "python",
   "name": "python3"
  },
  "language_info": {
   "codemirror_mode": {
    "name": "ipython",
    "version": 3
   },
   "file_extension": ".py",
   "mimetype": "text/x-python",
   "name": "python",
   "nbconvert_exporter": "python",
   "pygments_lexer": "ipython3",
   "version": "3.5.4"
  }
 },
 "nbformat": 4,
 "nbformat_minor": 2
}
